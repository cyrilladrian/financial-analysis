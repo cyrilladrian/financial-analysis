{
 "cells": [
  {
   "cell_type": "code",
   "execution_count": 2,
   "metadata": {},
   "outputs": [],
   "source": [
    "import pandas as pd\n",
    "import numpy as np\n"
   ]
  },
  {
   "cell_type": "code",
   "execution_count": 3,
   "metadata": {},
   "outputs": [
    {
     "data": {
      "text/html": [
       "<div>\n",
       "<style scoped>\n",
       "    .dataframe tbody tr th:only-of-type {\n",
       "        vertical-align: middle;\n",
       "    }\n",
       "\n",
       "    .dataframe tbody tr th {\n",
       "        vertical-align: top;\n",
       "    }\n",
       "\n",
       "    .dataframe thead th {\n",
       "        text-align: right;\n",
       "    }\n",
       "</style>\n",
       "<table border=\"1\" class=\"dataframe\">\n",
       "  <thead>\n",
       "    <tr style=\"text-align: right;\">\n",
       "      <th></th>\n",
       "      <th>Unnamed: 0</th>\n",
       "      <th>Average Daily Returns</th>\n",
       "      <th>Beta Alpha</th>\n",
       "      <th>Sharpe Ratio</th>\n",
       "      <th>Piotroski F-Score</th>\n",
       "      <th>Revenue Growth</th>\n",
       "      <th>Earning per Share</th>\n",
       "      <th>Price to Earning</th>\n",
       "      <th>Debt to Equity</th>\n",
       "      <th>Free Cash Flow</th>\n",
       "      <th>Return on Equity</th>\n",
       "      <th>Dividend Yield</th>\n",
       "    </tr>\n",
       "  </thead>\n",
       "  <tbody>\n",
       "    <tr>\n",
       "      <th>0</th>\n",
       "      <td>AALI.JK</td>\n",
       "      <td>-0.000030</td>\n",
       "      <td>{'beta': array([0.035]), 'alpha': array([-0.])}</td>\n",
       "      <td>-0.03</td>\n",
       "      <td>{'net_income': 833090000000.0, 'roa': 0.029987...</td>\n",
       "      <td>-22.674920</td>\n",
       "      <td>432.843720</td>\n",
       "      <td>15.479028</td>\n",
       "      <td>0.213574</td>\n",
       "      <td>NaN</td>\n",
       "      <td>4.442556</td>\n",
       "      <td>133.698119</td>\n",
       "    </tr>\n",
       "    <tr>\n",
       "      <th>1</th>\n",
       "      <td>ABBA.JK</td>\n",
       "      <td>0.001393</td>\n",
       "      <td>{'beta': array([-0.047]), 'alpha': array([0.00...</td>\n",
       "      <td>0.45</td>\n",
       "      <td>{'op_revenue_v_net_income_margin': 20350412351...</td>\n",
       "      <td>-6.034069</td>\n",
       "      <td>-11.406883</td>\n",
       "      <td>-4.470985</td>\n",
       "      <td>-20.456808</td>\n",
       "      <td>NaN</td>\n",
       "      <td>458.951936</td>\n",
       "      <td>0.000000</td>\n",
       "    </tr>\n",
       "    <tr>\n",
       "      <th>2</th>\n",
       "      <td>ABDA.JK</td>\n",
       "      <td>0.000081</td>\n",
       "      <td>{'beta': array([-0.006]), 'alpha': array([0.])}</td>\n",
       "      <td>0.07</td>\n",
       "      <td>{'net_income': 138203753000.0, 'roa': 0.055777...</td>\n",
       "      <td>15.041351</td>\n",
       "      <td>3906.974495</td>\n",
       "      <td>1.279763</td>\n",
       "      <td>0.000000</td>\n",
       "      <td>NaN</td>\n",
       "      <td>9.963071</td>\n",
       "      <td>NaN</td>\n",
       "    </tr>\n",
       "    <tr>\n",
       "      <th>3</th>\n",
       "      <td>ABMM.JK</td>\n",
       "      <td>0.001542</td>\n",
       "      <td>{'beta': array([0.138]), 'alpha': array([0.001])}</td>\n",
       "      <td>0.73</td>\n",
       "      <td>{'op_revenue_v_net_income_margin': 642066803.0...</td>\n",
       "      <td>-40.656829</td>\n",
       "      <td>-0.012952</td>\n",
       "      <td>-282578.907036</td>\n",
       "      <td>5.803908</td>\n",
       "      <td>NaN</td>\n",
       "      <td>-19.281866</td>\n",
       "      <td>20.048411</td>\n",
       "    </tr>\n",
       "    <tr>\n",
       "      <th>4</th>\n",
       "      <td>ACES.JK</td>\n",
       "      <td>-0.000341</td>\n",
       "      <td>{'beta': array([0.039]), 'alpha': array([-0.])}</td>\n",
       "      <td>-0.21</td>\n",
       "      <td>{'net_income': 733195452445.0, 'roa': 0.101596...</td>\n",
       "      <td>13.286810</td>\n",
       "      <td>42.825836</td>\n",
       "      <td>19.497576</td>\n",
       "      <td>0.163593</td>\n",
       "      <td>NaN</td>\n",
       "      <td>13.764517</td>\n",
       "      <td>27.131018</td>\n",
       "    </tr>\n",
       "  </tbody>\n",
       "</table>\n",
       "</div>"
      ],
      "text/plain": [
       "  Unnamed: 0  Average Daily Returns   \n",
       "0    AALI.JK              -0.000030  \\\n",
       "1    ABBA.JK               0.001393   \n",
       "2    ABDA.JK               0.000081   \n",
       "3    ABMM.JK               0.001542   \n",
       "4    ACES.JK              -0.000341   \n",
       "\n",
       "                                          Beta Alpha  Sharpe Ratio   \n",
       "0    {'beta': array([0.035]), 'alpha': array([-0.])}         -0.03  \\\n",
       "1  {'beta': array([-0.047]), 'alpha': array([0.00...          0.45   \n",
       "2    {'beta': array([-0.006]), 'alpha': array([0.])}          0.07   \n",
       "3  {'beta': array([0.138]), 'alpha': array([0.001])}          0.73   \n",
       "4    {'beta': array([0.039]), 'alpha': array([-0.])}         -0.21   \n",
       "\n",
       "                                   Piotroski F-Score  Revenue Growth   \n",
       "0  {'net_income': 833090000000.0, 'roa': 0.029987...      -22.674920  \\\n",
       "1  {'op_revenue_v_net_income_margin': 20350412351...       -6.034069   \n",
       "2  {'net_income': 138203753000.0, 'roa': 0.055777...       15.041351   \n",
       "3  {'op_revenue_v_net_income_margin': 642066803.0...      -40.656829   \n",
       "4  {'net_income': 733195452445.0, 'roa': 0.101596...       13.286810   \n",
       "\n",
       "   Earning per Share  Price to Earning  Debt to Equity  Free Cash Flow   \n",
       "0         432.843720         15.479028        0.213574             NaN  \\\n",
       "1         -11.406883         -4.470985      -20.456808             NaN   \n",
       "2        3906.974495          1.279763        0.000000             NaN   \n",
       "3          -0.012952    -282578.907036        5.803908             NaN   \n",
       "4          42.825836         19.497576        0.163593             NaN   \n",
       "\n",
       "   Return on Equity  Dividend Yield  \n",
       "0          4.442556      133.698119  \n",
       "1        458.951936        0.000000  \n",
       "2          9.963071             NaN  \n",
       "3        -19.281866       20.048411  \n",
       "4         13.764517       27.131018  "
      ]
     },
     "execution_count": 3,
     "metadata": {},
     "output_type": "execute_result"
    }
   ],
   "source": [
    "df = pd.read_csv(\"fundamental_analysis_version2.csv\")\n",
    "df.head()"
   ]
  },
  {
   "cell_type": "code",
   "execution_count": 5,
   "metadata": {},
   "outputs": [
    {
     "data": {
      "text/plain": [
       "Unnamed: 0                 0\n",
       "Average Daily Returns     10\n",
       "Beta Alpha               235\n",
       "Sharpe Ratio              50\n",
       "Piotroski F-Score          0\n",
       "Revenue Growth           330\n",
       "Earning per Share        336\n",
       "Price to Earning           0\n",
       "Debt to Equity             0\n",
       "Free Cash Flow           868\n",
       "Return on Equity         320\n",
       "Dividend Yield            95\n",
       "dtype: int64"
      ]
     },
     "execution_count": 5,
     "metadata": {},
     "output_type": "execute_result"
    }
   ],
   "source": [
    "df.isna().sum()"
   ]
  },
  {
   "cell_type": "code",
   "execution_count": 7,
   "metadata": {},
   "outputs": [
    {
     "data": {
      "text/plain": [
       "\"{'net_income': 833090000000.0, 'roa': 0.0299875120724492, 'op_revenue_v_net_income_margin': 17973953000000.0, 'current_ratio': 0.30716554640793275}\""
      ]
     },
     "execution_count": 7,
     "metadata": {},
     "output_type": "execute_result"
    }
   ],
   "source": [
    "df['Piotroski F-Score'][0]"
   ]
  },
  {
   "cell_type": "code",
   "execution_count": 8,
   "metadata": {},
   "outputs": [
    {
     "data": {
      "text/html": [
       "<div>\n",
       "<style scoped>\n",
       "    .dataframe tbody tr th:only-of-type {\n",
       "        vertical-align: middle;\n",
       "    }\n",
       "\n",
       "    .dataframe tbody tr th {\n",
       "        vertical-align: top;\n",
       "    }\n",
       "\n",
       "    .dataframe thead th {\n",
       "        text-align: right;\n",
       "    }\n",
       "</style>\n",
       "<table border=\"1\" class=\"dataframe\">\n",
       "  <thead>\n",
       "    <tr style=\"text-align: right;\">\n",
       "      <th></th>\n",
       "      <th>Piotroski F-Score</th>\n",
       "    </tr>\n",
       "  </thead>\n",
       "  <tbody>\n",
       "    <tr>\n",
       "      <th>0</th>\n",
       "      <td>{'net_income': 833090000000.0, 'roa': 0.029987...</td>\n",
       "    </tr>\n",
       "    <tr>\n",
       "      <th>1</th>\n",
       "      <td>{'op_revenue_v_net_income_margin': 20350412351...</td>\n",
       "    </tr>\n",
       "    <tr>\n",
       "      <th>2</th>\n",
       "      <td>{'net_income': 138203753000.0, 'roa': 0.055777...</td>\n",
       "    </tr>\n",
       "    <tr>\n",
       "      <th>3</th>\n",
       "      <td>{'op_revenue_v_net_income_margin': 642066803.0...</td>\n",
       "    </tr>\n",
       "    <tr>\n",
       "      <th>4</th>\n",
       "      <td>{'net_income': 733195452445.0, 'roa': 0.101596...</td>\n",
       "    </tr>\n",
       "  </tbody>\n",
       "</table>\n",
       "</div>"
      ],
      "text/plain": [
       "                                   Piotroski F-Score\n",
       "0  {'net_income': 833090000000.0, 'roa': 0.029987...\n",
       "1  {'op_revenue_v_net_income_margin': 20350412351...\n",
       "2  {'net_income': 138203753000.0, 'roa': 0.055777...\n",
       "3  {'op_revenue_v_net_income_margin': 642066803.0...\n",
       "4  {'net_income': 733195452445.0, 'roa': 0.101596..."
      ]
     },
     "execution_count": 8,
     "metadata": {},
     "output_type": "execute_result"
    }
   ],
   "source": [
    "piotroski = pd.DataFrame(df['Piotroski F-Score'])\n",
    "piotroski.head()\n"
   ]
  },
  {
   "cell_type": "code",
   "execution_count": 9,
   "metadata": {},
   "outputs": [
    {
     "data": {
      "text/html": [
       "<div>\n",
       "<style scoped>\n",
       "    .dataframe tbody tr th:only-of-type {\n",
       "        vertical-align: middle;\n",
       "    }\n",
       "\n",
       "    .dataframe tbody tr th {\n",
       "        vertical-align: top;\n",
       "    }\n",
       "\n",
       "    .dataframe thead th {\n",
       "        text-align: right;\n",
       "    }\n",
       "</style>\n",
       "<table border=\"1\" class=\"dataframe\">\n",
       "  <thead>\n",
       "    <tr style=\"text-align: right;\">\n",
       "      <th></th>\n",
       "    </tr>\n",
       "  </thead>\n",
       "  <tbody>\n",
       "    <tr>\n",
       "      <th>0</th>\n",
       "    </tr>\n",
       "    <tr>\n",
       "      <th>1</th>\n",
       "    </tr>\n",
       "    <tr>\n",
       "      <th>2</th>\n",
       "    </tr>\n",
       "    <tr>\n",
       "      <th>3</th>\n",
       "    </tr>\n",
       "    <tr>\n",
       "      <th>4</th>\n",
       "    </tr>\n",
       "  </tbody>\n",
       "</table>\n",
       "</div>"
      ],
      "text/plain": [
       "Empty DataFrame\n",
       "Columns: []\n",
       "Index: [0, 1, 2, 3, 4]"
      ]
     },
     "execution_count": 9,
     "metadata": {},
     "output_type": "execute_result"
    }
   ],
   "source": [
    "data = [\n",
    "    {'net_income': 833090000000.0, 'roa': 0.029987},\n",
    "    {'op_revenue_v_net_income_margin': 20350412351, 'roa': 0.055777},\n",
    "    {'net_income': 138203753000.0, 'roa': 0.055777},\n",
    "    {'op_revenue_v_net_income_margin': 642066803.0, 'roa': 0.101596},\n",
    "    {'net_income': 733195452445.0, 'roa': 0.101596}\n",
    "]\n",
    "\n",
    "df = pd.DataFrame(data)\n",
    "print(df)\n"
   ]
  },
  {
   "cell_type": "code",
   "execution_count": 12,
   "metadata": {},
   "outputs": [
    {
     "data": {
      "text/html": [
       "<div>\n",
       "<style scoped>\n",
       "    .dataframe tbody tr th:only-of-type {\n",
       "        vertical-align: middle;\n",
       "    }\n",
       "\n",
       "    .dataframe tbody tr th {\n",
       "        vertical-align: top;\n",
       "    }\n",
       "\n",
       "    .dataframe thead th {\n",
       "        text-align: right;\n",
       "    }\n",
       "</style>\n",
       "<table border=\"1\" class=\"dataframe\">\n",
       "  <thead>\n",
       "    <tr style=\"text-align: right;\">\n",
       "      <th></th>\n",
       "      <th>0</th>\n",
       "    </tr>\n",
       "  </thead>\n",
       "  <tbody>\n",
       "    <tr>\n",
       "      <th>0</th>\n",
       "      <td>{'net_income': 833090000000.0, 'roa': 0.029987...</td>\n",
       "    </tr>\n",
       "    <tr>\n",
       "      <th>1</th>\n",
       "      <td>{'op_revenue_v_net_income_margin': 20350412351...</td>\n",
       "    </tr>\n",
       "    <tr>\n",
       "      <th>2</th>\n",
       "      <td>{'net_income': 138203753000.0, 'roa': 0.055777...</td>\n",
       "    </tr>\n",
       "    <tr>\n",
       "      <th>3</th>\n",
       "      <td>{'op_revenue_v_net_income_margin': 642066803.0...</td>\n",
       "    </tr>\n",
       "    <tr>\n",
       "      <th>4</th>\n",
       "      <td>{'net_income': 733195452445.0, 'roa': 0.101596...</td>\n",
       "    </tr>\n",
       "  </tbody>\n",
       "</table>\n",
       "</div>"
      ],
      "text/plain": [
       "                                                   0\n",
       "0  {'net_income': 833090000000.0, 'roa': 0.029987...\n",
       "1  {'op_revenue_v_net_income_margin': 20350412351...\n",
       "2  {'net_income': 138203753000.0, 'roa': 0.055777...\n",
       "3  {'op_revenue_v_net_income_margin': 642066803.0...\n",
       "4  {'net_income': 733195452445.0, 'roa': 0.101596..."
      ]
     },
     "execution_count": 12,
     "metadata": {},
     "output_type": "execute_result"
    }
   ],
   "source": [
    "data = df['Piotroski F-Score'].to_list()\n",
    "df2 = pd.DataFrame(data)\n",
    "\n",
    "df2.head()"
   ]
  },
  {
   "cell_type": "code",
   "execution_count": null,
   "metadata": {},
   "outputs": [],
   "source": []
  }
 ],
 "metadata": {
  "kernelspec": {
   "display_name": "Python 3",
   "language": "python",
   "name": "python3"
  },
  "language_info": {
   "codemirror_mode": {
    "name": "ipython",
    "version": 3
   },
   "file_extension": ".py",
   "mimetype": "text/x-python",
   "name": "python",
   "nbconvert_exporter": "python",
   "pygments_lexer": "ipython3",
   "version": "3.11.2"
  }
 },
 "nbformat": 4,
 "nbformat_minor": 2
}
