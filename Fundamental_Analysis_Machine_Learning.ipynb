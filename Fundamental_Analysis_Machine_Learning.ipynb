{
  "nbformat": 4,
  "nbformat_minor": 0,
  "metadata": {
    "colab": {
      "provenance": [],
      "toc_visible": true
    },
    "kernelspec": {
      "name": "python3",
      "display_name": "Python 3"
    },
    "language_info": {
      "name": "python"
    }
  },
  "cells": [
    {
      "cell_type": "markdown",
      "source": [
        "# Financial Analysis with Data Science\n",
        "By Cyrill Adrian Wicaksono\n",
        "\n",
        "This note book aims to extracting the crucial insights from financial markets."
      ],
      "metadata": {
        "id": "B8Br30vKYgzN"
      }
    },
    {
      "cell_type": "markdown",
      "source": [
        "# Essential Libraries\n",
        "\n",
        "\n",
        "\n",
        "1.   **yfinance**: extract data from the financial market\n",
        "2.  **Quanstats**: quantitative financial analysis tools\n",
        "3. **PyPortofolioOpt**: optimization and asset allocation\n",
        "4. **TA**: technical analysis library; provides multiple technical analysis indicators\n",
        "\n"
      ],
      "metadata": {
        "id": "4l-SDP82Y9Ii"
      }
    },
    {
      "cell_type": "code",
      "source": [
        "#Installing yfinance\n",
        "!pip install yfinance\n",
        "\n",
        "#Installing Quantstats\n",
        "!pip install quantstats\n",
        "\n",
        "#Installing PyPortfolioOpt\n",
        "!pip install pyportfolioopt\n",
        "\n",
        "#Installing TA\n",
        "!pip install ta"
      ],
      "metadata": {
        "colab": {
          "base_uri": "https://localhost:8080/"
        },
        "id": "ueBqCYHrYgnK",
        "outputId": "f3caa410-9192-4aba-d512-1740147c6d32"
      },
      "execution_count": 70,
      "outputs": [
        {
          "output_type": "stream",
          "name": "stdout",
          "text": [
            "Requirement already satisfied: yfinance in /usr/local/lib/python3.10/dist-packages (0.2.37)\n",
            "Requirement already satisfied: pandas>=1.3.0 in /usr/local/lib/python3.10/dist-packages (from yfinance) (1.5.3)\n",
            "Requirement already satisfied: numpy>=1.16.5 in /usr/local/lib/python3.10/dist-packages (from yfinance) (1.25.2)\n",
            "Requirement already satisfied: requests>=2.31 in /usr/local/lib/python3.10/dist-packages (from yfinance) (2.31.0)\n",
            "Requirement already satisfied: multitasking>=0.0.7 in /usr/local/lib/python3.10/dist-packages (from yfinance) (0.0.11)\n",
            "Requirement already satisfied: lxml>=4.9.1 in /usr/local/lib/python3.10/dist-packages (from yfinance) (4.9.4)\n",
            "Requirement already satisfied: appdirs>=1.4.4 in /usr/local/lib/python3.10/dist-packages (from yfinance) (1.4.4)\n",
            "Requirement already satisfied: pytz>=2022.5 in /usr/local/lib/python3.10/dist-packages (from yfinance) (2023.4)\n",
            "Requirement already satisfied: frozendict>=2.3.4 in /usr/local/lib/python3.10/dist-packages (from yfinance) (2.4.0)\n",
            "Requirement already satisfied: peewee>=3.16.2 in /usr/local/lib/python3.10/dist-packages (from yfinance) (3.17.1)\n",
            "Requirement already satisfied: beautifulsoup4>=4.11.1 in /usr/local/lib/python3.10/dist-packages (from yfinance) (4.12.3)\n",
            "Requirement already satisfied: html5lib>=1.1 in /usr/local/lib/python3.10/dist-packages (from yfinance) (1.1)\n",
            "Requirement already satisfied: soupsieve>1.2 in /usr/local/lib/python3.10/dist-packages (from beautifulsoup4>=4.11.1->yfinance) (2.5)\n",
            "Requirement already satisfied: six>=1.9 in /usr/local/lib/python3.10/dist-packages (from html5lib>=1.1->yfinance) (1.16.0)\n",
            "Requirement already satisfied: webencodings in /usr/local/lib/python3.10/dist-packages (from html5lib>=1.1->yfinance) (0.5.1)\n",
            "Requirement already satisfied: python-dateutil>=2.8.1 in /usr/local/lib/python3.10/dist-packages (from pandas>=1.3.0->yfinance) (2.8.2)\n",
            "Requirement already satisfied: charset-normalizer<4,>=2 in /usr/local/lib/python3.10/dist-packages (from requests>=2.31->yfinance) (3.3.2)\n",
            "Requirement already satisfied: idna<4,>=2.5 in /usr/local/lib/python3.10/dist-packages (from requests>=2.31->yfinance) (3.6)\n",
            "Requirement already satisfied: urllib3<3,>=1.21.1 in /usr/local/lib/python3.10/dist-packages (from requests>=2.31->yfinance) (2.0.7)\n",
            "Requirement already satisfied: certifi>=2017.4.17 in /usr/local/lib/python3.10/dist-packages (from requests>=2.31->yfinance) (2024.2.2)\n",
            "Requirement already satisfied: quantstats in /usr/local/lib/python3.10/dist-packages (0.0.62)\n",
            "Requirement already satisfied: pandas>=0.24.0 in /usr/local/lib/python3.10/dist-packages (from quantstats) (1.5.3)\n",
            "Requirement already satisfied: numpy>=1.16.5 in /usr/local/lib/python3.10/dist-packages (from quantstats) (1.25.2)\n",
            "Requirement already satisfied: seaborn>=0.9.0 in /usr/local/lib/python3.10/dist-packages (from quantstats) (0.13.1)\n",
            "Requirement already satisfied: matplotlib>=3.0.0 in /usr/local/lib/python3.10/dist-packages (from quantstats) (3.7.1)\n",
            "Requirement already satisfied: scipy>=1.2.0 in /usr/local/lib/python3.10/dist-packages (from quantstats) (1.11.4)\n",
            "Requirement already satisfied: tabulate>=0.8.0 in /usr/local/lib/python3.10/dist-packages (from quantstats) (0.9.0)\n",
            "Requirement already satisfied: yfinance>=0.1.70 in /usr/local/lib/python3.10/dist-packages (from quantstats) (0.2.37)\n",
            "Requirement already satisfied: python-dateutil>=2.0 in /usr/local/lib/python3.10/dist-packages (from quantstats) (2.8.2)\n",
            "Requirement already satisfied: contourpy>=1.0.1 in /usr/local/lib/python3.10/dist-packages (from matplotlib>=3.0.0->quantstats) (1.2.0)\n",
            "Requirement already satisfied: cycler>=0.10 in /usr/local/lib/python3.10/dist-packages (from matplotlib>=3.0.0->quantstats) (0.12.1)\n",
            "Requirement already satisfied: fonttools>=4.22.0 in /usr/local/lib/python3.10/dist-packages (from matplotlib>=3.0.0->quantstats) (4.49.0)\n",
            "Requirement already satisfied: kiwisolver>=1.0.1 in /usr/local/lib/python3.10/dist-packages (from matplotlib>=3.0.0->quantstats) (1.4.5)\n",
            "Requirement already satisfied: packaging>=20.0 in /usr/local/lib/python3.10/dist-packages (from matplotlib>=3.0.0->quantstats) (23.2)\n",
            "Requirement already satisfied: pillow>=6.2.0 in /usr/local/lib/python3.10/dist-packages (from matplotlib>=3.0.0->quantstats) (9.4.0)\n",
            "Requirement already satisfied: pyparsing>=2.3.1 in /usr/local/lib/python3.10/dist-packages (from matplotlib>=3.0.0->quantstats) (3.1.1)\n",
            "Requirement already satisfied: pytz>=2020.1 in /usr/local/lib/python3.10/dist-packages (from pandas>=0.24.0->quantstats) (2023.4)\n",
            "Requirement already satisfied: six>=1.5 in /usr/local/lib/python3.10/dist-packages (from python-dateutil>=2.0->quantstats) (1.16.0)\n",
            "Requirement already satisfied: requests>=2.31 in /usr/local/lib/python3.10/dist-packages (from yfinance>=0.1.70->quantstats) (2.31.0)\n",
            "Requirement already satisfied: multitasking>=0.0.7 in /usr/local/lib/python3.10/dist-packages (from yfinance>=0.1.70->quantstats) (0.0.11)\n",
            "Requirement already satisfied: lxml>=4.9.1 in /usr/local/lib/python3.10/dist-packages (from yfinance>=0.1.70->quantstats) (4.9.4)\n",
            "Requirement already satisfied: appdirs>=1.4.4 in /usr/local/lib/python3.10/dist-packages (from yfinance>=0.1.70->quantstats) (1.4.4)\n",
            "Requirement already satisfied: frozendict>=2.3.4 in /usr/local/lib/python3.10/dist-packages (from yfinance>=0.1.70->quantstats) (2.4.0)\n",
            "Requirement already satisfied: peewee>=3.16.2 in /usr/local/lib/python3.10/dist-packages (from yfinance>=0.1.70->quantstats) (3.17.1)\n",
            "Requirement already satisfied: beautifulsoup4>=4.11.1 in /usr/local/lib/python3.10/dist-packages (from yfinance>=0.1.70->quantstats) (4.12.3)\n",
            "Requirement already satisfied: html5lib>=1.1 in /usr/local/lib/python3.10/dist-packages (from yfinance>=0.1.70->quantstats) (1.1)\n",
            "Requirement already satisfied: soupsieve>1.2 in /usr/local/lib/python3.10/dist-packages (from beautifulsoup4>=4.11.1->yfinance>=0.1.70->quantstats) (2.5)\n",
            "Requirement already satisfied: webencodings in /usr/local/lib/python3.10/dist-packages (from html5lib>=1.1->yfinance>=0.1.70->quantstats) (0.5.1)\n",
            "Requirement already satisfied: charset-normalizer<4,>=2 in /usr/local/lib/python3.10/dist-packages (from requests>=2.31->yfinance>=0.1.70->quantstats) (3.3.2)\n",
            "Requirement already satisfied: idna<4,>=2.5 in /usr/local/lib/python3.10/dist-packages (from requests>=2.31->yfinance>=0.1.70->quantstats) (3.6)\n",
            "Requirement already satisfied: urllib3<3,>=1.21.1 in /usr/local/lib/python3.10/dist-packages (from requests>=2.31->yfinance>=0.1.70->quantstats) (2.0.7)\n",
            "Requirement already satisfied: certifi>=2017.4.17 in /usr/local/lib/python3.10/dist-packages (from requests>=2.31->yfinance>=0.1.70->quantstats) (2024.2.2)\n",
            "Requirement already satisfied: pyportfolioopt in /usr/local/lib/python3.10/dist-packages (1.5.5)\n",
            "Requirement already satisfied: cvxpy<2.0.0,>=1.1.19 in /usr/local/lib/python3.10/dist-packages (from pyportfolioopt) (1.3.3)\n",
            "Requirement already satisfied: numpy<2.0.0,>=1.22.4 in /usr/local/lib/python3.10/dist-packages (from pyportfolioopt) (1.25.2)\n",
            "Requirement already satisfied: pandas>=0.19 in /usr/local/lib/python3.10/dist-packages (from pyportfolioopt) (1.5.3)\n",
            "Requirement already satisfied: scipy<2.0,>=1.3 in /usr/local/lib/python3.10/dist-packages (from pyportfolioopt) (1.11.4)\n",
            "Requirement already satisfied: osqp>=0.4.1 in /usr/local/lib/python3.10/dist-packages (from cvxpy<2.0.0,>=1.1.19->pyportfolioopt) (0.6.2.post8)\n",
            "Requirement already satisfied: ecos>=2 in /usr/local/lib/python3.10/dist-packages (from cvxpy<2.0.0,>=1.1.19->pyportfolioopt) (2.0.13)\n",
            "Requirement already satisfied: scs>=1.1.6 in /usr/local/lib/python3.10/dist-packages (from cvxpy<2.0.0,>=1.1.19->pyportfolioopt) (3.2.4.post1)\n",
            "Requirement already satisfied: setuptools>65.5.1 in /usr/local/lib/python3.10/dist-packages (from cvxpy<2.0.0,>=1.1.19->pyportfolioopt) (67.7.2)\n",
            "Requirement already satisfied: python-dateutil>=2.8.1 in /usr/local/lib/python3.10/dist-packages (from pandas>=0.19->pyportfolioopt) (2.8.2)\n",
            "Requirement already satisfied: pytz>=2020.1 in /usr/local/lib/python3.10/dist-packages (from pandas>=0.19->pyportfolioopt) (2023.4)\n",
            "Requirement already satisfied: qdldl in /usr/local/lib/python3.10/dist-packages (from osqp>=0.4.1->cvxpy<2.0.0,>=1.1.19->pyportfolioopt) (0.1.7.post0)\n",
            "Requirement already satisfied: six>=1.5 in /usr/local/lib/python3.10/dist-packages (from python-dateutil>=2.8.1->pandas>=0.19->pyportfolioopt) (1.16.0)\n",
            "Requirement already satisfied: ta in /usr/local/lib/python3.10/dist-packages (0.11.0)\n",
            "Requirement already satisfied: numpy in /usr/local/lib/python3.10/dist-packages (from ta) (1.25.2)\n",
            "Requirement already satisfied: pandas in /usr/local/lib/python3.10/dist-packages (from ta) (1.5.3)\n",
            "Requirement already satisfied: python-dateutil>=2.8.1 in /usr/local/lib/python3.10/dist-packages (from pandas->ta) (2.8.2)\n",
            "Requirement already satisfied: pytz>=2020.1 in /usr/local/lib/python3.10/dist-packages (from pandas->ta) (2023.4)\n",
            "Requirement already satisfied: six>=1.5 in /usr/local/lib/python3.10/dist-packages (from python-dateutil>=2.8.1->pandas->ta) (1.16.0)\n"
          ]
        }
      ]
    },
    {
      "cell_type": "code",
      "source": [
        "#Import libraries\n",
        "import pandas as pd\n",
        "from pandas_datareader import data\n",
        "import numpy as np\n",
        "from scipy import stats\n",
        "\n",
        "import quantstats as qs\n",
        "import ta\n",
        "import yfinance as yf\n",
        "\n",
        "import matplotlib.pyplot as plt\n",
        "\n",
        "from sklearn.linear_model import LinearRegression"
      ],
      "metadata": {
        "id": "JlClGDPUaSyw"
      },
      "execution_count": 71,
      "outputs": []
    },
    {
      "cell_type": "markdown",
      "source": [
        "# Fundamental Analysis\n",
        "This is the exploration process; using stocks for 4 tickers namely: BBRI, BBCA, BMRI, and BBNI\n"
      ],
      "metadata": {
        "id": "VBIpgd81bc20"
      }
    },
    {
      "cell_type": "code",
      "source": [
        "tickers = [\"BBCA.JK\", \"BBNI.JK\", \"BMRI.JK\", \"BBRI.JK\"]"
      ],
      "metadata": {
        "id": "vK5QMT8BwNBz"
      },
      "execution_count": 148,
      "outputs": []
    },
    {
      "cell_type": "markdown",
      "source": [
        "## Daily Returns\n",
        "A stock daily return is the percentual change in price over a single day. We calculate it between the difference between the stock's closing price on one day and its closing price the day before, dividing the result by closing of the day before, and multiplying it by 100.\n"
      ],
      "metadata": {
        "id": "n4qCCoCDbh6Q"
      }
    },
    {
      "cell_type": "markdown",
      "source": [
        "For example:\n",
        "<center>$((price On Monday - priceOnTuesday) \\div 100) \\times 100 = Daily Returns$</center>"
      ],
      "metadata": {
        "id": "M9e_jqr7cKRy"
      }
    },
    {
      "cell_type": "code",
      "source": [
        "returns_data = {}\n",
        "\n",
        "for ticker in tickers:\n",
        "    returns = qs.utils.download_returns(ticker)\n",
        "    returns_data[ticker] = returns.loc['2010-07-01': '2024-02-10']\n"
      ],
      "metadata": {
        "colab": {
          "base_uri": "https://localhost:8080/"
        },
        "id": "774fysK1bIRk",
        "outputId": "f585951e-eeb4-4c3e-d58e-75365d2d0607"
      },
      "execution_count": 73,
      "outputs": [
        {
          "output_type": "stream",
          "name": "stderr",
          "text": [
            "[*********************100%%**********************]  1 of 1 completed\n",
            "[*********************100%%**********************]  1 of 1 completed\n",
            "[*********************100%%**********************]  1 of 1 completed\n",
            "[*********************100%%**********************]  1 of 1 completed\n"
          ]
        }
      ]
    },
    {
      "cell_type": "markdown",
      "source": [
        "## Average Daily Returns\n"
      ],
      "metadata": {
        "id": "xmrZbshSl9Mi"
      }
    },
    {
      "cell_type": "markdown",
      "source": [
        "\n",
        "Calculate the average daily returns of each stock from the data\n"
      ],
      "metadata": {
        "id": "V6F9LvmK3eqs"
      }
    },
    {
      "cell_type": "code",
      "source": [
        "\n",
        "for ticker in tickers:\n",
        "  print(f\"Average Daily Returns {ticker} : {returns_data[ticker].mean()}\")"
      ],
      "metadata": {
        "colab": {
          "base_uri": "https://localhost:8080/"
        },
        "id": "LKKDhL6hlDDW",
        "outputId": "041ed77f-f5b0-4493-97ed-36bf5b7fd4d3"
      },
      "execution_count": 102,
      "outputs": [
        {
          "output_type": "stream",
          "name": "stdout",
          "text": [
            "Average daily returns BBCA.JK : 0.000746378538102235\n",
            "Average daily returns BBNI.JK : 0.0007087290967559536\n",
            "Average daily returns BMRI.JK : 0.0006728326821862299\n",
            "Average daily returns BBRI.JK : 0.0007871482361318915\n"
          ]
        }
      ]
    },
    {
      "cell_type": "markdown",
      "source": [
        "## Beta and Alpha\n",
        "Beta and Alpha are the two key matrix used in finance to evaluate the performance of a stock relative to the overall market. Beta is a measure of a stock vollatility compared to the market. Alpha, on the other hand, is a measurement of a stock excess return relative to its expected performance based on its Beta."
      ],
      "metadata": {
        "id": "1qzJtXrUoDaX"
      }
    },
    {
      "cell_type": "code",
      "source": [
        "ihsg = qs.utils.download_returns(\"^JKSE\")\n",
        "ihsg = ihsg.loc['2010-07-01': '2024-02-10']\n",
        "\n",
        "returns_data[\"IHSG.JK\"] = ihsg"
      ],
      "metadata": {
        "colab": {
          "base_uri": "https://localhost:8080/"
        },
        "id": "fHOIsrOmoAxO",
        "outputId": "41928541-8e78-41fa-fb01-bc8315955b4d"
      },
      "execution_count": 75,
      "outputs": [
        {
          "output_type": "stream",
          "name": "stderr",
          "text": [
            "\r[*********************100%%**********************]  1 of 1 completed\n"
          ]
        }
      ]
    },
    {
      "cell_type": "code",
      "source": [
        "returns_no_index = {}\n",
        "\n",
        "for ticker in tickers:\n",
        "  returns_no_index[ticker] = returns_data[ticker].reset_index(drop=True)\n",
        "\n",
        "returns_no_index['IHSG.JK'] = returns_data['IHSG.JK'].reset_index(drop=True)"
      ],
      "metadata": {
        "id": "E0l4B1ormP0l"
      },
      "execution_count": 76,
      "outputs": []
    },
    {
      "cell_type": "code",
      "source": [
        "def compute_alpha_beta(stock):\n",
        "  result= {}\n",
        "  X = returns_no_index[\"IHSG.JK\"].values.reshape(-1, 1)\n",
        "  y = stock.values.reshape(-1, 1)\n",
        "\n",
        "\n",
        "  if len(X) != len(y):\n",
        "      min_len = min(len(X), len(y))\n",
        "      X = X[:min_len]\n",
        "      y = y[:min_len]\n",
        "\n",
        "  model = LinearRegression()\n",
        "  model.fit(X, y)\n",
        "\n",
        "  beta = model.coef_[0]\n",
        "  alpha = model.intercept_\n",
        "\n",
        "  result['beta'] = beta.round(3)\n",
        "  result['alpha'] = alpha.round(3)\n",
        "  return result\n",
        "\n",
        "\n"
      ],
      "metadata": {
        "id": "ZHhOQiimqGVy"
      },
      "execution_count": 77,
      "outputs": []
    },
    {
      "cell_type": "code",
      "source": [
        "for stock in returns_no_index.keys():\n",
        "  result = compute_alpha_beta(returns_no_index[stock])\n",
        "  print(f\"{stock}: {result}\")\n"
      ],
      "metadata": {
        "colab": {
          "base_uri": "https://localhost:8080/"
        },
        "id": "EokHSq5IspWV",
        "outputId": "ea1a3662-4331-47a4-fc82-7887ec0e4806"
      },
      "execution_count": 78,
      "outputs": [
        {
          "output_type": "stream",
          "name": "stdout",
          "text": [
            "BBCA.JK: {'beta': array([0.411]), 'alpha': array([0.001])}\n",
            "BBNI.JK: {'beta': array([0.473]), 'alpha': array([0.001])}\n",
            "BMRI.JK: {'beta': array([0.535]), 'alpha': array([0.])}\n",
            "BBRI.JK: {'beta': array([0.532]), 'alpha': array([0.001])}\n",
            "IHSG.JK: {'beta': array([1.]), 'alpha': array([0.])}\n"
          ]
        }
      ]
    },
    {
      "cell_type": "markdown",
      "source": [
        "Beta values for all the stocks are greater than 1, meaning that they are more volatile than the benchmark and may offer higher returns, but also come with greater risks. On the other hand, the alpha values for all the stocks are small, close to zero, suggesting that there is little difference between the expected returns and the risk-adjusted returns"
      ],
      "metadata": {
        "id": "6qId0lGYsv7e"
      }
    },
    {
      "cell_type": "markdown",
      "source": [
        "## Sharpe Ratio\n",
        "\n",
        "Sharpe ratio measures of risk-adjusted return of investments. It is calculated by dividing the average excess return of investments over the standard deviation of returns. Here is the equation:"
      ],
      "metadata": {
        "id": "5OUIakRFs4V-"
      }
    },
    {
      "cell_type": "markdown",
      "source": [
        "<div style=\"display: flex; justify-content: center;\">\n",
        "  <center><img src=\"https://latex.codecogs.com/png.image?\\dpi{150}&space;\\bg_white&space;\\text{Sharpe&space;ratio}&space;=&space;\\frac{R_p&space;-&space;R_f}{\\sigma_p}\" title=\"\\text{Sharpe ratio} = \\frac{R_p - R_f}{\\sigma_p}\" /></center>\n",
        "</div>"
      ],
      "metadata": {
        "id": "Y1RDdc_FTyUK"
      }
    },
    {
      "cell_type": "markdown",
      "source": [
        "where <b><i>R<sub>p</sub></i></b> is the average return of the investment, <i><b>R<sub>f</sub></b></i> is the risk-free rate of return, and <i><b>σ<sub>p</sub></b></i> is the standard deviation of the returns. The average excess return is the difference between the average return of the investment and the risk-free rate of return, typically represented by a government bond. The standard deviation is a measurement of the volatility of returns.</p>\n",
        "<br>"
      ],
      "metadata": {
        "id": "5M5S5kWET9UD"
      }
    },
    {
      "cell_type": "markdown",
      "source": [
        "A higher Sharpe ratio indicates that an investment provides higher returns for a given level of risk compared to other investments with a lower Sharpe ratio. In general, a Sharpe ratio greater than 1 is considered good, while a Sharpe ratio less than 1 is considered poor. A Sharpe ratio of 1 means that the investment's average return is equal to the risk-free rate of return.\n",
        "\n",
        "In general, a Sharpe ratio under 1.0 is considered bad, equal to 1.0 is considered acceptable or good, 2.0 or higher is rated as very good, and 3.0 or higher is considered excellent.\n"
      ],
      "metadata": {
        "id": "0f6Xu13LUCF_"
      }
    },
    {
      "cell_type": "code",
      "source": [
        "for stock in returns_data.keys():\n",
        "  print(f\"Sharpe Ratio for {stock}: {qs.stats.sharpe(returns_data[stock]).round(2)}\")"
      ],
      "metadata": {
        "id": "zoqNzhRnszcK",
        "colab": {
          "base_uri": "https://localhost:8080/"
        },
        "outputId": "7ffb9ce6-c856-4b37-e806-cc621aa9c634"
      },
      "execution_count": 79,
      "outputs": [
        {
          "output_type": "stream",
          "name": "stdout",
          "text": [
            "Sharpe Ratio for BBCA.JK: 0.75\n",
            "Sharpe Ratio for BBNI.JK: 0.53\n",
            "Sharpe Ratio for BMRI.JK: 0.52\n",
            "Sharpe Ratio for BBRI.JK: 0.6\n",
            "Sharpe Ratio for IHSG.JK: 0.51\n"
          ]
        }
      ]
    },
    {
      "cell_type": "markdown",
      "source": [
        "None of the stocks have a Sharp ratio above 1, which may suggest that these investments' average returns are beneath the risk-free rate of return.\n",
        "\n",
        "It's important to note that the Sharpe ratio is an annual metric and, since the beginning of 2022, the market, in general, has been bearish, with prices going down over the past year."
      ],
      "metadata": {
        "id": "u8NsZ6ZzWEyP"
      }
    },
    {
      "cell_type": "markdown",
      "source": [
        "## Piotroski F-Score"
      ],
      "metadata": {
        "id": "kBXTZGy1tCgi"
      }
    },
    {
      "cell_type": "markdown",
      "source": [
        "The Piotroski F-score is a scoring system designed by Joseph Piotroski to assess the financial strength of a company based on its fundamental characteristics. The score ranges from 0 to 9, with a higher score indicating better financial health. Here's how the F-score is calculated based on the provided code:\n",
        "\n",
        "1. **Net Income (NI) > 0 (Criteria 1):**\n",
        "   - If the net income of the latest fiscal year is greater than zero, assign 1 point.\n",
        "\n",
        "2. **Operating Cash Flow (OCF) > 0 (Criteria 2):**\n",
        "   - If the operating cash flow of the latest fiscal year is greater than zero, assign 1 point.\n",
        "\n",
        "3. **Return on Assets (ROA) > 0 (Criteria 3):**\n",
        "   - Calculate the return on assets (net income divided by total assets).\n",
        "   - If the ROA is greater than zero, assign 1 point.\n",
        "\n",
        "4. **Cash Flow from Operations (OCF) > Net Income (NI) (Criteria 4):**\n",
        "   - If the cash flow from operations of the latest fiscal year is greater than the net income, assign 1 point.\n",
        "\n",
        "5. **Long-Term Debt (LT Debt) Decreased (Criteria 5):**\n",
        "   - If the long-term debt decreased from the previous fiscal year to the latest fiscal year, assign 1 point.\n",
        "\n",
        "6. **Current Ratio Increased (Criteria 6):**\n",
        "   - If the current ratio (total current assets divided by total current liabilities) increased from the previous fiscal year to the latest fiscal year, assign 1 point.\n",
        "\n",
        "7. **Shares Outstanding (SO) Decreased (Criteria 7):**\n",
        "   - If the number of shares outstanding decreased from the previous fiscal year to the latest fiscal year, assign 1 point.\n",
        "\n",
        "8. **Gross Margin (GM) Increased (Criteria 8):**\n",
        "   - If the gross margin (total revenue minus cost of revenue) increased from the previous fiscal year to the latest fiscal year, assign 1 point.\n",
        "\n",
        "Finally, the total Piotroski F-score is the sum of points assigned based on meeting each of the criteria."
      ],
      "metadata": {
        "id": "Z1Sc1jdUtPR9"
      }
    },
    {
      "cell_type": "code",
      "source": [
        "def compute_piotroski_score(ticker):\n",
        "    # Fetch balance sheet data\n",
        "    balance_sheet = yf.Ticker(ticker).balance_sheet\n",
        "\n",
        "    # Fetch cash flow data\n",
        "    cash_flow = yf.Ticker(ticker).cashflow\n",
        "\n",
        "    # Fetch financial statement data\n",
        "    financials = yf.Ticker(ticker).financials\n",
        "\n",
        "    # Concatenate the data vertically\n",
        "    data = pd.concat([balance_sheet, cash_flow, financials]).transpose()\n",
        "\n",
        "    result = 0\n",
        "\n",
        "\n",
        "    # Criteria 1: Net Income (NI) > 0\n",
        "    if data['Net Income'][-1] > 0:\n",
        "        result += 1\n",
        "\n",
        "    # Criteria 2: Operating Cash Flow (OCF) > 0\n",
        "    if data['Operating Cash Flow'][-1] > 0:\n",
        "        result += 1\n",
        "\n",
        "    # Criteria 3: Return on Assets (ROA) > 0\n",
        "    if data['Total Assets'][-1] > 0:\n",
        "        roa = data['Net Income'][-1] / data['Total Assets'][-1]\n",
        "        if roa > 0:\n",
        "            result += 1\n",
        "\n",
        "    # Criteria 4: Cash Flow from Operations (OCF) > Net Income (NI)\n",
        "    if data['Operating Revenue'][-1] > data['Net Income'][-1]:\n",
        "        result += 1\n",
        "\n",
        "    # Criteria 5: Long-Term Debt (LT Debt) Decreased\n",
        "    if data ['Long Term Debt And Capital Lease Obligation'][-1] < data['Long Term Debt And Capital Lease Obligation'][-2]:\n",
        "        result += 1\n",
        "\n",
        "    # Criteria 6: Current Ratio Increased\n",
        "    if data['Total Assets'][-1] > data['Total Liabilities Net Minority Interest' ][-1]:\n",
        "        result +=1\n",
        "\n",
        "    # Criteria 7: Shares Outstanding (SO) Decreased\n",
        "    if data['Diluted Average Shares'][-1] < data['Diluted Average Shares'][-2]:\n",
        "        result += 1\n",
        "\n",
        "    # Criteria 8: Gross Margin (GM) Increased\n",
        "    if data['Total Revenue'][-1] > data['Operating Revenue'][-1]:\n",
        "        result += 1\n",
        "\n",
        "\n",
        "    return result\n"
      ],
      "metadata": {
        "id": "eHEh3TMV7okd"
      },
      "execution_count": 149,
      "outputs": []
    },
    {
      "cell_type": "code",
      "source": [
        "for ticker in tickers:\n",
        "  print(f\"Piotroski F-Score for {ticker}: {compute_piotroski_score(ticker)}\")"
      ],
      "metadata": {
        "colab": {
          "base_uri": "https://localhost:8080/"
        },
        "id": "J4KWfLUGueE0",
        "outputId": "53460da3-822f-4473-fb7c-ab35383cd48a"
      },
      "execution_count": 150,
      "outputs": [
        {
          "output_type": "stream",
          "name": "stdout",
          "text": [
            "Piotroski F-Score for BBCA.JK: 5\n",
            "Piotroski F-Score for BBNI.JK: 6\n",
            "Piotroski F-Score for BMRI.JK: 6\n",
            "Piotroski F-Score for BBRI.JK: 6\n"
          ]
        }
      ]
    },
    {
      "cell_type": "markdown",
      "source": [
        "## Revenue Growth"
      ],
      "metadata": {
        "id": "q8XoN1DDtzKg"
      }
    },
    {
      "cell_type": "markdown",
      "source": [
        "Calculate the percentage change in revenue over a specified period (e.g., year-over-year growth rate)."
      ],
      "metadata": {
        "id": "cjHOta-4UAWt"
      }
    },
    {
      "cell_type": "code",
      "source": [
        "def compute_revenue_growth(ticker):\n",
        "    revenue_growth = 0\n",
        "    # Fetch historical revenue data\n",
        "    revenue_data = yf.Ticker(ticker).financials.transpose()['Total Revenue']\n",
        "\n",
        "    # Compute revenue growth percentage\n",
        "    current_revenue = revenue_data[-1]\n",
        "    previous_revenue = revenue_data[-2]\n",
        "    revenue_growth = ((current_revenue - previous_revenue) / previous_revenue) * 100\n",
        "\n",
        "\n",
        "    return revenue_growth"
      ],
      "metadata": {
        "id": "YPvjDYbTt2m7"
      },
      "execution_count": 82,
      "outputs": []
    },
    {
      "cell_type": "code",
      "source": [
        "for ticker in tickers:\n",
        "  growth_percentage = compute_revenue_growth(ticker)\n",
        "  print(f\"Revenue Growth {ticker}: {growth_percentage:.2f}%\")"
      ],
      "metadata": {
        "colab": {
          "base_uri": "https://localhost:8080/"
        },
        "id": "nTfgPdq3-NgL",
        "outputId": "7d12014f-189b-47d5-9aa7-d93ec8153f63"
      },
      "execution_count": 83,
      "outputs": [
        {
          "output_type": "stream",
          "name": "stdout",
          "text": [
            "Revenue Growth BBCA.JK: -4.28%\n",
            "Revenue Growth BBNI.JK: -4.78%\n",
            "Revenue Growth BMRI.JK: -11.96%\n",
            "Revenue Growth BBRI.JK: -16.01%\n"
          ]
        }
      ]
    },
    {
      "cell_type": "markdown",
      "source": [
        "## Earning Per Share"
      ],
      "metadata": {
        "id": "tgOouOdet5HM"
      }
    },
    {
      "cell_type": "markdown",
      "source": [
        "Divide the company's net income by the number of outstanding shares."
      ],
      "metadata": {
        "id": "b0TpNrb5UDiw"
      }
    },
    {
      "cell_type": "code",
      "source": [
        "def compute_eps(ticker):\n",
        "  eps = 0\n",
        "  net_income = yf.Ticker(ticker).financials.transpose()['Net Income']\n",
        "  outstanding_shares = yf.Ticker(ticker).info['sharesOutstanding']\n",
        "\n",
        "  eps = net_income[-1]/outstanding_shares\n",
        "\n",
        "  return eps"
      ],
      "metadata": {
        "id": "T80Wle3rt4Oj"
      },
      "execution_count": 85,
      "outputs": []
    },
    {
      "cell_type": "code",
      "source": [
        "for ticker in tickers:\n",
        "  print(f\"EPS scores for {ticker}: {compute_eps(ticker)}\")"
      ],
      "metadata": {
        "colab": {
          "base_uri": "https://localhost:8080/"
        },
        "id": "Q-ueJmKBCRr1",
        "outputId": "4f9dcca0-aa71-4527-d0eb-1e36e7812520"
      },
      "execution_count": 86,
      "outputs": [
        {
          "output_type": "stream",
          "name": "stdout",
          "text": [
            "EPS scores for BBCA.JK: 220.0860563092296\n",
            "EPS scores for BBNI.JK: 5668.729079429653\n",
            "EPS scores for BMRI.JK: 179.99486939812365\n",
            "EPS scores for BBRI.JK: 123.71264530913241\n"
          ]
        }
      ]
    },
    {
      "cell_type": "markdown",
      "source": [
        "## Price-to-Earning"
      ],
      "metadata": {
        "id": "0rt1ixyvuDLP"
      }
    },
    {
      "cell_type": "markdown",
      "source": [
        "Divide the current market price per share by the earnings per share."
      ],
      "metadata": {
        "id": "6Qo3LDTrUIb4"
      }
    },
    {
      "cell_type": "code",
      "source": [
        "def compute_pe_ratio(ticker):\n",
        "  pe_ratio = 0\n",
        "\n",
        "  try:\n",
        "    current_price = yf.Ticker(ticker).info['currentPrice']\n",
        "\n",
        "    eps = yf.Ticker(ticker).financials.transpose()['Net Income'][-1] / yf.Ticker(ticker).info['sharesOutstanding']\n",
        "    pe_ratio = current_price/eps\n",
        "  except KeyError as e:\n",
        "    print(f\"KeyError: {e}\")\n",
        "\n",
        "  return pe_ratio"
      ],
      "metadata": {
        "id": "scRTKLqguH4c"
      },
      "execution_count": 87,
      "outputs": []
    },
    {
      "cell_type": "code",
      "source": [
        "for ticker in tickers:\n",
        "  print(f\"PE Ratio for {ticker}: {compute_pe_ratio(ticker)}\")"
      ],
      "metadata": {
        "colab": {
          "base_uri": "https://localhost:8080/"
        },
        "id": "SbES9XK8EINF",
        "outputId": "f5277283-2e70-4201-b2b9-bafc7c100260"
      },
      "execution_count": 88,
      "outputs": [
        {
          "output_type": "stream",
          "name": "stdout",
          "text": [
            "PE Ratio for BBCA.JK: 46.11832376031514\n",
            "PE Ratio for BBNI.JK: 1.0760789437151472\n",
            "PE Ratio for BMRI.JK: 39.58446162285043\n",
            "PE Ratio for BBRI.JK: 51.32862517111859\n"
          ]
        }
      ]
    },
    {
      "cell_type": "markdown",
      "source": [
        "## Debt-to-Equity"
      ],
      "metadata": {
        "id": "GDYAYrCkuI5f"
      }
    },
    {
      "cell_type": "markdown",
      "source": [
        "Divide total debt by shareholders' equity."
      ],
      "metadata": {
        "id": "oMDhl9Y9UM-r"
      }
    },
    {
      "cell_type": "code",
      "source": [
        "def compute_debt_to_equity_ratio(ticker):\n",
        "  debt_to_equity_ratio = 0\n",
        "  try:\n",
        "      total_stockholder_equity = yf.Ticker(ticker).balance_sheet.transpose()['Stockholders Equity']\n",
        "      total_debt = yf.Ticker(ticker).info['totalDebt']\n",
        "      debt_to_equity_ratio = total_debt / total_stockholder_equity[-1]\n",
        "\n",
        "  except KeyError as e:\n",
        "    print(f\"KeyError: {e}\")\n",
        "\n",
        "  return debt_to_equity_ratio"
      ],
      "metadata": {
        "id": "-FP1HJtkF9Bl"
      },
      "execution_count": 90,
      "outputs": []
    },
    {
      "cell_type": "code",
      "source": [
        "for ticker in tickers:\n",
        "  print(f\"Debt-to-Equity for {ticker}: {compute_debt_to_equity_ratio(ticker)}\")"
      ],
      "metadata": {
        "colab": {
          "base_uri": "https://localhost:8080/"
        },
        "id": "pINLrB_ZExj9",
        "outputId": "7d412b43-b910-4c5b-df45-08e61f4eb535"
      },
      "execution_count": 91,
      "outputs": [
        {
          "output_type": "stream",
          "name": "stdout",
          "text": [
            "Debt-to-Equity for BBCA.JK: 0.03749632728183334\n",
            "Debt-to-Equity for BBNI.JK: 0.48998715045413244\n",
            "Debt-to-Equity for BMRI.JK: 1.018590890563945\n",
            "Debt-to-Equity for BBRI.JK: 0.7651531417484786\n"
          ]
        }
      ]
    },
    {
      "cell_type": "markdown",
      "source": [
        "## Free Cash Flow"
      ],
      "metadata": {
        "id": "DLzjFc_yuNFs"
      }
    },
    {
      "cell_type": "markdown",
      "source": [
        "Subtract capital expenditures from operating cash flow."
      ],
      "metadata": {
        "id": "2VPwSBRaUQZi"
      }
    },
    {
      "cell_type": "code",
      "source": [
        "def compute_free_cashflow(ticker):\n",
        "  financial = yf.Ticker(ticker).cashflow.transpose()\n",
        "\n",
        "  op_cf = financial['Operating Cash Flow'][-1]\n",
        "  capex = financial['Capital Expenditure'][-1]\n",
        "\n",
        "  return  op_cf - capex\n",
        ""
      ],
      "metadata": {
        "id": "6oPrAM9MuQRO"
      },
      "execution_count": 92,
      "outputs": []
    },
    {
      "cell_type": "code",
      "source": [
        "for ticker in tickers:\n",
        "  print(f\"Free Cashflow of {ticker}: {compute_free_cashflow(ticker)}\")"
      ],
      "metadata": {
        "id": "jV5eyIeuuQtr",
        "colab": {
          "base_uri": "https://localhost:8080/"
        },
        "outputId": "ef3aeeee-648f-469b-b0d5-44fda8abfb23"
      },
      "execution_count": 69,
      "outputs": [
        {
          "output_type": "stream",
          "name": "stdout",
          "text": [
            "Free Cashflow of BBCA.JK: 53652612000000.0\n",
            "Free Cashflow of BBNI.JK: 75527364000000.0\n",
            "Free Cashflow of BMRI.JK: 116599094000000.0\n",
            "Free Cashflow of BBRI.JK: 34179650000000.0\n"
          ]
        }
      ]
    },
    {
      "cell_type": "markdown",
      "source": [
        "## Return On Equity"
      ],
      "metadata": {
        "id": "NE5ea59TuRXO"
      }
    },
    {
      "cell_type": "markdown",
      "source": [
        "Divide net income by shareholders' equity."
      ],
      "metadata": {
        "id": "A2_VWxIxUTiW"
      }
    },
    {
      "cell_type": "code",
      "source": [
        "def compute_return_on_equity(ticker):\n",
        "  total_stockholder_equity = yf.Ticker(ticker).balance_sheet.transpose()['Stockholders Equity'][-1]\n",
        "  net_income = yf.Ticker(ticker).financials.transpose()['Net Income'][-1]\n",
        "\n",
        "  roe = (net_income/total_stockholder_equity) * 100\n",
        "  return roe\n"
      ],
      "metadata": {
        "id": "L75ZdbzIuUIL"
      },
      "execution_count": 97,
      "outputs": []
    },
    {
      "cell_type": "code",
      "source": [
        "for ticker in tickers:\n",
        "  print(f\"Free Return On Equity of {ticker}: {compute_return_on_equity(ticker)}\")"
      ],
      "metadata": {
        "id": "mhg7Fpy_uUxc",
        "colab": {
          "base_uri": "https://localhost:8080/"
        },
        "outputId": "f429b794-b7b1-454b-c2c0-d3befbbbe0a9"
      },
      "execution_count": 98,
      "outputs": [
        {
          "output_type": "stream",
          "name": "stdout",
          "text": [
            "Free Return On Equity of BBCA.JK: 14.697534662742962\n",
            "Free Return On Equity of BBNI.JK: 2.976974299162956\n",
            "Free Return On Equity of BMRI.JK: 8.870868759396\n",
            "Free Return On Equity of BBRI.JK: 8.22099314605118\n"
          ]
        }
      ]
    },
    {
      "cell_type": "markdown",
      "source": [
        "## Dividend Yield"
      ],
      "metadata": {
        "id": "5c0oumHJuVR9"
      }
    },
    {
      "cell_type": "markdown",
      "source": [
        "Divide the annual dividend per share by the current market price per share."
      ],
      "metadata": {
        "id": "LGldfBygUW4E"
      }
    },
    {
      "cell_type": "code",
      "source": [
        "def compute_dividend_yield(ticker):\n",
        "  dividends = yf.Ticker(ticker).dividends\n",
        "  current_price = yf.Ticker(ticker).history(period='1d')['Close'][0]\n",
        "\n",
        "  annual_dividend_per_share = dividends.sum()\n",
        "  dividend_yield = (annual_dividend_per_share/current_price) * 100\n",
        "\n",
        "  return dividend_yield\n"
      ],
      "metadata": {
        "colab": {
          "base_uri": "https://localhost:8080/"
        },
        "id": "q3EFJSv4SKuy",
        "outputId": "575efb3a-b46d-48b0-cb5f-38f03bde7f1a"
      },
      "execution_count": 100,
      "outputs": [
        {
          "output_type": "stream",
          "name": "stdout",
          "text": [
            "Dividend Yield for BBRI.JK: 22.40059011023622 \n"
          ]
        }
      ]
    },
    {
      "cell_type": "code",
      "source": [
        "for ticker in tickers:\n",
        "  print(f\"Dividend Yield of {ticker}: {compute_dividend_yield(ticker)}\")"
      ],
      "metadata": {
        "colab": {
          "base_uri": "https://localhost:8080/"
        },
        "id": "8p3GD0IeTEyO",
        "outputId": "0dca2837-73c6-48dc-a02c-7e05e1845708"
      },
      "execution_count": 101,
      "outputs": [
        {
          "output_type": "stream",
          "name": "stdout",
          "text": [
            "Dividend Yield of BBCA.JK: 10.333990147783252\n",
            "Dividend Yield of BBNI.JK: 26.013720770491805\n",
            "Dividend Yield of BMRI.JK: 20.843646063157895\n",
            "Dividend Yield of BBRI.JK: 22.40059011023622\n"
          ]
        }
      ]
    },
    {
      "cell_type": "markdown",
      "source": [
        "# Pipelining"
      ],
      "metadata": {
        "id": "GbtHTe1zvpDE"
      }
    },
    {
      "cell_type": "markdown",
      "source": [
        "## Get Tickers\n"
      ],
      "metadata": {
        "id": "U5-PtGZxVOZa"
      }
    },
    {
      "cell_type": "markdown",
      "source": [
        "Get all the ticker that is publicly traded from the Jakarta Stock Exchange."
      ],
      "metadata": {
        "id": "AEvZe70qVUIe"
      }
    },
    {
      "cell_type": "code",
      "source": [
        "\n",
        "ticker_list = pd.read_csv(\"/content/ticker_symbols.csv\")\n",
        "\n",
        "tickers = list(ticker_list['Ticker'])"
      ],
      "metadata": {
        "id": "fqHs9dEHUgGn"
      },
      "execution_count": 155,
      "outputs": []
    },
    {
      "cell_type": "code",
      "source": [
        "len(tickers)"
      ],
      "metadata": {
        "colab": {
          "base_uri": "https://localhost:8080/"
        },
        "id": "lKR_LFcpVwaj",
        "outputId": "a5559354-4510-4655-d819-a7275f6b2bc9"
      },
      "execution_count": 156,
      "outputs": [
        {
          "output_type": "execute_result",
          "data": {
            "text/plain": [
              "921"
            ]
          },
          "metadata": {},
          "execution_count": 156
        }
      ]
    },
    {
      "cell_type": "markdown",
      "source": [
        "## Computation Function of the Financial Analysis"
      ],
      "metadata": {
        "id": "IFGoj6POchDb"
      }
    },
    {
      "cell_type": "code",
      "source": [
        "stock_analysis = {}"
      ],
      "metadata": {
        "id": "9hoPHQW6etFG"
      },
      "execution_count": 157,
      "outputs": []
    },
    {
      "cell_type": "code",
      "source": [
        "def compute_financial_analysis(ticker):\n",
        "    result = {}\n",
        "\n",
        "    try:\n",
        "        # Compute Average Daily Returns\n",
        "        returns = qs.utils.download_returns(ticker).loc['2020-07-01': '2024-02-10']\n",
        "        result['Average Daily Returns'] = returns.mean()\n",
        "    except Exception as e:\n",
        "        result['Average Daily Returns'] = \"\"\n",
        "\n",
        "    try:\n",
        "        # Compute Beta-Alpha\n",
        "        returns_no_index = returns.reset_index(drop=True)\n",
        "        result['Beta Alpha'] = compute_alpha_beta(returns_no_index)\n",
        "    except Exception as e:\n",
        "        result['Beta Alpha'] = \"\"\n",
        "\n",
        "    try:\n",
        "        # Compute Sharpe Ratio\n",
        "        result['Sharpe Ratio'] = qs.stats.sharpe(returns).round(2)\n",
        "    except Exception as e:\n",
        "        result['Sharpe Ratio'] = \"\"\n",
        "\n",
        "    try:\n",
        "        # Compute Piotroski F-score\n",
        "        result['Piotroski F-Score'] = compute_piotroski_score(ticker)\n",
        "    except Exception as e:\n",
        "        result['Piotroski F-Score'] = \"\"\n",
        "\n",
        "    try:\n",
        "        # Compute Revenue Growth\n",
        "        result['Revenue Growth'] = compute_revenue_growth(ticker)\n",
        "    except Exception as e:\n",
        "        result['Revenue Growth'] = \"\"\n",
        "\n",
        "    try:\n",
        "        # Compute Earning Per Share\n",
        "        result['Earning per Share'] = compute_eps(ticker)\n",
        "    except Exception as e:\n",
        "        result['Earning per Share'] = \"\"\n",
        "\n",
        "    try:\n",
        "        # Compute Price to Earning\n",
        "        result['Price to Earning'] = compute_pe_ratio(ticker)\n",
        "    except Exception as e:\n",
        "        result['Price to Earning'] = \"\"\n",
        "\n",
        "    try:\n",
        "        # Compute Debt to Equity\n",
        "        result['Debt to Equity'] = compute_debt_to_equity_ratio(ticker)\n",
        "    except Exception as e:\n",
        "        result['Debt to Equity'] = \"\"\n",
        "\n",
        "    try:\n",
        "        # Compute Free Cashflow\n",
        "        result['Free Cash Flow'] = compute_free_cashflow(ticker)\n",
        "    except Exception as e:\n",
        "        result['Free Cash Flow'] = \"\"\n",
        "\n",
        "    try:\n",
        "        # Compute Return on Equity\n",
        "        result['Return on Equity'] = compute_return_on_equity(ticker)\n",
        "    except Exception as e:\n",
        "        result['Return on Equity'] = \"\"\n",
        "\n",
        "    try:\n",
        "        # Compute Dividend Yield\n",
        "        result['Dividend Yield'] = compute_dividend_yield(ticker)\n",
        "    except Exception as e:\n",
        "        result['Dividend Yield'] = \"\"\n",
        "\n",
        "    return result\n"
      ],
      "metadata": {
        "id": "1qFkAb1QYEVx"
      },
      "execution_count": 160,
      "outputs": []
    },
    {
      "cell_type": "markdown",
      "source": [
        "Check for one of the ticker"
      ],
      "metadata": {
        "id": "CXQRYBpzir_u"
      }
    },
    {
      "cell_type": "code",
      "source": [
        "test_ticker = tickers[0]\n",
        "test_ticker"
      ],
      "metadata": {
        "colab": {
          "base_uri": "https://localhost:8080/",
          "height": 36
        },
        "id": "dEogj64-io_S",
        "outputId": "e5279897-7179-4943-ec73-bffb8334126c"
      },
      "execution_count": 161,
      "outputs": [
        {
          "output_type": "execute_result",
          "data": {
            "text/plain": [
              "'AALI.JK'"
            ],
            "application/vnd.google.colaboratory.intrinsic+json": {
              "type": "string"
            }
          },
          "metadata": {},
          "execution_count": 161
        }
      ]
    },
    {
      "cell_type": "code",
      "source": [
        "print(f\"{test_ticker}: {compute_financial_analysis(test_ticker)}\")"
      ],
      "metadata": {
        "colab": {
          "base_uri": "https://localhost:8080/"
        },
        "id": "m1Rp8HLTiy4s",
        "outputId": "412f7ac8-c1d9-4bf5-82c4-e3069293bc40"
      },
      "execution_count": 162,
      "outputs": [
        {
          "output_type": "stream",
          "name": "stderr",
          "text": [
            "\r[*********************100%%**********************]  1 of 1 completed\n"
          ]
        },
        {
          "output_type": "stream",
          "name": "stdout",
          "text": [
            "AALI.JK: {'Average Daily Returns': -2.992250227229979e-05, 'Beta Alpha': {'beta': array([0.035]), 'alpha': array([-0.])}, 'Sharpe Ratio': -0.03, 'Piotroski F-Score': '', 'Revenue Growth': -22.67492030276398, 'Earning per Share': 432.8437198839821, 'Price to Earning': 15.363512728756795, 'Debt to Equity': 0.2135743776992211, 'Free Cash Flow': '', 'Return on Equity': 4.442555984422978, 'Dividend Yield': 134.70336840601504}\n"
          ]
        }
      ]
    },
    {
      "cell_type": "code",
      "source": [],
      "metadata": {
        "id": "WsjzDipMi_J1"
      },
      "execution_count": null,
      "outputs": []
    },
    {
      "cell_type": "markdown",
      "source": [
        "### Computes the Analysis for All the Tickers"
      ],
      "metadata": {
        "id": "7acF--okk1Sc"
      }
    },
    {
      "cell_type": "code",
      "source": [
        "for ticker in tickers:\n",
        "  stock_analysis[ticker] = compute_financial_analysis(ticker)"
      ],
      "metadata": {
        "colab": {
          "base_uri": "https://localhost:8080/"
        },
        "id": "WFcq89F4k99G",
        "outputId": "82c27b8c-d8fc-41e3-d9b5-75a20b3072f4"
      },
      "execution_count": 163,
      "outputs": [
        {
          "output_type": "stream",
          "name": "stderr",
          "text": [
            "[*********************100%%**********************]  1 of 1 completed\n",
            "[*********************100%%**********************]  1 of 1 completed\n",
            "[*********************100%%**********************]  1 of 1 completed\n"
          ]
        },
        {
          "output_type": "stream",
          "name": "stdout",
          "text": [
            "KeyError: 'totalDebt'\n"
          ]
        },
        {
          "output_type": "stream",
          "name": "stderr",
          "text": [
            "[*********************100%%**********************]  1 of 1 completed\n",
            "[*********************100%%**********************]  1 of 1 completed\n",
            "[*********************100%%**********************]  1 of 1 completed\n"
          ]
        },
        {
          "output_type": "stream",
          "name": "stdout",
          "text": [
            "KeyError: 'Net Income'\n",
            "KeyError: 'Stockholders Equity'\n"
          ]
        },
        {
          "output_type": "stream",
          "name": "stderr",
          "text": [
            "[*********************100%%**********************]  1 of 1 completed\n",
            "[*********************100%%**********************]  1 of 1 completed\n",
            "[*********************100%%**********************]  1 of 1 completed\n",
            "[*********************100%%**********************]  1 of 1 completed\n",
            "[*********************100%%**********************]  1 of 1 completed\n",
            "[*********************100%%**********************]  1 of 1 completed\n"
          ]
        },
        {
          "output_type": "stream",
          "name": "stdout",
          "text": [
            "KeyError: 'totalDebt'\n"
          ]
        },
        {
          "output_type": "stream",
          "name": "stderr",
          "text": [
            "[*********************100%%**********************]  1 of 1 completed\n",
            "[*********************100%%**********************]  1 of 1 completed\n",
            "[*********************100%%**********************]  1 of 1 completed\n"
          ]
        },
        {
          "output_type": "stream",
          "name": "stdout",
          "text": [
            "KeyError: 'Net Income'\n",
            "KeyError: 'Stockholders Equity'\n"
          ]
        },
        {
          "output_type": "stream",
          "name": "stderr",
          "text": [
            "\r[*********************100%%**********************]  1 of 1 completed\n"
          ]
        },
        {
          "output_type": "stream",
          "name": "stdout",
          "text": [
            "KeyError: 'Net Income'\n",
            "KeyError: 'Stockholders Equity'\n"
          ]
        },
        {
          "output_type": "stream",
          "name": "stderr",
          "text": [
            "[*********************100%%**********************]  1 of 1 completed\n",
            "[*********************100%%**********************]  1 of 1 completed\n",
            "[*********************100%%**********************]  1 of 1 completed\n",
            "[*********************100%%**********************]  1 of 1 completed\n"
          ]
        },
        {
          "output_type": "stream",
          "name": "stdout",
          "text": [
            "KeyError: 'Net Income'\n",
            "KeyError: 'Stockholders Equity'\n"
          ]
        },
        {
          "output_type": "stream",
          "name": "stderr",
          "text": [
            "\r[*********************100%%**********************]  1 of 1 completed\n"
          ]
        },
        {
          "output_type": "stream",
          "name": "stdout",
          "text": [
            "KeyError: 'Net Income'\n",
            "KeyError: 'Stockholders Equity'\n"
          ]
        },
        {
          "output_type": "stream",
          "name": "stderr",
          "text": [
            "[*********************100%%**********************]  1 of 1 completed\n",
            "[*********************100%%**********************]  1 of 1 completed\n",
            "/usr/local/lib/python3.10/dist-packages/quantstats/stats.py:294: RuntimeWarning: invalid value encountered in scalar divide\n",
            "  res = returns.mean() / divisor\n"
          ]
        },
        {
          "output_type": "stream",
          "name": "stdout",
          "text": [
            "KeyError: 'Net Income'\n",
            "KeyError: 'Stockholders Equity'\n"
          ]
        },
        {
          "output_type": "stream",
          "name": "stderr",
          "text": [
            "[*********************100%%**********************]  1 of 1 completed\n",
            "[*********************100%%**********************]  1 of 1 completed\n",
            "[*********************100%%**********************]  1 of 1 completed\n"
          ]
        },
        {
          "output_type": "stream",
          "name": "stdout",
          "text": [
            "KeyError: 'Net Income'\n",
            "KeyError: 'Stockholders Equity'\n"
          ]
        },
        {
          "output_type": "stream",
          "name": "stderr",
          "text": [
            "[*********************100%%**********************]  1 of 1 completed\n",
            "[*********************100%%**********************]  1 of 1 completed\n"
          ]
        },
        {
          "output_type": "stream",
          "name": "stdout",
          "text": [
            "KeyError: 'currentPrice'\n",
            "KeyError: 'totalDebt'\n"
          ]
        },
        {
          "output_type": "stream",
          "name": "stderr",
          "text": [
            "\r[*********************100%%**********************]  1 of 1 completed\n"
          ]
        },
        {
          "output_type": "stream",
          "name": "stdout",
          "text": [
            "KeyError: 'Net Income'\n",
            "KeyError: 'Stockholders Equity'\n"
          ]
        },
        {
          "output_type": "stream",
          "name": "stderr",
          "text": [
            "[*********************100%%**********************]  1 of 1 completed\n",
            "[*********************100%%**********************]  1 of 1 completed\n"
          ]
        },
        {
          "output_type": "stream",
          "name": "stdout",
          "text": [
            "KeyError: 'Net Income'\n",
            "KeyError: 'Stockholders Equity'\n"
          ]
        },
        {
          "output_type": "stream",
          "name": "stderr",
          "text": [
            "\r[*********************100%%**********************]  1 of 1 completed\n"
          ]
        },
        {
          "output_type": "stream",
          "name": "stdout",
          "text": [
            "KeyError: 'totalDebt'\n"
          ]
        },
        {
          "output_type": "stream",
          "name": "stderr",
          "text": [
            "[*********************100%%**********************]  1 of 1 completed\n",
            "[*********************100%%**********************]  1 of 1 completed\n",
            "[*********************100%%**********************]  1 of 1 completed\n",
            "[*********************100%%**********************]  1 of 1 completed\n"
          ]
        },
        {
          "output_type": "stream",
          "name": "stdout",
          "text": [
            "KeyError: 'Net Income'\n",
            "KeyError: 'Stockholders Equity'\n"
          ]
        },
        {
          "output_type": "stream",
          "name": "stderr",
          "text": [
            "[*********************100%%**********************]  1 of 1 completed\n",
            "[*********************100%%**********************]  1 of 1 completed\n"
          ]
        },
        {
          "output_type": "stream",
          "name": "stdout",
          "text": [
            "KeyError: 'Net Income'\n",
            "KeyError: 'Stockholders Equity'\n"
          ]
        },
        {
          "output_type": "stream",
          "name": "stderr",
          "text": [
            "[*********************100%%**********************]  1 of 1 completed\n",
            "[*********************100%%**********************]  1 of 1 completed\n",
            "[*********************100%%**********************]  1 of 1 completed\n",
            "[*********************100%%**********************]  1 of 1 completed\n",
            "[*********************100%%**********************]  1 of 1 completed\n",
            "[*********************100%%**********************]  1 of 1 completed\n",
            "[*********************100%%**********************]  1 of 1 completed\n",
            "[*********************100%%**********************]  1 of 1 completed\n"
          ]
        },
        {
          "output_type": "stream",
          "name": "stdout",
          "text": [
            "KeyError: 'Net Income'\n",
            "KeyError: 'Stockholders Equity'\n"
          ]
        },
        {
          "output_type": "stream",
          "name": "stderr",
          "text": [
            "\r[*********************100%%**********************]  1 of 1 completed\n"
          ]
        },
        {
          "output_type": "stream",
          "name": "stdout",
          "text": [
            "KeyError: 'Net Income'\n",
            "KeyError: 'Stockholders Equity'\n"
          ]
        },
        {
          "output_type": "stream",
          "name": "stderr",
          "text": [
            "[*********************100%%**********************]  1 of 1 completed\n",
            "[*********************100%%**********************]  1 of 1 completed\n",
            "[*********************100%%**********************]  1 of 1 completed\n",
            "[*********************100%%**********************]  1 of 1 completed\n",
            "[*********************100%%**********************]  1 of 1 completed\n",
            "[*********************100%%**********************]  1 of 1 completed\n",
            "[*********************100%%**********************]  1 of 1 completed\n",
            "/usr/local/lib/python3.10/dist-packages/quantstats/stats.py:294: RuntimeWarning: invalid value encountered in scalar divide\n",
            "  res = returns.mean() / divisor\n"
          ]
        },
        {
          "output_type": "stream",
          "name": "stdout",
          "text": [
            "KeyError: 'sharesOutstanding'\n",
            "KeyError: 'totalDebt'\n"
          ]
        },
        {
          "output_type": "stream",
          "name": "stderr",
          "text": [
            "[*********************100%%**********************]  1 of 1 completed\n",
            "[*********************100%%**********************]  1 of 1 completed\n"
          ]
        },
        {
          "output_type": "stream",
          "name": "stdout",
          "text": [
            "KeyError: 'Net Income'\n",
            "KeyError: 'Stockholders Equity'\n"
          ]
        },
        {
          "output_type": "stream",
          "name": "stderr",
          "text": [
            "[*********************100%%**********************]  1 of 1 completed\n",
            "[*********************100%%**********************]  1 of 1 completed\n",
            "[*********************100%%**********************]  1 of 1 completed\n"
          ]
        },
        {
          "output_type": "stream",
          "name": "stdout",
          "text": [
            "KeyError: 'Net Income'\n",
            "KeyError: 'Stockholders Equity'\n"
          ]
        },
        {
          "output_type": "stream",
          "name": "stderr",
          "text": [
            "[*********************100%%**********************]  1 of 1 completed\n",
            "[*********************100%%**********************]  1 of 1 completed\n",
            "[*********************100%%**********************]  1 of 1 completed\n"
          ]
        },
        {
          "output_type": "stream",
          "name": "stdout",
          "text": [
            "KeyError: 'Net Income'\n",
            "KeyError: 'Stockholders Equity'\n"
          ]
        },
        {
          "output_type": "stream",
          "name": "stderr",
          "text": [
            "[*********************100%%**********************]  1 of 1 completed\n",
            "[*********************100%%**********************]  1 of 1 completed\n"
          ]
        },
        {
          "output_type": "stream",
          "name": "stdout",
          "text": [
            "KeyError: 'Net Income'\n",
            "KeyError: 'Stockholders Equity'\n"
          ]
        },
        {
          "output_type": "stream",
          "name": "stderr",
          "text": [
            "[*********************100%%**********************]  1 of 1 completed\n",
            "[*********************100%%**********************]  1 of 1 completed\n"
          ]
        },
        {
          "output_type": "stream",
          "name": "stdout",
          "text": [
            "KeyError: 'Net Income'\n",
            "KeyError: 'Stockholders Equity'\n"
          ]
        },
        {
          "output_type": "stream",
          "name": "stderr",
          "text": [
            "[*********************100%%**********************]  1 of 1 completed\n",
            "[*********************100%%**********************]  1 of 1 completed\n"
          ]
        },
        {
          "output_type": "stream",
          "name": "stdout",
          "text": [
            "KeyError: 'Net Income'\n",
            "KeyError: 'Stockholders Equity'\n"
          ]
        },
        {
          "output_type": "stream",
          "name": "stderr",
          "text": [
            "[*********************100%%**********************]  1 of 1 completed\n",
            "[*********************100%%**********************]  1 of 1 completed\n",
            "[*********************100%%**********************]  1 of 1 completed\n",
            "[*********************100%%**********************]  1 of 1 completed\n"
          ]
        },
        {
          "output_type": "stream",
          "name": "stdout",
          "text": [
            "KeyError: 'Net Income'\n",
            "KeyError: 'Stockholders Equity'\n"
          ]
        },
        {
          "output_type": "stream",
          "name": "stderr",
          "text": [
            "[*********************100%%**********************]  1 of 1 completed\n",
            "[*********************100%%**********************]  1 of 1 completed\n",
            "[*********************100%%**********************]  1 of 1 completed\n",
            "[*********************100%%**********************]  1 of 1 completed\n"
          ]
        },
        {
          "output_type": "stream",
          "name": "stdout",
          "text": [
            "KeyError: 'Net Income'\n",
            "KeyError: 'Stockholders Equity'\n"
          ]
        },
        {
          "output_type": "stream",
          "name": "stderr",
          "text": [
            "\r[*********************100%%**********************]  1 of 1 completed\n"
          ]
        },
        {
          "output_type": "stream",
          "name": "stdout",
          "text": [
            "KeyError: 'Net Income'\n",
            "KeyError: 'Stockholders Equity'\n"
          ]
        },
        {
          "output_type": "stream",
          "name": "stderr",
          "text": [
            "\r[*********************100%%**********************]  1 of 1 completed\n"
          ]
        },
        {
          "output_type": "stream",
          "name": "stdout",
          "text": [
            "KeyError: 'currentPrice'\n",
            "KeyError: 'Stockholders Equity'\n"
          ]
        },
        {
          "output_type": "stream",
          "name": "stderr",
          "text": [
            "\r[*********************100%%**********************]  1 of 1 completed\n"
          ]
        },
        {
          "output_type": "stream",
          "name": "stdout",
          "text": [
            "KeyError: 'Net Income'\n",
            "KeyError: 'Stockholders Equity'\n"
          ]
        },
        {
          "output_type": "stream",
          "name": "stderr",
          "text": [
            "[*********************100%%**********************]  1 of 1 completed\n",
            "[*********************100%%**********************]  1 of 1 completed\n"
          ]
        },
        {
          "output_type": "stream",
          "name": "stdout",
          "text": [
            "KeyError: 'Net Income'\n",
            "KeyError: 'Stockholders Equity'\n"
          ]
        },
        {
          "output_type": "stream",
          "name": "stderr",
          "text": [
            "[*********************100%%**********************]  1 of 1 completed\n",
            "[*********************100%%**********************]  1 of 1 completed\n"
          ]
        },
        {
          "output_type": "stream",
          "name": "stdout",
          "text": [
            "KeyError: 'currentPrice'\n",
            "KeyError: 'Stockholders Equity'\n"
          ]
        },
        {
          "output_type": "stream",
          "name": "stderr",
          "text": [
            "[*********************100%%**********************]  1 of 1 completed\n",
            "[*********************100%%**********************]  1 of 1 completed\n",
            "[*********************100%%**********************]  1 of 1 completed\n",
            "[*********************100%%**********************]  1 of 1 completed\n",
            "[*********************100%%**********************]  1 of 1 completed\n",
            "/usr/local/lib/python3.10/dist-packages/quantstats/stats.py:294: RuntimeWarning: invalid value encountered in scalar divide\n",
            "  res = returns.mean() / divisor\n"
          ]
        },
        {
          "output_type": "stream",
          "name": "stdout",
          "text": [
            "KeyError: 'Net Income'\n",
            "KeyError: 'Stockholders Equity'\n"
          ]
        },
        {
          "output_type": "stream",
          "name": "stderr",
          "text": [
            "[*********************100%%**********************]  1 of 1 completed\n",
            "[*********************100%%**********************]  1 of 1 completed\n"
          ]
        },
        {
          "output_type": "stream",
          "name": "stdout",
          "text": [
            "KeyError: 'Net Income'\n",
            "KeyError: 'Stockholders Equity'\n"
          ]
        },
        {
          "output_type": "stream",
          "name": "stderr",
          "text": [
            "\r[*********************100%%**********************]  1 of 1 completed\n"
          ]
        },
        {
          "output_type": "stream",
          "name": "stdout",
          "text": [
            "KeyError: 'Net Income'\n",
            "KeyError: 'Stockholders Equity'\n"
          ]
        },
        {
          "output_type": "stream",
          "name": "stderr",
          "text": [
            "[*********************100%%**********************]  1 of 1 completed\n",
            "[*********************100%%**********************]  1 of 1 completed\n",
            "[*********************100%%**********************]  1 of 1 completed\n",
            "[*********************100%%**********************]  1 of 1 completed\n",
            "[*********************100%%**********************]  1 of 1 completed\n",
            "[*********************100%%**********************]  1 of 1 completed\n",
            "[*********************100%%**********************]  1 of 1 completed\n",
            "[*********************100%%**********************]  1 of 1 completed\n",
            "[*********************100%%**********************]  1 of 1 completed\n"
          ]
        },
        {
          "output_type": "stream",
          "name": "stdout",
          "text": [
            "KeyError: 'totalDebt'\n"
          ]
        },
        {
          "output_type": "stream",
          "name": "stderr",
          "text": [
            "\r[*********************100%%**********************]  1 of 1 completed\n"
          ]
        },
        {
          "output_type": "stream",
          "name": "stdout",
          "text": [
            "KeyError: 'Net Income'\n",
            "KeyError: 'Stockholders Equity'\n"
          ]
        },
        {
          "output_type": "stream",
          "name": "stderr",
          "text": [
            "[*********************100%%**********************]  1 of 1 completed\n",
            "[*********************100%%**********************]  1 of 1 completed\n",
            "[*********************100%%**********************]  1 of 1 completed\n",
            "[*********************100%%**********************]  1 of 1 completed\n",
            "[*********************100%%**********************]  1 of 1 completed\n",
            "[*********************100%%**********************]  1 of 1 completed\n",
            "[*********************100%%**********************]  1 of 1 completed\n",
            "[*********************100%%**********************]  1 of 1 completed\n"
          ]
        },
        {
          "output_type": "stream",
          "name": "stdout",
          "text": [
            "KeyError: 'totalDebt'\n"
          ]
        },
        {
          "output_type": "stream",
          "name": "stderr",
          "text": [
            "[*********************100%%**********************]  1 of 1 completed\n",
            "[*********************100%%**********************]  1 of 1 completed\n"
          ]
        },
        {
          "output_type": "stream",
          "name": "stdout",
          "text": [
            "KeyError: 'Net Income'\n",
            "KeyError: 'Stockholders Equity'\n"
          ]
        },
        {
          "output_type": "stream",
          "name": "stderr",
          "text": [
            "[*********************100%%**********************]  1 of 1 completed\n",
            "[*********************100%%**********************]  1 of 1 completed\n",
            "[*********************100%%**********************]  1 of 1 completed\n"
          ]
        },
        {
          "output_type": "stream",
          "name": "stdout",
          "text": [
            "KeyError: 'Net Income'\n",
            "KeyError: 'Stockholders Equity'\n"
          ]
        },
        {
          "output_type": "stream",
          "name": "stderr",
          "text": [
            "\r[*********************100%%**********************]  1 of 1 completed\n"
          ]
        },
        {
          "output_type": "stream",
          "name": "stdout",
          "text": [
            "KeyError: 'Net Income'\n",
            "KeyError: 'Stockholders Equity'\n"
          ]
        },
        {
          "output_type": "stream",
          "name": "stderr",
          "text": [
            "[*********************100%%**********************]  1 of 1 completed\n",
            "[*********************100%%**********************]  1 of 1 completed\n",
            "[*********************100%%**********************]  1 of 1 completed\n",
            "[*********************100%%**********************]  1 of 1 completed\n",
            "[*********************100%%**********************]  1 of 1 completed\n",
            "[*********************100%%**********************]  1 of 1 completed\n"
          ]
        },
        {
          "output_type": "stream",
          "name": "stdout",
          "text": [
            "KeyError: 'Net Income'\n",
            "KeyError: 'Stockholders Equity'\n"
          ]
        },
        {
          "output_type": "stream",
          "name": "stderr",
          "text": [
            "\r[*********************100%%**********************]  1 of 1 completed\n"
          ]
        },
        {
          "output_type": "stream",
          "name": "stdout",
          "text": [
            "KeyError: 'Net Income'\n",
            "KeyError: 'Stockholders Equity'\n"
          ]
        },
        {
          "output_type": "stream",
          "name": "stderr",
          "text": [
            "\r[*********************100%%**********************]  1 of 1 completed\n"
          ]
        },
        {
          "output_type": "stream",
          "name": "stdout",
          "text": [
            "KeyError: 'Net Income'\n",
            "KeyError: 'Stockholders Equity'\n"
          ]
        },
        {
          "output_type": "stream",
          "name": "stderr",
          "text": [
            "[*********************100%%**********************]  1 of 1 completed\n",
            "[*********************100%%**********************]  1 of 1 completed\n"
          ]
        },
        {
          "output_type": "stream",
          "name": "stdout",
          "text": [
            "KeyError: 'Net Income'\n",
            "KeyError: 'Stockholders Equity'\n"
          ]
        },
        {
          "output_type": "stream",
          "name": "stderr",
          "text": [
            "[*********************100%%**********************]  1 of 1 completed\n",
            "[*********************100%%**********************]  1 of 1 completed\n",
            "[*********************100%%**********************]  1 of 1 completed\n",
            "[*********************100%%**********************]  1 of 1 completed\n",
            "[*********************100%%**********************]  1 of 1 completed\n",
            "[*********************100%%**********************]  1 of 1 completed\n",
            "[*********************100%%**********************]  1 of 1 completed\n",
            "[*********************100%%**********************]  1 of 1 completed\n",
            "[*********************100%%**********************]  1 of 1 completed\n",
            "[*********************100%%**********************]  1 of 1 completed\n",
            "/usr/local/lib/python3.10/dist-packages/quantstats/stats.py:294: RuntimeWarning: invalid value encountered in scalar divide\n",
            "  res = returns.mean() / divisor\n",
            "[*********************100%%**********************]  1 of 1 completed\n",
            "[*********************100%%**********************]  1 of 1 completed\n"
          ]
        },
        {
          "output_type": "stream",
          "name": "stdout",
          "text": [
            "KeyError: 'Net Income'\n",
            "KeyError: 'Stockholders Equity'\n"
          ]
        },
        {
          "output_type": "stream",
          "name": "stderr",
          "text": [
            "[*********************100%%**********************]  1 of 1 completed\n",
            "[*********************100%%**********************]  1 of 1 completed\n"
          ]
        },
        {
          "output_type": "stream",
          "name": "stdout",
          "text": [
            "KeyError: 'Net Income'\n",
            "KeyError: 'Stockholders Equity'\n"
          ]
        },
        {
          "output_type": "stream",
          "name": "stderr",
          "text": [
            "[*********************100%%**********************]  1 of 1 completed\n",
            "[*********************100%%**********************]  1 of 1 completed\n",
            "[*********************100%%**********************]  1 of 1 completed\n",
            "[*********************100%%**********************]  1 of 1 completed\n",
            "[*********************100%%**********************]  1 of 1 completed\n",
            "[*********************100%%**********************]  1 of 1 completed\n",
            "[*********************100%%**********************]  1 of 1 completed\n",
            "[*********************100%%**********************]  1 of 1 completed\n",
            "[*********************100%%**********************]  1 of 1 completed\n",
            "[*********************100%%**********************]  1 of 1 completed\n"
          ]
        },
        {
          "output_type": "stream",
          "name": "stdout",
          "text": [
            "KeyError: 'Net Income'\n",
            "KeyError: 'Stockholders Equity'\n"
          ]
        },
        {
          "output_type": "stream",
          "name": "stderr",
          "text": [
            "[*********************100%%**********************]  1 of 1 completed\n",
            "[*********************100%%**********************]  1 of 1 completed\n",
            "[*********************100%%**********************]  1 of 1 completed\n",
            "[*********************100%%**********************]  1 of 1 completed\n",
            "[*********************100%%**********************]  1 of 1 completed\n",
            "[*********************100%%**********************]  1 of 1 completed\n",
            "[*********************100%%**********************]  1 of 1 completed\n"
          ]
        },
        {
          "output_type": "stream",
          "name": "stdout",
          "text": [
            "KeyError: 'Net Income'\n",
            "KeyError: 'Stockholders Equity'\n"
          ]
        },
        {
          "output_type": "stream",
          "name": "stderr",
          "text": [
            "[*********************100%%**********************]  1 of 1 completed\n",
            "[*********************100%%**********************]  1 of 1 completed\n",
            "[*********************100%%**********************]  1 of 1 completed\n",
            "[*********************100%%**********************]  1 of 1 completed\n",
            "[*********************100%%**********************]  1 of 1 completed\n",
            "[*********************100%%**********************]  1 of 1 completed\n",
            "[*********************100%%**********************]  1 of 1 completed\n",
            "[*********************100%%**********************]  1 of 1 completed\n",
            "[*********************100%%**********************]  1 of 1 completed\n",
            "[*********************100%%**********************]  1 of 1 completed\n"
          ]
        },
        {
          "output_type": "stream",
          "name": "stdout",
          "text": [
            "KeyError: 'Net Income'\n",
            "KeyError: 'Stockholders Equity'\n"
          ]
        },
        {
          "output_type": "stream",
          "name": "stderr",
          "text": [
            "[*********************100%%**********************]  1 of 1 completed\n",
            "[*********************100%%**********************]  1 of 1 completed\n",
            "[*********************100%%**********************]  1 of 1 completed\n",
            "/usr/local/lib/python3.10/dist-packages/quantstats/stats.py:294: RuntimeWarning: invalid value encountered in scalar divide\n",
            "  res = returns.mean() / divisor\n",
            "[*********************100%%**********************]  1 of 1 completed\n",
            "/usr/local/lib/python3.10/dist-packages/quantstats/stats.py:294: RuntimeWarning: invalid value encountered in scalar divide\n",
            "  res = returns.mean() / divisor\n"
          ]
        },
        {
          "output_type": "stream",
          "name": "stdout",
          "text": [
            "KeyError: 'sharesOutstanding'\n",
            "KeyError: 'totalDebt'\n"
          ]
        },
        {
          "output_type": "stream",
          "name": "stderr",
          "text": [
            "\r[*********************100%%**********************]  1 of 1 completed\n"
          ]
        },
        {
          "output_type": "stream",
          "name": "stdout",
          "text": [
            "KeyError: 'Net Income'\n",
            "KeyError: 'Stockholders Equity'\n"
          ]
        },
        {
          "output_type": "stream",
          "name": "stderr",
          "text": [
            "[*********************100%%**********************]  1 of 1 completed\n",
            "[*********************100%%**********************]  1 of 1 completed\n",
            "[*********************100%%**********************]  1 of 1 completed\n",
            "[*********************100%%**********************]  1 of 1 completed\n",
            "[*********************100%%**********************]  1 of 1 completed\n",
            "[*********************100%%**********************]  1 of 1 completed\n",
            "[*********************100%%**********************]  1 of 1 completed\n",
            "[*********************100%%**********************]  1 of 1 completed\n",
            "[*********************100%%**********************]  1 of 1 completed\n",
            "[*********************100%%**********************]  1 of 1 completed\n",
            "[*********************100%%**********************]  1 of 1 completed\n",
            "[*********************100%%**********************]  1 of 1 completed\n",
            "[*********************100%%**********************]  1 of 1 completed\n"
          ]
        },
        {
          "output_type": "stream",
          "name": "stdout",
          "text": [
            "KeyError: 'Net Income'\n",
            "KeyError: 'Stockholders Equity'\n"
          ]
        },
        {
          "output_type": "stream",
          "name": "stderr",
          "text": [
            "\r[*********************100%%**********************]  1 of 1 completed\n"
          ]
        },
        {
          "output_type": "stream",
          "name": "stdout",
          "text": [
            "KeyError: 'totalDebt'\n"
          ]
        },
        {
          "output_type": "stream",
          "name": "stderr",
          "text": [
            "\r[*********************100%%**********************]  1 of 1 completed\n"
          ]
        },
        {
          "output_type": "stream",
          "name": "stdout",
          "text": [
            "KeyError: 'Net Income'\n",
            "KeyError: 'Stockholders Equity'\n"
          ]
        },
        {
          "output_type": "stream",
          "name": "stderr",
          "text": [
            "[*********************100%%**********************]  1 of 1 completed\n",
            "[*********************100%%**********************]  1 of 1 completed\n",
            "[*********************100%%**********************]  1 of 1 completed\n",
            "[*********************100%%**********************]  1 of 1 completed\n"
          ]
        },
        {
          "output_type": "stream",
          "name": "stdout",
          "text": [
            "KeyError: 'Net Income'\n",
            "KeyError: 'Stockholders Equity'\n"
          ]
        },
        {
          "output_type": "stream",
          "name": "stderr",
          "text": [
            "[*********************100%%**********************]  1 of 1 completed\n",
            "[*********************100%%**********************]  1 of 1 completed\n"
          ]
        },
        {
          "output_type": "stream",
          "name": "stdout",
          "text": [
            "KeyError: 'Net Income'\n",
            "KeyError: 'Stockholders Equity'\n"
          ]
        },
        {
          "output_type": "stream",
          "name": "stderr",
          "text": [
            "\r[*********************100%%**********************]  1 of 1 completed\n"
          ]
        },
        {
          "output_type": "stream",
          "name": "stdout",
          "text": [
            "KeyError: 'Net Income'\n",
            "KeyError: 'Stockholders Equity'\n"
          ]
        },
        {
          "output_type": "stream",
          "name": "stderr",
          "text": [
            "\r[*********************100%%**********************]  1 of 1 completed\n"
          ]
        },
        {
          "output_type": "stream",
          "name": "stdout",
          "text": [
            "KeyError: 'Net Income'\n",
            "KeyError: 'Stockholders Equity'\n"
          ]
        },
        {
          "output_type": "stream",
          "name": "stderr",
          "text": [
            "[*********************100%%**********************]  1 of 1 completed\n",
            "[*********************100%%**********************]  1 of 1 completed\n"
          ]
        },
        {
          "output_type": "stream",
          "name": "stdout",
          "text": [
            "KeyError: 'Net Income'\n",
            "KeyError: 'Stockholders Equity'\n"
          ]
        },
        {
          "output_type": "stream",
          "name": "stderr",
          "text": [
            "\r[*********************100%%**********************]  1 of 1 completed\n"
          ]
        },
        {
          "output_type": "stream",
          "name": "stdout",
          "text": [
            "KeyError: 'totalDebt'\n"
          ]
        },
        {
          "output_type": "stream",
          "name": "stderr",
          "text": [
            "[*********************100%%**********************]  1 of 1 completed\n",
            "[*********************100%%**********************]  1 of 1 completed\n",
            "[*********************100%%**********************]  1 of 1 completed\n",
            "[*********************100%%**********************]  1 of 1 completed\n"
          ]
        },
        {
          "output_type": "stream",
          "name": "stdout",
          "text": [
            "KeyError: 'Net Income'\n",
            "KeyError: 'Stockholders Equity'\n"
          ]
        },
        {
          "output_type": "stream",
          "name": "stderr",
          "text": [
            "[*********************100%%**********************]  1 of 1 completed\n",
            "[*********************100%%**********************]  1 of 1 completed\n"
          ]
        },
        {
          "output_type": "stream",
          "name": "stdout",
          "text": [
            "KeyError: 'Net Income'\n",
            "KeyError: 'Stockholders Equity'\n"
          ]
        },
        {
          "output_type": "stream",
          "name": "stderr",
          "text": [
            "[*********************100%%**********************]  1 of 1 completed\n",
            "[*********************100%%**********************]  1 of 1 completed\n",
            "[*********************100%%**********************]  1 of 1 completed\n",
            "[*********************100%%**********************]  1 of 1 completed\n",
            "[*********************100%%**********************]  1 of 1 completed\n",
            "[*********************100%%**********************]  1 of 1 completed\n",
            "[*********************100%%**********************]  1 of 1 completed\n",
            "[*********************100%%**********************]  1 of 1 completed\n",
            "[*********************100%%**********************]  1 of 1 completed\n"
          ]
        },
        {
          "output_type": "stream",
          "name": "stdout",
          "text": [
            "KeyError: 'totalDebt'\n"
          ]
        },
        {
          "output_type": "stream",
          "name": "stderr",
          "text": [
            "\r[*********************100%%**********************]  1 of 1 completed\n",
            "/usr/local/lib/python3.10/dist-packages/quantstats/stats.py:294: RuntimeWarning: invalid value encountered in scalar divide\n",
            "  res = returns.mean() / divisor\n",
            "[*********************100%%**********************]  1 of 1 completed\n"
          ]
        },
        {
          "output_type": "stream",
          "name": "stdout",
          "text": [
            "KeyError: 'totalDebt'\n"
          ]
        },
        {
          "output_type": "stream",
          "name": "stderr",
          "text": [
            "\r[*********************100%%**********************]  1 of 1 completed\n"
          ]
        },
        {
          "output_type": "stream",
          "name": "stdout",
          "text": [
            "KeyError: 'Net Income'\n",
            "KeyError: 'Stockholders Equity'\n"
          ]
        },
        {
          "output_type": "stream",
          "name": "stderr",
          "text": [
            "\r[*********************100%%**********************]  1 of 1 completed\n"
          ]
        },
        {
          "output_type": "stream",
          "name": "stdout",
          "text": [
            "KeyError: 'Net Income'\n",
            "KeyError: 'Stockholders Equity'\n"
          ]
        },
        {
          "output_type": "stream",
          "name": "stderr",
          "text": [
            "\r[*********************100%%**********************]  1 of 1 completed\n"
          ]
        },
        {
          "output_type": "stream",
          "name": "stdout",
          "text": [
            "KeyError: 'Net Income'\n",
            "KeyError: 'Stockholders Equity'\n"
          ]
        },
        {
          "output_type": "stream",
          "name": "stderr",
          "text": [
            "\r[*********************100%%**********************]  1 of 1 completed\n",
            "/usr/local/lib/python3.10/dist-packages/quantstats/stats.py:294: RuntimeWarning: invalid value encountered in scalar divide\n",
            "  res = returns.mean() / divisor\n"
          ]
        },
        {
          "output_type": "stream",
          "name": "stdout",
          "text": [
            "KeyError: 'Net Income'\n",
            "KeyError: 'Stockholders Equity'\n"
          ]
        },
        {
          "output_type": "stream",
          "name": "stderr",
          "text": [
            "[*********************100%%**********************]  1 of 1 completed\n",
            "[*********************100%%**********************]  1 of 1 completed\n",
            "/usr/local/lib/python3.10/dist-packages/quantstats/stats.py:294: RuntimeWarning: invalid value encountered in scalar divide\n",
            "  res = returns.mean() / divisor\n"
          ]
        },
        {
          "output_type": "stream",
          "name": "stdout",
          "text": [
            "KeyError: 'Net Income'\n",
            "KeyError: 'Stockholders Equity'\n"
          ]
        },
        {
          "output_type": "stream",
          "name": "stderr",
          "text": [
            "[*********************100%%**********************]  1 of 1 completed\n",
            "[*********************100%%**********************]  1 of 1 completed\n"
          ]
        },
        {
          "output_type": "stream",
          "name": "stdout",
          "text": [
            "KeyError: 'Net Income'\n",
            "KeyError: 'Stockholders Equity'\n"
          ]
        },
        {
          "output_type": "stream",
          "name": "stderr",
          "text": [
            "\r[*********************100%%**********************]  1 of 1 completed\n"
          ]
        },
        {
          "output_type": "stream",
          "name": "stdout",
          "text": [
            "KeyError: 'Net Income'\n",
            "KeyError: 'Stockholders Equity'\n"
          ]
        },
        {
          "output_type": "stream",
          "name": "stderr",
          "text": [
            "[*********************100%%**********************]  1 of 1 completed\n",
            "[*********************100%%**********************]  1 of 1 completed\n"
          ]
        },
        {
          "output_type": "stream",
          "name": "stdout",
          "text": [
            "KeyError: 'Net Income'\n",
            "KeyError: 'Stockholders Equity'\n"
          ]
        },
        {
          "output_type": "stream",
          "name": "stderr",
          "text": [
            "[*********************100%%**********************]  1 of 1 completed\n",
            "[*********************100%%**********************]  1 of 1 completed\n"
          ]
        },
        {
          "output_type": "stream",
          "name": "stdout",
          "text": [
            "KeyError: 'Net Income'\n",
            "KeyError: 'Stockholders Equity'\n"
          ]
        },
        {
          "output_type": "stream",
          "name": "stderr",
          "text": [
            "[*********************100%%**********************]  1 of 1 completed\n",
            "[*********************100%%**********************]  1 of 1 completed\n",
            "[*********************100%%**********************]  1 of 1 completed\n",
            "[*********************100%%**********************]  1 of 1 completed\n",
            "[*********************100%%**********************]  1 of 1 completed\n"
          ]
        },
        {
          "output_type": "stream",
          "name": "stdout",
          "text": [
            "KeyError: 'totalDebt'\n"
          ]
        },
        {
          "output_type": "stream",
          "name": "stderr",
          "text": [
            "\r[*********************100%%**********************]  1 of 1 completed\n"
          ]
        },
        {
          "output_type": "stream",
          "name": "stdout",
          "text": [
            "KeyError: 'Net Income'\n",
            "KeyError: 'Stockholders Equity'\n"
          ]
        },
        {
          "output_type": "stream",
          "name": "stderr",
          "text": [
            "[*********************100%%**********************]  1 of 1 completed\n",
            "[*********************100%%**********************]  1 of 1 completed\n"
          ]
        },
        {
          "output_type": "stream",
          "name": "stdout",
          "text": [
            "KeyError: 'Net Income'\n",
            "KeyError: 'Stockholders Equity'\n"
          ]
        },
        {
          "output_type": "stream",
          "name": "stderr",
          "text": [
            "[*********************100%%**********************]  1 of 1 completed\n",
            "[*********************100%%**********************]  1 of 1 completed\n",
            "[*********************100%%**********************]  1 of 1 completed\n"
          ]
        },
        {
          "output_type": "stream",
          "name": "stdout",
          "text": [
            "KeyError: 'Net Income'\n",
            "KeyError: 'Stockholders Equity'\n"
          ]
        },
        {
          "output_type": "stream",
          "name": "stderr",
          "text": [
            "[*********************100%%**********************]  1 of 1 completed\n",
            "[*********************100%%**********************]  1 of 1 completed\n",
            "[*********************100%%**********************]  1 of 1 completed\n"
          ]
        },
        {
          "output_type": "stream",
          "name": "stdout",
          "text": [
            "KeyError: 'Net Income'\n",
            "KeyError: 'Stockholders Equity'\n"
          ]
        },
        {
          "output_type": "stream",
          "name": "stderr",
          "text": [
            "[*********************100%%**********************]  1 of 1 completed\n",
            "[*********************100%%**********************]  1 of 1 completed\n",
            "[*********************100%%**********************]  1 of 1 completed\n"
          ]
        },
        {
          "output_type": "stream",
          "name": "stdout",
          "text": [
            "KeyError: 'Net Income'\n",
            "KeyError: 'Stockholders Equity'\n"
          ]
        },
        {
          "output_type": "stream",
          "name": "stderr",
          "text": [
            "\r[*********************100%%**********************]  1 of 1 completed\n"
          ]
        },
        {
          "output_type": "stream",
          "name": "stdout",
          "text": [
            "KeyError: 'Net Income'\n",
            "KeyError: 'Stockholders Equity'\n"
          ]
        },
        {
          "output_type": "stream",
          "name": "stderr",
          "text": [
            "[*********************100%%**********************]  1 of 1 completed\n",
            "[*********************100%%**********************]  1 of 1 completed\n",
            "[*********************100%%**********************]  1 of 1 completed\n",
            "[*********************100%%**********************]  1 of 1 completed\n"
          ]
        },
        {
          "output_type": "stream",
          "name": "stdout",
          "text": [
            "KeyError: 'totalDebt'\n"
          ]
        },
        {
          "output_type": "stream",
          "name": "stderr",
          "text": [
            "[*********************100%%**********************]  1 of 1 completed\n",
            "[*********************100%%**********************]  1 of 1 completed\n",
            "[*********************100%%**********************]  1 of 1 completed\n",
            "[*********************100%%**********************]  1 of 1 completed\n",
            "[*********************100%%**********************]  1 of 1 completed\n",
            "[*********************100%%**********************]  1 of 1 completed\n",
            "[*********************100%%**********************]  1 of 1 completed\n",
            "[*********************100%%**********************]  1 of 1 completed\n"
          ]
        },
        {
          "output_type": "stream",
          "name": "stdout",
          "text": [
            "KeyError: 'Net Income'\n",
            "KeyError: 'Stockholders Equity'\n"
          ]
        },
        {
          "output_type": "stream",
          "name": "stderr",
          "text": [
            "[*********************100%%**********************]  1 of 1 completed\n",
            "[*********************100%%**********************]  1 of 1 completed\n",
            "[*********************100%%**********************]  1 of 1 completed\n"
          ]
        },
        {
          "output_type": "stream",
          "name": "stdout",
          "text": [
            "KeyError: 'Net Income'\n",
            "KeyError: 'Stockholders Equity'\n"
          ]
        },
        {
          "output_type": "stream",
          "name": "stderr",
          "text": [
            "[*********************100%%**********************]  1 of 1 completed\n",
            "[*********************100%%**********************]  1 of 1 completed\n",
            "[*********************100%%**********************]  1 of 1 completed\n"
          ]
        },
        {
          "output_type": "stream",
          "name": "stdout",
          "text": [
            "KeyError: 'Net Income'\n",
            "KeyError: 'Stockholders Equity'\n"
          ]
        },
        {
          "output_type": "stream",
          "name": "stderr",
          "text": [
            "[*********************100%%**********************]  1 of 1 completed\n",
            "[*********************100%%**********************]  1 of 1 completed\n",
            "[*********************100%%**********************]  1 of 1 completed\n",
            "[*********************100%%**********************]  1 of 1 completed\n",
            "[*********************100%%**********************]  1 of 1 completed\n"
          ]
        },
        {
          "output_type": "stream",
          "name": "stdout",
          "text": [
            "KeyError: 'Net Income'\n",
            "KeyError: 'Stockholders Equity'\n"
          ]
        },
        {
          "output_type": "stream",
          "name": "stderr",
          "text": [
            "[*********************100%%**********************]  1 of 1 completed\n",
            "[*********************100%%**********************]  1 of 1 completed\n",
            "[*********************100%%**********************]  1 of 1 completed\n"
          ]
        },
        {
          "output_type": "stream",
          "name": "stdout",
          "text": [
            "KeyError: 'Net Income'\n",
            "KeyError: 'Stockholders Equity'\n"
          ]
        },
        {
          "output_type": "stream",
          "name": "stderr",
          "text": [
            "\r[*********************100%%**********************]  1 of 1 completed\n"
          ]
        },
        {
          "output_type": "stream",
          "name": "stdout",
          "text": [
            "KeyError: 'Net Income'\n",
            "KeyError: 'Stockholders Equity'\n"
          ]
        },
        {
          "output_type": "stream",
          "name": "stderr",
          "text": [
            "[*********************100%%**********************]  1 of 1 completed\n",
            "[*********************100%%**********************]  1 of 1 completed\n",
            "[*********************100%%**********************]  1 of 1 completed\n",
            "/usr/local/lib/python3.10/dist-packages/quantstats/stats.py:294: RuntimeWarning: invalid value encountered in scalar divide\n",
            "  res = returns.mean() / divisor\n",
            "[*********************100%%**********************]  1 of 1 completed\n",
            "[*********************100%%**********************]  1 of 1 completed\n",
            "[*********************100%%**********************]  1 of 1 completed\n",
            "[*********************100%%**********************]  1 of 1 completed\n",
            "[*********************100%%**********************]  1 of 1 completed\n"
          ]
        },
        {
          "output_type": "stream",
          "name": "stdout",
          "text": [
            "KeyError: 'totalDebt'\n"
          ]
        },
        {
          "output_type": "stream",
          "name": "stderr",
          "text": [
            "\r[*********************100%%**********************]  1 of 1 completed\n"
          ]
        },
        {
          "output_type": "stream",
          "name": "stdout",
          "text": [
            "KeyError: 'Net Income'\n",
            "KeyError: 'Stockholders Equity'\n"
          ]
        },
        {
          "output_type": "stream",
          "name": "stderr",
          "text": [
            "\r[*********************100%%**********************]  1 of 1 completed\n"
          ]
        },
        {
          "output_type": "stream",
          "name": "stdout",
          "text": [
            "KeyError: 'Net Income'\n",
            "KeyError: 'Stockholders Equity'\n"
          ]
        },
        {
          "output_type": "stream",
          "name": "stderr",
          "text": [
            "[*********************100%%**********************]  1 of 1 completed\n",
            "[*********************100%%**********************]  1 of 1 completed\n",
            "[*********************100%%**********************]  1 of 1 completed\n"
          ]
        },
        {
          "output_type": "stream",
          "name": "stdout",
          "text": [
            "KeyError: 'totalDebt'\n"
          ]
        },
        {
          "output_type": "stream",
          "name": "stderr",
          "text": [
            "\r[*********************100%%**********************]  1 of 1 completed\n"
          ]
        },
        {
          "output_type": "stream",
          "name": "stdout",
          "text": [
            "KeyError: 'Net Income'\n",
            "KeyError: 'Stockholders Equity'\n"
          ]
        },
        {
          "output_type": "stream",
          "name": "stderr",
          "text": [
            "\r[*********************100%%**********************]  1 of 1 completed\n"
          ]
        },
        {
          "output_type": "stream",
          "name": "stdout",
          "text": [
            "KeyError: 'Net Income'\n",
            "KeyError: 'Stockholders Equity'\n"
          ]
        },
        {
          "output_type": "stream",
          "name": "stderr",
          "text": [
            "[*********************100%%**********************]  1 of 1 completed\n",
            "[*********************100%%**********************]  1 of 1 completed\n"
          ]
        },
        {
          "output_type": "stream",
          "name": "stdout",
          "text": [
            "KeyError: 'Net Income'\n",
            "KeyError: 'Stockholders Equity'\n"
          ]
        },
        {
          "output_type": "stream",
          "name": "stderr",
          "text": [
            "\r[*********************100%%**********************]  1 of 1 completed\n"
          ]
        },
        {
          "output_type": "stream",
          "name": "stdout",
          "text": [
            "KeyError: 'Net Income'\n",
            "KeyError: 'Stockholders Equity'\n"
          ]
        },
        {
          "output_type": "stream",
          "name": "stderr",
          "text": [
            "[*********************100%%**********************]  1 of 1 completed\n",
            "[*********************100%%**********************]  1 of 1 completed\n"
          ]
        },
        {
          "output_type": "stream",
          "name": "stdout",
          "text": [
            "KeyError: 'Net Income'\n",
            "KeyError: 'Stockholders Equity'\n"
          ]
        },
        {
          "output_type": "stream",
          "name": "stderr",
          "text": [
            "[*********************100%%**********************]  1 of 1 completed\n",
            "[*********************100%%**********************]  1 of 1 completed\n",
            "[*********************100%%**********************]  1 of 1 completed\n",
            "[*********************100%%**********************]  1 of 1 completed\n",
            "[*********************100%%**********************]  1 of 1 completed\n",
            "[*********************100%%**********************]  1 of 1 completed\n"
          ]
        },
        {
          "output_type": "stream",
          "name": "stdout",
          "text": [
            "KeyError: 'Net Income'\n",
            "KeyError: 'Stockholders Equity'\n"
          ]
        },
        {
          "output_type": "stream",
          "name": "stderr",
          "text": [
            "[*********************100%%**********************]  1 of 1 completed\n",
            "[*********************100%%**********************]  1 of 1 completed\n",
            "[*********************100%%**********************]  1 of 1 completed\n"
          ]
        },
        {
          "output_type": "stream",
          "name": "stdout",
          "text": [
            "KeyError: 'Net Income'\n",
            "KeyError: 'Stockholders Equity'\n"
          ]
        },
        {
          "output_type": "stream",
          "name": "stderr",
          "text": [
            "\r[*********************100%%**********************]  1 of 1 completed\n"
          ]
        },
        {
          "output_type": "stream",
          "name": "stdout",
          "text": [
            "KeyError: 'Net Income'\n",
            "KeyError: 'Stockholders Equity'\n"
          ]
        },
        {
          "output_type": "stream",
          "name": "stderr",
          "text": [
            "[*********************100%%**********************]  1 of 1 completed\n",
            "[*********************100%%**********************]  1 of 1 completed\n"
          ]
        },
        {
          "output_type": "stream",
          "name": "stdout",
          "text": [
            "KeyError: 'Net Income'\n",
            "KeyError: 'Stockholders Equity'\n"
          ]
        },
        {
          "output_type": "stream",
          "name": "stderr",
          "text": [
            "\r[*********************100%%**********************]  1 of 1 completed\n"
          ]
        },
        {
          "output_type": "stream",
          "name": "stdout",
          "text": [
            "KeyError: 'Net Income'\n",
            "KeyError: 'Stockholders Equity'\n"
          ]
        },
        {
          "output_type": "stream",
          "name": "stderr",
          "text": [
            "\r[*********************100%%**********************]  1 of 1 completed\n"
          ]
        },
        {
          "output_type": "stream",
          "name": "stdout",
          "text": [
            "KeyError: 'Net Income'\n",
            "KeyError: 'Stockholders Equity'\n"
          ]
        },
        {
          "output_type": "stream",
          "name": "stderr",
          "text": [
            "\r[*********************100%%**********************]  1 of 1 completed\n",
            "/usr/local/lib/python3.10/dist-packages/quantstats/stats.py:294: RuntimeWarning: invalid value encountered in scalar divide\n",
            "  res = returns.mean() / divisor\n"
          ]
        },
        {
          "output_type": "stream",
          "name": "stdout",
          "text": [
            "KeyError: 'Net Income'\n",
            "KeyError: 'Stockholders Equity'\n"
          ]
        },
        {
          "output_type": "stream",
          "name": "stderr",
          "text": [
            "[*********************100%%**********************]  1 of 1 completed\n",
            "[*********************100%%**********************]  1 of 1 completed\n",
            "[*********************100%%**********************]  1 of 1 completed\n"
          ]
        },
        {
          "output_type": "stream",
          "name": "stdout",
          "text": [
            "KeyError: 'totalDebt'\n"
          ]
        },
        {
          "output_type": "stream",
          "name": "stderr",
          "text": [
            "\r[*********************100%%**********************]  1 of 1 completed\n"
          ]
        },
        {
          "output_type": "stream",
          "name": "stdout",
          "text": [
            "KeyError: 'Net Income'\n",
            "KeyError: 'Stockholders Equity'\n"
          ]
        },
        {
          "output_type": "stream",
          "name": "stderr",
          "text": [
            "\r[*********************100%%**********************]  1 of 1 completed\n"
          ]
        },
        {
          "output_type": "stream",
          "name": "stdout",
          "text": [
            "KeyError: 'Net Income'\n",
            "KeyError: 'Stockholders Equity'\n"
          ]
        },
        {
          "output_type": "stream",
          "name": "stderr",
          "text": [
            "[*********************100%%**********************]  1 of 1 completed\n",
            "[*********************100%%**********************]  1 of 1 completed\n",
            "[*********************100%%**********************]  1 of 1 completed\n"
          ]
        },
        {
          "output_type": "stream",
          "name": "stdout",
          "text": [
            "KeyError: 'Net Income'\n",
            "KeyError: 'Stockholders Equity'\n"
          ]
        },
        {
          "output_type": "stream",
          "name": "stderr",
          "text": [
            "[*********************100%%**********************]  1 of 1 completed\n",
            "[*********************100%%**********************]  1 of 1 completed\n",
            "[*********************100%%**********************]  1 of 1 completed\n",
            "[*********************100%%**********************]  1 of 1 completed\n",
            "[*********************100%%**********************]  1 of 1 completed\n"
          ]
        },
        {
          "output_type": "stream",
          "name": "stdout",
          "text": [
            "KeyError: 'Net Income'\n",
            "KeyError: 'Stockholders Equity'\n"
          ]
        },
        {
          "output_type": "stream",
          "name": "stderr",
          "text": [
            "[*********************100%%**********************]  1 of 1 completed\n",
            "[*********************100%%**********************]  1 of 1 completed\n",
            "[*********************100%%**********************]  1 of 1 completed\n"
          ]
        },
        {
          "output_type": "stream",
          "name": "stdout",
          "text": [
            "KeyError: 'Net Income'\n",
            "KeyError: 'Stockholders Equity'\n"
          ]
        },
        {
          "output_type": "stream",
          "name": "stderr",
          "text": [
            "\r[*********************100%%**********************]  1 of 1 completed\n"
          ]
        },
        {
          "output_type": "stream",
          "name": "stdout",
          "text": [
            "KeyError: 'Net Income'\n",
            "KeyError: 'Stockholders Equity'\n"
          ]
        },
        {
          "output_type": "stream",
          "name": "stderr",
          "text": [
            "[*********************100%%**********************]  1 of 1 completed\n",
            "[*********************100%%**********************]  1 of 1 completed\n",
            "[*********************100%%**********************]  1 of 1 completed\n"
          ]
        },
        {
          "output_type": "stream",
          "name": "stdout",
          "text": [
            "KeyError: 'Net Income'\n",
            "KeyError: 'Stockholders Equity'\n"
          ]
        },
        {
          "output_type": "stream",
          "name": "stderr",
          "text": [
            "\r[*********************100%%**********************]  1 of 1 completed\n",
            "/usr/local/lib/python3.10/dist-packages/quantstats/stats.py:294: RuntimeWarning: invalid value encountered in scalar divide\n",
            "  res = returns.mean() / divisor\n"
          ]
        },
        {
          "output_type": "stream",
          "name": "stdout",
          "text": [
            "KeyError: 'sharesOutstanding'\n",
            "KeyError: 'totalDebt'\n"
          ]
        },
        {
          "output_type": "stream",
          "name": "stderr",
          "text": [
            "[*********************100%%**********************]  1 of 1 completed\n",
            "[*********************100%%**********************]  1 of 1 completed\n",
            "[*********************100%%**********************]  1 of 1 completed\n",
            "[*********************100%%**********************]  1 of 1 completed\n"
          ]
        },
        {
          "output_type": "stream",
          "name": "stdout",
          "text": [
            "KeyError: 'Net Income'\n",
            "KeyError: 'Stockholders Equity'\n"
          ]
        },
        {
          "output_type": "stream",
          "name": "stderr",
          "text": [
            "\r[*********************100%%**********************]  1 of 1 completed\n"
          ]
        },
        {
          "output_type": "stream",
          "name": "stdout",
          "text": [
            "KeyError: 'Net Income'\n",
            "KeyError: 'Stockholders Equity'\n"
          ]
        },
        {
          "output_type": "stream",
          "name": "stderr",
          "text": [
            "\r[*********************100%%**********************]  1 of 1 completed\n"
          ]
        },
        {
          "output_type": "stream",
          "name": "stdout",
          "text": [
            "KeyError: 'currentPrice'\n",
            "KeyError: 'Stockholders Equity'\n"
          ]
        },
        {
          "output_type": "stream",
          "name": "stderr",
          "text": [
            "\r[*********************100%%**********************]  1 of 1 completed\n"
          ]
        },
        {
          "output_type": "stream",
          "name": "stdout",
          "text": [
            "KeyError: 'Net Income'\n",
            "KeyError: 'Stockholders Equity'\n"
          ]
        },
        {
          "output_type": "stream",
          "name": "stderr",
          "text": [
            "[*********************100%%**********************]  1 of 1 completed\n",
            "[*********************100%%**********************]  1 of 1 completed\n",
            "[*********************100%%**********************]  1 of 1 completed\n"
          ]
        },
        {
          "output_type": "stream",
          "name": "stdout",
          "text": [
            "KeyError: 'Net Income'\n",
            "KeyError: 'Stockholders Equity'\n"
          ]
        },
        {
          "output_type": "stream",
          "name": "stderr",
          "text": [
            "[*********************100%%**********************]  1 of 1 completed\n",
            "[*********************100%%**********************]  1 of 1 completed\n"
          ]
        },
        {
          "output_type": "stream",
          "name": "stdout",
          "text": [
            "KeyError: 'Net Income'\n",
            "KeyError: 'Stockholders Equity'\n"
          ]
        },
        {
          "output_type": "stream",
          "name": "stderr",
          "text": [
            "[*********************100%%**********************]  1 of 1 completed\n",
            "[*********************100%%**********************]  1 of 1 completed\n",
            "[*********************100%%**********************]  1 of 1 completed\n"
          ]
        },
        {
          "output_type": "stream",
          "name": "stdout",
          "text": [
            "KeyError: 'Net Income'\n",
            "KeyError: 'Stockholders Equity'\n"
          ]
        },
        {
          "output_type": "stream",
          "name": "stderr",
          "text": [
            "\r[*********************100%%**********************]  1 of 1 completed\n"
          ]
        },
        {
          "output_type": "stream",
          "name": "stdout",
          "text": [
            "KeyError: 'Net Income'\n",
            "KeyError: 'Stockholders Equity'\n"
          ]
        },
        {
          "output_type": "stream",
          "name": "stderr",
          "text": [
            "\r[*********************100%%**********************]  1 of 1 completed\n"
          ]
        },
        {
          "output_type": "stream",
          "name": "stdout",
          "text": [
            "KeyError: 'Net Income'\n",
            "KeyError: 'Stockholders Equity'\n"
          ]
        },
        {
          "output_type": "stream",
          "name": "stderr",
          "text": [
            "\r[*********************100%%**********************]  1 of 1 completed\n"
          ]
        },
        {
          "output_type": "stream",
          "name": "stdout",
          "text": [
            "KeyError: 'Net Income'\n",
            "KeyError: 'Stockholders Equity'\n"
          ]
        },
        {
          "output_type": "stream",
          "name": "stderr",
          "text": [
            "[*********************100%%**********************]  1 of 1 completed\n",
            "[*********************100%%**********************]  1 of 1 completed\n"
          ]
        },
        {
          "output_type": "stream",
          "name": "stdout",
          "text": [
            "KeyError: 'Net Income'\n",
            "KeyError: 'Stockholders Equity'\n"
          ]
        },
        {
          "output_type": "stream",
          "name": "stderr",
          "text": [
            "[*********************100%%**********************]  1 of 1 completed\n",
            "[*********************100%%**********************]  1 of 1 completed\n"
          ]
        },
        {
          "output_type": "stream",
          "name": "stdout",
          "text": [
            "KeyError: 'Net Income'\n",
            "KeyError: 'Stockholders Equity'\n"
          ]
        },
        {
          "output_type": "stream",
          "name": "stderr",
          "text": [
            "\r[*********************100%%**********************]  1 of 1 completed\n",
            "/usr/local/lib/python3.10/dist-packages/quantstats/stats.py:294: RuntimeWarning: invalid value encountered in scalar divide\n",
            "  res = returns.mean() / divisor\n"
          ]
        },
        {
          "output_type": "stream",
          "name": "stdout",
          "text": [
            "KeyError: 'sharesOutstanding'\n",
            "KeyError: 'totalDebt'\n"
          ]
        },
        {
          "output_type": "stream",
          "name": "stderr",
          "text": [
            "[*********************100%%**********************]  1 of 1 completed\n",
            "[*********************100%%**********************]  1 of 1 completed\n",
            "[*********************100%%**********************]  1 of 1 completed\n",
            "[*********************100%%**********************]  1 of 1 completed\n",
            "[*********************100%%**********************]  1 of 1 completed\n",
            "[*********************100%%**********************]  1 of 1 completed\n",
            "[*********************100%%**********************]  1 of 1 completed\n"
          ]
        },
        {
          "output_type": "stream",
          "name": "stdout",
          "text": [
            "KeyError: 'Net Income'\n",
            "KeyError: 'Stockholders Equity'\n"
          ]
        },
        {
          "output_type": "stream",
          "name": "stderr",
          "text": [
            "[*********************100%%**********************]  1 of 1 completed\n",
            "[*********************100%%**********************]  1 of 1 completed\n",
            "[*********************100%%**********************]  1 of 1 completed\n",
            "/usr/local/lib/python3.10/dist-packages/quantstats/stats.py:294: RuntimeWarning: invalid value encountered in scalar divide\n",
            "  res = returns.mean() / divisor\n"
          ]
        },
        {
          "output_type": "stream",
          "name": "stdout",
          "text": [
            "KeyError: 'Net Income'\n",
            "KeyError: 'Stockholders Equity'\n"
          ]
        },
        {
          "output_type": "stream",
          "name": "stderr",
          "text": [
            "[*********************100%%**********************]  1 of 1 completed\n",
            "[*********************100%%**********************]  1 of 1 completed\n"
          ]
        },
        {
          "output_type": "stream",
          "name": "stdout",
          "text": [
            "KeyError: 'Net Income'\n",
            "KeyError: 'Stockholders Equity'\n"
          ]
        },
        {
          "output_type": "stream",
          "name": "stderr",
          "text": [
            "[*********************100%%**********************]  1 of 1 completed\n",
            "[*********************100%%**********************]  1 of 1 completed\n",
            "[*********************100%%**********************]  1 of 1 completed\n",
            "[*********************100%%**********************]  1 of 1 completed\n",
            "[*********************100%%**********************]  1 of 1 completed\n",
            "[*********************100%%**********************]  1 of 1 completed\n"
          ]
        },
        {
          "output_type": "stream",
          "name": "stdout",
          "text": [
            "KeyError: 'currentPrice'\n",
            "KeyError: 'Stockholders Equity'\n"
          ]
        },
        {
          "output_type": "stream",
          "name": "stderr",
          "text": [
            "[*********************100%%**********************]  1 of 1 completed\n",
            "[*********************100%%**********************]  1 of 1 completed\n"
          ]
        },
        {
          "output_type": "stream",
          "name": "stdout",
          "text": [
            "KeyError: 'Net Income'\n",
            "KeyError: 'Stockholders Equity'\n"
          ]
        },
        {
          "output_type": "stream",
          "name": "stderr",
          "text": [
            "[*********************100%%**********************]  1 of 1 completed\n",
            "[*********************100%%**********************]  1 of 1 completed\n",
            "[*********************100%%**********************]  1 of 1 completed\n",
            "[*********************100%%**********************]  1 of 1 completed\n"
          ]
        },
        {
          "output_type": "stream",
          "name": "stdout",
          "text": [
            "KeyError: 'Net Income'\n",
            "KeyError: 'Stockholders Equity'\n"
          ]
        },
        {
          "output_type": "stream",
          "name": "stderr",
          "text": [
            "\r[*********************100%%**********************]  1 of 1 completed\n"
          ]
        },
        {
          "output_type": "stream",
          "name": "stdout",
          "text": [
            "KeyError: 'Net Income'\n",
            "KeyError: 'Stockholders Equity'\n"
          ]
        },
        {
          "output_type": "stream",
          "name": "stderr",
          "text": [
            "[*********************100%%**********************]  1 of 1 completed\n",
            "[*********************100%%**********************]  1 of 1 completed\n",
            "[*********************100%%**********************]  1 of 1 completed\n",
            "[*********************100%%**********************]  1 of 1 completed\n"
          ]
        },
        {
          "output_type": "stream",
          "name": "stdout",
          "text": [
            "KeyError: 'totalDebt'\n"
          ]
        },
        {
          "output_type": "stream",
          "name": "stderr",
          "text": [
            "\r[*********************100%%**********************]  1 of 1 completed\n",
            "/usr/local/lib/python3.10/dist-packages/quantstats/stats.py:294: RuntimeWarning: invalid value encountered in scalar divide\n",
            "  res = returns.mean() / divisor\n"
          ]
        },
        {
          "output_type": "stream",
          "name": "stdout",
          "text": [
            "KeyError: 'sharesOutstanding'\n",
            "KeyError: 'totalDebt'\n"
          ]
        },
        {
          "output_type": "stream",
          "name": "stderr",
          "text": [
            "[*********************100%%**********************]  1 of 1 completed\n",
            "[*********************100%%**********************]  1 of 1 completed\n"
          ]
        },
        {
          "output_type": "stream",
          "name": "stdout",
          "text": [
            "KeyError: 'Net Income'\n",
            "KeyError: 'Stockholders Equity'\n"
          ]
        },
        {
          "output_type": "stream",
          "name": "stderr",
          "text": [
            "[*********************100%%**********************]  1 of 1 completed\n",
            "[*********************100%%**********************]  1 of 1 completed\n"
          ]
        },
        {
          "output_type": "stream",
          "name": "stdout",
          "text": [
            "KeyError: 'currentPrice'\n",
            "KeyError: 'Stockholders Equity'\n"
          ]
        },
        {
          "output_type": "stream",
          "name": "stderr",
          "text": [
            "[*********************100%%**********************]  1 of 1 completed\n",
            "[*********************100%%**********************]  1 of 1 completed\n",
            "[*********************100%%**********************]  1 of 1 completed\n",
            "[*********************100%%**********************]  1 of 1 completed\n",
            "[*********************100%%**********************]  1 of 1 completed\n",
            "[*********************100%%**********************]  1 of 1 completed\n"
          ]
        },
        {
          "output_type": "stream",
          "name": "stdout",
          "text": [
            "KeyError: 'Net Income'\n",
            "KeyError: 'Stockholders Equity'\n"
          ]
        },
        {
          "output_type": "stream",
          "name": "stderr",
          "text": [
            "\r[*********************100%%**********************]  1 of 1 completed\n"
          ]
        },
        {
          "output_type": "stream",
          "name": "stdout",
          "text": [
            "KeyError: 'Net Income'\n",
            "KeyError: 'Stockholders Equity'\n"
          ]
        },
        {
          "output_type": "stream",
          "name": "stderr",
          "text": [
            "[*********************100%%**********************]  1 of 1 completed\n",
            "[*********************100%%**********************]  1 of 1 completed\n",
            "[*********************100%%**********************]  1 of 1 completed\n"
          ]
        },
        {
          "output_type": "stream",
          "name": "stdout",
          "text": [
            "KeyError: 'Net Income'\n",
            "KeyError: 'Stockholders Equity'\n"
          ]
        },
        {
          "output_type": "stream",
          "name": "stderr",
          "text": [
            "[*********************100%%**********************]  1 of 1 completed\n",
            "[*********************100%%**********************]  1 of 1 completed\n",
            "[*********************100%%**********************]  1 of 1 completed\n"
          ]
        },
        {
          "output_type": "stream",
          "name": "stdout",
          "text": [
            "KeyError: 'Net Income'\n",
            "KeyError: 'Stockholders Equity'\n"
          ]
        },
        {
          "output_type": "stream",
          "name": "stderr",
          "text": [
            "[*********************100%%**********************]  1 of 1 completed\n",
            "[*********************100%%**********************]  1 of 1 completed\n"
          ]
        },
        {
          "output_type": "stream",
          "name": "stdout",
          "text": [
            "KeyError: 'Net Income'\n",
            "KeyError: 'Stockholders Equity'\n"
          ]
        },
        {
          "output_type": "stream",
          "name": "stderr",
          "text": [
            "[*********************100%%**********************]  1 of 1 completed\n",
            "[*********************100%%**********************]  1 of 1 completed\n"
          ]
        },
        {
          "output_type": "stream",
          "name": "stdout",
          "text": [
            "KeyError: 'Net Income'\n",
            "KeyError: 'Stockholders Equity'\n"
          ]
        },
        {
          "output_type": "stream",
          "name": "stderr",
          "text": [
            "[*********************100%%**********************]  1 of 1 completed\n",
            "[*********************100%%**********************]  1 of 1 completed\n",
            "[*********************100%%**********************]  1 of 1 completed\n",
            "[*********************100%%**********************]  1 of 1 completed\n"
          ]
        },
        {
          "output_type": "stream",
          "name": "stdout",
          "text": [
            "KeyError: 'Net Income'\n",
            "KeyError: 'Stockholders Equity'\n"
          ]
        },
        {
          "output_type": "stream",
          "name": "stderr",
          "text": [
            "[*********************100%%**********************]  1 of 1 completed\n",
            "[*********************100%%**********************]  1 of 1 completed\n"
          ]
        },
        {
          "output_type": "stream",
          "name": "stdout",
          "text": [
            "KeyError: 'Net Income'\n",
            "KeyError: 'Stockholders Equity'\n"
          ]
        },
        {
          "output_type": "stream",
          "name": "stderr",
          "text": [
            "[*********************100%%**********************]  1 of 1 completed\n",
            "[*********************100%%**********************]  1 of 1 completed\n"
          ]
        },
        {
          "output_type": "stream",
          "name": "stdout",
          "text": [
            "KeyError: 'Net Income'\n",
            "KeyError: 'Stockholders Equity'\n"
          ]
        },
        {
          "output_type": "stream",
          "name": "stderr",
          "text": [
            "\r[*********************100%%**********************]  1 of 1 completed\n"
          ]
        },
        {
          "output_type": "stream",
          "name": "stdout",
          "text": [
            "KeyError: 'Net Income'\n",
            "KeyError: 'Stockholders Equity'\n"
          ]
        },
        {
          "output_type": "stream",
          "name": "stderr",
          "text": [
            "[*********************100%%**********************]  1 of 1 completed\n",
            "[*********************100%%**********************]  1 of 1 completed\n",
            "[*********************100%%**********************]  1 of 1 completed\n",
            "[*********************100%%**********************]  1 of 1 completed\n"
          ]
        },
        {
          "output_type": "stream",
          "name": "stdout",
          "text": [
            "KeyError: 'Net Income'\n",
            "KeyError: 'Stockholders Equity'\n"
          ]
        },
        {
          "output_type": "stream",
          "name": "stderr",
          "text": [
            "[*********************100%%**********************]  1 of 1 completed\n",
            "[*********************100%%**********************]  1 of 1 completed\n",
            "[*********************100%%**********************]  1 of 1 completed\n"
          ]
        },
        {
          "output_type": "stream",
          "name": "stdout",
          "text": [
            "KeyError: 'totalDebt'\n"
          ]
        },
        {
          "output_type": "stream",
          "name": "stderr",
          "text": [
            "\r[*********************100%%**********************]  1 of 1 completed\n"
          ]
        },
        {
          "output_type": "stream",
          "name": "stdout",
          "text": [
            "KeyError: 'Net Income'\n",
            "KeyError: 'Stockholders Equity'\n"
          ]
        },
        {
          "output_type": "stream",
          "name": "stderr",
          "text": [
            "[*********************100%%**********************]  1 of 1 completed\n",
            "[*********************100%%**********************]  1 of 1 completed\n",
            "[*********************100%%**********************]  1 of 1 completed\n"
          ]
        },
        {
          "output_type": "stream",
          "name": "stdout",
          "text": [
            "KeyError: 'Net Income'\n",
            "KeyError: 'Stockholders Equity'\n"
          ]
        },
        {
          "output_type": "stream",
          "name": "stderr",
          "text": [
            "[*********************100%%**********************]  1 of 1 completed\n",
            "[*********************100%%**********************]  1 of 1 completed\n",
            "[*********************100%%**********************]  1 of 1 completed\n",
            "[*********************100%%**********************]  1 of 1 completed\n"
          ]
        },
        {
          "output_type": "stream",
          "name": "stdout",
          "text": [
            "KeyError: 'Net Income'\n",
            "KeyError: 'Stockholders Equity'\n"
          ]
        },
        {
          "output_type": "stream",
          "name": "stderr",
          "text": [
            "\r[*********************100%%**********************]  1 of 1 completed\n"
          ]
        },
        {
          "output_type": "stream",
          "name": "stdout",
          "text": [
            "KeyError: 'Net Income'\n",
            "KeyError: 'Stockholders Equity'\n"
          ]
        },
        {
          "output_type": "stream",
          "name": "stderr",
          "text": [
            "[*********************100%%**********************]  1 of 1 completed\n",
            "[*********************100%%**********************]  1 of 1 completed\n",
            "[*********************100%%**********************]  1 of 1 completed\n",
            "[*********************100%%**********************]  1 of 1 completed\n",
            "/usr/local/lib/python3.10/dist-packages/quantstats/stats.py:294: RuntimeWarning: invalid value encountered in scalar divide\n",
            "  res = returns.mean() / divisor\n",
            "[*********************100%%**********************]  1 of 1 completed\n",
            "[*********************100%%**********************]  1 of 1 completed\n",
            "[*********************100%%**********************]  1 of 1 completed\n",
            "/usr/local/lib/python3.10/dist-packages/quantstats/stats.py:294: RuntimeWarning: invalid value encountered in scalar divide\n",
            "  res = returns.mean() / divisor\n"
          ]
        },
        {
          "output_type": "stream",
          "name": "stdout",
          "text": [
            "KeyError: 'Net Income'\n",
            "KeyError: 'Stockholders Equity'\n"
          ]
        },
        {
          "output_type": "stream",
          "name": "stderr",
          "text": [
            "\r[*********************100%%**********************]  1 of 1 completed\n"
          ]
        },
        {
          "output_type": "stream",
          "name": "stdout",
          "text": [
            "KeyError: 'Net Income'\n",
            "KeyError: 'Stockholders Equity'\n"
          ]
        },
        {
          "output_type": "stream",
          "name": "stderr",
          "text": [
            "[*********************100%%**********************]  1 of 1 completed\n",
            "[*********************100%%**********************]  1 of 1 completed\n",
            "[*********************100%%**********************]  1 of 1 completed\n",
            "[*********************100%%**********************]  1 of 1 completed\n",
            "[*********************100%%**********************]  1 of 1 completed\n",
            "[*********************100%%**********************]  1 of 1 completed\n",
            "[*********************100%%**********************]  1 of 1 completed\n",
            "[*********************100%%**********************]  1 of 1 completed\n",
            "[*********************100%%**********************]  1 of 1 completed\n"
          ]
        },
        {
          "output_type": "stream",
          "name": "stdout",
          "text": [
            "KeyError: 'Net Income'\n",
            "KeyError: 'Stockholders Equity'\n"
          ]
        },
        {
          "output_type": "stream",
          "name": "stderr",
          "text": [
            "\r[*********************100%%**********************]  1 of 1 completed\n"
          ]
        },
        {
          "output_type": "stream",
          "name": "stdout",
          "text": [
            "KeyError: 'Net Income'\n",
            "KeyError: 'Stockholders Equity'\n"
          ]
        },
        {
          "output_type": "stream",
          "name": "stderr",
          "text": [
            "[*********************100%%**********************]  1 of 1 completed\n",
            "[*********************100%%**********************]  1 of 1 completed\n"
          ]
        },
        {
          "output_type": "stream",
          "name": "stdout",
          "text": [
            "KeyError: 'Net Income'\n",
            "KeyError: 'Stockholders Equity'\n"
          ]
        },
        {
          "output_type": "stream",
          "name": "stderr",
          "text": [
            "\r[*********************100%%**********************]  1 of 1 completed\n"
          ]
        },
        {
          "output_type": "stream",
          "name": "stdout",
          "text": [
            "KeyError: 'totalDebt'\n"
          ]
        },
        {
          "output_type": "stream",
          "name": "stderr",
          "text": [
            "\r[*********************100%%**********************]  1 of 1 completed\n",
            "/usr/local/lib/python3.10/dist-packages/quantstats/stats.py:294: RuntimeWarning: invalid value encountered in scalar divide\n",
            "  res = returns.mean() / divisor\n"
          ]
        },
        {
          "output_type": "stream",
          "name": "stdout",
          "text": [
            "KeyError: 'Net Income'\n",
            "KeyError: 'Stockholders Equity'\n"
          ]
        },
        {
          "output_type": "stream",
          "name": "stderr",
          "text": [
            "\r[*********************100%%**********************]  1 of 1 completed\n"
          ]
        },
        {
          "output_type": "stream",
          "name": "stdout",
          "text": [
            "KeyError: 'Net Income'\n",
            "KeyError: 'Stockholders Equity'\n"
          ]
        },
        {
          "output_type": "stream",
          "name": "stderr",
          "text": [
            "\r[*********************100%%**********************]  1 of 1 completed\n"
          ]
        },
        {
          "output_type": "stream",
          "name": "stdout",
          "text": [
            "KeyError: 'Net Income'\n",
            "KeyError: 'Stockholders Equity'\n"
          ]
        },
        {
          "output_type": "stream",
          "name": "stderr",
          "text": [
            "[*********************100%%**********************]  1 of 1 completed\n",
            "[*********************100%%**********************]  1 of 1 completed\n"
          ]
        },
        {
          "output_type": "stream",
          "name": "stdout",
          "text": [
            "KeyError: 'totalDebt'\n"
          ]
        },
        {
          "output_type": "stream",
          "name": "stderr",
          "text": [
            "\r[*********************100%%**********************]  1 of 1 completed\n"
          ]
        },
        {
          "output_type": "stream",
          "name": "stdout",
          "text": [
            "KeyError: 'Net Income'\n",
            "KeyError: 'Stockholders Equity'\n"
          ]
        },
        {
          "output_type": "stream",
          "name": "stderr",
          "text": [
            "[*********************100%%**********************]  1 of 1 completed\n",
            "[*********************100%%**********************]  1 of 1 completed\n"
          ]
        },
        {
          "output_type": "stream",
          "name": "stdout",
          "text": [
            "KeyError: 'Net Income'\n",
            "KeyError: 'Stockholders Equity'\n"
          ]
        },
        {
          "output_type": "stream",
          "name": "stderr",
          "text": [
            "[*********************100%%**********************]  1 of 1 completed\n",
            "[*********************100%%**********************]  1 of 1 completed\n"
          ]
        },
        {
          "output_type": "stream",
          "name": "stdout",
          "text": [
            "KeyError: 'Net Income'\n",
            "KeyError: 'Stockholders Equity'\n"
          ]
        },
        {
          "output_type": "stream",
          "name": "stderr",
          "text": [
            "[*********************100%%**********************]  1 of 1 completed\n",
            "[*********************100%%**********************]  1 of 1 completed\n"
          ]
        },
        {
          "output_type": "stream",
          "name": "stdout",
          "text": [
            "KeyError: 'totalDebt'\n"
          ]
        },
        {
          "output_type": "stream",
          "name": "stderr",
          "text": [
            "\r[*********************100%%**********************]  1 of 1 completed\n"
          ]
        },
        {
          "output_type": "stream",
          "name": "stdout",
          "text": [
            "KeyError: 'Net Income'\n",
            "KeyError: 'Stockholders Equity'\n"
          ]
        },
        {
          "output_type": "stream",
          "name": "stderr",
          "text": [
            "\r[*********************100%%**********************]  1 of 1 completed\n"
          ]
        },
        {
          "output_type": "stream",
          "name": "stdout",
          "text": [
            "KeyError: 'Net Income'\n",
            "KeyError: 'Stockholders Equity'\n"
          ]
        },
        {
          "output_type": "stream",
          "name": "stderr",
          "text": [
            "[*********************100%%**********************]  1 of 1 completed\n",
            "[*********************100%%**********************]  1 of 1 completed\n"
          ]
        },
        {
          "output_type": "stream",
          "name": "stdout",
          "text": [
            "KeyError: 'Net Income'\n",
            "KeyError: 'Stockholders Equity'\n"
          ]
        },
        {
          "output_type": "stream",
          "name": "stderr",
          "text": [
            "[*********************100%%**********************]  1 of 1 completed\n",
            "[*********************100%%**********************]  1 of 1 completed\n"
          ]
        },
        {
          "output_type": "stream",
          "name": "stdout",
          "text": [
            "KeyError: 'Net Income'\n",
            "KeyError: 'Stockholders Equity'\n"
          ]
        },
        {
          "output_type": "stream",
          "name": "stderr",
          "text": [
            "\r[*********************100%%**********************]  1 of 1 completed\n"
          ]
        },
        {
          "output_type": "stream",
          "name": "stdout",
          "text": [
            "KeyError: 'Net Income'\n",
            "KeyError: 'Stockholders Equity'\n"
          ]
        },
        {
          "output_type": "stream",
          "name": "stderr",
          "text": [
            "[*********************100%%**********************]  1 of 1 completed\n",
            "[*********************100%%**********************]  1 of 1 completed\n"
          ]
        },
        {
          "output_type": "stream",
          "name": "stdout",
          "text": [
            "KeyError: 'Net Income'\n",
            "KeyError: 'Stockholders Equity'\n"
          ]
        },
        {
          "output_type": "stream",
          "name": "stderr",
          "text": [
            "\r[*********************100%%**********************]  1 of 1 completed\n"
          ]
        },
        {
          "output_type": "stream",
          "name": "stdout",
          "text": [
            "KeyError: 'Net Income'\n",
            "KeyError: 'Stockholders Equity'\n"
          ]
        },
        {
          "output_type": "stream",
          "name": "stderr",
          "text": [
            "[*********************100%%**********************]  1 of 1 completed\n",
            "[*********************100%%**********************]  1 of 1 completed\n"
          ]
        },
        {
          "output_type": "stream",
          "name": "stdout",
          "text": [
            "KeyError: 'Net Income'\n",
            "KeyError: 'Stockholders Equity'\n"
          ]
        },
        {
          "output_type": "stream",
          "name": "stderr",
          "text": [
            "\r[*********************100%%**********************]  1 of 1 completed\n"
          ]
        },
        {
          "output_type": "stream",
          "name": "stdout",
          "text": [
            "KeyError: 'totalDebt'\n"
          ]
        },
        {
          "output_type": "stream",
          "name": "stderr",
          "text": [
            "\r[*********************100%%**********************]  1 of 1 completed\n"
          ]
        },
        {
          "output_type": "stream",
          "name": "stdout",
          "text": [
            "KeyError: 'Net Income'\n",
            "KeyError: 'Stockholders Equity'\n"
          ]
        },
        {
          "output_type": "stream",
          "name": "stderr",
          "text": [
            "[*********************100%%**********************]  1 of 1 completed\n",
            "[*********************100%%**********************]  1 of 1 completed\n"
          ]
        },
        {
          "output_type": "stream",
          "name": "stdout",
          "text": [
            "KeyError: 'Net Income'\n",
            "KeyError: 'Stockholders Equity'\n"
          ]
        },
        {
          "output_type": "stream",
          "name": "stderr",
          "text": [
            "\r[*********************100%%**********************]  1 of 1 completed\n"
          ]
        },
        {
          "output_type": "stream",
          "name": "stdout",
          "text": [
            "KeyError: 'Net Income'\n",
            "KeyError: 'Stockholders Equity'\n"
          ]
        },
        {
          "output_type": "stream",
          "name": "stderr",
          "text": [
            "[*********************100%%**********************]  1 of 1 completed\n",
            "[*********************100%%**********************]  1 of 1 completed\n"
          ]
        },
        {
          "output_type": "stream",
          "name": "stdout",
          "text": [
            "KeyError: 'Net Income'\n",
            "KeyError: 'Stockholders Equity'\n"
          ]
        },
        {
          "output_type": "stream",
          "name": "stderr",
          "text": [
            "[*********************100%%**********************]  1 of 1 completed\n",
            "[*********************100%%**********************]  1 of 1 completed\n",
            "[*********************100%%**********************]  1 of 1 completed\n"
          ]
        },
        {
          "output_type": "stream",
          "name": "stdout",
          "text": [
            "KeyError: 'Net Income'\n",
            "KeyError: 'Stockholders Equity'\n"
          ]
        },
        {
          "output_type": "stream",
          "name": "stderr",
          "text": [
            "\r[*********************100%%**********************]  1 of 1 completed\n"
          ]
        },
        {
          "output_type": "stream",
          "name": "stdout",
          "text": [
            "KeyError: 'Net Income'\n",
            "KeyError: 'Stockholders Equity'\n"
          ]
        },
        {
          "output_type": "stream",
          "name": "stderr",
          "text": [
            "\r[*********************100%%**********************]  1 of 1 completed\n"
          ]
        },
        {
          "output_type": "stream",
          "name": "stdout",
          "text": [
            "KeyError: 'Net Income'\n",
            "KeyError: 'Stockholders Equity'\n"
          ]
        },
        {
          "output_type": "stream",
          "name": "stderr",
          "text": [
            "\r[*********************100%%**********************]  1 of 1 completed\n"
          ]
        },
        {
          "output_type": "stream",
          "name": "stdout",
          "text": [
            "KeyError: 'Net Income'\n",
            "KeyError: 'Stockholders Equity'\n"
          ]
        },
        {
          "output_type": "stream",
          "name": "stderr",
          "text": [
            "[*********************100%%**********************]  1 of 1 completed\n",
            "[*********************100%%**********************]  1 of 1 completed\n"
          ]
        },
        {
          "output_type": "stream",
          "name": "stdout",
          "text": [
            "KeyError: 'currentPrice'\n",
            "KeyError: 'totalDebt'\n"
          ]
        },
        {
          "output_type": "stream",
          "name": "stderr",
          "text": [
            "\r[*********************100%%**********************]  1 of 1 completed\n",
            "/usr/local/lib/python3.10/dist-packages/quantstats/stats.py:294: RuntimeWarning: invalid value encountered in scalar divide\n",
            "  res = returns.mean() / divisor\n"
          ]
        },
        {
          "output_type": "stream",
          "name": "stdout",
          "text": [
            "KeyError: 'sharesOutstanding'\n",
            "KeyError: 'totalDebt'\n"
          ]
        },
        {
          "output_type": "stream",
          "name": "stderr",
          "text": [
            "\r[*********************100%%**********************]  1 of 1 completed\n"
          ]
        },
        {
          "output_type": "stream",
          "name": "stdout",
          "text": [
            "KeyError: 'Net Income'\n",
            "KeyError: 'Stockholders Equity'\n"
          ]
        },
        {
          "output_type": "stream",
          "name": "stderr",
          "text": [
            "\r[*********************100%%**********************]  1 of 1 completed\n"
          ]
        },
        {
          "output_type": "stream",
          "name": "stdout",
          "text": [
            "KeyError: 'Net Income'\n",
            "KeyError: 'Stockholders Equity'\n"
          ]
        },
        {
          "output_type": "stream",
          "name": "stderr",
          "text": [
            "\r[*********************100%%**********************]  1 of 1 completed\n"
          ]
        },
        {
          "output_type": "stream",
          "name": "stdout",
          "text": [
            "KeyError: 'Net Income'\n",
            "KeyError: 'Stockholders Equity'\n"
          ]
        },
        {
          "output_type": "stream",
          "name": "stderr",
          "text": [
            "[*********************100%%**********************]  1 of 1 completed\n",
            "[*********************100%%**********************]  1 of 1 completed\n",
            "[*********************100%%**********************]  1 of 1 completed\n"
          ]
        },
        {
          "output_type": "stream",
          "name": "stdout",
          "text": [
            "KeyError: 'Net Income'\n",
            "KeyError: 'Stockholders Equity'\n"
          ]
        },
        {
          "output_type": "stream",
          "name": "stderr",
          "text": [
            "\r[*********************100%%**********************]  1 of 1 completed\n"
          ]
        },
        {
          "output_type": "stream",
          "name": "stdout",
          "text": [
            "KeyError: 'currentPrice'\n",
            "KeyError: 'Stockholders Equity'\n"
          ]
        },
        {
          "output_type": "stream",
          "name": "stderr",
          "text": [
            "\r[*********************100%%**********************]  1 of 1 completed\n"
          ]
        },
        {
          "output_type": "stream",
          "name": "stdout",
          "text": [
            "KeyError: 'Net Income'\n",
            "KeyError: 'Stockholders Equity'\n"
          ]
        },
        {
          "output_type": "stream",
          "name": "stderr",
          "text": [
            "\r[*********************100%%**********************]  1 of 1 completed\n"
          ]
        },
        {
          "output_type": "stream",
          "name": "stdout",
          "text": [
            "KeyError: 'Net Income'\n",
            "KeyError: 'Stockholders Equity'\n"
          ]
        },
        {
          "output_type": "stream",
          "name": "stderr",
          "text": [
            "\r[*********************100%%**********************]  1 of 1 completed\n"
          ]
        },
        {
          "output_type": "stream",
          "name": "stdout",
          "text": [
            "KeyError: 'Net Income'\n",
            "KeyError: 'Stockholders Equity'\n"
          ]
        },
        {
          "output_type": "stream",
          "name": "stderr",
          "text": [
            "\r[*********************100%%**********************]  1 of 1 completed\n"
          ]
        },
        {
          "output_type": "stream",
          "name": "stdout",
          "text": [
            "KeyError: 'Net Income'\n",
            "KeyError: 'Stockholders Equity'\n"
          ]
        },
        {
          "output_type": "stream",
          "name": "stderr",
          "text": [
            "\r[*********************100%%**********************]  1 of 1 completed\n"
          ]
        },
        {
          "output_type": "stream",
          "name": "stdout",
          "text": [
            "KeyError: 'Net Income'\n",
            "KeyError: 'Stockholders Equity'\n"
          ]
        },
        {
          "output_type": "stream",
          "name": "stderr",
          "text": [
            "[*********************100%%**********************]  1 of 1 completed\n",
            "[*********************100%%**********************]  1 of 1 completed\n",
            "[*********************100%%**********************]  1 of 1 completed\n"
          ]
        },
        {
          "output_type": "stream",
          "name": "stdout",
          "text": [
            "KeyError: 'Net Income'\n",
            "KeyError: 'Stockholders Equity'\n"
          ]
        },
        {
          "output_type": "stream",
          "name": "stderr",
          "text": [
            "[*********************100%%**********************]  1 of 1 completed\n",
            "[*********************100%%**********************]  1 of 1 completed\n"
          ]
        },
        {
          "output_type": "stream",
          "name": "stdout",
          "text": [
            "KeyError: 'totalDebt'\n"
          ]
        },
        {
          "output_type": "stream",
          "name": "stderr",
          "text": [
            "[*********************100%%**********************]  1 of 1 completed\n",
            "[*********************100%%**********************]  1 of 1 completed\n"
          ]
        },
        {
          "output_type": "stream",
          "name": "stdout",
          "text": [
            "KeyError: 'totalDebt'\n"
          ]
        },
        {
          "output_type": "stream",
          "name": "stderr",
          "text": [
            "\r[*********************100%%**********************]  1 of 1 completed\n"
          ]
        },
        {
          "output_type": "stream",
          "name": "stdout",
          "text": [
            "KeyError: 'Net Income'\n",
            "KeyError: 'Stockholders Equity'\n"
          ]
        },
        {
          "output_type": "stream",
          "name": "stderr",
          "text": [
            "[*********************100%%**********************]  1 of 1 completed\n",
            "[*********************100%%**********************]  1 of 1 completed\n",
            "[*********************100%%**********************]  1 of 1 completed\n"
          ]
        },
        {
          "output_type": "stream",
          "name": "stdout",
          "text": [
            "KeyError: 'Net Income'\n",
            "KeyError: 'Stockholders Equity'\n"
          ]
        },
        {
          "output_type": "stream",
          "name": "stderr",
          "text": [
            "\r[*********************100%%**********************]  1 of 1 completed\n"
          ]
        },
        {
          "output_type": "stream",
          "name": "stdout",
          "text": [
            "KeyError: 'Net Income'\n",
            "KeyError: 'Stockholders Equity'\n"
          ]
        },
        {
          "output_type": "stream",
          "name": "stderr",
          "text": [
            "\r[*********************100%%**********************]  1 of 1 completed\n",
            "/usr/local/lib/python3.10/dist-packages/quantstats/stats.py:294: RuntimeWarning: invalid value encountered in scalar divide\n",
            "  res = returns.mean() / divisor\n"
          ]
        },
        {
          "output_type": "stream",
          "name": "stdout",
          "text": [
            "KeyError: 'Net Income'\n",
            "KeyError: 'Stockholders Equity'\n"
          ]
        },
        {
          "output_type": "stream",
          "name": "stderr",
          "text": [
            "\r[*********************100%%**********************]  1 of 1 completed\n",
            "/usr/local/lib/python3.10/dist-packages/quantstats/stats.py:294: RuntimeWarning: invalid value encountered in scalar divide\n",
            "  res = returns.mean() / divisor\n",
            "[*********************100%%**********************]  1 of 1 completed\n",
            "[*********************100%%**********************]  1 of 1 completed\n",
            "[*********************100%%**********************]  1 of 1 completed\n",
            "/usr/local/lib/python3.10/dist-packages/quantstats/stats.py:294: RuntimeWarning: invalid value encountered in scalar divide\n",
            "  res = returns.mean() / divisor\n"
          ]
        },
        {
          "output_type": "stream",
          "name": "stdout",
          "text": [
            "KeyError: 'Net Income'\n",
            "KeyError: 'Stockholders Equity'\n"
          ]
        },
        {
          "output_type": "stream",
          "name": "stderr",
          "text": [
            "\r[*********************100%%**********************]  1 of 1 completed\n"
          ]
        },
        {
          "output_type": "stream",
          "name": "stdout",
          "text": [
            "KeyError: 'Net Income'\n",
            "KeyError: 'Stockholders Equity'\n"
          ]
        },
        {
          "output_type": "stream",
          "name": "stderr",
          "text": [
            "[*********************100%%**********************]  1 of 1 completed\n",
            "[*********************100%%**********************]  1 of 1 completed\n",
            "[*********************100%%**********************]  1 of 1 completed\n",
            "[*********************100%%**********************]  1 of 1 completed\n"
          ]
        },
        {
          "output_type": "stream",
          "name": "stdout",
          "text": [
            "KeyError: 'Net Income'\n",
            "KeyError: 'Stockholders Equity'\n"
          ]
        },
        {
          "output_type": "stream",
          "name": "stderr",
          "text": [
            "[*********************100%%**********************]  1 of 1 completed\n",
            "[*********************100%%**********************]  1 of 1 completed\n",
            "[*********************100%%**********************]  1 of 1 completed\n",
            "[*********************100%%**********************]  1 of 1 completed\n"
          ]
        },
        {
          "output_type": "stream",
          "name": "stdout",
          "text": [
            "KeyError: 'Net Income'\n",
            "KeyError: 'Stockholders Equity'\n"
          ]
        },
        {
          "output_type": "stream",
          "name": "stderr",
          "text": [
            "[*********************100%%**********************]  1 of 1 completed\n",
            "[*********************100%%**********************]  1 of 1 completed\n"
          ]
        },
        {
          "output_type": "stream",
          "name": "stdout",
          "text": [
            "KeyError: 'totalDebt'\n"
          ]
        },
        {
          "output_type": "stream",
          "name": "stderr",
          "text": [
            "[*********************100%%**********************]  1 of 1 completed\n",
            "[*********************100%%**********************]  1 of 1 completed\n",
            "[*********************100%%**********************]  1 of 1 completed\n"
          ]
        },
        {
          "output_type": "stream",
          "name": "stdout",
          "text": [
            "KeyError: 'Net Income'\n",
            "KeyError: 'Stockholders Equity'\n"
          ]
        },
        {
          "output_type": "stream",
          "name": "stderr",
          "text": [
            "[*********************100%%**********************]  1 of 1 completed\n",
            "[*********************100%%**********************]  1 of 1 completed\n",
            "[*********************100%%**********************]  1 of 1 completed\n",
            "[*********************100%%**********************]  1 of 1 completed\n",
            "[*********************100%%**********************]  1 of 1 completed\n",
            "[*********************100%%**********************]  1 of 1 completed\n"
          ]
        },
        {
          "output_type": "stream",
          "name": "stdout",
          "text": [
            "KeyError: 'Net Income'\n",
            "KeyError: 'Stockholders Equity'\n"
          ]
        },
        {
          "output_type": "stream",
          "name": "stderr",
          "text": [
            "[*********************100%%**********************]  1 of 1 completed\n",
            "[*********************100%%**********************]  1 of 1 completed\n",
            "[*********************100%%**********************]  1 of 1 completed\n",
            "[*********************100%%**********************]  1 of 1 completed\n"
          ]
        },
        {
          "output_type": "stream",
          "name": "stdout",
          "text": [
            "KeyError: 'Net Income'\n",
            "KeyError: 'Stockholders Equity'\n"
          ]
        },
        {
          "output_type": "stream",
          "name": "stderr",
          "text": [
            "[*********************100%%**********************]  1 of 1 completed\n",
            "[*********************100%%**********************]  1 of 1 completed\n"
          ]
        },
        {
          "output_type": "stream",
          "name": "stdout",
          "text": [
            "KeyError: 'currentPrice'\n",
            "KeyError: 'Stockholders Equity'\n"
          ]
        },
        {
          "output_type": "stream",
          "name": "stderr",
          "text": [
            "\r[*********************100%%**********************]  1 of 1 completed\n"
          ]
        },
        {
          "output_type": "stream",
          "name": "stdout",
          "text": [
            "KeyError: 'Net Income'\n",
            "KeyError: 'Stockholders Equity'\n"
          ]
        },
        {
          "output_type": "stream",
          "name": "stderr",
          "text": [
            "[*********************100%%**********************]  1 of 1 completed\n",
            "[*********************100%%**********************]  1 of 1 completed\n",
            "[*********************100%%**********************]  1 of 1 completed\n",
            "[*********************100%%**********************]  1 of 1 completed\n"
          ]
        },
        {
          "output_type": "stream",
          "name": "stdout",
          "text": [
            "KeyError: 'Net Income'\n",
            "KeyError: 'Stockholders Equity'\n"
          ]
        },
        {
          "output_type": "stream",
          "name": "stderr",
          "text": [
            "\r[*********************100%%**********************]  1 of 1 completed\n"
          ]
        },
        {
          "output_type": "stream",
          "name": "stdout",
          "text": [
            "KeyError: 'Net Income'\n",
            "KeyError: 'Stockholders Equity'\n"
          ]
        },
        {
          "output_type": "stream",
          "name": "stderr",
          "text": [
            "\r[*********************100%%**********************]  1 of 1 completed\n"
          ]
        },
        {
          "output_type": "stream",
          "name": "stdout",
          "text": [
            "KeyError: 'Net Income'\n",
            "KeyError: 'Stockholders Equity'\n"
          ]
        },
        {
          "output_type": "stream",
          "name": "stderr",
          "text": [
            "[*********************100%%**********************]  1 of 1 completed\n",
            "[*********************100%%**********************]  1 of 1 completed\n",
            "[*********************100%%**********************]  1 of 1 completed\n",
            "[*********************100%%**********************]  1 of 1 completed\n"
          ]
        },
        {
          "output_type": "stream",
          "name": "stdout",
          "text": [
            "KeyError: 'totalDebt'\n"
          ]
        },
        {
          "output_type": "stream",
          "name": "stderr",
          "text": [
            "[*********************100%%**********************]  1 of 1 completed\n",
            "[*********************100%%**********************]  1 of 1 completed\n",
            "[*********************100%%**********************]  1 of 1 completed\n"
          ]
        },
        {
          "output_type": "stream",
          "name": "stdout",
          "text": [
            "KeyError: 'Net Income'\n",
            "KeyError: 'Stockholders Equity'\n"
          ]
        },
        {
          "output_type": "stream",
          "name": "stderr",
          "text": [
            "\r[*********************100%%**********************]  1 of 1 completed\n"
          ]
        },
        {
          "output_type": "stream",
          "name": "stdout",
          "text": [
            "KeyError: 'currentPrice'\n",
            "KeyError: 'Stockholders Equity'\n"
          ]
        },
        {
          "output_type": "stream",
          "name": "stderr",
          "text": [
            "[*********************100%%**********************]  1 of 1 completed\n",
            "[*********************100%%**********************]  1 of 1 completed\n",
            "[*********************100%%**********************]  1 of 1 completed\n",
            "[*********************100%%**********************]  1 of 1 completed\n",
            "[*********************100%%**********************]  1 of 1 completed\n",
            "[*********************100%%**********************]  1 of 1 completed\n",
            "[*********************100%%**********************]  1 of 1 completed\n",
            "[*********************100%%**********************]  1 of 1 completed\n"
          ]
        },
        {
          "output_type": "stream",
          "name": "stdout",
          "text": [
            "KeyError: 'Net Income'\n",
            "KeyError: 'Stockholders Equity'\n"
          ]
        },
        {
          "output_type": "stream",
          "name": "stderr",
          "text": [
            "[*********************100%%**********************]  1 of 1 completed\n",
            "[*********************100%%**********************]  1 of 1 completed\n",
            "[*********************100%%**********************]  1 of 1 completed\n",
            "[*********************100%%**********************]  1 of 1 completed\n",
            "[*********************100%%**********************]  1 of 1 completed\n"
          ]
        },
        {
          "output_type": "stream",
          "name": "stdout",
          "text": [
            "KeyError: 'currentPrice'\n",
            "KeyError: 'Stockholders Equity'\n"
          ]
        },
        {
          "output_type": "stream",
          "name": "stderr",
          "text": [
            "[*********************100%%**********************]  1 of 1 completed\n",
            "[*********************100%%**********************]  1 of 1 completed\n"
          ]
        },
        {
          "output_type": "stream",
          "name": "stdout",
          "text": [
            "KeyError: 'Net Income'\n",
            "KeyError: 'Stockholders Equity'\n"
          ]
        },
        {
          "output_type": "stream",
          "name": "stderr",
          "text": [
            "[*********************100%%**********************]  1 of 1 completed\n",
            "[*********************100%%**********************]  1 of 1 completed\n",
            "[*********************100%%**********************]  1 of 1 completed\n"
          ]
        },
        {
          "output_type": "stream",
          "name": "stdout",
          "text": [
            "KeyError: 'Net Income'\n",
            "KeyError: 'Stockholders Equity'\n"
          ]
        },
        {
          "output_type": "stream",
          "name": "stderr",
          "text": [
            "[*********************100%%**********************]  1 of 1 completed\n",
            "[*********************100%%**********************]  1 of 1 completed\n"
          ]
        },
        {
          "output_type": "stream",
          "name": "stdout",
          "text": [
            "KeyError: 'totalDebt'\n"
          ]
        },
        {
          "output_type": "stream",
          "name": "stderr",
          "text": [
            "\r[*********************100%%**********************]  1 of 1 completed\n"
          ]
        },
        {
          "output_type": "stream",
          "name": "stdout",
          "text": [
            "KeyError: 'Net Income'\n",
            "KeyError: 'Stockholders Equity'\n"
          ]
        },
        {
          "output_type": "stream",
          "name": "stderr",
          "text": [
            "[*********************100%%**********************]  1 of 1 completed\n",
            "[*********************100%%**********************]  1 of 1 completed\n",
            "[*********************100%%**********************]  1 of 1 completed\n",
            "[*********************100%%**********************]  1 of 1 completed\n"
          ]
        },
        {
          "output_type": "stream",
          "name": "stdout",
          "text": [
            "KeyError: 'currentPrice'\n",
            "KeyError: 'totalDebt'\n"
          ]
        },
        {
          "output_type": "stream",
          "name": "stderr",
          "text": [
            "[*********************100%%**********************]  1 of 1 completed\n",
            "[*********************100%%**********************]  1 of 1 completed\n",
            "[*********************100%%**********************]  1 of 1 completed\n",
            "/usr/local/lib/python3.10/dist-packages/quantstats/stats.py:294: RuntimeWarning: invalid value encountered in scalar divide\n",
            "  res = returns.mean() / divisor\n",
            "[*********************100%%**********************]  1 of 1 completed\n",
            "[*********************100%%**********************]  1 of 1 completed\n",
            "[*********************100%%**********************]  1 of 1 completed\n",
            "[*********************100%%**********************]  1 of 1 completed\n",
            "/usr/local/lib/python3.10/dist-packages/quantstats/stats.py:294: RuntimeWarning: invalid value encountered in scalar divide\n",
            "  res = returns.mean() / divisor\n"
          ]
        },
        {
          "output_type": "stream",
          "name": "stdout",
          "text": [
            "KeyError: 'Net Income'\n",
            "KeyError: 'Stockholders Equity'\n"
          ]
        },
        {
          "output_type": "stream",
          "name": "stderr",
          "text": [
            "\r[*********************100%%**********************]  1 of 1 completed\n"
          ]
        },
        {
          "output_type": "stream",
          "name": "stdout",
          "text": [
            "KeyError: 'Net Income'\n",
            "KeyError: 'Stockholders Equity'\n"
          ]
        },
        {
          "output_type": "stream",
          "name": "stderr",
          "text": [
            "\r[*********************100%%**********************]  1 of 1 completed\n"
          ]
        },
        {
          "output_type": "stream",
          "name": "stdout",
          "text": [
            "KeyError: 'Net Income'\n",
            "KeyError: 'Stockholders Equity'\n"
          ]
        },
        {
          "output_type": "stream",
          "name": "stderr",
          "text": [
            "\r[*********************100%%**********************]  1 of 1 completed\n"
          ]
        },
        {
          "output_type": "stream",
          "name": "stdout",
          "text": [
            "KeyError: 'Net Income'\n",
            "KeyError: 'Stockholders Equity'\n"
          ]
        },
        {
          "output_type": "stream",
          "name": "stderr",
          "text": [
            "[*********************100%%**********************]  1 of 1 completed\n",
            "[*********************100%%**********************]  1 of 1 completed\n",
            "[*********************100%%**********************]  1 of 1 completed\n",
            "/usr/local/lib/python3.10/dist-packages/quantstats/stats.py:294: RuntimeWarning: invalid value encountered in scalar divide\n",
            "  res = returns.mean() / divisor\n"
          ]
        },
        {
          "output_type": "stream",
          "name": "stdout",
          "text": [
            "KeyError: 'Net Income'\n",
            "KeyError: 'Stockholders Equity'\n"
          ]
        },
        {
          "output_type": "stream",
          "name": "stderr",
          "text": [
            "[*********************100%%**********************]  1 of 1 completed\n",
            "[*********************100%%**********************]  1 of 1 completed\n"
          ]
        },
        {
          "output_type": "stream",
          "name": "stdout",
          "text": [
            "KeyError: 'Net Income'\n",
            "KeyError: 'Stockholders Equity'\n"
          ]
        },
        {
          "output_type": "stream",
          "name": "stderr",
          "text": [
            "\r[*********************100%%**********************]  1 of 1 completed\n"
          ]
        },
        {
          "output_type": "stream",
          "name": "stdout",
          "text": [
            "KeyError: 'totalDebt'\n"
          ]
        },
        {
          "output_type": "stream",
          "name": "stderr",
          "text": [
            "\r[*********************100%%**********************]  1 of 1 completed\n"
          ]
        },
        {
          "output_type": "stream",
          "name": "stdout",
          "text": [
            "KeyError: 'Net Income'\n",
            "KeyError: 'Stockholders Equity'\n"
          ]
        },
        {
          "output_type": "stream",
          "name": "stderr",
          "text": [
            "\r[*********************100%%**********************]  1 of 1 completed\n"
          ]
        },
        {
          "output_type": "stream",
          "name": "stdout",
          "text": [
            "KeyError: 'totalDebt'\n"
          ]
        },
        {
          "output_type": "stream",
          "name": "stderr",
          "text": [
            "\r[*********************100%%**********************]  1 of 1 completed\n"
          ]
        },
        {
          "output_type": "stream",
          "name": "stdout",
          "text": [
            "KeyError: 'Net Income'\n",
            "KeyError: 'Stockholders Equity'\n"
          ]
        },
        {
          "output_type": "stream",
          "name": "stderr",
          "text": [
            "[*********************100%%**********************]  1 of 1 completed\n",
            "[*********************100%%**********************]  1 of 1 completed\n"
          ]
        },
        {
          "output_type": "stream",
          "name": "stdout",
          "text": [
            "KeyError: 'Net Income'\n",
            "KeyError: 'Stockholders Equity'\n"
          ]
        },
        {
          "output_type": "stream",
          "name": "stderr",
          "text": [
            "[*********************100%%**********************]  1 of 1 completed\n",
            "[*********************100%%**********************]  1 of 1 completed\n",
            "[*********************100%%**********************]  1 of 1 completed\n",
            "[*********************100%%**********************]  1 of 1 completed\n"
          ]
        },
        {
          "output_type": "stream",
          "name": "stdout",
          "text": [
            "KeyError: 'Net Income'\n",
            "KeyError: 'Stockholders Equity'\n"
          ]
        },
        {
          "output_type": "stream",
          "name": "stderr",
          "text": [
            "[*********************100%%**********************]  1 of 1 completed\n",
            "[*********************100%%**********************]  1 of 1 completed\n",
            "[*********************100%%**********************]  1 of 1 completed\n"
          ]
        },
        {
          "output_type": "stream",
          "name": "stdout",
          "text": [
            "KeyError: 'Net Income'\n",
            "KeyError: 'Stockholders Equity'\n"
          ]
        },
        {
          "output_type": "stream",
          "name": "stderr",
          "text": [
            "\r[*********************100%%**********************]  1 of 1 completed\n",
            "/usr/local/lib/python3.10/dist-packages/quantstats/stats.py:294: RuntimeWarning: invalid value encountered in scalar divide\n",
            "  res = returns.mean() / divisor\n"
          ]
        },
        {
          "output_type": "stream",
          "name": "stdout",
          "text": [
            "KeyError: 'Net Income'\n",
            "KeyError: 'Stockholders Equity'\n"
          ]
        },
        {
          "output_type": "stream",
          "name": "stderr",
          "text": [
            "[*********************100%%**********************]  1 of 1 completed\n",
            "[*********************100%%**********************]  1 of 1 completed\n",
            "[*********************100%%**********************]  1 of 1 completed\n",
            "[*********************100%%**********************]  1 of 1 completed\n"
          ]
        },
        {
          "output_type": "stream",
          "name": "stdout",
          "text": [
            "KeyError: 'Net Income'\n",
            "KeyError: 'Stockholders Equity'\n"
          ]
        },
        {
          "output_type": "stream",
          "name": "stderr",
          "text": [
            "[*********************100%%**********************]  1 of 1 completed\n",
            "[*********************100%%**********************]  1 of 1 completed\n",
            "[*********************100%%**********************]  1 of 1 completed\n"
          ]
        },
        {
          "output_type": "stream",
          "name": "stdout",
          "text": [
            "KeyError: 'Net Income'\n",
            "KeyError: 'Stockholders Equity'\n"
          ]
        },
        {
          "output_type": "stream",
          "name": "stderr",
          "text": [
            "\r[*********************100%%**********************]  1 of 1 completed\n",
            "/usr/local/lib/python3.10/dist-packages/quantstats/stats.py:294: RuntimeWarning: invalid value encountered in scalar divide\n",
            "  res = returns.mean() / divisor\n"
          ]
        },
        {
          "output_type": "stream",
          "name": "stdout",
          "text": [
            "KeyError: 'Net Income'\n",
            "KeyError: 'Stockholders Equity'\n"
          ]
        },
        {
          "output_type": "stream",
          "name": "stderr",
          "text": [
            "\r[*********************100%%**********************]  1 of 1 completed\n"
          ]
        },
        {
          "output_type": "stream",
          "name": "stdout",
          "text": [
            "KeyError: 'Net Income'\n",
            "KeyError: 'Stockholders Equity'\n"
          ]
        },
        {
          "output_type": "stream",
          "name": "stderr",
          "text": [
            "\r[*********************100%%**********************]  1 of 1 completed\n"
          ]
        },
        {
          "output_type": "stream",
          "name": "stdout",
          "text": [
            "KeyError: 'Net Income'\n",
            "KeyError: 'Stockholders Equity'\n"
          ]
        },
        {
          "output_type": "stream",
          "name": "stderr",
          "text": [
            "\r[*********************100%%**********************]  1 of 1 completed\n"
          ]
        },
        {
          "output_type": "stream",
          "name": "stdout",
          "text": [
            "KeyError: 'Net Income'\n",
            "KeyError: 'Stockholders Equity'\n"
          ]
        },
        {
          "output_type": "stream",
          "name": "stderr",
          "text": [
            "\r[*********************100%%**********************]  1 of 1 completed\n"
          ]
        },
        {
          "output_type": "stream",
          "name": "stdout",
          "text": [
            "KeyError: 'Net Income'\n",
            "KeyError: 'Stockholders Equity'\n"
          ]
        },
        {
          "output_type": "stream",
          "name": "stderr",
          "text": [
            "\r[*********************100%%**********************]  1 of 1 completed\n"
          ]
        },
        {
          "output_type": "stream",
          "name": "stdout",
          "text": [
            "KeyError: 'Net Income'\n",
            "KeyError: 'Stockholders Equity'\n"
          ]
        },
        {
          "output_type": "stream",
          "name": "stderr",
          "text": [
            "\r[*********************100%%**********************]  1 of 1 completed\n"
          ]
        },
        {
          "output_type": "stream",
          "name": "stdout",
          "text": [
            "KeyError: 'Net Income'\n",
            "KeyError: 'Stockholders Equity'\n"
          ]
        },
        {
          "output_type": "stream",
          "name": "stderr",
          "text": [
            "\r[*********************100%%**********************]  1 of 1 completed\n"
          ]
        },
        {
          "output_type": "stream",
          "name": "stdout",
          "text": [
            "KeyError: 'Net Income'\n",
            "KeyError: 'Stockholders Equity'\n"
          ]
        },
        {
          "output_type": "stream",
          "name": "stderr",
          "text": [
            "[*********************100%%**********************]  1 of 1 completed\n",
            "[*********************100%%**********************]  1 of 1 completed\n",
            "[*********************100%%**********************]  1 of 1 completed\n"
          ]
        },
        {
          "output_type": "stream",
          "name": "stdout",
          "text": [
            "KeyError: 'Net Income'\n",
            "KeyError: 'Stockholders Equity'\n"
          ]
        },
        {
          "output_type": "stream",
          "name": "stderr",
          "text": [
            "\r[*********************100%%**********************]  1 of 1 completed\n"
          ]
        },
        {
          "output_type": "stream",
          "name": "stdout",
          "text": [
            "KeyError: 'Net Income'\n",
            "KeyError: 'Stockholders Equity'\n"
          ]
        },
        {
          "output_type": "stream",
          "name": "stderr",
          "text": [
            "\r[*********************100%%**********************]  1 of 1 completed\n"
          ]
        },
        {
          "output_type": "stream",
          "name": "stdout",
          "text": [
            "KeyError: 'Net Income'\n",
            "KeyError: 'Stockholders Equity'\n"
          ]
        },
        {
          "output_type": "stream",
          "name": "stderr",
          "text": [
            "[*********************100%%**********************]  1 of 1 completed\n",
            "[*********************100%%**********************]  1 of 1 completed\n",
            "[*********************100%%**********************]  1 of 1 completed\n"
          ]
        },
        {
          "output_type": "stream",
          "name": "stdout",
          "text": [
            "KeyError: 'Net Income'\n",
            "KeyError: 'Stockholders Equity'\n"
          ]
        },
        {
          "output_type": "stream",
          "name": "stderr",
          "text": [
            "[*********************100%%**********************]  1 of 1 completed\n",
            "[*********************100%%**********************]  1 of 1 completed\n"
          ]
        },
        {
          "output_type": "stream",
          "name": "stdout",
          "text": [
            "KeyError: 'Net Income'\n",
            "KeyError: 'Stockholders Equity'\n"
          ]
        },
        {
          "output_type": "stream",
          "name": "stderr",
          "text": [
            "[*********************100%%**********************]  1 of 1 completed\n",
            "[*********************100%%**********************]  1 of 1 completed\n",
            "[*********************100%%**********************]  1 of 1 completed\n",
            "[*********************100%%**********************]  1 of 1 completed\n",
            "[*********************100%%**********************]  1 of 1 completed\n",
            "[*********************100%%**********************]  1 of 1 completed\n"
          ]
        },
        {
          "output_type": "stream",
          "name": "stdout",
          "text": [
            "KeyError: 'Net Income'\n",
            "KeyError: 'Stockholders Equity'\n"
          ]
        },
        {
          "output_type": "stream",
          "name": "stderr",
          "text": [
            "\r[*********************100%%**********************]  1 of 1 completed\n"
          ]
        },
        {
          "output_type": "stream",
          "name": "stdout",
          "text": [
            "KeyError: 'Net Income'\n",
            "KeyError: 'Stockholders Equity'\n"
          ]
        },
        {
          "output_type": "stream",
          "name": "stderr",
          "text": [
            "\r[*********************100%%**********************]  1 of 1 completed\n"
          ]
        },
        {
          "output_type": "stream",
          "name": "stdout",
          "text": [
            "KeyError: 'totalDebt'\n"
          ]
        },
        {
          "output_type": "stream",
          "name": "stderr",
          "text": [
            "[*********************100%%**********************]  1 of 1 completed\n",
            "[*********************100%%**********************]  1 of 1 completed\n"
          ]
        },
        {
          "output_type": "stream",
          "name": "stdout",
          "text": [
            "KeyError: 'Net Income'\n",
            "KeyError: 'Stockholders Equity'\n"
          ]
        },
        {
          "output_type": "stream",
          "name": "stderr",
          "text": [
            "[*********************100%%**********************]  1 of 1 completed\n",
            "[*********************100%%**********************]  1 of 1 completed\n",
            "[*********************100%%**********************]  1 of 1 completed\n"
          ]
        },
        {
          "output_type": "stream",
          "name": "stdout",
          "text": [
            "KeyError: 'Net Income'\n",
            "KeyError: 'Stockholders Equity'\n"
          ]
        },
        {
          "output_type": "stream",
          "name": "stderr",
          "text": [
            "[*********************100%%**********************]  1 of 1 completed\n",
            "[*********************100%%**********************]  1 of 1 completed\n",
            "[*********************100%%**********************]  1 of 1 completed\n",
            "[*********************100%%**********************]  1 of 1 completed\n",
            "[*********************100%%**********************]  1 of 1 completed\n",
            "[*********************100%%**********************]  1 of 1 completed\n"
          ]
        },
        {
          "output_type": "stream",
          "name": "stdout",
          "text": [
            "KeyError: 'Net Income'\n",
            "KeyError: 'Stockholders Equity'\n"
          ]
        },
        {
          "output_type": "stream",
          "name": "stderr",
          "text": [
            "\r[*********************100%%**********************]  1 of 1 completed\n"
          ]
        },
        {
          "output_type": "stream",
          "name": "stdout",
          "text": [
            "KeyError: 'Net Income'\n",
            "KeyError: 'Stockholders Equity'\n"
          ]
        },
        {
          "output_type": "stream",
          "name": "stderr",
          "text": [
            "\r[*********************100%%**********************]  1 of 1 completed\n",
            "/usr/local/lib/python3.10/dist-packages/quantstats/stats.py:294: RuntimeWarning: invalid value encountered in scalar divide\n",
            "  res = returns.mean() / divisor\n"
          ]
        },
        {
          "output_type": "stream",
          "name": "stdout",
          "text": [
            "KeyError: 'Net Income'\n",
            "KeyError: 'Stockholders Equity'\n"
          ]
        },
        {
          "output_type": "stream",
          "name": "stderr",
          "text": [
            "[*********************100%%**********************]  1 of 1 completed\n",
            "[*********************100%%**********************]  1 of 1 completed\n",
            "[*********************100%%**********************]  1 of 1 completed\n"
          ]
        },
        {
          "output_type": "stream",
          "name": "stdout",
          "text": [
            "KeyError: 'Net Income'\n",
            "KeyError: 'Stockholders Equity'\n"
          ]
        },
        {
          "output_type": "stream",
          "name": "stderr",
          "text": [
            "[*********************100%%**********************]  1 of 1 completed\n",
            "[*********************100%%**********************]  1 of 1 completed\n",
            "[*********************100%%**********************]  1 of 1 completed\n"
          ]
        },
        {
          "output_type": "stream",
          "name": "stdout",
          "text": [
            "KeyError: 'Net Income'\n",
            "KeyError: 'Stockholders Equity'\n"
          ]
        },
        {
          "output_type": "stream",
          "name": "stderr",
          "text": [
            "[*********************100%%**********************]  1 of 1 completed\n",
            "[*********************100%%**********************]  1 of 1 completed\n",
            "[*********************100%%**********************]  1 of 1 completed\n"
          ]
        },
        {
          "output_type": "stream",
          "name": "stdout",
          "text": [
            "KeyError: 'Net Income'\n",
            "KeyError: 'Stockholders Equity'\n"
          ]
        },
        {
          "output_type": "stream",
          "name": "stderr",
          "text": [
            "\r[*********************100%%**********************]  1 of 1 completed\n"
          ]
        },
        {
          "output_type": "stream",
          "name": "stdout",
          "text": [
            "KeyError: 'totalDebt'\n"
          ]
        },
        {
          "output_type": "stream",
          "name": "stderr",
          "text": [
            "[*********************100%%**********************]  1 of 1 completed\n",
            "[*********************100%%**********************]  1 of 1 completed\n",
            "[*********************100%%**********************]  1 of 1 completed\n",
            "[*********************100%%**********************]  1 of 1 completed\n"
          ]
        },
        {
          "output_type": "stream",
          "name": "stdout",
          "text": [
            "KeyError: 'Net Income'\n",
            "KeyError: 'Stockholders Equity'\n"
          ]
        },
        {
          "output_type": "stream",
          "name": "stderr",
          "text": [
            "\r[*********************100%%**********************]  1 of 1 completed\n",
            "/usr/local/lib/python3.10/dist-packages/quantstats/stats.py:294: RuntimeWarning: invalid value encountered in scalar divide\n",
            "  res = returns.mean() / divisor\n"
          ]
        },
        {
          "output_type": "stream",
          "name": "stdout",
          "text": [
            "KeyError: 'sharesOutstanding'\n",
            "KeyError: 'totalDebt'\n"
          ]
        },
        {
          "output_type": "stream",
          "name": "stderr",
          "text": [
            "[*********************100%%**********************]  1 of 1 completed\n",
            "[*********************100%%**********************]  1 of 1 completed\n",
            "/usr/local/lib/python3.10/dist-packages/quantstats/stats.py:294: RuntimeWarning: invalid value encountered in scalar divide\n",
            "  res = returns.mean() / divisor\n",
            "[*********************100%%**********************]  1 of 1 completed\n",
            "[*********************100%%**********************]  1 of 1 completed\n"
          ]
        },
        {
          "output_type": "stream",
          "name": "stdout",
          "text": [
            "KeyError: 'Net Income'\n",
            "KeyError: 'Stockholders Equity'\n"
          ]
        },
        {
          "output_type": "stream",
          "name": "stderr",
          "text": [
            "[*********************100%%**********************]  1 of 1 completed\n",
            "[*********************100%%**********************]  1 of 1 completed\n"
          ]
        },
        {
          "output_type": "stream",
          "name": "stdout",
          "text": [
            "KeyError: 'Net Income'\n",
            "KeyError: 'Stockholders Equity'\n"
          ]
        },
        {
          "output_type": "stream",
          "name": "stderr",
          "text": [
            "[*********************100%%**********************]  1 of 1 completed\n",
            "[*********************100%%**********************]  1 of 1 completed\n"
          ]
        },
        {
          "output_type": "stream",
          "name": "stdout",
          "text": [
            "KeyError: 'Net Income'\n",
            "KeyError: 'Stockholders Equity'\n"
          ]
        },
        {
          "output_type": "stream",
          "name": "stderr",
          "text": [
            "[*********************100%%**********************]  1 of 1 completed\n",
            "[*********************100%%**********************]  1 of 1 completed\n",
            "[*********************100%%**********************]  1 of 1 completed\n"
          ]
        },
        {
          "output_type": "stream",
          "name": "stdout",
          "text": [
            "KeyError: 'totalDebt'\n"
          ]
        },
        {
          "output_type": "stream",
          "name": "stderr",
          "text": [
            "[*********************100%%**********************]  1 of 1 completed\n",
            "[*********************100%%**********************]  1 of 1 completed\n"
          ]
        },
        {
          "output_type": "stream",
          "name": "stdout",
          "text": [
            "KeyError: 'Net Income'\n",
            "KeyError: 'Stockholders Equity'\n"
          ]
        },
        {
          "output_type": "stream",
          "name": "stderr",
          "text": [
            "[*********************100%%**********************]  1 of 1 completed\n",
            "[*********************100%%**********************]  1 of 1 completed\n"
          ]
        },
        {
          "output_type": "stream",
          "name": "stdout",
          "text": [
            "KeyError: 'Net Income'\n",
            "KeyError: 'Stockholders Equity'\n"
          ]
        },
        {
          "output_type": "stream",
          "name": "stderr",
          "text": [
            "[*********************100%%**********************]  1 of 1 completed\n",
            "[*********************100%%**********************]  1 of 1 completed\n",
            "[*********************100%%**********************]  1 of 1 completed\n"
          ]
        },
        {
          "output_type": "stream",
          "name": "stdout",
          "text": [
            "KeyError: 'Net Income'\n",
            "KeyError: 'Stockholders Equity'\n"
          ]
        },
        {
          "output_type": "stream",
          "name": "stderr",
          "text": [
            "[*********************100%%**********************]  1 of 1 completed\n",
            "[*********************100%%**********************]  1 of 1 completed\n",
            "[*********************100%%**********************]  1 of 1 completed\n",
            "[*********************100%%**********************]  1 of 1 completed\n"
          ]
        },
        {
          "output_type": "stream",
          "name": "stdout",
          "text": [
            "KeyError: 'Net Income'\n",
            "KeyError: 'Stockholders Equity'\n"
          ]
        },
        {
          "output_type": "stream",
          "name": "stderr",
          "text": [
            "\r[*********************100%%**********************]  1 of 1 completed\n"
          ]
        },
        {
          "output_type": "stream",
          "name": "stdout",
          "text": [
            "KeyError: 'Net Income'\n",
            "KeyError: 'Stockholders Equity'\n"
          ]
        },
        {
          "output_type": "stream",
          "name": "stderr",
          "text": [
            "[*********************100%%**********************]  1 of 1 completed\n",
            "[*********************100%%**********************]  1 of 1 completed\n",
            "[*********************100%%**********************]  1 of 1 completed\n",
            "[*********************100%%**********************]  1 of 1 completed\n"
          ]
        },
        {
          "output_type": "stream",
          "name": "stdout",
          "text": [
            "KeyError: 'Net Income'\n",
            "KeyError: 'Stockholders Equity'\n"
          ]
        },
        {
          "output_type": "stream",
          "name": "stderr",
          "text": [
            "\r[*********************100%%**********************]  1 of 1 completed\n"
          ]
        },
        {
          "output_type": "stream",
          "name": "stdout",
          "text": [
            "KeyError: 'Net Income'\n",
            "KeyError: 'Stockholders Equity'\n"
          ]
        },
        {
          "output_type": "stream",
          "name": "stderr",
          "text": [
            "\r[*********************100%%**********************]  1 of 1 completed\n"
          ]
        },
        {
          "output_type": "stream",
          "name": "stdout",
          "text": [
            "KeyError: 'Net Income'\n",
            "KeyError: 'Stockholders Equity'\n"
          ]
        },
        {
          "output_type": "stream",
          "name": "stderr",
          "text": [
            "\r[*********************100%%**********************]  1 of 1 completed\n"
          ]
        },
        {
          "output_type": "stream",
          "name": "stdout",
          "text": [
            "KeyError: 'Net Income'\n",
            "KeyError: 'Stockholders Equity'\n"
          ]
        },
        {
          "output_type": "stream",
          "name": "stderr",
          "text": [
            "[*********************100%%**********************]  1 of 1 completed\n",
            "[*********************100%%**********************]  1 of 1 completed\n",
            "[*********************100%%**********************]  1 of 1 completed\n",
            "[*********************100%%**********************]  1 of 1 completed\n",
            "[*********************100%%**********************]  1 of 1 completed\n"
          ]
        },
        {
          "output_type": "stream",
          "name": "stdout",
          "text": [
            "KeyError: 'Net Income'\n",
            "KeyError: 'Stockholders Equity'\n"
          ]
        },
        {
          "output_type": "stream",
          "name": "stderr",
          "text": [
            "[*********************100%%**********************]  1 of 1 completed\n",
            "[*********************100%%**********************]  1 of 1 completed\n",
            "[*********************100%%**********************]  1 of 1 completed\n"
          ]
        },
        {
          "output_type": "stream",
          "name": "stdout",
          "text": [
            "KeyError: 'Net Income'\n",
            "KeyError: 'Stockholders Equity'\n"
          ]
        },
        {
          "output_type": "stream",
          "name": "stderr",
          "text": [
            "\r[*********************100%%**********************]  1 of 1 completed\n"
          ]
        },
        {
          "output_type": "stream",
          "name": "stdout",
          "text": [
            "KeyError: 'Net Income'\n",
            "KeyError: 'Stockholders Equity'\n"
          ]
        },
        {
          "output_type": "stream",
          "name": "stderr",
          "text": [
            "\r[*********************100%%**********************]  1 of 1 completed\n"
          ]
        },
        {
          "output_type": "stream",
          "name": "stdout",
          "text": [
            "KeyError: 'Net Income'\n",
            "KeyError: 'Stockholders Equity'\n"
          ]
        },
        {
          "output_type": "stream",
          "name": "stderr",
          "text": [
            "\r[*********************100%%**********************]  1 of 1 completed\n"
          ]
        },
        {
          "output_type": "stream",
          "name": "stdout",
          "text": [
            "KeyError: 'totalDebt'\n"
          ]
        },
        {
          "output_type": "stream",
          "name": "stderr",
          "text": [
            "\r[*********************100%%**********************]  1 of 1 completed\n"
          ]
        },
        {
          "output_type": "stream",
          "name": "stdout",
          "text": [
            "KeyError: 'Net Income'\n",
            "KeyError: 'Stockholders Equity'\n"
          ]
        },
        {
          "output_type": "stream",
          "name": "stderr",
          "text": [
            "\r[*********************100%%**********************]  1 of 1 completed\n"
          ]
        },
        {
          "output_type": "stream",
          "name": "stdout",
          "text": [
            "KeyError: 'Net Income'\n",
            "KeyError: 'Stockholders Equity'\n"
          ]
        },
        {
          "output_type": "stream",
          "name": "stderr",
          "text": [
            "\r[*********************100%%**********************]  1 of 1 completed\n"
          ]
        },
        {
          "output_type": "stream",
          "name": "stdout",
          "text": [
            "KeyError: 'Net Income'\n",
            "KeyError: 'Stockholders Equity'\n"
          ]
        },
        {
          "output_type": "stream",
          "name": "stderr",
          "text": [
            "\r[*********************100%%**********************]  1 of 1 completed\n"
          ]
        },
        {
          "output_type": "stream",
          "name": "stdout",
          "text": [
            "KeyError: 'currentPrice'\n",
            "KeyError: 'Stockholders Equity'\n"
          ]
        },
        {
          "output_type": "stream",
          "name": "stderr",
          "text": [
            "[*********************100%%**********************]  1 of 1 completed\n",
            "[*********************100%%**********************]  1 of 1 completed\n"
          ]
        },
        {
          "output_type": "stream",
          "name": "stdout",
          "text": [
            "KeyError: 'totalDebt'\n"
          ]
        },
        {
          "output_type": "stream",
          "name": "stderr",
          "text": [
            "\r[*********************100%%**********************]  1 of 1 completed\n",
            "/usr/local/lib/python3.10/dist-packages/quantstats/stats.py:294: RuntimeWarning: invalid value encountered in scalar divide\n",
            "  res = returns.mean() / divisor\n"
          ]
        },
        {
          "output_type": "stream",
          "name": "stdout",
          "text": [
            "KeyError: 'Net Income'\n",
            "KeyError: 'Stockholders Equity'\n"
          ]
        },
        {
          "output_type": "stream",
          "name": "stderr",
          "text": [
            "[*********************100%%**********************]  1 of 1 completed\n",
            "[*********************100%%**********************]  1 of 1 completed\n",
            "[*********************100%%**********************]  1 of 1 completed\n"
          ]
        },
        {
          "output_type": "stream",
          "name": "stdout",
          "text": [
            "KeyError: 'Net Income'\n",
            "KeyError: 'Stockholders Equity'\n"
          ]
        },
        {
          "output_type": "stream",
          "name": "stderr",
          "text": [
            "\r[*********************100%%**********************]  1 of 1 completed\n"
          ]
        },
        {
          "output_type": "stream",
          "name": "stdout",
          "text": [
            "KeyError: 'Net Income'\n",
            "KeyError: 'Stockholders Equity'\n"
          ]
        },
        {
          "output_type": "stream",
          "name": "stderr",
          "text": [
            "[*********************100%%**********************]  1 of 1 completed\n",
            "[*********************100%%**********************]  1 of 1 completed\n"
          ]
        },
        {
          "output_type": "stream",
          "name": "stdout",
          "text": [
            "KeyError: 'Net Income'\n",
            "KeyError: 'Stockholders Equity'\n"
          ]
        },
        {
          "output_type": "stream",
          "name": "stderr",
          "text": [
            "[*********************100%%**********************]  1 of 1 completed\n",
            "[*********************100%%**********************]  1 of 1 completed\n"
          ]
        },
        {
          "output_type": "stream",
          "name": "stdout",
          "text": [
            "KeyError: 'Net Income'\n",
            "KeyError: 'Stockholders Equity'\n"
          ]
        },
        {
          "output_type": "stream",
          "name": "stderr",
          "text": [
            "\r[*********************100%%**********************]  1 of 1 completed\n"
          ]
        },
        {
          "output_type": "stream",
          "name": "stdout",
          "text": [
            "KeyError: 'totalDebt'\n"
          ]
        },
        {
          "output_type": "stream",
          "name": "stderr",
          "text": [
            "[*********************100%%**********************]  1 of 1 completed\n",
            "[*********************100%%**********************]  1 of 1 completed\n"
          ]
        },
        {
          "output_type": "stream",
          "name": "stdout",
          "text": [
            "KeyError: 'Net Income'\n",
            "KeyError: 'Stockholders Equity'\n"
          ]
        },
        {
          "output_type": "stream",
          "name": "stderr",
          "text": [
            "[*********************100%%**********************]  1 of 1 completed\n",
            "[*********************100%%**********************]  1 of 1 completed\n",
            "[*********************100%%**********************]  1 of 1 completed\n",
            "[*********************100%%**********************]  1 of 1 completed\n",
            "[*********************100%%**********************]  1 of 1 completed\n"
          ]
        },
        {
          "output_type": "stream",
          "name": "stdout",
          "text": [
            "KeyError: 'Net Income'\n",
            "KeyError: 'Stockholders Equity'\n"
          ]
        },
        {
          "output_type": "stream",
          "name": "stderr",
          "text": [
            "\r[*********************100%%**********************]  1 of 1 completed\n"
          ]
        },
        {
          "output_type": "stream",
          "name": "stdout",
          "text": [
            "KeyError: 'Net Income'\n",
            "KeyError: 'Stockholders Equity'\n"
          ]
        },
        {
          "output_type": "stream",
          "name": "stderr",
          "text": [
            "\r[*********************100%%**********************]  1 of 1 completed\n"
          ]
        },
        {
          "output_type": "stream",
          "name": "stdout",
          "text": [
            "KeyError: 'Net Income'\n",
            "KeyError: 'Stockholders Equity'\n"
          ]
        },
        {
          "output_type": "stream",
          "name": "stderr",
          "text": [
            "\r[*********************100%%**********************]  1 of 1 completed\n"
          ]
        },
        {
          "output_type": "stream",
          "name": "stdout",
          "text": [
            "KeyError: 'Net Income'\n",
            "KeyError: 'Stockholders Equity'\n"
          ]
        },
        {
          "output_type": "stream",
          "name": "stderr",
          "text": [
            "\r[*********************100%%**********************]  1 of 1 completed\n"
          ]
        },
        {
          "output_type": "stream",
          "name": "stdout",
          "text": [
            "KeyError: 'totalDebt'\n"
          ]
        },
        {
          "output_type": "stream",
          "name": "stderr",
          "text": [
            "[*********************100%%**********************]  1 of 1 completed\n",
            "[*********************100%%**********************]  1 of 1 completed\n"
          ]
        },
        {
          "output_type": "stream",
          "name": "stdout",
          "text": [
            "KeyError: 'Net Income'\n",
            "KeyError: 'Stockholders Equity'\n"
          ]
        },
        {
          "output_type": "stream",
          "name": "stderr",
          "text": [
            "\r[*********************100%%**********************]  1 of 1 completed\n",
            "/usr/local/lib/python3.10/dist-packages/quantstats/stats.py:294: RuntimeWarning: invalid value encountered in scalar divide\n",
            "  res = returns.mean() / divisor\n"
          ]
        },
        {
          "output_type": "stream",
          "name": "stdout",
          "text": [
            "KeyError: 'currentPrice'\n",
            "KeyError: 'Stockholders Equity'\n"
          ]
        },
        {
          "output_type": "stream",
          "name": "stderr",
          "text": [
            "[*********************100%%**********************]  1 of 1 completed\n",
            "[*********************100%%**********************]  1 of 1 completed\n",
            "[*********************100%%**********************]  1 of 1 completed\n",
            "[*********************100%%**********************]  1 of 1 completed\n"
          ]
        },
        {
          "output_type": "stream",
          "name": "stdout",
          "text": [
            "KeyError: 'Net Income'\n",
            "KeyError: 'Stockholders Equity'\n"
          ]
        },
        {
          "output_type": "stream",
          "name": "stderr",
          "text": [
            "[*********************100%%**********************]  1 of 1 completed\n",
            "[*********************100%%**********************]  1 of 1 completed\n",
            "[*********************100%%**********************]  1 of 1 completed\n",
            "[*********************100%%**********************]  1 of 1 completed\n",
            "[*********************100%%**********************]  1 of 1 completed\n",
            "[*********************100%%**********************]  1 of 1 completed\n"
          ]
        },
        {
          "output_type": "stream",
          "name": "stdout",
          "text": [
            "KeyError: 'Net Income'\n",
            "KeyError: 'Stockholders Equity'\n"
          ]
        },
        {
          "output_type": "stream",
          "name": "stderr",
          "text": [
            "[*********************100%%**********************]  1 of 1 completed\n",
            "[*********************100%%**********************]  1 of 1 completed\n",
            "[*********************100%%**********************]  1 of 1 completed\n",
            "/usr/local/lib/python3.10/dist-packages/quantstats/stats.py:294: RuntimeWarning: invalid value encountered in scalar divide\n",
            "  res = returns.mean() / divisor\n"
          ]
        },
        {
          "output_type": "stream",
          "name": "stdout",
          "text": [
            "KeyError: 'Net Income'\n",
            "KeyError: 'Stockholders Equity'\n"
          ]
        },
        {
          "output_type": "stream",
          "name": "stderr",
          "text": [
            "[*********************100%%**********************]  1 of 1 completed\n",
            "[*********************100%%**********************]  1 of 1 completed\n"
          ]
        },
        {
          "output_type": "stream",
          "name": "stdout",
          "text": [
            "KeyError: 'Net Income'\n",
            "KeyError: 'Stockholders Equity'\n"
          ]
        },
        {
          "output_type": "stream",
          "name": "stderr",
          "text": [
            "[*********************100%%**********************]  1 of 1 completed\n",
            "[*********************100%%**********************]  1 of 1 completed\n",
            "[*********************100%%**********************]  1 of 1 completed\n",
            "[*********************100%%**********************]  1 of 1 completed\n",
            "[*********************100%%**********************]  1 of 1 completed\n",
            "/usr/local/lib/python3.10/dist-packages/quantstats/stats.py:294: RuntimeWarning: invalid value encountered in scalar divide\n",
            "  res = returns.mean() / divisor\n"
          ]
        },
        {
          "output_type": "stream",
          "name": "stdout",
          "text": [
            "KeyError: 'Net Income'\n",
            "KeyError: 'Stockholders Equity'\n"
          ]
        },
        {
          "output_type": "stream",
          "name": "stderr",
          "text": [
            "[*********************100%%**********************]  1 of 1 completed\n",
            "[*********************100%%**********************]  1 of 1 completed\n",
            "[*********************100%%**********************]  1 of 1 completed\n",
            "[*********************100%%**********************]  1 of 1 completed\n",
            "[*********************100%%**********************]  1 of 1 completed\n",
            "[*********************100%%**********************]  1 of 1 completed\n",
            "[*********************100%%**********************]  1 of 1 completed\n"
          ]
        },
        {
          "output_type": "stream",
          "name": "stdout",
          "text": [
            "KeyError: 'currentPrice'\n",
            "KeyError: 'Stockholders Equity'\n"
          ]
        },
        {
          "output_type": "stream",
          "name": "stderr",
          "text": [
            "[*********************100%%**********************]  1 of 1 completed\n",
            "[*********************100%%**********************]  1 of 1 completed\n"
          ]
        },
        {
          "output_type": "stream",
          "name": "stdout",
          "text": [
            "KeyError: 'Net Income'\n",
            "KeyError: 'Stockholders Equity'\n"
          ]
        },
        {
          "output_type": "stream",
          "name": "stderr",
          "text": [
            "\r[*********************100%%**********************]  1 of 1 completed\n"
          ]
        },
        {
          "output_type": "stream",
          "name": "stdout",
          "text": [
            "KeyError: 'Net Income'\n",
            "KeyError: 'Stockholders Equity'\n"
          ]
        },
        {
          "output_type": "stream",
          "name": "stderr",
          "text": [
            "\r[*********************100%%**********************]  1 of 1 completed\n"
          ]
        },
        {
          "output_type": "stream",
          "name": "stdout",
          "text": [
            "KeyError: 'Net Income'\n",
            "KeyError: 'Stockholders Equity'\n"
          ]
        },
        {
          "output_type": "stream",
          "name": "stderr",
          "text": [
            "\r[*********************100%%**********************]  1 of 1 completed\n"
          ]
        },
        {
          "output_type": "stream",
          "name": "stdout",
          "text": [
            "KeyError: 'Net Income'\n",
            "KeyError: 'Stockholders Equity'\n"
          ]
        },
        {
          "output_type": "stream",
          "name": "stderr",
          "text": [
            "[*********************100%%**********************]  1 of 1 completed\n",
            "[*********************100%%**********************]  1 of 1 completed\n"
          ]
        },
        {
          "output_type": "stream",
          "name": "stdout",
          "text": [
            "KeyError: 'totalDebt'\n"
          ]
        },
        {
          "output_type": "stream",
          "name": "stderr",
          "text": [
            "[*********************100%%**********************]  1 of 1 completed\n",
            "[*********************100%%**********************]  1 of 1 completed\n",
            "/usr/local/lib/python3.10/dist-packages/quantstats/stats.py:294: RuntimeWarning: invalid value encountered in scalar divide\n",
            "  res = returns.mean() / divisor\n"
          ]
        },
        {
          "output_type": "stream",
          "name": "stdout",
          "text": [
            "KeyError: 'sharesOutstanding'\n",
            "KeyError: 'totalDebt'\n"
          ]
        },
        {
          "output_type": "stream",
          "name": "stderr",
          "text": [
            "[*********************100%%**********************]  1 of 1 completed\n",
            "[*********************100%%**********************]  1 of 1 completed\n"
          ]
        },
        {
          "output_type": "stream",
          "name": "stdout",
          "text": [
            "KeyError: 'Net Income'\n",
            "KeyError: 'Stockholders Equity'\n"
          ]
        },
        {
          "output_type": "stream",
          "name": "stderr",
          "text": [
            "[*********************100%%**********************]  1 of 1 completed\n",
            "[*********************100%%**********************]  1 of 1 completed\n"
          ]
        },
        {
          "output_type": "stream",
          "name": "stdout",
          "text": [
            "KeyError: 'Net Income'\n",
            "KeyError: 'Stockholders Equity'\n"
          ]
        },
        {
          "output_type": "stream",
          "name": "stderr",
          "text": [
            "[*********************100%%**********************]  1 of 1 completed\n",
            "[*********************100%%**********************]  1 of 1 completed\n",
            "[*********************100%%**********************]  1 of 1 completed\n"
          ]
        },
        {
          "output_type": "stream",
          "name": "stdout",
          "text": [
            "KeyError: 'Net Income'\n",
            "KeyError: 'Stockholders Equity'\n"
          ]
        },
        {
          "output_type": "stream",
          "name": "stderr",
          "text": [
            "\r[*********************100%%**********************]  1 of 1 completed\n"
          ]
        },
        {
          "output_type": "stream",
          "name": "stdout",
          "text": [
            "KeyError: 'Net Income'\n",
            "KeyError: 'Stockholders Equity'\n"
          ]
        },
        {
          "output_type": "stream",
          "name": "stderr",
          "text": [
            "\r[*********************100%%**********************]  1 of 1 completed\n"
          ]
        },
        {
          "output_type": "stream",
          "name": "stdout",
          "text": [
            "KeyError: 'Net Income'\n",
            "KeyError: 'Stockholders Equity'\n"
          ]
        },
        {
          "output_type": "stream",
          "name": "stderr",
          "text": [
            "[*********************100%%**********************]  1 of 1 completed\n",
            "[*********************100%%**********************]  1 of 1 completed\n",
            "[*********************100%%**********************]  1 of 1 completed\n",
            "[*********************100%%**********************]  1 of 1 completed\n",
            "[*********************100%%**********************]  1 of 1 completed\n",
            "[*********************100%%**********************]  1 of 1 completed\n",
            "[*********************100%%**********************]  1 of 1 completed\n",
            "[*********************100%%**********************]  1 of 1 completed\n",
            "[*********************100%%**********************]  1 of 1 completed\n",
            "[*********************100%%**********************]  1 of 1 completed\n"
          ]
        },
        {
          "output_type": "stream",
          "name": "stdout",
          "text": [
            "KeyError: 'currentPrice'\n",
            "KeyError: 'Stockholders Equity'\n"
          ]
        },
        {
          "output_type": "stream",
          "name": "stderr",
          "text": [
            "[*********************100%%**********************]  1 of 1 completed\n",
            "[*********************100%%**********************]  1 of 1 completed\n",
            "[*********************100%%**********************]  1 of 1 completed\n",
            "[*********************100%%**********************]  1 of 1 completed\n",
            "[*********************100%%**********************]  1 of 1 completed\n",
            "/usr/local/lib/python3.10/dist-packages/quantstats/stats.py:294: RuntimeWarning: invalid value encountered in scalar divide\n",
            "  res = returns.mean() / divisor\n"
          ]
        },
        {
          "output_type": "stream",
          "name": "stdout",
          "text": [
            "KeyError: 'Net Income'\n",
            "KeyError: 'Stockholders Equity'\n"
          ]
        },
        {
          "output_type": "stream",
          "name": "stderr",
          "text": [
            "[*********************100%%**********************]  1 of 1 completed\n",
            "[*********************100%%**********************]  1 of 1 completed\n"
          ]
        },
        {
          "output_type": "stream",
          "name": "stdout",
          "text": [
            "KeyError: 'Net Income'\n",
            "KeyError: 'Stockholders Equity'\n"
          ]
        },
        {
          "output_type": "stream",
          "name": "stderr",
          "text": [
            "[*********************100%%**********************]  1 of 1 completed\n",
            "[*********************100%%**********************]  1 of 1 completed\n",
            "[*********************100%%**********************]  1 of 1 completed\n"
          ]
        },
        {
          "output_type": "stream",
          "name": "stdout",
          "text": [
            "KeyError: 'currentPrice'\n",
            "KeyError: 'totalDebt'\n"
          ]
        },
        {
          "output_type": "stream",
          "name": "stderr",
          "text": [
            "\r[*********************100%%**********************]  1 of 1 completed\n"
          ]
        },
        {
          "output_type": "stream",
          "name": "stdout",
          "text": [
            "KeyError: 'Net Income'\n",
            "KeyError: 'Stockholders Equity'\n"
          ]
        },
        {
          "output_type": "stream",
          "name": "stderr",
          "text": [
            "\r[*********************100%%**********************]  1 of 1 completed\n"
          ]
        },
        {
          "output_type": "stream",
          "name": "stdout",
          "text": [
            "KeyError: 'Net Income'\n",
            "KeyError: 'Stockholders Equity'\n"
          ]
        },
        {
          "output_type": "stream",
          "name": "stderr",
          "text": [
            "\r[*********************100%%**********************]  1 of 1 completed\n"
          ]
        },
        {
          "output_type": "stream",
          "name": "stdout",
          "text": [
            "KeyError: 'Net Income'\n",
            "KeyError: 'Stockholders Equity'\n"
          ]
        },
        {
          "output_type": "stream",
          "name": "stderr",
          "text": [
            "\r[*********************100%%**********************]  1 of 1 completed\n"
          ]
        },
        {
          "output_type": "stream",
          "name": "stdout",
          "text": [
            "KeyError: 'Net Income'\n",
            "KeyError: 'Stockholders Equity'\n"
          ]
        },
        {
          "output_type": "stream",
          "name": "stderr",
          "text": [
            "[*********************100%%**********************]  1 of 1 completed\n",
            "[*********************100%%**********************]  1 of 1 completed\n",
            "[*********************100%%**********************]  1 of 1 completed\n"
          ]
        },
        {
          "output_type": "stream",
          "name": "stdout",
          "text": [
            "KeyError: 'totalDebt'\n"
          ]
        },
        {
          "output_type": "stream",
          "name": "stderr",
          "text": [
            "\r[*********************100%%**********************]  1 of 1 completed\n",
            "/usr/local/lib/python3.10/dist-packages/quantstats/stats.py:294: RuntimeWarning: invalid value encountered in scalar divide\n",
            "  res = returns.mean() / divisor\n"
          ]
        },
        {
          "output_type": "stream",
          "name": "stdout",
          "text": [
            "KeyError: 'totalDebt'\n"
          ]
        },
        {
          "output_type": "stream",
          "name": "stderr",
          "text": [
            "\r[*********************100%%**********************]  1 of 1 completed\n"
          ]
        },
        {
          "output_type": "stream",
          "name": "stdout",
          "text": [
            "KeyError: 'Net Income'\n",
            "KeyError: 'Stockholders Equity'\n"
          ]
        },
        {
          "output_type": "stream",
          "name": "stderr",
          "text": [
            "[*********************100%%**********************]  1 of 1 completed\n",
            "[*********************100%%**********************]  1 of 1 completed\n",
            "[*********************100%%**********************]  1 of 1 completed\n"
          ]
        },
        {
          "output_type": "stream",
          "name": "stdout",
          "text": [
            "KeyError: 'Net Income'\n",
            "KeyError: 'Stockholders Equity'\n"
          ]
        },
        {
          "output_type": "stream",
          "name": "stderr",
          "text": [
            "[*********************100%%**********************]  1 of 1 completed\n",
            "[*********************100%%**********************]  1 of 1 completed\n",
            "[*********************100%%**********************]  1 of 1 completed\n",
            "[*********************100%%**********************]  1 of 1 completed\n",
            "[*********************100%%**********************]  1 of 1 completed\n"
          ]
        },
        {
          "output_type": "stream",
          "name": "stdout",
          "text": [
            "KeyError: 'totalDebt'\n"
          ]
        },
        {
          "output_type": "stream",
          "name": "stderr",
          "text": [
            "[*********************100%%**********************]  1 of 1 completed\n",
            "[*********************100%%**********************]  1 of 1 completed\n",
            "[*********************100%%**********************]  1 of 1 completed\n",
            "[*********************100%%**********************]  1 of 1 completed\n",
            "[*********************100%%**********************]  1 of 1 completed\n",
            "[*********************100%%**********************]  1 of 1 completed\n"
          ]
        },
        {
          "output_type": "stream",
          "name": "stdout",
          "text": [
            "KeyError: 'Net Income'\n",
            "KeyError: 'Stockholders Equity'\n"
          ]
        },
        {
          "output_type": "stream",
          "name": "stderr",
          "text": [
            "[*********************100%%**********************]  1 of 1 completed\n",
            "[*********************100%%**********************]  1 of 1 completed\n",
            "[*********************100%%**********************]  1 of 1 completed\n"
          ]
        },
        {
          "output_type": "stream",
          "name": "stdout",
          "text": [
            "KeyError: 'Net Income'\n",
            "KeyError: 'Stockholders Equity'\n"
          ]
        },
        {
          "output_type": "stream",
          "name": "stderr",
          "text": [
            "[*********************100%%**********************]  1 of 1 completed\n",
            "[*********************100%%**********************]  1 of 1 completed\n",
            "[*********************100%%**********************]  1 of 1 completed\n",
            "[*********************100%%**********************]  1 of 1 completed\n",
            "[*********************100%%**********************]  1 of 1 completed\n",
            "[*********************100%%**********************]  1 of 1 completed\n"
          ]
        },
        {
          "output_type": "stream",
          "name": "stdout",
          "text": [
            "KeyError: 'Net Income'\n",
            "KeyError: 'Stockholders Equity'\n"
          ]
        },
        {
          "output_type": "stream",
          "name": "stderr",
          "text": [
            "\r[*********************100%%**********************]  1 of 1 completed\n"
          ]
        },
        {
          "output_type": "stream",
          "name": "stdout",
          "text": [
            "KeyError: 'Net Income'\n",
            "KeyError: 'Stockholders Equity'\n"
          ]
        },
        {
          "output_type": "stream",
          "name": "stderr",
          "text": [
            "[*********************100%%**********************]  1 of 1 completed\n",
            "[*********************100%%**********************]  1 of 1 completed\n"
          ]
        },
        {
          "output_type": "stream",
          "name": "stdout",
          "text": [
            "KeyError: 'Net Income'\n",
            "KeyError: 'Stockholders Equity'\n"
          ]
        },
        {
          "output_type": "stream",
          "name": "stderr",
          "text": [
            "[*********************100%%**********************]  1 of 1 completed\n",
            "[*********************100%%**********************]  1 of 1 completed\n"
          ]
        },
        {
          "output_type": "stream",
          "name": "stdout",
          "text": [
            "KeyError: 'currentPrice'\n",
            "KeyError: 'Stockholders Equity'\n"
          ]
        },
        {
          "output_type": "stream",
          "name": "stderr",
          "text": [
            "[*********************100%%**********************]  1 of 1 completed\n",
            "[*********************100%%**********************]  1 of 1 completed\n",
            "[*********************100%%**********************]  1 of 1 completed\n",
            "[*********************100%%**********************]  1 of 1 completed\n"
          ]
        },
        {
          "output_type": "stream",
          "name": "stdout",
          "text": [
            "KeyError: 'Net Income'\n",
            "KeyError: 'Stockholders Equity'\n"
          ]
        },
        {
          "output_type": "stream",
          "name": "stderr",
          "text": [
            "[*********************100%%**********************]  1 of 1 completed\n",
            "[*********************100%%**********************]  1 of 1 completed\n",
            "[*********************100%%**********************]  1 of 1 completed\n",
            "/usr/local/lib/python3.10/dist-packages/quantstats/stats.py:294: RuntimeWarning: invalid value encountered in scalar divide\n",
            "  res = returns.mean() / divisor\n"
          ]
        },
        {
          "output_type": "stream",
          "name": "stdout",
          "text": [
            "KeyError: 'sharesOutstanding'\n",
            "KeyError: 'totalDebt'\n"
          ]
        },
        {
          "output_type": "stream",
          "name": "stderr",
          "text": [
            "[*********************100%%**********************]  1 of 1 completed\n",
            "[*********************100%%**********************]  1 of 1 completed\n",
            "/usr/local/lib/python3.10/dist-packages/quantstats/stats.py:294: RuntimeWarning: invalid value encountered in scalar divide\n",
            "  res = returns.mean() / divisor\n"
          ]
        },
        {
          "output_type": "stream",
          "name": "stdout",
          "text": [
            "KeyError: 'sharesOutstanding'\n",
            "KeyError: 'totalDebt'\n"
          ]
        },
        {
          "output_type": "stream",
          "name": "stderr",
          "text": [
            "[*********************100%%**********************]  1 of 1 completed\n",
            "[*********************100%%**********************]  1 of 1 completed\n",
            "[*********************100%%**********************]  1 of 1 completed\n",
            "/usr/local/lib/python3.10/dist-packages/quantstats/stats.py:294: RuntimeWarning: invalid value encountered in scalar divide\n",
            "  res = returns.mean() / divisor\n"
          ]
        },
        {
          "output_type": "stream",
          "name": "stdout",
          "text": [
            "KeyError: 'sharesOutstanding'\n",
            "KeyError: 'totalDebt'\n"
          ]
        },
        {
          "output_type": "stream",
          "name": "stderr",
          "text": [
            "\r[*********************100%%**********************]  1 of 1 completed\n"
          ]
        },
        {
          "output_type": "stream",
          "name": "stdout",
          "text": [
            "KeyError: 'Net Income'\n",
            "KeyError: 'Stockholders Equity'\n"
          ]
        },
        {
          "output_type": "stream",
          "name": "stderr",
          "text": [
            "\r[*********************100%%**********************]  1 of 1 completed\n"
          ]
        },
        {
          "output_type": "stream",
          "name": "stdout",
          "text": [
            "KeyError: 'Net Income'\n",
            "KeyError: 'Stockholders Equity'\n"
          ]
        },
        {
          "output_type": "stream",
          "name": "stderr",
          "text": [
            "\r[*********************100%%**********************]  1 of 1 completed\n"
          ]
        },
        {
          "output_type": "stream",
          "name": "stdout",
          "text": [
            "KeyError: 'Net Income'\n",
            "KeyError: 'Stockholders Equity'\n"
          ]
        },
        {
          "output_type": "stream",
          "name": "stderr",
          "text": [
            "[*********************100%%**********************]  1 of 1 completed\n",
            "[*********************100%%**********************]  1 of 1 completed\n"
          ]
        },
        {
          "output_type": "stream",
          "name": "stdout",
          "text": [
            "KeyError: 'Net Income'\n",
            "KeyError: 'Stockholders Equity'\n"
          ]
        },
        {
          "output_type": "stream",
          "name": "stderr",
          "text": [
            "\r[*********************100%%**********************]  1 of 1 completed\n"
          ]
        },
        {
          "output_type": "stream",
          "name": "stdout",
          "text": [
            "KeyError: 'Net Income'\n",
            "KeyError: 'Stockholders Equity'\n"
          ]
        },
        {
          "output_type": "stream",
          "name": "stderr",
          "text": [
            "\r[*********************100%%**********************]  1 of 1 completed\n"
          ]
        },
        {
          "output_type": "stream",
          "name": "stdout",
          "text": [
            "KeyError: 'Net Income'\n",
            "KeyError: 'Stockholders Equity'\n"
          ]
        },
        {
          "output_type": "stream",
          "name": "stderr",
          "text": [
            "[*********************100%%**********************]  1 of 1 completed\n",
            "[*********************100%%**********************]  1 of 1 completed\n",
            "[*********************100%%**********************]  1 of 1 completed\n"
          ]
        },
        {
          "output_type": "stream",
          "name": "stdout",
          "text": [
            "KeyError: 'Net Income'\n",
            "KeyError: 'Stockholders Equity'\n"
          ]
        },
        {
          "output_type": "stream",
          "name": "stderr",
          "text": [
            "\r[*********************100%%**********************]  1 of 1 completed\n"
          ]
        },
        {
          "output_type": "stream",
          "name": "stdout",
          "text": [
            "KeyError: 'Net Income'\n",
            "KeyError: 'Stockholders Equity'\n"
          ]
        },
        {
          "output_type": "stream",
          "name": "stderr",
          "text": [
            "[*********************100%%**********************]  1 of 1 completed\n",
            "[*********************100%%**********************]  1 of 1 completed\n"
          ]
        },
        {
          "output_type": "stream",
          "name": "stdout",
          "text": [
            "KeyError: 'currentPrice'\n",
            "KeyError: 'Stockholders Equity'\n"
          ]
        },
        {
          "output_type": "stream",
          "name": "stderr",
          "text": [
            "\r[*********************100%%**********************]  1 of 1 completed\n"
          ]
        },
        {
          "output_type": "stream",
          "name": "stdout",
          "text": [
            "KeyError: 'Net Income'\n",
            "KeyError: 'Stockholders Equity'\n"
          ]
        },
        {
          "output_type": "stream",
          "name": "stderr",
          "text": [
            "[*********************100%%**********************]  1 of 1 completed\n",
            "[*********************100%%**********************]  1 of 1 completed\n",
            "[*********************100%%**********************]  1 of 1 completed\n"
          ]
        },
        {
          "output_type": "stream",
          "name": "stdout",
          "text": [
            "KeyError: 'Net Income'\n",
            "KeyError: 'Stockholders Equity'\n"
          ]
        },
        {
          "output_type": "stream",
          "name": "stderr",
          "text": [
            "\r[*********************100%%**********************]  1 of 1 completed\n"
          ]
        },
        {
          "output_type": "stream",
          "name": "stdout",
          "text": [
            "KeyError: 'Net Income'\n",
            "KeyError: 'Stockholders Equity'\n"
          ]
        },
        {
          "output_type": "stream",
          "name": "stderr",
          "text": [
            "[*********************100%%**********************]  1 of 1 completed\n",
            "[*********************100%%**********************]  1 of 1 completed\n"
          ]
        },
        {
          "output_type": "stream",
          "name": "stdout",
          "text": [
            "KeyError: 'currentPrice'\n",
            "KeyError: 'totalDebt'\n"
          ]
        },
        {
          "output_type": "stream",
          "name": "stderr",
          "text": [
            "[*********************100%%**********************]  1 of 1 completed\n",
            "[*********************100%%**********************]  1 of 1 completed\n",
            "[*********************100%%**********************]  1 of 1 completed\n",
            "[*********************100%%**********************]  1 of 1 completed\n"
          ]
        },
        {
          "output_type": "stream",
          "name": "stdout",
          "text": [
            "KeyError: 'Net Income'\n",
            "KeyError: 'Stockholders Equity'\n"
          ]
        },
        {
          "output_type": "stream",
          "name": "stderr",
          "text": [
            "\r[*********************100%%**********************]  1 of 1 completed\n"
          ]
        },
        {
          "output_type": "stream",
          "name": "stdout",
          "text": [
            "KeyError: 'Net Income'\n",
            "KeyError: 'Stockholders Equity'\n"
          ]
        },
        {
          "output_type": "stream",
          "name": "stderr",
          "text": [
            "[*********************100%%**********************]  1 of 1 completed\n",
            "[*********************100%%**********************]  1 of 1 completed\n",
            "[*********************100%%**********************]  1 of 1 completed\n"
          ]
        },
        {
          "output_type": "stream",
          "name": "stdout",
          "text": [
            "KeyError: 'Net Income'\n",
            "KeyError: 'Stockholders Equity'\n"
          ]
        },
        {
          "output_type": "stream",
          "name": "stderr",
          "text": [
            "\r[*********************100%%**********************]  1 of 1 completed\n"
          ]
        },
        {
          "output_type": "stream",
          "name": "stdout",
          "text": [
            "KeyError: 'currentPrice'\n",
            "KeyError: 'Stockholders Equity'\n"
          ]
        },
        {
          "output_type": "stream",
          "name": "stderr",
          "text": [
            "[*********************100%%**********************]  1 of 1 completed\n",
            "[*********************100%%**********************]  1 of 1 completed\n",
            "[*********************100%%**********************]  1 of 1 completed\n"
          ]
        },
        {
          "output_type": "stream",
          "name": "stdout",
          "text": [
            "KeyError: 'Net Income'\n",
            "KeyError: 'Stockholders Equity'\n"
          ]
        },
        {
          "output_type": "stream",
          "name": "stderr",
          "text": [
            "\r[*********************100%%**********************]  1 of 1 completed\n"
          ]
        },
        {
          "output_type": "stream",
          "name": "stdout",
          "text": [
            "KeyError: 'Net Income'\n",
            "KeyError: 'Stockholders Equity'\n"
          ]
        },
        {
          "output_type": "stream",
          "name": "stderr",
          "text": [
            "[*********************100%%**********************]  1 of 1 completed\n",
            "[*********************100%%**********************]  1 of 1 completed\n"
          ]
        },
        {
          "output_type": "stream",
          "name": "stdout",
          "text": [
            "KeyError: 'Net Income'\n",
            "KeyError: 'Stockholders Equity'\n"
          ]
        },
        {
          "output_type": "stream",
          "name": "stderr",
          "text": [
            "[*********************100%%**********************]  1 of 1 completed\n",
            "[*********************100%%**********************]  1 of 1 completed\n",
            "[*********************100%%**********************]  1 of 1 completed\n"
          ]
        },
        {
          "output_type": "stream",
          "name": "stdout",
          "text": [
            "KeyError: 'Net Income'\n",
            "KeyError: 'Stockholders Equity'\n"
          ]
        },
        {
          "output_type": "stream",
          "name": "stderr",
          "text": [
            "\r[*********************100%%**********************]  1 of 1 completed\n"
          ]
        },
        {
          "output_type": "stream",
          "name": "stdout",
          "text": [
            "KeyError: 'Net Income'\n",
            "KeyError: 'Stockholders Equity'\n"
          ]
        },
        {
          "output_type": "stream",
          "name": "stderr",
          "text": [
            "\r[*********************100%%**********************]  1 of 1 completed\n"
          ]
        },
        {
          "output_type": "stream",
          "name": "stdout",
          "text": [
            "KeyError: 'Net Income'\n",
            "KeyError: 'Stockholders Equity'\n"
          ]
        },
        {
          "output_type": "stream",
          "name": "stderr",
          "text": [
            "\r[*********************100%%**********************]  1 of 1 completed\n"
          ]
        },
        {
          "output_type": "stream",
          "name": "stdout",
          "text": [
            "KeyError: 'Net Income'\n",
            "KeyError: 'Stockholders Equity'\n"
          ]
        },
        {
          "output_type": "stream",
          "name": "stderr",
          "text": [
            "[*********************100%%**********************]  1 of 1 completed\n",
            "[*********************100%%**********************]  1 of 1 completed\n",
            "[*********************100%%**********************]  1 of 1 completed\n",
            "[*********************100%%**********************]  1 of 1 completed\n"
          ]
        },
        {
          "output_type": "stream",
          "name": "stdout",
          "text": [
            "KeyError: 'Net Income'\n",
            "KeyError: 'Stockholders Equity'\n"
          ]
        },
        {
          "output_type": "stream",
          "name": "stderr",
          "text": [
            "[*********************100%%**********************]  1 of 1 completed\n",
            "[*********************100%%**********************]  1 of 1 completed\n",
            "[*********************100%%**********************]  1 of 1 completed\n",
            "[*********************100%%**********************]  1 of 1 completed\n",
            "[*********************100%%**********************]  1 of 1 completed\n",
            "[*********************100%%**********************]  1 of 1 completed\n",
            "[*********************100%%**********************]  1 of 1 completed\n"
          ]
        },
        {
          "output_type": "stream",
          "name": "stdout",
          "text": [
            "KeyError: 'Net Income'\n",
            "KeyError: 'Stockholders Equity'\n"
          ]
        },
        {
          "output_type": "stream",
          "name": "stderr",
          "text": [
            "[*********************100%%**********************]  1 of 1 completed\n",
            "[*********************100%%**********************]  1 of 1 completed\n",
            "[*********************100%%**********************]  1 of 1 completed\n",
            "[*********************100%%**********************]  1 of 1 completed\n"
          ]
        },
        {
          "output_type": "stream",
          "name": "stdout",
          "text": [
            "KeyError: 'Net Income'\n",
            "KeyError: 'Stockholders Equity'\n"
          ]
        },
        {
          "output_type": "stream",
          "name": "stderr",
          "text": [
            "[*********************100%%**********************]  1 of 1 completed\n",
            "[*********************100%%**********************]  1 of 1 completed\n",
            "[*********************100%%**********************]  1 of 1 completed\n"
          ]
        },
        {
          "output_type": "stream",
          "name": "stdout",
          "text": [
            "KeyError: 'Net Income'\n",
            "KeyError: 'Stockholders Equity'\n"
          ]
        },
        {
          "output_type": "stream",
          "name": "stderr",
          "text": [
            "[*********************100%%**********************]  1 of 1 completed\n",
            "[*********************100%%**********************]  1 of 1 completed\n",
            "[*********************100%%**********************]  1 of 1 completed\n"
          ]
        },
        {
          "output_type": "stream",
          "name": "stdout",
          "text": [
            "KeyError: 'Net Income'\n",
            "KeyError: 'Stockholders Equity'\n"
          ]
        },
        {
          "output_type": "stream",
          "name": "stderr",
          "text": [
            "\r[*********************100%%**********************]  1 of 1 completed\n"
          ]
        },
        {
          "output_type": "stream",
          "name": "stdout",
          "text": [
            "KeyError: 'Net Income'\n",
            "KeyError: 'Stockholders Equity'\n"
          ]
        }
      ]
    },
    {
      "cell_type": "code",
      "source": [
        "stock_analysis"
      ],
      "metadata": {
        "colab": {
          "base_uri": "https://localhost:8080/"
        },
        "id": "4Y_xzc7glIhN",
        "outputId": "84c95eec-03c7-4fc3-c870-969617005fe9"
      },
      "execution_count": 164,
      "outputs": [
        {
          "output_type": "execute_result",
          "data": {
            "text/plain": [
              "{'AALI.JK': {'Average Daily Returns': -2.992250227229979e-05,\n",
              "  'Beta Alpha': {'beta': array([0.035]), 'alpha': array([-0.])},\n",
              "  'Sharpe Ratio': -0.03,\n",
              "  'Piotroski F-Score': '',\n",
              "  'Revenue Growth': -22.67492030276398,\n",
              "  'Earning per Share': 432.8437198839821,\n",
              "  'Price to Earning': 15.363512728756795,\n",
              "  'Debt to Equity': 0.2135743776992211,\n",
              "  'Free Cash Flow': '',\n",
              "  'Return on Equity': 4.442555984422978,\n",
              "  'Dividend Yield': 134.70336840601504},\n",
              " 'ABBA.JK': {'Average Daily Returns': 0.001393156250978238,\n",
              "  'Beta Alpha': {'beta': array([-0.047]), 'alpha': array([0.001])},\n",
              "  'Sharpe Ratio': 0.45,\n",
              "  'Piotroski F-Score': '',\n",
              "  'Revenue Growth': -6.034068612093069,\n",
              "  'Earning per Share': -11.406882837566759,\n",
              "  'Price to Earning': -4.558651188100771,\n",
              "  'Debt to Equity': -20.456808251051843,\n",
              "  'Free Cash Flow': '',\n",
              "  'Return on Equity': 458.9519356490645,\n",
              "  'Dividend Yield': 0.0},\n",
              " 'ABDA.JK': {'Average Daily Returns': 8.110466255270641e-05,\n",
              "  'Beta Alpha': {'beta': array([-0.006]), 'alpha': array([0.])},\n",
              "  'Sharpe Ratio': 0.07,\n",
              "  'Piotroski F-Score': '',\n",
              "  'Revenue Growth': 15.041350757227455,\n",
              "  'Earning per Share': 3906.9744951036932,\n",
              "  'Price to Earning': 1.279762641467486,\n",
              "  'Debt to Equity': 0,\n",
              "  'Free Cash Flow': '',\n",
              "  'Return on Equity': 9.963071487005408,\n",
              "  'Dividend Yield': 21.98679856},\n",
              " 'ABMM.JK': {'Average Daily Returns': 0.001542013887819069,\n",
              "  'Beta Alpha': {'beta': array([0.138]), 'alpha': array([0.001])},\n",
              "  'Sharpe Ratio': 0.73,\n",
              "  'Piotroski F-Score': '',\n",
              "  'Revenue Growth': -40.65682896337879,\n",
              "  'Earning per Share': -0.012952134461791592,\n",
              "  'Price to Earning': -286439.27461874246,\n",
              "  'Debt to Equity': 5.803908025535203,\n",
              "  'Free Cash Flow': '',\n",
              "  'Return on Equity': -19.28186601932051,\n",
              "  'Dividend Yield': 19.778216576819407},\n",
              " 'ACES.JK': {'Average Daily Returns': -0.0003413927977080468,\n",
              "  'Beta Alpha': {'beta': array([0.039]), 'alpha': array([-0.])},\n",
              "  'Sharpe Ratio': -0.21,\n",
              "  'Piotroski F-Score': '',\n",
              "  'Revenue Growth': 13.286810060951609,\n",
              "  'Earning per Share': 42.82583561131043,\n",
              "  'Price to Earning': 19.26407245121249,\n",
              "  'Debt to Equity': 0.16359295913556243,\n",
              "  'Free Cash Flow': '',\n",
              "  'Return on Equity': 13.764516534276087,\n",
              "  'Dividend Yield': 27.45987878787879},\n",
              " 'ACRO.JK': {'Average Daily Returns': -0.021147204463747654,\n",
              "  'Beta Alpha': '',\n",
              "  'Sharpe Ratio': -4.47,\n",
              "  'Piotroski F-Score': '',\n",
              "  'Revenue Growth': '',\n",
              "  'Earning per Share': '',\n",
              "  'Price to Earning': 0,\n",
              "  'Debt to Equity': 0,\n",
              "  'Free Cash Flow': '',\n",
              "  'Return on Equity': '',\n",
              "  'Dividend Yield': 0.0},\n",
              " 'ACST.JK': {'Average Daily Returns': 0.0008896782704431812,\n",
              "  'Beta Alpha': {'beta': array([0.04]), 'alpha': array([0.001])},\n",
              "  'Sharpe Ratio': 0.3,\n",
              "  'Piotroski F-Score': '',\n",
              "  'Revenue Growth': -19.418453960771302,\n",
              "  'Earning per Share': -104.39354014137844,\n",
              "  'Price to Earning': -1.3027626021286132,\n",
              "  'Debt to Equity': 0.15742617668809705,\n",
              "  'Free Cash Flow': '',\n",
              "  'Return on Equity': -480.6251135084087,\n",
              "  'Dividend Yield': 116.06942205882353},\n",
              " 'ADCP.JK': {'Average Daily Returns': -0.0016274733294199906,\n",
              "  'Beta Alpha': '',\n",
              "  'Sharpe Ratio': -1.14,\n",
              "  'Piotroski F-Score': '',\n",
              "  'Revenue Growth': 73.36201841236274,\n",
              "  'Earning per Share': 5.996315642288585,\n",
              "  'Price to Earning': 8.505222713815492,\n",
              "  'Debt to Equity': 0.3573890582278555,\n",
              "  'Free Cash Flow': '',\n",
              "  'Return on Equity': 6.764623718215897,\n",
              "  'Dividend Yield': 2.2941176470588234},\n",
              " 'ADES.JK': {'Average Daily Returns': 0.0031032066650867884,\n",
              "  'Beta Alpha': {'beta': array([0.025]), 'alpha': array([0.003])},\n",
              "  'Sharpe Ratio': 1.67,\n",
              "  'Piotroski F-Score': '',\n",
              "  'Revenue Growth': -27.98823623773494,\n",
              "  'Earning per Share': 230.19102398455226,\n",
              "  'Price to Earning': 43.55078589281901,\n",
              "  'Debt to Equity': 0.0020556510418153684,\n",
              "  'Free Cash Flow': '',\n",
              "  'Return on Equity': 19.384361063685212,\n",
              "  'Dividend Yield': 0.11970074812967581},\n",
              " 'ADHI.JK': {'Average Daily Returns': -0.0003338355441267433,\n",
              "  'Beta Alpha': {'beta': array([0.008]), 'alpha': array([-0.])},\n",
              "  'Sharpe Ratio': -0.18,\n",
              "  'Piotroski F-Score': '',\n",
              "  'Revenue Growth': -6.095061098293558,\n",
              "  'Earning per Share': 2.851807813000404,\n",
              "  'Price to Earning': 104.4951201274929,\n",
              "  'Debt to Equity': 2.1642779101030625,\n",
              "  'Free Cash Flow': '',\n",
              "  'Return on Equity': 0.4321509413401585,\n",
              "  'Dividend Yield': 120.08363557046981},\n",
              " 'ADMF.JK': {'Average Daily Returns': 0.0008229426768669603,\n",
              "  'Beta Alpha': {'beta': array([-0.014]), 'alpha': array([0.001])},\n",
              "  'Sharpe Ratio': 0.8,\n",
              "  'Piotroski F-Score': '',\n",
              "  'Revenue Growth': 16.683928392274517,\n",
              "  'Earning per Share': 1025.573,\n",
              "  'Price to Earning': 13.163373060718252,\n",
              "  'Debt to Equity': 2.0230014314215317,\n",
              "  'Free Cash Flow': '',\n",
              "  'Return on Equity': 12.802959439041839,\n",
              "  'Dividend Yield': 114.65866666666666},\n",
              " 'ADMG.JK': {'Average Daily Returns': 0.0007223927827197915,\n",
              "  'Beta Alpha': {'beta': array([0.055]), 'alpha': array([0.001])},\n",
              "  'Sharpe Ratio': 0.39,\n",
              "  'Piotroski F-Score': '',\n",
              "  'Revenue Growth': -19.706240755979977,\n",
              "  'Earning per Share': -0.00994244158266637,\n",
              "  'Price to Earning': -13578.153703750062,\n",
              "  'Debt to Equity': 0,\n",
              "  'Free Cash Flow': '',\n",
              "  'Return on Equity': -22.917409815686398,\n",
              "  'Dividend Yield': 0.0},\n",
              " 'ADMR.JK': {'Average Daily Returns': 0.005883093898803724,\n",
              "  'Beta Alpha': '',\n",
              "  'Sharpe Ratio': 1.82,\n",
              "  'Piotroski F-Score': '',\n",
              "  'Revenue Growth': -73.20474247094037,\n",
              "  'Earning per Share': -0.0006918746933244866,\n",
              "  'Price to Earning': -2102981.9619628876,\n",
              "  'Debt to Equity': 1.6457253919137433,\n",
              "  'Free Cash Flow': '',\n",
              "  'Return on Equity': -10.985183454584142,\n",
              "  'Dividend Yield': 0.0},\n",
              " 'ADRO.JK': {'Average Daily Returns': 0.0013763285016886045,\n",
              "  'Beta Alpha': {'beta': array([0.03]), 'alpha': array([0.001])},\n",
              "  'Sharpe Ratio': 0.82,\n",
              "  'Piotroski F-Score': '',\n",
              "  'Revenue Growth': -36.51337259480885,\n",
              "  'Earning per Share': 0.004757813795804562,\n",
              "  'Price to Earning': 561182.1131702138,\n",
              "  'Debt to Equity': 0.3877222646063662,\n",
              "  'Free Cash Flow': '',\n",
              "  'Return on Equity': 3.9580774121247386,\n",
              "  'Dividend Yield': 62.97265917602996},\n",
              " 'AEGS.JK': {'Average Daily Returns': 0.0019838119457408405,\n",
              "  'Beta Alpha': '',\n",
              "  'Sharpe Ratio': 0.54,\n",
              "  'Piotroski F-Score': '',\n",
              "  'Revenue Growth': '',\n",
              "  'Earning per Share': '',\n",
              "  'Price to Earning': 0,\n",
              "  'Debt to Equity': 0,\n",
              "  'Free Cash Flow': '',\n",
              "  'Return on Equity': '',\n",
              "  'Dividend Yield': 0.0},\n",
              " 'AGAR.JK': {'Average Daily Returns': -0.0011951145568823065,\n",
              "  'Beta Alpha': {'beta': array([-0.013]), 'alpha': array([-0.001])},\n",
              "  'Sharpe Ratio': -0.54,\n",
              "  'Piotroski F-Score': '',\n",
              "  'Revenue Growth': '',\n",
              "  'Earning per Share': '',\n",
              "  'Price to Earning': 0,\n",
              "  'Debt to Equity': 0,\n",
              "  'Free Cash Flow': '',\n",
              "  'Return on Equity': '',\n",
              "  'Dividend Yield': 0.0},\n",
              " 'AGII.JK': {'Average Daily Returns': 0.0018296271092903766,\n",
              "  'Beta Alpha': {'beta': array([-0.058]), 'alpha': array([0.002])},\n",
              "  'Sharpe Ratio': 0.82,\n",
              "  'Piotroski F-Score': '',\n",
              "  'Revenue Growth': -20.104841038800387,\n",
              "  'Earning per Share': 31.438763013140925,\n",
              "  'Price to Earning': 47.870840190847616,\n",
              "  'Debt to Equity': 1.011053875676342,\n",
              "  'Free Cash Flow': '',\n",
              "  'Return on Equity': 2.899077161783853,\n",
              "  'Dividend Yield': 1.416810631229236},\n",
              " 'AGRO.JK': {'Average Daily Returns': 0.0019415590023377763,\n",
              "  'Beta Alpha': {'beta': array([-0.177]), 'alpha': array([0.002])},\n",
              "  'Sharpe Ratio': 0.68,\n",
              "  'Piotroski F-Score': 5,\n",
              "  'Revenue Growth': -26.016782224875605,\n",
              "  'Earning per Share': 1.2635428826162498,\n",
              "  'Price to Earning': 220.01627631694024,\n",
              "  'Debt to Equity': 0.17012913597175922,\n",
              "  'Free Cash Flow': 775550251000.0,\n",
              "  'Return on Equity': 0.729079771663569,\n",
              "  'Dividend Yield': 3.3044460431654676},\n",
              " 'AGRS.JK': {'Average Daily Returns': 0.0011861737555839988,\n",
              "  'Beta Alpha': {'beta': array([0.173]), 'alpha': array([0.001])},\n",
              "  'Sharpe Ratio': 0.41,\n",
              "  'Piotroski F-Score': 4,\n",
              "  'Revenue Growth': -43.2417547065409,\n",
              "  'Earning per Share': -4.683499936262688,\n",
              "  'Price to Earning': -16.01366521205679,\n",
              "  'Debt to Equity': 2.970510083760826,\n",
              "  'Free Cash Flow': -2396417000000.0,\n",
              "  'Return on Equity': -9.30937269388232,\n",
              "  'Dividend Yield': 0.0},\n",
              " 'AHAP.JK': {'Average Daily Returns': 0.0016956045738019333,\n",
              "  'Beta Alpha': {'beta': array([0.019]), 'alpha': array([0.002])},\n",
              "  'Sharpe Ratio': 0.59,\n",
              "  'Piotroski F-Score': '',\n",
              "  'Revenue Growth': '',\n",
              "  'Earning per Share': '',\n",
              "  'Price to Earning': 0,\n",
              "  'Debt to Equity': 0,\n",
              "  'Free Cash Flow': '',\n",
              "  'Return on Equity': '',\n",
              "  'Dividend Yield': 17.406285384615387},\n",
              " 'AIMS.JK': {'Average Daily Returns': 0.0032605484712230435,\n",
              "  'Beta Alpha': {'beta': array([0.002]), 'alpha': array([0.003])},\n",
              "  'Sharpe Ratio': 0.83,\n",
              "  'Piotroski F-Score': '',\n",
              "  'Revenue Growth': '',\n",
              "  'Earning per Share': '',\n",
              "  'Price to Earning': 0,\n",
              "  'Debt to Equity': 0,\n",
              "  'Free Cash Flow': '',\n",
              "  'Return on Equity': '',\n",
              "  'Dividend Yield': 0.17605633802816903},\n",
              " 'AISA.JK': {'Average Daily Returns': 0.00025667751740595204,\n",
              "  'Beta Alpha': {'beta': array([0.048]), 'alpha': array([0.])},\n",
              "  'Sharpe Ratio': 0.12,\n",
              "  'Piotroski F-Score': '',\n",
              "  'Revenue Growth': -15.619125518861132,\n",
              "  'Earning per Share': 8927.496296296296,\n",
              "  'Price to Earning': 0.014785780427012011,\n",
              "  'Debt to Equity': 0.3802871698467901,\n",
              "  'Free Cash Flow': '',\n",
              "  'Return on Equity': 141.60306419776293,\n",
              "  'Dividend Yield': 17.424242424242426},\n",
              " 'AKKU.JK': {'Average Daily Returns': 0.0,\n",
              "  'Beta Alpha': {'beta': array([0.]), 'alpha': array([0.])},\n",
              "  'Sharpe Ratio': nan,\n",
              "  'Piotroski F-Score': '',\n",
              "  'Revenue Growth': '',\n",
              "  'Earning per Share': '',\n",
              "  'Price to Earning': 0,\n",
              "  'Debt to Equity': 0,\n",
              "  'Free Cash Flow': '',\n",
              "  'Return on Equity': '',\n",
              "  'Dividend Yield': 2.508902},\n",
              " 'AKPI.JK': {'Average Daily Returns': 0.0016601879213019363,\n",
              "  'Beta Alpha': {'beta': array([-0.21]), 'alpha': array([0.002])},\n",
              "  'Sharpe Ratio': 0.68,\n",
              "  'Piotroski F-Score': '',\n",
              "  'Revenue Growth': -17.493666742863628,\n",
              "  'Earning per Share': 107.82456945551476,\n",
              "  'Price to Earning': 6.492026850047376,\n",
              "  'Debt to Equity': 0.8496370372000089,\n",
              "  'Free Cash Flow': '',\n",
              "  'Return on Equity': 5.024103951420846,\n",
              "  'Dividend Yield': 29.35714285714286},\n",
              " 'AKRA.JK': {'Average Daily Returns': 0.0016190974892855447,\n",
              "  'Beta Alpha': {'beta': array([-0.075]), 'alpha': array([0.002])},\n",
              "  'Sharpe Ratio': 1.04,\n",
              "  'Piotroski F-Score': '',\n",
              "  'Revenue Growth': -31.08538285747544,\n",
              "  'Earning per Share': 46.86168428189014,\n",
              "  'Price to Earning': 37.34394157651507,\n",
              "  'Debt to Equity': 0.5268672630491971,\n",
              "  'Free Cash Flow': '',\n",
              "  'Return on Equity': 10.56762571943213,\n",
              "  'Dividend Yield': 28.59428571428571},\n",
              " 'AKSI.JK': {'Average Daily Returns': 0.0002673988993498857,\n",
              "  'Beta Alpha': {'beta': array([0.102]), 'alpha': array([0.])},\n",
              "  'Sharpe Ratio': 0.07,\n",
              "  'Piotroski F-Score': '',\n",
              "  'Revenue Growth': '',\n",
              "  'Earning per Share': '',\n",
              "  'Price to Earning': 0,\n",
              "  'Debt to Equity': 0,\n",
              "  'Free Cash Flow': '',\n",
              "  'Return on Equity': '',\n",
              "  'Dividend Yield': 2.941176470588235},\n",
              " 'ALDO.JK': {'Average Daily Returns': 0.0013164259303370274,\n",
              "  'Beta Alpha': {'beta': array([-0.024]), 'alpha': array([0.001])},\n",
              "  'Sharpe Ratio': 0.59,\n",
              "  'Piotroski F-Score': '',\n",
              "  'Revenue Growth': -24.10993082596827,\n",
              "  'Earning per Share': 37.445341367856095,\n",
              "  'Price to Earning': 19.89566586351178,\n",
              "  'Debt to Equity': 1.2142126937826834,\n",
              "  'Free Cash Flow': '',\n",
              "  'Return on Equity': 11.01265447590591,\n",
              "  'Dividend Yield': 1.0674135570469798},\n",
              " 'ALII.JK': {'Average Daily Returns': nan,\n",
              "  'Beta Alpha': '',\n",
              "  'Sharpe Ratio': nan,\n",
              "  'Piotroski F-Score': '',\n",
              "  'Revenue Growth': -86.68206656990745,\n",
              "  'Earning per Share': '',\n",
              "  'Price to Earning': 0,\n",
              "  'Debt to Equity': 0,\n",
              "  'Free Cash Flow': '',\n",
              "  'Return on Equity': 645.5618538142976,\n",
              "  'Dividend Yield': 0.0},\n",
              " 'ALKA.JK': {'Average Daily Returns': 0.0014811521056027662,\n",
              "  'Beta Alpha': {'beta': array([0.179]), 'alpha': array([0.001])},\n",
              "  'Sharpe Ratio': 0.42,\n",
              "  'Piotroski F-Score': '',\n",
              "  'Revenue Growth': '',\n",
              "  'Earning per Share': '',\n",
              "  'Price to Earning': 0,\n",
              "  'Debt to Equity': 0,\n",
              "  'Free Cash Flow': '',\n",
              "  'Return on Equity': '',\n",
              "  'Dividend Yield': 0.0},\n",
              " 'ALMI.JK': {'Average Daily Returns': 0.000544893222037686,\n",
              "  'Beta Alpha': {'beta': array([0.054]), 'alpha': array([0.001])},\n",
              "  'Sharpe Ratio': 0.2,\n",
              "  'Piotroski F-Score': '',\n",
              "  'Revenue Growth': 26.856886470240166,\n",
              "  'Earning per Share': 9.782232704402516e-06,\n",
              "  'Price to Earning': 11551555.091215944,\n",
              "  'Debt to Equity': 0.7578577287090299,\n",
              "  'Free Cash Flow': '',\n",
              "  'Return on Equity': 0.10164997053624042,\n",
              "  'Dividend Yield': 176.99115044247787},\n",
              " 'ALTO.JK': {'Average Daily Returns': -0.0017878935014754252,\n",
              "  'Beta Alpha': {'beta': array([0.082]), 'alpha': array([-0.002])},\n",
              "  'Sharpe Ratio': -0.85,\n",
              "  'Piotroski F-Score': '',\n",
              "  'Revenue Growth': '',\n",
              "  'Earning per Share': '',\n",
              "  'Price to Earning': 0,\n",
              "  'Debt to Equity': 0,\n",
              "  'Free Cash Flow': '',\n",
              "  'Return on Equity': '',\n",
              "  'Dividend Yield': 0.0},\n",
              " 'AMAG.JK': {'Average Daily Returns': 0.00027844237884043624,\n",
              "  'Beta Alpha': {'beta': array([0.049]), 'alpha': array([0.])},\n",
              "  'Sharpe Ratio': 0.2,\n",
              "  'Piotroski F-Score': '',\n",
              "  'Revenue Growth': -14.351250524237482,\n",
              "  'Earning per Share': 21.5104954672234,\n",
              "  'Price to Earning': 14.039658010675405,\n",
              "  'Debt to Equity': 0,\n",
              "  'Free Cash Flow': '',\n",
              "  'Return on Equity': 5.345625044962316,\n",
              "  'Dividend Yield': 72.84768211920529},\n",
              " 'AMAN.JK': {'Average Daily Returns': 8.348043636506459e-05,\n",
              "  'Beta Alpha': {'beta': array([0.088]), 'alpha': array([0.])},\n",
              "  'Sharpe Ratio': 0.03,\n",
              "  'Piotroski F-Score': '',\n",
              "  'Revenue Growth': -27.069124210353028,\n",
              "  'Earning per Share': 8.654738306661901,\n",
              "  'Price to Earning': 13.056431748262028,\n",
              "  'Debt to Equity': 0.10893972302787253,\n",
              "  'Free Cash Flow': '',\n",
              "  'Return on Equity': 5.4405114365024225,\n",
              "  'Dividend Yield': 0.8849557522123894},\n",
              " 'AMAR.JK': {'Average Daily Returns': 0.001009960334933899,\n",
              "  'Beta Alpha': {'beta': array([0.204]), 'alpha': array([0.001])},\n",
              "  'Sharpe Ratio': 0.34,\n",
              "  'Piotroski F-Score': 6,\n",
              "  'Revenue Growth': -2.339861695982343,\n",
              "  'Earning per Share': 0.4672721616378004,\n",
              "  'Price to Earning': 535.0201028962305,\n",
              "  'Debt to Equity': 0.010496502442490471,\n",
              "  'Free Cash Flow': 754558032000.0,\n",
              "  'Return on Equity': 0.804674635555849,\n",
              "  'Dividend Yield': 1.466704},\n",
              " 'AMFG.JK': {'Average Daily Returns': 0.000913948424051494,\n",
              "  'Beta Alpha': {'beta': array([-0.103]), 'alpha': array([0.001])},\n",
              "  'Sharpe Ratio': 0.62,\n",
              "  'Piotroski F-Score': '',\n",
              "  'Revenue Growth': -20.64703666004723,\n",
              "  'Earning per Share': -993.057603686636,\n",
              "  'Price to Earning': -5.840547394701,\n",
              "  'Debt to Equity': 0.6863043761246787,\n",
              "  'Free Cash Flow': '',\n",
              "  'Return on Equity': -14.710272277945839,\n",
              "  'Dividend Yield': 22.655172413793103},\n",
              " 'AMIN.JK': {'Average Daily Returns': 0.00044182357278625987,\n",
              "  'Beta Alpha': {'beta': array([-0.063]), 'alpha': array([0.])},\n",
              "  'Sharpe Ratio': 0.15,\n",
              "  'Piotroski F-Score': '',\n",
              "  'Revenue Growth': '',\n",
              "  'Earning per Share': '',\n",
              "  'Price to Earning': 0,\n",
              "  'Debt to Equity': 0,\n",
              "  'Free Cash Flow': '',\n",
              "  'Return on Equity': '',\n",
              "  'Dividend Yield': 27.2108843537415},\n",
              " 'AMMN.JK': {'Average Daily Returns': 0.010567439092908243,\n",
              "  'Beta Alpha': '',\n",
              "  'Sharpe Ratio': 4.79,\n",
              "  'Piotroski F-Score': '',\n",
              "  'Revenue Growth': -22.782165565870706,\n",
              "  'Earning per Share': 0.0011903081333476007,\n",
              "  'Price to Earning': 7035993.257011782,\n",
              "  'Debt to Equity': 1.2884448714499828,\n",
              "  'Free Cash Flow': '',\n",
              "  'Return on Equity': 4.1466027439375885,\n",
              "  'Dividend Yield': 0.0},\n",
              " 'AMMS.JK': {'Average Daily Returns': -0.001953296104640731,\n",
              "  'Beta Alpha': '',\n",
              "  'Sharpe Ratio': -0.69,\n",
              "  'Piotroski F-Score': '',\n",
              "  'Revenue Growth': '',\n",
              "  'Earning per Share': '',\n",
              "  'Price to Earning': 0,\n",
              "  'Debt to Equity': 0,\n",
              "  'Free Cash Flow': '',\n",
              "  'Return on Equity': '',\n",
              "  'Dividend Yield': 0.0},\n",
              " 'AMOR.JK': {'Average Daily Returns': 6.346378460439e-05,\n",
              "  'Beta Alpha': '',\n",
              "  'Sharpe Ratio': 0.04,\n",
              "  'Piotroski F-Score': '',\n",
              "  'Revenue Growth': -16.625529269608982,\n",
              "  'Earning per Share': 35.94712023592236,\n",
              "  'Price to Earning': 26.844987683760678,\n",
              "  'Debt to Equity': 0.05412297176236737,\n",
              "  'Free Cash Flow': '',\n",
              "  'Return on Equity': 27.864066384356967,\n",
              "  'Dividend Yield': 18.2413703626943},\n",
              " 'AMRT.JK': {'Average Daily Returns': 0.0016876068905552755,\n",
              "  'Beta Alpha': {'beta': array([-0.002]), 'alpha': array([0.002])},\n",
              "  'Sharpe Ratio': 1.04,\n",
              "  'Piotroski F-Score': '',\n",
              "  'Revenue Growth': -10.691355906693113,\n",
              "  'Earning per Share': 25.562644705709324,\n",
              "  'Price to Earning': 109.14363643198716,\n",
              "  'Debt to Equity': 0.25156694509265837,\n",
              "  'Free Cash Flow': '',\n",
              "  'Return on Equity': 14.301551150455449,\n",
              "  'Dividend Yield': 4.027598566308244},\n",
              " 'ANDI.JK': {'Average Daily Returns': 9.604256100440793e-05,\n",
              "  'Beta Alpha': {'beta': array([0.033]), 'alpha': array([0.])},\n",
              "  'Sharpe Ratio': 0.11,\n",
              "  'Piotroski F-Score': '',\n",
              "  'Revenue Growth': -24.872764258995588,\n",
              "  'Earning per Share': -1.0877255836028474,\n",
              "  'Price to Earning': -45.9674763136362,\n",
              "  'Debt to Equity': 0.6386342280599925,\n",
              "  'Free Cash Flow': '',\n",
              "  'Return on Equity': -4.057005084306545,\n",
              "  'Dividend Yield': 0.0},\n",
              " 'ANJT.JK': {'Average Daily Returns': 0.0007950965316355322,\n",
              "  'Beta Alpha': {'beta': array([-0.001]), 'alpha': array([0.001])},\n",
              "  'Sharpe Ratio': 0.45,\n",
              "  'Piotroski F-Score': '',\n",
              "  'Revenue Growth': -38.62770724625803,\n",
              "  'Earning per Share': 0.0006999996784897713,\n",
              "  'Price to Earning': 1014286.1801476883,\n",
              "  'Debt to Equity': 0.38829358788031754,\n",
              "  'Free Cash Flow': '',\n",
              "  'Return on Equity': 0.6026952641832664,\n",
              "  'Dividend Yield': 29.549295774647888},\n",
              " 'ANTM.JK': {'Average Daily Returns': 0.0014477180273946547,\n",
              "  'Beta Alpha': {'beta': array([0.06]), 'alpha': array([0.001])},\n",
              "  'Sharpe Ratio': 0.72,\n",
              "  'Piotroski F-Score': '',\n",
              "  'Revenue Growth': -28.80208772942648,\n",
              "  'Earning per Share': 47.828328899663184,\n",
              "  'Price to Earning': 32.721193401574624,\n",
              "  'Debt to Equity': 0.18429487510402098,\n",
              "  'Free Cash Flow': '',\n",
              "  'Return on Equity': 6.036699211762034,\n",
              "  'Dividend Yield': 42.57582837060704},\n",
              " 'APEX.JK': {'Average Daily Returns': 0.001277105462999291,\n",
              "  'Beta Alpha': {'beta': array([-0.248]), 'alpha': array([0.001])},\n",
              "  'Sharpe Ratio': 0.36,\n",
              "  'Piotroski F-Score': '',\n",
              "  'Revenue Growth': -15.943559323566085,\n",
              "  'Earning per Share': 0.01572773851125423,\n",
              "  'Price to Earning': 10618.182638304961,\n",
              "  'Debt to Equity': 1.0488680488210425,\n",
              "  'Free Cash Flow': '',\n",
              "  'Return on Equity': 35.12807582458299,\n",
              "  'Dividend Yield': 46.10778443113773},\n",
              " 'APIC.JK': {'Average Daily Returns': 0.0005241770370615473,\n",
              "  'Beta Alpha': {'beta': array([0.017]), 'alpha': array([0.001])},\n",
              "  'Sharpe Ratio': 0.56,\n",
              "  'Piotroski F-Score': '',\n",
              "  'Revenue Growth': 6.321480282314727,\n",
              "  'Earning per Share': 726.8871949380107,\n",
              "  'Price to Earning': 1.485787626362166,\n",
              "  'Debt to Equity': 0.8108930620503555,\n",
              "  'Free Cash Flow': '',\n",
              "  'Return on Equity': 5.388001777420548,\n",
              "  'Dividend Yield': 0.7637392592592592},\n",
              " 'APII.JK': {'Average Daily Returns': 0.0003380747106952893,\n",
              "  'Beta Alpha': {'beta': array([-0.17]), 'alpha': array([0.])},\n",
              "  'Sharpe Ratio': 0.18,\n",
              "  'Piotroski F-Score': '',\n",
              "  'Revenue Growth': '',\n",
              "  'Earning per Share': '',\n",
              "  'Price to Earning': 0,\n",
              "  'Debt to Equity': 0,\n",
              "  'Free Cash Flow': '',\n",
              "  'Return on Equity': '',\n",
              "  'Dividend Yield': 6.231074074074074},\n",
              " 'APLI.JK': {'Average Daily Returns': 0.0027518650270915257,\n",
              "  'Beta Alpha': {'beta': array([0.19]), 'alpha': array([0.003])},\n",
              "  'Sharpe Ratio': 1.09,\n",
              "  'Piotroski F-Score': '',\n",
              "  'Revenue Growth': '',\n",
              "  'Earning per Share': '',\n",
              "  'Price to Earning': 0,\n",
              "  'Debt to Equity': 0,\n",
              "  'Free Cash Flow': '',\n",
              "  'Return on Equity': '',\n",
              "  'Dividend Yield': 3.4482758620689653},\n",
              " 'APLN.JK': {'Average Daily Returns': 0.00047627535896416245,\n",
              "  'Beta Alpha': {'beta': array([0.082]), 'alpha': array([0.])},\n",
              "  'Sharpe Ratio': 0.26,\n",
              "  'Piotroski F-Score': '',\n",
              "  'Revenue Growth': 16.448284679416194,\n",
              "  'Earning per Share': -6.026005374330105,\n",
              "  'Price to Earning': -19.58179468320135,\n",
              "  'Debt to Equity': 0.868328748292162,\n",
              "  'Free Cash Flow': '',\n",
              "  'Return on Equity': -1.600848572326366,\n",
              "  'Dividend Yield': 16.94915254237288},\n",
              " 'ARCI.JK': {'Average Daily Returns': -0.0008934368375987798,\n",
              "  'Beta Alpha': '',\n",
              "  'Sharpe Ratio': -0.56,\n",
              "  'Piotroski F-Score': '',\n",
              "  'Revenue Growth': 13.70146658894657,\n",
              "  'Earning per Share': 0.004966117109355447,\n",
              "  'Price to Earning': 71283.05519278132,\n",
              "  'Debt to Equity': 4.303851764318973,\n",
              "  'Free Cash Flow': '',\n",
              "  'Return on Equity': 130.75763793964583,\n",
              "  'Dividend Yield': 0.0},\n",
              " 'ARGO.JK': {'Average Daily Returns': 0.00027472525092486473,\n",
              "  'Beta Alpha': {'beta': array([-0.023]), 'alpha': array([0.])},\n",
              "  'Sharpe Ratio': 0.26,\n",
              "  'Piotroski F-Score': '',\n",
              "  'Revenue Growth': -18.805649823040174,\n",
              "  'Earning per Share': -22.86936669197951,\n",
              "  'Price to Earning': -41.7589176325957,\n",
              "  'Debt to Equity': -0.456569653645555,\n",
              "  'Free Cash Flow': '',\n",
              "  'Return on Equity': 5.778436244224677,\n",
              "  'Dividend Yield': 0.0},\n",
              " 'ARII.JK': {'Average Daily Returns': -6.640575546038686e-05,\n",
              "  'Beta Alpha': {'beta': array([-0.092]), 'alpha': array([-0.])},\n",
              "  'Sharpe Ratio': -0.02,\n",
              "  'Piotroski F-Score': '',\n",
              "  'Revenue Growth': -63.44846719378554,\n",
              "  'Earning per Share': -0.00406441263185007,\n",
              "  'Price to Earning': -69382.7191142345,\n",
              "  'Debt to Equity': 3.0194632655772553,\n",
              "  'Free Cash Flow': '',\n",
              "  'Return on Equity': -46.31659359638634,\n",
              "  'Dividend Yield': 0.0},\n",
              " 'ARKA.JK': {'Average Daily Returns': -0.001980882557073677,\n",
              "  'Beta Alpha': {'beta': array([-0.179]), 'alpha': array([-0.002])},\n",
              "  'Sharpe Ratio': -0.99,\n",
              "  'Piotroski F-Score': '',\n",
              "  'Revenue Growth': 14.529070349384757,\n",
              "  'Earning per Share': -15.299810947,\n",
              "  'Price to Earning': -3.2680142371173577,\n",
              "  'Debt to Equity': 2.5263558591963142,\n",
              "  'Free Cash Flow': '',\n",
              "  'Return on Equity': -33.42168150395064,\n",
              "  'Dividend Yield': 0.0},\n",
              " 'ARKO.JK': {'Average Daily Returns': 0.003334810870083963,\n",
              "  'Beta Alpha': '',\n",
              "  'Sharpe Ratio': 1.56,\n",
              "  'Piotroski F-Score': '',\n",
              "  'Revenue Growth': -73.74201611670668,\n",
              "  'Earning per Share': -7.726990501712035,\n",
              "  'Price to Earning': -150.77021250923966,\n",
              "  'Debt to Equity': 4.2441876162668,\n",
              "  'Free Cash Flow': '',\n",
              "  'Return on Equity': -18.786472581297346,\n",
              "  'Dividend Yield': 0.0},\n",
              " 'ARMY.JK': {'Average Daily Returns': 0.0,\n",
              "  'Beta Alpha': {'beta': array([0.]), 'alpha': array([0.])},\n",
              "  'Sharpe Ratio': nan,\n",
              "  'Piotroski F-Score': '',\n",
              "  'Revenue Growth': '',\n",
              "  'Earning per Share': '',\n",
              "  'Price to Earning': 0,\n",
              "  'Debt to Equity': 0,\n",
              "  'Free Cash Flow': '',\n",
              "  'Return on Equity': 1.4678554069005911,\n",
              "  'Dividend Yield': 0.0},\n",
              " 'ARNA.JK': {'Average Daily Returns': 0.0007930252013955145,\n",
              "  'Beta Alpha': {'beta': array([-0.029]), 'alpha': array([0.001])},\n",
              "  'Sharpe Ratio': 0.73,\n",
              "  'Piotroski F-Score': '',\n",
              "  'Revenue Growth': -13.430660441213654,\n",
              "  'Earning per Share': 44.63614820381778,\n",
              "  'Price to Earning': 15.906390416081486,\n",
              "  'Debt to Equity': 0.13471711970805292,\n",
              "  'Free Cash Flow': '',\n",
              "  'Return on Equity': 25.156045491753854,\n",
              "  'Dividend Yield': 33.97007042253521},\n",
              " 'ARTA.JK': {'Average Daily Returns': 0.0031582388575804514,\n",
              "  'Beta Alpha': {'beta': array([-0.141]), 'alpha': array([0.003])},\n",
              "  'Sharpe Ratio': 1.14,\n",
              "  'Piotroski F-Score': '',\n",
              "  'Revenue Growth': '',\n",
              "  'Earning per Share': '',\n",
              "  'Price to Earning': 0,\n",
              "  'Debt to Equity': 0,\n",
              "  'Free Cash Flow': '',\n",
              "  'Return on Equity': '',\n",
              "  'Dividend Yield': 3.6996336996337},\n",
              " 'ARTI.JK': {'Average Daily Returns': -0.0025608817242834996,\n",
              "  'Beta Alpha': {'beta': array([0.067]), 'alpha': array([-0.003])},\n",
              "  'Sharpe Ratio': -1.67,\n",
              "  'Piotroski F-Score': '',\n",
              "  'Revenue Growth': 445.8091804833057,\n",
              "  'Earning per Share': -485.7146998380102,\n",
              "  'Price to Earning': -0.008235287096178132,\n",
              "  'Debt to Equity': 0.5284489733431219,\n",
              "  'Free Cash Flow': '',\n",
              "  'Return on Equity': -2656.2844443948516,\n",
              "  'Dividend Yield': 10.9093},\n",
              " 'ARTO.JK': {'Average Daily Returns': 0.0017599344452161358,\n",
              "  'Beta Alpha': {'beta': array([-0.005]), 'alpha': array([0.002])},\n",
              "  'Sharpe Ratio': 0.63,\n",
              "  'Piotroski F-Score': 3,\n",
              "  'Revenue Growth': -89.15866528796757,\n",
              "  'Earning per Share': -13.681023973234197,\n",
              "  'Price to Earning': -203.20116428703307,\n",
              "  'Debt to Equity': 0.04558670413922211,\n",
              "  'Free Cash Flow': -125734000000.0,\n",
              "  'Return on Equity': -15.382773974242353,\n",
              "  'Dividend Yield': 0.0},\n",
              " 'ASBI.JK': {'Average Daily Returns': 0.0015668772127960917,\n",
              "  'Beta Alpha': {'beta': array([-0.049]), 'alpha': array([0.002])},\n",
              "  'Sharpe Ratio': 0.66,\n",
              "  'Piotroski F-Score': '',\n",
              "  'Revenue Growth': '',\n",
              "  'Earning per Share': '',\n",
              "  'Price to Earning': 0,\n",
              "  'Debt to Equity': 0,\n",
              "  'Free Cash Flow': '',\n",
              "  'Return on Equity': '',\n",
              "  'Dividend Yield': 24.93721369127517},\n",
              " 'ASDM.JK': {'Average Daily Returns': 0.00018158825947177016,\n",
              "  'Beta Alpha': {'beta': array([0.004]), 'alpha': array([0.])},\n",
              "  'Sharpe Ratio': 0.18,\n",
              "  'Piotroski F-Score': '',\n",
              "  'Revenue Growth': 2.817252231939648,\n",
              "  'Earning per Share': 69.80368229166666,\n",
              "  'Price to Earning': 7.1342941181693575,\n",
              "  'Debt to Equity': 0.013741887511850803,\n",
              "  'Free Cash Flow': '',\n",
              "  'Return on Equity': 7.563174927677668,\n",
              "  'Dividend Yield': 102.25903614457832},\n",
              " 'ASGR.JK': {'Average Daily Returns': 0.0004065760078462194,\n",
              "  'Beta Alpha': {'beta': array([-0.017]), 'alpha': array([0.])},\n",
              "  'Sharpe Ratio': 0.48,\n",
              "  'Piotroski F-Score': '',\n",
              "  'Revenue Growth': 1.5084697213335132,\n",
              "  'Earning per Share': 35.426829331945505,\n",
              "  'Price to Earning': 23.85197930309943,\n",
              "  'Debt to Equity': 0.019610000944474376,\n",
              "  'Free Cash Flow': '',\n",
              "  'Return on Equity': 3.0575758235035906,\n",
              "  'Dividend Yield': 120.4733727810651},\n",
              " 'ASHA.JK': {'Average Daily Returns': -0.0010487944392329734,\n",
              "  'Beta Alpha': '',\n",
              "  'Sharpe Ratio': -0.32,\n",
              "  'Piotroski F-Score': '',\n",
              "  'Revenue Growth': '',\n",
              "  'Earning per Share': '',\n",
              "  'Price to Earning': 0,\n",
              "  'Debt to Equity': 0,\n",
              "  'Free Cash Flow': '',\n",
              "  'Return on Equity': '',\n",
              "  'Dividend Yield': 0.0},\n",
              " 'ASII.JK': {'Average Daily Returns': 0.0002898677105266203,\n",
              "  'Beta Alpha': {'beta': array([0.049]), 'alpha': array([0.])},\n",
              "  'Sharpe Ratio': 0.25,\n",
              "  'Piotroski F-Score': '',\n",
              "  'Revenue Growth': -25.029016853331047,\n",
              "  'Earning per Share': 399.27280835671615,\n",
              "  'Price to Earning': 12.898449111012125,\n",
              "  'Debt to Equity': 0.599439822247896,\n",
              "  'Free Cash Flow': '',\n",
              "  'Return on Equity': 10.384037208824246,\n",
              "  'Dividend Yield': 67.29184466019417},\n",
              " 'ASJT.JK': {'Average Daily Returns': 0.0006087831766645673,\n",
              "  'Beta Alpha': {'beta': array([0.027]), 'alpha': array([0.001])},\n",
              "  'Sharpe Ratio': 0.29,\n",
              "  'Piotroski F-Score': '',\n",
              "  'Revenue Growth': '',\n",
              "  'Earning per Share': '',\n",
              "  'Price to Earning': 0,\n",
              "  'Debt to Equity': 0,\n",
              "  'Free Cash Flow': '',\n",
              "  'Return on Equity': '',\n",
              "  'Dividend Yield': 84.92493983050848},\n",
              " 'ASLC.JK': {'Average Daily Returns': -0.0018356092066601664,\n",
              "  'Beta Alpha': '',\n",
              "  'Sharpe Ratio': -0.77,\n",
              "  'Piotroski F-Score': '',\n",
              "  'Revenue Growth': 5.76387557808818,\n",
              "  'Earning per Share': 1.610964871603512,\n",
              "  'Price to Earning': 68.90280598701915,\n",
              "  'Debt to Equity': 0.07720069095678693,\n",
              "  'Free Cash Flow': '',\n",
              "  'Return on Equity': 12.542411291983981,\n",
              "  'Dividend Yield': 0.0},\n",
              " 'ASLI.JK': {'Average Daily Returns': -0.021667542488291135,\n",
              "  'Beta Alpha': '',\n",
              "  'Sharpe Ratio': -4.65,\n",
              "  'Piotroski F-Score': '',\n",
              "  'Revenue Growth': '',\n",
              "  'Earning per Share': '',\n",
              "  'Price to Earning': 0,\n",
              "  'Debt to Equity': 0,\n",
              "  'Free Cash Flow': '',\n",
              "  'Return on Equity': '',\n",
              "  'Dividend Yield': 0.0},\n",
              " 'ASMI.JK': {'Average Daily Returns': -0.0025110672306922085,\n",
              "  'Beta Alpha': {'beta': array([-0.04]), 'alpha': array([-0.002])},\n",
              "  'Sharpe Ratio': -0.8,\n",
              "  'Piotroski F-Score': '',\n",
              "  'Revenue Growth': -33.19639852286331,\n",
              "  'Earning per Share': -9.881986856973741,\n",
              "  'Price to Earning': -5.059711242655102,\n",
              "  'Debt to Equity': 0.011324471230684408,\n",
              "  'Free Cash Flow': '',\n",
              "  'Return on Equity': -19.963136763723522,\n",
              "  'Dividend Yield': 0.0},\n",
              " 'ASPI.JK': {'Average Daily Returns': -0.0002378998113597622,\n",
              "  'Beta Alpha': {'beta': array([-0.34]), 'alpha': array([-0.])},\n",
              "  'Sharpe Ratio': -0.09,\n",
              "  'Piotroski F-Score': '',\n",
              "  'Revenue Growth': '',\n",
              "  'Earning per Share': '',\n",
              "  'Price to Earning': 0,\n",
              "  'Debt to Equity': 0,\n",
              "  'Free Cash Flow': '',\n",
              "  'Return on Equity': '',\n",
              "  'Dividend Yield': 0.0},\n",
              " 'ASRI.JK': {'Average Daily Returns': 0.000566092685355918,\n",
              "  'Beta Alpha': {'beta': array([0.053]), 'alpha': array([0.001])},\n",
              "  'Sharpe Ratio': 0.34,\n",
              "  'Piotroski F-Score': '',\n",
              "  'Revenue Growth': -50.3656028795689,\n",
              "  'Earning per Share': -52.30217154134952,\n",
              "  'Price to Earning': -2.96354807902113,\n",
              "  'Debt to Equity': 0.6875606976524191,\n",
              "  'Free Cash Flow': '',\n",
              "  'Return on Equity': -11.066481112394422,\n",
              "  'Dividend Yield': 27.09677419354839},\n",
              " 'ASRM.JK': {'Average Daily Returns': 0.00021950598549345113,\n",
              "  'Beta Alpha': {'beta': array([0.025]), 'alpha': array([0.])},\n",
              "  'Sharpe Ratio': 0.17,\n",
              "  'Piotroski F-Score': '',\n",
              "  'Revenue Growth': -16.00325190123434,\n",
              "  'Earning per Share': 215.40867207608682,\n",
              "  'Price to Earning': 7.427741810853589,\n",
              "  'Debt to Equity': 0.018455909279623442,\n",
              "  'Free Cash Flow': '',\n",
              "  'Return on Equity': 13.026779588013323,\n",
              "  'Dividend Yield': 50.46802562499999},\n",
              " 'ASSA.JK': {'Average Daily Returns': 0.001454612357535438,\n",
              "  'Beta Alpha': {'beta': array([0.067]), 'alpha': array([0.001])},\n",
              "  'Sharpe Ratio': 0.61,\n",
              "  'Piotroski F-Score': '',\n",
              "  'Revenue Growth': -40.304576509613796,\n",
              "  'Earning per Share': 23.609973592289247,\n",
              "  'Price to Earning': 34.09576028763132,\n",
              "  'Debt to Equity': 3.1636149487721457,\n",
              "  'Free Cash Flow': '',\n",
              "  'Return on Equity': 6.789497858458563,\n",
              "  'Dividend Yield': 4.241560124223603},\n",
              " 'ATAP.JK': {'Average Daily Returns': -4.0895201368335235e-05,\n",
              "  'Beta Alpha': '',\n",
              "  'Sharpe Ratio': -0.01,\n",
              "  'Piotroski F-Score': '',\n",
              "  'Revenue Growth': '',\n",
              "  'Earning per Share': '',\n",
              "  'Price to Earning': 0,\n",
              "  'Debt to Equity': 0,\n",
              "  'Free Cash Flow': '',\n",
              "  'Return on Equity': '',\n",
              "  'Dividend Yield': 2.3200000000000003},\n",
              " 'ATIC.JK': {'Average Daily Returns': 3.692265587772722e-05,\n",
              "  'Beta Alpha': {'beta': array([-0.136]), 'alpha': array([0.])},\n",
              "  'Sharpe Ratio': 0.01,\n",
              "  'Piotroski F-Score': '',\n",
              "  'Revenue Growth': -4.855249003068239,\n",
              "  'Earning per Share': -265.6253268126771,\n",
              "  'Price to Earning': -1.4079982676642515,\n",
              "  'Debt to Equity': 15.136764081592556,\n",
              "  'Free Cash Flow': '',\n",
              "  'Return on Equity': -410.92036931699437,\n",
              "  'Dividend Yield': 7.219251336898395},\n",
              " 'AUTO.JK': {'Average Daily Returns': 0.0013101071061401776,\n",
              "  'Beta Alpha': {'beta': array([-0.065]), 'alpha': array([0.001])},\n",
              "  'Sharpe Ratio': 0.97,\n",
              "  'Piotroski F-Score': '',\n",
              "  'Revenue Growth': -21.663905803607168,\n",
              "  'Earning per Share': 0.4657937347659514,\n",
              "  'Price to Earning': 4744.589364454343,\n",
              "  'Debt to Equity': 0.04340512635414836,\n",
              "  'Free Cash Flow': '',\n",
              "  'Return on Equity': 0.02181074240755427,\n",
              "  'Dividend Yield': 55.150150678733034},\n",
              " 'AVIA.JK': {'Average Daily Returns': -0.0005315892339987696,\n",
              "  'Beta Alpha': '',\n",
              "  'Sharpe Ratio': -0.36,\n",
              "  'Piotroski F-Score': '',\n",
              "  'Revenue Growth': -15.46368026688131,\n",
              "  'Earning per Share': 18.348955641279705,\n",
              "  'Price to Earning': 31.064438278856,\n",
              "  'Debt to Equity': 0.009849653675757158,\n",
              "  'Free Cash Flow': '',\n",
              "  'Return on Equity': 24.252645546230674,\n",
              "  'Dividend Yield': 7.017543859649122},\n",
              " 'AWAN.JK': {'Average Daily Returns': 0.005752929467478015,\n",
              "  'Beta Alpha': '',\n",
              "  'Sharpe Ratio': 1.46,\n",
              "  'Piotroski F-Score': '',\n",
              "  'Revenue Growth': '',\n",
              "  'Earning per Share': '',\n",
              "  'Price to Earning': 0,\n",
              "  'Debt to Equity': 0,\n",
              "  'Free Cash Flow': '',\n",
              "  'Return on Equity': '',\n",
              "  'Dividend Yield': 0.0},\n",
              " 'AXIO.JK': {'Average Daily Returns': 0.0011530654362704568,\n",
              "  'Beta Alpha': '',\n",
              "  'Sharpe Ratio': 0.42,\n",
              "  'Piotroski F-Score': '',\n",
              "  'Revenue Growth': '',\n",
              "  'Earning per Share': '',\n",
              "  'Price to Earning': 0,\n",
              "  'Debt to Equity': 0,\n",
              "  'Free Cash Flow': '',\n",
              "  'Return on Equity': '',\n",
              "  'Dividend Yield': 6.8181818181818175},\n",
              " 'AYAM.JK': {'Average Daily Returns': -0.0013714519693442588,\n",
              "  'Beta Alpha': '',\n",
              "  'Sharpe Ratio': -0.5,\n",
              "  'Piotroski F-Score': '',\n",
              "  'Revenue Growth': '',\n",
              "  'Earning per Share': '',\n",
              "  'Price to Earning': 0,\n",
              "  'Debt to Equity': 0,\n",
              "  'Free Cash Flow': '',\n",
              "  'Return on Equity': '',\n",
              "  'Dividend Yield': 0.0},\n",
              " 'AYLS.JK': {'Average Daily Returns': 0.0012481030575967021,\n",
              "  'Beta Alpha': {'beta': array([-0.161]), 'alpha': array([0.001])},\n",
              "  'Sharpe Ratio': 0.38,\n",
              "  'Piotroski F-Score': '',\n",
              "  'Revenue Growth': '',\n",
              "  'Earning per Share': '',\n",
              "  'Price to Earning': 0,\n",
              "  'Debt to Equity': 0,\n",
              "  'Free Cash Flow': '',\n",
              "  'Return on Equity': '',\n",
              "  'Dividend Yield': 0.0},\n",
              " 'BABP.JK': {'Average Daily Returns': 0.0010922302782442619,\n",
              "  'Beta Alpha': {'beta': array([0.048]), 'alpha': array([0.001])},\n",
              "  'Sharpe Ratio': 0.36,\n",
              "  'Piotroski F-Score': 6,\n",
              "  'Revenue Growth': -2.4153746667582916,\n",
              "  'Earning per Share': 0.2366049152175493,\n",
              "  'Price to Earning': 215.5491991918571,\n",
              "  'Debt to Equity': 0.48229124981418053,\n",
              "  'Free Cash Flow': 950634000000.0,\n",
              "  'Return on Equity': 0.6713351989412321,\n",
              "  'Dividend Yield': 19.144786274509805},\n",
              " 'BABY.JK': {'Average Daily Returns': -0.0033507822717981682,\n",
              "  'Beta Alpha': '',\n",
              "  'Sharpe Ratio': -0.97,\n",
              "  'Piotroski F-Score': '',\n",
              "  'Revenue Growth': '',\n",
              "  'Earning per Share': '',\n",
              "  'Price to Earning': 0,\n",
              "  'Debt to Equity': 0,\n",
              "  'Free Cash Flow': '',\n",
              "  'Return on Equity': '',\n",
              "  'Dividend Yield': 0.0},\n",
              " 'BACA.JK': {'Average Daily Returns': -0.0007838593730216432,\n",
              "  'Beta Alpha': {'beta': array([0.055]), 'alpha': array([-0.001])},\n",
              "  'Sharpe Ratio': -0.37,\n",
              "  'Piotroski F-Score': 5,\n",
              "  'Revenue Growth': -20.18045750349454,\n",
              "  'Earning per Share': 3.0779330737776767,\n",
              "  'Price to Earning': 42.236136031523756,\n",
              "  'Debt to Equity': 0.6325656599091314,\n",
              "  'Free Cash Flow': -197534000000.0,\n",
              "  'Return on Equity': 3.743863505712967,\n",
              "  'Dividend Yield': 0.0},\n",
              " 'BAIK.JK': {'Average Daily Returns': nan,\n",
              "  'Beta Alpha': '',\n",
              "  'Sharpe Ratio': nan,\n",
              "  'Piotroski F-Score': '',\n",
              "  'Revenue Growth': '',\n",
              "  'Earning per Share': '',\n",
              "  'Price to Earning': 0,\n",
              "  'Debt to Equity': 0,\n",
              "  'Free Cash Flow': '',\n",
              "  'Return on Equity': '',\n",
              "  'Dividend Yield': 0.0},\n",
              " 'BAJA.JK': {'Average Daily Returns': 0.0017620485747649435,\n",
              "  'Beta Alpha': {'beta': array([0.151]), 'alpha': array([0.002])},\n",
              "  'Sharpe Ratio': 0.62,\n",
              "  'Piotroski F-Score': '',\n",
              "  'Revenue Growth': -12.334202063361714,\n",
              "  'Earning per Share': 30.621400126111112,\n",
              "  'Price to Earning': 3.65757279349538,\n",
              "  'Debt to Equity': 2.720057290564111,\n",
              "  'Free Cash Flow': '',\n",
              "  'Return on Equity': 42.54447365987931,\n",
              "  'Dividend Yield': 2.8125},\n",
              " 'BALI.JK': {'Average Daily Returns': 0.0007983330578403055,\n",
              "  'Beta Alpha': {'beta': array([-0.02]), 'alpha': array([0.001])},\n",
              "  'Sharpe Ratio': 0.38,\n",
              "  'Piotroski F-Score': '',\n",
              "  'Revenue Growth': -17.71933352041532,\n",
              "  'Earning per Share': 21.45017247428786,\n",
              "  'Price to Earning': 49.88304878585941,\n",
              "  'Debt to Equity': 1.1963265685145366,\n",
              "  'Free Cash Flow': '',\n",
              "  'Return on Equity': 3.871656008660726,\n",
              "  'Dividend Yield': 9.39158878504673},\n",
              " 'BANK.JK': {'Average Daily Returns': 0.003923827226202029,\n",
              "  'Beta Alpha': '',\n",
              "  'Sharpe Ratio': 1.33,\n",
              "  'Piotroski F-Score': 5,\n",
              "  'Revenue Growth': -25.578909868186678,\n",
              "  'Earning per Share': 3.06854791014538,\n",
              "  'Price to Earning': 322.6281710403851,\n",
              "  'Debt to Equity': 0.05147409757451573,\n",
              "  'Free Cash Flow': 20486000000.0,\n",
              "  'Return on Equity': 6.996697199636973,\n",
              "  'Dividend Yield': 0.0},\n",
              " 'BAPA.JK': {'Average Daily Returns': 0.0011413794762418716,\n",
              "  'Beta Alpha': {'beta': array([-0.168]), 'alpha': array([0.001])},\n",
              "  'Sharpe Ratio': 0.39,\n",
              "  'Piotroski F-Score': '',\n",
              "  'Revenue Growth': 53.66136926745648,\n",
              "  'Earning per Share': -5.648097863272288,\n",
              "  'Price to Earning': -9.206639342802255,\n",
              "  'Debt to Equity': 0.023830962553742417,\n",
              "  'Free Cash Flow': '',\n",
              "  'Return on Equity': -2.7853781699914126,\n",
              "  'Dividend Yield': 0.0},\n",
              " 'BAPI.JK': {'Average Daily Returns': 0.0,\n",
              "  'Beta Alpha': {'beta': array([0.]), 'alpha': array([0.])},\n",
              "  'Sharpe Ratio': nan,\n",
              "  'Piotroski F-Score': '',\n",
              "  'Revenue Growth': '',\n",
              "  'Earning per Share': '',\n",
              "  'Price to Earning': 0,\n",
              "  'Debt to Equity': 0,\n",
              "  'Free Cash Flow': '',\n",
              "  'Return on Equity': '',\n",
              "  'Dividend Yield': 0.0},\n",
              " 'BATA.JK': {'Average Daily Returns': -0.0022088205892784028,\n",
              "  'Beta Alpha': {'beta': array([-0.115]), 'alpha': array([-0.002])},\n",
              "  'Sharpe Ratio': -1.2,\n",
              "  'Piotroski F-Score': '',\n",
              "  'Revenue Growth': 4.811835147682097,\n",
              "  'Earning per Share': -136.73925384615384,\n",
              "  'Price to Earning': -0.7678848395511659,\n",
              "  'Debt to Equity': 0.27122276061447753,\n",
              "  'Free Cash Flow': '',\n",
              "  'Return on Equity': -37.19284339270089,\n",
              "  'Dividend Yield': 398.1164761904762},\n",
              " 'BAUT.JK': {'Average Daily Returns': -0.001508826132069295,\n",
              "  'Beta Alpha': '',\n",
              "  'Sharpe Ratio': -0.71,\n",
              "  'Piotroski F-Score': '',\n",
              "  'Revenue Growth': '',\n",
              "  'Earning per Share': '',\n",
              "  'Price to Earning': 0,\n",
              "  'Debt to Equity': 0,\n",
              "  'Free Cash Flow': '',\n",
              "  'Return on Equity': '',\n",
              "  'Dividend Yield': 0.54},\n",
              " 'BAYU.JK': {'Average Daily Returns': 0.0007295324879979765,\n",
              "  'Beta Alpha': {'beta': array([0.071]), 'alpha': array([0.001])},\n",
              "  'Sharpe Ratio': 0.4,\n",
              "  'Piotroski F-Score': '',\n",
              "  'Revenue Growth': '',\n",
              "  'Earning per Share': '',\n",
              "  'Price to Earning': 0,\n",
              "  'Debt to Equity': 0,\n",
              "  'Free Cash Flow': '',\n",
              "  'Return on Equity': '',\n",
              "  'Dividend Yield': 10.830324909747292},\n",
              " 'BBCA.JK': {'Average Daily Returns': 0.0007017374953967918,\n",
              "  'Beta Alpha': {'beta': array([-0.008]), 'alpha': array([0.001])},\n",
              "  'Sharpe Ratio': 0.8,\n",
              "  'Piotroski F-Score': 5,\n",
              "  'Revenue Growth': -4.284418552858065,\n",
              "  'Earning per Share': 220.0860563092296,\n",
              "  'Price to Earning': 46.11832376031514,\n",
              "  'Debt to Equity': 0.03749632728183334,\n",
              "  'Free Cash Flow': 53652612000000.0,\n",
              "  'Return on Equity': 14.697534662742962,\n",
              "  'Dividend Yield': 10.333990147783252},\n",
              " 'BBHI.JK': {'Average Daily Returns': 0.006747042645440072,\n",
              "  'Beta Alpha': {'beta': array([-0.071]), 'alpha': array([0.007])},\n",
              "  'Sharpe Ratio': 1.66,\n",
              "  'Piotroski F-Score': 5,\n",
              "  'Revenue Growth': -81.16821230263353,\n",
              "  'Earning per Share': 1.7032158553038257,\n",
              "  'Price to Earning': 689.8714548370614,\n",
              "  'Debt to Equity': 1.835173068293649,\n",
              "  'Free Cash Flow': -441748478930.0,\n",
              "  'Return on Equity': 10.664064609148916,\n",
              "  'Dividend Yield': 0.0},\n",
              " 'BBKP.JK': {'Average Daily Returns': 1.5549713187385087e-05,\n",
              "  'Beta Alpha': {'beta': array([-0.015]), 'alpha': array([0.])},\n",
              "  'Sharpe Ratio': 0.01,\n",
              "  'Piotroski F-Score': 4,\n",
              "  'Revenue Growth': 40.79691083521123,\n",
              "  'Earning per Share': -17.330942824196452,\n",
              "  'Price to Earning': -4.558320963918063,\n",
              "  'Debt to Equity': 2.6844281150776585,\n",
              "  'Free Cash Flow': -12972257000000.0,\n",
              "  'Return on Equity': -38.54867376919682,\n",
              "  'Dividend Yield': 271.47860506329107},\n",
              " 'BBLD.JK': {'Average Daily Returns': 0.0008808316913558244,\n",
              "  'Beta Alpha': {'beta': array([0.099]), 'alpha': array([0.001])},\n",
              "  'Sharpe Ratio': 0.41,\n",
              "  'Piotroski F-Score': '',\n",
              "  'Revenue Growth': 27.035665305553184,\n",
              "  'Earning per Share': 12.184348511239705,\n",
              "  'Price to Earning': 46.781327657707074,\n",
              "  'Debt to Equity': 3.2549972491759442,\n",
              "  'Free Cash Flow': '',\n",
              "  'Return on Equity': 1.659115579619015,\n",
              "  'Dividend Yield': 66.0686398245614},\n",
              " 'BBMD.JK': {'Average Daily Returns': 0.0007082903701911505,\n",
              "  'Beta Alpha': {'beta': array([-0.074]), 'alpha': array([0.001])},\n",
              "  'Sharpe Ratio': 0.54,\n",
              "  'Piotroski F-Score': 5,\n",
              "  'Revenue Growth': -9.516768194060026,\n",
              "  'Earning per Share': 80.93530095302403,\n",
              "  'Price to Earning': 25.32887350588649,\n",
              "  'Debt to Equity': 0.04976813177190531,\n",
              "  'Free Cash Flow': 1902059574379.0,\n",
              "  'Return on Equity': 8.129477885729228,\n",
              "  'Dividend Yield': 8.493170731707318},\n",
              " 'BBNI.JK': {'Average Daily Returns': 0.001211718057429114,\n",
              "  'Beta Alpha': {'beta': array([-0.015]), 'alpha': array([0.001])},\n",
              "  'Sharpe Ratio': 1.06,\n",
              "  'Piotroski F-Score': 6,\n",
              "  'Revenue Growth': -4.778693030255229,\n",
              "  'Earning per Share': 5668.729079429653,\n",
              "  'Price to Earning': 1.0760789437151472,\n",
              "  'Debt to Equity': 0.48998715045413244,\n",
              "  'Free Cash Flow': 75527364000000.0,\n",
              "  'Return on Equity': 2.976974299162956,\n",
              "  'Dividend Yield': 26.013720770491805},\n",
              " 'BBRI.JK': {'Average Daily Returns': 0.0010088724125456605,\n",
              "  'Beta Alpha': {'beta': array([-0.013]), 'alpha': array([0.001])},\n",
              "  'Sharpe Ratio': 0.91,\n",
              "  'Piotroski F-Score': 6,\n",
              "  'Revenue Growth': -16.011575947356917,\n",
              "  'Earning per Share': 123.71264530913241,\n",
              "  'Price to Earning': 51.32862517111859,\n",
              "  'Debt to Equity': 0.7651531417484786,\n",
              "  'Free Cash Flow': 34179650000000.0,\n",
              "  'Return on Equity': 8.22099314605118,\n",
              "  'Dividend Yield': 22.40059011023622},\n",
              " 'BBRM.JK': {'Average Daily Returns': 0.0003357297385936013,\n",
              "  'Beta Alpha': {'beta': array([-0.066]), 'alpha': array([0.])},\n",
              "  'Sharpe Ratio': 0.19,\n",
              "  'Piotroski F-Score': '',\n",
              "  'Revenue Growth': 50.27291912163224,\n",
              "  'Earning per Share': -0.0031224974078395006,\n",
              "  'Price to Earning': -20496.414132904752,\n",
              "  'Debt to Equity': 0.16748208522053293,\n",
              "  'Free Cash Flow': '',\n",
              "  'Return on Equity': -155.3673694442629,\n",
              "  'Dividend Yield': 71.265625},\n",
              " 'BBSI.JK': {'Average Daily Returns': 0.0030628855975693985,\n",
              "  'Beta Alpha': '',\n",
              "  'Sharpe Ratio': 1.18,\n",
              "  'Piotroski F-Score': 5,\n",
              "  'Revenue Growth': -42.146753872842865,\n",
              "  'Earning per Share': 9.572317927624418,\n",
              "  'Price to Earning': 460.70346109935764,\n",
              "  'Debt to Equity': 0,\n",
              "  'Free Cash Flow': -462176656962.0,\n",
              "  'Return on Equity': 3.486243315140216,\n",
              "  'Dividend Yield': 0.0},\n",
              " 'BBSS.JK': {'Average Daily Returns': 5.394907204486437e-05,\n",
              "  'Beta Alpha': {'beta': array([-0.081]), 'alpha': array([0.])},\n",
              "  'Sharpe Ratio': 0.02,\n",
              "  'Piotroski F-Score': '',\n",
              "  'Revenue Growth': '',\n",
              "  'Earning per Share': '',\n",
              "  'Price to Earning': 0,\n",
              "  'Debt to Equity': 0,\n",
              "  'Free Cash Flow': '',\n",
              "  'Return on Equity': '',\n",
              "  'Dividend Yield': 0.0},\n",
              " 'BBTN.JK': {'Average Daily Returns': 0.0003616101906407109,\n",
              "  'Beta Alpha': {'beta': array([-0.019]), 'alpha': array([0.])},\n",
              "  'Sharpe Ratio': 0.27,\n",
              "  'Piotroski F-Score': 6,\n",
              "  'Revenue Growth': -25.885132923516142,\n",
              "  'Earning per Share': 114.1735999238698,\n",
              "  'Price to Earning': 12.086857214979425,\n",
              "  'Debt to Equity': 2.5682469396551753,\n",
              "  'Free Cash Flow': 27456689000000.0,\n",
              "  'Return on Equity': 8.016662126407324,\n",
              "  'Dividend Yield': 28.3851281884058},\n",
              " 'BBYB.JK': {'Average Daily Returns': 0.0017611287660151307,\n",
              "  'Beta Alpha': {'beta': array([0.195]), 'alpha': array([0.002])},\n",
              "  'Sharpe Ratio': 0.52,\n",
              "  'Piotroski F-Score': 6,\n",
              "  'Revenue Growth': -44.89007703080017,\n",
              "  'Earning per Share': 1.3183624770532618,\n",
              "  'Price to Earning': 221.48688625655052,\n",
              "  'Debt to Equity': 0.3164402137039842,\n",
              "  'Free Cash Flow': -127039396531.0,\n",
              "  'Return on Equity': 1.4163153332971787,\n",
              "  'Dividend Yield': 0.9180904109589043},\n",
              " 'BCAP.JK': {'Average Daily Returns': -0.0004004222626713481,\n",
              "  'Beta Alpha': {'beta': array([0.103]), 'alpha': array([-0.])},\n",
              "  'Sharpe Ratio': -0.14,\n",
              "  'Piotroski F-Score': 5,\n",
              "  'Revenue Growth': -8.193384344982434,\n",
              "  'Earning per Share': 1.456583799695435,\n",
              "  'Price to Earning': 34.326895582976256,\n",
              "  'Debt to Equity': 0.5198125520035046,\n",
              "  'Free Cash Flow': nan,\n",
              "  'Return on Equity': 1.3476239330785906,\n",
              "  'Dividend Yield': 18.907572},\n",
              " 'BCIC.JK': {'Average Daily Returns': -0.002105927280672162,\n",
              "  'Beta Alpha': {'beta': array([0.092]), 'alpha': array([-0.002])},\n",
              "  'Sharpe Ratio': -0.62,\n",
              "  'Piotroski F-Score': 3,\n",
              "  'Revenue Growth': -96.41810667356658,\n",
              "  'Earning per Share': -1708780.5686752428,\n",
              "  'Price to Earning': -6.554381648126397e-05,\n",
              "  'Debt to Equity': 0.00022449644200855026,\n",
              "  'Free Cash Flow': -1524917000000.0,\n",
              "  'Return on Equity': -33.56644471082225,\n",
              "  'Dividend Yield': 0.0},\n",
              " 'BCIP.JK': {'Average Daily Returns': 0.0006865225342369233,\n",
              "  'Beta Alpha': {'beta': array([-0.029]), 'alpha': array([0.001])},\n",
              "  'Sharpe Ratio': 0.31,\n",
              "  'Piotroski F-Score': '',\n",
              "  'Revenue Growth': 21.09883975987568,\n",
              "  'Earning per Share': 7.922851971438962,\n",
              "  'Price to Earning': 6.941944668191347,\n",
              "  'Debt to Equity': 0.06398385303001089,\n",
              "  'Free Cash Flow': '',\n",
              "  'Return on Equity': 2.5969994803038237,\n",
              "  'Dividend Yield': 0.0},\n",
              " 'BDKR.JK': {'Average Daily Returns': 0.00400038935073079,\n",
              "  'Beta Alpha': '',\n",
              "  'Sharpe Ratio': 2.31,\n",
              "  'Piotroski F-Score': '',\n",
              "  'Revenue Growth': -13.369166260596185,\n",
              "  'Earning per Share': 6.005911617703505,\n",
              "  'Price to Earning': 84.91633451559349,\n",
              "  'Debt to Equity': 0.4151706077333411,\n",
              "  'Free Cash Flow': '',\n",
              "  'Return on Equity': 5.638708105861469,\n",
              "  'Dividend Yield': 0.0},\n",
              " 'BDMN.JK': {'Average Daily Returns': 0.00022171860421264146,\n",
              "  'Beta Alpha': {'beta': array([-0.044]), 'alpha': array([0.])},\n",
              "  'Sharpe Ratio': 0.18,\n",
              "  'Piotroski F-Score': 5,\n",
              "  'Revenue Growth': 0.8915623834319119,\n",
              "  'Earning per Share': 44982.767857142855,\n",
              "  'Price to Earning': 0.06446913202873322,\n",
              "  'Debt to Equity': 0.3651841815993774,\n",
              "  'Free Cash Flow': 17572565000000.0,\n",
              "  'Return on Equity': 2.33742778832227,\n",
              "  'Dividend Yield': 85.81005258620691},\n",
              " 'BEBS.JK': {'Average Daily Returns': 0.00261191387064434,\n",
              "  'Beta Alpha': '',\n",
              "  'Sharpe Ratio': 0.68,\n",
              "  'Piotroski F-Score': '',\n",
              "  'Revenue Growth': -75.90400181084844,\n",
              "  'Earning per Share': 0.4620153074567075,\n",
              "  'Price to Earning': 108.22152251889442,\n",
              "  'Debt to Equity': 0,\n",
              "  'Free Cash Flow': '',\n",
              "  'Return on Equity': 5.604081585047522,\n",
              "  'Dividend Yield': 1.468},\n",
              " 'BEEF.JK': {'Average Daily Returns': 0.0006552074305567901,\n",
              "  'Beta Alpha': {'beta': array([-0.114]), 'alpha': array([0.001])},\n",
              "  'Sharpe Ratio': 0.3,\n",
              "  'Piotroski F-Score': '',\n",
              "  'Revenue Growth': 411.5661936861774,\n",
              "  'Earning per Share': -49.88294843538206,\n",
              "  'Price to Earning': -5.773515981579812,\n",
              "  'Debt to Equity': 0.08415991984950975,\n",
              "  'Free Cash Flow': '',\n",
              "  'Return on Equity': -4965.8455045447645,\n",
              "  'Dividend Yield': 0.0},\n",
              " 'BEER.JK': {'Average Daily Returns': -0.00014132888281988227,\n",
              "  'Beta Alpha': '',\n",
              "  'Sharpe Ratio': -0.12,\n",
              "  'Piotroski F-Score': '',\n",
              "  'Revenue Growth': '',\n",
              "  'Earning per Share': '',\n",
              "  'Price to Earning': 0,\n",
              "  'Debt to Equity': 0,\n",
              "  'Free Cash Flow': '',\n",
              "  'Return on Equity': '',\n",
              "  'Dividend Yield': 0.4730769230769231},\n",
              " 'BEKS.JK': {'Average Daily Returns': -0.00041873778401583026,\n",
              "  'Beta Alpha': {'beta': array([-0.08]), 'alpha': array([-0.])},\n",
              "  'Sharpe Ratio': -0.21,\n",
              "  'Piotroski F-Score': 4,\n",
              "  'Revenue Growth': -43.63501499179891,\n",
              "  'Earning per Share': -286.52266870195285,\n",
              "  'Price to Earning': -0.17450626237190012,\n",
              "  'Debt to Equity': 0.11301788202978744,\n",
              "  'Free Cash Flow': -1926662000000.0,\n",
              "  'Return on Equity': -22.63236634471251,\n",
              "  'Dividend Yield': 21.511120000000002},\n",
              " 'BELI.JK': {'Average Daily Returns': 0.00023405000776684665,\n",
              "  'Beta Alpha': '',\n",
              "  'Sharpe Ratio': 0.44,\n",
              "  'Piotroski F-Score': '',\n",
              "  'Revenue Growth': -51.46844407415122,\n",
              "  'Earning per Share': -19.98138597639402,\n",
              "  'Price to Earning': -23.722078166148382,\n",
              "  'Debt to Equity': 0.597405861898872,\n",
              "  'Free Cash Flow': '',\n",
              "  'Return on Equity': -94.18413717922047,\n",
              "  'Dividend Yield': 0.0},\n",
              " 'BELL.JK': {'Average Daily Returns': 0.00035667809563233216,\n",
              "  'Beta Alpha': {'beta': array([0.008]), 'alpha': array([0.])},\n",
              "  'Sharpe Ratio': 0.12,\n",
              "  'Piotroski F-Score': '',\n",
              "  'Revenue Growth': '',\n",
              "  'Earning per Share': '',\n",
              "  'Price to Earning': 0,\n",
              "  'Debt to Equity': 0,\n",
              "  'Free Cash Flow': '',\n",
              "  'Return on Equity': '',\n",
              "  'Dividend Yield': 3.897361764705882},\n",
              " 'BESS.JK': {'Average Daily Returns': 0.0006971994331593677,\n",
              "  'Beta Alpha': {'beta': array([-0.107]), 'alpha': array([0.001])},\n",
              "  'Sharpe Ratio': 0.26,\n",
              "  'Piotroski F-Score': '',\n",
              "  'Revenue Growth': '',\n",
              "  'Earning per Share': '',\n",
              "  'Price to Earning': 0,\n",
              "  'Debt to Equity': 0,\n",
              "  'Free Cash Flow': '',\n",
              "  'Return on Equity': '',\n",
              "  'Dividend Yield': 0.0},\n",
              " 'BEST.JK': {'Average Daily Returns': 0.00045547284498837973,\n",
              "  'Beta Alpha': {'beta': array([0.112]), 'alpha': array([0.])},\n",
              "  'Sharpe Ratio': 0.3,\n",
              "  'Piotroski F-Score': '',\n",
              "  'Revenue Growth': 5.432115993196679,\n",
              "  'Earning per Share': -11.9388272714605,\n",
              "  'Price to Earning': -11.307643282746412,\n",
              "  'Debt to Equity': 0.3329502676131434,\n",
              "  'Free Cash Flow': '',\n",
              "  'Return on Equity': -2.643950162437862,\n",
              "  'Dividend Yield': 27.762962962962966},\n",
              " 'BFIN.JK': {'Average Daily Returns': 0.0021692798526595836,\n",
              "  'Beta Alpha': {'beta': array([0.105]), 'alpha': array([0.002])},\n",
              "  'Sharpe Ratio': 1.14,\n",
              "  'Piotroski F-Score': '',\n",
              "  'Revenue Growth': 13.094169961320636,\n",
              "  'Earning per Share': 46.65046497770056,\n",
              "  'Price to Earning': 27.866817632394756,\n",
              "  'Debt to Equity': 2.026389806201797,\n",
              "  'Free Cash Flow': '',\n",
              "  'Return on Equity': 10.620331055153152,\n",
              "  'Dividend Yield': 25.303175},\n",
              " 'BGTG.JK': {'Average Daily Returns': 0.0016386514618035985,\n",
              "  'Beta Alpha': {'beta': array([0.036]), 'alpha': array([0.002])},\n",
              "  'Sharpe Ratio': 0.51,\n",
              "  'Piotroski F-Score': 5,\n",
              "  'Revenue Growth': -2.0619295753822993,\n",
              "  'Earning per Share': 0.1334112034253229,\n",
              "  'Price to Earning': 532.1891878424015,\n",
              "  'Debt to Equity': 0.016173818072643478,\n",
              "  'Free Cash Flow': 992851000000.0,\n",
              "  'Return on Equity': 0.28074179743223965,\n",
              "  'Dividend Yield': 0.0},\n",
              " 'BHAT.JK': {'Average Daily Returns': -4.169945347708085e-05,\n",
              "  'Beta Alpha': {'beta': array([0.06]), 'alpha': array([-0.])},\n",
              "  'Sharpe Ratio': -0.04,\n",
              "  'Piotroski F-Score': '',\n",
              "  'Revenue Growth': -25.492198718831943,\n",
              "  'Earning per Share': 2.3049925644,\n",
              "  'Price to Earning': 180.47780562289435,\n",
              "  'Debt to Equity': 0.4815240220446851,\n",
              "  'Free Cash Flow': '',\n",
              "  'Return on Equity': 2.233040379574323,\n",
              "  'Dividend Yield': 0.0},\n",
              " 'BHIT.JK': {'Average Daily Returns': 0.0006079426423596473,\n",
              "  'Beta Alpha': {'beta': array([0.086]), 'alpha': array([0.001])},\n",
              "  'Sharpe Ratio': 0.27,\n",
              "  'Piotroski F-Score': '',\n",
              "  'Revenue Growth': -15.32848226485106,\n",
              "  'Earning per Share': 1.8069084114264415,\n",
              "  'Price to Earning': 27.671574100719425,\n",
              "  'Debt to Equity': 0.897117084328873,\n",
              "  'Free Cash Flow': '',\n",
              "  'Return on Equity': 1.0461102362379338,\n",
              "  'Dividend Yield': 51.0},\n",
              " 'BIKA.JK': {'Average Daily Returns': -0.00023271168089205924,\n",
              "  'Beta Alpha': {'beta': array([-0.193]), 'alpha': array([-0.])},\n",
              "  'Sharpe Ratio': -0.07,\n",
              "  'Piotroski F-Score': '',\n",
              "  'Revenue Growth': '',\n",
              "  'Earning per Share': '',\n",
              "  'Price to Earning': 0,\n",
              "  'Debt to Equity': 0,\n",
              "  'Free Cash Flow': '',\n",
              "  'Return on Equity': '',\n",
              "  'Dividend Yield': 0.0},\n",
              " 'BIKE.JK': {'Average Daily Returns': 0.0020717583037269784,\n",
              "  'Beta Alpha': '',\n",
              "  'Sharpe Ratio': 1.02,\n",
              "  'Piotroski F-Score': '',\n",
              "  'Revenue Growth': '',\n",
              "  'Earning per Share': '',\n",
              "  'Price to Earning': 0,\n",
              "  'Debt to Equity': 0,\n",
              "  'Free Cash Flow': '',\n",
              "  'Return on Equity': '',\n",
              "  'Dividend Yield': 2.727272727272727},\n",
              " 'BIMA.JK': {'Average Daily Returns': 0.0021789138036787652,\n",
              "  'Beta Alpha': {'beta': array([-0.328]), 'alpha': array([0.002])},\n",
              "  'Sharpe Ratio': 0.59,\n",
              "  'Piotroski F-Score': '',\n",
              "  'Revenue Growth': '',\n",
              "  'Earning per Share': '',\n",
              "  'Price to Earning': 0,\n",
              "  'Debt to Equity': 0,\n",
              "  'Free Cash Flow': '',\n",
              "  'Return on Equity': '',\n",
              "  'Dividend Yield': 0.0},\n",
              " 'BINA.JK': {'Average Daily Returns': 0.0021706537757826493,\n",
              "  'Beta Alpha': {'beta': array([0.052]), 'alpha': array([0.002])},\n",
              "  'Sharpe Ratio': 1.09,\n",
              "  'Piotroski F-Score': 6,\n",
              "  'Revenue Growth': -23.615826826667323,\n",
              "  'Earning per Share': 3.1584163580407907,\n",
              "  'Price to Earning': 1329.7803468208092,\n",
              "  'Debt to Equity': 0.05631297671269792,\n",
              "  'Free Cash Flow': 2305722000000.0,\n",
              "  'Return on Equity': 1.5919233878653634,\n",
              "  'Dividend Yield': 0.0},\n",
              " 'BINO.JK': {'Average Daily Returns': -0.00041240561222515856,\n",
              "  'Beta Alpha': '',\n",
              "  'Sharpe Ratio': -0.47,\n",
              "  'Piotroski F-Score': '',\n",
              "  'Revenue Growth': '',\n",
              "  'Earning per Share': '',\n",
              "  'Price to Earning': 0,\n",
              "  'Debt to Equity': 0,\n",
              "  'Free Cash Flow': '',\n",
              "  'Return on Equity': '',\n",
              "  'Dividend Yield': 1.3678748091603055},\n",
              " 'BIPI.JK': {'Average Daily Returns': 0.0012122012753250579,\n",
              "  'Beta Alpha': {'beta': array([-0.074]), 'alpha': array([0.001])},\n",
              "  'Sharpe Ratio': 0.6,\n",
              "  'Piotroski F-Score': '',\n",
              "  'Revenue Growth': 19.70787867370111,\n",
              "  'Earning per Share': 0.00033818577321239967,\n",
              "  'Price to Earning': 242470.28259376067,\n",
              "  'Debt to Equity': 2.7935903151490105,\n",
              "  'Free Cash Flow': '',\n",
              "  'Return on Equity': 6.719360743706463,\n",
              "  'Dividend Yield': 1.2195121951219512},\n",
              " 'BIPP.JK': {'Average Daily Returns': 0.00021167078579553475,\n",
              "  'Beta Alpha': {'beta': array([-0.05]), 'alpha': array([0.])},\n",
              "  'Sharpe Ratio': 0.16,\n",
              "  'Piotroski F-Score': '',\n",
              "  'Revenue Growth': 80.22278368344821,\n",
              "  'Earning per Share': 30.743625363018392,\n",
              "  'Price to Earning': 1.626353411791999,\n",
              "  'Debt to Equity': 0.7178635584531693,\n",
              "  'Free Cash Flow': '',\n",
              "  'Return on Equity': 6.233977844309382,\n",
              "  'Dividend Yield': 0.0},\n",
              " 'BIRD.JK': {'Average Daily Returns': 0.0009391599161653262,\n",
              "  'Beta Alpha': {'beta': array([0.012]), 'alpha': array([0.001])},\n",
              "  'Sharpe Ratio': 0.51,\n",
              "  'Piotroski F-Score': '',\n",
              "  'Revenue Growth': -7.8430198289746995,\n",
              "  'Earning per Share': -64.48703171879022,\n",
              "  'Price to Earning': -27.214774090596396,\n",
              "  'Debt to Equity': 0.16942586383437178,\n",
              "  'Free Cash Flow': '',\n",
              "  'Return on Equity': -3.140111566761014,\n",
              "  'Dividend Yield': 26.315099715099716},\n",
              " 'BISI.JK': {'Average Daily Returns': 0.0008915836666658505,\n",
              "  'Beta Alpha': {'beta': array([-0.037]), 'alpha': array([0.001])},\n",
              "  'Sharpe Ratio': 0.73,\n",
              "  'Piotroski F-Score': '',\n",
              "  'Revenue Growth': -10.042786151618401,\n",
              "  'Earning per Share': 91.81766666666667,\n",
              "  'Price to Earning': 18.841689870867263,\n",
              "  'Debt to Equity': 0.0002734061277148374,\n",
              "  'Free Cash Flow': '',\n",
              "  'Return on Equity': 11.206925312118319,\n",
              "  'Dividend Yield': 34.45086705202312},\n",
              " 'BJBR.JK': {'Average Daily Returns': 0.0006446874851856466,\n",
              "  'Beta Alpha': {'beta': array([-0.015]), 'alpha': array([0.001])},\n",
              "  'Sharpe Ratio': 0.58,\n",
              "  'Piotroski F-Score': 5,\n",
              "  'Revenue Growth': -16.228645756760585,\n",
              "  'Earning per Share': 543.0848540714377,\n",
              "  'Price to Earning': 2.2003927950507878,\n",
              "  'Debt to Equity': 2.557433460694924,\n",
              "  'Free Cash Flow': -981322000000.0,\n",
              "  'Return on Equity': 14.107735391475446,\n",
              "  'Dividend Yield': 90.66097447698745},\n",
              " 'BJTM.JK': {'Average Daily Returns': 0.00046845610444755305,\n",
              "  'Beta Alpha': {'beta': array([0.051]), 'alpha': array([0.])},\n",
              "  'Sharpe Ratio': 0.43,\n",
              "  'Piotroski F-Score': 4,\n",
              "  'Revenue Growth': -10.163129656751916,\n",
              "  'Earning per Share': 483.21743849947364,\n",
              "  'Price to Earning': 1.2416770426646213,\n",
              "  'Debt to Equity': 1.031487738164756,\n",
              "  'Free Cash Flow': -197622000000.0,\n",
              "  'Return on Equity': 14.88225625960275,\n",
              "  'Dividend Yield': 92.53333333333335},\n",
              " 'BKDP.JK': {'Average Daily Returns': 0.0005912380287797273,\n",
              "  'Beta Alpha': {'beta': array([0.018]), 'alpha': array([0.001])},\n",
              "  'Sharpe Ratio': 0.23,\n",
              "  'Piotroski F-Score': '',\n",
              "  'Revenue Growth': -16.422227822245656,\n",
              "  'Earning per Share': -4.129943332941375,\n",
              "  'Price to Earning': -12.590971790154136,\n",
              "  'Debt to Equity': 0.3116201732969132,\n",
              "  'Free Cash Flow': '',\n",
              "  'Return on Equity': -6.44687189152082,\n",
              "  'Dividend Yield': 0.0},\n",
              " 'BKSL.JK': {'Average Daily Returns': 6.112061098144509e-06,\n",
              "  'Beta Alpha': {'beta': array([0.019]), 'alpha': array([-0.])},\n",
              "  'Sharpe Ratio': 0.01,\n",
              "  'Piotroski F-Score': '',\n",
              "  'Revenue Growth': -50.38513354856815,\n",
              "  'Earning per Share': -1702.8927938853146,\n",
              "  'Price to Earning': -0.029949037416288883,\n",
              "  'Debt to Equity': 0.25328618572334866,\n",
              "  'Free Cash Flow': '',\n",
              "  'Return on Equity': -6.969803496736053,\n",
              "  'Dividend Yield': 0.4732490196078431},\n",
              " 'BKSW.JK': {'Average Daily Returns': 0.0010480574561471786,\n",
              "  'Beta Alpha': {'beta': array([-0.059]), 'alpha': array([0.001])},\n",
              "  'Sharpe Ratio': 0.37,\n",
              "  'Piotroski F-Score': 2,\n",
              "  'Revenue Growth': -32.268116192916246,\n",
              "  'Earning per Share': -12.007736634932899,\n",
              "  'Price to Earning': -5.996134174906673,\n",
              "  'Debt to Equity': 0.12000777357686747,\n",
              "  'Free Cash Flow': -4176897000000.0,\n",
              "  'Return on Equity': -10.26562806235322,\n",
              "  'Dividend Yield': 0.0},\n",
              " 'BLTA.JK': {'Average Daily Returns': 0.0,\n",
              "  'Beta Alpha': {'beta': array([0.]), 'alpha': array([0.])},\n",
              "  'Sharpe Ratio': nan,\n",
              "  'Piotroski F-Score': '',\n",
              "  'Revenue Growth': -6.619527030418001,\n",
              "  'Earning per Share': -3.484280968793287e-05,\n",
              "  'Price to Earning': -1435016.304592581,\n",
              "  'Debt to Equity': 0.9331376245963096,\n",
              "  'Free Cash Flow': '',\n",
              "  'Return on Equity': -2.9272627801760147,\n",
              "  'Dividend Yield': 211.665194},\n",
              " 'BLTZ.JK': {'Average Daily Returns': 0.0003512738246226937,\n",
              "  'Beta Alpha': {'beta': array([-0.09]), 'alpha': array([0.])},\n",
              "  'Sharpe Ratio': 0.12,\n",
              "  'Piotroski F-Score': '',\n",
              "  'Revenue Growth': -10.202448964915979,\n",
              "  'Earning per Share': -815.4793765475846,\n",
              "  'Price to Earning': -2.2256847348905233,\n",
              "  'Debt to Equity': 1.8437204063853054,\n",
              "  'Free Cash Flow': '',\n",
              "  'Return on Equity': -55.984869310294414,\n",
              "  'Dividend Yield': 0.0},\n",
              " 'BLUE.JK': {'Average Daily Returns': -8.782540177203782e-05,\n",
              "  'Beta Alpha': {'beta': array([-0.046]), 'alpha': array([-0.])},\n",
              "  'Sharpe Ratio': -0.06,\n",
              "  'Piotroski F-Score': '',\n",
              "  'Revenue Growth': '',\n",
              "  'Earning per Share': '',\n",
              "  'Price to Earning': 0,\n",
              "  'Debt to Equity': 0,\n",
              "  'Free Cash Flow': '',\n",
              "  'Return on Equity': '',\n",
              "  'Dividend Yield': 26.09289617486339},\n",
              " 'BMAS.JK': {'Average Daily Returns': 0.0032082776466171694,\n",
              "  'Beta Alpha': {'beta': array([0.132]), 'alpha': array([0.003])},\n",
              "  'Sharpe Ratio': 1.0,\n",
              "  'Piotroski F-Score': 6,\n",
              "  'Revenue Growth': -12.999804169253048,\n",
              "  'Earning per Share': 3.737750698248391,\n",
              "  'Price to Earning': 144.47191468737023,\n",
              "  'Debt to Equity': 0.006550254025133794,\n",
              "  'Free Cash Flow': 869587449000.0,\n",
              "  'Return on Equity': 5.215950183776077,\n",
              "  'Dividend Yield': 2.19449037037037},\n",
              " 'BMBL.JK': {'Average Daily Returns': -0.007345945748027371,\n",
              "  'Beta Alpha': '',\n",
              "  'Sharpe Ratio': -2.73,\n",
              "  'Piotroski F-Score': '',\n",
              "  'Revenue Growth': '',\n",
              "  'Earning per Share': '',\n",
              "  'Price to Earning': 0,\n",
              "  'Debt to Equity': 0,\n",
              "  'Free Cash Flow': '',\n",
              "  'Return on Equity': '',\n",
              "  'Dividend Yield': 0.0},\n",
              " 'BMHS.JK': {'Average Daily Returns': 1.5732189917703147e-05,\n",
              "  'Beta Alpha': '',\n",
              "  'Sharpe Ratio': 0.01,\n",
              "  'Piotroski F-Score': '',\n",
              "  'Revenue Growth': -39.27733159133364,\n",
              "  'Earning per Share': 10.320435708798753,\n",
              "  'Price to Earning': 31.200233118595648,\n",
              "  'Debt to Equity': 1.0738658139239934,\n",
              "  'Free Cash Flow': '',\n",
              "  'Return on Equity': 8.732843005272665,\n",
              "  'Dividend Yield': 1.2599751552795029},\n",
              " 'BMRI.JK': {'Average Daily Returns': 0.0013362289113617884,\n",
              "  'Beta Alpha': {'beta': array([0.044]), 'alpha': array([0.001])},\n",
              "  'Sharpe Ratio': 1.18,\n",
              "  'Piotroski F-Score': 6,\n",
              "  'Revenue Growth': -11.955925787507748,\n",
              "  'Earning per Share': 179.99486939812365,\n",
              "  'Price to Earning': 39.58446162285043,\n",
              "  'Debt to Equity': 1.018590890563945,\n",
              "  'Free Cash Flow': 116599094000000.0,\n",
              "  'Return on Equity': 8.870868759396,\n",
              "  'Dividend Yield': 20.843646063157895},\n",
              " 'BMSR.JK': {'Average Daily Returns': 0.0035036172955515647,\n",
              "  'Beta Alpha': {'beta': array([-0.233]), 'alpha': array([0.004])},\n",
              "  'Sharpe Ratio': 0.99,\n",
              "  'Piotroski F-Score': '',\n",
              "  'Revenue Growth': -21.51705603282141,\n",
              "  'Earning per Share': -1.1009502734644583,\n",
              "  'Price to Earning': -296.10783325767,\n",
              "  'Debt to Equity': 1.2252308219973707,\n",
              "  'Free Cash Flow': '',\n",
              "  'Return on Equity': -1.0661993730482817,\n",
              "  'Dividend Yield': 0.0},\n",
              " 'BMTR.JK': {'Average Daily Returns': 0.000719733737416638,\n",
              "  'Beta Alpha': {'beta': array([-0.091]), 'alpha': array([0.001])},\n",
              "  'Sharpe Ratio': 0.42,\n",
              "  'Piotroski F-Score': '',\n",
              "  'Revenue Growth': -13.683967715291963,\n",
              "  'Earning per Share': 55.816359338028526,\n",
              "  'Price to Earning': 4.228151079699848,\n",
              "  'Debt to Equity': 0.6284537406756245,\n",
              "  'Free Cash Flow': '',\n",
              "  'Return on Equity': 7.45963932344705,\n",
              "  'Dividend Yield': 62.91949152542373},\n",
              " 'BNBA.JK': {'Average Daily Returns': 0.002436919482237229,\n",
              "  'Beta Alpha': {'beta': array([0.021]), 'alpha': array([0.002])},\n",
              "  'Sharpe Ratio': 0.75,\n",
              "  'Piotroski F-Score': 6,\n",
              "  'Revenue Growth': -0.27354272512665007,\n",
              "  'Earning per Share': 10.346320292798111,\n",
              "  'Price to Earning': 62.824268107421084,\n",
              "  'Debt to Equity': 0.02349129699620208,\n",
              "  'Free Cash Flow': 667095414996.0,\n",
              "  'Return on Equity': 2.3223569250559315,\n",
              "  'Dividend Yield': 10.895772153846153},\n",
              " 'BNBR.JK': {'Average Daily Returns': -0.0014535445355828448,\n",
              "  'Beta Alpha': {'beta': array([0.023]), 'alpha': array([-0.001])},\n",
              "  'Sharpe Ratio': -0.66,\n",
              "  'Piotroski F-Score': '',\n",
              "  'Revenue Growth': 2.568230235761614,\n",
              "  'Earning per Share': -47971.89190305132,\n",
              "  'Price to Earning': -0.0010422770088169002,\n",
              "  'Debt to Equity': 1.4909807560926724,\n",
              "  'Free Cash Flow': '',\n",
              "  'Return on Equity': -64.23828289683752,\n",
              "  'Dividend Yield': 0.0},\n",
              " 'BNGA.JK': {'Average Daily Returns': 0.0011918920262559733,\n",
              "  'Beta Alpha': {'beta': array([0.038]), 'alpha': array([0.001])},\n",
              "  'Sharpe Ratio': 1.04,\n",
              "  'Piotroski F-Score': 6,\n",
              "  'Revenue Growth': -8.5489378054953,\n",
              "  'Earning per Share': 28229.606181758845,\n",
              "  'Price to Earning': 0.0712018434496902,\n",
              "  'Debt to Equity': 0.7260921410842517,\n",
              "  'Free Cash Flow': 29576625000000.0,\n",
              "  'Return on Equity': 4.9036379814790045,\n",
              "  'Dividend Yield': 22.76862487562189},\n",
              " 'BNII.JK': {'Average Daily Returns': 0.0008262356074600636,\n",
              "  'Beta Alpha': {'beta': array([-0.041]), 'alpha': array([0.001])},\n",
              "  'Sharpe Ratio': 0.48,\n",
              "  'Piotroski F-Score': 5,\n",
              "  'Revenue Growth': 5.798833799206612,\n",
              "  'Earning per Share': 3262.5559768769886,\n",
              "  'Price to Earning': 0.07724005405149295,\n",
              "  'Debt to Equity': 0.6350154037933045,\n",
              "  'Free Cash Flow': 30745060000000.0,\n",
              "  'Return on Equity': 4.697811198997126,\n",
              "  'Dividend Yield': 24.577357142857146},\n",
              " 'BNLI.JK': {'Average Daily Returns': 0.00014040118422968035,\n",
              "  'Beta Alpha': {'beta': array([-0.019]), 'alpha': array([0.])},\n",
              "  'Sharpe Ratio': 0.08,\n",
              "  'Piotroski F-Score': 5,\n",
              "  'Revenue Growth': -9.330643319096712,\n",
              "  'Earning per Share': 26844.554728015417,\n",
              "  'Price to Earning': 0.03483015492241407,\n",
              "  'Debt to Equity': 0.4016452496657181,\n",
              "  'Free Cash Flow': 1622106000000.0,\n",
              "  'Return on Equity': 2.0574773612822264,\n",
              "  'Dividend Yield': 4.852517112299465},\n",
              " 'BOBA.JK': {'Average Daily Returns': -0.0010015079393190555,\n",
              "  'Beta Alpha': '',\n",
              "  'Sharpe Ratio': -0.55,\n",
              "  'Piotroski F-Score': '',\n",
              "  'Revenue Growth': '',\n",
              "  'Earning per Share': '',\n",
              "  'Price to Earning': 0,\n",
              "  'Debt to Equity': 0,\n",
              "  'Free Cash Flow': '',\n",
              "  'Return on Equity': '',\n",
              "  'Dividend Yield': 8.403105590062111},\n",
              " 'BOGA.JK': {'Average Daily Returns': -0.00021305554984896725,\n",
              "  'Beta Alpha': {'beta': array([0.054]), 'alpha': array([-0.])},\n",
              "  'Sharpe Ratio': -0.32,\n",
              "  'Piotroski F-Score': '',\n",
              "  'Revenue Growth': -14.077188499897847,\n",
              "  'Earning per Share': 2.5616633314280715,\n",
              "  'Price to Earning': 435.2640670303899,\n",
              "  'Debt to Equity': 0.613318945709126,\n",
              "  'Free Cash Flow': '',\n",
              "  'Return on Equity': 2.229304781788637,\n",
              "  'Dividend Yield': 0.0},\n",
              " 'BOLA.JK': {'Average Daily Returns': 0.0006747076276568789,\n",
              "  'Beta Alpha': {'beta': array([-0.038]), 'alpha': array([0.001])},\n",
              "  'Sharpe Ratio': 0.27,\n",
              "  'Piotroski F-Score': '',\n",
              "  'Revenue Growth': -60.12774538692548,\n",
              "  'Earning per Share': 0.8709293243333334,\n",
              "  'Price to Earning': 157.30323480021622,\n",
              "  'Debt to Equity': 0.025531893942279893,\n",
              "  'Free Cash Flow': '',\n",
              "  'Return on Equity': 1.0955823533776432,\n",
              "  'Dividend Yield': 0.7299270072992701},\n",
              " 'BOLT.JK': {'Average Daily Returns': 0.0006481932397755328,\n",
              "  'Beta Alpha': {'beta': array([-0.015]), 'alpha': array([0.001])},\n",
              "  'Sharpe Ratio': 0.23,\n",
              "  'Piotroski F-Score': '',\n",
              "  'Revenue Growth': -33.2509557261429,\n",
              "  'Earning per Share': -23.849885405946523,\n",
              "  'Price to Earning': -34.17207194617359,\n",
              "  'Debt to Equity': 0.45868045884638514,\n",
              "  'Free Cash Flow': '',\n",
              "  'Return on Equity': -8.858115214394035,\n",
              "  'Dividend Yield': 16.169325153374235},\n",
              " 'BOSS.JK': {'Average Daily Returns': 0.0005590843281249815,\n",
              "  'Beta Alpha': {'beta': array([-0.037]), 'alpha': array([0.001])},\n",
              "  'Sharpe Ratio': 0.18,\n",
              "  'Piotroski F-Score': '',\n",
              "  'Revenue Growth': 291.482243331268,\n",
              "  'Earning per Share': -75.92028220857142,\n",
              "  'Price to Earning': -0.6585855392718098,\n",
              "  'Debt to Equity': 1.9498523728734494,\n",
              "  'Free Cash Flow': '',\n",
              "  'Return on Equity': -121.65105099249675,\n",
              "  'Dividend Yield': 0.0},\n",
              " 'BPFI.JK': {'Average Daily Returns': -0.00028550057115356943,\n",
              "  'Beta Alpha': {'beta': array([-0.001]), 'alpha': array([-0.])},\n",
              "  'Sharpe Ratio': -0.14,\n",
              "  'Piotroski F-Score': 5,\n",
              "  'Revenue Growth': 9.894374281136457,\n",
              "  'Earning per Share': 15.431001204251366,\n",
              "  'Price to Earning': 21.385520980264218,\n",
              "  'Debt to Equity': 0.7005583018814547,\n",
              "  'Free Cash Flow': 436200234304.0,\n",
              "  'Return on Equity': 4.802971943708653,\n",
              "  'Dividend Yield': 17.12303484848485},\n",
              " 'BPII.JK': {'Average Daily Returns': 0.00014028762764623,\n",
              "  'Beta Alpha': {'beta': array([-0.008]), 'alpha': array([0.])},\n",
              "  'Sharpe Ratio': 0.15,\n",
              "  'Piotroski F-Score': '',\n",
              "  'Revenue Growth': 23.093504159610806,\n",
              "  'Earning per Share': 190.55235648957523,\n",
              "  'Price to Earning': 54.31578066349565,\n",
              "  'Debt to Equity': 0.7541773912206687,\n",
              "  'Free Cash Flow': '',\n",
              "  'Return on Equity': 8.838311205874993,\n",
              "  'Dividend Yield': 2.1739130434782608},\n",
              " 'BPTR.JK': {'Average Daily Returns': 0.0019259308434190889,\n",
              "  'Beta Alpha': {'beta': array([-0.091]), 'alpha': array([0.002])},\n",
              "  'Sharpe Ratio': 0.53,\n",
              "  'Piotroski F-Score': '',\n",
              "  'Revenue Growth': '',\n",
              "  'Earning per Share': '',\n",
              "  'Price to Earning': 0,\n",
              "  'Debt to Equity': 0,\n",
              "  'Free Cash Flow': '',\n",
              "  'Return on Equity': '',\n",
              "  'Dividend Yield': 0.0},\n",
              " 'BRAM.JK': {'Average Daily Returns': 0.00037960265220576134,\n",
              "  'Beta Alpha': {'beta': array([-0.019]), 'alpha': array([0.])},\n",
              "  'Sharpe Ratio': 0.19,\n",
              "  'Piotroski F-Score': '',\n",
              "  'Revenue Growth': -35.13706853321952,\n",
              "  'Earning per Share': -0.00865565266009688,\n",
              "  'Price to Earning': -678747.1991666361,\n",
              "  'Debt to Equity': 0.034638363607059484,\n",
              "  'Free Cash Flow': '',\n",
              "  'Return on Equity': -2.0133873715754804,\n",
              "  'Dividend Yield': 68.68085106382978},\n",
              " 'BREN.JK': {'Average Daily Returns': 0.02380265553263608,\n",
              "  'Beta Alpha': '',\n",
              "  'Sharpe Ratio': 4.51,\n",
              "  'Piotroski F-Score': '',\n",
              "  'Revenue Growth': -3.1113104387731174,\n",
              "  'Earning per Share': 0.0004761708947838442,\n",
              "  'Price to Earning': 12863028.940020407,\n",
              "  'Debt to Equity': 4.9679288585045445,\n",
              "  'Free Cash Flow': '',\n",
              "  'Return on Equity': 15.249222637932396,\n",
              "  'Dividend Yield': 0.06383673469387754},\n",
              " 'BRIS.JK': {'Average Daily Returns': 0.00300772879151432,\n",
              "  'Beta Alpha': {'beta': array([-0.077]), 'alpha': array([0.003])},\n",
              "  'Sharpe Ratio': 1.27,\n",
              "  'Piotroski F-Score': 6,\n",
              "  'Revenue Growth': -7.937300395298934,\n",
              "  'Earning per Share': 47.424284040703206,\n",
              "  'Price to Earning': 54.8242330399438,\n",
              "  'Debt to Equity': 0.5529673003370947,\n",
              "  'Free Cash Flow': 13280711000000.0,\n",
              "  'Return on Equity': 10.061327374673718,\n",
              "  'Dividend Yield': 1.0868268846153848},\n",
              " 'BRMS.JK': {'Average Daily Returns': 0.0021458915790988965,\n",
              "  'Beta Alpha': {'beta': array([-0.064]), 'alpha': array([0.002])},\n",
              "  'Sharpe Ratio': 0.84,\n",
              "  'Piotroski F-Score': '',\n",
              "  'Revenue Growth': -21.124036797019695,\n",
              "  'Earning per Share': 0.00015462073309047597,\n",
              "  'Price to Earning': 1054192.3889639103,\n",
              "  'Debt to Equity': 0.08337769289799137,\n",
              "  'Free Cash Flow': '',\n",
              "  'Return on Equity': 0.5302177400941042,\n",
              "  'Dividend Yield': 0.0},\n",
              " 'BRNA.JK': {'Average Daily Returns': 0.0004724679733546832,\n",
              "  'Beta Alpha': {'beta': array([0.177]), 'alpha': array([0.])},\n",
              "  'Sharpe Ratio': 0.21,\n",
              "  'Piotroski F-Score': '',\n",
              "  'Revenue Growth': 6.861789794301792,\n",
              "  'Earning per Share': -169.05787020362786,\n",
              "  'Price to Earning': -5.708104561104851,\n",
              "  'Debt to Equity': 1.0543138608320646,\n",
              "  'Free Cash Flow': '',\n",
              "  'Return on Equity': -22.70839434388908,\n",
              "  'Dividend Yield': 19.00429139896373},\n",
              " 'BRPT.JK': {'Average Daily Returns': 0.0004462500767703452,\n",
              "  'Beta Alpha': {'beta': array([0.003]), 'alpha': array([0.])},\n",
              "  'Sharpe Ratio': 0.21,\n",
              "  'Piotroski F-Score': '',\n",
              "  'Revenue Growth': -26.032178412349126,\n",
              "  'Earning per Share': 0.00045288783038249846,\n",
              "  'Price to Earning': 2230132.7883926085,\n",
              "  'Debt to Equity': 3.2457350092330493,\n",
              "  'Free Cash Flow': '',\n",
              "  'Return on Equity': 3.1781641007639956,\n",
              "  'Dividend Yield': 1.4941933663366336},\n",
              " 'BSBK.JK': {'Average Daily Returns': -0.0016761567059423253,\n",
              "  'Beta Alpha': '',\n",
              "  'Sharpe Ratio': -0.56,\n",
              "  'Piotroski F-Score': '',\n",
              "  'Revenue Growth': -36.78916282623578,\n",
              "  'Earning per Share': -4.36061421838336,\n",
              "  'Price to Earning': -11.924925571443536,\n",
              "  'Debt to Equity': -3.768694020214371,\n",
              "  'Free Cash Flow': '',\n",
              "  'Return on Equity': 97.87303314811582,\n",
              "  'Dividend Yield': 0.0},\n",
              " 'BSDE.JK': {'Average Daily Returns': 0.0005942719918544927,\n",
              "  'Beta Alpha': {'beta': array([-0.013]), 'alpha': array([0.001])},\n",
              "  'Sharpe Ratio': 0.46,\n",
              "  'Piotroski F-Score': '',\n",
              "  'Revenue Growth': -19.258670787179504,\n",
              "  'Earning per Share': 13.469875355189307,\n",
              "  'Price to Earning': 75.35333276925746,\n",
              "  'Debt to Equity': 0.5035336667124629,\n",
              "  'Free Cash Flow': '',\n",
              "  'Return on Equity': 0.9352825821050816,\n",
              "  'Dividend Yield': 7.909551527093596},\n",
              " 'BSIM.JK': {'Average Daily Returns': 0.0010749244441393847,\n",
              "  'Beta Alpha': {'beta': array([-0.038]), 'alpha': array([0.001])},\n",
              "  'Sharpe Ratio': 0.51,\n",
              "  'Piotroski F-Score': 6,\n",
              "  'Revenue Growth': 14.607828429209857,\n",
              "  'Earning per Share': 6.011401654826592,\n",
              "  'Price to Earning': 156.36952144850744,\n",
              "  'Debt to Equity': 0.10408605359226686,\n",
              "  'Free Cash Flow': 2359536000000.0,\n",
              "  'Return on Equity': 1.956827681214837,\n",
              "  'Dividend Yield': 0.0},\n",
              " 'BSML.JK': {'Average Daily Returns': 0.0020983713762898876,\n",
              "  'Beta Alpha': '',\n",
              "  'Sharpe Ratio': 0.58,\n",
              "  'Piotroski F-Score': '',\n",
              "  'Revenue Growth': '',\n",
              "  'Earning per Share': '',\n",
              "  'Price to Earning': 0,\n",
              "  'Debt to Equity': 0,\n",
              "  'Free Cash Flow': '',\n",
              "  'Return on Equity': '',\n",
              "  'Dividend Yield': 1.7307692307692308},\n",
              " 'BSSR.JK': {'Average Daily Returns': 0.0014787100675877304,\n",
              "  'Beta Alpha': {'beta': array([0.143]), 'alpha': array([0.001])},\n",
              "  'Sharpe Ratio': 0.77,\n",
              "  'Piotroski F-Score': '',\n",
              "  'Revenue Growth': -52.0571147610662,\n",
              "  'Earning per Share': 0.011664508073099277,\n",
              "  'Price to Earning': 316344.2450273483,\n",
              "  'Debt to Equity': 0.03272954844653533,\n",
              "  'Free Cash Flow': '',\n",
              "  'Return on Equity': 16.03161594095224,\n",
              "  'Dividend Yield': 104.95578997289974},\n",
              " 'BSWD.JK': {'Average Daily Returns': 0.0003499791457832499,\n",
              "  'Beta Alpha': {'beta': array([-0.01]), 'alpha': array([0.])},\n",
              "  'Sharpe Ratio': 1.16,\n",
              "  'Piotroski F-Score': 3,\n",
              "  'Revenue Growth': -1.420910639451247,\n",
              "  'Earning per Share': -19.133646352126366,\n",
              "  'Price to Earning': -93.81379622920215,\n",
              "  'Debt to Equity': 0.0003721127048054931,\n",
              "  'Free Cash Flow': -108013050660.0,\n",
              "  'Return on Equity': -6.673306413202925,\n",
              "  'Dividend Yield': 4.736606573816156},\n",
              " 'BTEK.JK': {'Average Daily Returns': 0.0,\n",
              "  'Beta Alpha': {'beta': array([0.]), 'alpha': array([0.])},\n",
              "  'Sharpe Ratio': nan,\n",
              "  'Piotroski F-Score': '',\n",
              "  'Revenue Growth': 589.405126177364,\n",
              "  'Earning per Share': -11.009840218137718,\n",
              "  'Price to Earning': -4.541391973848041,\n",
              "  'Debt to Equity': 1.569653873511202,\n",
              "  'Free Cash Flow': '',\n",
              "  'Return on Equity': -30.649457600031493,\n",
              "  'Dividend Yield': 0.02558},\n",
              " 'BTEL.JK': {'Average Daily Returns': 0.0,\n",
              "  'Beta Alpha': {'beta': array([0.]), 'alpha': array([0.])},\n",
              "  'Sharpe Ratio': nan,\n",
              "  'Piotroski F-Score': '',\n",
              "  'Revenue Growth': -79.77931299174823,\n",
              "  'Earning per Share': '',\n",
              "  'Price to Earning': 0,\n",
              "  'Debt to Equity': 0,\n",
              "  'Free Cash Flow': '',\n",
              "  'Return on Equity': 0.9566220963177817,\n",
              "  'Dividend Yield': 0.0},\n",
              " 'BTON.JK': {'Average Daily Returns': 0.0012436549206652032,\n",
              "  'Beta Alpha': {'beta': array([0.062]), 'alpha': array([0.001])},\n",
              "  'Sharpe Ratio': 0.69,\n",
              "  'Piotroski F-Score': '',\n",
              "  'Revenue Growth': '',\n",
              "  'Earning per Share': '',\n",
              "  'Price to Earning': 0,\n",
              "  'Debt to Equity': 0,\n",
              "  'Free Cash Flow': '',\n",
              "  'Return on Equity': '',\n",
              "  'Dividend Yield': 3.36},\n",
              " 'BTPN.JK': {'Average Daily Returns': 0.0002947755251192559,\n",
              "  'Beta Alpha': {'beta': array([0.022]), 'alpha': array([0.])},\n",
              "  'Sharpe Ratio': 0.36,\n",
              "  'Piotroski F-Score': 7,\n",
              "  'Revenue Growth': -6.675003971729271,\n",
              "  'Earning per Share': 219.37184221666382,\n",
              "  'Price to Earning': 11.80643775349241,\n",
              "  'Debt to Equity': 1.1543406220900954,\n",
              "  'Free Cash Flow': 19277210000000.0,\n",
              "  'Return on Equity': 5.5995324965445725,\n",
              "  'Dividend Yield': 10.689126100386101},\n",
              " 'BTPS.JK': {'Average Daily Returns': -0.0003925442359045185,\n",
              "  'Beta Alpha': {'beta': array([-0.055]), 'alpha': array([-0.])},\n",
              "  'Sharpe Ratio': -0.23,\n",
              "  'Piotroski F-Score': 6,\n",
              "  'Revenue Growth': -17.468619392766595,\n",
              "  'Earning per Share': 110.9444543092432,\n",
              "  'Price to Earning': 11.402102140896357,\n",
              "  'Debt to Equity': 0.009150245732893171,\n",
              "  'Free Cash Flow': 1241889000000.0,\n",
              "  'Return on Equity': 14.537344594912966,\n",
              "  'Dividend Yield': 18.359683794466402},\n",
              " 'BUAH.JK': {'Average Daily Returns': 0.0043262441311526295,\n",
              "  'Beta Alpha': '',\n",
              "  'Sharpe Ratio': 2.36,\n",
              "  'Piotroski F-Score': '',\n",
              "  'Revenue Growth': -24.691021387704577,\n",
              "  'Earning per Share': 27.507289344,\n",
              "  'Price to Earning': 67.61844021558274,\n",
              "  'Debt to Equity': 0.08824796153103028,\n",
              "  'Free Cash Flow': '',\n",
              "  'Return on Equity': 81.65642760144908,\n",
              "  'Dividend Yield': 0.7526881720430108},\n",
              " 'BUDI.JK': {'Average Daily Returns': 0.0017951786717407916,\n",
              "  'Beta Alpha': {'beta': array([-0.015]), 'alpha': array([0.002])},\n",
              "  'Sharpe Ratio': 0.96,\n",
              "  'Piotroski F-Score': '',\n",
              "  'Revenue Growth': -19.228382751834044,\n",
              "  'Earning per Share': 13.89108750101996,\n",
              "  'Price to Earning': 18.285105466461854,\n",
              "  'Debt to Equity': 1.0436663873962224,\n",
              "  'Free Cash Flow': '',\n",
              "  'Return on Equity': 5.115905180246922,\n",
              "  'Dividend Yield': 33.976377952755904},\n",
              " 'BUKA.JK': {'Average Daily Returns': -0.0023659800347966735,\n",
              "  'Beta Alpha': '',\n",
              "  'Sharpe Ratio': -1.12,\n",
              "  'Piotroski F-Score': '',\n",
              "  'Revenue Growth': -27.684537179769652,\n",
              "  'Earning per Share': -13.084787637710374,\n",
              "  'Price to Earning': -11.769392386328978,\n",
              "  'Debt to Equity': 0.02894154459980669,\n",
              "  'Free Cash Flow': '',\n",
              "  'Return on Equity': -84.46152142132446,\n",
              "  'Dividend Yield': 0.0},\n",
              " 'BUKK.JK': {'Average Daily Returns': 0.0008071598720087907,\n",
              "  'Beta Alpha': {'beta': array([0.008]), 'alpha': array([0.001])},\n",
              "  'Sharpe Ratio': 0.42,\n",
              "  'Piotroski F-Score': '',\n",
              "  'Revenue Growth': 3.186472252923504,\n",
              "  'Earning per Share': 160.4293985113859,\n",
              "  'Price to Earning': 6.264437873141273,\n",
              "  'Debt to Equity': 0.707185557657584,\n",
              "  'Free Cash Flow': '',\n",
              "  'Return on Equity': 14.962054796490861,\n",
              "  'Dividend Yield': 1.27363184079602},\n",
              " 'BULL.JK': {'Average Daily Returns': -0.0004059312137366326,\n",
              "  'Beta Alpha': {'beta': array([-0.02]), 'alpha': array([-0.])},\n",
              "  'Sharpe Ratio': -0.19,\n",
              "  'Piotroski F-Score': '',\n",
              "  'Revenue Growth': 8.599839047989153,\n",
              "  'Earning per Share': 0.0025502429672622892,\n",
              "  'Price to Earning': 40780.42811412789,\n",
              "  'Debt to Equity': 0.4574870978257549,\n",
              "  'Free Cash Flow': '',\n",
              "  'Return on Equity': 10.567483635111383,\n",
              "  'Dividend Yield': 0.0},\n",
              " 'BUMI.JK': {'Average Daily Returns': 0.0013804274472570593,\n",
              "  'Beta Alpha': {'beta': array([-0.039]), 'alpha': array([0.001])},\n",
              "  'Sharpe Ratio': 0.54,\n",
              "  'Piotroski F-Score': '',\n",
              "  'Revenue Growth': -21.600255442060742,\n",
              "  'Earning per Share': -0.000910328214327086,\n",
              "  'Price to Earning': -98865.44059993564,\n",
              "  'Debt to Equity': -0.36338316937506393,\n",
              "  'Free Cash Flow': '',\n",
              "  'Return on Equity': 56.4490129421719,\n",
              "  'Dividend Yield': 292.0777777777778},\n",
              " 'BUVA.JK': {'Average Daily Returns': 0.0002966830220392584,\n",
              "  'Beta Alpha': {'beta': array([-0.081]), 'alpha': array([0.])},\n",
              "  'Sharpe Ratio': 0.18,\n",
              "  'Piotroski F-Score': '',\n",
              "  'Revenue Growth': 10.555465811928496,\n",
              "  'Earning per Share': -43.7995005592346,\n",
              "  'Price to Earning': -1.210059460114679,\n",
              "  'Debt to Equity': 1.3826656424016068,\n",
              "  'Free Cash Flow': '',\n",
              "  'Return on Equity': -168.83748398007077,\n",
              "  'Dividend Yield': 0.0},\n",
              " 'BVIC.JK': {'Average Daily Returns': 0.0010402963197084045,\n",
              "  'Beta Alpha': {'beta': array([0.018]), 'alpha': array([0.001])},\n",
              "  'Sharpe Ratio': 0.42,\n",
              "  'Piotroski F-Score': 4,\n",
              "  'Revenue Growth': -6.74352041108224,\n",
              "  'Earning per Share': -16.073529243324714,\n",
              "  'Price to Earning': -5.5370540378965885,\n",
              "  'Debt to Equity': 0.884422441861373,\n",
              "  'Free Cash Flow': 32231095000.0,\n",
              "  'Return on Equity': -9.537051035924126,\n",
              "  'Dividend Yield': 15.011546067415733},\n",
              " 'BWPT.JK': {'Average Daily Returns': -0.00026806033536245914,\n",
              "  'Beta Alpha': {'beta': array([0.042]), 'alpha': array([-0.])},\n",
              "  'Sharpe Ratio': -0.16,\n",
              "  'Piotroski F-Score': '',\n",
              "  'Revenue Growth': -25.173142095973983,\n",
              "  'Earning per Share': -34.73707126307967,\n",
              "  'Price to Earning': -1.6121105770802173,\n",
              "  'Debt to Equity': 1.625610705361933,\n",
              "  'Free Cash Flow': '',\n",
              "  'Return on Equity': -31.40275278524528,\n",
              "  'Dividend Yield': 65.31839285714285},\n",
              " 'BYAN.JK': {'Average Daily Returns': 0.003559568921875557,\n",
              "  'Beta Alpha': {'beta': array([-0.007]), 'alpha': array([0.004])},\n",
              "  'Sharpe Ratio': 1.9,\n",
              "  'Piotroski F-Score': '',\n",
              "  'Revenue Growth': -51.086756869472374,\n",
              "  'Earning per Share': 0.009862176108868335,\n",
              "  'Price to Earning': 1977251.2460475203,\n",
              "  'Debt to Equity': 0.4773327460514064,\n",
              "  'Free Cash Flow': '',\n",
              "  'Return on Equity': 39.538416038808336,\n",
              "  'Dividend Yield': 9.579805128205129},\n",
              " 'CAKK.JK': {'Average Daily Returns': 0.0018380477825266919,\n",
              "  'Beta Alpha': {'beta': array([0.102]), 'alpha': array([0.002])},\n",
              "  'Sharpe Ratio': 0.74,\n",
              "  'Piotroski F-Score': '',\n",
              "  'Revenue Growth': '',\n",
              "  'Earning per Share': '',\n",
              "  'Price to Earning': 0,\n",
              "  'Debt to Equity': 0,\n",
              "  'Free Cash Flow': '',\n",
              "  'Return on Equity': '',\n",
              "  'Dividend Yield': 0.0},\n",
              " 'CAMP.JK': {'Average Daily Returns': 0.0008920423693205337,\n",
              "  'Beta Alpha': {'beta': array([-0.079]), 'alpha': array([0.001])},\n",
              "  'Sharpe Ratio': 0.56,\n",
              "  'Piotroski F-Score': '',\n",
              "  'Revenue Growth': -6.132579639368677,\n",
              "  'Earning per Share': 7.484422578588083,\n",
              "  'Price to Earning': 45.962129528086415,\n",
              "  'Debt to Equity': 0,\n",
              "  'Free Cash Flow': '',\n",
              "  'Return on Equity': 4.579939891740141,\n",
              "  'Dividend Yield': 20.13081395348837},\n",
              " 'CANI.JK': {'Average Daily Returns': -0.0001836166979313821,\n",
              "  'Beta Alpha': {'beta': array([-0.276]), 'alpha': array([-0.])},\n",
              "  'Sharpe Ratio': -0.05,\n",
              "  'Piotroski F-Score': '',\n",
              "  'Revenue Growth': '',\n",
              "  'Earning per Share': '',\n",
              "  'Price to Earning': 0,\n",
              "  'Debt to Equity': 0,\n",
              "  'Free Cash Flow': '',\n",
              "  'Return on Equity': '',\n",
              "  'Dividend Yield': 0.0},\n",
              " 'CARE.JK': {'Average Daily Returns': -0.0002676100084542866,\n",
              "  'Beta Alpha': {'beta': array([-0.017]), 'alpha': array([-0.])},\n",
              "  'Sharpe Ratio': -0.14,\n",
              "  'Piotroski F-Score': '',\n",
              "  'Revenue Growth': -25.654673978302895,\n",
              "  'Earning per Share': 0.43046141889643813,\n",
              "  'Price to Earning': 341.4940190850548,\n",
              "  'Debt to Equity': 0.29046609163513865,\n",
              "  'Free Cash Flow': '',\n",
              "  'Return on Equity': 0.43506265047916415,\n",
              "  'Dividend Yield': 0.0},\n",
              " 'CARS.JK': {'Average Daily Returns': 0.001030242585774609,\n",
              "  'Beta Alpha': {'beta': array([0.017]), 'alpha': array([0.001])},\n",
              "  'Sharpe Ratio': 0.72,\n",
              "  'Piotroski F-Score': '',\n",
              "  'Revenue Growth': -21.56461728644618,\n",
              "  'Earning per Share': -66.11951289785397,\n",
              "  'Price to Earning': -1.4670404506738028,\n",
              "  'Debt to Equity': 3.0123897330581184,\n",
              "  'Free Cash Flow': '',\n",
              "  'Return on Equity': -148.91945847928326,\n",
              "  'Dividend Yield': 8.556701030927835},\n",
              " 'CASA.JK': {'Average Daily Returns': 0.0010064438835795343,\n",
              "  'Beta Alpha': {'beta': array([-0.019]), 'alpha': array([0.001])},\n",
              "  'Sharpe Ratio': 0.62,\n",
              "  'Piotroski F-Score': '',\n",
              "  'Revenue Growth': -25.94464129201819,\n",
              "  'Earning per Share': 1.1541532678908784,\n",
              "  'Price to Earning': 589.1765148684672,\n",
              "  'Debt to Equity': 0.3086187019824298,\n",
              "  'Free Cash Flow': '',\n",
              "  'Return on Equity': 0.954060950100491,\n",
              "  'Dividend Yield': 0.0},\n",
              " 'CASH.JK': {'Average Daily Returns': -0.0007660623891764487,\n",
              "  'Beta Alpha': {'beta': array([0.156]), 'alpha': array([-0.001])},\n",
              "  'Sharpe Ratio': -0.3,\n",
              "  'Piotroski F-Score': '',\n",
              "  'Revenue Growth': '',\n",
              "  'Earning per Share': '',\n",
              "  'Price to Earning': 0,\n",
              "  'Debt to Equity': 0,\n",
              "  'Free Cash Flow': '',\n",
              "  'Return on Equity': '',\n",
              "  'Dividend Yield': 0.0},\n",
              " 'CASS.JK': {'Average Daily Returns': 0.0022348052586989354,\n",
              "  'Beta Alpha': {'beta': array([-0.055]), 'alpha': array([0.002])},\n",
              "  'Sharpe Ratio': 1.1,\n",
              "  'Piotroski F-Score': '',\n",
              "  'Revenue Growth': -13.10754045059102,\n",
              "  'Earning per Share': -42.23723583420984,\n",
              "  'Price to Earning': -21.544970498825826,\n",
              "  'Debt to Equity': 0.21865765264476994,\n",
              "  'Free Cash Flow': '',\n",
              "  'Return on Equity': -25.510590945530215,\n",
              "  'Dividend Yield': 10.156043956043957},\n",
              " 'CBMF.JK': {'Average Daily Returns': -0.0008092458493551293,\n",
              "  'Beta Alpha': {'beta': array([0.068]), 'alpha': array([-0.001])},\n",
              "  'Sharpe Ratio': -0.31,\n",
              "  'Piotroski F-Score': '',\n",
              "  'Revenue Growth': '',\n",
              "  'Earning per Share': '',\n",
              "  'Price to Earning': 0,\n",
              "  'Debt to Equity': 0,\n",
              "  'Free Cash Flow': '',\n",
              "  'Return on Equity': '',\n",
              "  'Dividend Yield': 0.0},\n",
              " 'CBPE.JK': {'Average Daily Returns': -0.00023494523478706592,\n",
              "  'Beta Alpha': '',\n",
              "  'Sharpe Ratio': -0.14,\n",
              "  'Piotroski F-Score': '',\n",
              "  'Revenue Growth': '',\n",
              "  'Earning per Share': '',\n",
              "  'Price to Earning': 0,\n",
              "  'Debt to Equity': 0,\n",
              "  'Free Cash Flow': '',\n",
              "  'Return on Equity': '',\n",
              "  'Dividend Yield': 0.78125},\n",
              " 'CBRE.JK': {'Average Daily Returns': -0.0035601281402714803,\n",
              "  'Beta Alpha': '',\n",
              "  'Sharpe Ratio': -1.66,\n",
              "  'Piotroski F-Score': '',\n",
              "  'Revenue Growth': '',\n",
              "  'Earning per Share': '',\n",
              "  'Price to Earning': 0,\n",
              "  'Debt to Equity': 0,\n",
              "  'Free Cash Flow': '',\n",
              "  'Return on Equity': '',\n",
              "  'Dividend Yield': 0.0},\n",
              " 'CBUT.JK': {'Average Daily Returns': 0.003765019401925722,\n",
              "  'Beta Alpha': '',\n",
              "  'Sharpe Ratio': 1.18,\n",
              "  'Piotroski F-Score': '',\n",
              "  'Revenue Growth': -49.73020510322811,\n",
              "  'Earning per Share': -49.53760101453007,\n",
              "  'Price to Earning': -36.5379017742321,\n",
              "  'Debt to Equity': -6.6388364035169785,\n",
              "  'Free Cash Flow': '',\n",
              "  'Return on Equity': 73.8933068573447,\n",
              "  'Dividend Yield': 0.0},\n",
              " 'CCSI.JK': {'Average Daily Returns': 0.0012733488917156088,\n",
              "  'Beta Alpha': {'beta': array([-0.059]), 'alpha': array([0.001])},\n",
              "  'Sharpe Ratio': 0.7,\n",
              "  'Piotroski F-Score': '',\n",
              "  'Revenue Growth': '',\n",
              "  'Earning per Share': '',\n",
              "  'Price to Earning': 0,\n",
              "  'Debt to Equity': 0,\n",
              "  'Free Cash Flow': '',\n",
              "  'Return on Equity': '',\n",
              "  'Dividend Yield': 5.025125628140704},\n",
              " 'CEKA.JK': {'Average Daily Returns': 1.6637613164420906e-05,\n",
              "  'Beta Alpha': {'beta': array([-0.007]), 'alpha': array([0.])},\n",
              "  'Sharpe Ratio': 0.02,\n",
              "  'Piotroski F-Score': '',\n",
              "  'Revenue Growth': -32.18886835011888,\n",
              "  'Earning per Share': 305.5673848605042,\n",
              "  'Price to Earning': 6.054311067408424,\n",
              "  'Debt to Equity': 0,\n",
              "  'Free Cash Flow': '',\n",
              "  'Return on Equity': 14.421387445432352,\n",
              "  'Dividend Yield': 42.37837837837838},\n",
              " 'CENT.JK': {'Average Daily Returns': 0.00021301642601540598,\n",
              "  'Beta Alpha': {'beta': array([-0.061]), 'alpha': array([0.])},\n",
              "  'Sharpe Ratio': 0.09,\n",
              "  'Piotroski F-Score': '',\n",
              "  'Revenue Growth': -37.262762880508106,\n",
              "  'Earning per Share': -16.328539516661216,\n",
              "  'Price to Earning': -3.184608148630841,\n",
              "  'Debt to Equity': 7.5522192498674015,\n",
              "  'Free Cash Flow': '',\n",
              "  'Return on Equity': -20.600111905019098,\n",
              "  'Dividend Yield': 5.017551923076923},\n",
              " 'CFIN.JK': {'Average Daily Returns': 0.001307584661093978,\n",
              "  'Beta Alpha': {'beta': array([0.03]), 'alpha': array([0.001])},\n",
              "  'Sharpe Ratio': 0.77,\n",
              "  'Piotroski F-Score': '',\n",
              "  'Revenue Growth': 32.39423552153076,\n",
              "  'Earning per Share': 11.686904005491717,\n",
              "  'Price to Earning': 42.09840345816201,\n",
              "  'Debt to Equity': 0.8492586527359146,\n",
              "  'Free Cash Flow': '',\n",
              "  'Return on Equity': 0.9813453846917197,\n",
              "  'Dividend Yield': 39.047418699186984},\n",
              " 'CGAS.JK': {'Average Daily Returns': -0.022741243523795442,\n",
              "  'Beta Alpha': '',\n",
              "  'Sharpe Ratio': -2.02,\n",
              "  'Piotroski F-Score': '',\n",
              "  'Revenue Growth': -2.6491320147336705,\n",
              "  'Earning per Share': -2.128663711205851,\n",
              "  'Price to Earning': -69.52718704269195,\n",
              "  'Debt to Equity': 0.6667433309260644,\n",
              "  'Free Cash Flow': '',\n",
              "  'Return on Equity': -4.744074830696958,\n",
              "  'Dividend Yield': 0.0},\n",
              " 'CHEM.JK': {'Average Daily Returns': 0.00018290544526759788,\n",
              "  'Beta Alpha': '',\n",
              "  'Sharpe Ratio': 0.06,\n",
              "  'Piotroski F-Score': '',\n",
              "  'Revenue Growth': '',\n",
              "  'Earning per Share': '',\n",
              "  'Price to Earning': 0,\n",
              "  'Debt to Equity': 0,\n",
              "  'Free Cash Flow': '',\n",
              "  'Return on Equity': '',\n",
              "  'Dividend Yield': 1.1415094339622642},\n",
              " 'CHIP.JK': {'Average Daily Returns': 0.012055374136297994,\n",
              "  'Beta Alpha': '',\n",
              "  'Sharpe Ratio': 3.66,\n",
              "  'Piotroski F-Score': '',\n",
              "  'Revenue Growth': -100.0,\n",
              "  'Earning per Share': -0.7751290732009926,\n",
              "  'Price to Earning': -2941.445597678919,\n",
              "  'Debt to Equity': -63.6700756982465,\n",
              "  'Free Cash Flow': '',\n",
              "  'Return on Equity': 110.62409411780155,\n",
              "  'Dividend Yield': 0.1013157894736842},\n",
              " 'CINT.JK': {'Average Daily Returns': 0.00022518109949654615,\n",
              "  'Beta Alpha': {'beta': array([0.156]), 'alpha': array([0.])},\n",
              "  'Sharpe Ratio': 0.11,\n",
              "  'Piotroski F-Score': '',\n",
              "  'Revenue Growth': '',\n",
              "  'Earning per Share': '',\n",
              "  'Price to Earning': 0,\n",
              "  'Debt to Equity': 0,\n",
              "  'Free Cash Flow': '',\n",
              "  'Return on Equity': '',\n",
              "  'Dividend Yield': 22.34177215189873},\n",
              " 'CITA.JK': {'Average Daily Returns': 0.0006591417338641241,\n",
              "  'Beta Alpha': {'beta': array([-0.094]), 'alpha': array([0.001])},\n",
              "  'Sharpe Ratio': 0.34,\n",
              "  'Piotroski F-Score': '',\n",
              "  'Revenue Growth': -5.104698035247014,\n",
              "  'Earning per Share': 164.11098547710387,\n",
              "  'Price to Earning': 11.760333986107629,\n",
              "  'Debt to Equity': 0.0674137603971193,\n",
              "  'Free Cash Flow': '',\n",
              "  'Return on Equity': 18.813517858594007,\n",
              "  'Dividend Yield': 14.438860103626943},\n",
              " 'CITY.JK': {'Average Daily Returns': 0.0013241037054951322,\n",
              "  'Beta Alpha': {'beta': array([0.041]), 'alpha': array([0.001])},\n",
              "  'Sharpe Ratio': 0.39,\n",
              "  'Piotroski F-Score': '',\n",
              "  'Revenue Growth': 88.07549952817878,\n",
              "  'Earning per Share': 12.136949789420767,\n",
              "  'Price to Earning': 4.614009365747948,\n",
              "  'Debt to Equity': 0.005957480508282711,\n",
              "  'Free Cash Flow': '',\n",
              "  'Return on Equity': 7.520120176619183,\n",
              "  'Dividend Yield': 0.0},\n",
              " 'CLAY.JK': {'Average Daily Returns': -0.002028672456625688,\n",
              "  'Beta Alpha': {'beta': array([0.009]), 'alpha': array([-0.002])},\n",
              "  'Sharpe Ratio': -0.7,\n",
              "  'Piotroski F-Score': '',\n",
              "  'Revenue Growth': 75.16823495614172,\n",
              "  'Earning per Share': -32.06056630574027,\n",
              "  'Price to Earning': -11.228747382903963,\n",
              "  'Debt to Equity': 3.36466846681272,\n",
              "  'Free Cash Flow': '',\n",
              "  'Return on Equity': -72.87275061455574,\n",
              "  'Dividend Yield': 0.0},\n",
              " 'CLEO.JK': {'Average Daily Returns': 0.0006608765132629363,\n",
              "  'Beta Alpha': {'beta': array([-0.017]), 'alpha': array([0.001])},\n",
              "  'Sharpe Ratio': 0.48,\n",
              "  'Piotroski F-Score': '',\n",
              "  'Revenue Growth': -11.860681257419033,\n",
              "  'Earning per Share': 11.101356924005456,\n",
              "  'Price to Earning': 65.75772718571508,\n",
              "  'Debt to Equity': 0.31693424273002396,\n",
              "  'Free Cash Flow': '',\n",
              "  'Return on Equity': 14.839096019550635,\n",
              "  'Dividend Yield': 1.0479452054794522},\n",
              " 'CLPI.JK': {'Average Daily Returns': 0.0003920666602072824,\n",
              "  'Beta Alpha': {'beta': array([0.046]), 'alpha': array([0.])},\n",
              "  'Sharpe Ratio': 0.49,\n",
              "  'Piotroski F-Score': '',\n",
              "  'Revenue Growth': -7.8498344388841605,\n",
              "  'Earning per Share': 118.23197474264242,\n",
              "  'Price to Earning': 8.288789916037373,\n",
              "  'Debt to Equity': 0.12804625336236225,\n",
              "  'Free Cash Flow': '',\n",
              "  'Return on Equity': 7.390243612378068,\n",
              "  'Dividend Yield': 81.7908163265306},\n",
              " 'CMNP.JK': {'Average Daily Returns': 0.0004774327307929055,\n",
              "  'Beta Alpha': {'beta': array([0.028]), 'alpha': array([0.])},\n",
              "  'Sharpe Ratio': 0.29,\n",
              "  'Piotroski F-Score': '',\n",
              "  'Revenue Growth': -41.66814079470835,\n",
              "  'Earning per Share': 82.42505057524318,\n",
              "  'Price to Earning': 18.74430151049309,\n",
              "  'Debt to Equity': 0.5364647989602603,\n",
              "  'Free Cash Flow': '',\n",
              "  'Return on Equity': 5.006805785877601,\n",
              "  'Dividend Yield': 4.168114822006473},\n",
              " 'CMNT.JK': {'Average Daily Returns': 0.0007158541272183278,\n",
              "  'Beta Alpha': '',\n",
              "  'Sharpe Ratio': 0.58,\n",
              "  'Piotroski F-Score': '',\n",
              "  'Revenue Growth': -13.519934264775626,\n",
              "  'Earning per Share': 27.522817006346703,\n",
              "  'Price to Earning': 38.5134995358784,\n",
              "  'Debt to Equity': 4.121942244765119,\n",
              "  'Free Cash Flow': '',\n",
              "  'Return on Equity': 19.604085172222327,\n",
              "  'Dividend Yield': 0.0},\n",
              " 'CMPP.JK': {'Average Daily Returns': 0.00020206761239754956,\n",
              "  'Beta Alpha': {'beta': array([0.011]), 'alpha': array([0.])},\n",
              "  'Sharpe Ratio': 0.09,\n",
              "  'Piotroski F-Score': '',\n",
              "  'Revenue Growth': 157.3432770805679,\n",
              "  'Earning per Share': -257.80689753134544,\n",
              "  'Price to Earning': -0.45382804385896836,\n",
              "  'Debt to Equity': -2.5066949299714456,\n",
              "  'Free Cash Flow': '',\n",
              "  'Return on Equity': 94.99161130293402,\n",
              "  'Dividend Yield': 11.867737606837606},\n",
              " 'CMRY.JK': {'Average Daily Returns': 0.0005622306790976327,\n",
              "  'Beta Alpha': '',\n",
              "  'Sharpe Ratio': 0.4,\n",
              "  'Piotroski F-Score': '',\n",
              "  'Revenue Growth': -54.538467154122294,\n",
              "  'Earning per Share': 22.307011571021295,\n",
              "  'Price to Earning': 206.21318930841417,\n",
              "  'Debt to Equity': 0,\n",
              "  'Free Cash Flow': '',\n",
              "  'Return on Equity': 24.102812010621637,\n",
              "  'Dividend Yield': 2.8915217391304346},\n",
              " 'CNKO.JK': {'Average Daily Returns': 0.0,\n",
              "  'Beta Alpha': {'beta': array([0.]), 'alpha': array([0.])},\n",
              "  'Sharpe Ratio': nan,\n",
              "  'Piotroski F-Score': '',\n",
              "  'Revenue Growth': -9.767245634376993,\n",
              "  'Earning per Share': -2291.822643478261,\n",
              "  'Price to Earning': -0.021816696916876533,\n",
              "  'Debt to Equity': -0.5473279486104513,\n",
              "  'Free Cash Flow': '',\n",
              "  'Return on Equity': 25.901063721707757,\n",
              "  'Dividend Yield': 0.0},\n",
              " 'CNMA.JK': {'Average Daily Returns': -0.0016764198431586522,\n",
              "  'Beta Alpha': '',\n",
              "  'Sharpe Ratio': -1.67,\n",
              "  'Piotroski F-Score': '',\n",
              "  'Revenue Growth': -4.780008530010483,\n",
              "  'Earning per Share': -6.5480114041252415,\n",
              "  'Price to Earning': -36.346912873435166,\n",
              "  'Debt to Equity': 0,\n",
              "  'Free Cash Flow': '',\n",
              "  'Return on Equity': -13.928223241949233,\n",
              "  'Dividend Yield': 0.0},\n",
              " 'CNTX.JK': {'Average Daily Returns': -5.4056088667080804e-05,\n",
              "  'Beta Alpha': {'beta': array([0.013]), 'alpha': array([-0.])},\n",
              "  'Sharpe Ratio': -0.02,\n",
              "  'Piotroski F-Score': '',\n",
              "  'Revenue Growth': '',\n",
              "  'Earning per Share': '',\n",
              "  'Price to Earning': 0,\n",
              "  'Debt to Equity': 0,\n",
              "  'Free Cash Flow': '',\n",
              "  'Return on Equity': '',\n",
              "  'Dividend Yield': 64.22764227642277},\n",
              " 'COAL.JK': {'Average Daily Returns': -0.0013475358527814843,\n",
              "  'Beta Alpha': '',\n",
              "  'Sharpe Ratio': -0.37,\n",
              "  'Piotroski F-Score': '',\n",
              "  'Revenue Growth': '',\n",
              "  'Earning per Share': '',\n",
              "  'Price to Earning': 0,\n",
              "  'Debt to Equity': 0,\n",
              "  'Free Cash Flow': '',\n",
              "  'Return on Equity': '',\n",
              "  'Dividend Yield': 0.0},\n",
              " 'COCO.JK': {'Average Daily Returns': -0.0012403594208376485,\n",
              "  'Beta Alpha': {'beta': array([0.025]), 'alpha': array([-0.001])},\n",
              "  'Sharpe Ratio': -0.54,\n",
              "  'Piotroski F-Score': '',\n",
              "  'Revenue Growth': '',\n",
              "  'Earning per Share': '',\n",
              "  'Price to Earning': 0,\n",
              "  'Debt to Equity': 0,\n",
              "  'Free Cash Flow': '',\n",
              "  'Return on Equity': '',\n",
              "  'Dividend Yield': 0.0},\n",
              " 'COWL.JK': {'Average Daily Returns': 0.0,\n",
              "  'Beta Alpha': {'beta': array([0.]), 'alpha': array([0.])},\n",
              "  'Sharpe Ratio': nan,\n",
              "  'Piotroski F-Score': '',\n",
              "  'Revenue Growth': '',\n",
              "  'Earning per Share': '',\n",
              "  'Price to Earning': 0,\n",
              "  'Debt to Equity': 0,\n",
              "  'Free Cash Flow': '',\n",
              "  'Return on Equity': '',\n",
              "  'Dividend Yield': 21.84},\n",
              " 'CPIN.JK': {'Average Daily Returns': 3.273126714565823e-05,\n",
              "  'Beta Alpha': {'beta': array([0.146]), 'alpha': array([-0.])},\n",
              "  'Sharpe Ratio': 0.02,\n",
              "  'Piotroski F-Score': '',\n",
              "  'Revenue Growth': -17.75585668288301,\n",
              "  'Earning per Share': 234.30192523535513,\n",
              "  'Price to Earning': 22.0868863745005,\n",
              "  'Debt to Equity': 0.38983134942459896,\n",
              "  'Free Cash Flow': '',\n",
              "  'Return on Equity': 16.46628335598577,\n",
              "  'Dividend Yield': 17.679613526570048},\n",
              " 'CPRI.JK': {'Average Daily Returns': 0.0,\n",
              "  'Beta Alpha': {'beta': array([0.]), 'alpha': array([0.])},\n",
              "  'Sharpe Ratio': nan,\n",
              "  'Piotroski F-Score': '',\n",
              "  'Revenue Growth': '',\n",
              "  'Earning per Share': '',\n",
              "  'Price to Earning': 0,\n",
              "  'Debt to Equity': 0,\n",
              "  'Free Cash Flow': '',\n",
              "  'Return on Equity': '',\n",
              "  'Dividend Yield': 0.0},\n",
              " 'CPRO.JK': {'Average Daily Returns': 0.00044112806106135177,\n",
              "  'Beta Alpha': {'beta': array([0.063]), 'alpha': array([0.])},\n",
              "  'Sharpe Ratio': 0.24,\n",
              "  'Piotroski F-Score': '',\n",
              "  'Revenue Growth': -5.6622768239172565,\n",
              "  'Earning per Share': 9.411796675096365,\n",
              "  'Price to Earning': 5.737480511333624,\n",
              "  'Debt to Equity': 2.9977073336429125,\n",
              "  'Free Cash Flow': '',\n",
              "  'Return on Equity': 52.799729418402045,\n",
              "  'Dividend Yield': 0.0},\n",
              " 'CRAB.JK': {'Average Daily Returns': 0.0005486510112833735,\n",
              "  'Beta Alpha': '',\n",
              "  'Sharpe Ratio': 0.37,\n",
              "  'Piotroski F-Score': '',\n",
              "  'Revenue Growth': '',\n",
              "  'Earning per Share': '',\n",
              "  'Price to Earning': 0,\n",
              "  'Debt to Equity': 0,\n",
              "  'Free Cash Flow': '',\n",
              "  'Return on Equity': '',\n",
              "  'Dividend Yield': 0.45454545454545453},\n",
              " 'CRSN.JK': {'Average Daily Returns': -0.001593173273177659,\n",
              "  'Beta Alpha': '',\n",
              "  'Sharpe Ratio': -0.74,\n",
              "  'Piotroski F-Score': '',\n",
              "  'Revenue Growth': '',\n",
              "  'Earning per Share': '',\n",
              "  'Price to Earning': 0,\n",
              "  'Debt to Equity': 0,\n",
              "  'Free Cash Flow': '',\n",
              "  'Return on Equity': '',\n",
              "  'Dividend Yield': 0.0},\n",
              " 'CSAP.JK': {'Average Daily Returns': 0.001026508332783411,\n",
              "  'Beta Alpha': {'beta': array([0.07]), 'alpha': array([0.001])},\n",
              "  'Sharpe Ratio': 0.57,\n",
              "  'Piotroski F-Score': '',\n",
              "  'Revenue Growth': -11.076349644234753,\n",
              "  'Earning per Share': 10.641551495634076,\n",
              "  'Price to Earning': 54.973186968085315,\n",
              "  'Debt to Equity': 2.0637202442188434,\n",
              "  'Free Cash Flow': '',\n",
              "  'Return on Equity': 3.1780798963576875,\n",
              "  'Dividend Yield': 10.858199658119657},\n",
              " 'CSIS.JK': {'Average Daily Returns': 0.0005981230775845329,\n",
              "  'Beta Alpha': {'beta': array([0.089]), 'alpha': array([0.001])},\n",
              "  'Sharpe Ratio': 0.27,\n",
              "  'Piotroski F-Score': '',\n",
              "  'Revenue Growth': '',\n",
              "  'Earning per Share': '',\n",
              "  'Price to Earning': 0,\n",
              "  'Debt to Equity': 0,\n",
              "  'Free Cash Flow': '',\n",
              "  'Return on Equity': '',\n",
              "  'Dividend Yield': 0.0},\n",
              " 'CSMI.JK': {'Average Daily Returns': 0.003362899354437211,\n",
              "  'Beta Alpha': {'beta': array([0.094]), 'alpha': array([0.003])},\n",
              "  'Sharpe Ratio': 1.84,\n",
              "  'Piotroski F-Score': '',\n",
              "  'Revenue Growth': 25.707997304261454,\n",
              "  'Earning per Share': -46.10217013335418,\n",
              "  'Price to Earning': -62.03612523504259,\n",
              "  'Debt to Equity': 1.3105042466618935,\n",
              "  'Free Cash Flow': '',\n",
              "  'Return on Equity': -124.36248368033142,\n",
              "  'Dividend Yield': 0.0},\n",
              " 'CSRA.JK': {'Average Daily Returns': 0.001182215536263515,\n",
              "  'Beta Alpha': {'beta': array([-0.004]), 'alpha': array([0.001])},\n",
              "  'Sharpe Ratio': 0.67,\n",
              "  'Piotroski F-Score': '',\n",
              "  'Revenue Growth': '',\n",
              "  'Earning per Share': '',\n",
              "  'Price to Earning': 0,\n",
              "  'Debt to Equity': 0,\n",
              "  'Free Cash Flow': '',\n",
              "  'Return on Equity': '',\n",
              "  'Dividend Yield': 13.452914798206278},\n",
              " 'CTBN.JK': {'Average Daily Returns': 0.0002584029709608592,\n",
              "  'Beta Alpha': {'beta': array([0.025]), 'alpha': array([0.])},\n",
              "  'Sharpe Ratio': 0.08,\n",
              "  'Piotroski F-Score': '',\n",
              "  'Revenue Growth': 34.56402070029064,\n",
              "  'Earning per Share': -0.0038279001795325247,\n",
              "  'Price to Earning': -266464.6286896033,\n",
              "  'Debt to Equity': 0.0075958803830471835,\n",
              "  'Free Cash Flow': '',\n",
              "  'Return on Equity': -3.085525154035861,\n",
              "  'Dividend Yield': 2.4479137254901957},\n",
              " 'CTRA.JK': {'Average Daily Returns': 0.0011122125164036297,\n",
              "  'Beta Alpha': {'beta': array([0.008]), 'alpha': array([0.001])},\n",
              "  'Sharpe Ratio': 0.72,\n",
              "  'Piotroski F-Score': '',\n",
              "  'Revenue Growth': -17.050087408068386,\n",
              "  'Earning per Share': 71.25460413136757,\n",
              "  'Price to Earning': 17.332213336321526,\n",
              "  'Debt to Equity': 0.526618483790378,\n",
              "  'Free Cash Flow': '',\n",
              "  'Return on Equity': 8.614290201594978,\n",
              "  'Dividend Yield': 10.61333004048583},\n",
              " 'CTTH.JK': {'Average Daily Returns': -0.0010391546367649234,\n",
              "  'Beta Alpha': {'beta': array([0.03]), 'alpha': array([-0.001])},\n",
              "  'Sharpe Ratio': -0.62,\n",
              "  'Piotroski F-Score': '',\n",
              "  'Revenue Growth': 9.890526006978838,\n",
              "  'Earning per Share': -33.694234269741806,\n",
              "  'Price to Earning': -0.4451800233807463,\n",
              "  'Debt to Equity': 1.4701112370730993,\n",
              "  'Free Cash Flow': '',\n",
              "  'Return on Equity': -18.056129193882224,\n",
              "  'Dividend Yield': 0.0},\n",
              " 'CUAN.JK': {'Average Daily Returns': 0.017486427962361446,\n",
              "  'Beta Alpha': '',\n",
              "  'Sharpe Ratio': 4.14,\n",
              "  'Piotroski F-Score': '',\n",
              "  'Revenue Growth': -94.93111692947954,\n",
              "  'Earning per Share': -8.468383111752617,\n",
              "  'Price to Earning': -776.4174002561438,\n",
              "  'Debt to Equity': 0.0010941116466063787,\n",
              "  'Free Cash Flow': '',\n",
              "  'Return on Equity': -32.0492961695871,\n",
              "  'Dividend Yield': 0.0},\n",
              " 'CYBR.JK': {'Average Daily Returns': 0.0057867554358118625,\n",
              "  'Beta Alpha': '',\n",
              "  'Sharpe Ratio': 1.4,\n",
              "  'Piotroski F-Score': '',\n",
              "  'Revenue Growth': -37.86225854868676,\n",
              "  'Earning per Share': -2.3856524269394246,\n",
              "  'Price to Earning': -91.3796148752793,\n",
              "  'Debt to Equity': 0,\n",
              "  'Free Cash Flow': '',\n",
              "  'Return on Equity': 45.82571952636084,\n",
              "  'Dividend Yield': 0.0},\n",
              " 'DADA.JK': {'Average Daily Returns': -0.0026731254149632666,\n",
              "  'Beta Alpha': {'beta': array([0.184]), 'alpha': array([-0.003])},\n",
              "  'Sharpe Ratio': -1.44,\n",
              "  'Piotroski F-Score': '',\n",
              "  'Revenue Growth': '',\n",
              "  'Earning per Share': '',\n",
              "  'Price to Earning': 0,\n",
              "  'Debt to Equity': 0,\n",
              "  'Free Cash Flow': '',\n",
              "  'Return on Equity': '',\n",
              "  'Dividend Yield': 0.0},\n",
              " 'DART.JK': {'Average Daily Returns': -0.0008005778339496905,\n",
              "  'Beta Alpha': {'beta': array([-0.053]), 'alpha': array([-0.001])},\n",
              "  'Sharpe Ratio': -0.32,\n",
              "  'Piotroski F-Score': '',\n",
              "  'Revenue Growth': 11.549967680275081,\n",
              "  'Earning per Share': -127.38504668608363,\n",
              "  'Price to Earning': -1.0911798803397956,\n",
              "  'Debt to Equity': 1.1916656463491793,\n",
              "  'Free Cash Flow': '',\n",
              "  'Return on Equity': -13.731990986046677,\n",
              "  'Dividend Yield': 61.87050359712231},\n",
              " 'DAYA.JK': {'Average Daily Returns': 0.0001798634383124677,\n",
              "  'Beta Alpha': {'beta': array([-0.192]), 'alpha': array([0.])},\n",
              "  'Sharpe Ratio': 0.06,\n",
              "  'Piotroski F-Score': '',\n",
              "  'Revenue Growth': '',\n",
              "  'Earning per Share': '',\n",
              "  'Price to Earning': 0,\n",
              "  'Debt to Equity': 0,\n",
              "  'Free Cash Flow': '',\n",
              "  'Return on Equity': '',\n",
              "  'Dividend Yield': 0.0},\n",
              " 'DCII.JK': {'Average Daily Returns': 0.006703863520176885,\n",
              "  'Beta Alpha': '',\n",
              "  'Sharpe Ratio': 2.19,\n",
              "  'Piotroski F-Score': '',\n",
              "  'Revenue Growth': -12.840893439236032,\n",
              "  'Earning per Share': 76.82894959825583,\n",
              "  'Price to Earning': 452.9542598456927,\n",
              "  'Debt to Equity': 1.6388180239750858,\n",
              "  'Free Cash Flow': '',\n",
              "  'Return on Equity': 25.439288581691706,\n",
              "  'Dividend Yield': 0.0},\n",
              " 'DEAL.JK': {'Average Daily Returns': -0.0032089149132165456,\n",
              "  'Beta Alpha': {'beta': array([0.27]), 'alpha': array([-0.003])},\n",
              "  'Sharpe Ratio': -1.37,\n",
              "  'Piotroski F-Score': '',\n",
              "  'Revenue Growth': -17.31009430130207,\n",
              "  'Earning per Share': -44.40840480690864,\n",
              "  'Price to Earning': -0.13510955923970897,\n",
              "  'Debt to Equity': 1.904119244666908,\n",
              "  'Free Cash Flow': '',\n",
              "  'Return on Equity': -67.05698899157264,\n",
              "  'Dividend Yield': 0.0},\n",
              " 'DEFI.JK': {'Average Daily Returns': 4.6014050590920495e-05,\n",
              "  'Beta Alpha': {'beta': array([0.075]), 'alpha': array([0.])},\n",
              "  'Sharpe Ratio': 0.03,\n",
              "  'Piotroski F-Score': '',\n",
              "  'Revenue Growth': '',\n",
              "  'Earning per Share': '',\n",
              "  'Price to Earning': 0,\n",
              "  'Debt to Equity': 0,\n",
              "  'Free Cash Flow': '',\n",
              "  'Return on Equity': '',\n",
              "  'Dividend Yield': 0.7455342268041238},\n",
              " 'DEPO.JK': {'Average Daily Returns': -0.0007553411517314105,\n",
              "  'Beta Alpha': '',\n",
              "  'Sharpe Ratio': -0.7,\n",
              "  'Piotroski F-Score': '',\n",
              "  'Revenue Growth': 4.888686510998202,\n",
              "  'Earning per Share': 14.850399184410737,\n",
              "  'Price to Earning': 25.04983168334683,\n",
              "  'Debt to Equity': 0.09997658642762763,\n",
              "  'Free Cash Flow': '',\n",
              "  'Return on Equity': 17.52706364936407,\n",
              "  'Dividend Yield': 2.5940860215053765},\n",
              " 'DEWA.JK': {'Average Daily Returns': 0.0005550499331502408,\n",
              "  'Beta Alpha': {'beta': array([-0.002]), 'alpha': array([0.001])},\n",
              "  'Sharpe Ratio': 0.29,\n",
              "  'Piotroski F-Score': '',\n",
              "  'Revenue Growth': -6.662397992254965,\n",
              "  'Earning per Share': 1.066105613173914,\n",
              "  'Price to Earning': 54.403615629907065,\n",
              "  'Debt to Equity': 0.41587791998456203,\n",
              "  'Free Cash Flow': '',\n",
              "  'Return on Equity': 0.6091911772025859,\n",
              "  'Dividend Yield': 0.0},\n",
              " 'DEWI.JK': {'Average Daily Returns': -0.0007872855647445496,\n",
              "  'Beta Alpha': '',\n",
              "  'Sharpe Ratio': -0.25,\n",
              "  'Piotroski F-Score': '',\n",
              "  'Revenue Growth': '',\n",
              "  'Earning per Share': '',\n",
              "  'Price to Earning': 0,\n",
              "  'Debt to Equity': 0,\n",
              "  'Free Cash Flow': '',\n",
              "  'Return on Equity': '',\n",
              "  'Dividend Yield': 0.0},\n",
              " 'DFAM.JK': {'Average Daily Returns': -0.0007495631734381226,\n",
              "  'Beta Alpha': {'beta': array([-0.041]), 'alpha': array([-0.001])},\n",
              "  'Sharpe Ratio': -0.22,\n",
              "  'Piotroski F-Score': '',\n",
              "  'Revenue Growth': 5.249928983410339,\n",
              "  'Earning per Share': -6.825261309684544,\n",
              "  'Price to Earning': -7.618755918724434,\n",
              "  'Debt to Equity': 1.8313531435642607,\n",
              "  'Free Cash Flow': '',\n",
              "  'Return on Equity': -15.479135178226269,\n",
              "  'Dividend Yield': 0.0},\n",
              " 'DGIK.JK': {'Average Daily Returns': 0.0011588294256704187,\n",
              "  'Beta Alpha': {'beta': array([0.16]), 'alpha': array([0.001])},\n",
              "  'Sharpe Ratio': 0.57,\n",
              "  'Piotroski F-Score': '',\n",
              "  'Revenue Growth': 30.6947807410471,\n",
              "  'Earning per Share': -2.9111527049322707,\n",
              "  'Price to Earning': -32.28961498334968,\n",
              "  'Debt to Equity': 0.13534513877881943,\n",
              "  'Free Cash Flow': '',\n",
              "  'Return on Equity': -2.318146829148856,\n",
              "  'Dividend Yield': 19.20212765957447},\n",
              " 'DGNS.JK': {'Average Daily Returns': 0.0007967026233969567,\n",
              "  'Beta Alpha': '',\n",
              "  'Sharpe Ratio': 0.29,\n",
              "  'Piotroski F-Score': '',\n",
              "  'Revenue Growth': '',\n",
              "  'Earning per Share': '',\n",
              "  'Price to Earning': 0,\n",
              "  'Debt to Equity': 0,\n",
              "  'Free Cash Flow': '',\n",
              "  'Return on Equity': '',\n",
              "  'Dividend Yield': 1.5},\n",
              " 'DIGI.JK': {'Average Daily Returns': -0.0026742611461019164,\n",
              "  'Beta Alpha': {'beta': array([-0.315]), 'alpha': array([-0.003])},\n",
              "  'Sharpe Ratio': -0.99,\n",
              "  'Piotroski F-Score': '',\n",
              "  'Revenue Growth': '',\n",
              "  'Earning per Share': '',\n",
              "  'Price to Earning': 0,\n",
              "  'Debt to Equity': 0,\n",
              "  'Free Cash Flow': '',\n",
              "  'Return on Equity': '',\n",
              "  'Dividend Yield': 0.0},\n",
              " 'DILD.JK': {'Average Daily Returns': 0.000317146704342483,\n",
              "  'Beta Alpha': {'beta': array([-0.026]), 'alpha': array([0.])},\n",
              "  'Sharpe Ratio': 0.2,\n",
              "  'Piotroski F-Score': '',\n",
              "  'Revenue Growth': 9.995943550548878,\n",
              "  'Earning per Share': 7.405674016136658,\n",
              "  'Price to Earning': 25.52097210708665,\n",
              "  'Debt to Equity': 0.9728320721996152,\n",
              "  'Free Cash Flow': '',\n",
              "  'Return on Equity': 1.4763082857921566,\n",
              "  'Dividend Yield': 20.105820105820104},\n",
              " 'DIVA.JK': {'Average Daily Returns': -0.0009292154447562651,\n",
              "  'Beta Alpha': {'beta': array([-0.045]), 'alpha': array([-0.001])},\n",
              "  'Sharpe Ratio': -0.36,\n",
              "  'Piotroski F-Score': '',\n",
              "  'Revenue Growth': -23.994793507392508,\n",
              "  'Earning per Share': 47.00493818950206,\n",
              "  'Price to Earning': 3.680464365308692,\n",
              "  'Debt to Equity': 0.14555280354898756,\n",
              "  'Free Cash Flow': '',\n",
              "  'Return on Equity': 7.854291899784354,\n",
              "  'Dividend Yield': 0.0},\n",
              " 'DKFT.JK': {'Average Daily Returns': 0.0005850333628450782,\n",
              "  'Beta Alpha': {'beta': array([0.08]), 'alpha': array([0.001])},\n",
              "  'Sharpe Ratio': 0.28,\n",
              "  'Piotroski F-Score': '',\n",
              "  'Revenue Growth': -18.12432440676563,\n",
              "  'Earning per Share': -29.95833294295748,\n",
              "  'Price to Earning': -3.4714882232607014,\n",
              "  'Debt to Equity': 1.224786696492876,\n",
              "  'Free Cash Flow': '',\n",
              "  'Return on Equity': -24.563870881561062,\n",
              "  'Dividend Yield': 192.30769230769232},\n",
              " 'DLTA.JK': {'Average Daily Returns': -0.0004064839639499073,\n",
              "  'Beta Alpha': {'beta': array([0.011]), 'alpha': array([-0.])},\n",
              "  'Sharpe Ratio': -0.6,\n",
              "  'Piotroski F-Score': '',\n",
              "  'Revenue Growth': -19.79862428796021,\n",
              "  'Earning per Share': 154.9203765406209,\n",
              "  'Price to Earning': 21.62401147483406,\n",
              "  'Debt to Equity': 0,\n",
              "  'Free Cash Flow': '',\n",
              "  'Return on Equity': 12.203306193700854,\n",
              "  'Dividend Yield': 746.955223880597},\n",
              " 'DMAS.JK': {'Average Daily Returns': 8.317802634608521e-05,\n",
              "  'Beta Alpha': {'beta': array([-0.035]), 'alpha': array([0.])},\n",
              "  'Sharpe Ratio': 0.08,\n",
              "  'Piotroski F-Score': '',\n",
              "  'Revenue Growth': 82.49691856089893,\n",
              "  'Earning per Share': 27.960656246189227,\n",
              "  'Price to Earning': 5.758090889656525,\n",
              "  'Debt to Equity': 0.00019876318113102166,\n",
              "  'Free Cash Flow': '',\n",
              "  'Return on Equity': 24.39398315216789,\n",
              "  'Dividend Yield': 110.86956521739131},\n",
              " 'DMMX.JK': {'Average Daily Returns': 0.001167866259512164,\n",
              "  'Beta Alpha': {'beta': array([0.098]), 'alpha': array([0.001])},\n",
              "  'Sharpe Ratio': 0.44,\n",
              "  'Piotroski F-Score': '',\n",
              "  'Revenue Growth': -55.043509227135935,\n",
              "  'Earning per Share': 4.396839248510157,\n",
              "  'Price to Earning': 38.66413812094756,\n",
              "  'Debt to Equity': 0.055189628598013685,\n",
              "  'Free Cash Flow': '',\n",
              "  'Return on Equity': 4.666503653714396,\n",
              "  'Dividend Yield': 0.0},\n",
              " 'DMND.JK': {'Average Daily Returns': -6.141989089598432e-05,\n",
              "  'Beta Alpha': {'beta': array([0.062]), 'alpha': array([-0.])},\n",
              "  'Sharpe Ratio': -0.06,\n",
              "  'Piotroski F-Score': '',\n",
              "  'Revenue Growth': -12.383107547509091,\n",
              "  'Earning per Share': 21.168819813993377,\n",
              "  'Price to Earning': 38.26382420547412,\n",
              "  'Debt to Equity': 0.07480211038588243,\n",
              "  'Free Cash Flow': '',\n",
              "  'Return on Equity': 4.316213677492266,\n",
              "  'Dividend Yield': 0.0},\n",
              " 'DNAR.JK': {'Average Daily Returns': 0.000698506941018056,\n",
              "  'Beta Alpha': {'beta': array([0.054]), 'alpha': array([0.001])},\n",
              "  'Sharpe Ratio': 0.23,\n",
              "  'Piotroski F-Score': 5,\n",
              "  'Revenue Growth': -18.33259384962099,\n",
              "  'Earning per Share': 0.46618929471340304,\n",
              "  'Price to Earning': 255.26111678123596,\n",
              "  'Debt to Equity': 0.20162347958215818,\n",
              "  'Free Cash Flow': -560719347596.0,\n",
              "  'Return on Equity': 0.3122634319333264,\n",
              "  'Dividend Yield': 0.0},\n",
              " 'DNET.JK': {'Average Daily Returns': 0.00040716412626764077,\n",
              "  'Beta Alpha': {'beta': array([0.015]), 'alpha': array([0.])},\n",
              "  'Sharpe Ratio': 0.43,\n",
              "  'Piotroski F-Score': '',\n",
              "  'Revenue Growth': -42.10314396289962,\n",
              "  'Earning per Share': 23.183023961485354,\n",
              "  'Price to Earning': 197.989701758731,\n",
              "  'Debt to Equity': 0.657909557105261,\n",
              "  'Free Cash Flow': '',\n",
              "  'Return on Equity': 3.287938054442338,\n",
              "  'Dividend Yield': 0.08714596949891067},\n",
              " 'DOID.JK': {'Average Daily Returns': 0.0017237057546945964,\n",
              "  'Beta Alpha': {'beta': array([0.05]), 'alpha': array([0.002])},\n",
              "  'Sharpe Ratio': 0.76,\n",
              "  'Piotroski F-Score': '',\n",
              "  'Revenue Growth': -33.91953281467956,\n",
              "  'Earning per Share': -0.0031944134512744884,\n",
              "  'Price to Earning': -115201.11770540457,\n",
              "  'Debt to Equity': 3.5514457684292613,\n",
              "  'Free Cash Flow': '',\n",
              "  'Return on Equity': -8.886456193153176,\n",
              "  'Dividend Yield': 1.0869565217391304},\n",
              " 'DOOH.JK': {'Average Daily Returns': 0.0006206330070414994,\n",
              "  'Beta Alpha': '',\n",
              "  'Sharpe Ratio': 0.15,\n",
              "  'Piotroski F-Score': '',\n",
              "  'Revenue Growth': '',\n",
              "  'Earning per Share': 0.27419413667868614,\n",
              "  'Price to Earning': 291.76407989259025,\n",
              "  'Debt to Equity': 3.3519750302329983,\n",
              "  'Free Cash Flow': '',\n",
              "  'Return on Equity': 77.95407004893036,\n",
              "  'Dividend Yield': 0.0},\n",
              " 'DPNS.JK': {'Average Daily Returns': 0.000895665269486086,\n",
              "  'Beta Alpha': {'beta': array([-0.]), 'alpha': array([0.001])},\n",
              "  'Sharpe Ratio': 0.55,\n",
              "  'Piotroski F-Score': '',\n",
              "  'Revenue Growth': '',\n",
              "  'Earning per Share': '',\n",
              "  'Price to Earning': 0,\n",
              "  'Debt to Equity': 0,\n",
              "  'Free Cash Flow': '',\n",
              "  'Return on Equity': '',\n",
              "  'Dividend Yield': 21.830985915492956},\n",
              " 'DPUM.JK': {'Average Daily Returns': -0.0008331955114333686,\n",
              "  'Beta Alpha': {'beta': array([-0.012]), 'alpha': array([-0.001])},\n",
              "  'Sharpe Ratio': -0.4,\n",
              "  'Piotroski F-Score': '',\n",
              "  'Revenue Growth': -21.127204105075865,\n",
              "  'Earning per Share': -90.02965188372463,\n",
              "  'Price to Earning': -0.2665788381698571,\n",
              "  'Debt to Equity': 1.0573470047411995,\n",
              "  'Free Cash Flow': '',\n",
              "  'Return on Equity': -53.6784554821487,\n",
              "  'Dividend Yield': 0.0},\n",
              " 'DRMA.JK': {'Average Daily Returns': 0.002393866048689623,\n",
              "  'Beta Alpha': '',\n",
              "  'Sharpe Ratio': 1.13,\n",
              "  'Piotroski F-Score': '',\n",
              "  'Revenue Growth': -35.65153168596682,\n",
              "  'Earning per Share': 4.017518367845934,\n",
              "  'Price to Earning': 277.5345120818521,\n",
              "  'Debt to Equity': 1.005508234624351,\n",
              "  'Free Cash Flow': '',\n",
              "  'Return on Equity': 3.713845784395235,\n",
              "  'Dividend Yield': 0.0},\n",
              " 'DSFI.JK': {'Average Daily Returns': 0.0002553005711693594,\n",
              "  'Beta Alpha': {'beta': array([0.038]), 'alpha': array([0.])},\n",
              "  'Sharpe Ratio': 0.13,\n",
              "  'Piotroski F-Score': '',\n",
              "  'Revenue Growth': '',\n",
              "  'Earning per Share': '',\n",
              "  'Price to Earning': 0,\n",
              "  'Debt to Equity': 0,\n",
              "  'Free Cash Flow': '',\n",
              "  'Return on Equity': '',\n",
              "  'Dividend Yield': 0.0},\n",
              " 'DSNG.JK': {'Average Daily Returns': 0.0007729713569718337,\n",
              "  'Beta Alpha': {'beta': array([-0.012]), 'alpha': array([0.001])},\n",
              "  'Sharpe Ratio': 0.46,\n",
              "  'Piotroski F-Score': '',\n",
              "  'Revenue Growth': -5.973433906543551,\n",
              "  'Earning per Share': 44.96660395796034,\n",
              "  'Price to Earning': 13.009654910718218,\n",
              "  'Debt to Equity': 0.9109967342636678,\n",
              "  'Free Cash Flow': '',\n",
              "  'Return on Equity': 7.785971343772956,\n",
              "  'Dividend Yield': 21.794871794871796},\n",
              " 'DSSA.JK': {'Average Daily Returns': 0.002559648511304645,\n",
              "  'Beta Alpha': {'beta': array([0.05]), 'alpha': array([0.003])},\n",
              "  'Sharpe Ratio': 1.27,\n",
              "  'Piotroski F-Score': '',\n",
              "  'Revenue Growth': -30.376003490022846,\n",
              "  'Earning per Share': -0.10878166431337534,\n",
              "  'Price to Earning': -1102897.2645093864,\n",
              "  'Debt to Equity': 0.34430739472158184,\n",
              "  'Free Cash Flow': '',\n",
              "  'Return on Equity': -6.168013038164247,\n",
              "  'Dividend Yield': 0.0},\n",
              " 'DUCK.JK': {'Average Daily Returns': -0.0007876853543794674,\n",
              "  'Beta Alpha': {'beta': array([0.019]), 'alpha': array([-0.001])},\n",
              "  'Sharpe Ratio': -0.42,\n",
              "  'Piotroski F-Score': '',\n",
              "  'Revenue Growth': '',\n",
              "  'Earning per Share': '',\n",
              "  'Price to Earning': 0,\n",
              "  'Debt to Equity': 0,\n",
              "  'Free Cash Flow': '',\n",
              "  'Return on Equity': '',\n",
              "  'Dividend Yield': 0.0},\n",
              " 'DUTI.JK': {'Average Daily Returns': 0.00020336426867715394,\n",
              "  'Beta Alpha': {'beta': array([-0.032]), 'alpha': array([0.])},\n",
              "  'Sharpe Ratio': 0.13,\n",
              "  'Piotroski F-Score': '',\n",
              "  'Revenue Growth': -20.800317788634224,\n",
              "  'Earning per Share': 288.5017315416216,\n",
              "  'Price to Earning': 16.291063401544747,\n",
              "  'Debt to Equity': 0.00036226366988094307,\n",
              "  'Free Cash Flow': '',\n",
              "  'Return on Equity': 6.284275900871974,\n",
              "  'Dividend Yield': 8.829787234042554},\n",
              " 'DVLA.JK': {'Average Daily Returns': -0.00018286384302891576,\n",
              "  'Beta Alpha': {'beta': array([-0.068]), 'alpha': array([-0.])},\n",
              "  'Sharpe Ratio': -0.17,\n",
              "  'Piotroski F-Score': '',\n",
              "  'Revenue Growth': -3.745293525376388,\n",
              "  'Earning per Share': 144.70802142857144,\n",
              "  'Price to Earning': 10.15838642176169,\n",
              "  'Debt to Equity': 0.0011802508445429344,\n",
              "  'Free Cash Flow': '',\n",
              "  'Return on Equity': 12.113313285918572,\n",
              "  'Dividend Yield': 60.238095238095234},\n",
              " 'DWGL.JK': {'Average Daily Returns': -0.00015979064351036903,\n",
              "  'Beta Alpha': {'beta': array([-0.157]), 'alpha': array([-0.])},\n",
              "  'Sharpe Ratio': -0.06,\n",
              "  'Piotroski F-Score': '',\n",
              "  'Revenue Growth': -31.73168752353943,\n",
              "  'Earning per Share': 3.84373046519865,\n",
              "  'Price to Earning': 27.57737592677996,\n",
              "  'Debt to Equity': -8.612474482529196,\n",
              "  'Free Cash Flow': '',\n",
              "  'Return on Equity': -67.68519733521032,\n",
              "  'Dividend Yield': 0.0},\n",
              " 'DYAN.JK': {'Average Daily Returns': 0.000973160953779658,\n",
              "  'Beta Alpha': {'beta': array([-0.113]), 'alpha': array([0.001])},\n",
              "  'Sharpe Ratio': 0.47,\n",
              "  'Piotroski F-Score': '',\n",
              "  'Revenue Growth': -49.59883040290966,\n",
              "  'Earning per Share': -50.452262779431585,\n",
              "  'Price to Earning': -1.5856573242263865,\n",
              "  'Debt to Equity': 0.5082801296146588,\n",
              "  'Free Cash Flow': '',\n",
              "  'Return on Equity': -41.584899142631656,\n",
              "  'Dividend Yield': 8.75},\n",
              " 'EAST.JK': {'Average Daily Returns': 0.0012119197447247188,\n",
              "  'Beta Alpha': {'beta': array([-0.201]), 'alpha': array([0.001])},\n",
              "  'Sharpe Ratio': 0.79,\n",
              "  'Piotroski F-Score': '',\n",
              "  'Revenue Growth': '',\n",
              "  'Earning per Share': '',\n",
              "  'Price to Earning': 0,\n",
              "  'Debt to Equity': 0,\n",
              "  'Free Cash Flow': '',\n",
              "  'Return on Equity': '',\n",
              "  'Dividend Yield': 2.3357664233576645},\n",
              " 'ECII.JK': {'Average Daily Returns': -0.0006232633917351048,\n",
              "  'Beta Alpha': {'beta': array([-0.052]), 'alpha': array([-0.001])},\n",
              "  'Sharpe Ratio': -0.31,\n",
              "  'Piotroski F-Score': '',\n",
              "  'Revenue Growth': -10.647699292497862,\n",
              "  'Earning per Share': -17.555604990582193,\n",
              "  'Price to Earning': -15.721474716938653,\n",
              "  'Debt to Equity': 0.026020214426879542,\n",
              "  'Free Cash Flow': '',\n",
              "  'Return on Equity': -1.637141804868531,\n",
              "  'Dividend Yield': 15.677536231884059},\n",
              " 'EDGE.JK': {'Average Daily Returns': 0.002514875356223567,\n",
              "  'Beta Alpha': '',\n",
              "  'Sharpe Ratio': 0.84,\n",
              "  'Piotroski F-Score': '',\n",
              "  'Revenue Growth': -19.07102486363621,\n",
              "  'Earning per Share': 60.27818387053629,\n",
              "  'Price to Earning': 74.81977243518891,\n",
              "  'Debt to Equity': 0.41950654206969223,\n",
              "  'Free Cash Flow': '',\n",
              "  'Return on Equity': 39.60665569526387,\n",
              "  'Dividend Yield': 0.0},\n",
              " 'EKAD.JK': {'Average Daily Returns': 0.00029142739683160005,\n",
              "  'Beta Alpha': {'beta': array([-0.013]), 'alpha': array([0.])},\n",
              "  'Sharpe Ratio': 0.4,\n",
              "  'Piotroski F-Score': '',\n",
              "  'Revenue Growth': '',\n",
              "  'Earning per Share': '',\n",
              "  'Price to Earning': 0,\n",
              "  'Debt to Equity': 0,\n",
              "  'Free Cash Flow': '',\n",
              "  'Return on Equity': '',\n",
              "  'Dividend Yield': 86.07142857142858},\n",
              " 'ELIT.JK': {'Average Daily Returns': 0.0004522847261623241,\n",
              "  'Beta Alpha': '',\n",
              "  'Sharpe Ratio': 0.13,\n",
              "  'Piotroski F-Score': '',\n",
              "  'Revenue Growth': '',\n",
              "  'Earning per Share': '',\n",
              "  'Price to Earning': 0,\n",
              "  'Debt to Equity': 0,\n",
              "  'Free Cash Flow': '',\n",
              "  'Return on Equity': '',\n",
              "  'Dividend Yield': 0.0},\n",
              " 'ELPI.JK': {'Average Daily Returns': 0.00044536301062680163,\n",
              "  'Beta Alpha': '',\n",
              "  'Sharpe Ratio': 0.26,\n",
              "  'Piotroski F-Score': '',\n",
              "  'Revenue Growth': -10.967317069561293,\n",
              "  'Earning per Share': 16.159471686026006,\n",
              "  'Price to Earning': 16.460934191928132,\n",
              "  'Debt to Equity': 0.21195191458029997,\n",
              "  'Free Cash Flow': '',\n",
              "  'Return on Equity': 8.861435657042746,\n",
              "  'Dividend Yield': 0.0},\n",
              " 'ELSA.JK': {'Average Daily Returns': 0.000972876589812219,\n",
              "  'Beta Alpha': {'beta': array([-0.076]), 'alpha': array([0.001])},\n",
              "  'Sharpe Ratio': 0.63,\n",
              "  'Piotroski F-Score': '',\n",
              "  'Revenue Growth': -5.034287819070534,\n",
              "  'Earning per Share': 34.1278340376417,\n",
              "  'Price to Earning': 11.193209612384676,\n",
              "  'Debt to Equity': 0.3324609212657089,\n",
              "  'Free Cash Flow': '',\n",
              "  'Return on Equity': 6.660947447183239,\n",
              "  'Dividend Yield': 32.42557591623037},\n",
              " 'ELTY.JK': {'Average Daily Returns': 0.0,\n",
              "  'Beta Alpha': {'beta': array([0.]), 'alpha': array([0.])},\n",
              "  'Sharpe Ratio': nan,\n",
              "  'Piotroski F-Score': '',\n",
              "  'Revenue Growth': -21.442740403615456,\n",
              "  'Earning per Share': -171.885,\n",
              "  'Price to Earning': -0.29089216627396225,\n",
              "  'Debt to Equity': 0.11097966352338223,\n",
              "  'Free Cash Flow': '',\n",
              "  'Return on Equity': -3.309449836060253,\n",
              "  'Dividend Yield': 2.0},\n",
              " 'EMDE.JK': {'Average Daily Returns': -0.00022653444509464595,\n",
              "  'Beta Alpha': {'beta': array([-0.1]), 'alpha': array([-0.])},\n",
              "  'Sharpe Ratio': -0.14,\n",
              "  'Piotroski F-Score': '',\n",
              "  'Revenue Growth': -50.617228090960396,\n",
              "  'Earning per Share': -16.81954320988014,\n",
              "  'Price to Earning': -7.6696494304448635,\n",
              "  'Debt to Equity': 1.768920540868285,\n",
              "  'Free Cash Flow': '',\n",
              "  'Return on Equity': -10.328297041719665,\n",
              "  'Dividend Yield': 3.875968992248062},\n",
              " 'EMTK.JK': {'Average Daily Returns': 0.0005645097710171886,\n",
              "  'Beta Alpha': {'beta': array([0.04]), 'alpha': array([0.001])},\n",
              "  'Sharpe Ratio': 0.25,\n",
              "  'Piotroski F-Score': '',\n",
              "  'Revenue Growth': -7.042839908545745,\n",
              "  'Earning per Share': 33.70074803526708,\n",
              "  'Price to Earning': 13.768240381917764,\n",
              "  'Debt to Equity': 0.09380261420874682,\n",
              "  'Free Cash Flow': '',\n",
              "  'Return on Equity': 19.257520688077303,\n",
              "  'Dividend Yield': 234.39655172413788},\n",
              " 'ENAK.JK': {'Average Daily Returns': 0.0012557817732096002,\n",
              "  'Beta Alpha': '',\n",
              "  'Sharpe Ratio': 0.77,\n",
              "  'Piotroski F-Score': '',\n",
              "  'Revenue Growth': -29.033530575094858,\n",
              "  'Earning per Share': -62.661191878830024,\n",
              "  'Price to Earning': -19.94855128860564,\n",
              "  'Debt to Equity': 4.225227562744349,\n",
              "  'Free Cash Flow': '',\n",
              "  'Return on Equity': -123.00460450788151,\n",
              "  'Dividend Yield': 0.0},\n",
              " 'ENRG.JK': {'Average Daily Returns': 0.002334574339927024,\n",
              "  'Beta Alpha': {'beta': array([-0.108]), 'alpha': array([0.002])},\n",
              "  'Sharpe Ratio': 0.9,\n",
              "  'Piotroski F-Score': '',\n",
              "  'Revenue Growth': -19.998872287363973,\n",
              "  'Earning per Share': 0.002161834643892969,\n",
              "  'Price to Earning': 100840.27500245436,\n",
              "  'Debt to Equity': 0.418397923409149,\n",
              "  'Free Cash Flow': '',\n",
              "  'Return on Equity': 16.948513703602977,\n",
              "  'Dividend Yield': 0.1628440366972477},\n",
              " 'ENVY.JK': {'Average Daily Returns': -0.0004970177403872217,\n",
              "  'Beta Alpha': {'beta': array([0.028]), 'alpha': array([-0.001])},\n",
              "  'Sharpe Ratio': -0.5,\n",
              "  'Piotroski F-Score': '',\n",
              "  'Revenue Growth': 147.66979744829507,\n",
              "  'Earning per Share': -14.516874212222222,\n",
              "  'Price to Earning': -3.444267634275111,\n",
              "  'Debt to Equity': 0,\n",
              "  'Free Cash Flow': '',\n",
              "  'Return on Equity': -9.314604828799936,\n",
              "  'Dividend Yield': 0.0},\n",
              " 'ENZO.JK': {'Average Daily Returns': -0.0010029864518618272,\n",
              "  'Beta Alpha': '',\n",
              "  'Sharpe Ratio': -0.71,\n",
              "  'Piotroski F-Score': '',\n",
              "  'Revenue Growth': '',\n",
              "  'Earning per Share': '',\n",
              "  'Price to Earning': 0,\n",
              "  'Debt to Equity': 0,\n",
              "  'Free Cash Flow': '',\n",
              "  'Return on Equity': '',\n",
              "  'Dividend Yield': 0.0},\n",
              " 'EPAC.JK': {'Average Daily Returns': -0.0026049924590080004,\n",
              "  'Beta Alpha': '',\n",
              "  'Sharpe Ratio': -0.96,\n",
              "  'Piotroski F-Score': '',\n",
              "  'Revenue Growth': '',\n",
              "  'Earning per Share': '',\n",
              "  'Price to Earning': 0,\n",
              "  'Debt to Equity': 0,\n",
              "  'Free Cash Flow': '',\n",
              "  'Return on Equity': '',\n",
              "  'Dividend Yield': 0.0},\n",
              " 'EPMT.JK': {'Average Daily Returns': 0.0004764071996671664,\n",
              "  'Beta Alpha': {'beta': array([-0.031]), 'alpha': array([0.])},\n",
              "  'Sharpe Ratio': 0.57,\n",
              "  'Piotroski F-Score': '',\n",
              "  'Revenue Growth': -12.184961575958834,\n",
              "  'Earning per Share': 251.2692493937917,\n",
              "  'Price to Earning': 9.43211318423494,\n",
              "  'Debt to Equity': 0.03357790557092232,\n",
              "  'Free Cash Flow': '',\n",
              "  'Return on Equity': 10.402578182111295,\n",
              "  'Dividend Yield': 25.82278481012658},\n",
              " 'ERAA.JK': {'Average Daily Returns': 0.0010185034650027696,\n",
              "  'Beta Alpha': {'beta': array([0.088]), 'alpha': array([0.001])},\n",
              "  'Sharpe Ratio': 0.62,\n",
              "  'Piotroski F-Score': '',\n",
              "  'Revenue Growth': -21.5186851305919,\n",
              "  'Earning per Share': 38.77496332787986,\n",
              "  'Price to Earning': 10.728572364654925,\n",
              "  'Debt to Equity': 1.5218904176688643,\n",
              "  'Free Cash Flow': '',\n",
              "  'Return on Equity': 11.31499179444198,\n",
              "  'Dividend Yield': 24.85576923076923},\n",
              " 'ERAL.JK': {'Average Daily Returns': -0.001988258020864119,\n",
              "  'Beta Alpha': '',\n",
              "  'Sharpe Ratio': -1.47,\n",
              "  'Piotroski F-Score': '',\n",
              "  'Revenue Growth': -10.143582599433477,\n",
              "  'Earning per Share': 14.101677129204113,\n",
              "  'Price to Earning': 22.97599051739786,\n",
              "  'Debt to Equity': 0,\n",
              "  'Free Cash Flow': '',\n",
              "  'Return on Equity': 13.465918021730358,\n",
              "  'Dividend Yield': 0.0},\n",
              " 'ERTX.JK': {'Average Daily Returns': 0.0019368540339707383,\n",
              "  'Beta Alpha': {'beta': array([-0.038]), 'alpha': array([0.002])},\n",
              "  'Sharpe Ratio': 0.58,\n",
              "  'Piotroski F-Score': '',\n",
              "  'Revenue Growth': '',\n",
              "  'Earning per Share': '',\n",
              "  'Price to Earning': 0,\n",
              "  'Debt to Equity': 0,\n",
              "  'Free Cash Flow': '',\n",
              "  'Return on Equity': '',\n",
              "  'Dividend Yield': 9.541984732824428},\n",
              " 'ESIP.JK': {'Average Daily Returns': -0.00036305538957954325,\n",
              "  'Beta Alpha': {'beta': array([-0.073]), 'alpha': array([-0.])},\n",
              "  'Sharpe Ratio': -0.14,\n",
              "  'Piotroski F-Score': '',\n",
              "  'Revenue Growth': '',\n",
              "  'Earning per Share': '',\n",
              "  'Price to Earning': 0,\n",
              "  'Debt to Equity': 0,\n",
              "  'Free Cash Flow': '',\n",
              "  'Return on Equity': '',\n",
              "  'Dividend Yield': 1.8618},\n",
              " 'ESSA.JK': {'Average Daily Returns': 0.0023325754630298054,\n",
              "  'Beta Alpha': {'beta': array([-0.055]), 'alpha': array([0.002])},\n",
              "  'Sharpe Ratio': 0.84,\n",
              "  'Piotroski F-Score': '',\n",
              "  'Revenue Growth': -42.15790395924719,\n",
              "  'Earning per Share': -0.0011102580956155776,\n",
              "  'Price to Earning': -486373.3956387856,\n",
              "  'Debt to Equity': 0.8205787050058335,\n",
              "  'Free Cash Flow': '',\n",
              "  'Return on Equity': -9.739289633009337,\n",
              "  'Dividend Yield': 0.0},\n",
              " 'ESTA.JK': {'Average Daily Returns': 0.0022878005136730247,\n",
              "  'Beta Alpha': {'beta': array([-0.147]), 'alpha': array([0.002])},\n",
              "  'Sharpe Ratio': 0.69,\n",
              "  'Piotroski F-Score': '',\n",
              "  'Revenue Growth': '',\n",
              "  'Earning per Share': '',\n",
              "  'Price to Earning': 0,\n",
              "  'Debt to Equity': 0,\n",
              "  'Free Cash Flow': '',\n",
              "  'Return on Equity': '',\n",
              "  'Dividend Yield': 0.0},\n",
              " 'ESTI.JK': {'Average Daily Returns': 0.00058166401865521,\n",
              "  'Beta Alpha': {'beta': array([0.005]), 'alpha': array([0.001])},\n",
              "  'Sharpe Ratio': 0.26,\n",
              "  'Piotroski F-Score': '',\n",
              "  'Revenue Growth': '',\n",
              "  'Earning per Share': '',\n",
              "  'Price to Earning': 0,\n",
              "  'Debt to Equity': 0,\n",
              "  'Free Cash Flow': '',\n",
              "  'Return on Equity': '',\n",
              "  'Dividend Yield': 12.0},\n",
              " 'ETWA.JK': {'Average Daily Returns': 0.00044347234133690995,\n",
              "  'Beta Alpha': {'beta': array([0.057]), 'alpha': array([0.])},\n",
              "  'Sharpe Ratio': 0.21,\n",
              "  'Piotroski F-Score': '',\n",
              "  'Revenue Growth': -87.42081979686273,\n",
              "  'Earning per Share': 15.507160224505842,\n",
              "  'Price to Earning': 4.5140437698824805,\n",
              "  'Debt to Equity': -3.648180842838706,\n",
              "  'Free Cash Flow': '',\n",
              "  'Return on Equity': -26.954324585286276,\n",
              "  'Dividend Yield': 2.3142857142857145},\n",
              " 'EURO.JK': {'Average Daily Returns': 0.002376026436191882,\n",
              "  'Beta Alpha': '',\n",
              "  'Sharpe Ratio': 0.72,\n",
              "  'Piotroski F-Score': '',\n",
              "  'Revenue Growth': '',\n",
              "  'Earning per Share': '',\n",
              "  'Price to Earning': 0,\n",
              "  'Debt to Equity': 0,\n",
              "  'Free Cash Flow': '',\n",
              "  'Return on Equity': '',\n",
              "  'Dividend Yield': 0.0},\n",
              " 'EXCL.JK': {'Average Daily Returns': 7.91358560499365e-05,\n",
              "  'Beta Alpha': {'beta': array([0.04]), 'alpha': array([0.])},\n",
              "  'Sharpe Ratio': 0.05,\n",
              "  'Piotroski F-Score': '',\n",
              "  'Revenue Growth': -2.7844569326886957,\n",
              "  'Earning per Share': 28.427237815955426,\n",
              "  'Price to Earning': 86.5367228404889,\n",
              "  'Debt to Equity': 2.3993914435480828,\n",
              "  'Free Cash Flow': '',\n",
              "  'Return on Equity': 1.9417405718216394,\n",
              "  'Dividend Yield': 20.95853658536585},\n",
              " 'FAPA.JK': {'Average Daily Returns': 0.0011696190634833238,\n",
              "  'Beta Alpha': '',\n",
              "  'Sharpe Ratio': 1.53,\n",
              "  'Piotroski F-Score': '',\n",
              "  'Revenue Growth': -22.803743274147756,\n",
              "  'Earning per Share': -33.15293190123443,\n",
              "  'Price to Earning': -159.86519731615826,\n",
              "  'Debt to Equity': 1.2924967457644585,\n",
              "  'Free Cash Flow': '',\n",
              "  'Return on Equity': -4.649079347592325,\n",
              "  'Dividend Yield': 0.0},\n",
              " 'FAST.JK': {'Average Daily Returns': -0.00018340724853683525,\n",
              "  'Beta Alpha': {'beta': array([-0.06]), 'alpha': array([-0.])},\n",
              "  'Sharpe Ratio': -0.19,\n",
              "  'Piotroski F-Score': '',\n",
              "  'Revenue Growth': -0.004797818267345441,\n",
              "  'Earning per Share': -94.60197752758164,\n",
              "  'Price to Earning': -7.610834559880957,\n",
              "  'Debt to Equity': 0.7418565327443655,\n",
              "  'Free Cash Flow': '',\n",
              "  'Return on Equity': -27.60502698093178,\n",
              "  'Dividend Yield': 145.83540277777774},\n",
              " 'FASW.JK': {'Average Daily Returns': -0.00013399944877993825,\n",
              "  'Beta Alpha': {'beta': array([0.046]), 'alpha': array([-0.])},\n",
              "  'Sharpe Ratio': -0.15,\n",
              "  'Piotroski F-Score': '',\n",
              "  'Revenue Growth': -33.71354671709585,\n",
              "  'Earning per Share': 142.5805799111874,\n",
              "  'Price to Earning': 38.92535718017883,\n",
              "  'Debt to Equity': 1.3785942941230147,\n",
              "  'Free Cash Flow': '',\n",
              "  'Return on Equity': 7.657591755353447,\n",
              "  'Dividend Yield': 17.243243243243242},\n",
              " 'FILM.JK': {'Average Daily Returns': 0.005141679208923998,\n",
              "  'Beta Alpha': {'beta': array([0.17]), 'alpha': array([0.005])},\n",
              "  'Sharpe Ratio': 1.62,\n",
              "  'Piotroski F-Score': '',\n",
              "  'Revenue Growth': -52.02120716216279,\n",
              "  'Earning per Share': -5.988714747690401,\n",
              "  'Price to Earning': -709.6681306517478,\n",
              "  'Debt to Equity': 0.0007508372528232522,\n",
              "  'Free Cash Flow': '',\n",
              "  'Return on Equity': -4.307394322179343,\n",
              "  'Dividend Yield': 0.25882352941176473},\n",
              " 'FIMP.JK': {'Average Daily Returns': -0.00046647765880628874,\n",
              "  'Beta Alpha': '',\n",
              "  'Sharpe Ratio': -0.23,\n",
              "  'Piotroski F-Score': '',\n",
              "  'Revenue Growth': '',\n",
              "  'Earning per Share': '',\n",
              "  'Price to Earning': 0,\n",
              "  'Debt to Equity': 0,\n",
              "  'Free Cash Flow': '',\n",
              "  'Return on Equity': '',\n",
              "  'Dividend Yield': 0.0},\n",
              " 'FIRE.JK': {'Average Daily Returns': 0.0016322135161147752,\n",
              "  'Beta Alpha': {'beta': array([0.314]), 'alpha': array([0.001])},\n",
              "  'Sharpe Ratio': 0.42,\n",
              "  'Piotroski F-Score': '',\n",
              "  'Revenue Growth': 27.08839101618974,\n",
              "  'Earning per Share': 9.37454515101399,\n",
              "  'Price to Earning': 10.560512366756456,\n",
              "  'Debt to Equity': 0.1127439947727356,\n",
              "  'Free Cash Flow': '',\n",
              "  'Return on Equity': 3.9195184983885865,\n",
              "  'Dividend Yield': 0.0},\n",
              " 'FISH.JK': {'Average Daily Returns': 0.0014467083520075742,\n",
              "  'Beta Alpha': {'beta': array([-0.258]), 'alpha': array([0.002])},\n",
              "  'Sharpe Ratio': 0.61,\n",
              "  'Piotroski F-Score': '',\n",
              "  'Revenue Growth': -27.041600277483706,\n",
              "  'Earning per Share': 0.040773141666666665,\n",
              "  'Price to Earning': 136119.0178910668,\n",
              "  'Debt to Equity': 1.3530380319072939,\n",
              "  'Free Cash Flow': '',\n",
              "  'Return on Equity': 15.271626750673494,\n",
              "  'Dividend Yield': 13.657657657657657},\n",
              " 'FITT.JK': {'Average Daily Returns': 0.003912359144112977,\n",
              "  'Beta Alpha': {'beta': array([0.017]), 'alpha': array([0.004])},\n",
              "  'Sharpe Ratio': 1.22,\n",
              "  'Piotroski F-Score': '',\n",
              "  'Revenue Growth': '',\n",
              "  'Earning per Share': '',\n",
              "  'Price to Earning': 0,\n",
              "  'Debt to Equity': 0,\n",
              "  'Free Cash Flow': '',\n",
              "  'Return on Equity': '',\n",
              "  'Dividend Yield': 0.0},\n",
              " 'FLMC.JK': {'Average Daily Returns': -0.0023144613365818855,\n",
              "  'Beta Alpha': '',\n",
              "  'Sharpe Ratio': -1.04,\n",
              "  'Piotroski F-Score': '',\n",
              "  'Revenue Growth': '',\n",
              "  'Earning per Share': '',\n",
              "  'Price to Earning': 0,\n",
              "  'Debt to Equity': 0,\n",
              "  'Free Cash Flow': '',\n",
              "  'Return on Equity': '',\n",
              "  'Dividend Yield': 0.0},\n",
              " 'FMII.JK': {'Average Daily Returns': 0.0013716402871296065,\n",
              "  'Beta Alpha': {'beta': array([-0.175]), 'alpha': array([0.001])},\n",
              "  'Sharpe Ratio': 0.35,\n",
              "  'Piotroski F-Score': '',\n",
              "  'Revenue Growth': -2.6877390529765517,\n",
              "  'Earning per Share': -0.2313708759375,\n",
              "  'Price to Earning': -881.7012909399467,\n",
              "  'Debt to Equity': 0.10419524286499583,\n",
              "  'Free Cash Flow': '',\n",
              "  'Return on Equity': -0.2369615938294759,\n",
              "  'Dividend Yield': 0.0},\n",
              " 'FOLK.JK': {'Average Daily Returns': -0.004677656539989756,\n",
              "  'Beta Alpha': '',\n",
              "  'Sharpe Ratio': -2.57,\n",
              "  'Piotroski F-Score': '',\n",
              "  'Revenue Growth': '',\n",
              "  'Earning per Share': '',\n",
              "  'Price to Earning': 0,\n",
              "  'Debt to Equity': 0,\n",
              "  'Free Cash Flow': '',\n",
              "  'Return on Equity': '',\n",
              "  'Dividend Yield': 0.0},\n",
              " 'FOOD.JK': {'Average Daily Returns': 0.000613593393108558,\n",
              "  'Beta Alpha': {'beta': array([-0.067]), 'alpha': array([0.001])},\n",
              "  'Sharpe Ratio': 0.23,\n",
              "  'Piotroski F-Score': '',\n",
              "  'Revenue Growth': '',\n",
              "  'Earning per Share': '',\n",
              "  'Price to Earning': 0,\n",
              "  'Debt to Equity': 0,\n",
              "  'Free Cash Flow': '',\n",
              "  'Return on Equity': '',\n",
              "  'Dividend Yield': 0.0},\n",
              " 'FORU.JK': {'Average Daily Returns': 0.00367403157459148,\n",
              "  'Beta Alpha': {'beta': array([0.247]), 'alpha': array([0.004])},\n",
              "  'Sharpe Ratio': 0.9,\n",
              "  'Piotroski F-Score': '',\n",
              "  'Revenue Growth': '',\n",
              "  'Earning per Share': '',\n",
              "  'Price to Earning': 0,\n",
              "  'Debt to Equity': 0,\n",
              "  'Free Cash Flow': '',\n",
              "  'Return on Equity': '',\n",
              "  'Dividend Yield': 5.555555555555555},\n",
              " 'FORZ.JK': {'Average Daily Returns': 0.0,\n",
              "  'Beta Alpha': {'beta': array([0.]), 'alpha': array([0.])},\n",
              "  'Sharpe Ratio': nan,\n",
              "  'Piotroski F-Score': '',\n",
              "  'Revenue Growth': '',\n",
              "  'Earning per Share': '',\n",
              "  'Price to Earning': 0,\n",
              "  'Debt to Equity': 0,\n",
              "  'Free Cash Flow': '',\n",
              "  'Return on Equity': '',\n",
              "  'Dividend Yield': 0.0},\n",
              " 'FPNI.JK': {'Average Daily Returns': 0.00165528767608587,\n",
              "  'Beta Alpha': {'beta': array([-0.133]), 'alpha': array([0.002])},\n",
              "  'Sharpe Ratio': 0.62,\n",
              "  'Piotroski F-Score': '',\n",
              "  'Revenue Growth': -24.928414738313403,\n",
              "  'Earning per Share': -0.000887466030531016,\n",
              "  'Price to Earning': -211839.09415384615,\n",
              "  'Debt to Equity': 0.005103758892116008,\n",
              "  'Free Cash Flow': '',\n",
              "  'Return on Equity': -5.198467820010944,\n",
              "  'Dividend Yield': 26.595744680851062},\n",
              " 'FREN.JK': {'Average Daily Returns': -0.00011300005531887849,\n",
              "  'Beta Alpha': {'beta': array([0.126]), 'alpha': array([-0.])},\n",
              "  'Sharpe Ratio': -0.05,\n",
              "  'Piotroski F-Score': '',\n",
              "  'Revenue Growth': -10.031205091602633,\n",
              "  'Earning per Share': -4.542772006928772,\n",
              "  'Price to Earning': -11.006495576651988,\n",
              "  'Debt to Equity': 1.9909616985229168,\n",
              "  'Free Cash Flow': '',\n",
              "  'Return on Equity': -12.320919084115195,\n",
              "  'Dividend Yield': 0.0},\n",
              " 'FUJI.JK': {'Average Daily Returns': 0.001700798581266631,\n",
              "  'Beta Alpha': {'beta': array([0.171]), 'alpha': array([0.002])},\n",
              "  'Sharpe Ratio': 0.68,\n",
              "  'Piotroski F-Score': '',\n",
              "  'Revenue Growth': -32.613222877556375,\n",
              "  'Earning per Share': 3.76757659,\n",
              "  'Price to Earning': 62.10889000135761,\n",
              "  'Debt to Equity': 0,\n",
              "  'Free Cash Flow': '',\n",
              "  'Return on Equity': 3.493888943456765,\n",
              "  'Dividend Yield': 0.0},\n",
              " 'FUTR.JK': {'Average Daily Returns': -0.002045260595239132,\n",
              "  'Beta Alpha': '',\n",
              "  'Sharpe Ratio': -0.69,\n",
              "  'Piotroski F-Score': '',\n",
              "  'Revenue Growth': '',\n",
              "  'Earning per Share': '',\n",
              "  'Price to Earning': 0,\n",
              "  'Debt to Equity': 0,\n",
              "  'Free Cash Flow': '',\n",
              "  'Return on Equity': '',\n",
              "  'Dividend Yield': 0.0},\n",
              " 'FWCT.JK': {'Average Daily Returns': -0.0026253332031953877,\n",
              "  'Beta Alpha': '',\n",
              "  'Sharpe Ratio': -1.0,\n",
              "  'Piotroski F-Score': '',\n",
              "  'Revenue Growth': '',\n",
              "  'Earning per Share': '',\n",
              "  'Price to Earning': 0,\n",
              "  'Debt to Equity': 0,\n",
              "  'Free Cash Flow': '',\n",
              "  'Return on Equity': '',\n",
              "  'Dividend Yield': 0.0},\n",
              " 'GAMA.JK': {'Average Daily Returns': -0.0011101714024232344,\n",
              "  'Beta Alpha': {'beta': array([0.058]), 'alpha': array([-0.001])},\n",
              "  'Sharpe Ratio': -1.81,\n",
              "  'Piotroski F-Score': '',\n",
              "  'Revenue Growth': 61.578258248275375,\n",
              "  'Earning per Share': -1.316876445194314,\n",
              "  'Price to Earning': -13.668708302656274,\n",
              "  'Debt to Equity': 0.08883279540858262,\n",
              "  'Free Cash Flow': '',\n",
              "  'Return on Equity': -1.2122378215436862,\n",
              "  'Dividend Yield': 0.0},\n",
              " 'GDST.JK': {'Average Daily Returns': 0.0016172658216311283,\n",
              "  'Beta Alpha': {'beta': array([0.245]), 'alpha': array([0.001])},\n",
              "  'Sharpe Ratio': 0.61,\n",
              "  'Piotroski F-Score': '',\n",
              "  'Revenue Growth': -20.360353030378736,\n",
              "  'Earning per Share': -9.15706739876628,\n",
              "  'Price to Earning': -14.524300653058306,\n",
              "  'Debt to Equity': 0.6469107534632513,\n",
              "  'Free Cash Flow': '',\n",
              "  'Return on Equity': -9.191961589909138,\n",
              "  'Dividend Yield': 0.0},\n",
              " 'GDYR.JK': {'Average Daily Returns': 0.00017300540901411658,\n",
              "  'Beta Alpha': {'beta': array([-0.093]), 'alpha': array([0.])},\n",
              "  'Sharpe Ratio': 0.11,\n",
              "  'Piotroski F-Score': '',\n",
              "  'Revenue Growth': '',\n",
              "  'Earning per Share': '',\n",
              "  'Price to Earning': 0,\n",
              "  'Debt to Equity': 0,\n",
              "  'Free Cash Flow': '',\n",
              "  'Return on Equity': '',\n",
              "  'Dividend Yield': 270.38378378378377},\n",
              " 'GEMA.JK': {'Average Daily Returns': 0.00014699083350802673,\n",
              "  'Beta Alpha': {'beta': array([-0.055]), 'alpha': array([0.])},\n",
              "  'Sharpe Ratio': 0.07,\n",
              "  'Piotroski F-Score': '',\n",
              "  'Revenue Growth': -11.354540439112494,\n",
              "  'Earning per Share': 0.78796998,\n",
              "  'Price to Earning': 332.4999767123108,\n",
              "  'Debt to Equity': 1.114308279936064,\n",
              "  'Free Cash Flow': '',\n",
              "  'Return on Equity': 0.3321696398078433,\n",
              "  'Dividend Yield': 30.99236641221374},\n",
              " 'GEMS.JK': {'Average Daily Returns': 0.0013021474887864699,\n",
              "  'Beta Alpha': {'beta': array([-0.044]), 'alpha': array([0.001])},\n",
              "  'Sharpe Ratio': 0.75,\n",
              "  'Piotroski F-Score': '',\n",
              "  'Revenue Growth': -33.074341959102135,\n",
              "  'Earning per Share': 0.015968342197001644,\n",
              "  'Price to Earning': 369481.05991289666,\n",
              "  'Debt to Equity': 0.3736172497340514,\n",
              "  'Free Cash Flow': '',\n",
              "  'Return on Equity': 27.106174379594716,\n",
              "  'Dividend Yield': 29.157254237288132},\n",
              " 'GGRM.JK': {'Average Daily Returns': -0.0007603630767558845,\n",
              "  'Beta Alpha': {'beta': array([0.103]), 'alpha': array([-0.001])},\n",
              "  'Sharpe Ratio': -0.57,\n",
              "  'Piotroski F-Score': '',\n",
              "  'Revenue Growth': -8.331077457206431,\n",
              "  'Earning per Share': 3974.7231489148485,\n",
              "  'Price to Earning': 5.031796995838631,\n",
              "  'Debt to Equity': 0.12167655792810166,\n",
              "  'Free Cash Flow': '',\n",
              "  'Return on Equity': 13.068028574627347,\n",
              "  'Dividend Yield': 105.4},\n",
              " 'GGRP.JK': {'Average Daily Returns': 0.0011300778437946203,\n",
              "  'Beta Alpha': {'beta': array([0.067]), 'alpha': array([0.001])},\n",
              "  'Sharpe Ratio': 0.49,\n",
              "  'Piotroski F-Score': '',\n",
              "  'Revenue Growth': -15.073345150358064,\n",
              "  'Earning per Share': -0.0007392656544506004,\n",
              "  'Price to Earning': -562720.5829129969,\n",
              "  'Debt to Equity': 0.1825381033536602,\n",
              "  'Free Cash Flow': '',\n",
              "  'Return on Equity': -1.2972787122176683,\n",
              "  'Dividend Yield': 0.0},\n",
              " 'GHON.JK': {'Average Daily Returns': 0.0003638833328803958,\n",
              "  'Beta Alpha': {'beta': array([0.048]), 'alpha': array([0.])},\n",
              "  'Sharpe Ratio': 0.19,\n",
              "  'Piotroski F-Score': '',\n",
              "  'Revenue Growth': '',\n",
              "  'Earning per Share': '',\n",
              "  'Price to Earning': 0,\n",
              "  'Debt to Equity': 0,\n",
              "  'Free Cash Flow': '',\n",
              "  'Return on Equity': '',\n",
              "  'Dividend Yield': 4.513513513513513},\n",
              " 'GIAA.JK': {'Average Daily Returns': -0.0010560638295207688,\n",
              "  'Beta Alpha': {'beta': array([0.054]), 'alpha': array([-0.001])},\n",
              "  'Sharpe Ratio': -0.65,\n",
              "  'Piotroski F-Score': '',\n",
              "  'Revenue Growth': 11.644732259359277,\n",
              "  'Earning per Share': -0.09437480551790649,\n",
              "  'Price to Earning': -752.3194311275015,\n",
              "  'Debt to Equity': -2.1126748823633656,\n",
              "  'Free Cash Flow': '',\n",
              "  'Return on Equity': 127.2626657564668,\n",
              "  'Dividend Yield': 0.0},\n",
              " 'GJTL.JK': {'Average Daily Returns': 0.0015728554363860683,\n",
              "  'Beta Alpha': {'beta': array([-0.026]), 'alpha': array([0.002])},\n",
              "  'Sharpe Ratio': 0.81,\n",
              "  'Piotroski F-Score': '',\n",
              "  'Revenue Growth': -12.444791620096222,\n",
              "  'Earning per Share': 91.94554880226453,\n",
              "  'Price to Earning': 12.453022630409269,\n",
              "  'Debt to Equity': 0.7248307514731938,\n",
              "  'Free Cash Flow': '',\n",
              "  'Return on Equity': 4.550810322249632,\n",
              "  'Dividend Yield': 9.956331877729257},\n",
              " 'GLOB.JK': {'Average Daily Returns': 0.000940373271935269,\n",
              "  'Beta Alpha': {'beta': array([0.115]), 'alpha': array([0.001])},\n",
              "  'Sharpe Ratio': 0.26,\n",
              "  'Piotroski F-Score': '',\n",
              "  'Revenue Growth': '',\n",
              "  'Earning per Share': '',\n",
              "  'Price to Earning': 0,\n",
              "  'Debt to Equity': 0,\n",
              "  'Free Cash Flow': '',\n",
              "  'Return on Equity': '',\n",
              "  'Dividend Yield': 69.86301369863014},\n",
              " 'GLVA.JK': {'Average Daily Returns': 0.0010516289560419693,\n",
              "  'Beta Alpha': {'beta': array([0.066]), 'alpha': array([0.001])},\n",
              "  'Sharpe Ratio': 0.43,\n",
              "  'Piotroski F-Score': '',\n",
              "  'Revenue Growth': '',\n",
              "  'Earning per Share': '',\n",
              "  'Price to Earning': 0,\n",
              "  'Debt to Equity': 0,\n",
              "  'Free Cash Flow': '',\n",
              "  'Return on Equity': '',\n",
              "  'Dividend Yield': 1.4705882352941175},\n",
              " 'GMFI.JK': {'Average Daily Returns': 0.00034612436530294047,\n",
              "  'Beta Alpha': {'beta': array([0.101]), 'alpha': array([0.])},\n",
              "  'Sharpe Ratio': 0.18,\n",
              "  'Piotroski F-Score': '',\n",
              "  'Revenue Growth': 20.53632139272797,\n",
              "  'Earning per Share': -0.01164535215875904,\n",
              "  'Price to Earning': -6612.079991250804,\n",
              "  'Debt to Equity': -2.154062796761823,\n",
              "  'Free Cash Flow': '',\n",
              "  'Return on Equity': 153.4392833243507,\n",
              "  'Dividend Yield': 10.513155844155845},\n",
              " 'GMTD.JK': {'Average Daily Returns': 0.0009836542787690944,\n",
              "  'Beta Alpha': {'beta': array([0.055]), 'alpha': array([0.001])},\n",
              "  'Sharpe Ratio': 1.04,\n",
              "  'Piotroski F-Score': '',\n",
              "  'Revenue Growth': 20.731036378329314,\n",
              "  'Earning per Share': -104.34522041309367,\n",
              "  'Price to Earning': -40.25100510950635,\n",
              "  'Debt to Equity': 0.0021540714797715892,\n",
              "  'Free Cash Flow': '',\n",
              "  'Return on Equity': -18.11301377650669,\n",
              "  'Dividend Yield': 12.595238095238095},\n",
              " 'GOLD.JK': {'Average Daily Returns': 0.001604739584632714,\n",
              "  'Beta Alpha': {'beta': array([-0.128]), 'alpha': array([0.002])},\n",
              "  'Sharpe Ratio': 0.5,\n",
              "  'Piotroski F-Score': '',\n",
              "  'Revenue Growth': '',\n",
              "  'Earning per Share': '',\n",
              "  'Price to Earning': 0,\n",
              "  'Debt to Equity': 0,\n",
              "  'Free Cash Flow': '',\n",
              "  'Return on Equity': '',\n",
              "  'Dividend Yield': 0.0},\n",
              " 'GOLL.JK': {'Average Daily Returns': 0.0,\n",
              "  'Beta Alpha': {'beta': array([0.]), 'alpha': array([0.])},\n",
              "  'Sharpe Ratio': nan,\n",
              "  'Piotroski F-Score': '',\n",
              "  'Revenue Growth': '',\n",
              "  'Earning per Share': '',\n",
              "  'Price to Earning': 0,\n",
              "  'Debt to Equity': 0,\n",
              "  'Free Cash Flow': '',\n",
              "  'Return on Equity': -155.9711578606707,\n",
              "  'Dividend Yield': 0.0},\n",
              " 'GOOD.JK': {'Average Daily Returns': 0.000695255240534309,\n",
              "  'Beta Alpha': {'beta': array([-0.039]), 'alpha': array([0.001])},\n",
              "  'Sharpe Ratio': 0.66,\n",
              "  'Piotroski F-Score': '',\n",
              "  'Revenue Growth': -12.275587207126764,\n",
              "  'Earning per Share': 7.033344357477408,\n",
              "  'Price to Earning': 61.42170467463673,\n",
              "  'Debt to Equity': 0.7432958592507778,\n",
              "  'Free Cash Flow': '',\n",
              "  'Return on Equity': 10.069296175885494,\n",
              "  'Dividend Yield': 10.416666666666668},\n",
              " 'GOTO.JK': {'Average Daily Returns': -0.002351922774758341,\n",
              "  'Beta Alpha': '',\n",
              "  'Sharpe Ratio': -0.8,\n",
              "  'Piotroski F-Score': '',\n",
              "  'Revenue Growth': -26.6303317368364,\n",
              "  'Earning per Share': -15.496719656944837,\n",
              "  'Price to Earning': -4.517085005705035,\n",
              "  'Debt to Equity': 0.10951993711288675,\n",
              "  'Free Cash Flow': '',\n",
              "  'Return on Equity': -83.19337623275351,\n",
              "  'Dividend Yield': 0.0},\n",
              " 'GPRA.JK': {'Average Daily Returns': 0.0010156373176687127,\n",
              "  'Beta Alpha': {'beta': array([-0.127]), 'alpha': array([0.001])},\n",
              "  'Sharpe Ratio': 0.6,\n",
              "  'Piotroski F-Score': '',\n",
              "  'Revenue Growth': -27.52150576453395,\n",
              "  'Earning per Share': 6.96457135588667,\n",
              "  'Price to Earning': 13.209714611113686,\n",
              "  'Debt to Equity': 0.24773181657329074,\n",
              "  'Free Cash Flow': '',\n",
              "  'Return on Equity': 3.016381648548921,\n",
              "  'Dividend Yield': 22.418478260869566},\n",
              " 'GPSO.JK': {'Average Daily Returns': 0.00012186054482461454,\n",
              "  'Beta Alpha': '',\n",
              "  'Sharpe Ratio': 0.04,\n",
              "  'Piotroski F-Score': '',\n",
              "  'Revenue Growth': '',\n",
              "  'Earning per Share': '',\n",
              "  'Price to Earning': 0,\n",
              "  'Debt to Equity': 0,\n",
              "  'Free Cash Flow': '',\n",
              "  'Return on Equity': '',\n",
              "  'Dividend Yield': 0.0},\n",
              " 'GRIA.JK': {'Average Daily Returns': 0.0013335627634279731,\n",
              "  'Beta Alpha': '',\n",
              "  'Sharpe Ratio': 0.42,\n",
              "  'Piotroski F-Score': '',\n",
              "  'Revenue Growth': '',\n",
              "  'Earning per Share': '',\n",
              "  'Price to Earning': 0,\n",
              "  'Debt to Equity': 0,\n",
              "  'Free Cash Flow': '',\n",
              "  'Return on Equity': '',\n",
              "  'Dividend Yield': 0.0},\n",
              " 'GRPH.JK': {'Average Daily Returns': -0.04418692096632932,\n",
              "  'Beta Alpha': '',\n",
              "  'Sharpe Ratio': -16.67,\n",
              "  'Piotroski F-Score': '',\n",
              "  'Revenue Growth': '',\n",
              "  'Earning per Share': '',\n",
              "  'Price to Earning': 0,\n",
              "  'Debt to Equity': 0,\n",
              "  'Free Cash Flow': '',\n",
              "  'Return on Equity': '',\n",
              "  'Dividend Yield': 0.0},\n",
              " 'GRPM.JK': {'Average Daily Returns': -0.005181289066933113,\n",
              "  'Beta Alpha': '',\n",
              "  'Sharpe Ratio': -2.25,\n",
              "  'Piotroski F-Score': '',\n",
              "  'Revenue Growth': '',\n",
              "  'Earning per Share': '',\n",
              "  'Price to Earning': 0,\n",
              "  'Debt to Equity': 0,\n",
              "  'Free Cash Flow': '',\n",
              "  'Return on Equity': '',\n",
              "  'Dividend Yield': 0.0},\n",
              " 'GSMF.JK': {'Average Daily Returns': 0.0005300045877251189,\n",
              "  'Beta Alpha': {'beta': array([0.083]), 'alpha': array([0.])},\n",
              "  'Sharpe Ratio': 0.19,\n",
              "  'Piotroski F-Score': '',\n",
              "  'Revenue Growth': -13.81590747568655,\n",
              "  'Earning per Share': 12.808025308025307,\n",
              "  'Price to Earning': 4.450334741631459,\n",
              "  'Debt to Equity': 0.0678171519453099,\n",
              "  'Free Cash Flow': '',\n",
              "  'Return on Equity': 1.3553593295295372,\n",
              "  'Dividend Yield': 0.0},\n",
              " 'GTBO.JK': {'Average Daily Returns': 0.0026340422616790544,\n",
              "  'Beta Alpha': {'beta': array([-0.052]), 'alpha': array([0.003])},\n",
              "  'Sharpe Ratio': 1.01,\n",
              "  'Piotroski F-Score': '',\n",
              "  'Revenue Growth': -100.0,\n",
              "  'Earning per Share': -0.0004843824,\n",
              "  'Price to Earning': -817535.8972580341,\n",
              "  'Debt to Equity': 0.029830770997805553,\n",
              "  'Free Cash Flow': '',\n",
              "  'Return on Equity': -2.89825401733305,\n",
              "  'Dividend Yield': 0.0},\n",
              " 'GTRA.JK': {'Average Daily Returns': 2.8748118675842445e-05,\n",
              "  'Beta Alpha': '',\n",
              "  'Sharpe Ratio': 0.01,\n",
              "  'Piotroski F-Score': '',\n",
              "  'Revenue Growth': '',\n",
              "  'Earning per Share': '',\n",
              "  'Price to Earning': 0,\n",
              "  'Debt to Equity': 0,\n",
              "  'Free Cash Flow': '',\n",
              "  'Return on Equity': '',\n",
              "  'Dividend Yield': 0.0},\n",
              " 'GTSI.JK': {'Average Daily Returns': -0.0006904904759146447,\n",
              "  'Beta Alpha': '',\n",
              "  'Sharpe Ratio': -0.4,\n",
              "  'Piotroski F-Score': '',\n",
              "  'Revenue Growth': 14.87524353930207,\n",
              "  'Earning per Share': 0.0008396561666374834,\n",
              "  'Price to Earning': 59548.18410996939,\n",
              "  'Debt to Equity': 0.6900313764270048,\n",
              "  'Free Cash Flow': '',\n",
              "  'Return on Equity': 32.86704359685768,\n",
              "  'Dividend Yield': 0.0},\n",
              " 'GULA.JK': {'Average Daily Returns': 0.0020100094720015287,\n",
              "  'Beta Alpha': '',\n",
              "  'Sharpe Ratio': 0.67,\n",
              "  'Piotroski F-Score': '',\n",
              "  'Revenue Growth': '',\n",
              "  'Earning per Share': '',\n",
              "  'Price to Earning': 0,\n",
              "  'Debt to Equity': 0,\n",
              "  'Free Cash Flow': '',\n",
              "  'Return on Equity': '',\n",
              "  'Dividend Yield': 0.0},\n",
              " 'GWSA.JK': {'Average Daily Returns': 0.0010330403737952155,\n",
              "  'Beta Alpha': {'beta': array([-0.011]), 'alpha': array([0.001])},\n",
              "  'Sharpe Ratio': 0.51,\n",
              "  'Piotroski F-Score': '',\n",
              "  'Revenue Growth': -32.407155992129944,\n",
              "  'Earning per Share': -6.44693675947111,\n",
              "  'Price to Earning': -22.181076895150333,\n",
              "  'Debt to Equity': 0.0782503672456734,\n",
              "  'Free Cash Flow': '',\n",
              "  'Return on Equity': -0.7278566396511893,\n",
              "  'Dividend Yield': 0.0},\n",
              " 'GZCO.JK': {'Average Daily Returns': 0.0016873364889512395,\n",
              "  'Beta Alpha': {'beta': array([-0.027]), 'alpha': array([0.002])},\n",
              "  'Sharpe Ratio': 0.63,\n",
              "  'Piotroski F-Score': '',\n",
              "  'Revenue Growth': -42.451866915947065,\n",
              "  'Earning per Share': -30.269333333333332,\n",
              "  'Price to Earning': -3.237600211435116,\n",
              "  'Debt to Equity': 0.2614658076810612,\n",
              "  'Free Cash Flow': '',\n",
              "  'Return on Equity': -18.50382830449157,\n",
              "  'Dividend Yield': 35.629255102040815},\n",
              " 'HADE.JK': {'Average Daily Returns': -0.0013217042351060108,\n",
              "  'Beta Alpha': {'beta': array([-0.032]), 'alpha': array([-0.001])},\n",
              "  'Sharpe Ratio': -0.37,\n",
              "  'Piotroski F-Score': '',\n",
              "  'Revenue Growth': '',\n",
              "  'Earning per Share': '',\n",
              "  'Price to Earning': 0,\n",
              "  'Debt to Equity': 0,\n",
              "  'Free Cash Flow': '',\n",
              "  'Return on Equity': '',\n",
              "  'Dividend Yield': 0.0},\n",
              " 'HAIS.JK': {'Average Daily Returns': -0.00022224218674261634,\n",
              "  'Beta Alpha': '',\n",
              "  'Sharpe Ratio': -0.09,\n",
              "  'Piotroski F-Score': '',\n",
              "  'Revenue Growth': '',\n",
              "  'Earning per Share': '',\n",
              "  'Price to Earning': 0,\n",
              "  'Debt to Equity': 0,\n",
              "  'Free Cash Flow': '',\n",
              "  'Return on Equity': '',\n",
              "  'Dividend Yield': 0.0},\n",
              " 'HAJJ.JK': {'Average Daily Returns': 0.0004747181933238655,\n",
              "  'Beta Alpha': '',\n",
              "  'Sharpe Ratio': 0.15,\n",
              "  'Piotroski F-Score': '',\n",
              "  'Revenue Growth': '',\n",
              "  'Earning per Share': '',\n",
              "  'Price to Earning': 0,\n",
              "  'Debt to Equity': 0,\n",
              "  'Free Cash Flow': '',\n",
              "  'Return on Equity': '',\n",
              "  'Dividend Yield': 0.0},\n",
              " 'HALO.JK': {'Average Daily Returns': -0.0022237453066990456,\n",
              "  'Beta Alpha': '',\n",
              "  'Sharpe Ratio': -0.66,\n",
              "  'Piotroski F-Score': '',\n",
              "  'Revenue Growth': '',\n",
              "  'Earning per Share': '',\n",
              "  'Price to Earning': 0,\n",
              "  'Debt to Equity': 0,\n",
              "  'Free Cash Flow': '',\n",
              "  'Return on Equity': '',\n",
              "  'Dividend Yield': 0.0},\n",
              " 'HATM.JK': {'Average Daily Returns': 0.002335843535652717,\n",
              "  'Beta Alpha': '',\n",
              "  'Sharpe Ratio': 0.9,\n",
              "  'Piotroski F-Score': '',\n",
              "  'Revenue Growth': -100.0,\n",
              "  'Earning per Share': -0.019933153428571427,\n",
              "  'Price to Earning': -17057.01013230836,\n",
              "  'Debt to Equity': 0.4735504849600344,\n",
              "  'Free Cash Flow': '',\n",
              "  'Return on Equity': -0.04986828903380835,\n",
              "  'Dividend Yield': 0.0},\n",
              " 'HBAT.JK': {'Average Daily Returns': -0.006676176548830963,\n",
              "  'Beta Alpha': '',\n",
              "  'Sharpe Ratio': -2.39,\n",
              "  'Piotroski F-Score': '',\n",
              "  'Revenue Growth': '',\n",
              "  'Earning per Share': '',\n",
              "  'Price to Earning': 0,\n",
              "  'Debt to Equity': 0,\n",
              "  'Free Cash Flow': '',\n",
              "  'Return on Equity': '',\n",
              "  'Dividend Yield': 0.0},\n",
              " 'HDFA.JK': {'Average Daily Returns': 0.0010660741816138901,\n",
              "  'Beta Alpha': {'beta': array([-0.019]), 'alpha': array([0.001])},\n",
              "  'Sharpe Ratio': 0.3,\n",
              "  'Piotroski F-Score': 5,\n",
              "  'Revenue Growth': -54.56939758815994,\n",
              "  'Earning per Share': -15.202157956792975,\n",
              "  'Price to Earning': -6.38067307784131,\n",
              "  'Debt to Equity': 3.014106383038331,\n",
              "  'Free Cash Flow': 128939944000.0,\n",
              "  'Return on Equity': -19.636387598775922,\n",
              "  'Dividend Yield': 3.4675154639175263},\n",
              " 'HDIT.JK': {'Average Daily Returns': -0.001665331156217973,\n",
              "  'Beta Alpha': {'beta': array([-0.15]), 'alpha': array([-0.002])},\n",
              "  'Sharpe Ratio': -0.55,\n",
              "  'Piotroski F-Score': '',\n",
              "  'Revenue Growth': '',\n",
              "  'Earning per Share': '',\n",
              "  'Price to Earning': 0,\n",
              "  'Debt to Equity': 0,\n",
              "  'Free Cash Flow': '',\n",
              "  'Return on Equity': '',\n",
              "  'Dividend Yield': 0.0},\n",
              " 'HDTX.JK': {'Average Daily Returns': 0.0,\n",
              "  'Beta Alpha': {'beta': array([0.]), 'alpha': array([0.])},\n",
              "  'Sharpe Ratio': nan,\n",
              "  'Piotroski F-Score': '',\n",
              "  'Revenue Growth': -9.896005641478467,\n",
              "  'Earning per Share': '',\n",
              "  'Price to Earning': 0,\n",
              "  'Debt to Equity': 0,\n",
              "  'Free Cash Flow': '',\n",
              "  'Return on Equity': -137.68115642224262,\n",
              "  'Dividend Yield': 0.0},\n",
              " 'HEAL.JK': {'Average Daily Returns': 0.0010600929999189522,\n",
              "  'Beta Alpha': {'beta': array([-0.006]), 'alpha': array([0.001])},\n",
              "  'Sharpe Ratio': 0.93,\n",
              "  'Piotroski F-Score': '',\n",
              "  'Revenue Growth': -24.756662703479666,\n",
              "  'Earning per Share': 32.00386786553927,\n",
              "  'Price to Earning': 39.370241287514105,\n",
              "  'Debt to Equity': 0.861088335888782,\n",
              "  'Free Cash Flow': '',\n",
              "  'Return on Equity': 18.157575255276274,\n",
              "  'Dividend Yield': 3.8095238095238098},\n",
              " 'HELI.JK': {'Average Daily Returns': 0.001779142589657589,\n",
              "  'Beta Alpha': {'beta': array([0.111]), 'alpha': array([0.002])},\n",
              "  'Sharpe Ratio': 0.59,\n",
              "  'Piotroski F-Score': '',\n",
              "  'Revenue Growth': 126.87936613560215,\n",
              "  'Earning per Share': 7.884695843783083,\n",
              "  'Price to Earning': 58.087212122598665,\n",
              "  'Debt to Equity': 0.9299543428811674,\n",
              "  'Free Cash Flow': '',\n",
              "  'Return on Equity': 5.005182739566093,\n",
              "  'Dividend Yield': 0.0},\n",
              " 'HERO.JK': {'Average Daily Returns': 0.0004208830214402692,\n",
              "  'Beta Alpha': {'beta': array([-0.011]), 'alpha': array([0.])},\n",
              "  'Sharpe Ratio': 0.25,\n",
              "  'Piotroski F-Score': '',\n",
              "  'Revenue Growth': 2.2436342128795395,\n",
              "  'Earning per Share': -290.3225134092161,\n",
              "  'Price to Earning': -2.652222836451776,\n",
              "  'Debt to Equity': 2.3853559422350283,\n",
              "  'Free Cash Flow': '',\n",
              "  'Return on Equity': -65.4882114943322,\n",
              "  'Dividend Yield': 0.0},\n",
              " 'HEXA.JK': {'Average Daily Returns': 0.0008186611159448829,\n",
              "  'Beta Alpha': {'beta': array([-0.084]), 'alpha': array([0.001])},\n",
              "  'Sharpe Ratio': 0.76,\n",
              "  'Piotroski F-Score': '',\n",
              "  'Revenue Growth': 60.76330878283996,\n",
              "  'Earning per Share': 0.04575810238095238,\n",
              "  'Price to Earning': 130031.61605051158,\n",
              "  'Debt to Equity': 0.5874146090020365,\n",
              "  'Free Cash Flow': '',\n",
              "  'Return on Equity': 21.554143640584282,\n",
              "  'Dividend Yield': 105.19579831932772},\n",
              " 'HILL.JK': {'Average Daily Returns': 0.0038659232458806898,\n",
              "  'Beta Alpha': '',\n",
              "  'Sharpe Ratio': 1.28,\n",
              "  'Piotroski F-Score': '',\n",
              "  'Revenue Growth': -48.52445910108021,\n",
              "  'Earning per Share': 29.285350562313464,\n",
              "  'Price to Earning': 75.80581954367514,\n",
              "  'Debt to Equity': 30.141348352702,\n",
              "  'Free Cash Flow': '',\n",
              "  'Return on Equity': 136.07236852473483,\n",
              "  'Dividend Yield': 0.0},\n",
              " 'HITS.JK': {'Average Daily Returns': 0.001285178393706632,\n",
              "  'Beta Alpha': {'beta': array([0.084]), 'alpha': array([0.001])},\n",
              "  'Sharpe Ratio': 0.35,\n",
              "  'Piotroski F-Score': '',\n",
              "  'Revenue Growth': 6.198572538288178,\n",
              "  'Earning per Share': 0.0006304292878327597,\n",
              "  'Price to Earning': 583729.2256282723,\n",
              "  'Debt to Equity': 1.4275600386342497,\n",
              "  'Free Cash Flow': '',\n",
              "  'Return on Equity': 8.452563058201413,\n",
              "  'Dividend Yield': 8.57336956521739},\n",
              " 'HKMU.JK': {'Average Daily Returns': -0.0002502523415586125,\n",
              "  'Beta Alpha': {'beta': array([0.134]), 'alpha': array([-0.])},\n",
              "  'Sharpe Ratio': -0.15,\n",
              "  'Piotroski F-Score': '',\n",
              "  'Revenue Growth': '',\n",
              "  'Earning per Share': '',\n",
              "  'Price to Earning': 0,\n",
              "  'Debt to Equity': 0,\n",
              "  'Free Cash Flow': '',\n",
              "  'Return on Equity': '',\n",
              "  'Dividend Yield': 0.0},\n",
              " 'HMSP.JK': {'Average Daily Returns': -0.0005309364810248201,\n",
              "  'Beta Alpha': {'beta': array([0.048]), 'alpha': array([-0.001])},\n",
              "  'Sharpe Ratio': -0.44,\n",
              "  'Piotroski F-Score': '',\n",
              "  'Revenue Growth': -6.522971519209589,\n",
              "  'Earning per Share': 73.77514884987296,\n",
              "  'Price to Earning': 11.589268382770227,\n",
              "  'Debt to Equity': 0.018329823569563156,\n",
              "  'Free Cash Flow': '',\n",
              "  'Return on Equity': 28.376234639199883,\n",
              "  'Dividend Yield': 1628.9738830409356},\n",
              " 'HOKI.JK': {'Average Daily Returns': 0.00042148186355240073,\n",
              "  'Beta Alpha': {'beta': array([-0.101]), 'alpha': array([0.])},\n",
              "  'Sharpe Ratio': 0.22,\n",
              "  'Piotroski F-Score': '',\n",
              "  'Revenue Growth': 25.66334865703982,\n",
              "  'Earning per Share': 3.931058300199131,\n",
              "  'Price to Earning': 44.00850529009873,\n",
              "  'Debt to Equity': 0.295749518429364,\n",
              "  'Free Cash Flow': '',\n",
              "  'Return on Equity': 5.71629575273354,\n",
              "  'Dividend Yield': 11.127167630057803},\n",
              " 'HOME.JK': {'Average Daily Returns': 0.0,\n",
              "  'Beta Alpha': {'beta': array([0.]), 'alpha': array([0.])},\n",
              "  'Sharpe Ratio': nan,\n",
              "  'Piotroski F-Score': '',\n",
              "  'Revenue Growth': '',\n",
              "  'Earning per Share': '',\n",
              "  'Price to Earning': 0,\n",
              "  'Debt to Equity': 0,\n",
              "  'Free Cash Flow': '',\n",
              "  'Return on Equity': '',\n",
              "  'Dividend Yield': 0.0},\n",
              " 'HOMI.JK': {'Average Daily Returns': 0.0008163317403286375,\n",
              "  'Beta Alpha': '',\n",
              "  'Sharpe Ratio': 0.3,\n",
              "  'Piotroski F-Score': '',\n",
              "  'Revenue Growth': -54.147559683647074,\n",
              "  'Earning per Share': 0.7936626896543415,\n",
              "  'Price to Earning': 250.7362417233814,\n",
              "  'Debt to Equity': 0.18703522560304628,\n",
              "  'Free Cash Flow': '',\n",
              "  'Return on Equity': 1.0927984244935207,\n",
              "  'Dividend Yield': 0.0},\n",
              " 'HOPE.JK': {'Average Daily Returns': -0.00043759431072090097,\n",
              "  'Beta Alpha': '',\n",
              "  'Sharpe Ratio': -0.13,\n",
              "  'Piotroski F-Score': '',\n",
              "  'Revenue Growth': '',\n",
              "  'Earning per Share': '',\n",
              "  'Price to Earning': 0,\n",
              "  'Debt to Equity': 0,\n",
              "  'Free Cash Flow': '',\n",
              "  'Return on Equity': '',\n",
              "  'Dividend Yield': 0.0},\n",
              " 'HOTL.JK': {'Average Daily Returns': 4.4563279857394824e-07,\n",
              "  'Beta Alpha': {'beta': array([0.001]), 'alpha': array([-0.])},\n",
              "  'Sharpe Ratio': 0.01,\n",
              "  'Piotroski F-Score': '',\n",
              "  'Revenue Growth': '',\n",
              "  'Earning per Share': -13.575639664878345,\n",
              "  'Price to Earning': -3.6830677032004195,\n",
              "  'Debt to Equity': 2.4228661503887663,\n",
              "  'Free Cash Flow': '',\n",
              "  'Return on Equity': -14.821706729297587,\n",
              "  'Dividend Yield': 0.0},\n",
              " 'HRME.JK': {'Average Daily Returns': -0.0003720440475988537,\n",
              "  'Beta Alpha': {'beta': array([-0.007]), 'alpha': array([-0.])},\n",
              "  'Sharpe Ratio': -0.23,\n",
              "  'Piotroski F-Score': '',\n",
              "  'Revenue Growth': -28.65955269380599,\n",
              "  'Earning per Share': -4.470623870461126,\n",
              "  'Price to Earning': -11.184121377413643,\n",
              "  'Debt to Equity': 0.379450638907801,\n",
              "  'Free Cash Flow': '',\n",
              "  'Return on Equity': -3.8898961672601367,\n",
              "  'Dividend Yield': 0.0},\n",
              " 'HRTA.JK': {'Average Daily Returns': 0.0010235044384667,\n",
              "  'Beta Alpha': {'beta': array([0.111]), 'alpha': array([0.001])},\n",
              "  'Sharpe Ratio': 0.56,\n",
              "  'Piotroski F-Score': '',\n",
              "  'Revenue Growth': -20.98698856668176,\n",
              "  'Earning per Share': 37.16852012931919,\n",
              "  'Price to Earning': 10.385132328567376,\n",
              "  'Debt to Equity': 2.0874092985985553,\n",
              "  'Free Cash Flow': '',\n",
              "  'Return on Equity': 12.64410939840642,\n",
              "  'Dividend Yield': 7.512953367875648},\n",
              " 'HRUM.JK': {'Average Daily Returns': 0.002351530890032427,\n",
              "  'Beta Alpha': {'beta': array([-0.006]), 'alpha': array([0.002])},\n",
              "  'Sharpe Ratio': 1.06,\n",
              "  'Piotroski F-Score': '',\n",
              "  'Revenue Growth': -53.05456851576732,\n",
              "  'Earning per Share': 0.004431053304613037,\n",
              "  'Price to Earning': 292255.56791470194,\n",
              "  'Debt to Equity': 0.19106317388075866,\n",
              "  'Free Cash Flow': '',\n",
              "  'Return on Equity': 15.951064445104338,\n",
              "  'Dividend Yield': 101.40694980694983},\n",
              " 'HUMI.JK': {'Average Daily Returns': -0.001000951710223193,\n",
              "  'Beta Alpha': '',\n",
              "  'Sharpe Ratio': -0.18,\n",
              "  'Piotroski F-Score': '',\n",
              "  'Revenue Growth': 3.739809491968672,\n",
              "  'Earning per Share': 0.0003961105287873274,\n",
              "  'Price to Earning': 204488.37916017396,\n",
              "  'Debt to Equity': 0.4121581597140553,\n",
              "  'Free Cash Flow': '',\n",
              "  'Return on Equity': 8.054416027686315,\n",
              "  'Dividend Yield': 0.0},\n",
              " 'HYGN.JK': {'Average Daily Returns': nan,\n",
              "  'Beta Alpha': '',\n",
              "  'Sharpe Ratio': nan,\n",
              "  'Piotroski F-Score': '',\n",
              "  'Revenue Growth': '',\n",
              "  'Earning per Share': '',\n",
              "  'Price to Earning': 0,\n",
              "  'Debt to Equity': 0,\n",
              "  'Free Cash Flow': '',\n",
              "  'Return on Equity': '',\n",
              "  'Dividend Yield': 0.0},\n",
              " 'IATA.JK': {'Average Daily Returns': 0.0007580699212426954,\n",
              "  'Beta Alpha': {'beta': array([-0.057]), 'alpha': array([0.001])},\n",
              "  'Sharpe Ratio': 0.29,\n",
              "  'Piotroski F-Score': '',\n",
              "  'Revenue Growth': -69.7891948175985,\n",
              "  'Earning per Share': -0.0002540442630102716,\n",
              "  'Price to Earning': -196816.0957761065,\n",
              "  'Debt to Equity': 3.1623445426535057,\n",
              "  'Free Cash Flow': '',\n",
              "  'Return on Equity': -53.55578622624251,\n",
              "  'Dividend Yield': 6.68},\n",
              " 'IBFN.JK': {'Average Daily Returns': -0.002885282925944413,\n",
              "  'Beta Alpha': {'beta': array([0.141]), 'alpha': array([-0.003])},\n",
              "  'Sharpe Ratio': -1.43,\n",
              "  'Piotroski F-Score': '',\n",
              "  'Revenue Growth': '',\n",
              "  'Earning per Share': '',\n",
              "  'Price to Earning': 0,\n",
              "  'Debt to Equity': 0,\n",
              "  'Free Cash Flow': '',\n",
              "  'Return on Equity': '',\n",
              "  'Dividend Yield': 24.520650000000003},\n",
              " 'IBOS.JK': {'Average Daily Returns': 0.005500113026339772,\n",
              "  'Beta Alpha': '',\n",
              "  'Sharpe Ratio': 1.93,\n",
              "  'Piotroski F-Score': '',\n",
              "  'Revenue Growth': -14.454585351446783,\n",
              "  'Earning per Share': 0.7103118077559292,\n",
              "  'Price to Earning': 1295.2058377102496,\n",
              "  'Debt to Equity': 0.13022020449098728,\n",
              "  'Free Cash Flow': '',\n",
              "  'Return on Equity': 3.6381257695757285,\n",
              "  'Dividend Yield': 0.0},\n",
              " 'IBST.JK': {'Average Daily Returns': 0.00023131907058131533,\n",
              "  'Beta Alpha': {'beta': array([-0.031]), 'alpha': array([0.])},\n",
              "  'Sharpe Ratio': 0.09,\n",
              "  'Piotroski F-Score': '',\n",
              "  'Revenue Growth': 15.080312210534707,\n",
              "  'Earning per Share': 49.74770104073317,\n",
              "  'Price to Earning': 88.44629817963451,\n",
              "  'Debt to Equity': 0.474346222277625,\n",
              "  'Free Cash Flow': '',\n",
              "  'Return on Equity': 1.0836147968497545,\n",
              "  'Dividend Yield': 0.0},\n",
              " 'ICBP.JK': {'Average Daily Returns': 0.0003547335856350984,\n",
              "  'Beta Alpha': {'beta': array([0.022]), 'alpha': array([0.])},\n",
              "  'Sharpe Ratio': 0.35,\n",
              "  'Piotroski F-Score': '',\n",
              "  'Revenue Growth': -17.890875235259625,\n",
              "  'Earning per Share': 564.8228098783483,\n",
              "  'Price to Earning': 19.076779144809542,\n",
              "  'Debt to Equity': 1.5086250677592008,\n",
              "  'Free Cash Flow': '',\n",
              "  'Return on Equity': 22.38138589931034,\n",
              "  'Dividend Yield': 19.619489559164734},\n",
              " 'ICON.JK': {'Average Daily Returns': 0.0007254460328092768,\n",
              "  'Beta Alpha': {'beta': array([-0.003]), 'alpha': array([0.001])},\n",
              "  'Sharpe Ratio': 0.26,\n",
              "  'Piotroski F-Score': '',\n",
              "  'Revenue Growth': '',\n",
              "  'Earning per Share': '',\n",
              "  'Price to Earning': 0,\n",
              "  'Debt to Equity': 0,\n",
              "  'Free Cash Flow': '',\n",
              "  'Return on Equity': '',\n",
              "  'Dividend Yield': 0.5},\n",
              " 'IDEA.JK': {'Average Daily Returns': -0.0005085967711490736,\n",
              "  'Beta Alpha': '',\n",
              "  'Sharpe Ratio': -0.17,\n",
              "  'Piotroski F-Score': '',\n",
              "  'Revenue Growth': '',\n",
              "  'Earning per Share': '',\n",
              "  'Price to Earning': 0,\n",
              "  'Debt to Equity': 0,\n",
              "  'Free Cash Flow': '',\n",
              "  'Return on Equity': '',\n",
              "  'Dividend Yield': 0.0},\n",
              " 'IDPR.JK': {'Average Daily Returns': 0.00032675058574504795,\n",
              "  'Beta Alpha': {'beta': array([0.001]), 'alpha': array([0.])},\n",
              "  'Sharpe Ratio': 0.14,\n",
              "  'Piotroski F-Score': '',\n",
              "  'Revenue Growth': -25.23834910147601,\n",
              "  'Earning per Share': -192.0886047470441,\n",
              "  'Price to Earning': -0.760065909127005,\n",
              "  'Debt to Equity': 0.7186523053023842,\n",
              "  'Free Cash Flow': '',\n",
              "  'Return on Equity': -49.99944797757029,\n",
              "  'Dividend Yield': 30.82191780821918},\n",
              " 'IFII.JK': {'Average Daily Returns': 0.0002117327842536693,\n",
              "  'Beta Alpha': {'beta': array([-0.024]), 'alpha': array([0.])},\n",
              "  'Sharpe Ratio': 0.15,\n",
              "  'Piotroski F-Score': '',\n",
              "  'Revenue Growth': -4.556555446944128,\n",
              "  'Earning per Share': 7.818301366711129,\n",
              "  'Price to Earning': 19.18575314053153,\n",
              "  'Debt to Equity': 0.5447935503982327,\n",
              "  'Free Cash Flow': '',\n",
              "  'Return on Equity': 7.362131428382438,\n",
              "  'Dividend Yield': 3.3333333333333335},\n",
              " 'IFSH.JK': {'Average Daily Returns': 0.0017769795319141938,\n",
              "  'Beta Alpha': {'beta': array([0.156]), 'alpha': array([0.002])},\n",
              "  'Sharpe Ratio': 0.66,\n",
              "  'Piotroski F-Score': '',\n",
              "  'Revenue Growth': -56.240624267688766,\n",
              "  'Earning per Share': 16.60713731990369,\n",
              "  'Price to Earning': 51.18281276456197,\n",
              "  'Debt to Equity': 0.2502961639874755,\n",
              "  'Free Cash Flow': '',\n",
              "  'Return on Equity': 6.057006047248299,\n",
              "  'Dividend Yield': 0.0},\n",
              " 'IGAR.JK': {'Average Daily Returns': 0.0007823511834221525,\n",
              "  'Beta Alpha': {'beta': array([0.002]), 'alpha': array([0.001])},\n",
              "  'Sharpe Ratio': 0.64,\n",
              "  'Piotroski F-Score': '',\n",
              "  'Revenue Growth': -23.781744424762934,\n",
              "  'Earning per Share': 45.38332273240356,\n",
              "  'Price to Earning': 9.695191394301354,\n",
              "  'Debt to Equity': 0,\n",
              "  'Free Cash Flow': '',\n",
              "  'Return on Equity': 10.371143001455128,\n",
              "  'Dividend Yield': 59.77272727272728},\n",
              " 'IIKP.JK': {'Average Daily Returns': 0.0,\n",
              "  'Beta Alpha': {'beta': array([0.]), 'alpha': array([0.])},\n",
              "  'Sharpe Ratio': nan,\n",
              "  'Piotroski F-Score': '',\n",
              "  'Revenue Growth': -14.774146372911808,\n",
              "  'Earning per Share': '',\n",
              "  'Price to Earning': 0,\n",
              "  'Debt to Equity': 0,\n",
              "  'Free Cash Flow': '',\n",
              "  'Return on Equity': -13.06389334704743,\n",
              "  'Dividend Yield': 3.8200000000000003},\n",
              " 'IKAI.JK': {'Average Daily Returns': 2.315098569517113e-05,\n",
              "  'Beta Alpha': {'beta': array([0.001]), 'alpha': array([0.])},\n",
              "  'Sharpe Ratio': 0.05,\n",
              "  'Piotroski F-Score': '',\n",
              "  'Revenue Growth': -50.3018414245595,\n",
              "  'Earning per Share': -5.319253235593578,\n",
              "  'Price to Earning': -9.399815685673119,\n",
              "  'Debt to Equity': 0.3081891651541984,\n",
              "  'Free Cash Flow': '',\n",
              "  'Return on Equity': -8.505992172990302,\n",
              "  'Dividend Yield': 0.0},\n",
              " 'IKAN.JK': {'Average Daily Returns': -0.0017373893522538563,\n",
              "  'Beta Alpha': {'beta': array([0.082]), 'alpha': array([-0.002])},\n",
              "  'Sharpe Ratio': -0.63,\n",
              "  'Piotroski F-Score': '',\n",
              "  'Revenue Growth': '',\n",
              "  'Earning per Share': '',\n",
              "  'Price to Earning': 0,\n",
              "  'Debt to Equity': 0,\n",
              "  'Free Cash Flow': '',\n",
              "  'Return on Equity': '',\n",
              "  'Dividend Yield': 0.0},\n",
              " 'IKBI.JK': {'Average Daily Returns': 0.0014454159225853731,\n",
              "  'Beta Alpha': {'beta': array([-0.03]), 'alpha': array([0.001])},\n",
              "  'Sharpe Ratio': 0.63,\n",
              "  'Piotroski F-Score': '',\n",
              "  'Revenue Growth': 33.510998554711904,\n",
              "  'Earning per Share': 0.0019172924836601307,\n",
              "  'Price to Earning': 252439.31435856834,\n",
              "  'Debt to Equity': 0.08213738201036981,\n",
              "  'Free Cash Flow': '',\n",
              "  'Return on Equity': 3.382676421354401,\n",
              "  'Dividend Yield': 95.10068181818183},\n",
              " 'IKPM.JK': {'Average Daily Returns': 0.004984768812141601,\n",
              "  'Beta Alpha': '',\n",
              "  'Sharpe Ratio': 2.09,\n",
              "  'Piotroski F-Score': '',\n",
              "  'Revenue Growth': '',\n",
              "  'Earning per Share': '',\n",
              "  'Price to Earning': 0,\n",
              "  'Debt to Equity': 0,\n",
              "  'Free Cash Flow': '',\n",
              "  'Return on Equity': '',\n",
              "  'Dividend Yield': 0.0},\n",
              " 'IMAS.JK': {'Average Daily Returns': 0.001590112474321722,\n",
              "  'Beta Alpha': {'beta': array([-0.009]), 'alpha': array([0.002])},\n",
              "  'Sharpe Ratio': 0.66,\n",
              "  'Piotroski F-Score': '',\n",
              "  'Revenue Growth': -20.571421270253264,\n",
              "  'Earning per Share': -136.66859715581185,\n",
              "  'Price to Earning': -10.1705880423672,\n",
              "  'Debt to Equity': 3.6278677950360074,\n",
              "  'Free Cash Flow': '',\n",
              "  'Return on Equity': -5.039582715379907,\n",
              "  'Dividend Yield': 14.971693525179855},\n",
              " 'IMJS.JK': {'Average Daily Returns': 0.000662225870908765,\n",
              "  'Beta Alpha': {'beta': array([-0.016]), 'alpha': array([0.001])},\n",
              "  'Sharpe Ratio': 0.29,\n",
              "  'Piotroski F-Score': '',\n",
              "  'Revenue Growth': 2.5580466368075094,\n",
              "  'Earning per Share': -7.054835666818063,\n",
              "  'Price to Earning': -35.72018001571104,\n",
              "  'Debt to Equity': 6.767062757011369,\n",
              "  'Free Cash Flow': '',\n",
              "  'Return on Equity': -1.816604437488622,\n",
              "  'Dividend Yield': 6.120002380952381},\n",
              " 'IMPC.JK': {'Average Daily Returns': 0.0015597872769950772,\n",
              "  'Beta Alpha': {'beta': array([0.026]), 'alpha': array([0.002])},\n",
              "  'Sharpe Ratio': 1.3,\n",
              "  'Piotroski F-Score': '',\n",
              "  'Revenue Growth': -19.298673890677495,\n",
              "  'Earning per Share': 2.304479014827576,\n",
              "  'Price to Earning': 169.23564827045314,\n",
              "  'Debt to Equity': 0.4097605614945214,\n",
              "  'Free Cash Flow': '',\n",
              "  'Return on Equity': 10.025886694924807,\n",
              "  'Dividend Yield': 10.256410256410255},\n",
              " 'INAF.JK': {'Average Daily Returns': -0.00021176407402572422,\n",
              "  'Beta Alpha': {'beta': array([-0.011]), 'alpha': array([-0.])},\n",
              "  'Sharpe Ratio': -0.08,\n",
              "  'Piotroski F-Score': '',\n",
              "  'Revenue Growth': -40.882301314575656,\n",
              "  'Earning per Share': 0.00889916367296374,\n",
              "  'Price to Earning': 44498.563522668395,\n",
              "  'Debt to Equity': 1.7933656789842638,\n",
              "  'Free Cash Flow': '',\n",
              "  'Return on Equity': 0.0064093685378171705,\n",
              "  'Dividend Yield': 8.484595959595959},\n",
              " 'INAI.JK': {'Average Daily Returns': -0.00027955077089368856,\n",
              "  'Beta Alpha': {'beta': array([-0.067]), 'alpha': array([-0.])},\n",
              "  'Sharpe Ratio': -0.19,\n",
              "  'Piotroski F-Score': '',\n",
              "  'Revenue Growth': -27.96744240500553,\n",
              "  'Earning per Share': 6.299844621212121,\n",
              "  'Price to Earning': 30.79441028541962,\n",
              "  'Debt to Equity': 2.4791772403513233,\n",
              "  'Free Cash Flow': '',\n",
              "  'Return on Equity': 1.2419199904866662,\n",
              "  'Dividend Yield': 108.50515463917525},\n",
              " 'INCF.JK': {'Average Daily Returns': 0.0011391677506824736,\n",
              "  'Beta Alpha': {'beta': array([-0.358]), 'alpha': array([0.001])},\n",
              "  'Sharpe Ratio': 0.36,\n",
              "  'Piotroski F-Score': '',\n",
              "  'Revenue Growth': '',\n",
              "  'Earning per Share': '',\n",
              "  'Price to Earning': 0,\n",
              "  'Debt to Equity': 0,\n",
              "  'Free Cash Flow': '',\n",
              "  'Return on Equity': '',\n",
              "  'Dividend Yield': 0.0},\n",
              " 'INCI.JK': {'Average Daily Returns': 0.0009113038514049484,\n",
              "  'Beta Alpha': {'beta': array([0.022]), 'alpha': array([0.001])},\n",
              "  'Sharpe Ratio': 0.55,\n",
              "  'Piotroski F-Score': '',\n",
              "  'Revenue Growth': '',\n",
              "  'Earning per Share': '',\n",
              "  'Price to Earning': 0,\n",
              "  'Debt to Equity': 0,\n",
              "  'Free Cash Flow': '',\n",
              "  'Return on Equity': '',\n",
              "  'Dividend Yield': 41.2831041322314},\n",
              " 'INCO.JK': {'Average Daily Returns': 0.0006562124548796231,\n",
              "  'Beta Alpha': {'beta': array([0.018]), 'alpha': array([0.001])},\n",
              "  'Sharpe Ratio': 0.39,\n",
              "  'Piotroski F-Score': '',\n",
              "  'Revenue Growth': -19.768688612991962,\n",
              "  'Earning per Share': 0.00833496038447947,\n",
              "  'Price to Earning': 478706.53439814533,\n",
              "  'Debt to Equity': 0.004267023299600371,\n",
              "  'Free Cash Flow': '',\n",
              "  'Return on Equity': 4.099183420132272,\n",
              "  'Dividend Yield': 48.37499999999999},\n",
              " 'INDF.JK': {'Average Daily Returns': 6.697992402111906e-05,\n",
              "  'Beta Alpha': {'beta': array([0.004]), 'alpha': array([0.])},\n",
              "  'Sharpe Ratio': 0.08,\n",
              "  'Piotroski F-Score': '',\n",
              "  'Revenue Growth': -17.730172054493636,\n",
              "  'Earning per Share': 735.2295676820913,\n",
              "  'Price to Earning': 8.636758203317662,\n",
              "  'Debt to Equity': 1.635613831734699,\n",
              "  'Free Cash Flow': '',\n",
              "  'Return on Equity': 15.23478217857438,\n",
              "  'Dividend Yield': 41.29921259842519},\n",
              " 'INDO.JK': {'Average Daily Returns': 0.0005617618381261362,\n",
              "  'Beta Alpha': {'beta': array([0.01]), 'alpha': array([0.001])},\n",
              "  'Sharpe Ratio': 0.23,\n",
              "  'Piotroski F-Score': '',\n",
              "  'Revenue Growth': '',\n",
              "  'Earning per Share': '',\n",
              "  'Price to Earning': 0,\n",
              "  'Debt to Equity': 0,\n",
              "  'Free Cash Flow': '',\n",
              "  'Return on Equity': '',\n",
              "  'Dividend Yield': 0.0},\n",
              " 'INDR.JK': {'Average Daily Returns': 0.0008242560030652809,\n",
              "  'Beta Alpha': {'beta': array([-0.034]), 'alpha': array([0.001])},\n",
              "  'Sharpe Ratio': 0.4,\n",
              "  'Piotroski F-Score': '',\n",
              "  'Revenue Growth': -33.37396202688081,\n",
              "  'Earning per Share': 0.009524019182336113,\n",
              "  'Price to Earning': 379041.65572191926,\n",
              "  'Debt to Equity': 0.3128688218632088,\n",
              "  'Free Cash Flow': '',\n",
              "  'Return on Equity': 1.65536463271209,\n",
              "  'Dividend Yield': 15.180055401662049},\n",
              " 'INDS.JK': {'Average Daily Returns': 0.0004982600827871381,\n",
              "  'Beta Alpha': {'beta': array([-0.061]), 'alpha': array([0.001])},\n",
              "  'Sharpe Ratio': 0.32,\n",
              "  'Piotroski F-Score': '',\n",
              "  'Revenue Growth': -45.95017729779756,\n",
              "  'Earning per Share': 89.78498831018638,\n",
              "  'Price to Earning': 25.950886042891586,\n",
              "  'Debt to Equity': 0.14522060111601304,\n",
              "  'Free Cash Flow': '',\n",
              "  'Return on Equity': 2.309565324328557,\n",
              "  'Dividend Yield': 73.59141630901289},\n",
              " 'INDX.JK': {'Average Daily Returns': 0.0024440053161911366,\n",
              "  'Beta Alpha': {'beta': array([0.017]), 'alpha': array([0.002])},\n",
              "  'Sharpe Ratio': 0.68,\n",
              "  'Piotroski F-Score': '',\n",
              "  'Revenue Growth': '',\n",
              "  'Earning per Share': '',\n",
              "  'Price to Earning': 0,\n",
              "  'Debt to Equity': 0,\n",
              "  'Free Cash Flow': '',\n",
              "  'Return on Equity': '',\n",
              "  'Dividend Yield': 0.0},\n",
              " 'INDY.JK': {'Average Daily Returns': 0.0013445079395154414,\n",
              "  'Beta Alpha': {'beta': array([-0.005]), 'alpha': array([0.001])},\n",
              "  'Sharpe Ratio': 0.62,\n",
              "  'Piotroski F-Score': '',\n",
              "  'Revenue Growth': -40.90155291062124,\n",
              "  'Earning per Share': -0.02259262552939998,\n",
              "  'Price to Earning': -63737.61199760141,\n",
              "  'Debt to Equity': 1.683875960803672,\n",
              "  'Free Cash Flow': '',\n",
              "  'Return on Equity': -17.144871360037325,\n",
              "  'Dividend Yield': 47.57415972222222},\n",
              " 'INET.JK': {'Average Daily Returns': -0.003303199455409674,\n",
              "  'Beta Alpha': '',\n",
              "  'Sharpe Ratio': -0.78,\n",
              "  'Piotroski F-Score': '',\n",
              "  'Revenue Growth': '',\n",
              "  'Earning per Share': '',\n",
              "  'Price to Earning': 0,\n",
              "  'Debt to Equity': 0,\n",
              "  'Free Cash Flow': '',\n",
              "  'Return on Equity': '',\n",
              "  'Dividend Yield': 0.0},\n",
              " 'INKP.JK': {'Average Daily Returns': 0.0007164059649013434,\n",
              "  'Beta Alpha': {'beta': array([0.046]), 'alpha': array([0.001])},\n",
              "  'Sharpe Ratio': 0.4,\n",
              "  'Piotroski F-Score': '',\n",
              "  'Revenue Growth': -15.08716124104458,\n",
              "  'Earning per Share': 0.05374777367861219,\n",
              "  'Price to Earning': 154890.13646927595,\n",
              "  'Debt to Equity': 0.8275209277955692,\n",
              "  'Free Cash Flow': '',\n",
              "  'Return on Equity': 6.908961469510891,\n",
              "  'Dividend Yield': 4.864864864864865},\n",
              " 'INOV.JK': {'Average Daily Returns': -0.0003709080682825721,\n",
              "  'Beta Alpha': {'beta': array([-0.087]), 'alpha': array([-0.])},\n",
              "  'Sharpe Ratio': -0.17,\n",
              "  'Piotroski F-Score': '',\n",
              "  'Revenue Growth': '',\n",
              "  'Earning per Share': '',\n",
              "  'Price to Earning': 0,\n",
              "  'Debt to Equity': 0,\n",
              "  'Free Cash Flow': '',\n",
              "  'Return on Equity': '',\n",
              "  'Dividend Yield': 5.7251908396946565},\n",
              " 'INPC.JK': {'Average Daily Returns': 0.001195604569823278,\n",
              "  'Beta Alpha': {'beta': array([-0.048]), 'alpha': array([0.001])},\n",
              "  'Sharpe Ratio': 0.45,\n",
              "  'Piotroski F-Score': 6,\n",
              "  'Revenue Growth': -30.40640717926339,\n",
              "  'Earning per Share': 1.0567461488983927,\n",
              "  'Price to Earning': 65.29477308427307,\n",
              "  'Debt to Equity': 0.1276576899038779,\n",
              "  'Free Cash Flow': 5138509000000.0,\n",
              "  'Return on Equity': 0.6003874101532924,\n",
              "  'Dividend Yield': 0.0},\n",
              " 'INPP.JK': {'Average Daily Returns': 0.0010314404246357836,\n",
              "  'Beta Alpha': {'beta': array([0.075]), 'alpha': array([0.001])},\n",
              "  'Sharpe Ratio': 0.45,\n",
              "  'Piotroski F-Score': '',\n",
              "  'Revenue Growth': -7.1613562229790535,\n",
              "  'Earning per Share': -42.8650424400174,\n",
              "  'Price to Earning': -23.445678408141852,\n",
              "  'Debt to Equity': 0.3135998518398392,\n",
              "  'Free Cash Flow': '',\n",
              "  'Return on Equity': -9.219566532824992,\n",
              "  'Dividend Yield': 0.9950248756218906},\n",
              " 'INPS.JK': {'Average Daily Returns': -0.000980438971672423,\n",
              "  'Beta Alpha': {'beta': array([-0.371]), 'alpha': array([-0.001])},\n",
              "  'Sharpe Ratio': -0.25,\n",
              "  'Piotroski F-Score': '',\n",
              "  'Revenue Growth': -7.542271700453404,\n",
              "  'Earning per Share': -26.66843640153846,\n",
              "  'Price to Earning': -5.324646629519241,\n",
              "  'Debt to Equity': 0.94002187417049,\n",
              "  'Free Cash Flow': '',\n",
              "  'Return on Equity': -14.183212342422898,\n",
              "  'Dividend Yield': 0.0},\n",
              " 'INRU.JK': {'Average Daily Returns': 0.0002611198246099705,\n",
              "  'Beta Alpha': {'beta': array([-0.072]), 'alpha': array([0.])},\n",
              "  'Sharpe Ratio': 0.1,\n",
              "  'Piotroski F-Score': '',\n",
              "  'Revenue Growth': '',\n",
              "  'Earning per Share': '',\n",
              "  'Price to Earning': 0,\n",
              "  'Debt to Equity': 0,\n",
              "  'Free Cash Flow': '',\n",
              "  'Return on Equity': '',\n",
              "  'Dividend Yield': 0.0},\n",
              " 'INTA.JK': {'Average Daily Returns': -0.0015846788177029914,\n",
              "  'Beta Alpha': {'beta': array([0.112]), 'alpha': array([-0.002])},\n",
              "  'Sharpe Ratio': -0.92,\n",
              "  'Piotroski F-Score': '',\n",
              "  'Revenue Growth': 11.40474698917362,\n",
              "  'Earning per Share': -255.45868824665197,\n",
              "  'Price to Earning': -0.1957263632064207,\n",
              "  'Debt to Equity': -3.2382791236203188,\n",
              "  'Free Cash Flow': '',\n",
              "  'Return on Equity': 75.39853534234629,\n",
              "  'Dividend Yield': 355.34000000000003},\n",
              " 'INTD.JK': {'Average Daily Returns': 0.0014117490389309018,\n",
              "  'Beta Alpha': {'beta': array([0.108]), 'alpha': array([0.001])},\n",
              "  'Sharpe Ratio': 0.38,\n",
              "  'Piotroski F-Score': '',\n",
              "  'Revenue Growth': '',\n",
              "  'Earning per Share': '',\n",
              "  'Price to Earning': 0,\n",
              "  'Debt to Equity': 0,\n",
              "  'Free Cash Flow': '',\n",
              "  'Return on Equity': '',\n",
              "  'Dividend Yield': 0.0},\n",
              " 'INTP.JK': {'Average Daily Returns': -0.00011501761013037661,\n",
              "  'Beta Alpha': {'beta': array([0.024]), 'alpha': array([-0.])},\n",
              "  'Sharpe Ratio': -0.09,\n",
              "  'Piotroski F-Score': '',\n",
              "  'Revenue Growth': -3.9777128286627335,\n",
              "  'Earning per Share': 526.4646379322785,\n",
              "  'Price to Earning': 16.572813008425335,\n",
              "  'Debt to Equity': 0.04093185730751207,\n",
              "  'Free Cash Flow': '',\n",
              "  'Return on Equity': 8.14536796305669,\n",
              "  'Dividend Yield': 86.76217765042979},\n",
              " 'IOTF.JK': {'Average Daily Returns': 0.0068939259429165595,\n",
              "  'Beta Alpha': '',\n",
              "  'Sharpe Ratio': 2.32,\n",
              "  'Piotroski F-Score': '',\n",
              "  'Revenue Growth': '',\n",
              "  'Earning per Share': '',\n",
              "  'Price to Earning': 0,\n",
              "  'Debt to Equity': 0,\n",
              "  'Free Cash Flow': '',\n",
              "  'Return on Equity': '',\n",
              "  'Dividend Yield': 0.0},\n",
              " 'IPAC.JK': {'Average Daily Returns': 0.00014444182478941727,\n",
              "  'Beta Alpha': '',\n",
              "  'Sharpe Ratio': 0.06,\n",
              "  'Piotroski F-Score': '',\n",
              "  'Revenue Growth': '',\n",
              "  'Earning per Share': '',\n",
              "  'Price to Earning': 0,\n",
              "  'Debt to Equity': 0,\n",
              "  'Free Cash Flow': '',\n",
              "  'Return on Equity': '',\n",
              "  'Dividend Yield': 0.0},\n",
              " 'IPCC.JK': {'Average Daily Returns': 0.0008713704037701532,\n",
              "  'Beta Alpha': {'beta': array([-0.021]), 'alpha': array([0.001])},\n",
              "  'Sharpe Ratio': 0.5,\n",
              "  'Piotroski F-Score': '',\n",
              "  'Revenue Growth': -31.016511687099772,\n",
              "  'Earning per Share': -13.073968907287252,\n",
              "  'Price to Earning': -53.54150717077425,\n",
              "  'Debt to Equity': 0.3928789520219543,\n",
              "  'Free Cash Flow': '',\n",
              "  'Return on Equity': -2.365666354280751,\n",
              "  'Dividend Yield': 15.994285714285713},\n",
              " 'IPCM.JK': {'Average Daily Returns': 0.0006166974384090335,\n",
              "  'Beta Alpha': {'beta': array([0.034]), 'alpha': array([0.001])},\n",
              "  'Sharpe Ratio': 0.42,\n",
              "  'Piotroski F-Score': '',\n",
              "  'Revenue Growth': -15.07026897810472,\n",
              "  'Earning per Share': 15.20516872303987,\n",
              "  'Price to Earning': 18.151722287815634,\n",
              "  'Debt to Equity': 0.014375236275886756,\n",
              "  'Free Cash Flow': '',\n",
              "  'Return on Equity': 7.349827485587189,\n",
              "  'Dividend Yield': 11.518115942028986},\n",
              " 'IPOL.JK': {'Average Daily Returns': 0.0011373810455888572,\n",
              "  'Beta Alpha': {'beta': array([-0.011]), 'alpha': array([0.001])},\n",
              "  'Sharpe Ratio': 0.6,\n",
              "  'Piotroski F-Score': '',\n",
              "  'Revenue Growth': -17.342540882564002,\n",
              "  'Earning per Share': 0.001223787938298145,\n",
              "  'Price to Earning': 107861.8246422376,\n",
              "  'Debt to Equity': 0.4770735702142406,\n",
              "  'Free Cash Flow': '',\n",
              "  'Return on Equity': 4.681121136363467,\n",
              "  'Dividend Yield': 13.257575757575758},\n",
              " 'IPPE.JK': {'Average Daily Returns': -0.00044147560062522093,\n",
              "  'Beta Alpha': '',\n",
              "  'Sharpe Ratio': -0.12,\n",
              "  'Piotroski F-Score': '',\n",
              "  'Revenue Growth': '',\n",
              "  'Earning per Share': '',\n",
              "  'Price to Earning': 0,\n",
              "  'Debt to Equity': 0,\n",
              "  'Free Cash Flow': '',\n",
              "  'Return on Equity': '',\n",
              "  'Dividend Yield': 0.0},\n",
              " 'IPTV.JK': {'Average Daily Returns': -0.001685100318893058,\n",
              "  'Beta Alpha': {'beta': array([-0.139]), 'alpha': array([-0.002])},\n",
              "  'Sharpe Ratio': -0.74,\n",
              "  'Piotroski F-Score': '',\n",
              "  'Revenue Growth': -1.5067344296714726,\n",
              "  'Earning per Share': 11.05329408720243,\n",
              "  'Price to Earning': 4.523538377386548,\n",
              "  'Debt to Equity': 0.2327092496900794,\n",
              "  'Free Cash Flow': '',\n",
              "  'Return on Equity': 3.239896024451046,\n",
              "  'Dividend Yield': 0.0},\n",
              " 'IRRA.JK': {'Average Daily Returns': 0.0006295242547074148,\n",
              "  'Beta Alpha': {'beta': array([0.06]), 'alpha': array([0.001])},\n",
              "  'Sharpe Ratio': 0.25,\n",
              "  'Piotroski F-Score': '',\n",
              "  'Revenue Growth': -57.272427535216565,\n",
              "  'Earning per Share': 38.73655433947773,\n",
              "  'Price to Earning': 12.752812128582844,\n",
              "  'Debt to Equity': 0.8183367564672442,\n",
              "  'Free Cash Flow': '',\n",
              "  'Return on Equity': 24.974853636418782,\n",
              "  'Dividend Yield': 3.643724696356275},\n",
              " 'IRSX.JK': {'Average Daily Returns': -0.0013123087193114987,\n",
              "  'Beta Alpha': '',\n",
              "  'Sharpe Ratio': -0.34,\n",
              "  'Piotroski F-Score': '',\n",
              "  'Revenue Growth': -2.882527094312921,\n",
              "  'Earning per Share': 0.03714808288883753,\n",
              "  'Price to Earning': 1345.9644781568065,\n",
              "  'Debt to Equity': 0,\n",
              "  'Free Cash Flow': '',\n",
              "  'Return on Equity': 4.075712859949477,\n",
              "  'Dividend Yield': 0.0},\n",
              " 'ISAP.JK': {'Average Daily Returns': -0.005790180482305719,\n",
              "  'Beta Alpha': '',\n",
              "  'Sharpe Ratio': -1.49,\n",
              "  'Piotroski F-Score': '',\n",
              "  'Revenue Growth': '',\n",
              "  'Earning per Share': '',\n",
              "  'Price to Earning': 0,\n",
              "  'Debt to Equity': 0,\n",
              "  'Free Cash Flow': '',\n",
              "  'Return on Equity': '',\n",
              "  'Dividend Yield': 0.0},\n",
              " 'ISAT.JK': {'Average Daily Returns': 0.0020444893898110216,\n",
              "  'Beta Alpha': {'beta': array([-0.045]), 'alpha': array([0.002])},\n",
              "  'Sharpe Ratio': 1.05,\n",
              "  'Piotroski F-Score': '',\n",
              "  'Revenue Growth': -11.031654427025398,\n",
              "  'Earning per Share': -88.89339454261149,\n",
              "  'Price to Earning': -131.3370927060675,\n",
              "  'Debt to Equity': 4.538235329494455,\n",
              "  'Free Cash Flow': '',\n",
              "  'Return on Equity': -6.037825591243894,\n",
              "  'Dividend Yield': 19.020728051391863},\n",
              " 'ISSP.JK': {'Average Daily Returns': 0.0014383171840170097,\n",
              "  'Beta Alpha': {'beta': array([0.039]), 'alpha': array([0.001])},\n",
              "  'Sharpe Ratio': 0.72,\n",
              "  'Piotroski F-Score': '',\n",
              "  'Revenue Growth': -29.807310467300564,\n",
              "  'Earning per Share': 24.885568477810633,\n",
              "  'Price to Earning': 11.653340379126973,\n",
              "  'Debt to Equity': 0.8167088194186553,\n",
              "  'Free Cash Flow': '',\n",
              "  'Return on Equity': 5.271691891533721,\n",
              "  'Dividend Yield': 5.0},\n",
              " 'ITIC.JK': {'Average Daily Returns': -0.001294903681177144,\n",
              "  'Beta Alpha': {'beta': array([0.173]), 'alpha': array([-0.001])},\n",
              "  'Sharpe Ratio': -0.65,\n",
              "  'Piotroski F-Score': '',\n",
              "  'Revenue Growth': '',\n",
              "  'Earning per Share': '',\n",
              "  'Price to Earning': 0,\n",
              "  'Debt to Equity': 0,\n",
              "  'Free Cash Flow': '',\n",
              "  'Return on Equity': '',\n",
              "  'Dividend Yield': 0.0},\n",
              " 'ITMA.JK': {'Average Daily Returns': 0.001396114911224711,\n",
              "  'Beta Alpha': {'beta': array([-0.068]), 'alpha': array([0.001])},\n",
              "  'Sharpe Ratio': 0.54,\n",
              "  'Piotroski F-Score': '',\n",
              "  'Revenue Growth': -94.1308239345,\n",
              "  'Earning per Share': 0.011822325837146385,\n",
              "  'Price to Earning': 66399.79398414884,\n",
              "  'Debt to Equity': 0.056845360217473107,\n",
              "  'Free Cash Flow': '',\n",
              "  'Return on Equity': 8.00064275390215,\n",
              "  'Dividend Yield': 2.4373503184713377},\n",
              " 'ITMG.JK': {'Average Daily Returns': 0.0018460791655679615,\n",
              "  'Beta Alpha': {'beta': array([-0.107]), 'alpha': array([0.002])},\n",
              "  'Sharpe Ratio': 1.12,\n",
              "  'Piotroski F-Score': '',\n",
              "  'Revenue Growth': -42.925241704477,\n",
              "  'Earning per Share': 0.034930791560464455,\n",
              "  'Price to Earning': 791565.2284071044,\n",
              "  'Debt to Equity': 0.06307192297245404,\n",
              "  'Free Cash Flow': '',\n",
              "  'Return on Equity': 4.6209268781552355,\n",
              "  'Dividend Yield': 98.2486075949367},\n",
              " 'JARR.JK': {'Average Daily Returns': -0.00032137136101869284,\n",
              "  'Beta Alpha': '',\n",
              "  'Sharpe Ratio': -0.1,\n",
              "  'Piotroski F-Score': '',\n",
              "  'Revenue Growth': -96.60544241267822,\n",
              "  'Earning per Share': -2.508758120940797,\n",
              "  'Price to Earning': -123.56711370953067,\n",
              "  'Debt to Equity': 87.03171059463773,\n",
              "  'Free Cash Flow': '',\n",
              "  'Return on Equity': -140.25577514138678,\n",
              "  'Dividend Yield': 0.0},\n",
              " 'JAST.JK': {'Average Daily Returns': 0.00013966006605666825,\n",
              "  'Beta Alpha': {'beta': array([0.034]), 'alpha': array([0.])},\n",
              "  'Sharpe Ratio': 0.05,\n",
              "  'Piotroski F-Score': '',\n",
              "  'Revenue Growth': '',\n",
              "  'Earning per Share': '',\n",
              "  'Price to Earning': 0,\n",
              "  'Debt to Equity': 0,\n",
              "  'Free Cash Flow': '',\n",
              "  'Return on Equity': '',\n",
              "  'Dividend Yield': 0.0},\n",
              " 'JATI.JK': {'Average Daily Returns': -0.003921689089820511,\n",
              "  'Beta Alpha': '',\n",
              "  'Sharpe Ratio': -1.11,\n",
              "  'Piotroski F-Score': '',\n",
              "  'Revenue Growth': '',\n",
              "  'Earning per Share': '',\n",
              "  'Price to Earning': 0,\n",
              "  'Debt to Equity': 0,\n",
              "  'Free Cash Flow': '',\n",
              "  'Return on Equity': '',\n",
              "  'Dividend Yield': 0.0},\n",
              " 'JAWA.JK': {'Average Daily Returns': 0.0020843623449573086,\n",
              "  'Beta Alpha': {'beta': array([0.114]), 'alpha': array([0.002])},\n",
              "  'Sharpe Ratio': 0.58,\n",
              "  'Piotroski F-Score': '',\n",
              "  'Revenue Growth': -45.28638618974465,\n",
              "  'Earning per Share': -18.842605805884727,\n",
              "  'Price to Earning': -6.209332255067384,\n",
              "  'Debt to Equity': 14.004187774906967,\n",
              "  'Free Cash Flow': '',\n",
              "  'Return on Equity': -131.79646866524752,\n",
              "  'Dividend Yield': 21.111111111111114},\n",
              " 'JAYA.JK': {'Average Daily Returns': 0.0012316644038547456,\n",
              "  'Beta Alpha': {'beta': array([0.073]), 'alpha': array([0.001])},\n",
              "  'Sharpe Ratio': 0.49,\n",
              "  'Piotroski F-Score': '',\n",
              "  'Revenue Growth': -9.59869114528235,\n",
              "  'Earning per Share': 3.791131621543605,\n",
              "  'Price to Earning': 30.070177292758704,\n",
              "  'Debt to Equity': 0.4360348787302813,\n",
              "  'Free Cash Flow': '',\n",
              "  'Return on Equity': 4.535481077555773,\n",
              "  'Dividend Yield': 2.631578947368421},\n",
              " 'JECC.JK': {'Average Daily Returns': -0.0006331761308182446,\n",
              "  'Beta Alpha': {'beta': array([-0.028]), 'alpha': array([-0.001])},\n",
              "  'Sharpe Ratio': -0.25,\n",
              "  'Piotroski F-Score': '',\n",
              "  'Revenue Growth': -8.504498536895639,\n",
              "  'Earning per Share': 78.8619708994709,\n",
              "  'Price to Earning': 25.29736420794151,\n",
              "  'Debt to Equity': 0.9935621076500186,\n",
              "  'Free Cash Flow': '',\n",
              "  'Return on Equity': 1.6221764059148671,\n",
              "  'Dividend Yield': 71.17794486215539},\n",
              " 'JGLE.JK': {'Average Daily Returns': 0.0,\n",
              "  'Beta Alpha': {'beta': array([0.]), 'alpha': array([0.])},\n",
              "  'Sharpe Ratio': nan,\n",
              "  'Piotroski F-Score': '',\n",
              "  'Revenue Growth': 1.6443881078589537,\n",
              "  'Earning per Share': -4.928371998250005,\n",
              "  'Price to Earning': -10.14533805844086,\n",
              "  'Debt to Equity': 0.15802478920698163,\n",
              "  'Free Cash Flow': '',\n",
              "  'Return on Equity': -5.436762680707191,\n",
              "  'Dividend Yield': 0.0},\n",
              " 'JIHD.JK': {'Average Daily Returns': -2.0657147256357043e-05,\n",
              "  'Beta Alpha': {'beta': array([-0.02]), 'alpha': array([-0.])},\n",
              "  'Sharpe Ratio': -0.01,\n",
              "  'Piotroski F-Score': '',\n",
              "  'Revenue Growth': 0.3682687327759457,\n",
              "  'Earning per Share': -13.97527040704952,\n",
              "  'Price to Earning': -27.62021690866824,\n",
              "  'Debt to Equity': 0.048360832342297516,\n",
              "  'Free Cash Flow': '',\n",
              "  'Return on Equity': -0.9028642284746763,\n",
              "  'Dividend Yield': 0.0},\n",
              " 'JKON.JK': {'Average Daily Returns': -0.001224700750090271,\n",
              "  'Beta Alpha': {'beta': array([0.049]), 'alpha': array([-0.001])},\n",
              "  'Sharpe Ratio': -0.59,\n",
              "  'Piotroski F-Score': '',\n",
              "  'Revenue Growth': -13.398721805501365,\n",
              "  'Earning per Share': 3.247369680918696,\n",
              "  'Price to Earning': 29.870328767914792,\n",
              "  'Debt to Equity': 0.12859439647416807,\n",
              "  'Free Cash Flow': '',\n",
              "  'Return on Equity': 2.001375215560613,\n",
              "  'Dividend Yield': 113.81443298969072},\n",
              " 'JKSW.JK': {'Average Daily Returns': 0.0,\n",
              "  'Beta Alpha': {'beta': array([0.]), 'alpha': array([0.])},\n",
              "  'Sharpe Ratio': nan,\n",
              "  'Piotroski F-Score': '',\n",
              "  'Revenue Growth': '',\n",
              "  'Earning per Share': '',\n",
              "  'Price to Earning': 0,\n",
              "  'Debt to Equity': 0,\n",
              "  'Free Cash Flow': '',\n",
              "  'Return on Equity': '',\n",
              "  'Dividend Yield': 0.0},\n",
              " 'JMAS.JK': {'Average Daily Returns': -0.0001094336846665682,\n",
              "  'Beta Alpha': {'beta': array([-0.047]), 'alpha': array([-0.])},\n",
              "  'Sharpe Ratio': -0.03,\n",
              "  'Piotroski F-Score': '',\n",
              "  'Revenue Growth': '',\n",
              "  'Earning per Share': '',\n",
              "  'Price to Earning': 0,\n",
              "  'Debt to Equity': 0,\n",
              "  'Free Cash Flow': '',\n",
              "  'Return on Equity': '',\n",
              "  'Dividend Yield': 0.0},\n",
              " 'JPFA.JK': {'Average Daily Returns': 0.0001637230964047941,\n",
              "  'Beta Alpha': {'beta': array([0.132]), 'alpha': array([0.])},\n",
              "  'Sharpe Ratio': 0.11,\n",
              "  'Piotroski F-Score': '',\n",
              "  'Revenue Growth': -17.632913902710218,\n",
              "  'Earning per Share': 105.17468707694744,\n",
              "  'Price to Earning': 11.552209317353016,\n",
              "  'Debt to Equity': 1.203015420478352,\n",
              "  'Free Cash Flow': '',\n",
              "  'Return on Equity': 8.585116375770165,\n",
              "  'Dividend Yield': 65.84362139917695},\n",
              " 'JRPT.JK': {'Average Daily Returns': 0.0006675504256754532,\n",
              "  'Beta Alpha': {'beta': array([0.002]), 'alpha': array([0.001])},\n",
              "  'Sharpe Ratio': 0.89,\n",
              "  'Piotroski F-Score': '',\n",
              "  'Revenue Growth': 0.48745463601063316,\n",
              "  'Earning per Share': 71.63864913494633,\n",
              "  'Price to Earning': 9.422288222220617,\n",
              "  'Debt to Equity': 0.00032475495994046605,\n",
              "  'Free Cash Flow': '',\n",
              "  'Return on Equity': 12.280936320234046,\n",
              "  'Dividend Yield': 63.11111111111111},\n",
              " 'JSKY.JK': {'Average Daily Returns': -1.4521824406161056e-05,\n",
              "  'Beta Alpha': {'beta': array([0.096]), 'alpha': array([-0.])},\n",
              "  'Sharpe Ratio': -0.01,\n",
              "  'Piotroski F-Score': '',\n",
              "  'Revenue Growth': 35.041173533762034,\n",
              "  'Earning per Share': 3.4327733890360097,\n",
              "  'Price to Earning': 15.14810158051319,\n",
              "  'Debt to Equity': 0.7748122795115369,\n",
              "  'Free Cash Flow': '',\n",
              "  'Return on Equity': 3.0050559685099616,\n",
              "  'Dividend Yield': 0.0},\n",
              " 'JSMR.JK': {'Average Daily Returns': 0.0003220357333814624,\n",
              "  'Beta Alpha': {'beta': array([-0.038]), 'alpha': array([0.])},\n",
              "  'Sharpe Ratio': 0.25,\n",
              "  'Piotroski F-Score': '',\n",
              "  'Revenue Growth': -9.6610038318864,\n",
              "  'Earning per Share': 69.03499403408424,\n",
              "  'Price to Earning': 76.0483878278884,\n",
              "  'Debt to Equity': 3.6079888003911402,\n",
              "  'Free Cash Flow': '',\n",
              "  'Return on Equity': 2.626791207879802,\n",
              "  'Dividend Yield': 17.24164380952381},\n",
              " 'JSPT.JK': {'Average Daily Returns': 0.0006283910322322944,\n",
              "  'Beta Alpha': {'beta': array([-0.114]), 'alpha': array([0.001])},\n",
              "  'Sharpe Ratio': 0.4,\n",
              "  'Piotroski F-Score': '',\n",
              "  'Revenue Growth': 6.739922597964842,\n",
              "  'Earning per Share': -61.76407703168551,\n",
              "  'Price to Earning': -21.695458985205402,\n",
              "  'Debt to Equity': 1.2378994390988143,\n",
              "  'Free Cash Flow': '',\n",
              "  'Return on Equity': -6.461570862390712,\n",
              "  'Dividend Yield': 11.119402985074627},\n",
              " 'JTPE.JK': {'Average Daily Returns': 0.0005810577398310648,\n",
              "  'Beta Alpha': {'beta': array([0.04]), 'alpha': array([0.001])},\n",
              "  'Sharpe Ratio': 0.49,\n",
              "  'Piotroski F-Score': '',\n",
              "  'Revenue Growth': -9.045337776088806,\n",
              "  'Earning per Share': 10.509053957534507,\n",
              "  'Price to Earning': 27.404940650582283,\n",
              "  'Debt to Equity': 0.15648679532073104,\n",
              "  'Free Cash Flow': '',\n",
              "  'Return on Equity': 9.98615612441565,\n",
              "  'Dividend Yield': 148.26388888888889},\n",
              " 'KAEF.JK': {'Average Daily Returns': 0.0005803113394090135,\n",
              "  'Beta Alpha': {'beta': array([-0.052]), 'alpha': array([0.001])},\n",
              "  'Sharpe Ratio': 0.22,\n",
              "  'Piotroski F-Score': '',\n",
              "  'Revenue Growth': -22.177137820695457,\n",
              "  'Earning per Share': 3.1687305822300305,\n",
              "  'Price to Earning': 244.5774356286816,\n",
              "  'Debt to Equity': 1.1443247876985414,\n",
              "  'Free Cash Flow': '',\n",
              "  'Return on Equity': 0.2522212654107646,\n",
              "  'Dividend Yield': 0.16391612903225808},\n",
              " 'KARW.JK': {'Average Daily Returns': 0.0017762952038389598,\n",
              "  'Beta Alpha': {'beta': array([-0.116]), 'alpha': array([0.002])},\n",
              "  'Sharpe Ratio': 0.58,\n",
              "  'Piotroski F-Score': '',\n",
              "  'Revenue Growth': 54.362551070455844,\n",
              "  'Earning per Share': 0.00011793688726705765,\n",
              "  'Price to Earning': 1500802.7098358052,\n",
              "  'Debt to Equity': -1.31935219996468,\n",
              "  'Free Cash Flow': '',\n",
              "  'Return on Equity': -0.204191644858988,\n",
              "  'Dividend Yield': 0.0},\n",
              " 'KAYU.JK': {'Average Daily Returns': 0.0013415896934703903,\n",
              "  'Beta Alpha': {'beta': array([0.012]), 'alpha': array([0.001])},\n",
              "  'Sharpe Ratio': 0.42,\n",
              "  'Piotroski F-Score': '',\n",
              "  'Revenue Growth': '',\n",
              "  'Earning per Share': '',\n",
              "  'Price to Earning': 0,\n",
              "  'Debt to Equity': 0,\n",
              "  'Free Cash Flow': '',\n",
              "  'Return on Equity': '',\n",
              "  'Dividend Yield': 0.0},\n",
              " 'KBAG.JK': {'Average Daily Returns': -0.00182380464494191,\n",
              "  'Beta Alpha': {'beta': array([-0.093]), 'alpha': array([-0.002])},\n",
              "  'Sharpe Ratio': -0.87,\n",
              "  'Piotroski F-Score': '',\n",
              "  'Revenue Growth': '',\n",
              "  'Earning per Share': '',\n",
              "  'Price to Earning': 0,\n",
              "  'Debt to Equity': 0,\n",
              "  'Free Cash Flow': '',\n",
              "  'Return on Equity': '',\n",
              "  'Dividend Yield': 0.7},\n",
              " 'KBLI.JK': {'Average Daily Returns': 3.6744871259423364e-06,\n",
              "  'Beta Alpha': {'beta': array([-0.058]), 'alpha': array([0.])},\n",
              "  'Sharpe Ratio': 0.0,\n",
              "  'Piotroski F-Score': '',\n",
              "  'Revenue Growth': 11.756499993877688,\n",
              "  'Earning per Share': -101.63250691607143,\n",
              "  'Price to Earning': -3.1092414188007207,\n",
              "  'Debt to Equity': 0.011540759311773795,\n",
              "  'Free Cash Flow': '',\n",
              "  'Return on Equity': -2.5516178323187875,\n",
              "  'Dividend Yield': 12.341772151898734},\n",
              " 'KBLM.JK': {'Average Daily Returns': 0.00046591556213951935,\n",
              "  'Beta Alpha': {'beta': array([0.01]), 'alpha': array([0.])},\n",
              "  'Sharpe Ratio': 0.28,\n",
              "  'Piotroski F-Score': '',\n",
              "  'Revenue Growth': '',\n",
              "  'Earning per Share': '',\n",
              "  'Price to Earning': 0,\n",
              "  'Debt to Equity': 0,\n",
              "  'Free Cash Flow': '',\n",
              "  'Return on Equity': '',\n",
              "  'Dividend Yield': 22.400000000000002},\n",
              " 'KBLV.JK': {'Average Daily Returns': -0.0009644992231162191,\n",
              "  'Beta Alpha': {'beta': array([0.027]), 'alpha': array([-0.001])},\n",
              "  'Sharpe Ratio': -0.35,\n",
              "  'Piotroski F-Score': '',\n",
              "  'Revenue Growth': 24.306324110671937,\n",
              "  'Earning per Share': 0.2106568264695806,\n",
              "  'Price to Earning': 289.57048780381473,\n",
              "  'Debt to Equity': 0,\n",
              "  'Free Cash Flow': '',\n",
              "  'Return on Equity': 0.01918471746452265,\n",
              "  'Dividend Yield': 0.0},\n",
              " 'KBRI.JK': {'Average Daily Returns': 0.0,\n",
              "  'Beta Alpha': {'beta': array([0.]), 'alpha': array([0.])},\n",
              "  'Sharpe Ratio': nan,\n",
              "  'Piotroski F-Score': '',\n",
              "  'Revenue Growth': '',\n",
              "  'Earning per Share': '',\n",
              "  'Price to Earning': 0,\n",
              "  'Debt to Equity': 0,\n",
              "  'Free Cash Flow': '',\n",
              "  'Return on Equity': '',\n",
              "  'Dividend Yield': 0.0},\n",
              " 'KDSI.JK': {'Average Daily Returns': 0.00135364017634535,\n",
              "  'Beta Alpha': {'beta': array([0.079]), 'alpha': array([0.001])},\n",
              "  'Sharpe Ratio': 0.79,\n",
              "  'Piotroski F-Score': '',\n",
              "  'Revenue Growth': '',\n",
              "  'Earning per Share': '',\n",
              "  'Price to Earning': 0,\n",
              "  'Debt to Equity': 0,\n",
              "  'Free Cash Flow': '',\n",
              "  'Return on Equity': '',\n",
              "  'Dividend Yield': 1.6339869281045754},\n",
              " 'KDTN.JK': {'Average Daily Returns': -0.0014780307804127103,\n",
              "  'Beta Alpha': '',\n",
              "  'Sharpe Ratio': -0.81,\n",
              "  'Piotroski F-Score': '',\n",
              "  'Revenue Growth': '',\n",
              "  'Earning per Share': '',\n",
              "  'Price to Earning': 0,\n",
              "  'Debt to Equity': 0,\n",
              "  'Free Cash Flow': '',\n",
              "  'Return on Equity': '',\n",
              "  'Dividend Yield': 0.0},\n",
              " 'KEEN.JK': {'Average Daily Returns': 0.0014277604096910126,\n",
              "  'Beta Alpha': {'beta': array([0.014]), 'alpha': array([0.001])},\n",
              "  'Sharpe Ratio': 0.75,\n",
              "  'Piotroski F-Score': '',\n",
              "  'Revenue Growth': -30.54622273047097,\n",
              "  'Earning per Share': 0.0018326825078240632,\n",
              "  'Price to Earning': 450159.8048095735,\n",
              "  'Debt to Equity': 0.7602052583763511,\n",
              "  'Free Cash Flow': '',\n",
              "  'Return on Equity': 4.91242905711326,\n",
              "  'Dividend Yield': 0.8254545454545456},\n",
              " 'KEJU.JK': {'Average Daily Returns': 0.0004878129418535307,\n",
              "  'Beta Alpha': {'beta': array([-0.054]), 'alpha': array([0.001])},\n",
              "  'Sharpe Ratio': 0.43,\n",
              "  'Piotroski F-Score': '',\n",
              "  'Revenue Growth': -7.779790607969312,\n",
              "  'Earning per Share': 80.66667761933333,\n",
              "  'Price to Earning': 14.442146799421243,\n",
              "  'Debt to Equity': 0,\n",
              "  'Free Cash Flow': '',\n",
              "  'Return on Equity': 27.44380853669812,\n",
              "  'Dividend Yield': 9.699570815450643},\n",
              " 'KETR.JK': {'Average Daily Returns': -0.0005386783220532384,\n",
              "  'Beta Alpha': '',\n",
              "  'Sharpe Ratio': -0.23,\n",
              "  'Piotroski F-Score': '',\n",
              "  'Revenue Growth': '',\n",
              "  'Earning per Share': '',\n",
              "  'Price to Earning': 0,\n",
              "  'Debt to Equity': 0,\n",
              "  'Free Cash Flow': '',\n",
              "  'Return on Equity': '',\n",
              "  'Dividend Yield': 0.0},\n",
              " 'KIAS.JK': {'Average Daily Returns': -0.0009267983126260961,\n",
              "  'Beta Alpha': {'beta': array([0.034]), 'alpha': array([-0.001])},\n",
              "  'Sharpe Ratio': -0.48,\n",
              "  'Piotroski F-Score': '',\n",
              "  'Revenue Growth': -20.86903415449815,\n",
              "  'Earning per Share': -127.85484753411765,\n",
              "  'Price to Earning': -0.10949917246011455,\n",
              "  'Debt to Equity': 0.04473330121407984,\n",
              "  'Free Cash Flow': '',\n",
              "  'Return on Equity': -6.846871048111892,\n",
              "  'Dividend Yield': 23.57142857142857},\n",
              " 'KICI.JK': {'Average Daily Returns': 0.00019356442330163465,\n",
              "  'Beta Alpha': {'beta': array([0.06]), 'alpha': array([0.])},\n",
              "  'Sharpe Ratio': 0.07,\n",
              "  'Piotroski F-Score': '',\n",
              "  'Revenue Growth': '',\n",
              "  'Earning per Share': '',\n",
              "  'Price to Earning': 0,\n",
              "  'Debt to Equity': 0,\n",
              "  'Free Cash Flow': '',\n",
              "  'Return on Equity': '',\n",
              "  'Dividend Yield': 13.88888888888889},\n",
              " 'KIJA.JK': {'Average Daily Returns': 3.1112238926835954e-05,\n",
              "  'Beta Alpha': {'beta': array([0.015]), 'alpha': array([0.])},\n",
              "  'Sharpe Ratio': 0.02,\n",
              "  'Piotroski F-Score': '',\n",
              "  'Revenue Growth': -3.7815463947827643,\n",
              "  'Earning per Share': -67.13100475316352,\n",
              "  'Price to Earning': -1.727964603338274,\n",
              "  'Debt to Equity': 0.8689948957660358,\n",
              "  'Free Cash Flow': '',\n",
              "  'Return on Equity': -0.9124574827046282,\n",
              "  'Dividend Yield': 4.038708620689655},\n",
              " 'KING.JK': {'Average Daily Returns': 0.0030061565012473876,\n",
              "  'Beta Alpha': '',\n",
              "  'Sharpe Ratio': 0.89,\n",
              "  'Piotroski F-Score': '',\n",
              "  'Revenue Growth': '',\n",
              "  'Earning per Share': '',\n",
              "  'Price to Earning': 0,\n",
              "  'Debt to Equity': 0,\n",
              "  'Free Cash Flow': '',\n",
              "  'Return on Equity': '',\n",
              "  'Dividend Yield': 0.0},\n",
              " 'KINO.JK': {'Average Daily Returns': -0.0009681429412737893,\n",
              "  'Beta Alpha': {'beta': array([0.095]), 'alpha': array([-0.001])},\n",
              "  'Sharpe Ratio': -0.61,\n",
              "  'Piotroski F-Score': '',\n",
              "  'Revenue Growth': 1.214964014934013,\n",
              "  'Earning per Share': 82.45935301467871,\n",
              "  'Price to Earning': 16.97806190342997,\n",
              "  'Debt to Equity': 0.7975160311679873,\n",
              "  'Free Cash Flow': '',\n",
              "  'Return on Equity': 4.469743728704071,\n",
              "  'Dividend Yield': 19.5},\n",
              " 'KIOS.JK': {'Average Daily Returns': 1.88917491271196e-05,\n",
              "  'Beta Alpha': {'beta': array([-0.074]), 'alpha': array([0.])},\n",
              "  'Sharpe Ratio': 0.01,\n",
              "  'Piotroski F-Score': '',\n",
              "  'Revenue Growth': 169.15879484650065,\n",
              "  'Earning per Share': -38.70117457237706,\n",
              "  'Price to Earning': -1.2919504524725063,\n",
              "  'Debt to Equity': 0,\n",
              "  'Free Cash Flow': '',\n",
              "  'Return on Equity': -83.84497426027292,\n",
              "  'Dividend Yield': 0.0},\n",
              " 'KJEN.JK': {'Average Daily Returns': -0.001102017788408258,\n",
              "  'Beta Alpha': {'beta': array([-0.121]), 'alpha': array([-0.001])},\n",
              "  'Sharpe Ratio': -0.28,\n",
              "  'Piotroski F-Score': '',\n",
              "  'Revenue Growth': '',\n",
              "  'Earning per Share': '',\n",
              "  'Price to Earning': 0,\n",
              "  'Debt to Equity': 0,\n",
              "  'Free Cash Flow': '',\n",
              "  'Return on Equity': '',\n",
              "  'Dividend Yield': 0.0},\n",
              " 'KKES.JK': {'Average Daily Returns': -0.0019669795609355825,\n",
              "  'Beta Alpha': '',\n",
              "  'Sharpe Ratio': -0.91,\n",
              "  'Piotroski F-Score': '',\n",
              "  'Revenue Growth': '',\n",
              "  'Earning per Share': '',\n",
              "  'Price to Earning': 0,\n",
              "  'Debt to Equity': 0,\n",
              "  'Free Cash Flow': '',\n",
              "  'Return on Equity': '',\n",
              "  'Dividend Yield': 0.0},\n",
              " 'KKGI.JK': {'Average Daily Returns': 0.0011611485566602267,\n",
              "  'Beta Alpha': {'beta': array([-0.059]), 'alpha': array([0.001])},\n",
              "  'Sharpe Ratio': 0.58,\n",
              "  'Piotroski F-Score': '',\n",
              "  'Revenue Growth': -45.34867907301422,\n",
              "  'Earning per Share': -0.0015143077483757905,\n",
              "  'Price to Earning': -239053.1253559736,\n",
              "  'Debt to Equity': 0.06990362877871172,\n",
              "  'Free Cash Flow': '',\n",
              "  'Return on Equity': -8.748477517107105,\n",
              "  'Dividend Yield': 149.25414364640883},\n",
              " 'KLAS.JK': {'Average Daily Returns': -0.004236161888165182,\n",
              "  'Beta Alpha': '',\n",
              "  'Sharpe Ratio': -1.35,\n",
              "  'Piotroski F-Score': '',\n",
              "  'Revenue Growth': '',\n",
              "  'Earning per Share': '',\n",
              "  'Price to Earning': 0,\n",
              "  'Debt to Equity': 0,\n",
              "  'Free Cash Flow': '',\n",
              "  'Return on Equity': '',\n",
              "  'Dividend Yield': 0.0},\n",
              " 'KLBF.JK': {'Average Daily Returns': 0.00022097593366786664,\n",
              "  'Beta Alpha': {'beta': array([0.118]), 'alpha': array([0.])},\n",
              "  'Sharpe Ratio': 0.18,\n",
              "  'Piotroski F-Score': '',\n",
              "  'Revenue Growth': -11.989323332618227,\n",
              "  'Earning per Share': 59.090356352240526,\n",
              "  'Price to Earning': 24.369458722098223,\n",
              "  'Debt to Equity': 0.062397631729951754,\n",
              "  'Free Cash Flow': '',\n",
              "  'Return on Equity': 15.70339659051651,\n",
              "  'Dividend Yield': 29.6875},\n",
              " 'KLIN.JK': {'Average Daily Returns': -0.003229057844445871,\n",
              "  'Beta Alpha': '',\n",
              "  'Sharpe Ratio': -1.35,\n",
              "  'Piotroski F-Score': '',\n",
              "  'Revenue Growth': '',\n",
              "  'Earning per Share': '',\n",
              "  'Price to Earning': 0,\n",
              "  'Debt to Equity': 0,\n",
              "  'Free Cash Flow': '',\n",
              "  'Return on Equity': '',\n",
              "  'Dividend Yield': 0.0},\n",
              " 'KMDS.JK': {'Average Daily Returns': 0.0005421794609338436,\n",
              "  'Beta Alpha': '',\n",
              "  'Sharpe Ratio': 0.3,\n",
              "  'Piotroski F-Score': '',\n",
              "  'Revenue Growth': '',\n",
              "  'Earning per Share': '',\n",
              "  'Price to Earning': 0,\n",
              "  'Debt to Equity': 0,\n",
              "  'Free Cash Flow': '',\n",
              "  'Return on Equity': '',\n",
              "  'Dividend Yield': 4.873853211009174},\n",
              " 'KMTR.JK': {'Average Daily Returns': 0.00048416808655985406,\n",
              "  'Beta Alpha': {'beta': array([0.032]), 'alpha': array([0.])},\n",
              "  'Sharpe Ratio': 0.3,\n",
              "  'Piotroski F-Score': '',\n",
              "  'Revenue Growth': -28.58561827807958,\n",
              "  'Earning per Share': 23.711070989784144,\n",
              "  'Price to Earning': 11.218388242125606,\n",
              "  'Debt to Equity': 1.2333004787856932,\n",
              "  'Free Cash Flow': '',\n",
              "  'Return on Equity': 9.727413513656348,\n",
              "  'Dividend Yield': 20.578947368421048},\n",
              " 'KOBX.JK': {'Average Daily Returns': 0.0013733889023382398,\n",
              "  'Beta Alpha': {'beta': array([0.158]), 'alpha': array([0.001])},\n",
              "  'Sharpe Ratio': 0.54,\n",
              "  'Piotroski F-Score': '',\n",
              "  'Revenue Growth': '',\n",
              "  'Earning per Share': '',\n",
              "  'Price to Earning': 0,\n",
              "  'Debt to Equity': 0,\n",
              "  'Free Cash Flow': '',\n",
              "  'Return on Equity': '',\n",
              "  'Dividend Yield': 3.289473684210526},\n",
              " 'KOCI.JK': {'Average Daily Returns': -0.005177385658185932,\n",
              "  'Beta Alpha': '',\n",
              "  'Sharpe Ratio': -2.24,\n",
              "  'Piotroski F-Score': '',\n",
              "  'Revenue Growth': '',\n",
              "  'Earning per Share': '',\n",
              "  'Price to Earning': 0,\n",
              "  'Debt to Equity': 0,\n",
              "  'Free Cash Flow': '',\n",
              "  'Return on Equity': '',\n",
              "  'Dividend Yield': 0.0},\n",
              " 'KOIN.JK': {'Average Daily Returns': 0.0003561938363509759,\n",
              "  'Beta Alpha': {'beta': array([-0.234]), 'alpha': array([0.])},\n",
              "  'Sharpe Ratio': 0.15,\n",
              "  'Piotroski F-Score': '',\n",
              "  'Revenue Growth': -43.97083871378286,\n",
              "  'Earning per Share': 41.922963243354886,\n",
              "  'Price to Earning': 1.7412891253952825,\n",
              "  'Debt to Equity': 0.148359092863658,\n",
              "  'Free Cash Flow': '',\n",
              "  'Return on Equity': 32.48182547494086,\n",
              "  'Dividend Yield': 0.0},\n",
              " 'KOKA.JK': {'Average Daily Returns': -0.007761017443802573,\n",
              "  'Beta Alpha': '',\n",
              "  'Sharpe Ratio': -1.84,\n",
              "  'Piotroski F-Score': '',\n",
              "  'Revenue Growth': '',\n",
              "  'Earning per Share': '',\n",
              "  'Price to Earning': 0,\n",
              "  'Debt to Equity': 0,\n",
              "  'Free Cash Flow': '',\n",
              "  'Return on Equity': '',\n",
              "  'Dividend Yield': 0.0},\n",
              " 'KONI.JK': {'Average Daily Returns': 0.0026238526047183126,\n",
              "  'Beta Alpha': {'beta': array([-0.073]), 'alpha': array([0.003])},\n",
              "  'Sharpe Ratio': 0.64,\n",
              "  'Piotroski F-Score': '',\n",
              "  'Revenue Growth': -23.64765341283472,\n",
              "  'Earning per Share': 0.1596407564102564,\n",
              "  'Price to Earning': 6639.9084033148465,\n",
              "  'Debt to Equity': 0,\n",
              "  'Free Cash Flow': '',\n",
              "  'Return on Equity': 0.07665319194900612,\n",
              "  'Dividend Yield': 0.0},\n",
              " 'KOPI.JK': {'Average Daily Returns': 0.0004512982034576882,\n",
              "  'Beta Alpha': {'beta': array([0.11]), 'alpha': array([0.])},\n",
              "  'Sharpe Ratio': 0.15,\n",
              "  'Piotroski F-Score': '',\n",
              "  'Revenue Growth': '',\n",
              "  'Earning per Share': '',\n",
              "  'Price to Earning': 0,\n",
              "  'Debt to Equity': 0,\n",
              "  'Free Cash Flow': '',\n",
              "  'Return on Equity': '',\n",
              "  'Dividend Yield': 0.0},\n",
              " 'KOTA.JK': {'Average Daily Returns': -0.0021393136226889346,\n",
              "  'Beta Alpha': {'beta': array([-0.027]), 'alpha': array([-0.002])},\n",
              "  'Sharpe Ratio': -0.84,\n",
              "  'Piotroski F-Score': '',\n",
              "  'Revenue Growth': -44.33217327574988,\n",
              "  'Earning per Share': -2.7913414160096486,\n",
              "  'Price to Earning': -17.912534709379017,\n",
              "  'Debt to Equity': 0.16540166235489176,\n",
              "  'Free Cash Flow': '',\n",
              "  'Return on Equity': -2.3146034854471003,\n",
              "  'Dividend Yield': 0.0},\n",
              " 'KPAL.JK': {'Average Daily Returns': -0.0003495735144785562,\n",
              "  'Beta Alpha': {'beta': array([-0.014]), 'alpha': array([-0.])},\n",
              "  'Sharpe Ratio': -0.55,\n",
              "  'Piotroski F-Score': '',\n",
              "  'Revenue Growth': '',\n",
              "  'Earning per Share': '',\n",
              "  'Price to Earning': 0,\n",
              "  'Debt to Equity': 0,\n",
              "  'Free Cash Flow': '',\n",
              "  'Return on Equity': '',\n",
              "  'Dividend Yield': 0.0},\n",
              " 'KPAS.JK': {'Average Daily Returns': 0.0005440708165125719,\n",
              "  'Beta Alpha': {'beta': array([0.046]), 'alpha': array([0.001])},\n",
              "  'Sharpe Ratio': 0.34,\n",
              "  'Piotroski F-Score': '',\n",
              "  'Revenue Growth': '',\n",
              "  'Earning per Share': '',\n",
              "  'Price to Earning': 0,\n",
              "  'Debt to Equity': 0,\n",
              "  'Free Cash Flow': '',\n",
              "  'Return on Equity': '',\n",
              "  'Dividend Yield': 0.0},\n",
              " 'KPIG.JK': {'Average Daily Returns': -0.00022490218475626099,\n",
              "  'Beta Alpha': {'beta': array([0.04]), 'alpha': array([-0.])},\n",
              "  'Sharpe Ratio': -0.11,\n",
              "  'Piotroski F-Score': '',\n",
              "  'Revenue Growth': -3.1338718395556486,\n",
              "  'Earning per Share': 3.181204913433434,\n",
              "  'Price to Earning': 19.175124413524017,\n",
              "  'Debt to Equity': 0.2577685343694798,\n",
              "  'Free Cash Flow': '',\n",
              "  'Return on Equity': 1.3481340626412706,\n",
              "  'Dividend Yield': 86.22950819672131},\n",
              " 'KRAH.JK': {'Average Daily Returns': -0.00011118545167059601,\n",
              "  'Beta Alpha': {'beta': array([0.008]), 'alpha': array([-0.])},\n",
              "  'Sharpe Ratio': -0.18,\n",
              "  'Piotroski F-Score': '',\n",
              "  'Revenue Growth': '',\n",
              "  'Earning per Share': '',\n",
              "  'Price to Earning': 0,\n",
              "  'Debt to Equity': 0,\n",
              "  'Free Cash Flow': '',\n",
              "  'Return on Equity': '',\n",
              "  'Dividend Yield': 0.0},\n",
              " 'KRAS.JK': {'Average Daily Returns': -0.0004202673672047328,\n",
              "  'Beta Alpha': {'beta': array([0.032]), 'alpha': array([-0.])},\n",
              "  'Sharpe Ratio': -0.24,\n",
              "  'Piotroski F-Score': '',\n",
              "  'Revenue Growth': -36.050278917889294,\n",
              "  'Earning per Share': 0.0012237419333743645,\n",
              "  'Price to Earning': 117671.86861279831,\n",
              "  'Debt to Equity': 2.779979207584096,\n",
              "  'Free Cash Flow': '',\n",
              "  'Return on Equity': 4.107647250695741,\n",
              "  'Dividend Yield': 14.583333333333334},\n",
              " 'KREN.JK': {'Average Daily Returns': -0.0006826687148960035,\n",
              "  'Beta Alpha': {'beta': array([0.03]), 'alpha': array([-0.001])},\n",
              "  'Sharpe Ratio': -0.3,\n",
              "  'Piotroski F-Score': '',\n",
              "  'Revenue Growth': -10.00792935507862,\n",
              "  'Earning per Share': -16.931058040845887,\n",
              "  'Price to Earning': -2.9531527137510167,\n",
              "  'Debt to Equity': 0.18547683033332668,\n",
              "  'Free Cash Flow': '',\n",
              "  'Return on Equity': -29.322079516479917,\n",
              "  'Dividend Yield': 47.96},\n",
              " 'KRYA.JK': {'Average Daily Returns': -0.0001673390893681308,\n",
              "  'Beta Alpha': '',\n",
              "  'Sharpe Ratio': -0.04,\n",
              "  'Piotroski F-Score': '',\n",
              "  'Revenue Growth': '',\n",
              "  'Earning per Share': '',\n",
              "  'Price to Earning': 0,\n",
              "  'Debt to Equity': 0,\n",
              "  'Free Cash Flow': '',\n",
              "  'Return on Equity': '',\n",
              "  'Dividend Yield': 0.0},\n",
              " 'KUAS.JK': {'Average Daily Returns': -0.002503923115396342,\n",
              "  'Beta Alpha': '',\n",
              "  'Sharpe Ratio': -1.36,\n",
              "  'Piotroski F-Score': '',\n",
              "  'Revenue Growth': '',\n",
              "  'Earning per Share': '',\n",
              "  'Price to Earning': 0,\n",
              "  'Debt to Equity': 0,\n",
              "  'Free Cash Flow': '',\n",
              "  'Return on Equity': '',\n",
              "  'Dividend Yield': 0.0},\n",
              " 'LABA.JK': {'Average Daily Returns': -0.0009773760464552113,\n",
              "  'Beta Alpha': '',\n",
              "  'Sharpe Ratio': -0.36,\n",
              "  'Piotroski F-Score': '',\n",
              "  'Revenue Growth': '',\n",
              "  'Earning per Share': '',\n",
              "  'Price to Earning': 0,\n",
              "  'Debt to Equity': 0,\n",
              "  'Free Cash Flow': '',\n",
              "  'Return on Equity': '',\n",
              "  'Dividend Yield': 0.0},\n",
              " 'LAJU.JK': {'Average Daily Returns': -0.002332388898390065,\n",
              "  'Beta Alpha': '',\n",
              "  'Sharpe Ratio': -0.63,\n",
              "  'Piotroski F-Score': '',\n",
              "  'Revenue Growth': '',\n",
              "  'Earning per Share': '',\n",
              "  'Price to Earning': 0,\n",
              "  'Debt to Equity': 0,\n",
              "  'Free Cash Flow': '',\n",
              "  'Return on Equity': '',\n",
              "  'Dividend Yield': 0.0},\n",
              " 'LAND.JK': {'Average Daily Returns': -0.0011466893357369194,\n",
              "  'Beta Alpha': {'beta': array([-0.052]), 'alpha': array([-0.001])},\n",
              "  'Sharpe Ratio': -0.35,\n",
              "  'Piotroski F-Score': '',\n",
              "  'Revenue Growth': -36.07036792159248,\n",
              "  'Earning per Share': -6.427056679868434,\n",
              "  'Price to Earning': -3.111844347451657,\n",
              "  'Debt to Equity': 0.25256088096788354,\n",
              "  'Free Cash Flow': '',\n",
              "  'Return on Equity': -3.6823041191701202,\n",
              "  'Dividend Yield': 0.0},\n",
              " 'LAPD.JK': {'Average Daily Returns': -0.0018916898050915804,\n",
              "  'Beta Alpha': {'beta': array([0.042]), 'alpha': array([-0.002])},\n",
              "  'Sharpe Ratio': -1.16,\n",
              "  'Piotroski F-Score': '',\n",
              "  'Revenue Growth': '',\n",
              "  'Earning per Share': '',\n",
              "  'Price to Earning': 0,\n",
              "  'Debt to Equity': 0,\n",
              "  'Free Cash Flow': '',\n",
              "  'Return on Equity': 39.01901168023151,\n",
              "  'Dividend Yield': 37.5},\n",
              " 'LCGP.JK': {'Average Daily Returns': 0.0,\n",
              "  'Beta Alpha': {'beta': array([0.]), 'alpha': array([0.])},\n",
              "  'Sharpe Ratio': nan,\n",
              "  'Piotroski F-Score': '',\n",
              "  'Revenue Growth': '',\n",
              "  'Earning per Share': '',\n",
              "  'Price to Earning': 0,\n",
              "  'Debt to Equity': 0,\n",
              "  'Free Cash Flow': '',\n",
              "  'Return on Equity': -0.17402190369201362,\n",
              "  'Dividend Yield': 0.0},\n",
              " 'LCKM.JK': {'Average Daily Returns': 0.0002502108074304255,\n",
              "  'Beta Alpha': {'beta': array([0.016]), 'alpha': array([0.])},\n",
              "  'Sharpe Ratio': 0.13,\n",
              "  'Piotroski F-Score': '',\n",
              "  'Revenue Growth': '',\n",
              "  'Earning per Share': '',\n",
              "  'Price to Earning': 0,\n",
              "  'Debt to Equity': 0,\n",
              "  'Free Cash Flow': '',\n",
              "  'Return on Equity': '',\n",
              "  'Dividend Yield': 1.006711409395973},\n",
              " 'LEAD.JK': {'Average Daily Returns': 0.0007281345039542633,\n",
              "  'Beta Alpha': {'beta': array([-0.068]), 'alpha': array([0.001])},\n",
              "  'Sharpe Ratio': 0.37,\n",
              "  'Piotroski F-Score': '',\n",
              "  'Revenue Growth': '',\n",
              "  'Earning per Share': '',\n",
              "  'Price to Earning': 0,\n",
              "  'Debt to Equity': 0,\n",
              "  'Free Cash Flow': '',\n",
              "  'Return on Equity': '',\n",
              "  'Dividend Yield': 113.33333333333333},\n",
              " 'LFLO.JK': {'Average Daily Returns': -0.0002930835764327854,\n",
              "  'Beta Alpha': '',\n",
              "  'Sharpe Ratio': -0.12,\n",
              "  'Piotroski F-Score': '',\n",
              "  'Revenue Growth': '',\n",
              "  'Earning per Share': '',\n",
              "  'Price to Earning': 0,\n",
              "  'Debt to Equity': 0,\n",
              "  'Free Cash Flow': '',\n",
              "  'Return on Equity': '',\n",
              "  'Dividend Yield': 0.0},\n",
              " 'LIFE.JK': {'Average Daily Returns': -1.1573389711571423e-05,\n",
              "  'Beta Alpha': {'beta': array([0.001]), 'alpha': array([-0.])},\n",
              "  'Sharpe Ratio': -0.01,\n",
              "  'Piotroski F-Score': '',\n",
              "  'Revenue Growth': 7.72354935877646,\n",
              "  'Earning per Share': 157.59,\n",
              "  'Price to Earning': 38.2321213274954,\n",
              "  'Debt to Equity': 6.822144457231305e-05,\n",
              "  'Free Cash Flow': '',\n",
              "  'Return on Equity': 4.112411046505776,\n",
              "  'Dividend Yield': 5.261410788381743},\n",
              " 'LINK.JK': {'Average Daily Returns': -0.0005000387158813082,\n",
              "  'Beta Alpha': {'beta': array([0.073]), 'alpha': array([-0.001])},\n",
              "  'Sharpe Ratio': -0.31,\n",
              "  'Piotroski F-Score': '',\n",
              "  'Revenue Growth': -9.338081479988354,\n",
              "  'Earning per Share': 342.24228728776177,\n",
              "  'Price to Earning': 3.3163639975491317,\n",
              "  'Debt to Equity': 1.4872299300250438,\n",
              "  'Free Cash Flow': '',\n",
              "  'Return on Equity': 20.371314581422027,\n",
              "  'Dividend Yield': 72.51894273127755},\n",
              " 'LION.JK': {'Average Daily Returns': 0.0016480711470134013,\n",
              "  'Beta Alpha': {'beta': array([0.209]), 'alpha': array([0.002])},\n",
              "  'Sharpe Ratio': 0.53,\n",
              "  'Piotroski F-Score': '',\n",
              "  'Revenue Growth': '',\n",
              "  'Earning per Share': '',\n",
              "  'Price to Earning': 0,\n",
              "  'Debt to Equity': 0,\n",
              "  'Free Cash Flow': '',\n",
              "  'Return on Equity': '',\n",
              "  'Dividend Yield': 403.765690376569},\n",
              " 'LIVE.JK': {'Average Daily Returns': nan,\n",
              "  'Beta Alpha': '',\n",
              "  'Sharpe Ratio': nan,\n",
              "  'Piotroski F-Score': '',\n",
              "  'Revenue Growth': '',\n",
              "  'Earning per Share': '',\n",
              "  'Price to Earning': 0,\n",
              "  'Debt to Equity': 0,\n",
              "  'Free Cash Flow': '',\n",
              "  'Return on Equity': '',\n",
              "  'Dividend Yield': 0.0},\n",
              " 'LMAS.JK': {'Average Daily Returns': 0.0003429380476765267,\n",
              "  'Beta Alpha': {'beta': array([-0.067]), 'alpha': array([0.])},\n",
              "  'Sharpe Ratio': 0.14,\n",
              "  'Piotroski F-Score': '',\n",
              "  'Revenue Growth': '',\n",
              "  'Earning per Share': '',\n",
              "  'Price to Earning': 0,\n",
              "  'Debt to Equity': 0,\n",
              "  'Free Cash Flow': '',\n",
              "  'Return on Equity': '',\n",
              "  'Dividend Yield': 32.14},\n",
              " 'LMAX.JK': {'Average Daily Returns': -0.003078625260377737,\n",
              "  'Beta Alpha': '',\n",
              "  'Sharpe Ratio': -0.98,\n",
              "  'Piotroski F-Score': '',\n",
              "  'Revenue Growth': '',\n",
              "  'Earning per Share': '',\n",
              "  'Price to Earning': 0,\n",
              "  'Debt to Equity': 0,\n",
              "  'Free Cash Flow': '',\n",
              "  'Return on Equity': '',\n",
              "  'Dividend Yield': 0.0},\n",
              " 'LMPI.JK': {'Average Daily Returns': 0.0008477823955266208,\n",
              "  'Beta Alpha': {'beta': array([0.003]), 'alpha': array([0.001])},\n",
              "  'Sharpe Ratio': 0.38,\n",
              "  'Piotroski F-Score': '',\n",
              "  'Revenue Growth': '',\n",
              "  'Earning per Share': '',\n",
              "  'Price to Earning': 0,\n",
              "  'Debt to Equity': 0,\n",
              "  'Free Cash Flow': '',\n",
              "  'Return on Equity': '',\n",
              "  'Dividend Yield': 0.0},\n",
              " 'LMSH.JK': {'Average Daily Returns': 0.0012591165231233916,\n",
              "  'Beta Alpha': {'beta': array([-0.324]), 'alpha': array([0.001])},\n",
              "  'Sharpe Ratio': 0.45,\n",
              "  'Piotroski F-Score': '',\n",
              "  'Revenue Growth': '',\n",
              "  'Earning per Share': '',\n",
              "  'Price to Earning': 0,\n",
              "  'Debt to Equity': 0,\n",
              "  'Free Cash Flow': '',\n",
              "  'Return on Equity': '',\n",
              "  'Dividend Yield': 205.88235294117646},\n",
              " 'LOPI.JK': {'Average Daily Returns': -0.005819029129727548,\n",
              "  'Beta Alpha': '',\n",
              "  'Sharpe Ratio': -2.23,\n",
              "  'Piotroski F-Score': '',\n",
              "  'Revenue Growth': '',\n",
              "  'Earning per Share': '',\n",
              "  'Price to Earning': 0,\n",
              "  'Debt to Equity': 0,\n",
              "  'Free Cash Flow': '',\n",
              "  'Return on Equity': '',\n",
              "  'Dividend Yield': 0.0},\n",
              " 'LPCK.JK': {'Average Daily Returns': 8.589634518974593e-05,\n",
              "  'Beta Alpha': {'beta': array([-0.049]), 'alpha': array([0.])},\n",
              "  'Sharpe Ratio': 0.05,\n",
              "  'Piotroski F-Score': '',\n",
              "  'Revenue Growth': -0.14552533148975397,\n",
              "  'Earning per Share': -1363.686679149166,\n",
              "  'Price to Earning': -0.41798457718721393,\n",
              "  'Debt to Equity': 0.131165525788152,\n",
              "  'Free Cash Flow': '',\n",
              "  'Return on Equity': -57.621884153384606,\n",
              "  'Dividend Yield': 9.824561403508772},\n",
              " 'LPGI.JK': {'Average Daily Returns': 0.0008422573251131712,\n",
              "  'Beta Alpha': {'beta': array([-0.001]), 'alpha': array([0.001])},\n",
              "  'Sharpe Ratio': 0.53,\n",
              "  'Piotroski F-Score': '',\n",
              "  'Revenue Growth': -25.859049097557897,\n",
              "  'Earning per Share': 309.69495013333335,\n",
              "  'Price to Earning': 11.81808098073364,\n",
              "  'Debt to Equity': 0.0027639775653146873,\n",
              "  'Free Cash Flow': '',\n",
              "  'Return on Equity': 10.789768853243478,\n",
              "  'Dividend Yield': 63.743169398907106},\n",
              " 'LPIN.JK': {'Average Daily Returns': 0.0012167178547926526,\n",
              "  'Beta Alpha': {'beta': array([-0.169]), 'alpha': array([0.001])},\n",
              "  'Sharpe Ratio': 0.47,\n",
              "  'Piotroski F-Score': '',\n",
              "  'Revenue Growth': '',\n",
              "  'Earning per Share': '',\n",
              "  'Price to Earning': 0,\n",
              "  'Debt to Equity': 0,\n",
              "  'Free Cash Flow': '',\n",
              "  'Return on Equity': '',\n",
              "  'Dividend Yield': 35.670731707317074},\n",
              " 'LPKR.JK': {'Average Daily Returns': -0.0004150759761751756,\n",
              "  'Beta Alpha': {'beta': array([-0.066]), 'alpha': array([-0.])},\n",
              "  'Sharpe Ratio': -0.22,\n",
              "  'Piotroski F-Score': '',\n",
              "  'Revenue Growth': -26.815179151063994,\n",
              "  'Earning per Share': -125.44053486708385,\n",
              "  'Price to Earning': -0.5500614300880656,\n",
              "  'Debt to Equity': 1.050780717198155,\n",
              "  'Free Cash Flow': '',\n",
              "  'Return on Equity': -45.64810466487989,\n",
              "  'Dividend Yield': 108.9946956521739},\n",
              " 'LPLI.JK': {'Average Daily Returns': 0.0020080814104829,\n",
              "  'Beta Alpha': {'beta': array([-0.042]), 'alpha': array([0.002])},\n",
              "  'Sharpe Ratio': 0.8,\n",
              "  'Piotroski F-Score': '',\n",
              "  'Revenue Growth': 140.53140096618358,\n",
              "  'Earning per Share': -133.71367106505303,\n",
              "  'Price to Earning': -1.7500080443244779,\n",
              "  'Debt to Equity': 0,\n",
              "  'Free Cash Flow': '',\n",
              "  'Return on Equity': -2.8564935618311753,\n",
              "  'Dividend Yield': 0.0},\n",
              " 'LPPF.JK': {'Average Daily Returns': 0.000817368367484573,\n",
              "  'Beta Alpha': {'beta': array([0.048]), 'alpha': array([0.001])},\n",
              "  'Sharpe Ratio': 0.38,\n",
              "  'Piotroski F-Score': '',\n",
              "  'Revenue Growth': -13.371291493427737,\n",
              "  'Earning per Share': -625501.2643538185,\n",
              "  'Price to Earning': -0.002717820245745155,\n",
              "  'Debt to Equity': 6.195820837378983,\n",
              "  'Free Cash Flow': '',\n",
              "  'Return on Equity': -150.2588114634205,\n",
              "  'Dividend Yield': 135.19688235294117},\n",
              " 'LPPS.JK': {'Average Daily Returns': 7.773328699712017e-05,\n",
              "  'Beta Alpha': {'beta': array([0.143]), 'alpha': array([0.])},\n",
              "  'Sharpe Ratio': 0.05,\n",
              "  'Piotroski F-Score': '',\n",
              "  'Revenue Growth': -66.66666666666666,\n",
              "  'Earning per Share': 14.104373147613332,\n",
              "  'Price to Earning': 4.892099725231377,\n",
              "  'Debt to Equity': 0,\n",
              "  'Free Cash Flow': '',\n",
              "  'Return on Equity': 1.4291191986305847,\n",
              "  'Dividend Yield': 0.0},\n",
              " 'LRNA.JK': {'Average Daily Returns': 0.0012801943411849654,\n",
              "  'Beta Alpha': {'beta': array([-0.032]), 'alpha': array([0.001])},\n",
              "  'Sharpe Ratio': 0.48,\n",
              "  'Piotroski F-Score': '',\n",
              "  'Revenue Growth': '',\n",
              "  'Earning per Share': '',\n",
              "  'Price to Earning': 0,\n",
              "  'Debt to Equity': 0,\n",
              "  'Free Cash Flow': '',\n",
              "  'Return on Equity': '',\n",
              "  'Dividend Yield': 0.0},\n",
              " 'LSIP.JK': {'Average Daily Returns': 0.0002008529305267916,\n",
              "  'Beta Alpha': {'beta': array([0.04]), 'alpha': array([0.])},\n",
              "  'Sharpe Ratio': 0.16,\n",
              "  'Piotroski F-Score': '',\n",
              "  'Revenue Growth': -21.848589086709833,\n",
              "  'Earning per Share': 102.05500026313352,\n",
              "  'Price to Earning': 8.622801408368545,\n",
              "  'Debt to Equity': 0.0009045779291151364,\n",
              "  'Free Cash Flow': '',\n",
              "  'Return on Equity': 7.480054577742547,\n",
              "  'Dividend Yield': 112.38636363636363},\n",
              " 'LTLS.JK': {'Average Daily Returns': 0.0013622834906172388,\n",
              "  'Beta Alpha': {'beta': array([-0.029]), 'alpha': array([0.001])},\n",
              "  'Sharpe Ratio': 0.91,\n",
              "  'Piotroski F-Score': '',\n",
              "  'Revenue Growth': -15.721484176730648,\n",
              "  'Earning per Share': 48.44990999954818,\n",
              "  'Price to Earning': 23.013458642346247,\n",
              "  'Debt to Equity': 0.5534000955594444,\n",
              "  'Free Cash Flow': '',\n",
              "  'Return on Equity': 3.708870115583536,\n",
              "  'Dividend Yield': 42.924762331838565},\n",
              " 'LUCK.JK': {'Average Daily Returns': -0.0007978459833554011,\n",
              "  'Beta Alpha': {'beta': array([0.044]), 'alpha': array([-0.001])},\n",
              "  'Sharpe Ratio': -0.29,\n",
              "  'Piotroski F-Score': '',\n",
              "  'Revenue Growth': '',\n",
              "  'Earning per Share': '',\n",
              "  'Price to Earning': 0,\n",
              "  'Debt to Equity': 0,\n",
              "  'Free Cash Flow': '',\n",
              "  'Return on Equity': '',\n",
              "  'Dividend Yield': 7.246376811594203},\n",
              " 'LUCY.JK': {'Average Daily Returns': 0.0011505692905263375,\n",
              "  'Beta Alpha': '',\n",
              "  'Sharpe Ratio': 0.49,\n",
              "  'Piotroski F-Score': '',\n",
              "  'Revenue Growth': '',\n",
              "  'Earning per Share': '',\n",
              "  'Price to Earning': 0,\n",
              "  'Debt to Equity': 0,\n",
              "  'Free Cash Flow': '',\n",
              "  'Return on Equity': '',\n",
              "  'Dividend Yield': 0.0},\n",
              " 'MABA.JK': {'Average Daily Returns': 0.0,\n",
              "  'Beta Alpha': {'beta': array([0.]), 'alpha': array([0.])},\n",
              "  'Sharpe Ratio': nan,\n",
              "  'Piotroski F-Score': '',\n",
              "  'Revenue Growth': '',\n",
              "  'Earning per Share': '',\n",
              "  'Price to Earning': 0,\n",
              "  'Debt to Equity': 0,\n",
              "  'Free Cash Flow': '',\n",
              "  'Return on Equity': '',\n",
              "  'Dividend Yield': 0.0},\n",
              " 'MAGP.JK': {'Average Daily Returns': 0.0,\n",
              "  'Beta Alpha': {'beta': array([0.]), 'alpha': array([0.])},\n",
              "  'Sharpe Ratio': nan,\n",
              "  'Piotroski F-Score': '',\n",
              "  'Revenue Growth': '',\n",
              "  'Earning per Share': -23.44021184982094,\n",
              "  'Price to Earning': -2.1330865232936,\n",
              "  'Debt to Equity': 2.2716622062215306,\n",
              "  'Free Cash Flow': '',\n",
              "  'Return on Equity': -133.60094824005148,\n",
              "  'Dividend Yield': 0.0},\n",
              " 'MAHA.JK': {'Average Daily Returns': 0.0019107773972340553,\n",
              "  'Beta Alpha': '',\n",
              "  'Sharpe Ratio': 0.63,\n",
              "  'Piotroski F-Score': '',\n",
              "  'Revenue Growth': -24.394717161421823,\n",
              "  'Earning per Share': 8.147367806996925,\n",
              "  'Price to Earning': 23.565893248996467,\n",
              "  'Debt to Equity': 0.43405112187896616,\n",
              "  'Free Cash Flow': '',\n",
              "  'Return on Equity': 26.960690462104036,\n",
              "  'Dividend Yield': 0.0},\n",
              " 'MAIN.JK': {'Average Daily Returns': -0.0008147574014552078,\n",
              "  'Beta Alpha': {'beta': array([-0.062]), 'alpha': array([-0.001])},\n",
              "  'Sharpe Ratio': -0.51,\n",
              "  'Piotroski F-Score': '',\n",
              "  'Revenue Growth': -23.328627819627545,\n",
              "  'Earning per Share': -17.348375581338704,\n",
              "  'Price to Earning': -30.55041075834848,\n",
              "  'Debt to Equity': 1.2300901523694965,\n",
              "  'Free Cash Flow': '',\n",
              "  'Return on Equity': -1.9556837980490547,\n",
              "  'Dividend Yield': 97.28301886792453},\n",
              " 'MAMI.JK': {'Average Daily Returns': 0.0,\n",
              "  'Beta Alpha': {'beta': array([0.]), 'alpha': array([0.])},\n",
              "  'Sharpe Ratio': nan,\n",
              "  'Piotroski F-Score': '',\n",
              "  'Revenue Growth': '',\n",
              "  'Earning per Share': '',\n",
              "  'Price to Earning': 0,\n",
              "  'Debt to Equity': 0,\n",
              "  'Free Cash Flow': '',\n",
              "  'Return on Equity': '',\n",
              "  'Dividend Yield': 0.0},\n",
              " 'MANG.JK': {'Average Daily Returns': 0.01165570087777858,\n",
              "  'Beta Alpha': '',\n",
              "  'Sharpe Ratio': 2.54,\n",
              "  'Piotroski F-Score': '',\n",
              "  'Revenue Growth': '',\n",
              "  'Earning per Share': '',\n",
              "  'Price to Earning': 0,\n",
              "  'Debt to Equity': 0,\n",
              "  'Free Cash Flow': '',\n",
              "  'Return on Equity': '',\n",
              "  'Dividend Yield': 0.0},\n",
              " 'MAPA.JK': {'Average Daily Returns': 0.0019508204215103752,\n",
              "  'Beta Alpha': {'beta': array([0.017]), 'alpha': array([0.002])},\n",
              "  'Sharpe Ratio': 1.06,\n",
              "  'Piotroski F-Score': '',\n",
              "  'Revenue Growth': -20.862654464530134,\n",
              "  'Earning per Share': 0.07290204752575609,\n",
              "  'Price to Earning': 14059.961753994226,\n",
              "  'Debt to Equity': 0.5861457459914861,\n",
              "  'Free Cash Flow': '',\n",
              "  'Return on Equity': 0.06933176919794354,\n",
              "  'Dividend Yield': 0.0},\n",
              " 'MAPB.JK': {'Average Daily Returns': 0.0006076106296349782,\n",
              "  'Beta Alpha': {'beta': array([-0.053]), 'alpha': array([0.001])},\n",
              "  'Sharpe Ratio': 0.33,\n",
              "  'Piotroski F-Score': '',\n",
              "  'Revenue Growth': -15.920033988886162,\n",
              "  'Earning per Share': -69.01278469699004,\n",
              "  'Price to Earning': -28.472985239294403,\n",
              "  'Debt to Equity': 0.48298880350760726,\n",
              "  'Free Cash Flow': '',\n",
              "  'Return on Equity': -15.90127521285711,\n",
              "  'Dividend Yield': 0.0},\n",
              " 'MAPI.JK': {'Average Daily Returns': 0.0014275392371117437,\n",
              "  'Beta Alpha': {'beta': array([0.082]), 'alpha': array([0.001])},\n",
              "  'Sharpe Ratio': 0.83,\n",
              "  'Piotroski F-Score': '',\n",
              "  'Revenue Growth': -19.411871696630712,\n",
              "  'Earning per Share': -33.4781980389616,\n",
              "  'Price to Earning': -56.30530047663424,\n",
              "  'Debt to Equity': 1.2379531311787664,\n",
              "  'Free Cash Flow': '',\n",
              "  'Return on Equity': -10.205051658701477,\n",
              "  'Dividend Yield': 10.649867374005305},\n",
              " 'MARI.JK': {'Average Daily Returns': 0.0007376797033702824,\n",
              "  'Beta Alpha': {'beta': array([0.098]), 'alpha': array([0.001])},\n",
              "  'Sharpe Ratio': 0.25,\n",
              "  'Piotroski F-Score': '',\n",
              "  'Revenue Growth': '',\n",
              "  'Earning per Share': '',\n",
              "  'Price to Earning': 0,\n",
              "  'Debt to Equity': 0,\n",
              "  'Free Cash Flow': '',\n",
              "  'Return on Equity': '',\n",
              "  'Dividend Yield': 13.76923076923077},\n",
              " 'MARK.JK': {'Average Daily Returns': 0.0010607212722642926,\n",
              "  'Beta Alpha': {'beta': array([-0.019]), 'alpha': array([0.001])},\n",
              "  'Sharpe Ratio': 0.5,\n",
              "  'Piotroski F-Score': '',\n",
              "  'Revenue Growth': -52.62367089301658,\n",
              "  'Earning per Share': 37.90182793842105,\n",
              "  'Price to Earning': 22.822118273698095,\n",
              "  'Debt to Equity': 0.14104215499846948,\n",
              "  'Free Cash Flow': '',\n",
              "  'Return on Equity': 35.41266566158882,\n",
              "  'Dividend Yield': 3.6994219653179194},\n",
              " 'MASA.JK': {'Average Daily Returns': 0.0031118300829067473,\n",
              "  'Beta Alpha': {'beta': array([0.172]), 'alpha': array([0.003])},\n",
              "  'Sharpe Ratio': 1.05,\n",
              "  'Piotroski F-Score': '',\n",
              "  'Revenue Growth': -31.060268349322186,\n",
              "  'Earning per Share': 0.0038499934617963307,\n",
              "  'Price to Earning': 1041560.2103721531,\n",
              "  'Debt to Equity': 0.012645551414869236,\n",
              "  'Free Cash Flow': '',\n",
              "  'Return on Equity': 14.989033537685263,\n",
              "  'Dividend Yield': 0.29925187032418954},\n",
              " 'MASB.JK': {'Average Daily Returns': -0.00021870544539803958,\n",
              "  'Beta Alpha': '',\n",
              "  'Sharpe Ratio': -0.26,\n",
              "  'Piotroski F-Score': 6,\n",
              "  'Revenue Growth': -32.82888072431678,\n",
              "  'Earning per Share': 77.16896268550396,\n",
              "  'Price to Earning': 46.00295088153182,\n",
              "  'Debt to Equity': 0.01556675605124546,\n",
              "  'Free Cash Flow': 7212697346758.0,\n",
              "  'Return on Equity': 5.724910099113019,\n",
              "  'Dividend Yield': 0.0},\n",
              " 'MAXI.JK': {'Average Daily Returns': -0.0028884829779686405,\n",
              "  'Beta Alpha': '',\n",
              "  'Sharpe Ratio': -1.71,\n",
              "  'Piotroski F-Score': '',\n",
              "  'Revenue Growth': '',\n",
              "  'Earning per Share': '',\n",
              "  'Price to Earning': 0,\n",
              "  'Debt to Equity': 0,\n",
              "  'Free Cash Flow': '',\n",
              "  'Return on Equity': '',\n",
              "  'Dividend Yield': 0.0},\n",
              " 'MAYA.JK': {'Average Daily Returns': -0.0022382622151856436,\n",
              "  'Beta Alpha': {'beta': array([0.259]), 'alpha': array([-0.002])},\n",
              "  'Sharpe Ratio': -0.99,\n",
              "  'Piotroski F-Score': 5,\n",
              "  'Revenue Growth': -48.837264161058854,\n",
              "  'Earning per Share': 93.02190828602347,\n",
              "  'Price to Earning': 3.0530442261704382,\n",
              "  'Debt to Equity': 0.29159185161953144,\n",
              "  'Free Cash Flow': 561787000000.0,\n",
              "  'Return on Equity': 0.49683781208002553,\n",
              "  'Dividend Yield': 60.564366197183105},\n",
              " 'MBAP.JK': {'Average Daily Returns': 0.0014479728006215255,\n",
              "  'Beta Alpha': {'beta': array([0.13]), 'alpha': array([0.001])},\n",
              "  'Sharpe Ratio': 0.85,\n",
              "  'Piotroski F-Score': '',\n",
              "  'Revenue Growth': -35.06093300517183,\n",
              "  'Earning per Share': 0.022380907739866108,\n",
              "  'Price to Earning': 183638.6641583371,\n",
              "  'Debt to Equity': 0,\n",
              "  'Free Cash Flow': '',\n",
              "  'Return on Equity': 19.872290691567358,\n",
              "  'Dividend Yield': 50.60997566909975},\n",
              " 'MBMA.JK': {'Average Daily Returns': -0.0011357866898669391,\n",
              "  'Beta Alpha': '',\n",
              "  'Sharpe Ratio': -0.59,\n",
              "  'Piotroski F-Score': '',\n",
              "  'Revenue Growth': '',\n",
              "  'Earning per Share': -1.9332377083206434e-07,\n",
              "  'Price to Earning': -2767378257.1970496,\n",
              "  'Debt to Equity': 52.09778704711882,\n",
              "  'Free Cash Flow': '',\n",
              "  'Return on Equity': -0.19220973342798667,\n",
              "  'Dividend Yield': 0.0},\n",
              " 'MBSS.JK': {'Average Daily Returns': 0.0018966223463576751,\n",
              "  'Beta Alpha': {'beta': array([0.001]), 'alpha': array([0.002])},\n",
              "  'Sharpe Ratio': 0.9,\n",
              "  'Piotroski F-Score': '',\n",
              "  'Revenue Growth': -25.26022260595863,\n",
              "  'Earning per Share': -0.00856512540420794,\n",
              "  'Price to Earning': -124341.43690141171,\n",
              "  'Debt to Equity': 0.09286543791981487,\n",
              "  'Free Cash Flow': '',\n",
              "  'Return on Equity': -10.348814338842455,\n",
              "  'Dividend Yield': 26.1324882629108},\n",
              " 'MBTO.JK': {'Average Daily Returns': 0.0014022994946507924,\n",
              "  'Beta Alpha': {'beta': array([-0.025]), 'alpha': array([0.001])},\n",
              "  'Sharpe Ratio': 0.48,\n",
              "  'Piotroski F-Score': '',\n",
              "  'Revenue Growth': '',\n",
              "  'Earning per Share': '',\n",
              "  'Price to Earning': 0,\n",
              "  'Debt to Equity': 0,\n",
              "  'Free Cash Flow': '',\n",
              "  'Return on Equity': '',\n",
              "  'Dividend Yield': 21.50537634408602},\n",
              " 'MCAS.JK': {'Average Daily Returns': 0.0015862502319689425,\n",
              "  'Beta Alpha': {'beta': array([0.03]), 'alpha': array([0.002])},\n",
              "  'Sharpe Ratio': 0.72,\n",
              "  'Piotroski F-Score': '',\n",
              "  'Revenue Growth': -10.579474885928668,\n",
              "  'Earning per Share': 29.54006404217896,\n",
              "  'Price to Earning': 74.136602983426,\n",
              "  'Debt to Equity': 0.6160428265820383,\n",
              "  'Free Cash Flow': '',\n",
              "  'Return on Equity': 5.365681872810632,\n",
              "  'Dividend Yield': 0.0},\n",
              " 'MCOL.JK': {'Average Daily Returns': 0.002562231619368001,\n",
              "  'Beta Alpha': '',\n",
              "  'Sharpe Ratio': 1.57,\n",
              "  'Piotroski F-Score': '',\n",
              "  'Revenue Growth': -56.87464529636886,\n",
              "  'Earning per Share': 0.011498770021015334,\n",
              "  'Price to Earning': 510924.21096019464,\n",
              "  'Debt to Equity': 0.47670961630097763,\n",
              "  'Free Cash Flow': '',\n",
              "  'Return on Equity': 27.589199829403338,\n",
              "  'Dividend Yield': 3.591489361702128},\n",
              " 'MCOR.JK': {'Average Daily Returns': -0.00038927581337941413,\n",
              "  'Beta Alpha': {'beta': array([0.036]), 'alpha': array([-0.])},\n",
              "  'Sharpe Ratio': -0.27,\n",
              "  'Piotroski F-Score': 6,\n",
              "  'Revenue Growth': -20.417721364197757,\n",
              "  'Earning per Share': 1.3180220674697136,\n",
              "  'Price to Earning': 56.90344786410293,\n",
              "  'Debt to Equity': 0.09324621625484733,\n",
              "  'Free Cash Flow': -2385996000000.0,\n",
              "  'Return on Equity': 0.830669089250681,\n",
              "  'Dividend Yield': 0.0},\n",
              " 'MDIA.JK': {'Average Daily Returns': 0.0004355974205736138,\n",
              "  'Beta Alpha': {'beta': array([0.132]), 'alpha': array([0.])},\n",
              "  'Sharpe Ratio': 0.22,\n",
              "  'Piotroski F-Score': '',\n",
              "  'Revenue Growth': -5.331535477709692,\n",
              "  'Earning per Share': 2.5724961462912637,\n",
              "  'Price to Earning': 19.436375083431862,\n",
              "  'Debt to Equity': 0.7001439529660727,\n",
              "  'Free Cash Flow': '',\n",
              "  'Return on Equity': 4.001200617284104,\n",
              "  'Dividend Yield': 7.200000000000001},\n",
              " 'MDKA.JK': {'Average Daily Returns': 0.001156223377810623,\n",
              "  'Beta Alpha': {'beta': array([0.038]), 'alpha': array([0.001])},\n",
              "  'Sharpe Ratio': 0.59,\n",
              "  'Piotroski F-Score': '',\n",
              "  'Revenue Growth': -15.512442076432187,\n",
              "  'Earning per Share': 0.001505368481615063,\n",
              "  'Price to Earning': 1574365.3656527344,\n",
              "  'Debt to Equity': 2.7489353048946032,\n",
              "  'Free Cash Flow': '',\n",
              "  'Return on Equity': 6.76576455339889,\n",
              "  'Dividend Yield': 0.0},\n",
              " 'MDKI.JK': {'Average Daily Returns': 0.0006825955620435872,\n",
              "  'Beta Alpha': {'beta': array([0.007]), 'alpha': array([0.001])},\n",
              "  'Sharpe Ratio': 0.47,\n",
              "  'Piotroski F-Score': '',\n",
              "  'Revenue Growth': '',\n",
              "  'Earning per Share': '',\n",
              "  'Price to Earning': 0,\n",
              "  'Debt to Equity': 0,\n",
              "  'Free Cash Flow': '',\n",
              "  'Return on Equity': '',\n",
              "  'Dividend Yield': 22.3479702970297},\n",
              " 'MDLN.JK': {'Average Daily Returns': 0.00031404925084998743,\n",
              "  'Beta Alpha': {'beta': array([0.035]), 'alpha': array([0.])},\n",
              "  'Sharpe Ratio': 0.16,\n",
              "  'Piotroski F-Score': '',\n",
              "  'Revenue Growth': -63.58203725474972,\n",
              "  'Earning per Share': -319.0845113181198,\n",
              "  'Price to Earning': -0.16923416237575778,\n",
              "  'Debt to Equity': 1.491385231559846,\n",
              "  'Free Cash Flow': '',\n",
              "  'Return on Equity': -41.79605319090433,\n",
              "  'Dividend Yield': 68.51851851851852},\n",
              " 'MDRN.JK': {'Average Daily Returns': -0.0020400483909501664,\n",
              "  'Beta Alpha': {'beta': array([0.045]), 'alpha': array([-0.002])},\n",
              "  'Sharpe Ratio': -0.96,\n",
              "  'Piotroski F-Score': '',\n",
              "  'Revenue Growth': 11.67011343779452,\n",
              "  'Earning per Share': -41.28605778671566,\n",
              "  'Price to Earning': -0.12110625882059432,\n",
              "  'Debt to Equity': -0.7864733686314943,\n",
              "  'Free Cash Flow': '',\n",
              "  'Return on Equity': 38.62093938615087,\n",
              "  'Dividend Yield': 310.76},\n",
              " 'MEDC.JK': {'Average Daily Returns': 0.0018484118413505354,\n",
              "  'Beta Alpha': {'beta': array([0.01]), 'alpha': array([0.002])},\n",
              "  'Sharpe Ratio': 0.84,\n",
              "  'Piotroski F-Score': '',\n",
              "  'Revenue Growth': -12.15580648501236,\n",
              "  'Earning per Share': -0.007704075888361146,\n",
              "  'Price to Earning': -173933.9045224608,\n",
              "  'Debt to Equity': 3.099265988183194,\n",
              "  'Free Cash Flow': '',\n",
              "  'Return on Equity': -19.140062723560067,\n",
              "  'Dividend Yield': 0.0},\n",
              " 'MEDS.JK': {'Average Daily Returns': -0.001575769643182966,\n",
              "  'Beta Alpha': '',\n",
              "  'Sharpe Ratio': -0.41,\n",
              "  'Piotroski F-Score': '',\n",
              "  'Revenue Growth': '',\n",
              "  'Earning per Share': '',\n",
              "  'Price to Earning': 0,\n",
              "  'Debt to Equity': 0,\n",
              "  'Free Cash Flow': '',\n",
              "  'Return on Equity': '',\n",
              "  'Dividend Yield': 0.0},\n",
              " 'MEGA.JK': {'Average Daily Returns': 0.0006336728772600589,\n",
              "  'Beta Alpha': {'beta': array([-0.044]), 'alpha': array([0.001])},\n",
              "  'Sharpe Ratio': 0.39,\n",
              "  'Piotroski F-Score': 4,\n",
              "  'Revenue Growth': -15.524119417336221,\n",
              "  'Earning per Share': 256.2248984156952,\n",
              "  'Price to Earning': 20.099529873340888,\n",
              "  'Debt to Equity': 1.0333610618348377,\n",
              "  'Free Cash Flow': -454245000000.0,\n",
              "  'Return on Equity': 16.521782828019322,\n",
              "  'Dividend Yield': 22.278718446601943},\n",
              " 'MEJA.JK': {'Average Daily Returns': nan,\n",
              "  'Beta Alpha': '',\n",
              "  'Sharpe Ratio': nan,\n",
              "  'Piotroski F-Score': '',\n",
              "  'Revenue Growth': '',\n",
              "  'Earning per Share': '',\n",
              "  'Price to Earning': 0,\n",
              "  'Debt to Equity': 0,\n",
              "  'Free Cash Flow': '',\n",
              "  'Return on Equity': '',\n",
              "  'Dividend Yield': 0.0},\n",
              " 'MENN.JK': {'Average Daily Returns': -0.007759114025347568,\n",
              "  'Beta Alpha': '',\n",
              "  'Sharpe Ratio': -2.01,\n",
              "  'Piotroski F-Score': '',\n",
              "  'Revenue Growth': '',\n",
              "  'Earning per Share': '',\n",
              "  'Price to Earning': 0,\n",
              "  'Debt to Equity': 0,\n",
              "  'Free Cash Flow': '',\n",
              "  'Return on Equity': '',\n",
              "  'Dividend Yield': 0.0},\n",
              " 'MERK.JK': {'Average Daily Returns': 0.0005380776849781105,\n",
              "  'Beta Alpha': {'beta': array([-0.057]), 'alpha': array([0.001])},\n",
              "  'Sharpe Ratio': 0.58,\n",
              "  'Piotroski F-Score': '',\n",
              "  'Revenue Growth': -38.383096595599255,\n",
              "  'Earning per Share': 160.49612276785714,\n",
              "  'Price to Earning': 24.611186437901125,\n",
              "  'Debt to Equity': 0.026196637962998894,\n",
              "  'Free Cash Flow': '',\n",
              "  'Return on Equity': 11.735638179301604,\n",
              "  'Dividend Yield': 1397.753417721519},\n",
              " 'META.JK': {'Average Daily Returns': 0.0015315050683144503,\n",
              "  'Beta Alpha': {'beta': array([0.235]), 'alpha': array([0.001])},\n",
              "  'Sharpe Ratio': 0.67,\n",
              "  'Piotroski F-Score': '',\n",
              "  'Revenue Growth': 85.85923885093455,\n",
              "  'Earning per Share': 4.005249298627545,\n",
              "  'Price to Earning': 59.422019019279034,\n",
              "  'Debt to Equity': 2.716410105541283,\n",
              "  'Free Cash Flow': '',\n",
              "  'Return on Equity': 2.6717229067283115,\n",
              "  'Dividend Yield': 3.1239999999999997},\n",
              " 'MFIN.JK': {'Average Daily Returns': 0.0016837007909540058,\n",
              "  'Beta Alpha': {'beta': array([-0.104]), 'alpha': array([0.002])},\n",
              "  'Sharpe Ratio': 1.25,\n",
              "  'Piotroski F-Score': '',\n",
              "  'Revenue Growth': -12.840425915816954,\n",
              "  'Earning per Share': 65.81019185800172,\n",
              "  'Price to Earning': 47.40907011382077,\n",
              "  'Debt to Equity': 1.3539896594768588,\n",
              "  'Free Cash Flow': '',\n",
              "  'Return on Equity': 7.468911832775725,\n",
              "  'Dividend Yield': 14.665705128205127},\n",
              " 'MFMI.JK': {'Average Daily Returns': 0.00045322071359750834,\n",
              "  'Beta Alpha': {'beta': array([0.013]), 'alpha': array([0.])},\n",
              "  'Sharpe Ratio': 0.22,\n",
              "  'Piotroski F-Score': '',\n",
              "  'Revenue Growth': '',\n",
              "  'Earning per Share': '',\n",
              "  'Price to Earning': 0,\n",
              "  'Debt to Equity': 0,\n",
              "  'Free Cash Flow': '',\n",
              "  'Return on Equity': '',\n",
              "  'Dividend Yield': 79.13799999999999},\n",
              " 'MGLV.JK': {'Average Daily Returns': -0.00023562361343549017,\n",
              "  'Beta Alpha': '',\n",
              "  'Sharpe Ratio': -0.08,\n",
              "  'Piotroski F-Score': '',\n",
              "  'Revenue Growth': '',\n",
              "  'Earning per Share': '',\n",
              "  'Price to Earning': 0,\n",
              "  'Debt to Equity': 0,\n",
              "  'Free Cash Flow': '',\n",
              "  'Return on Equity': '',\n",
              "  'Dividend Yield': 0.0},\n",
              " 'MGNA.JK': {'Average Daily Returns': -0.0017884660086859652,\n",
              "  'Beta Alpha': {'beta': array([0.04]), 'alpha': array([-0.002])},\n",
              "  'Sharpe Ratio': -1.62,\n",
              "  'Piotroski F-Score': '',\n",
              "  'Revenue Growth': '',\n",
              "  'Earning per Share': '',\n",
              "  'Price to Earning': 0,\n",
              "  'Debt to Equity': 0,\n",
              "  'Free Cash Flow': '',\n",
              "  'Return on Equity': '',\n",
              "  'Dividend Yield': 0.0},\n",
              " 'MGRO.JK': {'Average Daily Returns': -9.775355936616025e-05,\n",
              "  'Beta Alpha': {'beta': array([-0.048]), 'alpha': array([-0.])},\n",
              "  'Sharpe Ratio': -0.1,\n",
              "  'Piotroski F-Score': '',\n",
              "  'Revenue Growth': -43.84673884516743,\n",
              "  'Earning per Share': -14.6791383636144,\n",
              "  'Price to Earning': -40.19309481150814,\n",
              "  'Debt to Equity': 2.826977959044797,\n",
              "  'Free Cash Flow': '',\n",
              "  'Return on Equity': -9.1537664339282,\n",
              "  'Dividend Yield': 1.1864406779661016},\n",
              " 'MICE.JK': {'Average Daily Returns': 0.0008831061643718264,\n",
              "  'Beta Alpha': {'beta': array([-0.159]), 'alpha': array([0.001])},\n",
              "  'Sharpe Ratio': 0.56,\n",
              "  'Piotroski F-Score': '',\n",
              "  'Revenue Growth': -15.105950032725982,\n",
              "  'Earning per Share': 4.557770209358274,\n",
              "  'Price to Earning': 107.94752201192536,\n",
              "  'Debt to Equity': 0.4250742532254148,\n",
              "  'Free Cash Flow': '',\n",
              "  'Return on Equity': 0.39632612219523367,\n",
              "  'Dividend Yield': 40.447154471544714},\n",
              " 'MIDI.JK': {'Average Daily Returns': 0.001922738137376173,\n",
              "  'Beta Alpha': {'beta': array([0.046]), 'alpha': array([0.002])},\n",
              "  'Sharpe Ratio': 0.85,\n",
              "  'Piotroski F-Score': '',\n",
              "  'Revenue Growth': -6.804538798336518,\n",
              "  'Earning per Share': 5.989837117010284,\n",
              "  'Price to Earning': 72.7899593065431,\n",
              "  'Debt to Equity': 0.49615429747973444,\n",
              "  'Free Cash Flow': '',\n",
              "  'Return on Equity': 14.323702282815018,\n",
              "  'Dividend Yield': 30.502293577981654},\n",
              " 'MIKA.JK': {'Average Daily Returns': 0.0005005740606738539,\n",
              "  'Beta Alpha': {'beta': array([-0.024]), 'alpha': array([0.001])},\n",
              "  'Sharpe Ratio': 0.34,\n",
              "  'Piotroski F-Score': '',\n",
              "  'Revenue Growth': -21.446215505944654,\n",
              "  'Earning per Share': 60.51937769177637,\n",
              "  'Price to Earning': 42.46573738892266,\n",
              "  'Debt to Equity': 0,\n",
              "  'Free Cash Flow': '',\n",
              "  'Return on Equity': 17.107518132150684,\n",
              "  'Dividend Yield': 5.992217898832685},\n",
              " 'MINA.JK': {'Average Daily Returns': 0.0005133427923310669,\n",
              "  'Beta Alpha': {'beta': array([-0.114]), 'alpha': array([0.001])},\n",
              "  'Sharpe Ratio': 0.24,\n",
              "  'Piotroski F-Score': '',\n",
              "  'Revenue Growth': -6.5040378756995905,\n",
              "  'Earning per Share': -1.4917882276248884,\n",
              "  'Price to Earning': -33.516821673546914,\n",
              "  'Debt to Equity': 0.04232079855126209,\n",
              "  'Free Cash Flow': '',\n",
              "  'Return on Equity': -8.831951780672624,\n",
              "  'Dividend Yield': 0.0},\n",
              " 'MIRA.JK': {'Average Daily Returns': -0.0017919221485057425,\n",
              "  'Beta Alpha': {'beta': array([0.151]), 'alpha': array([-0.002])},\n",
              "  'Sharpe Ratio': -0.96,\n",
              "  'Piotroski F-Score': '',\n",
              "  'Revenue Growth': 1.5833168642876074,\n",
              "  'Earning per Share': -4.552889997310642,\n",
              "  'Price to Earning': -1.537484982974517,\n",
              "  'Debt to Equity': 0.2404785627884145,\n",
              "  'Free Cash Flow': '',\n",
              "  'Return on Equity': -8.426847268100381,\n",
              "  'Dividend Yield': 0.0},\n",
              " 'MITI.JK': {'Average Daily Returns': 0.0014510003059639539,\n",
              "  'Beta Alpha': {'beta': array([-0.231]), 'alpha': array([0.002])},\n",
              "  'Sharpe Ratio': 0.48,\n",
              "  'Piotroski F-Score': '',\n",
              "  'Revenue Growth': '',\n",
              "  'Earning per Share': '',\n",
              "  'Price to Earning': 0,\n",
              "  'Debt to Equity': 0,\n",
              "  'Free Cash Flow': '',\n",
              "  'Return on Equity': '',\n",
              "  'Dividend Yield': 0.0},\n",
              " 'MKAP.JK': {'Average Daily Returns': nan,\n",
              "  'Beta Alpha': '',\n",
              "  'Sharpe Ratio': nan,\n",
              "  'Piotroski F-Score': '',\n",
              "  'Revenue Growth': '',\n",
              "  'Earning per Share': '',\n",
              "  'Price to Earning': 0,\n",
              "  'Debt to Equity': 0,\n",
              "  'Free Cash Flow': '',\n",
              "  'Return on Equity': '',\n",
              "  'Dividend Yield': 0.0},\n",
              " 'MKNT.JK': {'Average Daily Returns': -0.0018470469479487238,\n",
              "  'Beta Alpha': {'beta': array([0.259]), 'alpha': array([-0.002])},\n",
              "  'Sharpe Ratio': -0.47,\n",
              "  'Piotroski F-Score': '',\n",
              "  'Revenue Growth': 71.1888114725781,\n",
              "  'Earning per Share': -9.264371481149254,\n",
              "  'Price to Earning': -0.21588080789609032,\n",
              "  'Debt to Equity': 6.512981848868341,\n",
              "  'Free Cash Flow': '',\n",
              "  'Return on Equity': -115.70308195444304,\n",
              "  'Dividend Yield': 0.0},\n",
              " 'MKPI.JK': {'Average Daily Returns': 0.0008484575129118858,\n",
              "  'Beta Alpha': {'beta': array([-0.007]), 'alpha': array([0.001])},\n",
              "  'Sharpe Ratio': 0.65,\n",
              "  'Piotroski F-Score': '',\n",
              "  'Revenue Growth': -7.451242233667841,\n",
              "  'Earning per Share': 243.90974335163045,\n",
              "  'Price to Earning': 109.05673399710126,\n",
              "  'Debt to Equity': 0.052562921720082346,\n",
              "  'Free Cash Flow': '',\n",
              "  'Return on Equity': 4.1243426539806896,\n",
              "  'Dividend Yield': 9.66503759398496},\n",
              " 'MKTR.JK': {'Average Daily Returns': 0.0008696207011345397,\n",
              "  'Beta Alpha': '',\n",
              "  'Sharpe Ratio': 0.32,\n",
              "  'Piotroski F-Score': '',\n",
              "  'Revenue Growth': -55.558526646592114,\n",
              "  'Earning per Share': -0.0004821626345012752,\n",
              "  'Price to Earning': -263396.60295610095,\n",
              "  'Debt to Equity': 2.778712927666011,\n",
              "  'Free Cash Flow': '',\n",
              "  'Return on Equity': -0.0023424068374377875,\n",
              "  'Dividend Yield': 0.0},\n",
              " 'MLBI.JK': {'Average Daily Returns': -0.00030607582243433727,\n",
              "  'Beta Alpha': {'beta': array([0.009]), 'alpha': array([-0.])},\n",
              "  'Sharpe Ratio': -0.39,\n",
              "  'Piotroski F-Score': '',\n",
              "  'Revenue Growth': -19.75485117118982,\n",
              "  'Earning per Share': 135.57949279682603,\n",
              "  'Price to Earning': 52.18340808076565,\n",
              "  'Debt to Equity': 0.2680009558598166,\n",
              "  'Free Cash Flow': '',\n",
              "  'Return on Equity': 19.93510028053427,\n",
              "  'Dividend Yield': 2477.766784452297},\n",
              " 'MLIA.JK': {'Average Daily Returns': 0.0021399680077732537,\n",
              "  'Beta Alpha': {'beta': array([-0.03]), 'alpha': array([0.002])},\n",
              "  'Sharpe Ratio': 0.95,\n",
              "  'Piotroski F-Score': '',\n",
              "  'Revenue Growth': -16.044697116440844,\n",
              "  'Earning per Share': 8.32794353242806,\n",
              "  'Price to Earning': 48.51137599899305,\n",
              "  'Debt to Equity': 0.3685621978378995,\n",
              "  'Free Cash Flow': '',\n",
              "  'Return on Equity': 2.0035147214538784,\n",
              "  'Dividend Yield': 0.0},\n",
              " 'MLPL.JK': {'Average Daily Returns': 0.0010365841294348293,\n",
              "  'Beta Alpha': {'beta': array([0.265]), 'alpha': array([0.001])},\n",
              "  'Sharpe Ratio': 0.38,\n",
              "  'Piotroski F-Score': '',\n",
              "  'Revenue Growth': -0.317803237255548,\n",
              "  'Earning per Share': -1694.8574243865291,\n",
              "  'Price to Earning': -0.03658124813799103,\n",
              "  'Debt to Equity': 0.6412525616471588,\n",
              "  'Free Cash Flow': '',\n",
              "  'Return on Equity': -23.549440626737976,\n",
              "  'Dividend Yield': 79.27419354838709},\n",
              " 'MLPT.JK': {'Average Daily Returns': 0.0016052090265523719,\n",
              "  'Beta Alpha': {'beta': array([0.042]), 'alpha': array([0.002])},\n",
              "  'Sharpe Ratio': 0.72,\n",
              "  'Piotroski F-Score': '',\n",
              "  'Revenue Growth': -10.376221408154045,\n",
              "  'Earning per Share': 92.01866352576295,\n",
              "  'Price to Earning': 16.301040925029707,\n",
              "  'Debt to Equity': 0.3162560209582347,\n",
              "  'Free Cash Flow': '',\n",
              "  'Return on Equity': 21.200920609135558,\n",
              "  'Dividend Yield': 30.42066666666667},\n",
              " 'MMIX.JK': {'Average Daily Returns': -0.0018414217906296524,\n",
              "  'Beta Alpha': '',\n",
              "  'Sharpe Ratio': -0.67,\n",
              "  'Piotroski F-Score': '',\n",
              "  'Revenue Growth': '',\n",
              "  'Earning per Share': '',\n",
              "  'Price to Earning': 0,\n",
              "  'Debt to Equity': 0,\n",
              "  'Free Cash Flow': '',\n",
              "  'Return on Equity': '',\n",
              "  'Dividend Yield': 0.0},\n",
              " 'MMLP.JK': {'Average Daily Returns': 0.001184021740369246,\n",
              "  'Beta Alpha': {'beta': array([-0.]), 'alpha': array([0.001])},\n",
              "  'Sharpe Ratio': 0.57,\n",
              "  'Piotroski F-Score': '',\n",
              "  'Revenue Growth': 6.382259564040929,\n",
              "  'Earning per Share': -22.043230473614475,\n",
              "  'Price to Earning': -14.154005256782161,\n",
              "  'Debt to Equity': 0.35368116089290585,\n",
              "  'Free Cash Flow': '',\n",
              "  'Return on Equity': -3.829424683134519,\n",
              "  'Dividend Yield': 0.0},\n",
              " 'MNCN.JK': {'Average Daily Returns': -0.000809010648886942,\n",
              "  'Beta Alpha': {'beta': array([-0.022]), 'alpha': array([-0.001])},\n",
              "  'Sharpe Ratio': -0.57,\n",
              "  'Piotroski F-Score': '',\n",
              "  'Revenue Growth': -20.53996452569091,\n",
              "  'Earning per Share': 132.11555978263226,\n",
              "  'Price to Earning': 2.467536757489904,\n",
              "  'Debt to Equity': 0.10840098574174613,\n",
              "  'Free Cash Flow': '',\n",
              "  'Return on Equity': 12.342940003369108,\n",
              "  'Dividend Yield': 112.57668711656441},\n",
              " 'MOLI.JK': {'Average Daily Returns': -0.0003415817580512605,\n",
              "  'Beta Alpha': {'beta': array([-0.056]), 'alpha': array([-0.])},\n",
              "  'Sharpe Ratio': -0.14,\n",
              "  'Piotroski F-Score': '',\n",
              "  'Revenue Growth': -8.648119382317793,\n",
              "  'Earning per Share': 24.262180640805408,\n",
              "  'Price to Earning': 13.931146791955454,\n",
              "  'Debt to Equity': 0.43402577840666345,\n",
              "  'Free Cash Flow': '',\n",
              "  'Return on Equity': 5.484241605275878,\n",
              "  'Dividend Yield': 5.281065088757397},\n",
              " 'MORA.JK': {'Average Daily Returns': 2.5130933834645992e-05,\n",
              "  'Beta Alpha': '',\n",
              "  'Sharpe Ratio': 0.02,\n",
              "  'Piotroski F-Score': '',\n",
              "  'Revenue Growth': -9.91334181969618,\n",
              "  'Earning per Share': 24.443302579378315,\n",
              "  'Price to Earning': 19.06452691843461,\n",
              "  'Debt to Equity': 2.2616943913547414,\n",
              "  'Free Cash Flow': '',\n",
              "  'Return on Equity': 19.674990880103874,\n",
              "  'Dividend Yield': 0.0},\n",
              " 'MPIX.JK': {'Average Daily Returns': nan,\n",
              "  'Beta Alpha': '',\n",
              "  'Sharpe Ratio': nan,\n",
              "  'Piotroski F-Score': '',\n",
              "  'Revenue Growth': '',\n",
              "  'Earning per Share': '',\n",
              "  'Price to Earning': 0,\n",
              "  'Debt to Equity': 0,\n",
              "  'Free Cash Flow': '',\n",
              "  'Return on Equity': '',\n",
              "  'Dividend Yield': 0.0},\n",
              " 'MPMX.JK': {'Average Daily Returns': 0.0010810838761274482,\n",
              "  'Beta Alpha': {'beta': array([-0.006]), 'alpha': array([0.001])},\n",
              "  'Sharpe Ratio': 0.75,\n",
              "  'Piotroski F-Score': '',\n",
              "  'Revenue Growth': -6.142129943002036,\n",
              "  'Earning per Share': 27.101288390179356,\n",
              "  'Price to Earning': 38.55905243156907,\n",
              "  'Debt to Equity': 0.0020810169481126233,\n",
              "  'Free Cash Flow': '',\n",
              "  'Return on Equity': 1.871191687443893,\n",
              "  'Dividend Yield': 81.24401913875599},\n",
              " 'MPOW.JK': {'Average Daily Returns': 0.0009741249777388066,\n",
              "  'Beta Alpha': {'beta': array([0.1]), 'alpha': array([0.001])},\n",
              "  'Sharpe Ratio': 0.34,\n",
              "  'Piotroski F-Score': '',\n",
              "  'Revenue Growth': '',\n",
              "  'Earning per Share': '',\n",
              "  'Price to Earning': 0,\n",
              "  'Debt to Equity': 0,\n",
              "  'Free Cash Flow': '',\n",
              "  'Return on Equity': '',\n",
              "  'Dividend Yield': 0.0},\n",
              " 'MPPA.JK': {'Average Daily Returns': 0.00025209680499374505,\n",
              "  'Beta Alpha': {'beta': array([0.148]), 'alpha': array([0.])},\n",
              "  'Sharpe Ratio': 0.08,\n",
              "  'Piotroski F-Score': '',\n",
              "  'Revenue Growth': 1.372936920811958,\n",
              "  'Earning per Share': -31.258002097894643,\n",
              "  'Price to Earning': -1.6635740133724803,\n",
              "  'Debt to Equity': 8.266604030428216,\n",
              "  'Free Cash Flow': '',\n",
              "  'Return on Equity': -219.44590329025377,\n",
              "  'Dividend Yield': 2751.730769230769},\n",
              " 'MPRO.JK': {'Average Daily Returns': 0.0025522213925781097,\n",
              "  'Beta Alpha': {'beta': array([-0.141]), 'alpha': array([0.003])},\n",
              "  'Sharpe Ratio': 0.69,\n",
              "  'Piotroski F-Score': '',\n",
              "  'Revenue Growth': 89.96057969064778,\n",
              "  'Earning per Share': 1.2874257527609891,\n",
              "  'Price to Earning': 1398.1388799624008,\n",
              "  'Debt to Equity': 0.3344703081229132,\n",
              "  'Free Cash Flow': '',\n",
              "  'Return on Equity': 1.2961246556984198,\n",
              "  'Dividend Yield': 0.0},\n",
              " 'MPXL.JK': {'Average Daily Returns': 0.002962223168624465,\n",
              "  'Beta Alpha': '',\n",
              "  'Sharpe Ratio': 0.74,\n",
              "  'Piotroski F-Score': '',\n",
              "  'Revenue Growth': '',\n",
              "  'Earning per Share': '',\n",
              "  'Price to Earning': 0,\n",
              "  'Debt to Equity': 0,\n",
              "  'Free Cash Flow': '',\n",
              "  'Return on Equity': '',\n",
              "  'Dividend Yield': 0.0},\n",
              " 'MRAT.JK': {'Average Daily Returns': 0.002133710734027387,\n",
              "  'Beta Alpha': {'beta': array([0.092]), 'alpha': array([0.002])},\n",
              "  'Sharpe Ratio': 0.74,\n",
              "  'Piotroski F-Score': '',\n",
              "  'Revenue Growth': -2.5661600172393393,\n",
              "  'Earning per Share': -15.808901369158878,\n",
              "  'Price to Earning': -22.518958888219135,\n",
              "  'Debt to Equity': 0.40121979118167256,\n",
              "  'Free Cash Flow': '',\n",
              "  'Return on Equity': -1.976269698054794,\n",
              "  'Dividend Yield': 32.549157303370784},\n",
              " 'MREI.JK': {'Average Daily Returns': -0.0006840516126179768,\n",
              "  'Beta Alpha': {'beta': array([-0.239]), 'alpha': array([-0.001])},\n",
              "  'Sharpe Ratio': -0.28,\n",
              "  'Piotroski F-Score': '',\n",
              "  'Revenue Growth': 4.289478820672022,\n",
              "  'Earning per Share': 203.13728058757184,\n",
              "  'Price to Earning': 6.793435434442997,\n",
              "  'Debt to Equity': 0,\n",
              "  'Free Cash Flow': '',\n",
              "  'Return on Equity': 5.990595606521121,\n",
              "  'Dividend Yield': 35.480355072463766},\n",
              " 'MSIE.JK': {'Average Daily Returns': -0.009534761108151914,\n",
              "  'Beta Alpha': '',\n",
              "  'Sharpe Ratio': -3.26,\n",
              "  'Piotroski F-Score': '',\n",
              "  'Revenue Growth': '',\n",
              "  'Earning per Share': '',\n",
              "  'Price to Earning': 0,\n",
              "  'Debt to Equity': 0,\n",
              "  'Free Cash Flow': '',\n",
              "  'Return on Equity': '',\n",
              "  'Dividend Yield': 0.0},\n",
              " 'MSIN.JK': {'Average Daily Returns': 0.004552875903100351,\n",
              "  'Beta Alpha': {'beta': array([0.235]), 'alpha': array([0.004])},\n",
              "  'Sharpe Ratio': 1.58,\n",
              "  'Piotroski F-Score': '',\n",
              "  'Revenue Growth': -35.45958485760405,\n",
              "  'Earning per Share': 19.354522789468476,\n",
              "  'Price to Earning': 150.35245413456747,\n",
              "  'Debt to Equity': 0.10871707612133617,\n",
              "  'Free Cash Flow': '',\n",
              "  'Return on Equity': 8.805026495193001,\n",
              "  'Dividend Yield': 0.429553264604811},\n",
              " 'MSJA.JK': {'Average Daily Returns': 0.0010022711954224162,\n",
              "  'Beta Alpha': '',\n",
              "  'Sharpe Ratio': 0.22,\n",
              "  'Piotroski F-Score': '',\n",
              "  'Revenue Growth': -5.824388403850896,\n",
              "  'Earning per Share': 0.0025301352006577614,\n",
              "  'Price to Earning': 126475.45471752234,\n",
              "  'Debt to Equity': 0.2731874032309962,\n",
              "  'Free Cash Flow': '',\n",
              "  'Return on Equity': 24.62531139356846,\n",
              "  'Dividend Yield': 0.0},\n",
              " 'MSKY.JK': {'Average Daily Returns': -0.0010429955715629629,\n",
              "  'Beta Alpha': {'beta': array([-0.14]), 'alpha': array([-0.001])},\n",
              "  'Sharpe Ratio': -0.34,\n",
              "  'Piotroski F-Score': '',\n",
              "  'Revenue Growth': 37.98627785662887,\n",
              "  'Earning per Share': -20.065283290897078,\n",
              "  'Price to Earning': -4.435521727240014,\n",
              "  'Debt to Equity': 0.08120877340857191,\n",
              "  'Free Cash Flow': '',\n",
              "  'Return on Equity': -7.536211577987519,\n",
              "  'Dividend Yield': 4.49438202247191},\n",
              " 'MSTI.JK': {'Average Daily Returns': -0.0016958259415096734,\n",
              "  'Beta Alpha': '',\n",
              "  'Sharpe Ratio': -2.36,\n",
              "  'Piotroski F-Score': '',\n",
              "  'Revenue Growth': -6.957133478523849,\n",
              "  'Earning per Share': '',\n",
              "  'Price to Earning': 0,\n",
              "  'Debt to Equity': 0,\n",
              "  'Free Cash Flow': '',\n",
              "  'Return on Equity': 29.217493667607737,\n",
              "  'Dividend Yield': 0.0},\n",
              " 'MTDL.JK': {'Average Daily Returns': 0.0011096545132017858,\n",
              "  'Beta Alpha': {'beta': array([0.143]), 'alpha': array([0.001])},\n",
              "  'Sharpe Ratio': 0.71,\n",
              "  'Piotroski F-Score': '',\n",
              "  'Revenue Growth': -24.20950210931145,\n",
              "  'Earning per Share': 29.72525676319275,\n",
              "  'Price to Earning': 19.343819452284524,\n",
              "  'Debt to Equity': 0.3513149740907001,\n",
              "  'Free Cash Flow': '',\n",
              "  'Return on Equity': 15.622723057915561,\n",
              "  'Dividend Yield': 32.13941391304348},\n",
              " 'MTEL.JK': {'Average Daily Returns': -0.00013743369615115933,\n",
              "  'Beta Alpha': '',\n",
              "  'Sharpe Ratio': -0.15,\n",
              "  'Piotroski F-Score': '',\n",
              "  'Revenue Growth': -9.94004878228512,\n",
              "  'Earning per Share': 7.28595857581919,\n",
              "  'Price to Earning': 86.46768897243786,\n",
              "  'Debt to Equity': 2.2530902769653935,\n",
              "  'Free Cash Flow': '',\n",
              "  'Return on Equity': 7.374170959117997,\n",
              "  'Dividend Yield': 0.0},\n",
              " 'MTFN.JK': {'Average Daily Returns': 0.0,\n",
              "  'Beta Alpha': {'beta': array([0.]), 'alpha': array([0.])},\n",
              "  'Sharpe Ratio': nan,\n",
              "  'Piotroski F-Score': '',\n",
              "  'Revenue Growth': 114.90427537446277,\n",
              "  'Earning per Share': -348.24951586708204,\n",
              "  'Price to Earning': -0.1435752175433999,\n",
              "  'Debt to Equity': -10.641718434914386,\n",
              "  'Free Cash Flow': '',\n",
              "  'Return on Equity': 275.0499926522132,\n",
              "  'Dividend Yield': 0.0},\n",
              " 'MTLA.JK': {'Average Daily Returns': 0.00022739087030682425,\n",
              "  'Beta Alpha': {'beta': array([0.003]), 'alpha': array([0.])},\n",
              "  'Sharpe Ratio': 0.16,\n",
              "  'Piotroski F-Score': '',\n",
              "  'Revenue Growth': -7.374357212315504,\n",
              "  'Earning per Share': 35.57078665105255,\n",
              "  'Price to Earning': 11.188956935486358,\n",
              "  'Debt to Equity': 0.22006217409388829,\n",
              "  'Free Cash Flow': '',\n",
              "  'Return on Equity': 7.1856921076638605,\n",
              "  'Dividend Yield': 15.026331658291456},\n",
              " 'MTMH.JK': {'Average Daily Returns': -0.00022007155602559342,\n",
              "  'Beta Alpha': '',\n",
              "  'Sharpe Ratio': -0.15,\n",
              "  'Piotroski F-Score': '',\n",
              "  'Revenue Growth': -42.148100189902664,\n",
              "  'Earning per Share': 7.443983125064084,\n",
              "  'Price to Earning': 183.36957205128658,\n",
              "  'Debt to Equity': 11.334799984879403,\n",
              "  'Free Cash Flow': '',\n",
              "  'Return on Equity': 36.375497111500515,\n",
              "  'Dividend Yield': 0.0},\n",
              " 'MTPS.JK': {'Average Daily Returns': -0.0016960479529348432,\n",
              "  'Beta Alpha': {'beta': array([0.062]), 'alpha': array([-0.002])},\n",
              "  'Sharpe Ratio': -0.46,\n",
              "  'Piotroski F-Score': '',\n",
              "  'Revenue Growth': 129.34593792637614,\n",
              "  'Earning per Share': -13.987583766983706,\n",
              "  'Price to Earning': -0.5719358063029586,\n",
              "  'Debt to Equity': 0.1737780834914168,\n",
              "  'Free Cash Flow': '',\n",
              "  'Return on Equity': -8.594369071784946,\n",
              "  'Dividend Yield': 0.0},\n",
              " 'MTRA.JK': {'Average Daily Returns': 0.0,\n",
              "  'Beta Alpha': {'beta': array([0.]), 'alpha': array([0.])},\n",
              "  'Sharpe Ratio': nan,\n",
              "  'Piotroski F-Score': '',\n",
              "  'Revenue Growth': '',\n",
              "  'Earning per Share': '',\n",
              "  'Price to Earning': 0,\n",
              "  'Debt to Equity': 0,\n",
              "  'Free Cash Flow': '',\n",
              "  'Return on Equity': '',\n",
              "  'Dividend Yield': 0.0},\n",
              " 'MTSM.JK': {'Average Daily Returns': 0.0013141823301847004,\n",
              "  'Beta Alpha': {'beta': array([-0.195]), 'alpha': array([0.001])},\n",
              "  'Sharpe Ratio': 0.34,\n",
              "  'Piotroski F-Score': '',\n",
              "  'Revenue Growth': '',\n",
              "  'Earning per Share': '',\n",
              "  'Price to Earning': 0,\n",
              "  'Debt to Equity': 0,\n",
              "  'Free Cash Flow': '',\n",
              "  'Return on Equity': '',\n",
              "  'Dividend Yield': 2.7027027027027026},\n",
              " 'MTWI.JK': {'Average Daily Returns': 0.001471182670299618,\n",
              "  'Beta Alpha': {'beta': array([-0.045]), 'alpha': array([0.001])},\n",
              "  'Sharpe Ratio': 0.51,\n",
              "  'Piotroski F-Score': '',\n",
              "  'Revenue Growth': '',\n",
              "  'Earning per Share': '',\n",
              "  'Price to Earning': 0,\n",
              "  'Debt to Equity': 0,\n",
              "  'Free Cash Flow': '',\n",
              "  'Return on Equity': '',\n",
              "  'Dividend Yield': 0.0},\n",
              " 'MUTU.JK': {'Average Daily Returns': -0.0025320628652633266,\n",
              "  'Beta Alpha': '',\n",
              "  'Sharpe Ratio': -0.78,\n",
              "  'Piotroski F-Score': '',\n",
              "  'Revenue Growth': '',\n",
              "  'Earning per Share': '',\n",
              "  'Price to Earning': 0,\n",
              "  'Debt to Equity': 0,\n",
              "  'Free Cash Flow': '',\n",
              "  'Return on Equity': '',\n",
              "  'Dividend Yield': 0.0},\n",
              " 'MYOH.JK': {'Average Daily Returns': 0.0007681508846472911,\n",
              "  'Beta Alpha': {'beta': array([-0.037]), 'alpha': array([0.001])},\n",
              "  'Sharpe Ratio': 0.84,\n",
              "  'Piotroski F-Score': '',\n",
              "  'Revenue Growth': 7.973406589583118,\n",
              "  'Earning per Share': 0.010202325667136747,\n",
              "  'Price to Earning': 191132.89103103703,\n",
              "  'Debt to Equity': 0.0066313022747698045,\n",
              "  'Free Cash Flow': '',\n",
              "  'Return on Equity': 17.45329902360661,\n",
              "  'Dividend Yield': 28.67316923076923},\n",
              " 'MYOR.JK': {'Average Daily Returns': 0.00026565734240155414,\n",
              "  'Beta Alpha': {'beta': array([0.114]), 'alpha': array([0.])},\n",
              "  'Sharpe Ratio': 0.21,\n",
              "  'Piotroski F-Score': '',\n",
              "  'Revenue Growth': -12.283314216828842,\n",
              "  'Earning per Share': 92.16241767168049,\n",
              "  'Price to Earning': 25.389958934627984,\n",
              "  'Debt to Equity': 0.38755636200933336,\n",
              "  'Free Cash Flow': '',\n",
              "  'Return on Equity': 18.71418371345714,\n",
              "  'Dividend Yield': 52.239316239316246},\n",
              " 'MYRX.JK': {'Average Daily Returns': 0.0,\n",
              "  'Beta Alpha': {'beta': array([0.]), 'alpha': array([0.])},\n",
              "  'Sharpe Ratio': nan,\n",
              "  'Piotroski F-Score': '',\n",
              "  'Revenue Growth': '',\n",
              "  'Earning per Share': '',\n",
              "  'Price to Earning': 0,\n",
              "  'Debt to Equity': 0,\n",
              "  'Free Cash Flow': '',\n",
              "  'Return on Equity': '',\n",
              "  'Dividend Yield': 0.0},\n",
              " 'MYTX.JK': {'Average Daily Returns': 0.0009876261976757177,\n",
              "  'Beta Alpha': {'beta': array([0.035]), 'alpha': array([0.001])},\n",
              "  'Sharpe Ratio': 0.36,\n",
              "  'Piotroski F-Score': '',\n",
              "  'Revenue Growth': -18.462203409339157,\n",
              "  'Earning per Share': -207.80036609253438,\n",
              "  'Price to Earning': -0.24542786405529954,\n",
              "  'Debt to Equity': 72.04989336597308,\n",
              "  'Free Cash Flow': '',\n",
              "  'Return on Equity': -399.97120023039815,\n",
              "  'Dividend Yield': 0.0},\n",
              " 'NANO.JK': {'Average Daily Returns': -0.003079950174983443,\n",
              "  'Beta Alpha': '',\n",
              "  'Sharpe Ratio': -1.22,\n",
              "  'Piotroski F-Score': '',\n",
              "  'Revenue Growth': '',\n",
              "  'Earning per Share': '',\n",
              "  'Price to Earning': 0,\n",
              "  'Debt to Equity': 0,\n",
              "  'Free Cash Flow': '',\n",
              "  'Return on Equity': '',\n",
              "  'Dividend Yield': 0.0},\n",
              " 'NASA.JK': {'Average Daily Returns': -0.0016690078735116397,\n",
              "  'Beta Alpha': {'beta': array([-0.145]), 'alpha': array([-0.002])},\n",
              "  'Sharpe Ratio': -0.75,\n",
              "  'Piotroski F-Score': '',\n",
              "  'Revenue Growth': -84.45471813021558,\n",
              "  'Earning per Share': -0.5930620525622365,\n",
              "  'Price to Earning': -28.664791359612412,\n",
              "  'Debt to Equity': 0,\n",
              "  'Free Cash Flow': '',\n",
              "  'Return on Equity': -0.6045973564023084,\n",
              "  'Dividend Yield': 0.0},\n",
              " 'NASI.JK': {'Average Daily Returns': -0.0011408286777290226,\n",
              "  'Beta Alpha': '',\n",
              "  'Sharpe Ratio': -0.37,\n",
              "  'Piotroski F-Score': '',\n",
              "  'Revenue Growth': '',\n",
              "  'Earning per Share': '',\n",
              "  'Price to Earning': 0,\n",
              "  'Debt to Equity': 0,\n",
              "  'Free Cash Flow': '',\n",
              "  'Return on Equity': '',\n",
              "  'Dividend Yield': 0.0},\n",
              " 'NATO.JK': {'Average Daily Returns': 0.00015336356185728902,\n",
              "  'Beta Alpha': {'beta': array([0.013]), 'alpha': array([0.])},\n",
              "  'Sharpe Ratio': 0.07,\n",
              "  'Piotroski F-Score': '',\n",
              "  'Revenue Growth': -9.837086238990693,\n",
              "  'Earning per Share': 0.11257226812265345,\n",
              "  'Price to Earning': 1572.323299084186,\n",
              "  'Debt to Equity': 0,\n",
              "  'Free Cash Flow': '',\n",
              "  'Return on Equity': 0.1115326729836982,\n",
              "  'Dividend Yield': 0.0},\n",
              " 'NAYZ.JK': {'Average Daily Returns': -0.005581822938834945,\n",
              "  'Beta Alpha': '',\n",
              "  'Sharpe Ratio': -1.59,\n",
              "  'Piotroski F-Score': '',\n",
              "  'Revenue Growth': '',\n",
              "  'Earning per Share': '',\n",
              "  'Price to Earning': 0,\n",
              "  'Debt to Equity': 0,\n",
              "  'Free Cash Flow': '',\n",
              "  'Return on Equity': '',\n",
              "  'Dividend Yield': 0.0},\n",
              " 'NCKL.JK': {'Average Daily Returns': -0.0017933942778425146,\n",
              "  'Beta Alpha': '',\n",
              "  'Sharpe Ratio': -0.89,\n",
              "  'Piotroski F-Score': '',\n",
              "  'Revenue Growth': -50.5219189507305,\n",
              "  'Earning per Share': 1.2766520923406877,\n",
              "  'Price to Earning': 685.3864143955809,\n",
              "  'Debt to Equity': 2.2612572190221036,\n",
              "  'Free Cash Flow': '',\n",
              "  'Return on Equity': 2.054742719339294,\n",
              "  'Dividend Yield': 0.0},\n",
              " 'NELY.JK': {'Average Daily Returns': 0.0020509376341989577,\n",
              "  'Beta Alpha': {'beta': array([0.012]), 'alpha': array([0.002])},\n",
              "  'Sharpe Ratio': 0.9,\n",
              "  'Piotroski F-Score': '',\n",
              "  'Revenue Growth': '',\n",
              "  'Earning per Share': '',\n",
              "  'Price to Earning': 0,\n",
              "  'Debt to Equity': 0,\n",
              "  'Free Cash Flow': '',\n",
              "  'Return on Equity': '',\n",
              "  'Dividend Yield': 13.203883495145632},\n",
              " 'NETV.JK': {'Average Daily Returns': -0.0021941188939453298,\n",
              "  'Beta Alpha': '',\n",
              "  'Sharpe Ratio': -0.75,\n",
              "  'Piotroski F-Score': '',\n",
              "  'Revenue Growth': -8.91611273788838,\n",
              "  'Earning per Share': -26.111028666295645,\n",
              "  'Price to Earning': -2.1446876228313942,\n",
              "  'Debt to Equity': 14.975630836470904,\n",
              "  'Free Cash Flow': '',\n",
              "  'Return on Equity': -792.4218263307272,\n",
              "  'Dividend Yield': 0.0},\n",
              " 'NFCX.JK': {'Average Daily Returns': 0.0015760899128414612,\n",
              "  'Beta Alpha': {'beta': array([0.19]), 'alpha': array([0.001])},\n",
              "  'Sharpe Ratio': 0.59,\n",
              "  'Piotroski F-Score': '',\n",
              "  'Revenue Growth': -14.501922747961416,\n",
              "  'Earning per Share': 36.155723059088395,\n",
              "  'Price to Earning': 57.25234692767866,\n",
              "  'Debt to Equity': 0.2811274726544443,\n",
              "  'Free Cash Flow': '',\n",
              "  'Return on Equity': 5.207241585055221,\n",
              "  'Dividend Yield': 0.0},\n",
              " 'NICE.JK': {'Average Daily Returns': 0.0069877374835114045,\n",
              "  'Beta Alpha': '',\n",
              "  'Sharpe Ratio': 0.85,\n",
              "  'Piotroski F-Score': '',\n",
              "  'Revenue Growth': -60.03595951660117,\n",
              "  'Earning per Share': -2.2708313689091812,\n",
              "  'Price to Earning': -429.3581695889431,\n",
              "  'Debt to Equity': 2.181596612531112,\n",
              "  'Free Cash Flow': '',\n",
              "  'Return on Equity': -331.40566862613144,\n",
              "  'Dividend Yield': 0.0},\n",
              " 'NICK.JK': {'Average Daily Returns': 0.0003123627844591006,\n",
              "  'Beta Alpha': {'beta': array([0.057]), 'alpha': array([0.])},\n",
              "  'Sharpe Ratio': 0.14,\n",
              "  'Piotroski F-Score': '',\n",
              "  'Revenue Growth': '',\n",
              "  'Earning per Share': '',\n",
              "  'Price to Earning': 0,\n",
              "  'Debt to Equity': 0,\n",
              "  'Free Cash Flow': '',\n",
              "  'Return on Equity': '',\n",
              "  'Dividend Yield': 0.0},\n",
              " 'NICL.JK': {'Average Daily Returns': 0.001907982264348373,\n",
              "  'Beta Alpha': '',\n",
              "  'Sharpe Ratio': 0.56,\n",
              "  'Piotroski F-Score': '',\n",
              "  'Revenue Growth': -62.95512483566793,\n",
              "  'Earning per Share': 4.265117580572328,\n",
              "  'Price to Earning': 40.32714145641904,\n",
              "  'Debt to Equity': 0.019336858249405054,\n",
              "  'Free Cash Flow': '',\n",
              "  'Return on Equity': 13.08778001972841,\n",
              "  'Dividend Yield': 0.0},\n",
              " 'NIKL.JK': {'Average Daily Returns': -0.00016168012439477973,\n",
              "  'Beta Alpha': {'beta': array([0.072]), 'alpha': array([-0.])},\n",
              "  'Sharpe Ratio': -0.07,\n",
              "  'Piotroski F-Score': '',\n",
              "  'Revenue Growth': -31.32189468321863,\n",
              "  'Earning per Share': 0.0010771700250719399,\n",
              "  'Price to Earning': 256226.95913912667,\n",
              "  'Debt to Equity': 1.1256857331096997,\n",
              "  'Free Cash Flow': '',\n",
              "  'Return on Equity': 5.617593506824563,\n",
              "  'Dividend Yield': 5.971014492753623},\n",
              " 'NINE.JK': {'Average Daily Returns': -0.00552197691565016,\n",
              "  'Beta Alpha': '',\n",
              "  'Sharpe Ratio': -1.54,\n",
              "  'Piotroski F-Score': '',\n",
              "  'Revenue Growth': '',\n",
              "  'Earning per Share': '',\n",
              "  'Price to Earning': 0,\n",
              "  'Debt to Equity': 0,\n",
              "  'Free Cash Flow': '',\n",
              "  'Return on Equity': '',\n",
              "  'Dividend Yield': 0.0},\n",
              " 'NIPS.JK': {'Average Daily Returns': 0.0,\n",
              "  'Beta Alpha': {'beta': array([0.]), 'alpha': array([0.])},\n",
              "  'Sharpe Ratio': nan,\n",
              "  'Piotroski F-Score': '',\n",
              "  'Revenue Growth': '',\n",
              "  'Earning per Share': '',\n",
              "  'Price to Earning': 0,\n",
              "  'Debt to Equity': 0,\n",
              "  'Free Cash Flow': '',\n",
              "  'Return on Equity': '',\n",
              "  'Dividend Yield': 0.0},\n",
              " 'NIRO.JK': {'Average Daily Returns': 0.00021558006125429186,\n",
              "  'Beta Alpha': {'beta': array([0.194]), 'alpha': array([0.])},\n",
              "  'Sharpe Ratio': 0.14,\n",
              "  'Piotroski F-Score': '',\n",
              "  'Revenue Growth': -27.76977758937621,\n",
              "  'Earning per Share': 2.59296296080343,\n",
              "  'Price to Earning': 53.99228686113625,\n",
              "  'Debt to Equity': 1.3431256847957072,\n",
              "  'Free Cash Flow': '',\n",
              "  'Return on Equity': 2.403880673194999,\n",
              "  'Dividend Yield': 0.0},\n",
              " 'NISP.JK': {'Average Daily Returns': 0.0007070117428432371,\n",
              "  'Beta Alpha': {'beta': array([-0.055]), 'alpha': array([0.001])},\n",
              "  'Sharpe Ratio': 0.73,\n",
              "  'Piotroski F-Score': 5,\n",
              "  'Revenue Growth': -2.2387261497764057,\n",
              "  'Earning per Share': 91.59479091729027,\n",
              "  'Price to Earning': 14.95718245852108,\n",
              "  'Debt to Equity': 0.7311473597311468,\n",
              "  'Free Cash Flow': 5641522000000.0,\n",
              "  'Return on Equity': 7.045677001267181,\n",
              "  'Dividend Yield': 0.8029197080291971},\n",
              " 'NOBU.JK': {'Average Daily Returns': 0.000867150016955183,\n",
              "  'Beta Alpha': {'beta': array([-0.089]), 'alpha': array([0.001])},\n",
              "  'Sharpe Ratio': 0.37,\n",
              "  'Piotroski F-Score': 4,\n",
              "  'Revenue Growth': -10.412016700808882,\n",
              "  'Earning per Share': 7.168206264777841,\n",
              "  'Price to Earning': 106.02373479881359,\n",
              "  'Debt to Equity': 3.2690140927325912,\n",
              "  'Free Cash Flow': -808012000000.0,\n",
              "  'Return on Equity': 3.52711510447714,\n",
              "  'Dividend Yield': 0.0},\n",
              " 'NPGF.JK': {'Average Daily Returns': -0.0006463214644940729,\n",
              "  'Beta Alpha': '',\n",
              "  'Sharpe Ratio': -0.25,\n",
              "  'Piotroski F-Score': '',\n",
              "  'Revenue Growth': '',\n",
              "  'Earning per Share': '',\n",
              "  'Price to Earning': 0,\n",
              "  'Debt to Equity': 0,\n",
              "  'Free Cash Flow': '',\n",
              "  'Return on Equity': '',\n",
              "  'Dividend Yield': 0.0},\n",
              " 'NRCA.JK': {'Average Daily Returns': 0.00010129357115966845,\n",
              "  'Beta Alpha': {'beta': array([0.013]), 'alpha': array([0.])},\n",
              "  'Sharpe Ratio': 0.09,\n",
              "  'Piotroski F-Score': '',\n",
              "  'Revenue Growth': 24.91605679665897,\n",
              "  'Earning per Share': 22.805705953644406,\n",
              "  'Price to Earning': 14.820852320337261,\n",
              "  'Debt to Equity': 0.13069683885983074,\n",
              "  'Free Cash Flow': '',\n",
              "  'Return on Equity': 4.780207815222682,\n",
              "  'Dividend Yield': 72.31360946745562},\n",
              " 'NSSS.JK': {'Average Daily Returns': 0.002275651314763601,\n",
              "  'Beta Alpha': '',\n",
              "  'Sharpe Ratio': 1.02,\n",
              "  'Piotroski F-Score': '',\n",
              "  'Revenue Growth': -34.86331828637114,\n",
              "  'Earning per Share': 0.8168935811430313,\n",
              "  'Price to Earning': 214.22619058302888,\n",
              "  'Debt to Equity': 6.748539246673516,\n",
              "  'Free Cash Flow': '',\n",
              "  'Return on Equity': 6.200820692163857,\n",
              "  'Dividend Yield': 0.0},\n",
              " 'NTBK.JK': {'Average Daily Returns': -0.0016237621645828015,\n",
              "  'Beta Alpha': '',\n",
              "  'Sharpe Ratio': -0.89,\n",
              "  'Piotroski F-Score': '',\n",
              "  'Revenue Growth': '',\n",
              "  'Earning per Share': '',\n",
              "  'Price to Earning': 0,\n",
              "  'Debt to Equity': 0,\n",
              "  'Free Cash Flow': '',\n",
              "  'Return on Equity': '',\n",
              "  'Dividend Yield': 0.0},\n",
              " 'NUSA.JK': {'Average Daily Returns': 0.0,\n",
              "  'Beta Alpha': {'beta': array([0.]), 'alpha': array([0.])},\n",
              "  'Sharpe Ratio': nan,\n",
              "  'Piotroski F-Score': '',\n",
              "  'Revenue Growth': '',\n",
              "  'Earning per Share': '',\n",
              "  'Price to Earning': 0,\n",
              "  'Debt to Equity': 0,\n",
              "  'Free Cash Flow': '',\n",
              "  'Return on Equity': '',\n",
              "  'Dividend Yield': 0.0},\n",
              " 'NZIA.JK': {'Average Daily Returns': 0.0004610454924746968,\n",
              "  'Beta Alpha': {'beta': array([-0.105]), 'alpha': array([0.001])},\n",
              "  'Sharpe Ratio': 0.12,\n",
              "  'Piotroski F-Score': '',\n",
              "  'Revenue Growth': '',\n",
              "  'Earning per Share': '',\n",
              "  'Price to Earning': 0,\n",
              "  'Debt to Equity': 0,\n",
              "  'Free Cash Flow': '',\n",
              "  'Return on Equity': '',\n",
              "  'Dividend Yield': 1.282051282051282},\n",
              " 'OASA.JK': {'Average Daily Returns': 0.0019406943284556641,\n",
              "  'Beta Alpha': {'beta': array([-0.23]), 'alpha': array([0.002])},\n",
              "  'Sharpe Ratio': 0.6,\n",
              "  'Piotroski F-Score': '',\n",
              "  'Revenue Growth': '',\n",
              "  'Earning per Share': '',\n",
              "  'Price to Earning': 0,\n",
              "  'Debt to Equity': 0,\n",
              "  'Free Cash Flow': '',\n",
              "  'Return on Equity': '',\n",
              "  'Dividend Yield': 0.0},\n",
              " 'OBMD.JK': {'Average Daily Returns': 0.0016312517948314789,\n",
              "  'Beta Alpha': '',\n",
              "  'Sharpe Ratio': 0.61,\n",
              "  'Piotroski F-Score': '',\n",
              "  'Revenue Growth': '',\n",
              "  'Earning per Share': '',\n",
              "  'Price to Earning': 0,\n",
              "  'Debt to Equity': 0,\n",
              "  'Free Cash Flow': '',\n",
              "  'Return on Equity': '',\n",
              "  'Dividend Yield': 0.0},\n",
              " 'OCAP.JK': {'Average Daily Returns': -0.000232629625773645,\n",
              "  'Beta Alpha': {'beta': array([-0.005]), 'alpha': array([-0.])},\n",
              "  'Sharpe Ratio': -1.18,\n",
              "  'Piotroski F-Score': '',\n",
              "  'Revenue Growth': '',\n",
              "  'Earning per Share': '',\n",
              "  'Price to Earning': 0,\n",
              "  'Debt to Equity': 0,\n",
              "  'Free Cash Flow': '',\n",
              "  'Return on Equity': '',\n",
              "  'Dividend Yield': 0.0},\n",
              " 'OILS.JK': {'Average Daily Returns': -0.0010662007646144247,\n",
              "  'Beta Alpha': '',\n",
              "  'Sharpe Ratio': -0.44,\n",
              "  'Piotroski F-Score': '',\n",
              "  'Revenue Growth': '',\n",
              "  'Earning per Share': '',\n",
              "  'Price to Earning': 0,\n",
              "  'Debt to Equity': 0,\n",
              "  'Free Cash Flow': '',\n",
              "  'Return on Equity': '',\n",
              "  'Dividend Yield': 0.0},\n",
              " 'OKAS.JK': {'Average Daily Returns': 0.0013913289981500473,\n",
              "  'Beta Alpha': {'beta': array([0.035]), 'alpha': array([0.001])},\n",
              "  'Sharpe Ratio': 0.42,\n",
              "  'Piotroski F-Score': '',\n",
              "  'Revenue Growth': '',\n",
              "  'Earning per Share': '',\n",
              "  'Price to Earning': 0,\n",
              "  'Debt to Equity': 0,\n",
              "  'Free Cash Flow': '',\n",
              "  'Return on Equity': '',\n",
              "  'Dividend Yield': 6.363636363636364},\n",
              " 'OLIV.JK': {'Average Daily Returns': -0.004923064846591016,\n",
              "  'Beta Alpha': '',\n",
              "  'Sharpe Ratio': -1.74,\n",
              "  'Piotroski F-Score': '',\n",
              "  'Revenue Growth': '',\n",
              "  'Earning per Share': '',\n",
              "  'Price to Earning': 0,\n",
              "  'Debt to Equity': 0,\n",
              "  'Free Cash Flow': '',\n",
              "  'Return on Equity': '',\n",
              "  'Dividend Yield': 0.0},\n",
              " 'OMED.JK': {'Average Daily Returns': -0.00030411684280502764,\n",
              "  'Beta Alpha': '',\n",
              "  'Sharpe Ratio': -0.15,\n",
              "  'Piotroski F-Score': '',\n",
              "  'Revenue Growth': -10.421119366137388,\n",
              "  'Earning per Share': 25.334086081762123,\n",
              "  'Price to Earning': 7.815557244140698,\n",
              "  'Debt to Equity': 0.2100445833691448,\n",
              "  'Free Cash Flow': '',\n",
              "  'Return on Equity': 73.01499158178012,\n",
              "  'Dividend Yield': 0.0},\n",
              " 'OMRE.JK': {'Average Daily Returns': 0.002208673450051202,\n",
              "  'Beta Alpha': {'beta': array([0.074]), 'alpha': array([0.002])},\n",
              "  'Sharpe Ratio': 0.66,\n",
              "  'Piotroski F-Score': '',\n",
              "  'Revenue Growth': -14.625952879571075,\n",
              "  'Earning per Share': -75.94312689905637,\n",
              "  'Price to Earning': -6.715551766493526,\n",
              "  'Debt to Equity': 0.016805378929091102,\n",
              "  'Free Cash Flow': '',\n",
              "  'Return on Equity': -6.328136666104195,\n",
              "  'Dividend Yield': 0.0},\n",
              " 'OPMS.JK': {'Average Daily Returns': -9.721427780282546e-05,\n",
              "  'Beta Alpha': {'beta': array([0.092]), 'alpha': array([-0.])},\n",
              "  'Sharpe Ratio': -0.04,\n",
              "  'Piotroski F-Score': '',\n",
              "  'Revenue Growth': '',\n",
              "  'Earning per Share': '',\n",
              "  'Price to Earning': 0,\n",
              "  'Debt to Equity': 0,\n",
              "  'Free Cash Flow': '',\n",
              "  'Return on Equity': '',\n",
              "  'Dividend Yield': 0.0},\n",
              " 'PACK.JK': {'Average Daily Returns': -0.003913297563817581,\n",
              "  'Beta Alpha': '',\n",
              "  'Sharpe Ratio': -1.14,\n",
              "  'Piotroski F-Score': '',\n",
              "  'Revenue Growth': '',\n",
              "  'Earning per Share': '',\n",
              "  'Price to Earning': 0,\n",
              "  'Debt to Equity': 0,\n",
              "  'Free Cash Flow': '',\n",
              "  'Return on Equity': '',\n",
              "  'Dividend Yield': 0.0},\n",
              " 'PADA.JK': {'Average Daily Returns': -0.0014415278687280595,\n",
              "  'Beta Alpha': '',\n",
              "  'Sharpe Ratio': -0.42,\n",
              "  'Piotroski F-Score': '',\n",
              "  'Revenue Growth': '',\n",
              "  'Earning per Share': '',\n",
              "  'Price to Earning': 0,\n",
              "  'Debt to Equity': 0,\n",
              "  'Free Cash Flow': '',\n",
              "  'Return on Equity': '',\n",
              "  'Dividend Yield': 0.0},\n",
              " 'PADI.JK': {'Average Daily Returns': -0.0015458040503520782,\n",
              "  'Beta Alpha': {'beta': array([0.098]), 'alpha': array([-0.002])},\n",
              "  'Sharpe Ratio': -0.74,\n",
              "  'Piotroski F-Score': '',\n",
              "  'Revenue Growth': -44.426020186996325,\n",
              "  'Earning per Share': -6.771445537712244,\n",
              "  'Price to Earning': -1.1814316389972515,\n",
              "  'Debt to Equity': 0.03441907129456771,\n",
              "  'Free Cash Flow': '',\n",
              "  'Return on Equity': -25.970129531371388,\n",
              "  'Dividend Yield': 2.8125},\n",
              " 'PALM.JK': {'Average Daily Returns': 0.0017238615516847386,\n",
              "  'Beta Alpha': {'beta': array([-0.063]), 'alpha': array([0.002])},\n",
              "  'Sharpe Ratio': 0.72,\n",
              "  'Piotroski F-Score': '',\n",
              "  'Revenue Growth': -26.87510704230792,\n",
              "  'Earning per Share': 281.63925269865024,\n",
              "  'Price to Earning': 1.6545989081238366,\n",
              "  'Debt to Equity': 0.6862912152597567,\n",
              "  'Free Cash Flow': '',\n",
              "  'Return on Equity': 51.76981140047874,\n",
              "  'Dividend Yield': 39.05579399141631},\n",
              " 'PAMG.JK': {'Average Daily Returns': 0.0007369621678526078,\n",
              "  'Beta Alpha': {'beta': array([-0.043]), 'alpha': array([0.001])},\n",
              "  'Sharpe Ratio': 0.28,\n",
              "  'Piotroski F-Score': '',\n",
              "  'Revenue Growth': '',\n",
              "  'Earning per Share': '',\n",
              "  'Price to Earning': 0,\n",
              "  'Debt to Equity': 0,\n",
              "  'Free Cash Flow': '',\n",
              "  'Return on Equity': '',\n",
              "  'Dividend Yield': 0.0},\n",
              " 'PANI.JK': {'Average Daily Returns': 0.009720990732248462,\n",
              "  'Beta Alpha': {'beta': array([0.159]), 'alpha': array([0.01])},\n",
              "  'Sharpe Ratio': 2.57,\n",
              "  'Piotroski F-Score': '',\n",
              "  'Revenue Growth': -45.27247135736285,\n",
              "  'Earning per Share': 0.10630061339037614,\n",
              "  'Price to Earning': 49388.2380595492,\n",
              "  'Debt to Equity': 1.7319932788375838,\n",
              "  'Free Cash Flow': '',\n",
              "  'Return on Equity': 0.35050226227828934,\n",
              "  'Dividend Yield': 0.0},\n",
              " 'PANR.JK': {'Average Daily Returns': 0.002542060583185473,\n",
              "  'Beta Alpha': {'beta': array([0.291]), 'alpha': array([0.002])},\n",
              "  'Sharpe Ratio': 0.92,\n",
              "  'Piotroski F-Score': '',\n",
              "  'Revenue Growth': '',\n",
              "  'Earning per Share': '',\n",
              "  'Price to Earning': 0,\n",
              "  'Debt to Equity': 0,\n",
              "  'Free Cash Flow': '',\n",
              "  'Return on Equity': '',\n",
              "  'Dividend Yield': 7.077777777777778},\n",
              " 'PANS.JK': {'Average Daily Returns': 0.0007852524885184933,\n",
              "  'Beta Alpha': {'beta': array([0.05]), 'alpha': array([0.001])},\n",
              "  'Sharpe Ratio': 0.57,\n",
              "  'Piotroski F-Score': '',\n",
              "  'Revenue Growth': -20.46473523402748,\n",
              "  'Earning per Share': 117.50714669497191,\n",
              "  'Price to Earning': 13.786395513502152,\n",
              "  'Debt to Equity': 0.0879617679329401,\n",
              "  'Free Cash Flow': '',\n",
              "  'Return on Equity': 6.211631761367483,\n",
              "  'Dividend Yield': 116.2962962962963},\n",
              " 'PBID.JK': {'Average Daily Returns': 0.0006709688311181934,\n",
              "  'Beta Alpha': {'beta': array([0.02]), 'alpha': array([0.001])},\n",
              "  'Sharpe Ratio': 0.66,\n",
              "  'Piotroski F-Score': '',\n",
              "  'Revenue Growth': -12.855086592813002,\n",
              "  'Earning per Share': 198.18776763519085,\n",
              "  'Price to Earning': 7.316294125019113,\n",
              "  'Debt to Equity': 0.08852287971382218,\n",
              "  'Free Cash Flow': '',\n",
              "  'Return on Equity': 19.166158202403487,\n",
              "  'Dividend Yield': 21.448275862068968},\n",
              " 'PBRX.JK': {'Average Daily Returns': -0.000911076859309477,\n",
              "  'Beta Alpha': {'beta': array([0.109]), 'alpha': array([-0.001])},\n",
              "  'Sharpe Ratio': -0.4,\n",
              "  'Piotroski F-Score': '',\n",
              "  'Revenue Growth': -0.6603121921630769,\n",
              "  'Earning per Share': 0.0011037956231329709,\n",
              "  'Price to Earning': 45298.24086281655,\n",
              "  'Debt to Equity': 1.1938045825665617,\n",
              "  'Free Cash Flow': '',\n",
              "  'Return on Equity': 8.54907046345253,\n",
              "  'Dividend Yield': 82.0},\n",
              " 'PBSA.JK': {'Average Daily Returns': 0.0005528238916509015,\n",
              "  'Beta Alpha': {'beta': array([-0.123]), 'alpha': array([0.001])},\n",
              "  'Sharpe Ratio': 0.24,\n",
              "  'Piotroski F-Score': '',\n",
              "  'Revenue Growth': 97.95516164041277,\n",
              "  'Earning per Share': 14.372958181666666,\n",
              "  'Price to Earning': 20.31592914341452,\n",
              "  'Debt to Equity': 0.006616085872457034,\n",
              "  'Free Cash Flow': '',\n",
              "  'Return on Equity': 8.04718133851363,\n",
              "  'Dividend Yield': 59.24657534246576},\n",
              " 'PCAR.JK': {'Average Daily Returns': -9.099283078084321e-05,\n",
              "  'Beta Alpha': {'beta': array([-0.172]), 'alpha': array([0.])},\n",
              "  'Sharpe Ratio': -0.02,\n",
              "  'Piotroski F-Score': '',\n",
              "  'Revenue Growth': -71.20522428557665,\n",
              "  'Earning per Share': -13.670206467270017,\n",
              "  'Price to Earning': -3.6575892339090004,\n",
              "  'Debt to Equity': 0.42771177435709096,\n",
              "  'Free Cash Flow': '',\n",
              "  'Return on Equity': -24.121524677909235,\n",
              "  'Dividend Yield': 0.0},\n",
              " 'PDES.JK': {'Average Daily Returns': 0.00016148931545388387,\n",
              "  'Beta Alpha': {'beta': array([-0.129]), 'alpha': array([0.])},\n",
              "  'Sharpe Ratio': 0.06,\n",
              "  'Piotroski F-Score': '',\n",
              "  'Revenue Growth': '',\n",
              "  'Earning per Share': '',\n",
              "  'Price to Earning': 0,\n",
              "  'Debt to Equity': 0,\n",
              "  'Free Cash Flow': '',\n",
              "  'Return on Equity': '',\n",
              "  'Dividend Yield': 16.045454545454543},\n",
              " 'PDPP.JK': {'Average Daily Returns': 0.002485319285803293,\n",
              "  'Beta Alpha': '',\n",
              "  'Sharpe Ratio': 1.27,\n",
              "  'Piotroski F-Score': '',\n",
              "  'Revenue Growth': '',\n",
              "  'Earning per Share': '',\n",
              "  'Price to Earning': 0,\n",
              "  'Debt to Equity': 0,\n",
              "  'Free Cash Flow': '',\n",
              "  'Return on Equity': '',\n",
              "  'Dividend Yield': 0.0},\n",
              " 'PEGE.JK': {'Average Daily Returns': 0.0018630335745431202,\n",
              "  'Beta Alpha': {'beta': array([-0.104]), 'alpha': array([0.002])},\n",
              "  'Sharpe Ratio': 0.52,\n",
              "  'Piotroski F-Score': '',\n",
              "  'Revenue Growth': -83.26700393964448,\n",
              "  'Earning per Share': -2.5626318216133797,\n",
              "  'Price to Earning': -51.509545338001594,\n",
              "  'Debt to Equity': 0,\n",
              "  'Free Cash Flow': '',\n",
              "  'Return on Equity': -1.4642301024096491,\n",
              "  'Dividend Yield': 72.38456818181818},\n",
              " 'PEHA.JK': {'Average Daily Returns': -0.0004713488402481525,\n",
              "  'Beta Alpha': {'beta': array([0.004]), 'alpha': array([-0.])},\n",
              "  'Sharpe Ratio': -0.21,\n",
              "  'Piotroski F-Score': '',\n",
              "  'Revenue Growth': -6.741934515065373,\n",
              "  'Earning per Share': 57.72364523809524,\n",
              "  'Price to Earning': 8.921820475400628,\n",
              "  'Debt to Equity': 1.1815493778747392,\n",
              "  'Free Cash Flow': '',\n",
              "  'Return on Equity': 6.737675626078627,\n",
              "  'Dividend Yield': 42.403786407766994},\n",
              " 'PEVE.JK': {'Average Daily Returns': -7.798571119875853e-05,\n",
              "  'Beta Alpha': '',\n",
              "  'Sharpe Ratio': -0.04,\n",
              "  'Piotroski F-Score': '',\n",
              "  'Revenue Growth': '',\n",
              "  'Earning per Share': '',\n",
              "  'Price to Earning': 0,\n",
              "  'Debt to Equity': 0,\n",
              "  'Free Cash Flow': '',\n",
              "  'Return on Equity': '',\n",
              "  'Dividend Yield': 0.0},\n",
              " 'PGAS.JK': {'Average Daily Returns': 0.0003019159177626099,\n",
              "  'Beta Alpha': {'beta': array([-0.026]), 'alpha': array([0.])},\n",
              "  'Sharpe Ratio': 0.2,\n",
              "  'Piotroski F-Score': '',\n",
              "  'Revenue Growth': -4.959151661358654,\n",
              "  'Earning per Share': -0.01092232668161738,\n",
              "  'Price to Earning': -103915.58805050583,\n",
              "  'Debt to Equity': 0.7051647200997593,\n",
              "  'Free Cash Flow': '',\n",
              "  'Return on Equity': -11.856577521653735,\n",
              "  'Dividend Yield': 192.85250220264314},\n",
              " 'PGEO.JK': {'Average Daily Returns': 0.0019706232802147467,\n",
              "  'Beta Alpha': '',\n",
              "  'Sharpe Ratio': 0.85,\n",
              "  'Piotroski F-Score': '',\n",
              "  'Revenue Growth': -4.029835368631109,\n",
              "  'Earning per Share': 0.0017570393506010184,\n",
              "  'Price to Earning': 674429.9719836412,\n",
              "  'Debt to Equity': 0.7144363813744974,\n",
              "  'Free Cash Flow': '',\n",
              "  'Return on Equity': 7.123033775415142,\n",
              "  'Dividend Yield': 0.0},\n",
              " 'PGJO.JK': {'Average Daily Returns': 0.0011208152737568048,\n",
              "  'Beta Alpha': {'beta': array([-0.024]), 'alpha': array([0.001])},\n",
              "  'Sharpe Ratio': 0.49,\n",
              "  'Piotroski F-Score': '',\n",
              "  'Revenue Growth': '',\n",
              "  'Earning per Share': '',\n",
              "  'Price to Earning': 0,\n",
              "  'Debt to Equity': 0,\n",
              "  'Free Cash Flow': '',\n",
              "  'Return on Equity': '',\n",
              "  'Dividend Yield': 0.0},\n",
              " 'PGLI.JK': {'Average Daily Returns': 0.0011486339502175908,\n",
              "  'Beta Alpha': {'beta': array([0.038]), 'alpha': array([0.001])},\n",
              "  'Sharpe Ratio': 0.31,\n",
              "  'Piotroski F-Score': '',\n",
              "  'Revenue Growth': -7.894660707651098,\n",
              "  'Earning per Share': -10.811606209016393,\n",
              "  'Price to Earning': -13.134033672219617,\n",
              "  'Debt to Equity': 0.3718423038035373,\n",
              "  'Free Cash Flow': '',\n",
              "  'Return on Equity': -8.962847693731533,\n",
              "  'Dividend Yield': 21.76056338028169},\n",
              " 'PGUN.JK': {'Average Daily Returns': 0.0023634959240662074,\n",
              "  'Beta Alpha': '',\n",
              "  'Sharpe Ratio': 0.74,\n",
              "  'Piotroski F-Score': '',\n",
              "  'Revenue Growth': -21.901910490230982,\n",
              "  'Earning per Share': 5.461196936380762,\n",
              "  'Price to Earning': 75.80755735836283,\n",
              "  'Debt to Equity': 0.5666585481106994,\n",
              "  'Free Cash Flow': '',\n",
              "  'Return on Equity': 2.9568812119812087,\n",
              "  'Dividend Yield': 0.0},\n",
              " 'PICO.JK': {'Average Daily Returns': 0.0002289461251783266,\n",
              "  'Beta Alpha': {'beta': array([0.044]), 'alpha': array([0.])},\n",
              "  'Sharpe Ratio': 0.08,\n",
              "  'Piotroski F-Score': '',\n",
              "  'Revenue Growth': -32.32026018928312,\n",
              "  'Earning per Share': -113.30332366708558,\n",
              "  'Price to Earning': -0.900238375175139,\n",
              "  'Debt to Equity': 0.49437066972310606,\n",
              "  'Free Cash Flow': '',\n",
              "  'Return on Equity': -27.22914670559313,\n",
              "  'Dividend Yield': 11.76470588235294},\n",
              " 'PIPA.JK': {'Average Daily Returns': -0.004634925327166854,\n",
              "  'Beta Alpha': '',\n",
              "  'Sharpe Ratio': -2.09,\n",
              "  'Piotroski F-Score': '',\n",
              "  'Revenue Growth': 1.492942774048683,\n",
              "  'Earning per Share': 0.3965434987703627,\n",
              "  'Price to Earning': 126.08957190079887,\n",
              "  'Debt to Equity': -21.3865500378683,\n",
              "  'Free Cash Flow': '',\n",
              "  'Return on Equity': -105.48303442916598,\n",
              "  'Dividend Yield': 0.0},\n",
              " 'PJAA.JK': {'Average Daily Returns': 0.0008531730788721322,\n",
              "  'Beta Alpha': {'beta': array([-0.041]), 'alpha': array([0.001])},\n",
              "  'Sharpe Ratio': 0.7,\n",
              "  'Piotroski F-Score': '',\n",
              "  'Revenue Growth': 6.379481278670167,\n",
              "  'Earning per Share': -245.52375,\n",
              "  'Price to Earning': -3.645268533084885,\n",
              "  'Debt to Equity': 0.5589328688763571,\n",
              "  'Free Cash Flow': '',\n",
              "  'Return on Equity': -22.56395469724836,\n",
              "  'Dividend Yield': 79.8659217877095},\n",
              " 'PKPK.JK': {'Average Daily Returns': 0.0029387650314155436,\n",
              "  'Beta Alpha': {'beta': array([-0.129]), 'alpha': array([0.003])},\n",
              "  'Sharpe Ratio': 1.17,\n",
              "  'Piotroski F-Score': '',\n",
              "  'Revenue Growth': '',\n",
              "  'Earning per Share': '',\n",
              "  'Price to Earning': 0,\n",
              "  'Debt to Equity': 0,\n",
              "  'Free Cash Flow': '',\n",
              "  'Return on Equity': '',\n",
              "  'Dividend Yield': 11.190058479532162},\n",
              " 'PLAN.JK': {'Average Daily Returns': -0.0011382115876927106,\n",
              "  'Beta Alpha': '',\n",
              "  'Sharpe Ratio': -0.46,\n",
              "  'Piotroski F-Score': '',\n",
              "  'Revenue Growth': '',\n",
              "  'Earning per Share': '',\n",
              "  'Price to Earning': 0,\n",
              "  'Debt to Equity': 0,\n",
              "  'Free Cash Flow': '',\n",
              "  'Return on Equity': '',\n",
              "  'Dividend Yield': 0.0},\n",
              " 'PLAS.JK': {'Average Daily Returns': 0.0,\n",
              "  'Beta Alpha': {'beta': array([0.]), 'alpha': array([0.])},\n",
              "  'Sharpe Ratio': nan,\n",
              "  'Piotroski F-Score': '',\n",
              "  'Revenue Growth': '',\n",
              "  'Earning per Share': '',\n",
              "  'Price to Earning': 0,\n",
              "  'Debt to Equity': 0,\n",
              "  'Free Cash Flow': '',\n",
              "  'Return on Equity': '',\n",
              "  'Dividend Yield': 0.0},\n",
              " 'PLIN.JK': {'Average Daily Returns': 0.00045137394117146333,\n",
              "  'Beta Alpha': {'beta': array([-0.004]), 'alpha': array([0.])},\n",
              "  'Sharpe Ratio': 0.28,\n",
              "  'Piotroski F-Score': '',\n",
              "  'Revenue Growth': 6.425276475771029,\n",
              "  'Earning per Share': -162.6746560756732,\n",
              "  'Price to Earning': -16.474600682440137,\n",
              "  'Debt to Equity': 0.04916815028934752,\n",
              "  'Free Cash Flow': '',\n",
              "  'Return on Equity': -5.398903750649821,\n",
              "  'Dividend Yield': 47.91977611940298},\n",
              " 'PMJS.JK': {'Average Daily Returns': 0.0005095246745330111,\n",
              "  'Beta Alpha': {'beta': array([-0.04]), 'alpha': array([0.001])},\n",
              "  'Sharpe Ratio': 0.28,\n",
              "  'Piotroski F-Score': '',\n",
              "  'Revenue Growth': -37.859804441792136,\n",
              "  'Earning per Share': 4.143349080690677,\n",
              "  'Price to Earning': 32.099636648966474,\n",
              "  'Debt to Equity': 0.0335128889051909,\n",
              "  'Free Cash Flow': '',\n",
              "  'Return on Equity': 2.95600121007362,\n",
              "  'Dividend Yield': 0.0},\n",
              " 'PMMP.JK': {'Average Daily Returns': 0.0005906830529843336,\n",
              "  'Beta Alpha': '',\n",
              "  'Sharpe Ratio': 0.27,\n",
              "  'Piotroski F-Score': '',\n",
              "  'Revenue Growth': '',\n",
              "  'Earning per Share': '',\n",
              "  'Price to Earning': 0,\n",
              "  'Debt to Equity': 0,\n",
              "  'Free Cash Flow': '',\n",
              "  'Return on Equity': '',\n",
              "  'Dividend Yield': 0.9933774834437087},\n",
              " 'PNBN.JK': {'Average Daily Returns': 0.0007431537143268153,\n",
              "  'Beta Alpha': {'beta': array([-0.003]), 'alpha': array([0.001])},\n",
              "  'Sharpe Ratio': 0.4,\n",
              "  'Piotroski F-Score': 5,\n",
              "  'Revenue Growth': -2.4964087419544563,\n",
              "  'Earning per Share': 128.8643971256648,\n",
              "  'Price to Earning': 8.846508620129619,\n",
              "  'Debt to Equity': 0.3896363724520107,\n",
              "  'Free Cash Flow': 28247614000000.0,\n",
              "  'Return on Equity': 7.017215859557997,\n",
              "  'Dividend Yield': 3.6517543859649124},\n",
              " 'PNBS.JK': {'Average Daily Returns': 0.000772403319179931,\n",
              "  'Beta Alpha': {'beta': array([-0.093]), 'alpha': array([0.001])},\n",
              "  'Sharpe Ratio': 0.32,\n",
              "  'Piotroski F-Score': 5,\n",
              "  'Revenue Growth': -61.72088413721214,\n",
              "  'Earning per Share': 0.003300801628423117,\n",
              "  'Price to Earning': 15450.792183583626,\n",
              "  'Debt to Equity': 0.44056668137921445,\n",
              "  'Free Cash Flow': -1607309720000.0,\n",
              "  'Return on Equity': 0.004112010619799898,\n",
              "  'Dividend Yield': 0.0},\n",
              " 'PNGO.JK': {'Average Daily Returns': 0.0022360458524524505,\n",
              "  'Beta Alpha': '',\n",
              "  'Sharpe Ratio': 1.17,\n",
              "  'Piotroski F-Score': '',\n",
              "  'Revenue Growth': '',\n",
              "  'Earning per Share': '',\n",
              "  'Price to Earning': 0,\n",
              "  'Debt to Equity': 0,\n",
              "  'Free Cash Flow': '',\n",
              "  'Return on Equity': '',\n",
              "  'Dividend Yield': 6.986301369863014},\n",
              " 'PNIN.JK': {'Average Daily Returns': 0.00042921436183643606,\n",
              "  'Beta Alpha': {'beta': array([-0.085]), 'alpha': array([0.])},\n",
              "  'Sharpe Ratio': 0.28,\n",
              "  'Piotroski F-Score': '',\n",
              "  'Revenue Growth': 4.381181910189419,\n",
              "  'Earning per Share': 258.5784795689621,\n",
              "  'Price to Earning': 3.345212646628263,\n",
              "  'Debt to Equity': 0.00037276235452276656,\n",
              "  'Free Cash Flow': '',\n",
              "  'Return on Equity': 5.972259123764366,\n",
              "  'Dividend Yield': 2.4277456647398843},\n",
              " 'PNLF.JK': {'Average Daily Returns': 0.0007983551389707953,\n",
              "  'Beta Alpha': {'beta': array([-0.04]), 'alpha': array([0.001])},\n",
              "  'Sharpe Ratio': 0.44,\n",
              "  'Piotroski F-Score': '',\n",
              "  'Revenue Growth': 4.421393173542117,\n",
              "  'Earning per Share': 58.07751527409135,\n",
              "  'Price to Earning': 4.304591868645699,\n",
              "  'Debt to Equity': 0.0002555970886845972,\n",
              "  'Free Cash Flow': '',\n",
              "  'Return on Equity': 7.239571348976087,\n",
              "  'Dividend Yield': 6.0},\n",
              " 'PNSE.JK': {'Average Daily Returns': 0.0008481231289097763,\n",
              "  'Beta Alpha': {'beta': array([-0.006]), 'alpha': array([0.001])},\n",
              "  'Sharpe Ratio': 0.29,\n",
              "  'Piotroski F-Score': '',\n",
              "  'Revenue Growth': '',\n",
              "  'Earning per Share': '',\n",
              "  'Price to Earning': 0,\n",
              "  'Debt to Equity': 0,\n",
              "  'Free Cash Flow': '',\n",
              "  'Return on Equity': '',\n",
              "  'Dividend Yield': 104.11111111111111},\n",
              " 'POLA.JK': {'Average Daily Returns': 0.0013407339192191275,\n",
              "  'Beta Alpha': {'beta': array([-0.073]), 'alpha': array([0.001])},\n",
              "  'Sharpe Ratio': 0.37,\n",
              "  'Piotroski F-Score': 4,\n",
              "  'Revenue Growth': 260.7193841768187,\n",
              "  'Earning per Share': -11.315566437147503,\n",
              "  'Price to Earning': -4.418691744485423,\n",
              "  'Debt to Equity': 0,\n",
              "  'Free Cash Flow': 17487339120.0,\n",
              "  'Return on Equity': -12.650510829379513,\n",
              "  'Dividend Yield': 0.0},\n",
              " 'POLI.JK': {'Average Daily Returns': 0.0001567082042211681,\n",
              "  'Beta Alpha': {'beta': array([-0.028]), 'alpha': array([0.])},\n",
              "  'Sharpe Ratio': 0.07,\n",
              "  'Piotroski F-Score': '',\n",
              "  'Revenue Growth': 13.989373868476584,\n",
              "  'Earning per Share': 8.673342322014378,\n",
              "  'Price to Earning': 85.89537600851597,\n",
              "  'Debt to Equity': 0.2754614183452931,\n",
              "  'Free Cash Flow': '',\n",
              "  'Return on Equity': 1.030441679278535,\n",
              "  'Dividend Yield': 0.0},\n",
              " 'POLL.JK': {'Average Daily Returns': -0.002942784483627404,\n",
              "  'Beta Alpha': {'beta': array([0.133]), 'alpha': array([-0.003])},\n",
              "  'Sharpe Ratio': -0.89,\n",
              "  'Piotroski F-Score': '',\n",
              "  'Revenue Growth': 23.545996617143874,\n",
              "  'Earning per Share': 3.6489332619084585,\n",
              "  'Price to Earning': 38.915482911773346,\n",
              "  'Debt to Equity': 0.8595986484715703,\n",
              "  'Free Cash Flow': '',\n",
              "  'Return on Equity': 2.4136297801185527,\n",
              "  'Dividend Yield': 0.0},\n",
              " 'POLU.JK': {'Average Daily Returns': 0.0017967790662934398,\n",
              "  'Beta Alpha': {'beta': array([0.135]), 'alpha': array([0.002])},\n",
              "  'Sharpe Ratio': 0.45,\n",
              "  'Piotroski F-Score': '',\n",
              "  'Revenue Growth': 87.54830465894827,\n",
              "  'Earning per Share': -8.139239266666667,\n",
              "  'Price to Earning': -48.161749170514206,\n",
              "  'Debt to Equity': 0.1692571416430476,\n",
              "  'Free Cash Flow': '',\n",
              "  'Return on Equity': -3.7935777413258376,\n",
              "  'Dividend Yield': 0.0},\n",
              " 'POLY.JK': {'Average Daily Returns': 0.0003966420965745164,\n",
              "  'Beta Alpha': {'beta': array([-0.147]), 'alpha': array([0.])},\n",
              "  'Sharpe Ratio': 0.22,\n",
              "  'Piotroski F-Score': '',\n",
              "  'Revenue Growth': '',\n",
              "  'Earning per Share': '',\n",
              "  'Price to Earning': 0,\n",
              "  'Debt to Equity': 0,\n",
              "  'Free Cash Flow': '',\n",
              "  'Return on Equity': '',\n",
              "  'Dividend Yield': 0.0},\n",
              " 'POOL.JK': {'Average Daily Returns': 0.0,\n",
              "  'Beta Alpha': {'beta': array([0.]), 'alpha': array([0.])},\n",
              "  'Sharpe Ratio': nan,\n",
              "  'Piotroski F-Score': '',\n",
              "  'Revenue Growth': -47.16004113906348,\n",
              "  'Earning per Share': '',\n",
              "  'Price to Earning': 0,\n",
              "  'Debt to Equity': 0,\n",
              "  'Free Cash Flow': '',\n",
              "  'Return on Equity': -17.44676804917417,\n",
              "  'Dividend Yield': 3561.0285400000002},\n",
              " 'PORT.JK': {'Average Daily Returns': 0.0021385358921289575,\n",
              "  'Beta Alpha': {'beta': array([0.057]), 'alpha': array([0.002])},\n",
              "  'Sharpe Ratio': 0.58,\n",
              "  'Piotroski F-Score': '',\n",
              "  'Revenue Growth': -2.1939000858208115,\n",
              "  'Earning per Share': -21.084763596491907,\n",
              "  'Price to Earning': -34.385019148169434,\n",
              "  'Debt to Equity': 0.7127695324741125,\n",
              "  'Free Cash Flow': '',\n",
              "  'Return on Equity': -6.3239315853972915,\n",
              "  'Dividend Yield': 0.0},\n",
              " 'POSA.JK': {'Average Daily Returns': 0.0,\n",
              "  'Beta Alpha': {'beta': array([0.]), 'alpha': array([0.])},\n",
              "  'Sharpe Ratio': nan,\n",
              "  'Piotroski F-Score': '',\n",
              "  'Revenue Growth': 10.490066052028785,\n",
              "  'Earning per Share': -15.958831174392774,\n",
              "  'Price to Earning': -3.133061528981459,\n",
              "  'Debt to Equity': 4.726845706847462,\n",
              "  'Free Cash Flow': '',\n",
              "  'Return on Equity': -106.01952468152803,\n",
              "  'Dividend Yield': 0.0},\n",
              " 'POWR.JK': {'Average Daily Returns': 0.0003035607536641756,\n",
              "  'Beta Alpha': {'beta': array([0.007]), 'alpha': array([0.])},\n",
              "  'Sharpe Ratio': 0.34,\n",
              "  'Piotroski F-Score': '',\n",
              "  'Revenue Growth': -9.508199460924537,\n",
              "  'Earning per Share': 0.004729421154336973,\n",
              "  'Price to Earning': 145895.2327320768,\n",
              "  'Debt to Equity': 0.7451646495478276,\n",
              "  'Free Cash Flow': '',\n",
              "  'Return on Equity': 11.14760048634382,\n",
              "  'Dividend Yield': 46.396228985507236},\n",
              " 'PPGL.JK': {'Average Daily Returns': 0.00024343464319435168,\n",
              "  'Beta Alpha': '',\n",
              "  'Sharpe Ratio': 0.12,\n",
              "  'Piotroski F-Score': '',\n",
              "  'Revenue Growth': '',\n",
              "  'Earning per Share': '',\n",
              "  'Price to Earning': 0,\n",
              "  'Debt to Equity': 0,\n",
              "  'Free Cash Flow': '',\n",
              "  'Return on Equity': '',\n",
              "  'Dividend Yield': 9.090909090909092},\n",
              " 'PPRE.JK': {'Average Daily Returns': -0.0006587705124217137,\n",
              "  'Beta Alpha': {'beta': array([0.058]), 'alpha': array([-0.001])},\n",
              "  'Sharpe Ratio': -0.38,\n",
              "  'Piotroski F-Score': '',\n",
              "  'Revenue Growth': -16.752363079935172,\n",
              "  'Earning per Share': 5.789659787789132,\n",
              "  'Price to Earning': 14.68134624754152,\n",
              "  'Debt to Equity': 0.9988556246821648,\n",
              "  'Free Cash Flow': '',\n",
              "  'Return on Equity': 2.6953663456435684,\n",
              "  'Dividend Yield': 26.776470588235295},\n",
              " 'PPRI.JK': {'Average Daily Returns': -0.00177500936160841,\n",
              "  'Beta Alpha': '',\n",
              "  'Sharpe Ratio': -0.52,\n",
              "  'Piotroski F-Score': '',\n",
              "  'Revenue Growth': '',\n",
              "  'Earning per Share': '',\n",
              "  'Price to Earning': 0,\n",
              "  'Debt to Equity': 0,\n",
              "  'Free Cash Flow': '',\n",
              "  'Return on Equity': '',\n",
              "  'Dividend Yield': 0.0},\n",
              " 'PPRO.JK': {'Average Daily Returns': 0.00026373701991831813,\n",
              "  'Beta Alpha': {'beta': array([0.041]), 'alpha': array([0.])},\n",
              "  'Sharpe Ratio': 0.18,\n",
              "  'Piotroski F-Score': '',\n",
              "  'Revenue Growth': 140.61769615125928,\n",
              "  'Earning per Share': 1.7726634338146692,\n",
              "  'Price to Earning': 28.20614395616143,\n",
              "  'Debt to Equity': 2.5563424275137274,\n",
              "  'Free Cash Flow': '',\n",
              "  'Return on Equity': 2.7908855109659814,\n",
              "  'Dividend Yield': 14.85202},\n",
              " 'PRAS.JK': {'Average Daily Returns': 0.00029681676251629304,\n",
              "  'Beta Alpha': {'beta': array([-0.031]), 'alpha': array([0.])},\n",
              "  'Sharpe Ratio': 0.12,\n",
              "  'Piotroski F-Score': '',\n",
              "  'Revenue Growth': '',\n",
              "  'Earning per Share': '',\n",
              "  'Price to Earning': 0,\n",
              "  'Debt to Equity': 0,\n",
              "  'Free Cash Flow': '',\n",
              "  'Return on Equity': '',\n",
              "  'Dividend Yield': 10.309278350515463},\n",
              " 'PRAY.JK': {'Average Daily Returns': -0.0005901003082679165,\n",
              "  'Beta Alpha': '',\n",
              "  'Sharpe Ratio': -0.5,\n",
              "  'Piotroski F-Score': '',\n",
              "  'Revenue Growth': -26.73949925904183,\n",
              "  'Earning per Share': 20.21684248197305,\n",
              "  'Price to Earning': 34.129958751731834,\n",
              "  'Debt to Equity': 0.7261414300914586,\n",
              "  'Free Cash Flow': '',\n",
              "  'Return on Equity': 20.05360608198803,\n",
              "  'Dividend Yield': 0.0},\n",
              " 'PRDA.JK': {'Average Daily Returns': 0.0008943023414852691,\n",
              "  'Beta Alpha': {'beta': array([0.044]), 'alpha': array([0.001])},\n",
              "  'Sharpe Ratio': 0.5,\n",
              "  'Piotroski F-Score': '',\n",
              "  'Revenue Growth': -29.36676196914552,\n",
              "  'Earning per Share': 286.6634568818873,\n",
              "  'Price to Earning': 15.104820290310219,\n",
              "  'Debt to Equity': 0.03273445872753941,\n",
              "  'Free Cash Flow': '',\n",
              "  'Return on Equity': 15.02807975623763,\n",
              "  'Dividend Yield': 10.21039260969977},\n",
              " 'PRIM.JK': {'Average Daily Returns': -0.0007414966725343143,\n",
              "  'Beta Alpha': {'beta': array([0.156]), 'alpha': array([-0.001])},\n",
              "  'Sharpe Ratio': -0.27,\n",
              "  'Piotroski F-Score': '',\n",
              "  'Revenue Growth': -56.56559829970031,\n",
              "  'Earning per Share': 11.298442127211333,\n",
              "  'Price to Earning': 6.284052190611533,\n",
              "  'Debt to Equity': 0,\n",
              "  'Free Cash Flow': '',\n",
              "  'Return on Equity': 4.296069252801639,\n",
              "  'Dividend Yield': 0.0},\n",
              " 'PSAB.JK': {'Average Daily Returns': 0.00023565242549819862,\n",
              "  'Beta Alpha': {'beta': array([0.001]), 'alpha': array([0.])},\n",
              "  'Sharpe Ratio': 0.12,\n",
              "  'Piotroski F-Score': '',\n",
              "  'Revenue Growth': 4.457398783116707,\n",
              "  'Earning per Share': -0.00023501828948735139,\n",
              "  'Price to Earning': -842487.6226948128,\n",
              "  'Debt to Equity': 1.1328528043237045,\n",
              "  'Free Cash Flow': '',\n",
              "  'Return on Equity': -1.9969477699063887,\n",
              "  'Dividend Yield': 5.025252525252525},\n",
              " 'PSDN.JK': {'Average Daily Returns': 0.0012944560047920056,\n",
              "  'Beta Alpha': {'beta': array([-0.125]), 'alpha': array([0.001])},\n",
              "  'Sharpe Ratio': 0.4,\n",
              "  'Piotroski F-Score': '',\n",
              "  'Revenue Growth': '',\n",
              "  'Earning per Share': '',\n",
              "  'Price to Earning': 0,\n",
              "  'Debt to Equity': 0,\n",
              "  'Free Cash Flow': '',\n",
              "  'Return on Equity': '',\n",
              "  'Dividend Yield': 0.0},\n",
              " 'PSGO.JK': {'Average Daily Returns': 0.0012075206771856553,\n",
              "  'Beta Alpha': {'beta': array([0.088]), 'alpha': array([0.001])},\n",
              "  'Sharpe Ratio': 0.5,\n",
              "  'Piotroski F-Score': '',\n",
              "  'Revenue Growth': -47.31770011845673,\n",
              "  'Earning per Share': 1.4058804940228689,\n",
              "  'Price to Earning': 114.51897987381926,\n",
              "  'Debt to Equity': 1.6016878481702996,\n",
              "  'Free Cash Flow': '',\n",
              "  'Return on Equity': 2.190667072480703,\n",
              "  'Dividend Yield': 0.0},\n",
              " 'PSKT.JK': {'Average Daily Returns': 0.000502342390758222,\n",
              "  'Beta Alpha': {'beta': array([-0.023]), 'alpha': array([0.001])},\n",
              "  'Sharpe Ratio': 0.24,\n",
              "  'Piotroski F-Score': '',\n",
              "  'Revenue Growth': '',\n",
              "  'Earning per Share': '',\n",
              "  'Price to Earning': 0,\n",
              "  'Debt to Equity': 0,\n",
              "  'Free Cash Flow': '',\n",
              "  'Return on Equity': '',\n",
              "  'Dividend Yield': 3.0},\n",
              " 'PSSI.JK': {'Average Daily Returns': 0.0015126218175910973,\n",
              "  'Beta Alpha': {'beta': array([0.059]), 'alpha': array([0.001])},\n",
              "  'Sharpe Ratio': 0.97,\n",
              "  'Piotroski F-Score': '',\n",
              "  'Revenue Growth': -37.135359187716375,\n",
              "  'Earning per Share': 0.0016117334041936089,\n",
              "  'Price to Earning': 304020.502848087,\n",
              "  'Debt to Equity': 0.1989273856031154,\n",
              "  'Free Cash Flow': '',\n",
              "  'Return on Equity': 8.917952073573913,\n",
              "  'Dividend Yield': 4.489795918367347},\n",
              " 'PTBA.JK': {'Average Daily Returns': 0.0005540607633993613,\n",
              "  'Beta Alpha': {'beta': array([-0.021]), 'alpha': array([0.001])},\n",
              "  'Sharpe Ratio': 0.38,\n",
              "  'Piotroski F-Score': '',\n",
              "  'Revenue Growth': -40.791788026492725,\n",
              "  'Earning per Share': 207.78074263598873,\n",
              "  'Price to Earning': 13.957020093438171,\n",
              "  'Debt to Equity': 0.07765022314751825,\n",
              "  'Free Cash Flow': '',\n",
              "  'Return on Equity': 14.238271654134207,\n",
              "  'Dividend Yield': 186.59122068965522},\n",
              " 'PTDU.JK': {'Average Daily Returns': 0.00014742217291648376,\n",
              "  'Beta Alpha': '',\n",
              "  'Sharpe Ratio': 0.04,\n",
              "  'Piotroski F-Score': '',\n",
              "  'Revenue Growth': '',\n",
              "  'Earning per Share': '',\n",
              "  'Price to Earning': 0,\n",
              "  'Debt to Equity': 0,\n",
              "  'Free Cash Flow': '',\n",
              "  'Return on Equity': '',\n",
              "  'Dividend Yield': 0.0},\n",
              " 'PTIS.JK': {'Average Daily Returns': 0.0024811589387315753,\n",
              "  'Beta Alpha': {'beta': array([-0.312]), 'alpha': array([0.003])},\n",
              "  'Sharpe Ratio': 0.62,\n",
              "  'Piotroski F-Score': '',\n",
              "  'Revenue Growth': -2.9138469054617415,\n",
              "  'Earning per Share': 6.9288305425293216e-06,\n",
              "  'Price to Earning': 34349230.87513117,\n",
              "  'Debt to Equity': 0.001642884879640394,\n",
              "  'Free Cash Flow': '',\n",
              "  'Return on Equity': 0.022914189605902385,\n",
              "  'Dividend Yield': 14.07563025210084},\n",
              " 'PTMP.JK': {'Average Daily Returns': 0.004244420128467418,\n",
              "  'Beta Alpha': '',\n",
              "  'Sharpe Ratio': 0.99,\n",
              "  'Piotroski F-Score': '',\n",
              "  'Revenue Growth': -12.278076342597481,\n",
              "  'Earning per Share': 1.4887610089103216,\n",
              "  'Price to Earning': 201.50984490088234,\n",
              "  'Debt to Equity': 0.7463679577306617,\n",
              "  'Free Cash Flow': '',\n",
              "  'Return on Equity': 7.893052381129103,\n",
              "  'Dividend Yield': 0.0},\n",
              " 'PTPP.JK': {'Average Daily Returns': -0.0004302514991065762,\n",
              "  'Beta Alpha': {'beta': array([0.104]), 'alpha': array([-0.])},\n",
              "  'Sharpe Ratio': -0.23,\n",
              "  'Piotroski F-Score': '',\n",
              "  'Revenue Growth': -5.56282354045183,\n",
              "  'Earning per Share': 26.52288383293349,\n",
              "  'Price to Earning': 19.040161815772876,\n",
              "  'Debt to Equity': 1.8295550303861827,\n",
              "  'Free Cash Flow': '',\n",
              "  'Return on Equity': 1.5544583746393184,\n",
              "  'Dividend Yield': 62.28425742574256},\n",
              " 'PTPS.JK': {'Average Daily Returns': 0.01649636051305678,\n",
              "  'Beta Alpha': '',\n",
              "  'Sharpe Ratio': 3.34,\n",
              "  'Piotroski F-Score': '',\n",
              "  'Revenue Growth': '',\n",
              "  'Earning per Share': '',\n",
              "  'Price to Earning': 0,\n",
              "  'Debt to Equity': 0,\n",
              "  'Free Cash Flow': '',\n",
              "  'Return on Equity': '',\n",
              "  'Dividend Yield': 0.0},\n",
              " 'PTPW.JK': {'Average Daily Returns': 8.850044135161378e-05,\n",
              "  'Beta Alpha': {'beta': array([-0.01]), 'alpha': array([0.])},\n",
              "  'Sharpe Ratio': 0.07,\n",
              "  'Piotroski F-Score': '',\n",
              "  'Revenue Growth': '',\n",
              "  'Earning per Share': '',\n",
              "  'Price to Earning': 0,\n",
              "  'Debt to Equity': 0,\n",
              "  'Free Cash Flow': '',\n",
              "  'Return on Equity': '',\n",
              "  'Dividend Yield': 0.0},\n",
              " 'PTRO.JK': {'Average Daily Returns': 0.001988611193518025,\n",
              "  'Beta Alpha': {'beta': array([-0.194]), 'alpha': array([0.002])},\n",
              "  'Sharpe Ratio': 1.05,\n",
              "  'Piotroski F-Score': '',\n",
              "  'Revenue Growth': -18.05203770653081,\n",
              "  'Earning per Share': 0.032550306019464896,\n",
              "  'Price to Earning': 147156.83462808636,\n",
              "  'Debt to Equity': 1.124044008614526,\n",
              "  'Free Cash Flow': '',\n",
              "  'Return on Equity': 13.987338206809289,\n",
              "  'Dividend Yield': 74.76414822546974},\n",
              " 'PTSN.JK': {'Average Daily Returns': 0.000726460251793665,\n",
              "  'Beta Alpha': {'beta': array([-0.106]), 'alpha': array([0.001])},\n",
              "  'Sharpe Ratio': 0.38,\n",
              "  'Piotroski F-Score': '',\n",
              "  'Revenue Growth': -9.23786069224296,\n",
              "  'Earning per Share': 0.0009096838263169862,\n",
              "  'Price to Earning': 263827.92906375165,\n",
              "  'Debt to Equity': 0.30223742058339476,\n",
              "  'Free Cash Flow': '',\n",
              "  'Return on Equity': 5.846652015596138,\n",
              "  'Dividend Yield': 0.22780333333333333},\n",
              " 'PTSP.JK': {'Average Daily Returns': 0.00023331323754314894,\n",
              "  'Beta Alpha': {'beta': array([-0.284]), 'alpha': array([0.])},\n",
              "  'Sharpe Ratio': 0.08,\n",
              "  'Piotroski F-Score': '',\n",
              "  'Revenue Growth': -11.933125925669948,\n",
              "  'Earning per Share': -217.71064001304302,\n",
              "  'Price to Earning': -6.04012739074773,\n",
              "  'Debt to Equity': 0.585227833314356,\n",
              "  'Free Cash Flow': '',\n",
              "  'Return on Equity': -38.495693805223006,\n",
              "  'Dividend Yield': 0.0},\n",
              " 'PUDP.JK': {'Average Daily Returns': 0.0021315523099152012,\n",
              "  'Beta Alpha': {'beta': array([-0.062]), 'alpha': array([0.002])},\n",
              "  'Sharpe Ratio': 0.66,\n",
              "  'Piotroski F-Score': '',\n",
              "  'Revenue Growth': '',\n",
              "  'Earning per Share': '',\n",
              "  'Price to Earning': 0,\n",
              "  'Debt to Equity': 0,\n",
              "  'Free Cash Flow': '',\n",
              "  'Return on Equity': '',\n",
              "  'Dividend Yield': 23.25957798165138},\n",
              " 'PURA.JK': {'Average Daily Returns': -0.0003025595197616019,\n",
              "  'Beta Alpha': {'beta': array([-0.036]), 'alpha': array([-0.])},\n",
              "  'Sharpe Ratio': -0.16,\n",
              "  'Piotroski F-Score': '',\n",
              "  'Revenue Growth': '',\n",
              "  'Earning per Share': '',\n",
              "  'Price to Earning': 0,\n",
              "  'Debt to Equity': 0,\n",
              "  'Free Cash Flow': '',\n",
              "  'Return on Equity': '',\n",
              "  'Dividend Yield': 0.0},\n",
              " 'PURE.JK': {'Average Daily Returns': -0.000392021554393485,\n",
              "  'Beta Alpha': {'beta': array([0.031]), 'alpha': array([-0.])},\n",
              "  'Sharpe Ratio': -0.17,\n",
              "  'Piotroski F-Score': '',\n",
              "  'Revenue Growth': '',\n",
              "  'Earning per Share': '',\n",
              "  'Price to Earning': 0,\n",
              "  'Debt to Equity': 0,\n",
              "  'Free Cash Flow': '',\n",
              "  'Return on Equity': '',\n",
              "  'Dividend Yield': 0.0},\n",
              " 'PURI.JK': {'Average Daily Returns': 0.001032262651776693,\n",
              "  'Beta Alpha': '',\n",
              "  'Sharpe Ratio': 0.3,\n",
              "  'Piotroski F-Score': '',\n",
              "  'Revenue Growth': '',\n",
              "  'Earning per Share': '',\n",
              "  'Price to Earning': 0,\n",
              "  'Debt to Equity': 0,\n",
              "  'Free Cash Flow': '',\n",
              "  'Return on Equity': '',\n",
              "  'Dividend Yield': 0.838150289017341},\n",
              " 'PWON.JK': {'Average Daily Returns': 0.00021591447831036304,\n",
              "  'Beta Alpha': {'beta': array([-0.01]), 'alpha': array([0.])},\n",
              "  'Sharpe Ratio': 0.16,\n",
              "  'Piotroski F-Score': '',\n",
              "  'Revenue Growth': -30.386464213866603,\n",
              "  'Earning per Share': 19.309100732609398,\n",
              "  'Price to Earning': 21.026354651221183,\n",
              "  'Debt to Equity': 0.42364605320936044,\n",
              "  'Free Cash Flow': '',\n",
              "  'Return on Equity': 6.353865012243394,\n",
              "  'Dividend Yield': 8.854679802955665},\n",
              " 'PYFA.JK': {'Average Daily Returns': 0.001199936751754659,\n",
              "  'Beta Alpha': {'beta': array([0.116]), 'alpha': array([0.001])},\n",
              "  'Sharpe Ratio': 0.46,\n",
              "  'Piotroski F-Score': '',\n",
              "  'Revenue Growth': -56.005589277378,\n",
              "  'Earning per Share': 41.31039146856545,\n",
              "  'Price to Earning': 18.15523826664053,\n",
              "  'Debt to Equity': 6.266596826519261,\n",
              "  'Free Cash Flow': '',\n",
              "  'Return on Equity': 14.022786808663026,\n",
              "  'Dividend Yield': 1.1426666666666667},\n",
              " 'PZZA.JK': {'Average Daily Returns': -0.0007777242178585645,\n",
              "  'Beta Alpha': {'beta': array([-0.052]), 'alpha': array([-0.001])},\n",
              "  'Sharpe Ratio': -0.67,\n",
              "  'Piotroski F-Score': '',\n",
              "  'Revenue Growth': 1.1581433202533151,\n",
              "  'Earning per Share': -31.116361013781074,\n",
              "  'Price to Earning': -9.898329687831762,\n",
              "  'Debt to Equity': 0.5661386751880834,\n",
              "  'Free Cash Flow': '',\n",
              "  'Return on Equity': -7.632629874821246,\n",
              "  'Dividend Yield': 26.15253246753247},\n",
              " 'RAAM.JK': {'Average Daily Returns': 0.005160990230428193,\n",
              "  'Beta Alpha': '',\n",
              "  'Sharpe Ratio': 1.35,\n",
              "  'Piotroski F-Score': '',\n",
              "  'Revenue Growth': -21.679442694249843,\n",
              "  'Earning per Share': -6.362323935909604,\n",
              "  'Price to Earning': -78.58763637889437,\n",
              "  'Debt to Equity': 0.1921096938826498,\n",
              "  'Free Cash Flow': '',\n",
              "  'Return on Equity': -4.993478654079689,\n",
              "  'Dividend Yield': 0.0},\n",
              " 'RAFI.JK': {'Average Daily Returns': -0.002387622955222383,\n",
              "  'Beta Alpha': '',\n",
              "  'Sharpe Ratio': -0.85,\n",
              "  'Piotroski F-Score': '',\n",
              "  'Revenue Growth': '',\n",
              "  'Earning per Share': '',\n",
              "  'Price to Earning': 0,\n",
              "  'Debt to Equity': 0,\n",
              "  'Free Cash Flow': '',\n",
              "  'Return on Equity': '',\n",
              "  'Dividend Yield': 0.0},\n",
              " 'RAJA.JK': {'Average Daily Returns': 0.0036482700898576577,\n",
              "  'Beta Alpha': {'beta': array([-0.073]), 'alpha': array([0.004])},\n",
              "  'Sharpe Ratio': 1.4,\n",
              "  'Piotroski F-Score': '',\n",
              "  'Revenue Growth': 0.6297669109983705,\n",
              "  'Earning per Share': 0.00032869711976982115,\n",
              "  'Price to Earning': 4061489.8023288706,\n",
              "  'Debt to Equity': 1.5559843112138232,\n",
              "  'Free Cash Flow': '',\n",
              "  'Return on Equity': 1.3765230911585322,\n",
              "  'Dividend Yield': 4.191011235955056},\n",
              " 'RALS.JK': {'Average Daily Returns': 4.8442075623854456e-05,\n",
              "  'Beta Alpha': {'beta': array([-0.021]), 'alpha': array([0.])},\n",
              "  'Sharpe Ratio': 0.03,\n",
              "  'Piotroski F-Score': '',\n",
              "  'Revenue Growth': -2.49668104302803,\n",
              "  'Earning per Share': -23.096970615211518,\n",
              "  'Price to Earning': -21.301494823566685,\n",
              "  'Debt to Equity': 0.12500134316317552,\n",
              "  'Free Cash Flow': '',\n",
              "  'Return on Equity': -3.7344329160598306,\n",
              "  'Dividend Yield': 104.47154471544715},\n",
              " 'RANC.JK': {'Average Daily Returns': 0.0010468613644355703,\n",
              "  'Beta Alpha': {'beta': array([0.011]), 'alpha': array([0.001])},\n",
              "  'Sharpe Ratio': 0.5,\n",
              "  'Piotroski F-Score': '',\n",
              "  'Revenue Growth': '',\n",
              "  'Earning per Share': '',\n",
              "  'Price to Earning': 0,\n",
              "  'Debt to Equity': 0,\n",
              "  'Free Cash Flow': '',\n",
              "  'Return on Equity': '',\n",
              "  'Dividend Yield': 13.652173913043478},\n",
              " 'RBMS.JK': {'Average Daily Returns': 0.0004917306614493005,\n",
              "  'Beta Alpha': {'beta': array([0.119]), 'alpha': array([0.])},\n",
              "  'Sharpe Ratio': 0.23,\n",
              "  'Piotroski F-Score': '',\n",
              "  'Revenue Growth': '',\n",
              "  'Earning per Share': '',\n",
              "  'Price to Earning': 0,\n",
              "  'Debt to Equity': 0,\n",
              "  'Free Cash Flow': '',\n",
              "  'Return on Equity': '',\n",
              "  'Dividend Yield': 2.0},\n",
              " 'RCCC.JK': {'Average Daily Returns': 0.0012378235515621667,\n",
              "  'Beta Alpha': '',\n",
              "  'Sharpe Ratio': 0.4,\n",
              "  'Piotroski F-Score': '',\n",
              "  'Revenue Growth': '',\n",
              "  'Earning per Share': '',\n",
              "  'Price to Earning': 0,\n",
              "  'Debt to Equity': 0,\n",
              "  'Free Cash Flow': '',\n",
              "  'Return on Equity': '',\n",
              "  'Dividend Yield': 0.0},\n",
              " 'RDTX.JK': {'Average Daily Returns': 0.0016397061120543338,\n",
              "  'Beta Alpha': {'beta': array([0.243]), 'alpha': array([0.002])},\n",
              "  'Sharpe Ratio': 0.84,\n",
              "  'Piotroski F-Score': '',\n",
              "  'Revenue Growth': -3.103165404352606,\n",
              "  'Earning per Share': 878.3031529985119,\n",
              "  'Price to Earning': 15.996754596671481,\n",
              "  'Debt to Equity': 0,\n",
              "  'Free Cash Flow': '',\n",
              "  'Return on Equity': 8.62688843525862,\n",
              "  'Dividend Yield': 5.925266903914591},\n",
              " 'REAL.JK': {'Average Daily Returns': -0.0017543154957658544,\n",
              "  'Beta Alpha': {'beta': array([-0.001]), 'alpha': array([-0.002])},\n",
              "  'Sharpe Ratio': -0.83,\n",
              "  'Piotroski F-Score': '',\n",
              "  'Revenue Growth': '',\n",
              "  'Earning per Share': '',\n",
              "  'Price to Earning': 0,\n",
              "  'Debt to Equity': 0,\n",
              "  'Free Cash Flow': '',\n",
              "  'Return on Equity': '',\n",
              "  'Dividend Yield': 0.0},\n",
              " 'RELF.JK': {'Average Daily Returns': -0.007871437093916191,\n",
              "  'Beta Alpha': '',\n",
              "  'Sharpe Ratio': -1.79,\n",
              "  'Piotroski F-Score': '',\n",
              "  'Revenue Growth': '',\n",
              "  'Earning per Share': '',\n",
              "  'Price to Earning': 0,\n",
              "  'Debt to Equity': 0,\n",
              "  'Free Cash Flow': '',\n",
              "  'Return on Equity': '',\n",
              "  'Dividend Yield': 0.0},\n",
              " 'RELI.JK': {'Average Daily Returns': 0.0018352956166640259,\n",
              "  'Beta Alpha': {'beta': array([0.091]), 'alpha': array([0.002])},\n",
              "  'Sharpe Ratio': 0.54,\n",
              "  'Piotroski F-Score': '',\n",
              "  'Revenue Growth': '',\n",
              "  'Earning per Share': '',\n",
              "  'Price to Earning': 0,\n",
              "  'Debt to Equity': 0,\n",
              "  'Free Cash Flow': '',\n",
              "  'Return on Equity': '',\n",
              "  'Dividend Yield': 4.201680672268908},\n",
              " 'RGAS.JK': {'Average Daily Returns': -0.0008356686961339381,\n",
              "  'Beta Alpha': '',\n",
              "  'Sharpe Ratio': -0.25,\n",
              "  'Piotroski F-Score': '',\n",
              "  'Revenue Growth': '',\n",
              "  'Earning per Share': '',\n",
              "  'Price to Earning': 0,\n",
              "  'Debt to Equity': 0,\n",
              "  'Free Cash Flow': '',\n",
              "  'Return on Equity': '',\n",
              "  'Dividend Yield': 0.0},\n",
              " 'RICY.JK': {'Average Daily Returns': 0.0008218324383292433,\n",
              "  'Beta Alpha': {'beta': array([-0.029]), 'alpha': array([0.001])},\n",
              "  'Sharpe Ratio': 0.37,\n",
              "  'Piotroski F-Score': '',\n",
              "  'Revenue Growth': -6.53173129656256,\n",
              "  'Earning per Share': -119.97058191366096,\n",
              "  'Price to Earning': -0.8918853129928512,\n",
              "  'Debt to Equity': 3.4002034804688224,\n",
              "  'Free Cash Flow': '',\n",
              "  'Return on Equity': -22.26465489555949,\n",
              "  'Dividend Yield': 41.1214953271028},\n",
              " 'RIGS.JK': {'Average Daily Returns': 0.001865668646507335,\n",
              "  'Beta Alpha': {'beta': array([0.028]), 'alpha': array([0.002])},\n",
              "  'Sharpe Ratio': 0.76,\n",
              "  'Piotroski F-Score': '',\n",
              "  'Revenue Growth': -20.64272843012859,\n",
              "  'Earning per Share': -115.57154138662092,\n",
              "  'Price to Earning': -4.456114315177064,\n",
              "  'Debt to Equity': 0,\n",
              "  'Free Cash Flow': '',\n",
              "  'Return on Equity': -12.447526367468583,\n",
              "  'Dividend Yield': 0.0},\n",
              " 'RIMO.JK': {'Average Daily Returns': 0.0,\n",
              "  'Beta Alpha': {'beta': array([0.]), 'alpha': array([0.])},\n",
              "  'Sharpe Ratio': nan,\n",
              "  'Piotroski F-Score': '',\n",
              "  'Revenue Growth': '',\n",
              "  'Earning per Share': '',\n",
              "  'Price to Earning': 0,\n",
              "  'Debt to Equity': 0,\n",
              "  'Free Cash Flow': '',\n",
              "  'Return on Equity': '',\n",
              "  'Dividend Yield': 14.82},\n",
              " 'RISE.JK': {'Average Daily Returns': 0.0010439403873957573,\n",
              "  'Beta Alpha': {'beta': array([-0.061]), 'alpha': array([0.001])},\n",
              "  'Sharpe Ratio': 0.85,\n",
              "  'Piotroski F-Score': '',\n",
              "  'Revenue Growth': -37.627116492297155,\n",
              "  'Earning per Share': -2.174074766835496,\n",
              "  'Price to Earning': -453.0662951549408,\n",
              "  'Debt to Equity': 0.1513905671467467,\n",
              "  'Free Cash Flow': '',\n",
              "  'Return on Equity': -1.4835318469608105,\n",
              "  'Dividend Yield': 0.0},\n",
              " 'RMKE.JK': {'Average Daily Returns': 0.002646661575654784,\n",
              "  'Beta Alpha': '',\n",
              "  'Sharpe Ratio': 1.08,\n",
              "  'Piotroski F-Score': '',\n",
              "  'Revenue Growth': -65.9302732432642,\n",
              "  'Earning per Share': 16.863368329998725,\n",
              "  'Price to Earning': 31.429070967818923,\n",
              "  'Debt to Equity': 0.6464275917476212,\n",
              "  'Free Cash Flow': '',\n",
              "  'Return on Equity': 17.312219072058134,\n",
              "  'Dividend Yield': 0.0},\n",
              " 'RMKO.JK': {'Average Daily Returns': -0.005509873823854123,\n",
              "  'Beta Alpha': '',\n",
              "  'Sharpe Ratio': -2.7,\n",
              "  'Piotroski F-Score': '',\n",
              "  'Revenue Growth': '',\n",
              "  'Earning per Share': '',\n",
              "  'Price to Earning': 0,\n",
              "  'Debt to Equity': 0,\n",
              "  'Free Cash Flow': '',\n",
              "  'Return on Equity': '',\n",
              "  'Dividend Yield': 0.0},\n",
              " 'ROCK.JK': {'Average Daily Returns': -0.0006747577545608966,\n",
              "  'Beta Alpha': '',\n",
              "  'Sharpe Ratio': -0.22,\n",
              "  'Piotroski F-Score': '',\n",
              "  'Revenue Growth': '',\n",
              "  'Earning per Share': '',\n",
              "  'Price to Earning': 0,\n",
              "  'Debt to Equity': 0,\n",
              "  'Free Cash Flow': '',\n",
              "  'Return on Equity': '',\n",
              "  'Dividend Yield': 0.0},\n",
              " 'RODA.JK': {'Average Daily Returns': 0.0005027969339285572,\n",
              "  'Beta Alpha': {'beta': array([0.051]), 'alpha': array([0.])},\n",
              "  'Sharpe Ratio': 0.24,\n",
              "  'Piotroski F-Score': '',\n",
              "  'Revenue Growth': -77.57341927444965,\n",
              "  'Earning per Share': -9.357647342516872,\n",
              "  'Price to Earning': -5.343223373339029,\n",
              "  'Debt to Equity': 0.49753583522607975,\n",
              "  'Free Cash Flow': '',\n",
              "  'Return on Equity': -6.147503065692022,\n",
              "  'Dividend Yield': 0.0},\n",
              " 'RONY.JK': {'Average Daily Returns': 0.002187332324090888,\n",
              "  'Beta Alpha': {'beta': array([0.283]), 'alpha': array([0.002])},\n",
              "  'Sharpe Ratio': 0.58,\n",
              "  'Piotroski F-Score': '',\n",
              "  'Revenue Growth': '',\n",
              "  'Earning per Share': '',\n",
              "  'Price to Earning': 0,\n",
              "  'Debt to Equity': 0,\n",
              "  'Free Cash Flow': '',\n",
              "  'Return on Equity': '',\n",
              "  'Dividend Yield': 0.0},\n",
              " 'ROTI.JK': {'Average Daily Returns': 5.841553078097099e-05,\n",
              "  'Beta Alpha': {'beta': array([0.083]), 'alpha': array([0.])},\n",
              "  'Sharpe Ratio': 0.06,\n",
              "  'Piotroski F-Score': '',\n",
              "  'Revenue Growth': -2.2991895958086848,\n",
              "  'Earning per Share': 37.70682864042442,\n",
              "  'Price to Earning': 31.559270373754924,\n",
              "  'Debt to Equity': 0.19615977897751333,\n",
              "  'Free Cash Flow': '',\n",
              "  'Return on Equity': 6.623979283655089,\n",
              "  'Dividend Yield': 23.921941176470586},\n",
              " 'RSCH.JK': {'Average Daily Returns': 0.002346531726808354,\n",
              "  'Beta Alpha': '',\n",
              "  'Sharpe Ratio': 0.85,\n",
              "  'Piotroski F-Score': '',\n",
              "  'Revenue Growth': '',\n",
              "  'Earning per Share': '',\n",
              "  'Price to Earning': 0,\n",
              "  'Debt to Equity': 0,\n",
              "  'Free Cash Flow': '',\n",
              "  'Return on Equity': '',\n",
              "  'Dividend Yield': 0.0},\n",
              " 'RSGK.JK': {'Average Daily Returns': -0.0007351367228277153,\n",
              "  'Beta Alpha': '',\n",
              "  'Sharpe Ratio': -0.59,\n",
              "  'Piotroski F-Score': '',\n",
              "  'Revenue Growth': -32.23354753063546,\n",
              "  'Earning per Share': 21.501573994124193,\n",
              "  'Price to Earning': 55.57732658672159,\n",
              "  'Debt to Equity': 0,\n",
              "  'Free Cash Flow': '',\n",
              "  'Return on Equity': 4.114479884952545,\n",
              "  'Dividend Yield': 0.0},\n",
              " 'RUIS.JK': {'Average Daily Returns': 0.0008368872815014023,\n",
              "  'Beta Alpha': {'beta': array([-0.096]), 'alpha': array([0.001])},\n",
              "  'Sharpe Ratio': 0.35,\n",
              "  'Piotroski F-Score': '',\n",
              "  'Revenue Growth': -1.7772240219808129,\n",
              "  'Earning per Share': 35.768743868831166,\n",
              "  'Price to Earning': 5.228028154574126,\n",
              "  'Debt to Equity': 1.447145550816135,\n",
              "  'Free Cash Flow': '',\n",
              "  'Return on Equity': 5.988437771869951,\n",
              "  'Dividend Yield': 65.50802139037432},\n",
              " 'RUNS.JK': {'Average Daily Returns': -0.0018574009211759074,\n",
              "  'Beta Alpha': '',\n",
              "  'Sharpe Ratio': -0.71,\n",
              "  'Piotroski F-Score': '',\n",
              "  'Revenue Growth': '',\n",
              "  'Earning per Share': '',\n",
              "  'Price to Earning': 0,\n",
              "  'Debt to Equity': 0,\n",
              "  'Free Cash Flow': '',\n",
              "  'Return on Equity': '',\n",
              "  'Dividend Yield': 0.0},\n",
              " 'SAFE.JK': {'Average Daily Returns': 0.0013439041745520277,\n",
              "  'Beta Alpha': {'beta': array([0.012]), 'alpha': array([0.001])},\n",
              "  'Sharpe Ratio': 0.49,\n",
              "  'Piotroski F-Score': '',\n",
              "  'Revenue Growth': -10.61497319312591,\n",
              "  'Earning per Share': -28.59458538349487,\n",
              "  'Price to Earning': -8.3931974106724,\n",
              "  'Debt to Equity': -2.5817402915201315,\n",
              "  'Free Cash Flow': '',\n",
              "  'Return on Equity': 25.699059675305662,\n",
              "  'Dividend Yield': 0.0},\n",
              " 'SAGE.JK': {'Average Daily Returns': -0.0024468112186033773,\n",
              "  'Beta Alpha': '',\n",
              "  'Sharpe Ratio': -0.57,\n",
              "  'Piotroski F-Score': '',\n",
              "  'Revenue Growth': -26.960909148496725,\n",
              "  'Earning per Share': 0.6073995287795011,\n",
              "  'Price to Earning': 82.31814091207677,\n",
              "  'Debt to Equity': 0.12983866473585123,\n",
              "  'Free Cash Flow': '',\n",
              "  'Return on Equity': 4.4401741882853045,\n",
              "  'Dividend Yield': 0.0},\n",
              " 'SAME.JK': {'Average Daily Returns': 0.002711521090673433,\n",
              "  'Beta Alpha': {'beta': array([0.065]), 'alpha': array([0.003])},\n",
              "  'Sharpe Ratio': 1.17,\n",
              "  'Piotroski F-Score': '',\n",
              "  'Revenue Growth': -35.763875048807634,\n",
              "  'Earning per Share': -10.948687696934133,\n",
              "  'Price to Earning': -27.765884680876095,\n",
              "  'Debt to Equity': 0.6869922747238191,\n",
              "  'Free Cash Flow': '',\n",
              "  'Return on Equity': -13.695816496023689,\n",
              "  'Dividend Yield': 2.223338815789474},\n",
              " 'SAMF.JK': {'Average Daily Returns': 0.0017274702652445668,\n",
              "  'Beta Alpha': {'beta': array([0.041]), 'alpha': array([0.002])},\n",
              "  'Sharpe Ratio': 0.65,\n",
              "  'Piotroski F-Score': '',\n",
              "  'Revenue Growth': -23.922758141980637,\n",
              "  'Earning per Share': 22.21062397845077,\n",
              "  'Price to Earning': 34.89321149878193,\n",
              "  'Debt to Equity': 1.14954639233598,\n",
              "  'Free Cash Flow': '',\n",
              "  'Return on Equity': 14.978104755729829,\n",
              "  'Dividend Yield': 3.5767741935483874},\n",
              " 'SAPX.JK': {'Average Daily Returns': -0.0001664595241103218,\n",
              "  'Beta Alpha': {'beta': array([-0.03]), 'alpha': array([-0.])},\n",
              "  'Sharpe Ratio': -0.07,\n",
              "  'Piotroski F-Score': '',\n",
              "  'Revenue Growth': '',\n",
              "  'Earning per Share': '',\n",
              "  'Price to Earning': 0,\n",
              "  'Debt to Equity': 0,\n",
              "  'Free Cash Flow': '',\n",
              "  'Return on Equity': '',\n",
              "  'Dividend Yield': 3.050847457627119},\n",
              " 'SATU.JK': {'Average Daily Returns': 0.0017533586467878616,\n",
              "  'Beta Alpha': {'beta': array([0.036]), 'alpha': array([0.002])},\n",
              "  'Sharpe Ratio': 0.76,\n",
              "  'Piotroski F-Score': '',\n",
              "  'Revenue Growth': '',\n",
              "  'Earning per Share': '',\n",
              "  'Price to Earning': 0,\n",
              "  'Debt to Equity': 0,\n",
              "  'Free Cash Flow': '',\n",
              "  'Return on Equity': '',\n",
              "  'Dividend Yield': 0.0},\n",
              " 'SBAT.JK': {'Average Daily Returns': -0.002657759488918262,\n",
              "  'Beta Alpha': {'beta': array([-0.062]), 'alpha': array([-0.003])},\n",
              "  'Sharpe Ratio': -0.8,\n",
              "  'Piotroski F-Score': '',\n",
              "  'Revenue Growth': '',\n",
              "  'Earning per Share': '',\n",
              "  'Price to Earning': 0,\n",
              "  'Debt to Equity': 0,\n",
              "  'Free Cash Flow': '',\n",
              "  'Return on Equity': '',\n",
              "  'Dividend Yield': 0.0},\n",
              " 'SBMA.JK': {'Average Daily Returns': 0.00028432264784712896,\n",
              "  'Beta Alpha': '',\n",
              "  'Sharpe Ratio': 0.1,\n",
              "  'Piotroski F-Score': '',\n",
              "  'Revenue Growth': '',\n",
              "  'Earning per Share': '',\n",
              "  'Price to Earning': 0,\n",
              "  'Debt to Equity': 0,\n",
              "  'Free Cash Flow': '',\n",
              "  'Return on Equity': '',\n",
              "  'Dividend Yield': 0.0},\n",
              " 'SCCO.JK': {'Average Daily Returns': 0.00023973232846953232,\n",
              "  'Beta Alpha': {'beta': array([0.03]), 'alpha': array([0.])},\n",
              "  'Sharpe Ratio': 0.25,\n",
              "  'Piotroski F-Score': '',\n",
              "  'Revenue Growth': -7.971650826223847,\n",
              "  'Earning per Share': 289.2762437046019,\n",
              "  'Price to Earning': 8.815103402006164,\n",
              "  'Debt to Equity': 0,\n",
              "  'Free Cash Flow': '',\n",
              "  'Return on Equity': 7.23304034096341,\n",
              "  'Dividend Yield': 126.66666666666666},\n",
              " 'SCMA.JK': {'Average Daily Returns': -3.304801966890127e-05,\n",
              "  'Beta Alpha': {'beta': array([0.016]), 'alpha': array([-0.])},\n",
              "  'Sharpe Ratio': -0.02,\n",
              "  'Piotroski F-Score': '',\n",
              "  'Revenue Growth': -13.981641297020039,\n",
              "  'Earning per Share': 18.167845797559767,\n",
              "  'Price to Earning': 8.751725535966198,\n",
              "  'Debt to Equity': 0.00424390621182275,\n",
              "  'Free Cash Flow': '',\n",
              "  'Return on Equity': 35.09384771877021,\n",
              "  'Dividend Yield': 1054.817610062893},\n",
              " 'SCNP.JK': {'Average Daily Returns': 0.0005717623150216988,\n",
              "  'Beta Alpha': '',\n",
              "  'Sharpe Ratio': 0.24,\n",
              "  'Piotroski F-Score': '',\n",
              "  'Revenue Growth': '',\n",
              "  'Earning per Share': '',\n",
              "  'Price to Earning': 0,\n",
              "  'Debt to Equity': 0,\n",
              "  'Free Cash Flow': '',\n",
              "  'Return on Equity': '',\n",
              "  'Dividend Yield': 0.0},\n",
              " 'SCPI.JK': {'Average Daily Returns': 0.0,\n",
              "  'Beta Alpha': {'beta': array([0.]), 'alpha': array([0.])},\n",
              "  'Sharpe Ratio': nan,\n",
              "  'Piotroski F-Score': '',\n",
              "  'Revenue Growth': '',\n",
              "  'Earning per Share': '',\n",
              "  'Price to Earning': 0,\n",
              "  'Debt to Equity': 0,\n",
              "  'Free Cash Flow': '',\n",
              "  'Return on Equity': '',\n",
              "  'Dividend Yield': 0.0},\n",
              " 'SDMU.JK': {'Average Daily Returns': 0.0010507994131014238,\n",
              "  'Beta Alpha': {'beta': array([-0.021]), 'alpha': array([0.001])},\n",
              "  'Sharpe Ratio': 0.34,\n",
              "  'Piotroski F-Score': '',\n",
              "  'Revenue Growth': 7.730555808945236,\n",
              "  'Earning per Share': -37.38892389355858,\n",
              "  'Price to Earning': -1.337294438918422,\n",
              "  'Debt to Equity': 22.81654171626808,\n",
              "  'Free Cash Flow': '',\n",
              "  'Return on Equity': -679.2762263757576,\n",
              "  'Dividend Yield': 15.64},\n",
              " 'SDPC.JK': {'Average Daily Returns': 0.0013574373509824184,\n",
              "  'Beta Alpha': {'beta': array([0.142]), 'alpha': array([0.001])},\n",
              "  'Sharpe Ratio': 0.47,\n",
              "  'Piotroski F-Score': '',\n",
              "  'Revenue Growth': -11.550336300335946,\n",
              "  'Earning per Share': 2.2012017786499216,\n",
              "  'Price to Earning': 66.78170144409047,\n",
              "  'Debt to Equity': 3.265859886955188,\n",
              "  'Free Cash Flow': '',\n",
              "  'Return on Equity': 1.2235488786503586,\n",
              "  'Dividend Yield': 9.80056462585034},\n",
              " 'SDRA.JK': {'Average Daily Returns': 7.705722602669289e-05,\n",
              "  'Beta Alpha': {'beta': array([-0.059]), 'alpha': array([0.])},\n",
              "  'Sharpe Ratio': 0.05,\n",
              "  'Piotroski F-Score': 5,\n",
              "  'Revenue Growth': -14.403514040180362,\n",
              "  'Earning per Share': 62.556794928049435,\n",
              "  'Price to Earning': 8.951865271296136,\n",
              "  'Debt to Equity': 1.6612534254277729,\n",
              "  'Free Cash Flow': -4865238000000.0,\n",
              "  'Return on Equity': 7.371793946090556,\n",
              "  'Dividend Yield': 26.011333928571435},\n",
              " 'SEMA.JK': {'Average Daily Returns': -0.0003622114876964316,\n",
              "  'Beta Alpha': '',\n",
              "  'Sharpe Ratio': -0.14,\n",
              "  'Piotroski F-Score': '',\n",
              "  'Revenue Growth': '',\n",
              "  'Earning per Share': '',\n",
              "  'Price to Earning': 0,\n",
              "  'Debt to Equity': 0,\n",
              "  'Free Cash Flow': '',\n",
              "  'Return on Equity': '',\n",
              "  'Dividend Yield': 0.0},\n",
              " 'SFAN.JK': {'Average Daily Returns': 0.0007848278965021585,\n",
              "  'Beta Alpha': {'beta': array([-0.018]), 'alpha': array([0.001])},\n",
              "  'Sharpe Ratio': 1.28,\n",
              "  'Piotroski F-Score': '',\n",
              "  'Revenue Growth': 63.78205693659591,\n",
              "  'Earning per Share': 5.356544441776203,\n",
              "  'Price to Earning': 345.37191282717134,\n",
              "  'Debt to Equity': 0.021124936579033707,\n",
              "  'Free Cash Flow': '',\n",
              "  'Return on Equity': 3.912019375500374,\n",
              "  'Dividend Yield': 0.0},\n",
              " 'SGER.JK': {'Average Daily Returns': 0.005306838077892518,\n",
              "  'Beta Alpha': '',\n",
              "  'Sharpe Ratio': 1.55,\n",
              "  'Piotroski F-Score': '',\n",
              "  'Revenue Growth': -62.44093617667982,\n",
              "  'Earning per Share': 45.798294681024394,\n",
              "  'Price to Earning': 49.128466805822846,\n",
              "  'Debt to Equity': 1.0968192826662138,\n",
              "  'Free Cash Flow': '',\n",
              "  'Return on Equity': 49.77818352690974,\n",
              "  'Dividend Yield': 0.4253968444444444},\n",
              " 'SGRO.JK': {'Average Daily Returns': 0.00010864266359653614,\n",
              "  'Beta Alpha': {'beta': array([0.048]), 'alpha': array([0.])},\n",
              "  'Sharpe Ratio': 0.1,\n",
              "  'Piotroski F-Score': '',\n",
              "  'Revenue Growth': -32.93705184958806,\n",
              "  'Earning per Share': -110.75485613038711,\n",
              "  'Price to Earning': -18.05789894797464,\n",
              "  'Debt to Equity': 0.8444644888635028,\n",
              "  'Free Cash Flow': '',\n",
              "  'Return on Equity': -5.56061529219588,\n",
              "  'Dividend Yield': 34.665},\n",
              " 'SHID.JK': {'Average Daily Returns': 0.00020079013558838376,\n",
              "  'Beta Alpha': {'beta': array([0.041]), 'alpha': array([0.])},\n",
              "  'Sharpe Ratio': 0.07,\n",
              "  'Piotroski F-Score': '',\n",
              "  'Revenue Growth': -19.880154166304866,\n",
              "  'Earning per Share': -46.39586485218701,\n",
              "  'Price to Earning': -31.468321684517072,\n",
              "  'Debt to Equity': 0.5170981842064453,\n",
              "  'Free Cash Flow': '',\n",
              "  'Return on Equity': -5.9418805143355895,\n",
              "  'Dividend Yield': 0.45890410958904115},\n",
              " 'SHIP.JK': {'Average Daily Returns': 0.0013783360853900468,\n",
              "  'Beta Alpha': {'beta': array([-0.158]), 'alpha': array([0.001])},\n",
              "  'Sharpe Ratio': 0.66,\n",
              "  'Piotroski F-Score': '',\n",
              "  'Revenue Growth': -15.477569219571258,\n",
              "  'Earning per Share': 0.006226295597048431,\n",
              "  'Price to Earning': 175867.01160142213,\n",
              "  'Debt to Equity': 2.359045141144172,\n",
              "  'Free Cash Flow': '',\n",
              "  'Return on Equity': 17.320112749277584,\n",
              "  'Dividend Yield': 6.210045662100456},\n",
              " 'SICO.JK': {'Average Daily Returns': -0.0009065672416601406,\n",
              "  'Beta Alpha': '',\n",
              "  'Sharpe Ratio': -0.29,\n",
              "  'Piotroski F-Score': '',\n",
              "  'Revenue Growth': '',\n",
              "  'Earning per Share': '',\n",
              "  'Price to Earning': 0,\n",
              "  'Debt to Equity': 0,\n",
              "  'Free Cash Flow': '',\n",
              "  'Return on Equity': '',\n",
              "  'Dividend Yield': 0.0},\n",
              " 'SIDO.JK': {'Average Daily Returns': -5.985702635733516e-05,\n",
              "  'Beta Alpha': {'beta': array([0.023]), 'alpha': array([-0.])},\n",
              "  'Sharpe Ratio': -0.05,\n",
              "  'Piotroski F-Score': '',\n",
              "  'Revenue Growth': -17.049798805266377,\n",
              "  'Earning per Share': 31.133865603964054,\n",
              "  'Price to Earning': 20.074603261614364,\n",
              "  'Debt to Equity': 0.002914890697646267,\n",
              "  'Free Cash Flow': '',\n",
              "  'Return on Equity': 28.99110509778433,\n",
              "  'Dividend Yield': 32.19200000000001},\n",
              " 'SILO.JK': {'Average Daily Returns': 0.0017967340035580503,\n",
              "  'Beta Alpha': {'beta': array([-0.047]), 'alpha': array([0.002])},\n",
              "  'Sharpe Ratio': 1.03,\n",
              "  'Piotroski F-Score': '',\n",
              "  'Revenue Growth': -24.21438279340487,\n",
              "  'Earning per Share': 8.95718158796868,\n",
              "  'Price to Earning': 246.72939565817,\n",
              "  'Debt to Equity': 0.1454989890129794,\n",
              "  'Free Cash Flow': '',\n",
              "  'Return on Equity': 1.948140484537118,\n",
              "  'Dividend Yield': 6.524886877828054},\n",
              " 'SIMA.JK': {'Average Daily Returns': 0.0,\n",
              "  'Beta Alpha': {'beta': array([0.]), 'alpha': array([0.])},\n",
              "  'Sharpe Ratio': nan,\n",
              "  'Piotroski F-Score': '',\n",
              "  'Revenue Growth': '',\n",
              "  'Earning per Share': '',\n",
              "  'Price to Earning': 0,\n",
              "  'Debt to Equity': 0,\n",
              "  'Free Cash Flow': '',\n",
              "  'Return on Equity': '',\n",
              "  'Dividend Yield': 90.0},\n",
              " 'SIMP.JK': {'Average Daily Returns': 0.0005531409665214123,\n",
              "  'Beta Alpha': {'beta': array([0.015]), 'alpha': array([0.001])},\n",
              "  'Sharpe Ratio': 0.49,\n",
              "  'Piotroski F-Score': '',\n",
              "  'Revenue Growth': -26.36936364872468,\n",
              "  'Earning per Share': 15.113635911357573,\n",
              "  'Price to Earning': 24.481203740124037,\n",
              "  'Debt to Equity': 0.5709382248167484,\n",
              "  'Free Cash Flow': '',\n",
              "  'Return on Equity': 1.5631096488582703,\n",
              "  'Dividend Yield': 26.216216216216214},\n",
              " 'SINI.JK': {'Average Daily Returns': 0.0021393275371397085,\n",
              "  'Beta Alpha': {'beta': array([0.031]), 'alpha': array([0.002])},\n",
              "  'Sharpe Ratio': 0.59,\n",
              "  'Piotroski F-Score': '',\n",
              "  'Revenue Growth': '',\n",
              "  'Earning per Share': '',\n",
              "  'Price to Earning': 0,\n",
              "  'Debt to Equity': 0,\n",
              "  'Free Cash Flow': '',\n",
              "  'Return on Equity': '',\n",
              "  'Dividend Yield': 0.0},\n",
              " 'SIPD.JK': {'Average Daily Returns': 0.0008642461208763094,\n",
              "  'Beta Alpha': {'beta': array([0.15]), 'alpha': array([0.001])},\n",
              "  'Sharpe Ratio': 0.31,\n",
              "  'Piotroski F-Score': '',\n",
              "  'Revenue Growth': -19.95804028707686,\n",
              "  'Earning per Share': 1961.5595075239398,\n",
              "  'Price to Earning': 0.4945044982216333,\n",
              "  'Debt to Equity': 1.0243414424668726,\n",
              "  'Free Cash Flow': '',\n",
              "  'Return on Equity': 1.5918638317524603,\n",
              "  'Dividend Yield': 0.2061855670103093},\n",
              " 'SKBM.JK': {'Average Daily Returns': 0.0010492007556764486,\n",
              "  'Beta Alpha': {'beta': array([0.034]), 'alpha': array([0.001])},\n",
              "  'Sharpe Ratio': 0.33,\n",
              "  'Piotroski F-Score': '',\n",
              "  'Revenue Growth': -17.73329541589366,\n",
              "  'Earning per Share': 5.977156468567717,\n",
              "  'Price to Earning': 46.175803068132964,\n",
              "  'Debt to Equity': 0.6512635343640054,\n",
              "  'Free Cash Flow': '',\n",
              "  'Return on Equity': 1.1534821222150922,\n",
              "  'Dividend Yield': 9.289855072463766},\n",
              " 'SKLT.JK': {'Average Daily Returns': 0.0013270635168517674,\n",
              "  'Beta Alpha': {'beta': array([0.033]), 'alpha': array([0.001])},\n",
              "  'Sharpe Ratio': 0.45,\n",
              "  'Piotroski F-Score': '',\n",
              "  'Revenue Growth': -7.601842315847683,\n",
              "  'Earning per Share': 6.15590860020638,\n",
              "  'Price to Earning': 31.351992457056557,\n",
              "  'Debt to Equity': 0.35434755296128323,\n",
              "  'Free Cash Flow': '',\n",
              "  'Return on Equity': 10.433818629355208,\n",
              "  'Dividend Yield': 45.59585492227979},\n",
              " 'SKRN.JK': {'Average Daily Returns': 0.002537153929217557,\n",
              "  'Beta Alpha': {'beta': array([0.227]), 'alpha': array([0.002])},\n",
              "  'Sharpe Ratio': 0.99,\n",
              "  'Piotroski F-Score': '',\n",
              "  'Revenue Growth': 21.048719534088185,\n",
              "  'Earning per Share': 1.37348273843695,\n",
              "  'Price to Earning': 389.5207307875164,\n",
              "  'Debt to Equity': 1.3328807646784475,\n",
              "  'Free Cash Flow': '',\n",
              "  'Return on Equity': 1.7270877285346538,\n",
              "  'Dividend Yield': 17.75700934579439},\n",
              " 'SKYB.JK': {'Average Daily Returns': 0.0,\n",
              "  'Beta Alpha': {'beta': array([0.]), 'alpha': array([0.])},\n",
              "  'Sharpe Ratio': nan,\n",
              "  'Piotroski F-Score': '',\n",
              "  'Revenue Growth': '',\n",
              "  'Earning per Share': '',\n",
              "  'Price to Earning': 0,\n",
              "  'Debt to Equity': 0,\n",
              "  'Free Cash Flow': '',\n",
              "  'Return on Equity': '',\n",
              "  'Dividend Yield': 0.0},\n",
              " 'SLIS.JK': {'Average Daily Returns': -0.003797261206148742,\n",
              "  'Beta Alpha': {'beta': array([0.145]), 'alpha': array([-0.004])},\n",
              "  'Sharpe Ratio': -1.18,\n",
              "  'Piotroski F-Score': '',\n",
              "  'Revenue Growth': -8.155320492297765,\n",
              "  'Earning per Share': 10.743634040856605,\n",
              "  'Price to Earning': 4.746997133935669,\n",
              "  'Debt to Equity': 0.5803206450817596,\n",
              "  'Free Cash Flow': '',\n",
              "  'Return on Equity': 14.863760907209784,\n",
              "  'Dividend Yield': 1.4705882352941175},\n",
              " 'SMAR.JK': {'Average Daily Returns': 0.00039954268247135554,\n",
              "  'Beta Alpha': {'beta': array([0.063]), 'alpha': array([0.])},\n",
              "  'Sharpe Ratio': 0.33,\n",
              "  'Piotroski F-Score': '',\n",
              "  'Revenue Growth': -29.067819769317488,\n",
              "  'Earning per Share': 535.7382435407949,\n",
              "  'Price to Earning': 7.055684460786798,\n",
              "  'Debt to Equity': 1.2683571934033404,\n",
              "  'Free Cash Flow': '',\n",
              "  'Return on Equity': 12.29452554989474,\n",
              "  'Dividend Yield': 75.6878306878307},\n",
              " 'SMBR.JK': {'Average Daily Returns': 0.00023513200301263662,\n",
              "  'Beta Alpha': {'beta': array([0.043]), 'alpha': array([0.])},\n",
              "  'Sharpe Ratio': 0.11,\n",
              "  'Piotroski F-Score': '',\n",
              "  'Revenue Growth': -1.6943857679318781,\n",
              "  'Earning per Share': 1.1059190731453927,\n",
              "  'Price to Earning': 213.39716958563892,\n",
              "  'Debt to Equity': 0.3141001155026024,\n",
              "  'Free Cash Flow': '',\n",
              "  'Return on Equity': 0.37274534655706165,\n",
              "  'Dividend Yield': 0.26274110169491527},\n",
              " 'SMCB.JK': {'Average Daily Returns': 0.0004477390384115579,\n",
              "  'Beta Alpha': {'beta': array([0.076]), 'alpha': array([0.])},\n",
              "  'Sharpe Ratio': 0.32,\n",
              "  'Piotroski F-Score': '',\n",
              "  'Revenue Growth': -9.894304611416057,\n",
              "  'Earning per Share': 72.1765820695941,\n",
              "  'Price to Earning': 17.803558483290015,\n",
              "  'Debt to Equity': 0.36667862735732865,\n",
              "  'Free Cash Flow': '',\n",
              "  'Return on Equity': 8.57068941342358,\n",
              "  'Dividend Yield': 2.263501945525292},\n",
              " 'SMDM.JK': {'Average Daily Returns': 0.001546915595677835,\n",
              "  'Beta Alpha': {'beta': array([0.09]), 'alpha': array([0.001])},\n",
              "  'Sharpe Ratio': 0.61,\n",
              "  'Piotroski F-Score': '',\n",
              "  'Revenue Growth': -31.83323445514432,\n",
              "  'Earning per Share': -0.17149038785792278,\n",
              "  'Price to Earning': -1049.6215108518345,\n",
              "  'Debt to Equity': 0.04681646207626879,\n",
              "  'Free Cash Flow': '',\n",
              "  'Return on Equity': -0.04587326372796987,\n",
              "  'Dividend Yield': 0.0},\n",
              " 'SMDR.JK': {'Average Daily Returns': 0.0031172736648160753,\n",
              "  'Beta Alpha': {'beta': array([-0.021]), 'alpha': array([0.003])},\n",
              "  'Sharpe Ratio': 1.35,\n",
              "  'Piotroski F-Score': '',\n",
              "  'Revenue Growth': -27.058039642432817,\n",
              "  'Earning per Share': -0.0002040519415399345,\n",
              "  'Price to Earning': -1499618.1741309897,\n",
              "  'Debt to Equity': 2.292099259459808,\n",
              "  'Free Cash Flow': '',\n",
              "  'Return on Equity': -1.9783805281306848,\n",
              "  'Dividend Yield': 896.0784313725491},\n",
              " 'SMGA.JK': {'Average Daily Returns': -0.048334513021510206,\n",
              "  'Beta Alpha': '',\n",
              "  'Sharpe Ratio': -13.2,\n",
              "  'Piotroski F-Score': '',\n",
              "  'Revenue Growth': '',\n",
              "  'Earning per Share': '',\n",
              "  'Price to Earning': 0,\n",
              "  'Debt to Equity': 0,\n",
              "  'Free Cash Flow': '',\n",
              "  'Return on Equity': '',\n",
              "  'Dividend Yield': 0.0},\n",
              " 'SMGR.JK': {'Average Daily Returns': -0.00027296234547465883,\n",
              "  'Beta Alpha': {'beta': array([-0.048]), 'alpha': array([-0.])},\n",
              "  'Sharpe Ratio': -0.2,\n",
              "  'Piotroski F-Score': '',\n",
              "  'Revenue Growth': -4.1704006514468945,\n",
              "  'Earning per Share': 413.58281330740095,\n",
              "  'Price to Earning': 14.265583119419293,\n",
              "  'Debt to Equity': 0.45968070205578193,\n",
              "  'Free Cash Flow': '',\n",
              "  'Return on Equity': 7.641400001882764,\n",
              "  'Dividend Yield': 86.78000000000002},\n",
              " 'SMIL.JK': {'Average Daily Returns': 1.2528767043702022e-05,\n",
              "  'Beta Alpha': '',\n",
              "  'Sharpe Ratio': 0.0,\n",
              "  'Piotroski F-Score': '',\n",
              "  'Revenue Growth': '',\n",
              "  'Earning per Share': '',\n",
              "  'Price to Earning': 0,\n",
              "  'Debt to Equity': 0,\n",
              "  'Free Cash Flow': '',\n",
              "  'Return on Equity': '',\n",
              "  'Dividend Yield': 0.0},\n",
              " 'SMKL.JK': {'Average Daily Returns': 0.0006089808994860579,\n",
              "  'Beta Alpha': {'beta': array([-0.056]), 'alpha': array([0.001])},\n",
              "  'Sharpe Ratio': 0.29,\n",
              "  'Piotroski F-Score': '',\n",
              "  'Revenue Growth': '',\n",
              "  'Earning per Share': '',\n",
              "  'Price to Earning': 0,\n",
              "  'Debt to Equity': 0,\n",
              "  'Free Cash Flow': '',\n",
              "  'Return on Equity': '',\n",
              "  'Dividend Yield': 6.666666666666667},\n",
              " 'SMKM.JK': {'Average Daily Returns': -0.0022927146358471652,\n",
              "  'Beta Alpha': '',\n",
              "  'Sharpe Ratio': -0.82,\n",
              "  'Piotroski F-Score': '',\n",
              "  'Revenue Growth': '',\n",
              "  'Earning per Share': '',\n",
              "  'Price to Earning': 0,\n",
              "  'Debt to Equity': 0,\n",
              "  'Free Cash Flow': '',\n",
              "  'Return on Equity': '',\n",
              "  'Dividend Yield': 0.0},\n",
              " 'SMLE.JK': {'Average Daily Returns': -0.026285415739015196,\n",
              "  'Beta Alpha': '',\n",
              "  'Sharpe Ratio': -3.32,\n",
              "  'Piotroski F-Score': '',\n",
              "  'Revenue Growth': '',\n",
              "  'Earning per Share': '',\n",
              "  'Price to Earning': 0,\n",
              "  'Debt to Equity': 0,\n",
              "  'Free Cash Flow': '',\n",
              "  'Return on Equity': '',\n",
              "  'Dividend Yield': 0.0},\n",
              " 'SMMA.JK': {'Average Daily Returns': 0.0006891785439335573,\n",
              "  'Beta Alpha': {'beta': array([-0.101]), 'alpha': array([0.001])},\n",
              "  'Sharpe Ratio': 0.5,\n",
              "  'Piotroski F-Score': 4,\n",
              "  'Revenue Growth': -6.394704543956507,\n",
              "  'Earning per Share': -141.8083299409015,\n",
              "  'Price to Earning': -102.6032815284102,\n",
              "  'Debt to Equity': 0.5180708855324604,\n",
              "  'Free Cash Flow': 3363493000000.0,\n",
              "  'Return on Equity': -0.09836882251682016,\n",
              "  'Dividend Yield': 0.06185567010309278},\n",
              " 'SMMT.JK': {'Average Daily Returns': 0.0034601015209875206,\n",
              "  'Beta Alpha': {'beta': array([0.174]), 'alpha': array([0.003])},\n",
              "  'Sharpe Ratio': 1.22,\n",
              "  'Piotroski F-Score': '',\n",
              "  'Revenue Growth': -58.79272024551911,\n",
              "  'Earning per Share': -5.247317355029644,\n",
              "  'Price to Earning': -159.12893074775403,\n",
              "  'Debt to Equity': 0,\n",
              "  'Free Cash Flow': '',\n",
              "  'Return on Equity': -2.8655262724138972,\n",
              "  'Dividend Yield': 0.0},\n",
              " 'SMRA.JK': {'Average Daily Returns': 0.0003286135856382076,\n",
              "  'Beta Alpha': {'beta': array([-0.053]), 'alpha': array([0.])},\n",
              "  'Sharpe Ratio': 0.2,\n",
              "  'Piotroski F-Score': '',\n",
              "  'Revenue Growth': -9.661223493739492,\n",
              "  'Earning per Share': 10.893431575912064,\n",
              "  'Price to Earning': 49.11216417634739,\n",
              "  'Debt to Equity': 0.9477097426604324,\n",
              "  'Free Cash Flow': '',\n",
              "  'Return on Equity': 2.6269260814251334,\n",
              "  'Dividend Yield': 43.00000000000001},\n",
              " 'SMRU.JK': {'Average Daily Returns': 0.0,\n",
              "  'Beta Alpha': {'beta': array([0.]), 'alpha': array([0.])},\n",
              "  'Sharpe Ratio': nan,\n",
              "  'Piotroski F-Score': '',\n",
              "  'Revenue Growth': -9.135387493442176,\n",
              "  'Earning per Share': '',\n",
              "  'Price to Earning': 0,\n",
              "  'Debt to Equity': 0,\n",
              "  'Free Cash Flow': '',\n",
              "  'Return on Equity': -71.9868645370056,\n",
              "  'Dividend Yield': 0.0},\n",
              " 'SMSM.JK': {'Average Daily Returns': 0.0010170406261043267,\n",
              "  'Beta Alpha': {'beta': array([0.176]), 'alpha': array([0.001])},\n",
              "  'Sharpe Ratio': 0.75,\n",
              "  'Piotroski F-Score': '',\n",
              "  'Revenue Growth': -22.321724765555807,\n",
              "  'Earning per Share': 84.6968393068207,\n",
              "  'Price to Earning': 23.61363205957248,\n",
              "  'Debt to Equity': 0.13633935883745726,\n",
              "  'Free Cash Flow': '',\n",
              "  'Return on Equity': 21.445571763050573,\n",
              "  'Dividend Yield': 55.2},\n",
              " 'SNLK.JK': {'Average Daily Returns': 0.0025198100825496693,\n",
              "  'Beta Alpha': '',\n",
              "  'Sharpe Ratio': 0.77,\n",
              "  'Piotroski F-Score': '',\n",
              "  'Revenue Growth': '',\n",
              "  'Earning per Share': '',\n",
              "  'Price to Earning': 0,\n",
              "  'Debt to Equity': 0,\n",
              "  'Free Cash Flow': '',\n",
              "  'Return on Equity': '',\n",
              "  'Dividend Yield': 0.0},\n",
              " 'SOCI.JK': {'Average Daily Returns': 0.00074102036289971,\n",
              "  'Beta Alpha': {'beta': array([-0.043]), 'alpha': array([0.001])},\n",
              "  'Sharpe Ratio': 0.4,\n",
              "  'Piotroski F-Score': '',\n",
              "  'Revenue Growth': 0.9361932658449005,\n",
              "  'Earning per Share': 0.003861844558928199,\n",
              "  'Price to Earning': 43243.58410902704,\n",
              "  'Debt to Equity': 0.5907172233890677,\n",
              "  'Free Cash Flow': '',\n",
              "  'Return on Equity': 7.558996377384047,\n",
              "  'Dividend Yield': 9.281437125748502},\n",
              " 'SOFA.JK': {'Average Daily Returns': -0.0015664480391315355,\n",
              "  'Beta Alpha': '',\n",
              "  'Sharpe Ratio': -0.7,\n",
              "  'Piotroski F-Score': '',\n",
              "  'Revenue Growth': '',\n",
              "  'Earning per Share': '',\n",
              "  'Price to Earning': 0,\n",
              "  'Debt to Equity': 0,\n",
              "  'Free Cash Flow': '',\n",
              "  'Return on Equity': '',\n",
              "  'Dividend Yield': 0.0},\n",
              " 'SOHO.JK': {'Average Daily Returns': 0.0014294489616353246,\n",
              "  'Beta Alpha': '',\n",
              "  'Sharpe Ratio': 0.64,\n",
              "  'Piotroski F-Score': '',\n",
              "  'Revenue Growth': -12.89151862506296,\n",
              "  'Earning per Share': 13.560673818753521,\n",
              "  'Price to Earning': 36.72383884872289,\n",
              "  'Debt to Equity': 0.008169212687170553,\n",
              "  'Free Cash Flow': '',\n",
              "  'Return on Equity': 7.795879745198464,\n",
              "  'Dividend Yield': 134.33734939759037},\n",
              " 'SONA.JK': {'Average Daily Returns': -0.0013473958998741033,\n",
              "  'Beta Alpha': {'beta': array([-0.077]), 'alpha': array([-0.001])},\n",
              "  'Sharpe Ratio': -0.88,\n",
              "  'Piotroski F-Score': '',\n",
              "  'Revenue Growth': 261.7935094784268,\n",
              "  'Earning per Share': -198.37505593900966,\n",
              "  'Price to Earning': -3.8311268339788738,\n",
              "  'Debt to Equity': 0.26407079457691773,\n",
              "  'Free Cash Flow': '',\n",
              "  'Return on Equity': -18.699599149045895,\n",
              "  'Dividend Yield': 78.88157894736842},\n",
              " 'SOSS.JK': {'Average Daily Returns': 0.000856680512106746,\n",
              "  'Beta Alpha': {'beta': array([0.058]), 'alpha': array([0.001])},\n",
              "  'Sharpe Ratio': 0.37,\n",
              "  'Piotroski F-Score': '',\n",
              "  'Revenue Growth': '',\n",
              "  'Earning per Share': '',\n",
              "  'Price to Earning': 0,\n",
              "  'Debt to Equity': 0,\n",
              "  'Free Cash Flow': '',\n",
              "  'Return on Equity': '',\n",
              "  'Dividend Yield': 0.0},\n",
              " 'SOTS.JK': {'Average Daily Returns': 0.001500101082367362,\n",
              "  'Beta Alpha': {'beta': array([-0.08]), 'alpha': array([0.002])},\n",
              "  'Sharpe Ratio': 0.51,\n",
              "  'Piotroski F-Score': '',\n",
              "  'Revenue Growth': '',\n",
              "  'Earning per Share': '',\n",
              "  'Price to Earning': 0,\n",
              "  'Debt to Equity': 0,\n",
              "  'Free Cash Flow': '',\n",
              "  'Return on Equity': '',\n",
              "  'Dividend Yield': 0.0},\n",
              " 'SOUL.JK': {'Average Daily Returns': -0.0030643715641498967,\n",
              "  'Beta Alpha': '',\n",
              "  'Sharpe Ratio': -1.13,\n",
              "  'Piotroski F-Score': '',\n",
              "  'Revenue Growth': '',\n",
              "  'Earning per Share': '',\n",
              "  'Price to Earning': 0,\n",
              "  'Debt to Equity': 0,\n",
              "  'Free Cash Flow': '',\n",
              "  'Return on Equity': '',\n",
              "  'Dividend Yield': 0.0},\n",
              " 'SPMA.JK': {'Average Daily Returns': 0.0012189083373313717,\n",
              "  'Beta Alpha': {'beta': array([0.013]), 'alpha': array([0.001])},\n",
              "  'Sharpe Ratio': 0.64,\n",
              "  'Piotroski F-Score': '',\n",
              "  'Revenue Growth': -23.00835853688355,\n",
              "  'Earning per Share': 51.52822257369053,\n",
              "  'Price to Earning': 6.831207878296301,\n",
              "  'Debt to Equity': 0.49681445675297814,\n",
              "  'Free Cash Flow': '',\n",
              "  'Return on Equity': 10.61287016024232,\n",
              "  'Dividend Yield': 8.238636363636363},\n",
              " 'SPTO.JK': {'Average Daily Returns': 0.00026858890764179283,\n",
              "  'Beta Alpha': {'beta': array([-0.071]), 'alpha': array([0.])},\n",
              "  'Sharpe Ratio': 0.25,\n",
              "  'Piotroski F-Score': '',\n",
              "  'Revenue Growth': -14.632159027714179,\n",
              "  'Earning per Share': 42.5869409337037,\n",
              "  'Price to Earning': 12.91475715187434,\n",
              "  'Debt to Equity': 0.27755277347675406,\n",
              "  'Free Cash Flow': '',\n",
              "  'Return on Equity': 9.489366668363358,\n",
              "  'Dividend Yield': 24.181818181818183},\n",
              " 'SQMI.JK': {'Average Daily Returns': -0.0007020527254797542,\n",
              "  'Beta Alpha': {'beta': array([-0.031]), 'alpha': array([-0.001])},\n",
              "  'Sharpe Ratio': -0.28,\n",
              "  'Piotroski F-Score': '',\n",
              "  'Revenue Growth': 7.1910563119720505,\n",
              "  'Earning per Share': -2.0504384894819982,\n",
              "  'Price to Earning': -25.36042913100834,\n",
              "  'Debt to Equity': -1.4046009343089123,\n",
              "  'Free Cash Flow': '',\n",
              "  'Return on Equity': 17.922643011822608,\n",
              "  'Dividend Yield': 0.0},\n",
              " 'SRAJ.JK': {'Average Daily Returns': 0.00338564629061801,\n",
              "  'Beta Alpha': {'beta': array([-0.032]), 'alpha': array([0.003])},\n",
              "  'Sharpe Ratio': 0.97,\n",
              "  'Piotroski F-Score': '',\n",
              "  'Revenue Growth': -33.290212069202255,\n",
              "  'Earning per Share': -1.1983156447124494,\n",
              "  'Price to Earning': -1005.5781256942151,\n",
              "  'Debt to Equity': 1.8209245056203989,\n",
              "  'Free Cash Flow': '',\n",
              "  'Return on Equity': -0.8199006528571801,\n",
              "  'Dividend Yield': 0.0},\n",
              " 'SRIL.JK': {'Average Daily Returns': -0.00018735221525195057,\n",
              "  'Beta Alpha': {'beta': array([-0.025]), 'alpha': array([-0.])},\n",
              "  'Sharpe Ratio': -0.21,\n",
              "  'Piotroski F-Score': '',\n",
              "  'Revenue Growth': 51.3314902080236,\n",
              "  'Earning per Share': 0.004171928014148906,\n",
              "  'Price to Earning': 34995.80997199558,\n",
              "  'Debt to Equity': 2.021238053335673,\n",
              "  'Free Cash Flow': '',\n",
              "  'Return on Equity': 12.689312838091777,\n",
              "  'Dividend Yield': 19.43835616438356},\n",
              " 'SRSN.JK': {'Average Daily Returns': 0.00036340533612201945,\n",
              "  'Beta Alpha': {'beta': array([-0.049]), 'alpha': array([0.])},\n",
              "  'Sharpe Ratio': 0.24,\n",
              "  'Piotroski F-Score': '',\n",
              "  'Revenue Growth': -1.854502921716357,\n",
              "  'Earning per Share': 7.334260278666218,\n",
              "  'Price to Earning': 8.180784117319515,\n",
              "  'Debt to Equity': 0.3727230601667022,\n",
              "  'Free Cash Flow': '',\n",
              "  'Return on Equity': 7.510323431018673,\n",
              "  'Dividend Yield': 6.666666666666667},\n",
              " 'SRTG.JK': {'Average Daily Returns': 0.0015979081164360254,\n",
              "  'Beta Alpha': {'beta': array([-0.122]), 'alpha': array([0.002])},\n",
              "  'Sharpe Ratio': 0.87,\n",
              "  'Piotroski F-Score': '',\n",
              "  'Revenue Growth': -64.75451412610391,\n",
              "  'Earning per Share': 651.9582299288833,\n",
              "  'Price to Earning': 2.339106908990703,\n",
              "  'Debt to Equity': 0.02339977735780975,\n",
              "  'Free Cash Flow': '',\n",
              "  'Return on Equity': 28.126594194614675,\n",
              "  'Dividend Yield': 28.918032786885245},\n",
              " 'SSIA.JK': {'Average Daily Returns': 0.0004181284166383745,\n",
              "  'Beta Alpha': {'beta': array([0.183]), 'alpha': array([0.])},\n",
              "  'Sharpe Ratio': 0.24,\n",
              "  'Piotroski F-Score': '',\n",
              "  'Revenue Growth': 25.262873967076388,\n",
              "  'Earning per Share': -19.217623480082487,\n",
              "  'Price to Earning': -32.262053663533365,\n",
              "  'Debt to Equity': 0.646191369504516,\n",
              "  'Free Cash Flow': '',\n",
              "  'Return on Equity': -2.333681724322647,\n",
              "  'Dividend Yield': 22.85645161290323},\n",
              " 'SSMS.JK': {'Average Daily Returns': 0.0009066263408006895,\n",
              "  'Beta Alpha': {'beta': array([0.054]), 'alpha': array([0.001])},\n",
              "  'Sharpe Ratio': 0.49,\n",
              "  'Piotroski F-Score': '',\n",
              "  'Revenue Growth': -22.908840625529034,\n",
              "  'Earning per Share': 60.53900392404318,\n",
              "  'Price to Earning': 17.839738515603095,\n",
              "  'Debt to Equity': 1.069914945173842,\n",
              "  'Free Cash Flow': '',\n",
              "  'Return on Equity': 11.895384992935993,\n",
              "  'Dividend Yield': 11.309564814814815},\n",
              " 'SSTM.JK': {'Average Daily Returns': 0.0005213590619686807,\n",
              "  'Beta Alpha': {'beta': array([-0.074]), 'alpha': array([0.001])},\n",
              "  'Sharpe Ratio': 0.25,\n",
              "  'Piotroski F-Score': '',\n",
              "  'Revenue Growth': '',\n",
              "  'Earning per Share': '',\n",
              "  'Price to Earning': 0,\n",
              "  'Debt to Equity': 0,\n",
              "  'Free Cash Flow': '',\n",
              "  'Return on Equity': '',\n",
              "  'Dividend Yield': 0.6024096385542169},\n",
              " 'STAA.JK': {'Average Daily Returns': 0.0004439564653188869,\n",
              "  'Beta Alpha': '',\n",
              "  'Sharpe Ratio': 0.32,\n",
              "  'Piotroski F-Score': '',\n",
              "  'Revenue Growth': -28.551934764578718,\n",
              "  'Earning per Share': 37.605332570832125,\n",
              "  'Price to Earning': 21.539498380297836,\n",
              "  'Debt to Equity': 0.7431488956470538,\n",
              "  'Free Cash Flow': '',\n",
              "  'Return on Equity': 20.903216597121148,\n",
              "  'Dividend Yield': 0.0},\n",
              " 'STAR.JK': {'Average Daily Returns': -5.123706192208343e-05,\n",
              "  'Beta Alpha': {'beta': array([0.071]), 'alpha': array([-0.])},\n",
              "  'Sharpe Ratio': -0.03,\n",
              "  'Piotroski F-Score': '',\n",
              "  'Revenue Growth': -24.524076662556926,\n",
              "  'Earning per Share': 1.2100276827083334,\n",
              "  'Price to Earning': 67.76704464848626,\n",
              "  'Debt to Equity': 0.0017289549326154673,\n",
              "  'Free Cash Flow': '',\n",
              "  'Return on Equity': 1.1713763586583752,\n",
              "  'Dividend Yield': 0.0},\n",
              " 'STRK.JK': {'Average Daily Returns': -0.004221816188058454,\n",
              "  'Beta Alpha': '',\n",
              "  'Sharpe Ratio': -0.54,\n",
              "  'Piotroski F-Score': '',\n",
              "  'Revenue Growth': -39.86454367168076,\n",
              "  'Earning per Share': -0.6956766611925596,\n",
              "  'Price to Earning': -71.87247005568334,\n",
              "  'Debt to Equity': -0.09541048439477354,\n",
              "  'Free Cash Flow': '',\n",
              "  'Return on Equity': 16.523020272403983,\n",
              "  'Dividend Yield': 0.0},\n",
              " 'STTP.JK': {'Average Daily Returns': 0.0007434734203622279,\n",
              "  'Beta Alpha': {'beta': array([0.013]), 'alpha': array([0.001])},\n",
              "  'Sharpe Ratio': 0.35,\n",
              "  'Piotroski F-Score': '',\n",
              "  'Revenue Growth': -9.325082557131276,\n",
              "  'Earning per Share': 479.81897319312975,\n",
              "  'Price to Earning': 22.300076899404292,\n",
              "  'Debt to Equity': 0.004950352427791778,\n",
              "  'Free Cash Flow': '',\n",
              "  'Return on Equity': 23.78928121688553,\n",
              "  'Dividend Yield': 0.7928971962616823},\n",
              " 'SUGI.JK': {'Average Daily Returns': 0.0,\n",
              "  'Beta Alpha': {'beta': array([0.]), 'alpha': array([0.])},\n",
              "  'Sharpe Ratio': nan,\n",
              "  'Piotroski F-Score': '',\n",
              "  'Revenue Growth': '',\n",
              "  'Earning per Share': '',\n",
              "  'Price to Earning': 0,\n",
              "  'Debt to Equity': 0,\n",
              "  'Free Cash Flow': '',\n",
              "  'Return on Equity': '',\n",
              "  'Dividend Yield': 11.5},\n",
              " 'SULI.JK': {'Average Daily Returns': 0.0018914221170148059,\n",
              "  'Beta Alpha': {'beta': array([0.199]), 'alpha': array([0.002])},\n",
              "  'Sharpe Ratio': 0.69,\n",
              "  'Piotroski F-Score': '',\n",
              "  'Revenue Growth': -26.432446453159315,\n",
              "  'Earning per Share': -0.003896903292703588,\n",
              "  'Price to Earning': -32076.75187476302,\n",
              "  'Debt to Equity': -0.5305396332242934,\n",
              "  'Free Cash Flow': '',\n",
              "  'Return on Equity': 116.50499532519936,\n",
              "  'Dividend Yield': 0.0},\n",
              " 'SUNI.JK': {'Average Daily Returns': 0.001184245618666062,\n",
              "  'Beta Alpha': '',\n",
              "  'Sharpe Ratio': 0.66,\n",
              "  'Piotroski F-Score': '',\n",
              "  'Revenue Growth': '',\n",
              "  'Earning per Share': '',\n",
              "  'Price to Earning': 0,\n",
              "  'Debt to Equity': 0,\n",
              "  'Free Cash Flow': '',\n",
              "  'Return on Equity': '',\n",
              "  'Dividend Yield': 0.0},\n",
              " 'SUPR.JK': {'Average Daily Returns': 0.0029750751938676713,\n",
              "  'Beta Alpha': {'beta': array([0.079]), 'alpha': array([0.003])},\n",
              "  'Sharpe Ratio': 1.33,\n",
              "  'Piotroski F-Score': '',\n",
              "  'Revenue Growth': -7.409277131358187,\n",
              "  'Earning per Share': 166.713545126643,\n",
              "  'Price to Earning': 239.33268271447406,\n",
              "  'Debt to Equity': 1.5628810026410205,\n",
              "  'Free Cash Flow': '',\n",
              "  'Return on Equity': 10.463119228802183,\n",
              "  'Dividend Yield': 0.0},\n",
              " 'SURE.JK': {'Average Daily Returns': -0.0007049587257658001,\n",
              "  'Beta Alpha': {'beta': array([0.028]), 'alpha': array([-0.001])},\n",
              "  'Sharpe Ratio': -0.63,\n",
              "  'Piotroski F-Score': '',\n",
              "  'Revenue Growth': -1.1052404663449125,\n",
              "  'Earning per Share': -13.06526437713614,\n",
              "  'Price to Earning': -111.36399218573875,\n",
              "  'Debt to Equity': 4.166670785899067,\n",
              "  'Free Cash Flow': '',\n",
              "  'Return on Equity': -19.35674118213982,\n",
              "  'Dividend Yield': 0.0},\n",
              " 'SURI.JK': {'Average Daily Returns': 0.033613796021813705,\n",
              "  'Beta Alpha': '',\n",
              "  'Sharpe Ratio': 5.15,\n",
              "  'Piotroski F-Score': '',\n",
              "  'Revenue Growth': -7.320787742079163,\n",
              "  'Earning per Share': '',\n",
              "  'Price to Earning': 0,\n",
              "  'Debt to Equity': 0,\n",
              "  'Free Cash Flow': '',\n",
              "  'Return on Equity': 43.144628986272224,\n",
              "  'Dividend Yield': 0.0},\n",
              " 'SWAT.JK': {'Average Daily Returns': 9.346231931282349e-05,\n",
              "  'Beta Alpha': {'beta': array([0.051]), 'alpha': array([0.])},\n",
              "  'Sharpe Ratio': 0.03,\n",
              "  'Piotroski F-Score': '',\n",
              "  'Revenue Growth': '',\n",
              "  'Earning per Share': '',\n",
              "  'Price to Earning': 0,\n",
              "  'Debt to Equity': 0,\n",
              "  'Free Cash Flow': '',\n",
              "  'Return on Equity': '',\n",
              "  'Dividend Yield': 0.0},\n",
              " 'SWID.JK': {'Average Daily Returns': -0.0020877290058591534,\n",
              "  'Beta Alpha': '',\n",
              "  'Sharpe Ratio': -0.94,\n",
              "  'Piotroski F-Score': '',\n",
              "  'Revenue Growth': '',\n",
              "  'Earning per Share': '',\n",
              "  'Price to Earning': 0,\n",
              "  'Debt to Equity': 0,\n",
              "  'Free Cash Flow': '',\n",
              "  'Return on Equity': '',\n",
              "  'Dividend Yield': 0.0},\n",
              " 'TALF.JK': {'Average Daily Returns': 0.0012737289701029947,\n",
              "  'Beta Alpha': {'beta': array([0.027]), 'alpha': array([0.001])},\n",
              "  'Sharpe Ratio': 0.42,\n",
              "  'Piotroski F-Score': '',\n",
              "  'Revenue Growth': '',\n",
              "  'Earning per Share': '',\n",
              "  'Price to Earning': 0,\n",
              "  'Debt to Equity': 0,\n",
              "  'Free Cash Flow': '',\n",
              "  'Return on Equity': '',\n",
              "  'Dividend Yield': 0.0},\n",
              " 'TAMA.JK': {'Average Daily Returns': -0.002053465766197763,\n",
              "  'Beta Alpha': {'beta': array([-0.086]), 'alpha': array([-0.002])},\n",
              "  'Sharpe Ratio': -0.97,\n",
              "  'Piotroski F-Score': '',\n",
              "  'Revenue Growth': '',\n",
              "  'Earning per Share': '',\n",
              "  'Price to Earning': 0,\n",
              "  'Debt to Equity': 0,\n",
              "  'Free Cash Flow': '',\n",
              "  'Return on Equity': '',\n",
              "  'Dividend Yield': 0.0},\n",
              " 'TAMU.JK': {'Average Daily Returns': -0.001986863480788355,\n",
              "  'Beta Alpha': {'beta': array([0.092]), 'alpha': array([-0.002])},\n",
              "  'Sharpe Ratio': -0.97,\n",
              "  'Piotroski F-Score': '',\n",
              "  'Revenue Growth': 33.77725941577047,\n",
              "  'Earning per Share': -2.4779387850791015e-05,\n",
              "  'Price to Earning': -282492.8542282994,\n",
              "  'Debt to Equity': 0.61041094165216,\n",
              "  'Free Cash Flow': '',\n",
              "  'Return on Equity': -2.310942619584262,\n",
              "  'Dividend Yield': 0.0},\n",
              " 'TAPG.JK': {'Average Daily Returns': 0.0015382091188565377,\n",
              "  'Beta Alpha': '',\n",
              "  'Sharpe Ratio': 0.78,\n",
              "  'Piotroski F-Score': '',\n",
              "  'Revenue Growth': -16.12485132897205,\n",
              "  'Earning per Share': 45.89185011838734,\n",
              "  'Price to Earning': 12.529457812589182,\n",
              "  'Debt to Equity': 0.1733064970704384,\n",
              "  'Free Cash Flow': '',\n",
              "  'Return on Equity': 14.083846894194766,\n",
              "  'Dividend Yield': 2.6278260869565218},\n",
              " 'TARA.JK': {'Average Daily Returns': -0.0030683814031298626,\n",
              "  'Beta Alpha': {'beta': array([0.132]), 'alpha': array([-0.003])},\n",
              "  'Sharpe Ratio': -1.63,\n",
              "  'Piotroski F-Score': '',\n",
              "  'Revenue Growth': -81.34437401620058,\n",
              "  'Earning per Share': -1.2577969787284473,\n",
              "  'Price to Earning': -6.360326932958204,\n",
              "  'Debt to Equity': 0,\n",
              "  'Free Cash Flow': '',\n",
              "  'Return on Equity': -1.2265544698102335,\n",
              "  'Dividend Yield': 0.0},\n",
              " 'TAXI.JK': {'Average Daily Returns': 0.0,\n",
              "  'Beta Alpha': {'beta': array([0.]), 'alpha': array([0.])},\n",
              "  'Sharpe Ratio': nan,\n",
              "  'Piotroski F-Score': '',\n",
              "  'Revenue Growth': 196.59167119758462,\n",
              "  'Earning per Share': -5.196503383882126,\n",
              "  'Price to Earning': -9.621854602285806,\n",
              "  'Debt to Equity': 0,\n",
              "  'Free Cash Flow': '',\n",
              "  'Return on Equity': 10.231736531605177,\n",
              "  'Dividend Yield': 44.0},\n",
              " 'TAYS.JK': {'Average Daily Returns': -0.001011974891020201,\n",
              "  'Beta Alpha': '',\n",
              "  'Sharpe Ratio': -0.3,\n",
              "  'Piotroski F-Score': '',\n",
              "  'Revenue Growth': '',\n",
              "  'Earning per Share': '',\n",
              "  'Price to Earning': 0,\n",
              "  'Debt to Equity': 0,\n",
              "  'Free Cash Flow': '',\n",
              "  'Return on Equity': '',\n",
              "  'Dividend Yield': 0.0},\n",
              " 'TBIG.JK': {'Average Daily Returns': 0.0009053626673893033,\n",
              "  'Beta Alpha': {'beta': array([0.034]), 'alpha': array([0.001])},\n",
              "  'Sharpe Ratio': 0.59,\n",
              "  'Piotroski F-Score': '',\n",
              "  'Revenue Growth': -13.78563670305315,\n",
              "  'Earning per Share': 44.60163699137129,\n",
              "  'Price to Earning': 41.702505232259504,\n",
              "  'Debt to Equity': 3.3850802902682324,\n",
              "  'Free Cash Flow': '',\n",
              "  'Return on Equity': 11.591984644215483,\n",
              "  'Dividend Yield': 17.383903225806453},\n",
              " 'TBLA.JK': {'Average Daily Returns': 0.0003722873927870018,\n",
              "  'Beta Alpha': {'beta': array([0.051]), 'alpha': array([0.])},\n",
              "  'Sharpe Ratio': 0.34,\n",
              "  'Piotroski F-Score': '',\n",
              "  'Revenue Growth': -31.986544634758257,\n",
              "  'Earning per Share': 112.52902102223592,\n",
              "  'Price to Earning': 5.865153664400785,\n",
              "  'Debt to Equity': 2.076480340368833,\n",
              "  'Free Cash Flow': '',\n",
              "  'Return on Equity': 11.534936689005718,\n",
              "  'Dividend Yield': 51.793939393939404},\n",
              " 'TBMS.JK': {'Average Daily Returns': 0.0019158703799876896,\n",
              "  'Beta Alpha': {'beta': array([-0.1]), 'alpha': array([0.002])},\n",
              "  'Sharpe Ratio': 0.98,\n",
              "  'Piotroski F-Score': '',\n",
              "  'Revenue Growth': '',\n",
              "  'Earning per Share': '',\n",
              "  'Price to Earning': 0,\n",
              "  'Debt to Equity': 0,\n",
              "  'Free Cash Flow': '',\n",
              "  'Return on Equity': '',\n",
              "  'Dividend Yield': 222.70430434782605},\n",
              " 'TCID.JK': {'Average Daily Returns': -0.00017251458101509814,\n",
              "  'Beta Alpha': {'beta': array([-0.032]), 'alpha': array([-0.])},\n",
              "  'Sharpe Ratio': -0.14,\n",
              "  'Piotroski F-Score': '',\n",
              "  'Revenue Growth': 1.720415828442548,\n",
              "  'Earning per Share': -241.544077129588,\n",
              "  'Price to Earning': -11.38508562362566,\n",
              "  'Debt to Equity': 0.009267665234865777,\n",
              "  'Free Cash Flow': '',\n",
              "  'Return on Equity': -5.207219000035758,\n",
              "  'Dividend Yield': 220.7272727272727},\n",
              " 'TCPI.JK': {'Average Daily Returns': 0.000846189502005218,\n",
              "  'Beta Alpha': {'beta': array([0.1]), 'alpha': array([0.001])},\n",
              "  'Sharpe Ratio': 0.52,\n",
              "  'Piotroski F-Score': '',\n",
              "  'Revenue Growth': 0.09210996457447171,\n",
              "  'Earning per Share': 11.226,\n",
              "  'Price to Earning': 654.7300908605024,\n",
              "  'Debt to Equity': 0.8426179231626991,\n",
              "  'Free Cash Flow': '',\n",
              "  'Return on Equity': 4.192225449564458,\n",
              "  'Dividend Yield': 0.2789115646258503},\n",
              " 'TDPM.JK': {'Average Daily Returns': 0.0004358106826802077,\n",
              "  'Beta Alpha': {'beta': array([0.009]), 'alpha': array([0.])},\n",
              "  'Sharpe Ratio': 0.35,\n",
              "  'Piotroski F-Score': '',\n",
              "  'Revenue Growth': 149.87696350490026,\n",
              "  'Earning per Share': -0.00033405786881839723,\n",
              "  'Price to Earning': -356225.70550700475,\n",
              "  'Debt to Equity': 0.6770900298659479,\n",
              "  'Free Cash Flow': '',\n",
              "  'Return on Equity': -2.357803268063975,\n",
              "  'Dividend Yield': 0.0},\n",
              " 'TEBE.JK': {'Average Daily Returns': -6.382536881657519e-05,\n",
              "  'Beta Alpha': {'beta': array([-0.168]), 'alpha': array([0.])},\n",
              "  'Sharpe Ratio': -0.03,\n",
              "  'Piotroski F-Score': '',\n",
              "  'Revenue Growth': -55.81492118715231,\n",
              "  'Earning per Share': -1.9376382288006588,\n",
              "  'Price to Earning': -394.810542354706,\n",
              "  'Debt to Equity': 0.056054415934022654,\n",
              "  'Free Cash Flow': '',\n",
              "  'Return on Equity': -0.38290240027094596,\n",
              "  'Dividend Yield': 1.1764705882352942},\n",
              " 'TECH.JK': {'Average Daily Returns': 0.0001714892127052276,\n",
              "  'Beta Alpha': {'beta': array([-0.334]), 'alpha': array([0.])},\n",
              "  'Sharpe Ratio': 0.05,\n",
              "  'Piotroski F-Score': '',\n",
              "  'Revenue Growth': -8.610958750890791,\n",
              "  'Earning per Share': 1.3220504701857716,\n",
              "  'Price to Earning': 37.820038741012745,\n",
              "  'Debt to Equity': 0,\n",
              "  'Free Cash Flow': '',\n",
              "  'Return on Equity': 3.124795618545926,\n",
              "  'Dividend Yield': 0.0},\n",
              " 'TELE.JK': {'Average Daily Returns': -0.0009727739817997445,\n",
              "  'Beta Alpha': {'beta': array([0.022]), 'alpha': array([-0.001])},\n",
              "  'Sharpe Ratio': -2.0,\n",
              "  'Piotroski F-Score': '',\n",
              "  'Revenue Growth': 137.82137783388274,\n",
              "  'Earning per Share': -350.9449588596248,\n",
              "  'Price to Earning': -0.14247248389739545,\n",
              "  'Debt to Equity': -0.9831469638165116,\n",
              "  'Free Cash Flow': '',\n",
              "  'Return on Equity': 61.892296239617,\n",
              "  'Dividend Yield': 128.0},\n",
              " 'TFAS.JK': {'Average Daily Returns': 0.002774103963293719,\n",
              "  'Beta Alpha': {'beta': array([0.118]), 'alpha': array([0.003])},\n",
              "  'Sharpe Ratio': 0.76,\n",
              "  'Piotroski F-Score': '',\n",
              "  'Revenue Growth': -11.804825233847176,\n",
              "  'Earning per Share': 3.9142802031946538,\n",
              "  'Price to Earning': 119.56221213239668,\n",
              "  'Debt to Equity': 0.3967584341301054,\n",
              "  'Free Cash Flow': '',\n",
              "  'Return on Equity': 4.17715799939375,\n",
              "  'Dividend Yield': 0.0},\n",
              " 'TFCO.JK': {'Average Daily Returns': 0.0014640262257625003,\n",
              "  'Beta Alpha': {'beta': array([-0.051]), 'alpha': array([0.001])},\n",
              "  'Sharpe Ratio': 0.55,\n",
              "  'Piotroski F-Score': '',\n",
              "  'Revenue Growth': -30.57865567504452,\n",
              "  'Earning per Share': -0.00017779904363583827,\n",
              "  'Price to Earning': -3740177.5982666677,\n",
              "  'Debt to Equity': 0.003809875590125431,\n",
              "  'Free Cash Flow': '',\n",
              "  'Return on Equity': -0.29586107285696955,\n",
              "  'Dividend Yield': 0.0},\n",
              " 'TGKA.JK': {'Average Daily Returns': 0.0003727436366371531,\n",
              "  'Beta Alpha': {'beta': array([-0.032]), 'alpha': array([0.])},\n",
              "  'Sharpe Ratio': 0.25,\n",
              "  'Piotroski F-Score': '',\n",
              "  'Revenue Growth': 4.718484696409155,\n",
              "  'Earning per Share': 521.0249737702952,\n",
              "  'Price to Earning': 12.667339057167245,\n",
              "  'Debt to Equity': 0.08778984407937394,\n",
              "  'Free Cash Flow': '',\n",
              "  'Return on Equity': 29.934952757077244,\n",
              "  'Dividend Yield': 31.462121212121215},\n",
              " 'TGRA.JK': {'Average Daily Returns': 0.00011452017982150317,\n",
              "  'Beta Alpha': {'beta': array([0.12]), 'alpha': array([0.])},\n",
              "  'Sharpe Ratio': 0.05,\n",
              "  'Piotroski F-Score': '',\n",
              "  'Revenue Growth': -67.88027550650594,\n",
              "  'Earning per Share': 0.6623240531718259,\n",
              "  'Price to Earning': 75.49174722034225,\n",
              "  'Debt to Equity': 0.25260578435577713,\n",
              "  'Free Cash Flow': '',\n",
              "  'Return on Equity': 0.5897946364540918,\n",
              "  'Dividend Yield': 0.0},\n",
              " 'TGUK.JK': {'Average Daily Returns': -0.00187885275872001,\n",
              "  'Beta Alpha': '',\n",
              "  'Sharpe Ratio': -0.52,\n",
              "  'Piotroski F-Score': '',\n",
              "  'Revenue Growth': '',\n",
              "  'Earning per Share': '',\n",
              "  'Price to Earning': 0,\n",
              "  'Debt to Equity': 0,\n",
              "  'Free Cash Flow': '',\n",
              "  'Return on Equity': '',\n",
              "  'Dividend Yield': 0.0},\n",
              " 'TIFA.JK': {'Average Daily Returns': 0.003208512553528391,\n",
              "  'Beta Alpha': {'beta': array([0.195]), 'alpha': array([0.003])},\n",
              "  'Sharpe Ratio': 1.12,\n",
              "  'Piotroski F-Score': 5,\n",
              "  'Revenue Growth': -0.4458578616621208,\n",
              "  'Earning per Share': 4.190453361495033,\n",
              "  'Price to Earning': 138.4098449417112,\n",
              "  'Debt to Equity': 1.4495991527170529,\n",
              "  'Free Cash Flow': 328061382000.0,\n",
              "  'Return on Equity': 4.075999328524212,\n",
              "  'Dividend Yield': 11.03448275862069},\n",
              " 'TINS.JK': {'Average Daily Returns': 0.00036340791175213635,\n",
              "  'Beta Alpha': {'beta': array([0.065]), 'alpha': array([0.])},\n",
              "  'Sharpe Ratio': 0.19,\n",
              "  'Piotroski F-Score': '',\n",
              "  'Revenue Growth': 4.169075613936685,\n",
              "  'Earning per Share': -45.731797309874956,\n",
              "  'Price to Earning': -15.96263525471302,\n",
              "  'Debt to Equity': 0.6266062680350097,\n",
              "  'Free Cash Flow': '',\n",
              "  'Return on Equity': -6.894731951832281,\n",
              "  'Dividend Yield': 416.02790410958903},\n",
              " 'TIRA.JK': {'Average Daily Returns': 0.0012339385396228106,\n",
              "  'Beta Alpha': {'beta': array([-0.012]), 'alpha': array([0.001])},\n",
              "  'Sharpe Ratio': 0.44,\n",
              "  'Piotroski F-Score': '',\n",
              "  'Revenue Growth': '',\n",
              "  'Earning per Share': '',\n",
              "  'Price to Earning': 0,\n",
              "  'Debt to Equity': 0,\n",
              "  'Free Cash Flow': '',\n",
              "  'Return on Equity': '',\n",
              "  'Dividend Yield': 19.48546511627907},\n",
              " 'TIRT.JK': {'Average Daily Returns': 0.0005519869331775072,\n",
              "  'Beta Alpha': {'beta': array([-0.192]), 'alpha': array([0.001])},\n",
              "  'Sharpe Ratio': 0.24,\n",
              "  'Piotroski F-Score': '',\n",
              "  'Revenue Growth': 977.2984886181105,\n",
              "  'Earning per Share': -409.57771624800444,\n",
              "  'Price to Earning': -0.12207695393692848,\n",
              "  'Debt to Equity': -2.141290163808311,\n",
              "  'Free Cash Flow': '',\n",
              "  'Return on Equity': 106.16813578468016,\n",
              "  'Dividend Yield': 57.49999999999999},\n",
              " 'TKIM.JK': {'Average Daily Returns': 0.0006610998553371652,\n",
              "  'Beta Alpha': {'beta': array([0.073]), 'alpha': array([0.001])},\n",
              "  'Sharpe Ratio': 0.36,\n",
              "  'Piotroski F-Score': '',\n",
              "  'Revenue Growth': -15.423360036858478,\n",
              "  'Earning per Share': 0.04764648673268747,\n",
              "  'Price to Earning': 143767.1582887268,\n",
              "  'Debt to Equity': 0.6458717652754454,\n",
              "  'Free Cash Flow': '',\n",
              "  'Return on Equity': 9.783751482396582,\n",
              "  'Dividend Yield': 3.722627737226277},\n",
              " 'TLDN.JK': {'Average Daily Returns': -0.000604971594840401,\n",
              "  'Beta Alpha': '',\n",
              "  'Sharpe Ratio': -0.75,\n",
              "  'Piotroski F-Score': '',\n",
              "  'Revenue Growth': -7.578037307129433,\n",
              "  'Earning per Share': 17.950560650942975,\n",
              "  'Price to Earning': 25.737357678336934,\n",
              "  'Debt to Equity': 1.5365537594205136,\n",
              "  'Free Cash Flow': '',\n",
              "  'Return on Equity': 22.082239894844275,\n",
              "  'Dividend Yield': 0.0},\n",
              " 'TLKM.JK': {'Average Daily Returns': 0.0004452988676680814,\n",
              "  'Beta Alpha': {'beta': array([0.014]), 'alpha': array([0.])},\n",
              "  'Sharpe Ratio': 0.42,\n",
              "  'Piotroski F-Score': '',\n",
              "  'Revenue Growth': -4.722435584107255,\n",
              "  'Earning per Share': 212.51294133150037,\n",
              "  'Price to Earning': 18.163599712164164,\n",
              "  'Debt to Equity': 0.6739895083886143,\n",
              "  'Free Cash Flow': '',\n",
              "  'Return on Equity': 20.563815031160257,\n",
              "  'Dividend Yield': 14.07664507772021},\n",
              " 'TMAS.JK': {'Average Daily Returns': 0.009452722981554347,\n",
              "  'Beta Alpha': {'beta': array([0.391]), 'alpha': array([0.009])},\n",
              "  'Sharpe Ratio': 0.76,\n",
              "  'Piotroski F-Score': '',\n",
              "  'Revenue Growth': -20.790464062208855,\n",
              "  'Earning per Share': 1.1040832343525562,\n",
              "  'Price to Earning': 143.1051528399057,\n",
              "  'Debt to Equity': 0.973946112742644,\n",
              "  'Free Cash Flow': '',\n",
              "  'Return on Equity': 5.204144218814753,\n",
              "  'Dividend Yield': 85.51582278481014},\n",
              " 'TMPO.JK': {'Average Daily Returns': -6.69172144529046e-06,\n",
              "  'Beta Alpha': {'beta': array([0.164]), 'alpha': array([-0.])},\n",
              "  'Sharpe Ratio': -0.0,\n",
              "  'Piotroski F-Score': '',\n",
              "  'Revenue Growth': '',\n",
              "  'Earning per Share': '',\n",
              "  'Price to Earning': 0,\n",
              "  'Debt to Equity': 0,\n",
              "  'Free Cash Flow': '',\n",
              "  'Return on Equity': '',\n",
              "  'Dividend Yield': 1.25},\n",
              " 'TNCA.JK': {'Average Daily Returns': 0.001637705477800372,\n",
              "  'Beta Alpha': {'beta': array([0.056]), 'alpha': array([0.002])},\n",
              "  'Sharpe Ratio': 0.43,\n",
              "  'Piotroski F-Score': '',\n",
              "  'Revenue Growth': '',\n",
              "  'Earning per Share': '',\n",
              "  'Price to Earning': 0,\n",
              "  'Debt to Equity': 0,\n",
              "  'Free Cash Flow': '',\n",
              "  'Return on Equity': '',\n",
              "  'Dividend Yield': 0.0},\n",
              " 'TOBA.JK': {'Average Daily Returns': 0.0003581402225390579,\n",
              "  'Beta Alpha': {'beta': array([-0.03]), 'alpha': array([0.])},\n",
              "  'Sharpe Ratio': 0.15,\n",
              "  'Piotroski F-Score': '',\n",
              "  'Revenue Growth': -28.256630173115717,\n",
              "  'Earning per Share': 0.0030300834715406635,\n",
              "  'Price to Earning': 97027.03003442805,\n",
              "  'Debt to Equity': 1.7379055106724928,\n",
              "  'Free Cash Flow': '',\n",
              "  'Return on Equity': 10.493971175019862,\n",
              "  'Dividend Yield': 14.674438775510204},\n",
              " 'TOOL.JK': {'Average Daily Returns': -0.0023337884937232193,\n",
              "  'Beta Alpha': '',\n",
              "  'Sharpe Ratio': -1.19,\n",
              "  'Piotroski F-Score': '',\n",
              "  'Revenue Growth': '',\n",
              "  'Earning per Share': '',\n",
              "  'Price to Earning': 0,\n",
              "  'Debt to Equity': 0,\n",
              "  'Free Cash Flow': '',\n",
              "  'Return on Equity': '',\n",
              "  'Dividend Yield': 0.0},\n",
              " 'TOPS.JK': {'Average Daily Returns': -0.0023701764515149572,\n",
              "  'Beta Alpha': {'beta': array([0.044]), 'alpha': array([-0.002])},\n",
              "  'Sharpe Ratio': -1.69,\n",
              "  'Piotroski F-Score': '',\n",
              "  'Revenue Growth': -47.286678596108864,\n",
              "  'Earning per Share': -4.0587912384196,\n",
              "  'Price to Earning': -0.9855150868901323,\n",
              "  'Debt to Equity': 1.0496896704713938,\n",
              "  'Free Cash Flow': '',\n",
              "  'Return on Equity': -15.995933071928656,\n",
              "  'Dividend Yield': 0.0},\n",
              " 'TOSK.JK': {'Average Daily Returns': nan,\n",
              "  'Beta Alpha': '',\n",
              "  'Sharpe Ratio': nan,\n",
              "  'Piotroski F-Score': '',\n",
              "  'Revenue Growth': '',\n",
              "  'Earning per Share': '',\n",
              "  'Price to Earning': 0,\n",
              "  'Debt to Equity': 0,\n",
              "  'Free Cash Flow': '',\n",
              "  'Return on Equity': '',\n",
              "  'Dividend Yield': 0.0},\n",
              " 'TOTL.JK': {'Average Daily Returns': 0.0004051846014719533,\n",
              "  'Beta Alpha': {'beta': array([-0.075]), 'alpha': array([0.])},\n",
              "  'Sharpe Ratio': 0.32,\n",
              "  'Piotroski F-Score': '',\n",
              "  'Revenue Growth': 31.376711976836603,\n",
              "  'Earning per Share': 31.927066007819487,\n",
              "  'Price to Earning': 12.779126021165672,\n",
              "  'Debt to Equity': 0.0036885951194709356,\n",
              "  'Free Cash Flow': '',\n",
              "  'Return on Equity': 9.534953322223243,\n",
              "  'Dividend Yield': 95.58823529411765},\n",
              " 'TOTO.JK': {'Average Daily Returns': 0.00021076619862464183,\n",
              "  'Beta Alpha': {'beta': array([-0.123]), 'alpha': array([0.])},\n",
              "  'Sharpe Ratio': 0.18,\n",
              "  'Piotroski F-Score': '',\n",
              "  'Revenue Growth': -11.443340274067236,\n",
              "  'Earning per Share': -2.973804987209302,\n",
              "  'Price to Earning': -76.66945242901124,\n",
              "  'Debt to Equity': 0.11715289885158939,\n",
              "  'Free Cash Flow': '',\n",
              "  'Return on Equity': -1.5114114736807407,\n",
              "  'Dividend Yield': 3200.438596491228},\n",
              " 'TOWR.JK': {'Average Daily Returns': 2.8134791454042442e-05,\n",
              "  'Beta Alpha': {'beta': array([0.001]), 'alpha': array([0.])},\n",
              "  'Sharpe Ratio': 0.02,\n",
              "  'Piotroski F-Score': '',\n",
              "  'Revenue Growth': -13.77964472992744,\n",
              "  'Earning per Share': 56.948934644375754,\n",
              "  'Price to Earning': 15.628035986234133,\n",
              "  'Debt to Equity': 4.465650937546829,\n",
              "  'Free Cash Flow': '',\n",
              "  'Return on Equity': 27.92976982560636,\n",
              "  'Dividend Yield': 14.012921348314606},\n",
              " 'TOYS.JK': {'Average Daily Returns': -0.0015867326735639678,\n",
              "  'Beta Alpha': '',\n",
              "  'Sharpe Ratio': -0.55,\n",
              "  'Piotroski F-Score': '',\n",
              "  'Revenue Growth': '',\n",
              "  'Earning per Share': '',\n",
              "  'Price to Earning': 0,\n",
              "  'Debt to Equity': 0,\n",
              "  'Free Cash Flow': '',\n",
              "  'Return on Equity': '',\n",
              "  'Dividend Yield': 0.0},\n",
              " 'TPIA.JK': {'Average Daily Returns': 0.0016565299531266769,\n",
              "  'Beta Alpha': {'beta': array([-0.039]), 'alpha': array([0.002])},\n",
              "  'Sharpe Ratio': 0.99,\n",
              "  'Piotroski F-Score': '',\n",
              "  'Revenue Growth': -29.994322640650278,\n",
              "  'Earning per Share': 0.0005935858148479152,\n",
              "  'Price to Earning': 9392070.801807135,\n",
              "  'Debt to Equity': 0.9832813687520388,\n",
              "  'Free Cash Flow': '',\n",
              "  'Return on Equity': 2.834291214701754,\n",
              "  'Dividend Yield': 14.368493273542601},\n",
              " 'TPMA.JK': {'Average Daily Returns': 0.0016168171364313493,\n",
              "  'Beta Alpha': {'beta': array([0.056]), 'alpha': array([0.002])},\n",
              "  'Sharpe Ratio': 0.68,\n",
              "  'Piotroski F-Score': '',\n",
              "  'Revenue Growth': -5.365546506291647,\n",
              "  'Earning per Share': 0.000795120025134733,\n",
              "  'Price to Earning': 855216.795583502,\n",
              "  'Debt to Equity': 0.20383820003781375,\n",
              "  'Free Cash Flow': '',\n",
              "  'Return on Equity': 2.707778482115761,\n",
              "  'Dividend Yield': 11.338235294117647},\n",
              " 'TRAM.JK': {'Average Daily Returns': 0.0,\n",
              "  'Beta Alpha': {'beta': array([0.]), 'alpha': array([0.])},\n",
              "  'Sharpe Ratio': nan,\n",
              "  'Piotroski F-Score': '',\n",
              "  'Revenue Growth': '',\n",
              "  'Earning per Share': '',\n",
              "  'Price to Earning': 0,\n",
              "  'Debt to Equity': 0,\n",
              "  'Free Cash Flow': '',\n",
              "  'Return on Equity': -66.84470727365537,\n",
              "  'Dividend Yield': 22.82348},\n",
              " 'TRGU.JK': {'Average Daily Returns': -0.0003850470483265959,\n",
              "  'Beta Alpha': '',\n",
              "  'Sharpe Ratio': -0.2,\n",
              "  'Piotroski F-Score': '',\n",
              "  'Revenue Growth': -5.32550375555225,\n",
              "  'Earning per Share': -1.9560912333167981,\n",
              "  'Price to Earning': -110.4242973543442,\n",
              "  'Debt to Equity': 4.139454077355047,\n",
              "  'Free Cash Flow': '',\n",
              "  'Return on Equity': -3.597836197985832,\n",
              "  'Dividend Yield': 0.0},\n",
              " 'TRIL.JK': {'Average Daily Returns': 0.0,\n",
              "  'Beta Alpha': {'beta': array([0.]), 'alpha': array([0.])},\n",
              "  'Sharpe Ratio': nan,\n",
              "  'Piotroski F-Score': '',\n",
              "  'Revenue Growth': '',\n",
              "  'Earning per Share': '',\n",
              "  'Price to Earning': 0,\n",
              "  'Debt to Equity': 0,\n",
              "  'Free Cash Flow': '',\n",
              "  'Return on Equity': -4.782315842898677,\n",
              "  'Dividend Yield': 0.0},\n",
              " 'TRIM.JK': {'Average Daily Returns': 0.0016359669009694473,\n",
              "  'Beta Alpha': {'beta': array([-0.113]), 'alpha': array([0.002])},\n",
              "  'Sharpe Ratio': 0.68,\n",
              "  'Piotroski F-Score': '',\n",
              "  'Revenue Growth': -7.826975942235478,\n",
              "  'Earning per Share': 3.9754857875587164,\n",
              "  'Price to Earning': 65.90389552389523,\n",
              "  'Debt to Equity': 0.8626701336098291,\n",
              "  'Free Cash Flow': '',\n",
              "  'Return on Equity': 3.4378893914185373,\n",
              "  'Dividend Yield': 18.702290076335878},\n",
              " 'TRIN.JK': {'Average Daily Returns': 0.0002834327654622509,\n",
              "  'Beta Alpha': {'beta': array([-0.08]), 'alpha': array([0.])},\n",
              "  'Sharpe Ratio': 0.1,\n",
              "  'Piotroski F-Score': '',\n",
              "  'Revenue Growth': 32.21923901841569,\n",
              "  'Earning per Share': 4.09380417442369,\n",
              "  'Price to Earning': 32.48811968851032,\n",
              "  'Debt to Equity': 1.5680703911725082,\n",
              "  'Free Cash Flow': '',\n",
              "  'Return on Equity': 2.596701122200431,\n",
              "  'Dividend Yield': 0.0},\n",
              " 'TRIO.JK': {'Average Daily Returns': 0.0,\n",
              "  'Beta Alpha': {'beta': array([0.]), 'alpha': array([0.])},\n",
              "  'Sharpe Ratio': nan,\n",
              "  'Piotroski F-Score': '',\n",
              "  'Revenue Growth': 3.8901116790343573,\n",
              "  'Earning per Share': '',\n",
              "  'Price to Earning': 0,\n",
              "  'Debt to Equity': 0,\n",
              "  'Free Cash Flow': '',\n",
              "  'Return on Equity': 6.99341890096961,\n",
              "  'Dividend Yield': 0.0},\n",
              " 'TRIS.JK': {'Average Daily Returns': 0.0012734641586684481,\n",
              "  'Beta Alpha': {'beta': array([0.147]), 'alpha': array([0.001])},\n",
              "  'Sharpe Ratio': 0.37,\n",
              "  'Piotroski F-Score': '',\n",
              "  'Revenue Growth': '',\n",
              "  'Earning per Share': '',\n",
              "  'Price to Earning': 0,\n",
              "  'Debt to Equity': 0,\n",
              "  'Free Cash Flow': '',\n",
              "  'Return on Equity': '',\n",
              "  'Dividend Yield': 33.70363125},\n",
              " 'TRJA.JK': {'Average Daily Returns': 0.000508590712284479,\n",
              "  'Beta Alpha': '',\n",
              "  'Sharpe Ratio': 0.2,\n",
              "  'Piotroski F-Score': '',\n",
              "  'Revenue Growth': '',\n",
              "  'Earning per Share': '',\n",
              "  'Price to Earning': 0,\n",
              "  'Debt to Equity': 0,\n",
              "  'Free Cash Flow': '',\n",
              "  'Return on Equity': '',\n",
              "  'Dividend Yield': 1.5789473684210527},\n",
              " 'TRON.JK': {'Average Daily Returns': 0.0008879980885058858,\n",
              "  'Beta Alpha': '',\n",
              "  'Sharpe Ratio': 0.34,\n",
              "  'Piotroski F-Score': '',\n",
              "  'Revenue Growth': '',\n",
              "  'Earning per Share': '',\n",
              "  'Price to Earning': 0,\n",
              "  'Debt to Equity': 0,\n",
              "  'Free Cash Flow': '',\n",
              "  'Return on Equity': '',\n",
              "  'Dividend Yield': 0.0},\n",
              " 'TRST.JK': {'Average Daily Returns': 0.00048160642538207926,\n",
              "  'Beta Alpha': {'beta': array([0.045]), 'alpha': array([0.])},\n",
              "  'Sharpe Ratio': 0.34,\n",
              "  'Piotroski F-Score': '',\n",
              "  'Revenue Growth': -18.08460976133228,\n",
              "  'Earning per Share': 26.62246457656695,\n",
              "  'Price to Earning': 17.65426332518039,\n",
              "  'Debt to Equity': 0.8656010938651324,\n",
              "  'Free Cash Flow': '',\n",
              "  'Return on Equity': 3.4034015551715937,\n",
              "  'Dividend Yield': 31.48936170212766},\n",
              " 'TRUE.JK': {'Average Daily Returns': -0.00046258856882235125,\n",
              "  'Beta Alpha': '',\n",
              "  'Sharpe Ratio': -0.15,\n",
              "  'Piotroski F-Score': '',\n",
              "  'Revenue Growth': '',\n",
              "  'Earning per Share': '',\n",
              "  'Price to Earning': 0,\n",
              "  'Debt to Equity': 0,\n",
              "  'Free Cash Flow': '',\n",
              "  'Return on Equity': '',\n",
              "  'Dividend Yield': 0.0},\n",
              " 'TRUK.JK': {'Average Daily Returns': 0.0005549749700517655,\n",
              "  'Beta Alpha': {'beta': array([0.156]), 'alpha': array([0.])},\n",
              "  'Sharpe Ratio': 0.21,\n",
              "  'Piotroski F-Score': '',\n",
              "  'Revenue Growth': '',\n",
              "  'Earning per Share': '',\n",
              "  'Price to Earning': 0,\n",
              "  'Debt to Equity': 0,\n",
              "  'Free Cash Flow': '',\n",
              "  'Return on Equity': '',\n",
              "  'Dividend Yield': 0.0},\n",
              " 'TRUS.JK': {'Average Daily Returns': 0.0007079749203747585,\n",
              "  'Beta Alpha': {'beta': array([0.004]), 'alpha': array([0.001])},\n",
              "  'Sharpe Ratio': 0.32,\n",
              "  'Piotroski F-Score': '',\n",
              "  'Revenue Growth': '',\n",
              "  'Earning per Share': '',\n",
              "  'Price to Earning': 0,\n",
              "  'Debt to Equity': 0,\n",
              "  'Free Cash Flow': '',\n",
              "  'Return on Equity': '',\n",
              "  'Dividend Yield': 6.600467289719626},\n",
              " 'TSPC.JK': {'Average Daily Returns': 0.0005638501701494284,\n",
              "  'Beta Alpha': {'beta': array([-0.075]), 'alpha': array([0.001])},\n",
              "  'Sharpe Ratio': 0.51,\n",
              "  'Piotroski F-Score': '',\n",
              "  'Revenue Growth': -2.3680828084385266,\n",
              "  'Earning per Share': 174.68461623876098,\n",
              "  'Price to Earning': 11.10572895181786,\n",
              "  'Debt to Equity': 0.17829854106983242,\n",
              "  'Free Cash Flow': '',\n",
              "  'Return on Equity': 13.008189600199529,\n",
              "  'Dividend Yield': 56.90721649484536},\n",
              " 'TUGU.JK': {'Average Daily Returns': 0.0002505477601118575,\n",
              "  'Beta Alpha': {'beta': array([-0.092]), 'alpha': array([0.])},\n",
              "  'Sharpe Ratio': 0.13,\n",
              "  'Piotroski F-Score': '',\n",
              "  'Revenue Growth': -11.774545430355445,\n",
              "  'Earning per Share': 74.57098171291723,\n",
              "  'Price to Earning': 15.354498139879825,\n",
              "  'Debt to Equity': 0.030017600260508946,\n",
              "  'Free Cash Flow': '',\n",
              "  'Return on Equity': 3.412676997024483,\n",
              "  'Dividend Yield': 14.952436681222709},\n",
              " 'TYRE.JK': {'Average Daily Returns': -0.0021163907837794095,\n",
              "  'Beta Alpha': '',\n",
              "  'Sharpe Ratio': -1.38,\n",
              "  'Piotroski F-Score': '',\n",
              "  'Revenue Growth': '',\n",
              "  'Earning per Share': '',\n",
              "  'Price to Earning': 0,\n",
              "  'Debt to Equity': 0,\n",
              "  'Free Cash Flow': '',\n",
              "  'Return on Equity': '',\n",
              "  'Dividend Yield': 0.0},\n",
              " 'UANG.JK': {'Average Daily Returns': 0.0035107740842436285,\n",
              "  'Beta Alpha': '',\n",
              "  'Sharpe Ratio': 0.85,\n",
              "  'Piotroski F-Score': '',\n",
              "  'Revenue Growth': '',\n",
              "  'Earning per Share': '',\n",
              "  'Price to Earning': 0,\n",
              "  'Debt to Equity': 0,\n",
              "  'Free Cash Flow': '',\n",
              "  'Return on Equity': '',\n",
              "  'Dividend Yield': 0.0},\n",
              " 'UCID.JK': {'Average Daily Returns': -0.000324194673107726,\n",
              "  'Beta Alpha': {'beta': array([0.011]), 'alpha': array([-0.])},\n",
              "  'Sharpe Ratio': -0.34,\n",
              "  'Piotroski F-Score': '',\n",
              "  'Revenue Growth': -7.488094235214211,\n",
              "  'Earning per Share': 75.1688852599707,\n",
              "  'Price to Earning': 12.505174138861062,\n",
              "  'Debt to Equity': 0.06969440615623941,\n",
              "  'Free Cash Flow': '',\n",
              "  'Return on Equity': 6.893762770254612,\n",
              "  'Dividend Yield': 3.6484042553191496},\n",
              " 'UDNG.JK': {'Average Daily Returns': -0.002470638424587787,\n",
              "  'Beta Alpha': '',\n",
              "  'Sharpe Ratio': -0.76,\n",
              "  'Piotroski F-Score': '',\n",
              "  'Revenue Growth': '',\n",
              "  'Earning per Share': '',\n",
              "  'Price to Earning': 0,\n",
              "  'Debt to Equity': 0,\n",
              "  'Free Cash Flow': '',\n",
              "  'Return on Equity': '',\n",
              "  'Dividend Yield': 0.0},\n",
              " 'UFOE.JK': {'Average Daily Returns': 0.0022388458860936526,\n",
              "  'Beta Alpha': '',\n",
              "  'Sharpe Ratio': 0.61,\n",
              "  'Piotroski F-Score': '',\n",
              "  'Revenue Growth': '',\n",
              "  'Earning per Share': '',\n",
              "  'Price to Earning': 0,\n",
              "  'Debt to Equity': 0,\n",
              "  'Free Cash Flow': '',\n",
              "  'Return on Equity': '',\n",
              "  'Dividend Yield': 0.31225714285714284},\n",
              " 'ULTJ.JK': {'Average Daily Returns': 0.00011270573751800557,\n",
              "  'Beta Alpha': {'beta': array([0.053]), 'alpha': array([0.])},\n",
              "  'Sharpe Ratio': 0.14,\n",
              "  'Piotroski F-Score': '',\n",
              "  'Revenue Growth': -9.812832551617573,\n",
              "  'Earning per Share': 105.75830627470089,\n",
              "  'Price to Earning': 16.027109923615253,\n",
              "  'Debt to Equity': 0.12978242761097966,\n",
              "  'Free Cash Flow': '',\n",
              "  'Return on Equity': 23.46817177645978,\n",
              "  'Dividend Yield': 9.29203539823009},\n",
              " 'UNIC.JK': {'Average Daily Returns': 0.001287460955276293,\n",
              "  'Beta Alpha': {'beta': array([-0.063]), 'alpha': array([0.001])},\n",
              "  'Sharpe Ratio': 0.84,\n",
              "  'Piotroski F-Score': '',\n",
              "  'Revenue Growth': -12.42950967795015,\n",
              "  'Earning per Share': 0.07227031318061282,\n",
              "  'Price to Earning': 107236.28636604565,\n",
              "  'Debt to Equity': 0.03482440413197407,\n",
              "  'Free Cash Flow': '',\n",
              "  'Return on Equity': 14.555347127123303,\n",
              "  'Dividend Yield': 34.973065806451615},\n",
              " 'UNIQ.JK': {'Average Daily Returns': 0.001464915134881952,\n",
              "  'Beta Alpha': '',\n",
              "  'Sharpe Ratio': 0.49,\n",
              "  'Piotroski F-Score': '',\n",
              "  'Revenue Growth': '',\n",
              "  'Earning per Share': '',\n",
              "  'Price to Earning': 0,\n",
              "  'Debt to Equity': 0,\n",
              "  'Free Cash Flow': '',\n",
              "  'Return on Equity': '',\n",
              "  'Dividend Yield': 0.0},\n",
              " 'UNIT.JK': {'Average Daily Returns': 0.0011164483227472557,\n",
              "  'Beta Alpha': {'beta': array([0.129]), 'alpha': array([0.001])},\n",
              "  'Sharpe Ratio': 0.72,\n",
              "  'Piotroski F-Score': '',\n",
              "  'Revenue Growth': '',\n",
              "  'Earning per Share': '',\n",
              "  'Price to Earning': 0,\n",
              "  'Debt to Equity': 0,\n",
              "  'Free Cash Flow': '',\n",
              "  'Return on Equity': '',\n",
              "  'Dividend Yield': 1.3234493670886076},\n",
              " 'UNSP.JK': {'Average Daily Returns': 0.0010589645988786191,\n",
              "  'Beta Alpha': {'beta': array([-0.029]), 'alpha': array([0.001])},\n",
              "  'Sharpe Ratio': 0.6,\n",
              "  'Piotroski F-Score': '',\n",
              "  'Revenue Growth': -36.87622667090393,\n",
              "  'Earning per Share': -559.9649962622938,\n",
              "  'Price to Earning': -0.19644085029285435,\n",
              "  'Debt to Equity': -1.1254860336211012,\n",
              "  'Free Cash Flow': '',\n",
              "  'Return on Equity': 13.176977284077998,\n",
              "  'Dividend Yield': 62.41363636363636},\n",
              " 'UNTD.JK': {'Average Daily Returns': nan,\n",
              "  'Beta Alpha': '',\n",
              "  'Sharpe Ratio': nan,\n",
              "  'Piotroski F-Score': '',\n",
              "  'Revenue Growth': 28.844025433041075,\n",
              "  'Earning per Share': '',\n",
              "  'Price to Earning': 0,\n",
              "  'Debt to Equity': 0,\n",
              "  'Free Cash Flow': '',\n",
              "  'Return on Equity': 39.02563812324401,\n",
              "  'Dividend Yield': 0.0},\n",
              " 'UNTR.JK': {'Average Daily Returns': 0.0006347218472778937,\n",
              "  'Beta Alpha': {'beta': array([0.141]), 'alpha': array([0.001])},\n",
              "  'Sharpe Ratio': 0.44,\n",
              "  'Piotroski F-Score': '',\n",
              "  'Revenue Growth': -24.054364468344733,\n",
              "  'Earning per Share': 1652.9498846741446,\n",
              "  'Price to Earning': 14.62536778891258,\n",
              "  'Debt to Equity': 0.3130852442190801,\n",
              "  'Free Cash Flow': '',\n",
              "  'Return on Equity': 9.957804235825526,\n",
              "  'Dividend Yield': 41.96483971044467},\n",
              " 'UNVR.JK': {'Average Daily Returns': -0.000820932196756078,\n",
              "  'Beta Alpha': {'beta': array([0.09]), 'alpha': array([-0.001])},\n",
              "  'Sharpe Ratio': -0.68,\n",
              "  'Piotroski F-Score': '',\n",
              "  'Revenue Growth': 8.6646400457756,\n",
              "  'Earning per Share': 187.77289331128043,\n",
              "  'Price to Earning': 14.166048959954972,\n",
              "  'Debt to Equity': 0.1520613760011407,\n",
              "  'Free Cash Flow': '',\n",
              "  'Return on Equity': 145.08815223009506,\n",
              "  'Dividend Yield': 210.39097744360902},\n",
              " 'URBN.JK': {'Average Daily Returns': -0.0020755579435847585,\n",
              "  'Beta Alpha': {'beta': array([-0.025]), 'alpha': array([-0.002])},\n",
              "  'Sharpe Ratio': -0.83,\n",
              "  'Piotroski F-Score': '',\n",
              "  'Revenue Growth': 81.28840344522527,\n",
              "  'Earning per Share': 27.266767022327805,\n",
              "  'Price to Earning': 4.694359250408574,\n",
              "  'Debt to Equity': 0.7234446078283104,\n",
              "  'Free Cash Flow': '',\n",
              "  'Return on Equity': 7.709514125850162,\n",
              "  'Dividend Yield': 0.0},\n",
              " 'UVCR.JK': {'Average Daily Returns': 0.001235300195796579,\n",
              "  'Beta Alpha': '',\n",
              "  'Sharpe Ratio': 0.44,\n",
              "  'Piotroski F-Score': '',\n",
              "  'Revenue Growth': '',\n",
              "  'Earning per Share': '',\n",
              "  'Price to Earning': 0,\n",
              "  'Debt to Equity': 0,\n",
              "  'Free Cash Flow': '',\n",
              "  'Return on Equity': '',\n",
              "  'Dividend Yield': 0.0},\n",
              " 'VAST.JK': {'Average Daily Returns': -0.0011497860533554096,\n",
              "  'Beta Alpha': '',\n",
              "  'Sharpe Ratio': -0.46,\n",
              "  'Piotroski F-Score': '',\n",
              "  'Revenue Growth': '',\n",
              "  'Earning per Share': '',\n",
              "  'Price to Earning': 0,\n",
              "  'Debt to Equity': 0,\n",
              "  'Free Cash Flow': '',\n",
              "  'Return on Equity': '',\n",
              "  'Dividend Yield': 0.0},\n",
              " 'VICI.JK': {'Average Daily Returns': 0.002395441965771786,\n",
              "  'Beta Alpha': '',\n",
              "  'Sharpe Ratio': 1.37,\n",
              "  'Piotroski F-Score': '',\n",
              "  'Revenue Growth': -9.271799622303693,\n",
              "  'Earning per Share': 22.117758086932927,\n",
              "  'Price to Earning': 27.12752339734095,\n",
              "  'Debt to Equity': 0.1260033014296076,\n",
              "  'Free Cash Flow': '',\n",
              "  'Return on Equity': 23.541526488693563,\n",
              "  'Dividend Yield': 1.4166666666666665},\n",
              " 'VICO.JK': {'Average Daily Returns': 0.0012608325534919206,\n",
              "  'Beta Alpha': {'beta': array([0.021]), 'alpha': array([0.001])},\n",
              "  'Sharpe Ratio': 0.37,\n",
              "  'Piotroski F-Score': '',\n",
              "  'Revenue Growth': 8.174074419764901,\n",
              "  'Earning per Share': -7.1809424666021195,\n",
              "  'Price to Earning': -15.457581023138738,\n",
              "  'Debt to Equity': 1.2180812181481522,\n",
              "  'Free Cash Flow': '',\n",
              "  'Return on Equity': -5.601353307396026,\n",
              "  'Dividend Yield': 0.0},\n",
              " 'VINS.JK': {'Average Daily Returns': 0.0015410182711907284,\n",
              "  'Beta Alpha': {'beta': array([0.099]), 'alpha': array([0.001])},\n",
              "  'Sharpe Ratio': 0.49,\n",
              "  'Piotroski F-Score': '',\n",
              "  'Revenue Growth': '',\n",
              "  'Earning per Share': '',\n",
              "  'Price to Earning': 0,\n",
              "  'Debt to Equity': 0,\n",
              "  'Free Cash Flow': '',\n",
              "  'Return on Equity': '',\n",
              "  'Dividend Yield': 15.364238410596023},\n",
              " 'VISI.JK': {'Average Daily Returns': nan,\n",
              "  'Beta Alpha': '',\n",
              "  'Sharpe Ratio': nan,\n",
              "  'Piotroski F-Score': '',\n",
              "  'Revenue Growth': '',\n",
              "  'Earning per Share': '',\n",
              "  'Price to Earning': 0,\n",
              "  'Debt to Equity': 0,\n",
              "  'Free Cash Flow': '',\n",
              "  'Return on Equity': '',\n",
              "  'Dividend Yield': 0.0},\n",
              " 'VIVA.JK': {'Average Daily Returns': 0.0002393425366821488,\n",
              "  'Beta Alpha': {'beta': array([0.011]), 'alpha': array([0.])},\n",
              "  'Sharpe Ratio': 0.16,\n",
              "  'Piotroski F-Score': '',\n",
              "  'Revenue Growth': 1.0108103371022208,\n",
              "  'Earning per Share': -53.01465952165704,\n",
              "  'Price to Earning': -0.9431353601275979,\n",
              "  'Debt to Equity': -10.57774345029709,\n",
              "  'Free Cash Flow': '',\n",
              "  'Return on Equity': 230.65627613773208,\n",
              "  'Dividend Yield': 0.0},\n",
              " 'VKTR.JK': {'Average Daily Returns': 0.0008038467765756601,\n",
              "  'Beta Alpha': '',\n",
              "  'Sharpe Ratio': 0.62,\n",
              "  'Piotroski F-Score': '',\n",
              "  'Revenue Growth': -46.47117545032378,\n",
              "  'Earning per Share': -3.2146286748845068,\n",
              "  'Price to Earning': -48.52815543481229,\n",
              "  'Debt to Equity': 2.869435387693944,\n",
              "  'Free Cash Flow': '',\n",
              "  'Return on Equity': -169.94538160375077,\n",
              "  'Dividend Yield': 0.0},\n",
              " 'VOKS.JK': {'Average Daily Returns': 0.0004892138584758574,\n",
              "  'Beta Alpha': {'beta': array([0.048]), 'alpha': array([0.])},\n",
              "  'Sharpe Ratio': 0.3,\n",
              "  'Piotroski F-Score': '',\n",
              "  'Revenue Growth': '',\n",
              "  'Earning per Share': '',\n",
              "  'Price to Earning': 0,\n",
              "  'Debt to Equity': 0,\n",
              "  'Free Cash Flow': '',\n",
              "  'Return on Equity': '',\n",
              "  'Dividend Yield': 54.04040404040404},\n",
              " 'VRNA.JK': {'Average Daily Returns': 0.0006618807170726029,\n",
              "  'Beta Alpha': {'beta': array([0.02]), 'alpha': array([0.001])},\n",
              "  'Sharpe Ratio': 0.22,\n",
              "  'Piotroski F-Score': '',\n",
              "  'Revenue Growth': '',\n",
              "  'Earning per Share': '',\n",
              "  'Price to Earning': 0,\n",
              "  'Debt to Equity': 0,\n",
              "  'Free Cash Flow': '',\n",
              "  'Return on Equity': '',\n",
              "  'Dividend Yield': 0.0},\n",
              " 'VTNY.JK': {'Average Daily Returns': -0.0009955149009224593,\n",
              "  'Beta Alpha': '',\n",
              "  'Sharpe Ratio': -0.24,\n",
              "  'Piotroski F-Score': '',\n",
              "  'Revenue Growth': -45.248286549253265,\n",
              "  'Earning per Share': 0.056936358734032355,\n",
              "  'Price to Earning': 3091.1706317952535,\n",
              "  'Debt to Equity': 14.694306379036895,\n",
              "  'Free Cash Flow': '',\n",
              "  'Return on Equity': 1.0798686000248954,\n",
              "  'Dividend Yield': 0.0},\n",
              " 'WAPO.JK': {'Average Daily Returns': 0.0020169358111902227,\n",
              "  'Beta Alpha': {'beta': array([0.056]), 'alpha': array([0.002])},\n",
              "  'Sharpe Ratio': 0.55,\n",
              "  'Piotroski F-Score': '',\n",
              "  'Revenue Growth': '',\n",
              "  'Earning per Share': '',\n",
              "  'Price to Earning': 0,\n",
              "  'Debt to Equity': 0,\n",
              "  'Free Cash Flow': '',\n",
              "  'Return on Equity': '',\n",
              "  'Dividend Yield': 5.87719298245614},\n",
              " 'WEGE.JK': {'Average Daily Returns': -0.0007636151490828161,\n",
              "  'Beta Alpha': {'beta': array([-0.027]), 'alpha': array([-0.001])},\n",
              "  'Sharpe Ratio': -0.52,\n",
              "  'Piotroski F-Score': '',\n",
              "  'Revenue Growth': -11.303399747464361,\n",
              "  'Earning per Share': 16.01347943172281,\n",
              "  'Price to Earning': 5.120686003914767,\n",
              "  'Debt to Equity': 0.49311071116174865,\n",
              "  'Free Cash Flow': '',\n",
              "  'Return on Equity': 7.089996774330341,\n",
              "  'Dividend Yield': 42.49268292682927},\n",
              " 'WEHA.JK': {'Average Daily Returns': 0.001686355720187113,\n",
              "  'Beta Alpha': {'beta': array([-0.09]), 'alpha': array([0.002])},\n",
              "  'Sharpe Ratio': 0.56,\n",
              "  'Piotroski F-Score': '',\n",
              "  'Revenue Growth': -24.53143029551349,\n",
              "  'Earning per Share': -22.96873746705022,\n",
              "  'Price to Earning': -7.1836773891773795,\n",
              "  'Debt to Equity': 0.769977730310654,\n",
              "  'Free Cash Flow': '',\n",
              "  'Return on Equity': -28.496712189403254,\n",
              "  'Dividend Yield': 5.569696969696969},\n",
              " 'WGSH.JK': {'Average Daily Returns': -0.000854517018941631,\n",
              "  'Beta Alpha': '',\n",
              "  'Sharpe Ratio': -0.35,\n",
              "  'Piotroski F-Score': '',\n",
              "  'Revenue Growth': '',\n",
              "  'Earning per Share': '',\n",
              "  'Price to Earning': 0,\n",
              "  'Debt to Equity': 0,\n",
              "  'Free Cash Flow': '',\n",
              "  'Return on Equity': '',\n",
              "  'Dividend Yield': 0.0},\n",
              " 'WICO.JK': {'Average Daily Returns': -0.0008217993794183083,\n",
              "  'Beta Alpha': {'beta': array([-0.046]), 'alpha': array([-0.001])},\n",
              "  'Sharpe Ratio': -0.41,\n",
              "  'Piotroski F-Score': '',\n",
              "  'Revenue Growth': '',\n",
              "  'Earning per Share': '',\n",
              "  'Price to Earning': 0,\n",
              "  'Debt to Equity': 0,\n",
              "  'Free Cash Flow': '',\n",
              "  'Return on Equity': '',\n",
              "  'Dividend Yield': 0.0},\n",
              " 'WIDI.JK': {'Average Daily Returns': -0.006287926166602823,\n",
              "  'Beta Alpha': '',\n",
              "  'Sharpe Ratio': -1.27,\n",
              "  'Piotroski F-Score': '',\n",
              "  'Revenue Growth': '',\n",
              "  'Earning per Share': '',\n",
              "  'Price to Earning': 0,\n",
              "  'Debt to Equity': 0,\n",
              "  'Free Cash Flow': '',\n",
              "  'Return on Equity': '',\n",
              "  'Dividend Yield': 0.0},\n",
              " 'WIFI.JK': {'Average Daily Returns': -0.001405417409160003,\n",
              "  'Beta Alpha': '',\n",
              "  'Sharpe Ratio': -0.7,\n",
              "  'Piotroski F-Score': '',\n",
              "  'Revenue Growth': '',\n",
              "  'Earning per Share': '',\n",
              "  'Price to Earning': 0,\n",
              "  'Debt to Equity': 0,\n",
              "  'Free Cash Flow': '',\n",
              "  'Return on Equity': '',\n",
              "  'Dividend Yield': 0.0},\n",
              " 'WIIM.JK': {'Average Daily Returns': 0.0032571323327625053,\n",
              "  'Beta Alpha': {'beta': array([0.045]), 'alpha': array([0.003])},\n",
              "  'Sharpe Ratio': 1.32,\n",
              "  'Piotroski F-Score': '',\n",
              "  'Revenue Growth': -27.05590140239529,\n",
              "  'Earning per Share': 83.13337358291774,\n",
              "  'Price to Earning': 19.4867588091346,\n",
              "  'Debt to Equity': 0.003634603385766526,\n",
              "  'Free Cash Flow': '',\n",
              "  'Return on Equity': 14.543920615789032,\n",
              "  'Dividend Yield': 6.3580246913580245},\n",
              " 'WIKA.JK': {'Average Daily Returns': -0.001336014159348376,\n",
              "  'Beta Alpha': {'beta': array([0.032]), 'alpha': array([-0.001])},\n",
              "  'Sharpe Ratio': -0.67,\n",
              "  'Piotroski F-Score': '',\n",
              "  'Revenue Growth': -7.149670233914408,\n",
              "  'Earning per Share': 20.712373275531952,\n",
              "  'Price to Earning': 11.587276687578726,\n",
              "  'Debt to Equity': 2.4642187839596748,\n",
              "  'Free Cash Flow': '',\n",
              "  'Return on Equity': 1.358125454529389,\n",
              "  'Dividend Yield': 144.15279166666664},\n",
              " 'WINE.JK': {'Average Daily Returns': 0.005001920234793275,\n",
              "  'Beta Alpha': '',\n",
              "  'Sharpe Ratio': 1.32,\n",
              "  'Piotroski F-Score': '',\n",
              "  'Revenue Growth': 11.995604893971697,\n",
              "  'Earning per Share': -3.5797696416197367,\n",
              "  'Price to Earning': -111.73903352591486,\n",
              "  'Debt to Equity': 0.6449750497397211,\n",
              "  'Free Cash Flow': '',\n",
              "  'Return on Equity': -7.418330394015952,\n",
              "  'Dividend Yield': 0.0},\n",
              " 'WINR.JK': {'Average Daily Returns': -0.001616225741726443,\n",
              "  'Beta Alpha': '',\n",
              "  'Sharpe Ratio': -0.66,\n",
              "  'Piotroski F-Score': '',\n",
              "  'Revenue Growth': '',\n",
              "  'Earning per Share': '',\n",
              "  'Price to Earning': 0,\n",
              "  'Debt to Equity': 0,\n",
              "  'Free Cash Flow': '',\n",
              "  'Return on Equity': '',\n",
              "  'Dividend Yield': 0.0},\n",
              " 'WINS.JK': {'Average Daily Returns': 0.002311517045365637,\n",
              "  'Beta Alpha': {'beta': array([0.105]), 'alpha': array([0.002])},\n",
              "  'Sharpe Ratio': 0.99,\n",
              "  'Piotroski F-Score': '',\n",
              "  'Revenue Growth': 2.645328224315495,\n",
              "  'Earning per Share': -0.0028302782015190574,\n",
              "  'Price to Earning': -140622.218616667,\n",
              "  'Debt to Equity': 0.14956663140535525,\n",
              "  'Free Cash Flow': '',\n",
              "  'Return on Equity': -9.97233132112694,\n",
              "  'Dividend Yield': 3.8090452261306535},\n",
              " 'WIRG.JK': {'Average Daily Returns': -0.0006486233308379539,\n",
              "  'Beta Alpha': '',\n",
              "  'Sharpe Ratio': -0.19,\n",
              "  'Piotroski F-Score': '',\n",
              "  'Revenue Growth': -27.51048633801132,\n",
              "  'Earning per Share': 0.6286232476363969,\n",
              "  'Price to Earning': 170.2132404461918,\n",
              "  'Debt to Equity': 0.47423872852457766,\n",
              "  'Free Cash Flow': '',\n",
              "  'Return on Equity': 6.535776177448889,\n",
              "  'Dividend Yield': 0.0},\n",
              " 'WMPP.JK': {'Average Daily Returns': -0.0017033226878425945,\n",
              "  'Beta Alpha': '',\n",
              "  'Sharpe Ratio': -0.86,\n",
              "  'Piotroski F-Score': '',\n",
              "  'Revenue Growth': -51.378378139076645,\n",
              "  'Earning per Share': 2.4737163090503937,\n",
              "  'Price to Earning': 20.212503680017342,\n",
              "  'Debt to Equity': 3.8532896412517994,\n",
              "  'Free Cash Flow': '',\n",
              "  'Return on Equity': 9.08207786124407,\n",
              "  'Dividend Yield': 0.0},\n",
              " 'WMUU.JK': {'Average Daily Returns': -0.0018183589445973313,\n",
              "  'Beta Alpha': '',\n",
              "  'Sharpe Ratio': -1.12,\n",
              "  'Piotroski F-Score': '',\n",
              "  'Revenue Growth': -62.808456146875336,\n",
              "  'Earning per Share': 5.638445209937026,\n",
              "  'Price to Earning': 8.86769280153357,\n",
              "  'Debt to Equity': 1.8684276221806442,\n",
              "  'Free Cash Flow': '',\n",
              "  'Return on Equity': 10.862105346206315,\n",
              "  'Dividend Yield': 0.0},\n",
              " 'WOMF.JK': {'Average Daily Returns': 0.0009521879394790108,\n",
              "  'Beta Alpha': {'beta': array([-0.001]), 'alpha': array([0.001])},\n",
              "  'Sharpe Ratio': 0.58,\n",
              "  'Piotroski F-Score': 5,\n",
              "  'Revenue Growth': 14.02223732416316,\n",
              "  'Earning per Share': 16.480922209743852,\n",
              "  'Price to Earning': 24.270486500052282,\n",
              "  'Debt to Equity': 3.7123534931637456,\n",
              "  'Free Cash Flow': 2789432000000.0,\n",
              "  'Return on Equity': 4.687787226845993,\n",
              "  'Dividend Yield': 31.662499999999998},\n",
              " 'WOOD.JK': {'Average Daily Returns': -2.6440727335008307e-05,\n",
              "  'Beta Alpha': {'beta': array([-0.078]), 'alpha': array([0.])},\n",
              "  'Sharpe Ratio': -0.02,\n",
              "  'Piotroski F-Score': '',\n",
              "  'Revenue Growth': -45.91606286192443,\n",
              "  'Earning per Share': 50.12261748241567,\n",
              "  'Price to Earning': 6.9429734016202875,\n",
              "  'Debt to Equity': 0.9327213181295866,\n",
              "  'Free Cash Flow': '',\n",
              "  'Return on Equity': 10.644089963931442,\n",
              "  'Dividend Yield': 0.7183908045977011},\n",
              " 'WOWS.JK': {'Average Daily Returns': 0.0005742508427656764,\n",
              "  'Beta Alpha': {'beta': array([0.075]), 'alpha': array([0.001])},\n",
              "  'Sharpe Ratio': 0.26,\n",
              "  'Piotroski F-Score': '',\n",
              "  'Revenue Growth': '',\n",
              "  'Earning per Share': '',\n",
              "  'Price to Earning': 0,\n",
              "  'Debt to Equity': 0,\n",
              "  'Free Cash Flow': '',\n",
              "  'Return on Equity': '',\n",
              "  'Dividend Yield': 0.0},\n",
              " 'WSBP.JK': {'Average Daily Returns': -0.0013445707122021042,\n",
              "  'Beta Alpha': {'beta': array([0.061]), 'alpha': array([-0.001])},\n",
              "  'Sharpe Ratio': -1.05,\n",
              "  'Piotroski F-Score': '',\n",
              "  'Revenue Growth': 60.23904630605108,\n",
              "  'Earning per Share': -81.3371056963142,\n",
              "  'Price to Earning': -0.614725586458454,\n",
              "  'Debt to Equity': -4.9234209790898396,\n",
              "  'Free Cash Flow': '',\n",
              "  'Return on Equity': 490.48115469040647,\n",
              "  'Dividend Yield': 77.645},\n",
              " 'WSKT.JK': {'Average Daily Returns': -0.0010089175250566724,\n",
              "  'Beta Alpha': {'beta': array([0.067]), 'alpha': array([-0.001])},\n",
              "  'Sharpe Ratio': -0.55,\n",
              "  'Piotroski F-Score': '',\n",
              "  'Revenue Growth': 32.44671601249115,\n",
              "  'Earning per Share': -255.4841226588805,\n",
              "  'Price to Earning': -0.7906557867382942,\n",
              "  'Debt to Equity': 21.01402904846495,\n",
              "  'Free Cash Flow': '',\n",
              "  'Return on Equity': -230.2484987937335,\n",
              "  'Dividend Yield': 104.3712376237624},\n",
              " 'WTON.JK': {'Average Daily Returns': -0.0009197621460162024,\n",
              "  'Beta Alpha': {'beta': array([0.018]), 'alpha': array([-0.001])},\n",
              "  'Sharpe Ratio': -0.66,\n",
              "  'Piotroski F-Score': '',\n",
              "  'Revenue Growth': 7.723085752263419,\n",
              "  'Earning per Share': 14.69255184285978,\n",
              "  'Price to Earning': 7.282601493899058,\n",
              "  'Debt to Equity': 0.2911524914157562,\n",
              "  'Free Cash Flow': '',\n",
              "  'Return on Equity': 3.8515343132818556,\n",
              "  'Dividend Yield': 70.85046728971963},\n",
              " 'YELO.JK': {'Average Daily Returns': 0.002085804551510491,\n",
              "  'Beta Alpha': {'beta': array([0.135]), 'alpha': array([0.002])},\n",
              "  'Sharpe Ratio': 0.68,\n",
              "  'Piotroski F-Score': '',\n",
              "  'Revenue Growth': '',\n",
              "  'Earning per Share': '',\n",
              "  'Price to Earning': 0,\n",
              "  'Debt to Equity': 0,\n",
              "  'Free Cash Flow': '',\n",
              "  'Return on Equity': '',\n",
              "  'Dividend Yield': 0.0},\n",
              " 'YPAS.JK': {'Average Daily Returns': 0.0018043620876804455,\n",
              "  'Beta Alpha': {'beta': array([-0.068]), 'alpha': array([0.002])},\n",
              "  'Sharpe Ratio': 0.43,\n",
              "  'Piotroski F-Score': '',\n",
              "  'Revenue Growth': -10.569684325223133,\n",
              "  'Earning per Share': 12.477332937125748,\n",
              "  'Price to Earning': 26.12737847444958,\n",
              "  'Debt to Equity': 0.7688411978462315,\n",
              "  'Free Cash Flow': '',\n",
              "  'Return on Equity': 6.348122912576723,\n",
              "  'Dividend Yield': 12.269938650306749},\n",
              " 'YULE.JK': {'Average Daily Returns': 0.0036920065807314697,\n",
              "  'Beta Alpha': {'beta': array([0.124]), 'alpha': array([0.004])},\n",
              "  'Sharpe Ratio': 1.54,\n",
              "  'Piotroski F-Score': '',\n",
              "  'Revenue Growth': -58.47054558563053,\n",
              "  'Earning per Share': -4.664337517909746,\n",
              "  'Price to Earning': -503.8228882401113,\n",
              "  'Debt to Equity': 0.004448988603572745,\n",
              "  'Free Cash Flow': '',\n",
              "  'Return on Equity': -2.0789253348730705,\n",
              "  'Dividend Yield': 1.276595744680851},\n",
              " 'ZATA.JK': {'Average Daily Returns': -0.0018543728065582154,\n",
              "  'Beta Alpha': '',\n",
              "  'Sharpe Ratio': -0.52,\n",
              "  'Piotroski F-Score': '',\n",
              "  'Revenue Growth': '',\n",
              "  'Earning per Share': '',\n",
              "  'Price to Earning': 0,\n",
              "  'Debt to Equity': 0,\n",
              "  'Free Cash Flow': '',\n",
              "  'Return on Equity': '',\n",
              "  'Dividend Yield': 0.0},\n",
              " 'ZBRA.JK': {'Average Daily Returns': 0.0036746223482285113,\n",
              "  'Beta Alpha': {'beta': array([-0.041]), 'alpha': array([0.004])},\n",
              "  'Sharpe Ratio': 1.25,\n",
              "  'Piotroski F-Score': '',\n",
              "  'Revenue Growth': -99.57976360473391,\n",
              "  'Earning per Share': -40.75544990956153,\n",
              "  'Price to Earning': -11.335907247379238,\n",
              "  'Debt to Equity': -109.97104002876553,\n",
              "  'Free Cash Flow': '',\n",
              "  'Return on Equity': 15.259922801198083,\n",
              "  'Dividend Yield': 0.0},\n",
              " 'ZINC.JK': {'Average Daily Returns': -0.0009679747722434755,\n",
              "  'Beta Alpha': {'beta': array([-0.001]), 'alpha': array([-0.001])},\n",
              "  'Sharpe Ratio': -0.75,\n",
              "  'Piotroski F-Score': '',\n",
              "  'Revenue Growth': -27.50067456477768,\n",
              "  'Earning per Share': 1.2257910540471768,\n",
              "  'Price to Earning': 40.78998605424286,\n",
              "  'Debt to Equity': 1.9829731889666575,\n",
              "  'Free Cash Flow': '',\n",
              "  'Return on Equity': 3.929129961324441,\n",
              "  'Dividend Yield': 0.792},\n",
              " 'ZONE.JK': {'Average Daily Returns': 0.001258907159930839,\n",
              "  'Beta Alpha': {'beta': array([-0.022]), 'alpha': array([0.001])},\n",
              "  'Sharpe Ratio': 1.08,\n",
              "  'Piotroski F-Score': '',\n",
              "  'Revenue Growth': '',\n",
              "  'Earning per Share': '',\n",
              "  'Price to Earning': 0,\n",
              "  'Debt to Equity': 0,\n",
              "  'Free Cash Flow': '',\n",
              "  'Return on Equity': '',\n",
              "  'Dividend Yield': 0.0},\n",
              " 'ZYRX.JK': {'Average Daily Returns': -0.00032975280461342677,\n",
              "  'Beta Alpha': '',\n",
              "  'Sharpe Ratio': -0.15,\n",
              "  'Piotroski F-Score': '',\n",
              "  'Revenue Growth': '',\n",
              "  'Earning per Share': '',\n",
              "  'Price to Earning': 0,\n",
              "  'Debt to Equity': 0,\n",
              "  'Free Cash Flow': '',\n",
              "  'Return on Equity': '',\n",
              "  'Dividend Yield': 0.0}}"
            ]
          },
          "metadata": {},
          "execution_count": 164
        }
      ]
    },
    {
      "cell_type": "markdown",
      "source": [
        "## Create Pandas DataFrame from the Calculation Result"
      ],
      "metadata": {
        "id": "J98F4Nvgpvrj"
      }
    },
    {
      "cell_type": "code",
      "source": [
        "analysis = pd.DataFrame.from_dict(stock_analysis, orient='index')\n",
        "analysis.head()"
      ],
      "metadata": {
        "colab": {
          "base_uri": "https://localhost:8080/",
          "height": 206
        },
        "id": "n0wC0IrYlLg_",
        "outputId": "18bd2850-929b-4c8c-9bf9-8f31bf6001ee"
      },
      "execution_count": 166,
      "outputs": [
        {
          "output_type": "execute_result",
          "data": {
            "text/plain": [
              "         Average Daily Returns                            Beta Alpha  \\\n",
              "AALI.JK              -0.000030    {'beta': [0.035], 'alpha': [-0.0]}   \n",
              "ABBA.JK               0.001393  {'beta': [-0.047], 'alpha': [0.001]}   \n",
              "ABDA.JK               0.000081    {'beta': [-0.006], 'alpha': [0.0]}   \n",
              "ABMM.JK               0.001542   {'beta': [0.138], 'alpha': [0.001]}   \n",
              "ACES.JK              -0.000341    {'beta': [0.039], 'alpha': [-0.0]}   \n",
              "\n",
              "         Sharpe Ratio Piotroski F-Score Revenue Growth Earning per Share  \\\n",
              "AALI.JK         -0.03                        -22.67492         432.84372   \n",
              "ABBA.JK          0.45                        -6.034069        -11.406883   \n",
              "ABDA.JK          0.07                        15.041351       3906.974495   \n",
              "ABMM.JK          0.73                       -40.656829         -0.012952   \n",
              "ACES.JK         -0.21                         13.28681         42.825836   \n",
              "\n",
              "         Price to Earning  Debt to Equity Free Cash Flow Return on Equity  \\\n",
              "AALI.JK         15.363513        0.213574                        4.442556   \n",
              "ABBA.JK         -4.558651      -20.456808                      458.951936   \n",
              "ABDA.JK          1.279763        0.000000                        9.963071   \n",
              "ABMM.JK    -286439.274619        5.803908                      -19.281866   \n",
              "ACES.JK         19.264072        0.163593                       13.764517   \n",
              "\n",
              "         Dividend Yield  \n",
              "AALI.JK      134.703368  \n",
              "ABBA.JK        0.000000  \n",
              "ABDA.JK       21.986799  \n",
              "ABMM.JK       19.778217  \n",
              "ACES.JK       27.459879  "
            ],
            "text/html": [
              "\n",
              "  <div id=\"df-e3423bdb-2ee3-497f-9e3a-c77cbbe723d4\" class=\"colab-df-container\">\n",
              "    <div>\n",
              "<style scoped>\n",
              "    .dataframe tbody tr th:only-of-type {\n",
              "        vertical-align: middle;\n",
              "    }\n",
              "\n",
              "    .dataframe tbody tr th {\n",
              "        vertical-align: top;\n",
              "    }\n",
              "\n",
              "    .dataframe thead th {\n",
              "        text-align: right;\n",
              "    }\n",
              "</style>\n",
              "<table border=\"1\" class=\"dataframe\">\n",
              "  <thead>\n",
              "    <tr style=\"text-align: right;\">\n",
              "      <th></th>\n",
              "      <th>Average Daily Returns</th>\n",
              "      <th>Beta Alpha</th>\n",
              "      <th>Sharpe Ratio</th>\n",
              "      <th>Piotroski F-Score</th>\n",
              "      <th>Revenue Growth</th>\n",
              "      <th>Earning per Share</th>\n",
              "      <th>Price to Earning</th>\n",
              "      <th>Debt to Equity</th>\n",
              "      <th>Free Cash Flow</th>\n",
              "      <th>Return on Equity</th>\n",
              "      <th>Dividend Yield</th>\n",
              "    </tr>\n",
              "  </thead>\n",
              "  <tbody>\n",
              "    <tr>\n",
              "      <th>AALI.JK</th>\n",
              "      <td>-0.000030</td>\n",
              "      <td>{'beta': [0.035], 'alpha': [-0.0]}</td>\n",
              "      <td>-0.03</td>\n",
              "      <td></td>\n",
              "      <td>-22.67492</td>\n",
              "      <td>432.84372</td>\n",
              "      <td>15.363513</td>\n",
              "      <td>0.213574</td>\n",
              "      <td></td>\n",
              "      <td>4.442556</td>\n",
              "      <td>134.703368</td>\n",
              "    </tr>\n",
              "    <tr>\n",
              "      <th>ABBA.JK</th>\n",
              "      <td>0.001393</td>\n",
              "      <td>{'beta': [-0.047], 'alpha': [0.001]}</td>\n",
              "      <td>0.45</td>\n",
              "      <td></td>\n",
              "      <td>-6.034069</td>\n",
              "      <td>-11.406883</td>\n",
              "      <td>-4.558651</td>\n",
              "      <td>-20.456808</td>\n",
              "      <td></td>\n",
              "      <td>458.951936</td>\n",
              "      <td>0.000000</td>\n",
              "    </tr>\n",
              "    <tr>\n",
              "      <th>ABDA.JK</th>\n",
              "      <td>0.000081</td>\n",
              "      <td>{'beta': [-0.006], 'alpha': [0.0]}</td>\n",
              "      <td>0.07</td>\n",
              "      <td></td>\n",
              "      <td>15.041351</td>\n",
              "      <td>3906.974495</td>\n",
              "      <td>1.279763</td>\n",
              "      <td>0.000000</td>\n",
              "      <td></td>\n",
              "      <td>9.963071</td>\n",
              "      <td>21.986799</td>\n",
              "    </tr>\n",
              "    <tr>\n",
              "      <th>ABMM.JK</th>\n",
              "      <td>0.001542</td>\n",
              "      <td>{'beta': [0.138], 'alpha': [0.001]}</td>\n",
              "      <td>0.73</td>\n",
              "      <td></td>\n",
              "      <td>-40.656829</td>\n",
              "      <td>-0.012952</td>\n",
              "      <td>-286439.274619</td>\n",
              "      <td>5.803908</td>\n",
              "      <td></td>\n",
              "      <td>-19.281866</td>\n",
              "      <td>19.778217</td>\n",
              "    </tr>\n",
              "    <tr>\n",
              "      <th>ACES.JK</th>\n",
              "      <td>-0.000341</td>\n",
              "      <td>{'beta': [0.039], 'alpha': [-0.0]}</td>\n",
              "      <td>-0.21</td>\n",
              "      <td></td>\n",
              "      <td>13.28681</td>\n",
              "      <td>42.825836</td>\n",
              "      <td>19.264072</td>\n",
              "      <td>0.163593</td>\n",
              "      <td></td>\n",
              "      <td>13.764517</td>\n",
              "      <td>27.459879</td>\n",
              "    </tr>\n",
              "  </tbody>\n",
              "</table>\n",
              "</div>\n",
              "    <div class=\"colab-df-buttons\">\n",
              "\n",
              "  <div class=\"colab-df-container\">\n",
              "    <button class=\"colab-df-convert\" onclick=\"convertToInteractive('df-e3423bdb-2ee3-497f-9e3a-c77cbbe723d4')\"\n",
              "            title=\"Convert this dataframe to an interactive table.\"\n",
              "            style=\"display:none;\">\n",
              "\n",
              "  <svg xmlns=\"http://www.w3.org/2000/svg\" height=\"24px\" viewBox=\"0 -960 960 960\">\n",
              "    <path d=\"M120-120v-720h720v720H120Zm60-500h600v-160H180v160Zm220 220h160v-160H400v160Zm0 220h160v-160H400v160ZM180-400h160v-160H180v160Zm440 0h160v-160H620v160ZM180-180h160v-160H180v160Zm440 0h160v-160H620v160Z\"/>\n",
              "  </svg>\n",
              "    </button>\n",
              "\n",
              "  <style>\n",
              "    .colab-df-container {\n",
              "      display:flex;\n",
              "      gap: 12px;\n",
              "    }\n",
              "\n",
              "    .colab-df-convert {\n",
              "      background-color: #E8F0FE;\n",
              "      border: none;\n",
              "      border-radius: 50%;\n",
              "      cursor: pointer;\n",
              "      display: none;\n",
              "      fill: #1967D2;\n",
              "      height: 32px;\n",
              "      padding: 0 0 0 0;\n",
              "      width: 32px;\n",
              "    }\n",
              "\n",
              "    .colab-df-convert:hover {\n",
              "      background-color: #E2EBFA;\n",
              "      box-shadow: 0px 1px 2px rgba(60, 64, 67, 0.3), 0px 1px 3px 1px rgba(60, 64, 67, 0.15);\n",
              "      fill: #174EA6;\n",
              "    }\n",
              "\n",
              "    .colab-df-buttons div {\n",
              "      margin-bottom: 4px;\n",
              "    }\n",
              "\n",
              "    [theme=dark] .colab-df-convert {\n",
              "      background-color: #3B4455;\n",
              "      fill: #D2E3FC;\n",
              "    }\n",
              "\n",
              "    [theme=dark] .colab-df-convert:hover {\n",
              "      background-color: #434B5C;\n",
              "      box-shadow: 0px 1px 3px 1px rgba(0, 0, 0, 0.15);\n",
              "      filter: drop-shadow(0px 1px 2px rgba(0, 0, 0, 0.3));\n",
              "      fill: #FFFFFF;\n",
              "    }\n",
              "  </style>\n",
              "\n",
              "    <script>\n",
              "      const buttonEl =\n",
              "        document.querySelector('#df-e3423bdb-2ee3-497f-9e3a-c77cbbe723d4 button.colab-df-convert');\n",
              "      buttonEl.style.display =\n",
              "        google.colab.kernel.accessAllowed ? 'block' : 'none';\n",
              "\n",
              "      async function convertToInteractive(key) {\n",
              "        const element = document.querySelector('#df-e3423bdb-2ee3-497f-9e3a-c77cbbe723d4');\n",
              "        const dataTable =\n",
              "          await google.colab.kernel.invokeFunction('convertToInteractive',\n",
              "                                                    [key], {});\n",
              "        if (!dataTable) return;\n",
              "\n",
              "        const docLinkHtml = 'Like what you see? Visit the ' +\n",
              "          '<a target=\"_blank\" href=https://colab.research.google.com/notebooks/data_table.ipynb>data table notebook</a>'\n",
              "          + ' to learn more about interactive tables.';\n",
              "        element.innerHTML = '';\n",
              "        dataTable['output_type'] = 'display_data';\n",
              "        await google.colab.output.renderOutput(dataTable, element);\n",
              "        const docLink = document.createElement('div');\n",
              "        docLink.innerHTML = docLinkHtml;\n",
              "        element.appendChild(docLink);\n",
              "      }\n",
              "    </script>\n",
              "  </div>\n",
              "\n",
              "\n",
              "<div id=\"df-a0c9668e-5b03-46f5-a0af-b5a6ec2defbe\">\n",
              "  <button class=\"colab-df-quickchart\" onclick=\"quickchart('df-a0c9668e-5b03-46f5-a0af-b5a6ec2defbe')\"\n",
              "            title=\"Suggest charts\"\n",
              "            style=\"display:none;\">\n",
              "\n",
              "<svg xmlns=\"http://www.w3.org/2000/svg\" height=\"24px\"viewBox=\"0 0 24 24\"\n",
              "     width=\"24px\">\n",
              "    <g>\n",
              "        <path d=\"M19 3H5c-1.1 0-2 .9-2 2v14c0 1.1.9 2 2 2h14c1.1 0 2-.9 2-2V5c0-1.1-.9-2-2-2zM9 17H7v-7h2v7zm4 0h-2V7h2v10zm4 0h-2v-4h2v4z\"/>\n",
              "    </g>\n",
              "</svg>\n",
              "  </button>\n",
              "\n",
              "<style>\n",
              "  .colab-df-quickchart {\n",
              "      --bg-color: #E8F0FE;\n",
              "      --fill-color: #1967D2;\n",
              "      --hover-bg-color: #E2EBFA;\n",
              "      --hover-fill-color: #174EA6;\n",
              "      --disabled-fill-color: #AAA;\n",
              "      --disabled-bg-color: #DDD;\n",
              "  }\n",
              "\n",
              "  [theme=dark] .colab-df-quickchart {\n",
              "      --bg-color: #3B4455;\n",
              "      --fill-color: #D2E3FC;\n",
              "      --hover-bg-color: #434B5C;\n",
              "      --hover-fill-color: #FFFFFF;\n",
              "      --disabled-bg-color: #3B4455;\n",
              "      --disabled-fill-color: #666;\n",
              "  }\n",
              "\n",
              "  .colab-df-quickchart {\n",
              "    background-color: var(--bg-color);\n",
              "    border: none;\n",
              "    border-radius: 50%;\n",
              "    cursor: pointer;\n",
              "    display: none;\n",
              "    fill: var(--fill-color);\n",
              "    height: 32px;\n",
              "    padding: 0;\n",
              "    width: 32px;\n",
              "  }\n",
              "\n",
              "  .colab-df-quickchart:hover {\n",
              "    background-color: var(--hover-bg-color);\n",
              "    box-shadow: 0 1px 2px rgba(60, 64, 67, 0.3), 0 1px 3px 1px rgba(60, 64, 67, 0.15);\n",
              "    fill: var(--button-hover-fill-color);\n",
              "  }\n",
              "\n",
              "  .colab-df-quickchart-complete:disabled,\n",
              "  .colab-df-quickchart-complete:disabled:hover {\n",
              "    background-color: var(--disabled-bg-color);\n",
              "    fill: var(--disabled-fill-color);\n",
              "    box-shadow: none;\n",
              "  }\n",
              "\n",
              "  .colab-df-spinner {\n",
              "    border: 2px solid var(--fill-color);\n",
              "    border-color: transparent;\n",
              "    border-bottom-color: var(--fill-color);\n",
              "    animation:\n",
              "      spin 1s steps(1) infinite;\n",
              "  }\n",
              "\n",
              "  @keyframes spin {\n",
              "    0% {\n",
              "      border-color: transparent;\n",
              "      border-bottom-color: var(--fill-color);\n",
              "      border-left-color: var(--fill-color);\n",
              "    }\n",
              "    20% {\n",
              "      border-color: transparent;\n",
              "      border-left-color: var(--fill-color);\n",
              "      border-top-color: var(--fill-color);\n",
              "    }\n",
              "    30% {\n",
              "      border-color: transparent;\n",
              "      border-left-color: var(--fill-color);\n",
              "      border-top-color: var(--fill-color);\n",
              "      border-right-color: var(--fill-color);\n",
              "    }\n",
              "    40% {\n",
              "      border-color: transparent;\n",
              "      border-right-color: var(--fill-color);\n",
              "      border-top-color: var(--fill-color);\n",
              "    }\n",
              "    60% {\n",
              "      border-color: transparent;\n",
              "      border-right-color: var(--fill-color);\n",
              "    }\n",
              "    80% {\n",
              "      border-color: transparent;\n",
              "      border-right-color: var(--fill-color);\n",
              "      border-bottom-color: var(--fill-color);\n",
              "    }\n",
              "    90% {\n",
              "      border-color: transparent;\n",
              "      border-bottom-color: var(--fill-color);\n",
              "    }\n",
              "  }\n",
              "</style>\n",
              "\n",
              "  <script>\n",
              "    async function quickchart(key) {\n",
              "      const quickchartButtonEl =\n",
              "        document.querySelector('#' + key + ' button');\n",
              "      quickchartButtonEl.disabled = true;  // To prevent multiple clicks.\n",
              "      quickchartButtonEl.classList.add('colab-df-spinner');\n",
              "      try {\n",
              "        const charts = await google.colab.kernel.invokeFunction(\n",
              "            'suggestCharts', [key], {});\n",
              "      } catch (error) {\n",
              "        console.error('Error during call to suggestCharts:', error);\n",
              "      }\n",
              "      quickchartButtonEl.classList.remove('colab-df-spinner');\n",
              "      quickchartButtonEl.classList.add('colab-df-quickchart-complete');\n",
              "    }\n",
              "    (() => {\n",
              "      let quickchartButtonEl =\n",
              "        document.querySelector('#df-a0c9668e-5b03-46f5-a0af-b5a6ec2defbe button');\n",
              "      quickchartButtonEl.style.display =\n",
              "        google.colab.kernel.accessAllowed ? 'block' : 'none';\n",
              "    })();\n",
              "  </script>\n",
              "</div>\n",
              "    </div>\n",
              "  </div>\n"
            ],
            "application/vnd.google.colaboratory.intrinsic+json": {
              "type": "dataframe",
              "variable_name": "analysis",
              "summary": "{\n  \"name\": \"analysis\",\n  \"rows\": 921,\n  \"fields\": [\n    {\n      \"column\": \"Average Daily Returns\",\n      \"properties\": {\n        \"dtype\": \"number\",\n        \"std\": 0.003642557562496349,\n        \"min\": -0.048334513021510206,\n        \"max\": 0.033613796021813705,\n        \"num_unique_values\": 872,\n        \"samples\": [\n          -0.000604971594840401,\n          0.0013335627634279731,\n          -0.003303199455409674\n        ],\n        \"semantic_type\": \"\",\n        \"description\": \"\"\n      }\n    },\n    {\n      \"column\": \"Beta Alpha\",\n      \"properties\": {\n        \"dtype\": \"object\",\n        \"semantic_type\": \"\",\n        \"description\": \"\"\n      }\n    },\n    {\n      \"column\": \"Sharpe Ratio\",\n      \"properties\": {\n        \"dtype\": \"number\",\n        \"std\": 1.113376463109894,\n        \"min\": -16.67,\n        \"max\": 5.15,\n        \"num_unique_values\": 287,\n        \"samples\": [\n          -0.18,\n          3.34,\n          0.28\n        ],\n        \"semantic_type\": \"\",\n        \"description\": \"\"\n      }\n    },\n    {\n      \"column\": \"Piotroski F-Score\",\n      \"properties\": {\n        \"dtype\": \"object\",\n        \"num_unique_values\": 7,\n        \"samples\": [\n          \"\",\n          5,\n          2\n        ],\n        \"semantic_type\": \"\",\n        \"description\": \"\"\n      }\n    },\n    {\n      \"column\": \"Revenue Growth\",\n      \"properties\": {\n        \"dtype\": \"date\",\n        \"min\": \"1969-12-31 23:59:59.999999900\",\n        \"max\": \"1970-01-01 00:00:00.000000977\",\n        \"num_unique_values\": 589,\n        \"samples\": [\n          33.77725941577047,\n          -1.5067344296714726,\n          -28.551934764578718\n        ],\n        \"semantic_type\": \"\",\n        \"description\": \"\"\n      }\n    },\n    {\n      \"column\": \"Earning per Share\",\n      \"properties\": {\n        \"dtype\": \"date\",\n        \"min\": \"1969-12-31 23:59:59.998291220\",\n        \"max\": \"1970-01-01 00:00:00.000044982\",\n        \"num_unique_values\": 585,\n        \"samples\": [\n          -20.065283290897078,\n          -113.30332366708558,\n          91.81766666666667\n        ],\n        \"semantic_type\": \"\",\n        \"description\": \"\"\n      }\n    },\n    {\n      \"column\": \"Price to Earning\",\n      \"properties\": {\n        \"dtype\": \"number\",\n        \"std\": 91201184.12528403,\n        \"min\": -2767378257.1970496,\n        \"max\": 34349230.87513117,\n        \"num_unique_values\": 585,\n        \"samples\": [\n          -4.435521727240014,\n          -0.900238375175139,\n          18.841689870867263\n        ],\n        \"semantic_type\": \"\",\n        \"description\": \"\"\n      }\n    },\n    {\n      \"column\": \"Debt to Equity\",\n      \"properties\": {\n        \"dtype\": \"number\",\n        \"std\": 6.316090485890675,\n        \"min\": -109.97104002876553,\n        \"max\": 87.03171059463773,\n        \"num_unique_values\": 547,\n        \"samples\": [\n          1.0573470047411995,\n          2.026389806201797,\n          -10.641718434914386\n        ],\n        \"semantic_type\": \"\",\n        \"description\": \"\"\n      }\n    },\n    {\n      \"column\": \"Free Cash Flow\",\n      \"properties\": {\n        \"dtype\": \"object\",\n        \"num_unique_values\": 54,\n        \"samples\": [\n          -1926662000000.0,\n          17487339120.0,\n          -1607309720000.0\n        ],\n        \"semantic_type\": \"\",\n        \"description\": \"\"\n      }\n    },\n    {\n      \"column\": \"Return on Equity\",\n      \"properties\": {\n        \"dtype\": \"date\",\n        \"min\": \"1969-12-31 23:59:59.999995035\",\n        \"max\": \"1970-01-01 00:00:00.000000645\",\n        \"num_unique_values\": 601,\n        \"samples\": [\n          2.229304781788637,\n          0.35050226227828934,\n          2.596701122200431\n        ],\n        \"semantic_type\": \"\",\n        \"description\": \"\"\n      }\n    },\n    {\n      \"column\": \"Dividend Yield\",\n      \"properties\": {\n        \"dtype\": \"number\",\n        \"std\": 220.20923645529055,\n        \"min\": 0.0,\n        \"max\": 3561.0285400000002,\n        \"num_unique_values\": 473,\n        \"samples\": [\n          398.1164761904762,\n          27.762962962962966,\n          6.231074074074074\n        ],\n        \"semantic_type\": \"\",\n        \"description\": \"\"\n      }\n    }\n  ]\n}"
            }
          },
          "metadata": {},
          "execution_count": 166
        }
      ]
    },
    {
      "cell_type": "code",
      "source": [
        "#Number of Columns\n",
        "\n",
        "analysis.columns"
      ],
      "metadata": {
        "colab": {
          "base_uri": "https://localhost:8080/"
        },
        "id": "pJ10D6mCqX0e",
        "outputId": "9710e903-3593-44ec-945c-de8659ef2167"
      },
      "execution_count": 167,
      "outputs": [
        {
          "output_type": "execute_result",
          "data": {
            "text/plain": [
              "Index(['Average Daily Returns', 'Beta Alpha', 'Sharpe Ratio',\n",
              "       'Piotroski F-Score', 'Revenue Growth', 'Earning per Share',\n",
              "       'Price to Earning', 'Debt to Equity', 'Free Cash Flow',\n",
              "       'Return on Equity', 'Dividend Yield'],\n",
              "      dtype='object')"
            ]
          },
          "metadata": {},
          "execution_count": 167
        }
      ]
    },
    {
      "cell_type": "code",
      "source": [
        "#Number of Null Values\n",
        "\n",
        "analysis.isna().sum()"
      ],
      "metadata": {
        "colab": {
          "base_uri": "https://localhost:8080/"
        },
        "id": "3pmd7VuwqfRx",
        "outputId": "08cc8626-1799-46d6-9485-6821b33458c8"
      },
      "execution_count": 168,
      "outputs": [
        {
          "output_type": "execute_result",
          "data": {
            "text/plain": [
              "Average Daily Returns    10\n",
              "Beta Alpha                0\n",
              "Sharpe Ratio             50\n",
              "Piotroski F-Score         0\n",
              "Revenue Growth            0\n",
              "Earning per Share         0\n",
              "Price to Earning          0\n",
              "Debt to Equity            0\n",
              "Free Cash Flow            1\n",
              "Return on Equity          0\n",
              "Dividend Yield            0\n",
              "dtype: int64"
            ]
          },
          "metadata": {},
          "execution_count": 168
        }
      ]
    },
    {
      "cell_type": "code",
      "source": [
        "#Number of Empty Strings\n",
        "\n",
        "empty_counts = analysis.apply(lambda col: col[col == \"\"].count())\n",
        "print(empty_counts)"
      ],
      "metadata": {
        "colab": {
          "base_uri": "https://localhost:8080/"
        },
        "id": "GPJBfkBMqlKE",
        "outputId": "bebb6d47-ad12-409c-c4a2-b47e688c7da7"
      },
      "execution_count": 176,
      "outputs": [
        {
          "output_type": "stream",
          "name": "stdout",
          "text": [
            "Average Daily Returns      0\n",
            "Beta Alpha               235\n",
            "Sharpe Ratio               0\n",
            "Piotroski F-Score        867\n",
            "Revenue Growth           331\n",
            "Earning per Share        337\n",
            "Price to Earning           0\n",
            "Debt to Equity             0\n",
            "Free Cash Flow           867\n",
            "Return on Equity         321\n",
            "Dividend Yield             0\n",
            "dtype: int64\n"
          ]
        }
      ]
    },
    {
      "cell_type": "markdown",
      "source": [
        "## Write DataFrame to CSV"
      ],
      "metadata": {
        "id": "8FG4GFVrsU7v"
      }
    },
    {
      "cell_type": "code",
      "source": [
        "csv_filename = \"fundamental_analysis.csv\"\n",
        "analysis.to_csv(csv_filename)"
      ],
      "metadata": {
        "id": "r9yFeFU5rBAQ"
      },
      "execution_count": 178,
      "outputs": []
    }
  ]
}